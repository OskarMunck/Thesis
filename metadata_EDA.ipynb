{
 "cells": [
  {
   "cell_type": "code",
   "execution_count": 1,
   "metadata": {},
   "outputs": [],
   "source": [
    "import pandas as pd\n",
    "import numpy as np\n",
    "import matplotlib.pyplot as plt\n",
    "import seaborn as sns\n",
    "%matplotlib inline"
   ]
  },
  {
   "attachments": {},
   "cell_type": "markdown",
   "metadata": {},
   "source": [
    "Fields and explanations in metadata.tsv :\n",
    "- show_uri :  Spotify uri for the show. e.g. `spotify:show:7gozmLqbcbr6PScMjc0Zl4`\n",
    "- show_name :  Name of the show. e.g. Reply All\n",
    "- show_description : Description of the show. e.g. \"'A podcast about the internet' that is actual…”\n",
    "- publisher : Publisher of the show. e.g. Gimlet\n",
    "- language : Language the show is in in BCP 47 format. e.g. [en]\n",
    "- rss_link: links of show rss feed. e.g. https://feeds.megaphone.fm/replyall\n",
    "- episode_uri : Spotify uri for the episode. e.g. `spotify:episode:4vYOibPeC270jJlnRoAVO6`\n",
    "- episode_name : Name of the episode. e.g. #109 Is Facebook Spying on You?\n",
    "- episode_description :\tDescription of the episode. e.g. “This year we’ve gotten one question more than …”\n",
    "- duration : duration of the episode in minutes. e.g. 31.680000\n",
    "- show_filename_prefix: Filename_prefix of the show. e.g. `show_7gozmLqbcbr6PScMjc0Zl4`\n",
    "- episode_filename_prefix: Filename_prefix of the episode. e.g. `4vYOibPeC270jJlnRoAVO6`"
   ]
  },
  {
   "cell_type": "code",
   "execution_count": 3,
   "metadata": {},
   "outputs": [
    {
     "name": "stdout",
     "output_type": "stream",
     "text": [
      "rows: 105360, columns: 12\n"
     ]
    },
    {
     "data": {
      "text/html": [
       "<div>\n",
       "<style scoped>\n",
       "    .dataframe tbody tr th:only-of-type {\n",
       "        vertical-align: middle;\n",
       "    }\n",
       "\n",
       "    .dataframe tbody tr th {\n",
       "        vertical-align: top;\n",
       "    }\n",
       "\n",
       "    .dataframe thead th {\n",
       "        text-align: right;\n",
       "    }\n",
       "</style>\n",
       "<table border=\"1\" class=\"dataframe\">\n",
       "  <thead>\n",
       "    <tr style=\"text-align: right;\">\n",
       "      <th></th>\n",
       "      <th>show_uri</th>\n",
       "      <th>show_name</th>\n",
       "      <th>show_description</th>\n",
       "      <th>publisher</th>\n",
       "      <th>language</th>\n",
       "      <th>rss_link</th>\n",
       "      <th>episode_uri</th>\n",
       "      <th>episode_name</th>\n",
       "      <th>episode_description</th>\n",
       "      <th>duration</th>\n",
       "      <th>show_filename_prefix</th>\n",
       "      <th>episode_filename_prefix</th>\n",
       "    </tr>\n",
       "  </thead>\n",
       "  <tbody>\n",
       "    <tr>\n",
       "      <th>0</th>\n",
       "      <td>spotify:show:2NYtxEZyYelR6RMKmjfPLB</td>\n",
       "      <td>Kream in your Koffee</td>\n",
       "      <td>A 20-something blunt female takes on the world...</td>\n",
       "      <td>Katie Houle</td>\n",
       "      <td>['en']</td>\n",
       "      <td>https://anchor.fm/s/11b84b68/podcast/rss</td>\n",
       "      <td>spotify:episode:000A9sRBYdVh66csG2qEdj</td>\n",
       "      <td>1: It’s Christmas Time!</td>\n",
       "      <td>On the first ever episode of Kream in your Kof...</td>\n",
       "      <td>12.700133</td>\n",
       "      <td>show_2NYtxEZyYelR6RMKmjfPLB</td>\n",
       "      <td>000A9sRBYdVh66csG2qEdj</td>\n",
       "    </tr>\n",
       "    <tr>\n",
       "      <th>1</th>\n",
       "      <td>spotify:show:15iWCbU7QoO23EndPEO6aN</td>\n",
       "      <td>Morning Cup Of Murder</td>\n",
       "      <td>Ever wonder what murder took place on today in...</td>\n",
       "      <td>Morning Cup Of Murder</td>\n",
       "      <td>['en']</td>\n",
       "      <td>https://anchor.fm/s/b07181c/podcast/rss</td>\n",
       "      <td>spotify:episode:000HP8n3hNIfglT2wSI2cA</td>\n",
       "      <td>The Goleta Postal Facility shootings- January ...</td>\n",
       "      <td>See something, say something. It’s a mantra ma...</td>\n",
       "      <td>6.019383</td>\n",
       "      <td>show_15iWCbU7QoO23EndPEO6aN</td>\n",
       "      <td>000HP8n3hNIfglT2wSI2cA</td>\n",
       "    </tr>\n",
       "    <tr>\n",
       "      <th>2</th>\n",
       "      <td>spotify:show:6vZRgUFTYwbAA79UNCADr4</td>\n",
       "      <td>Inside The 18 : A Podcast for Goalkeepers by G...</td>\n",
       "      <td>Inside the 18 is your source for all things Go...</td>\n",
       "      <td>Inside the 18 GK Media</td>\n",
       "      <td>['en']</td>\n",
       "      <td>https://anchor.fm/s/81a072c/podcast/rss</td>\n",
       "      <td>spotify:episode:001UfOruzkA3Bn1SPjcdfa</td>\n",
       "      <td>Ep.36 - Incorporating a Singular Goalkeeping C...</td>\n",
       "      <td>Today’s episode is a sit down Michael and Omar...</td>\n",
       "      <td>43.616333</td>\n",
       "      <td>show_6vZRgUFTYwbAA79UNCADr4</td>\n",
       "      <td>001UfOruzkA3Bn1SPjcdfa</td>\n",
       "    </tr>\n",
       "  </tbody>\n",
       "</table>\n",
       "</div>"
      ],
      "text/plain": [
       "                              show_uri  \\\n",
       "0  spotify:show:2NYtxEZyYelR6RMKmjfPLB   \n",
       "1  spotify:show:15iWCbU7QoO23EndPEO6aN   \n",
       "2  spotify:show:6vZRgUFTYwbAA79UNCADr4   \n",
       "\n",
       "                                           show_name  \\\n",
       "0                               Kream in your Koffee   \n",
       "1                              Morning Cup Of Murder   \n",
       "2  Inside The 18 : A Podcast for Goalkeepers by G...   \n",
       "\n",
       "                                    show_description               publisher  \\\n",
       "0  A 20-something blunt female takes on the world...             Katie Houle   \n",
       "1  Ever wonder what murder took place on today in...   Morning Cup Of Murder   \n",
       "2  Inside the 18 is your source for all things Go...  Inside the 18 GK Media   \n",
       "\n",
       "  language                                  rss_link  \\\n",
       "0   ['en']  https://anchor.fm/s/11b84b68/podcast/rss   \n",
       "1   ['en']   https://anchor.fm/s/b07181c/podcast/rss   \n",
       "2   ['en']   https://anchor.fm/s/81a072c/podcast/rss   \n",
       "\n",
       "                              episode_uri  \\\n",
       "0  spotify:episode:000A9sRBYdVh66csG2qEdj   \n",
       "1  spotify:episode:000HP8n3hNIfglT2wSI2cA   \n",
       "2  spotify:episode:001UfOruzkA3Bn1SPjcdfa   \n",
       "\n",
       "                                        episode_name  \\\n",
       "0                            1: It’s Christmas Time!   \n",
       "1  The Goleta Postal Facility shootings- January ...   \n",
       "2  Ep.36 - Incorporating a Singular Goalkeeping C...   \n",
       "\n",
       "                                 episode_description   duration  \\\n",
       "0  On the first ever episode of Kream in your Kof...  12.700133   \n",
       "1  See something, say something. It’s a mantra ma...   6.019383   \n",
       "2  Today’s episode is a sit down Michael and Omar...  43.616333   \n",
       "\n",
       "          show_filename_prefix episode_filename_prefix  \n",
       "0  show_2NYtxEZyYelR6RMKmjfPLB  000A9sRBYdVh66csG2qEdj  \n",
       "1  show_15iWCbU7QoO23EndPEO6aN  000HP8n3hNIfglT2wSI2cA  \n",
       "2  show_6vZRgUFTYwbAA79UNCADr4  001UfOruzkA3Bn1SPjcdfa  "
      ]
     },
     "execution_count": 3,
     "metadata": {},
     "output_type": "execute_result"
    }
   ],
   "source": [
    "meta_data = pd.read_csv(\"metadata.tsv\", sep = \"\\t\")\n",
    "print(f\"rows: {meta_data.shape[0]}, columns: {meta_data.shape[1]}\")\n",
    "meta_data.head(3)"
   ]
  },
  {
   "cell_type": "code",
   "execution_count": 3,
   "metadata": {},
   "outputs": [
    {
     "name": "stdout",
     "output_type": "stream",
     "text": [
      "\u001b[1m Column   Unique values \u001b[0m\n",
      "show_uri,    18376\n",
      "show_name,    18290\n",
      "show_description,    18322\n",
      "publisher,    17490\n",
      "language,    20\n",
      "rss_link,    18376\n",
      "episode_uri,    105360\n",
      "episode_name,    103660\n",
      "episode_description,    100879\n",
      "duration,    90916\n",
      "show_filename_prefix,    18376\n",
      "episode_filename_prefix,    105360\n"
     ]
    }
   ],
   "source": [
    "# Number of unique values in each col\n",
    "print(\"\\033[1m\", \"Column   Unique values\", \"\\033[0m\")\n",
    "for column in meta_data.columns:\n",
    "    print(f\"{column},    {len(meta_data[column].unique())}\")\n",
    "    "
   ]
  },
  {
   "attachments": {},
   "cell_type": "markdown",
   "metadata": {},
   "source": [
    "**Observations**\n",
    "- 20 languages\n",
    "- About 2000 podcasts have the same name (diff episode_uri and episode_name)\n",
    "- There are 32 more show descriptions than unique shows\n"
   ]
  },
  {
   "cell_type": "code",
   "execution_count": 4,
   "metadata": {},
   "outputs": [
    {
     "name": "stdout",
     "output_type": "stream",
     "text": [
      "[\"['en']\" \"['en-US']\" \"['en-AU']\" \"['en-CA']\" \"['en-GB']\" \"['en-NZ']\"\n",
      " \"['en-IE']\" \"['ms']\" \"['en-PH']\" \"['ta']\" \"['en-ZA']\" \"['id']\"\n",
      " \"['nl-BE']\" \"['ga']\" \"['en-JM']\" \"['hi']\" \"['ml']\" \"['en-IN']\" \"['es']\"\n",
      " \"['pt']\"]\n",
      "Mostly variations of english\n"
     ]
    }
   ],
   "source": [
    "print(meta_data.language.unique())\n",
    "print(\"Mostly variations of english\")"
   ]
  },
  {
   "cell_type": "code",
   "execution_count": 5,
   "metadata": {},
   "outputs": [
    {
     "data": {
      "text/plain": [
       "show_uri                     0\n",
       "show_name                    0\n",
       "show_description             2\n",
       "publisher                    0\n",
       "language                     0\n",
       "rss_link                     0\n",
       "episode_uri                  0\n",
       "episode_name                 0\n",
       "episode_description        205\n",
       "duration                     0\n",
       "show_filename_prefix         0\n",
       "episode_filename_prefix      0\n",
       "dtype: int64"
      ]
     },
     "execution_count": 5,
     "metadata": {},
     "output_type": "execute_result"
    }
   ],
   "source": [
    "# Any missing values?\n",
    "meta_data.isna().sum()"
   ]
  },
  {
   "cell_type": "code",
   "execution_count": 17,
   "metadata": {},
   "outputs": [
    {
     "name": "stdout",
     "output_type": "stream",
     "text": [
      "Number of unique shows: 18290\n",
      "Number of unique show descriptions: 18322\n",
      "Max no episodes of one show: 1072, Min: 1\n",
      "Numer of shows represented by only one episode: 8632\n",
      "Numer of shows represented by less than 10 episodes: 16354\n"
     ]
    },
    {
     "data": {
      "image/png": "[encoded data removed]",
      "text/plain": [
       "<Figure size 640x480 with 1 Axes>"
      ]
     },
     "metadata": {},
     "output_type": "display_data"
    }
   ],
   "source": [
    "print(f\"Number of unique shows: {len(meta_data.show_name.unique())}\")\n",
    "print(f\"Number of unique show descriptions: {len(meta_data.show_description.unique())}\")\n",
    "# 32 rows are not coherent with rest of dataset. Drop?\n",
    "\n",
    "# Check out episodes per show distribution\n",
    "ep_per_show = meta_data.groupby(meta_data.show_name)[\"show_name\"].count()\n",
    "print(f\"Max no episodes of one show: {max(ep_per_show.values)}, Min: 1\")\n",
    "one = ep_per_show[ep_per_show == 1]\n",
    "print(f\"Numer of shows represented by only one episode: {len(one)}\")\n",
    "ten = ep_per_show[ep_per_show <= 10]\n",
    "print(f\"Numer of shows represented by less than 10 episodes: {len(ten)}\")\n",
    "\n",
    "\n",
    "ep_per_show = ep_per_show.sort_values(ascending=False)\n",
    "# ep_per_show.head(20)\n",
    "\n",
    "# plot dist of episodes represented by less than 200 episodes\n",
    "two_hundred = ep_per_show[ep_per_show <= 200]\n",
    "\n",
    "ax = sns.histplot(x = ep_per_show.values, log_scale = (True, True), bins=len(ep_per_show.unique()), kde = True)\n",
    "ax.set_xlabel(\"Number of episodes per show\")\n",
    "ax.set_ylabel(\"Frequency\")\n",
    "ax.set_title(\"Distribution of episodes per show\")\n",
    "plt.savefig(fname=\"eps_per_show.png\")"
   ]
  },
  {
   "cell_type": "code",
   "execution_count": 15,
   "metadata": {},
   "outputs": [
    {
     "name": "stdout",
     "output_type": "stream",
     "text": [
      "Min length of podcast: 0.18 min\n",
      "Max length of podcast: 304.95 min\n"
     ]
    },
    {
     "data": {
      "image/png": "[encoded data removed]",
      "text/plain": [
       "<Figure size 640x480 with 1 Axes>"
      ]
     },
     "metadata": {},
     "output_type": "display_data"
    }
   ],
   "source": [
    "# Duration distribution\n",
    "print(f\"Min length of podcast: {min(meta_data.duration):.2f} min\\nMax length of podcast: {max(meta_data.duration):.2f} min\")\n",
    "\n",
    "ax = sns.histplot(x=meta_data.duration, log_scale=(False, True), discrete=True)\n",
    "ax.set_title(\"Duration distribution. Most podcasts <= 90 min\")\n",
    "ax.set_xlabel(\"Duration, min\")\n",
    "ax.axvline(x=90, color = \"red\", linestyle = \"--\", label=\"90 minutes\")\n",
    "ax.legend()\n",
    "\n",
    "plt.savefig(fname=\"duration_dist.png\") # save"
   ]
  },
  {
   "cell_type": "code",
   "execution_count": null,
   "metadata": {},
   "outputs": [],
   "source": []
  }
 ],
 "metadata": {
  "kernelspec": {
   "display_name": "base",
   "language": "python",
   "name": "python3"
  },
  "language_info": {
   "codemirror_mode": {
    "name": "ipython",
    "version": 3
   },
   "file_extension": ".py",
   "mimetype": "text/x-python",
   "name": "python",
   "nbconvert_exporter": "python",
   "pygments_lexer": "ipython3",
   "version": "3.9.13"
  },
  "orig_nbformat": 4,
  "vscode": {
   "interpreter": {
    "hash": "2703f8c9ab1ac04b22966d975602a3b2e9be2d364f571b124b77afe9344d7a81"
   }
  }
 },
 "nbformat": 4,
 "nbformat_minor": 2
}
