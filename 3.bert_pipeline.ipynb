{
 "cells": [
  {
   "attachments": {},
   "cell_type": "markdown",
   "metadata": {},
   "source": [
    "# First step in pipeline\n",
    "**Load HDBSCAN and t-SNE models and find probabilities for all sentences in a document. The output of this file will be used in the segmentation**"
   ]
  },
  {
   "cell_type": "code",
   "execution_count": 1,
   "metadata": {},
   "outputs": [],
   "source": [
    "import os\n",
    "import pickle\n",
    "import hdbscan\n",
    "import numpy as np\n",
    "import pandas as pd\n",
    "from openTSNE import TSNE\n",
    "from bertopic import BERTopic\n",
    "from sklearn.decomposition import PCA\n",
    "from sentence_transformers import SentenceTransformer"
   ]
  },
  {
   "cell_type": "code",
   "execution_count": 6,
   "metadata": {},
   "outputs": [],
   "source": [
    "# load PCA class object\n",
    "with open('pca_model_50.pkl', 'rb') as inp:\n",
    "    PCA_model = pickle.load(inp)"
   ]
  },
  {
   "cell_type": "code",
   "execution_count": 3,
   "metadata": {},
   "outputs": [],
   "source": [
    "# load t-SNE class object\n",
    "with open('sentence_tsne_data_.pkl', 'rb') as inp:\n",
    "    tsne_data = pickle.load(inp)"
   ]
  },
  {
   "cell_type": "code",
   "execution_count": 4,
   "metadata": {},
   "outputs": [],
   "source": [
    "# load cluster model\n",
    "with open('sentence_hdbscan_model.pkl', 'rb') as inp:\n",
    "    hdbscan_model = pickle.load(inp)"
   ]
  },
  {
   "cell_type": "code",
   "execution_count": 7,
   "metadata": {},
   "outputs": [
    {
     "name": "stdout",
     "output_type": "stream",
     "text": [
      "51.06% of the variance has been removed by PCA for transcript 7A7swZJL0AtFghauiGLadV\n",
      "===> Finding 15 nearest neighbors in existing embedding using Annoy approximate search...\n",
      "   --> Time elapsed: 4.36 seconds\n",
      "===> Calculating affinity matrix...\n",
      "   --> Time elapsed: 0.04 seconds\n",
      "===> Running optimization with exaggeration=4.00, lr=0.10 for 0 iterations...\n",
      "   --> Time elapsed: 0.00 seconds\n",
      "===> Running optimization with exaggeration=1.50, lr=0.10 for 250 iterations...\n",
      "Iteration   50, KL divergence 1294.9848, 50 iterations in 31.2757 sec\n",
      "Iteration  100, KL divergence 1265.0461, 50 iterations in 31.1954 sec\n",
      "Iteration  150, KL divergence 1250.5674, 50 iterations in 33.2270 sec\n",
      "Iteration  200, KL divergence 1244.0025, 50 iterations in 32.7587 sec\n",
      "Iteration  250, KL divergence 1243.6578, 50 iterations in 40.4830 sec\n",
      "   --> Time elapsed: 168.94 seconds\n",
      "nrows: 98\n",
      "ncols: 470\n",
      "Number of nan rows: 0 for 7A7swZJL0AtFghauiGLadV\n",
      "\n",
      "\n",
      "51.06% of the variance has been removed by PCA for transcript 5Sg6efUjypR4m6p9eYBXpm\n",
      "===> Finding 15 nearest neighbors in existing embedding using Annoy approximate search...\n",
      "   --> Time elapsed: 4.62 seconds\n",
      "===> Calculating affinity matrix...\n",
      "   --> Time elapsed: 0.02 seconds\n",
      "===> Running optimization with exaggeration=4.00, lr=0.10 for 0 iterations...\n",
      "   --> Time elapsed: 0.00 seconds\n",
      "===> Running optimization with exaggeration=1.50, lr=0.10 for 250 iterations...\n",
      "Iteration   50, KL divergence 5434.2056, 50 iterations in 32.3340 sec\n",
      "Iteration  100, KL divergence 5333.0650, 50 iterations in 34.3285 sec\n",
      "Iteration  150, KL divergence 5295.6012, 50 iterations in 34.7799 sec\n",
      "Iteration  200, KL divergence 5286.3102, 50 iterations in 40.2131 sec\n",
      "Iteration  250, KL divergence 5279.5424, 50 iterations in 40.1850 sec\n",
      "   --> Time elapsed: 181.84 seconds\n",
      "nrows: 379\n",
      "ncols: 470\n",
      "Number of nan rows: 0 for 5Sg6efUjypR4m6p9eYBXpm\n",
      "\n",
      "\n",
      "51.06% of the variance has been removed by PCA for transcript 3DR5Qa40Mc17AiBYfmC29U\n",
      "===> Finding 15 nearest neighbors in existing embedding using Annoy approximate search...\n",
      "   --> Time elapsed: 1.07 seconds\n",
      "===> Calculating affinity matrix...\n",
      "   --> Time elapsed: 0.01 seconds\n",
      "===> Running optimization with exaggeration=4.00, lr=0.10 for 0 iterations...\n",
      "   --> Time elapsed: 0.00 seconds\n",
      "===> Running optimization with exaggeration=1.50, lr=0.10 for 250 iterations...\n",
      "Iteration   50, KL divergence 3049.5143, 50 iterations in 31.2576 sec\n",
      "Iteration  100, KL divergence 2979.7415, 50 iterations in 31.8461 sec\n",
      "Iteration  150, KL divergence 2963.5479, 50 iterations in 37.0350 sec\n",
      "Iteration  200, KL divergence 2960.0050, 50 iterations in 38.1753 sec\n",
      "Iteration  250, KL divergence 2954.1690, 50 iterations in 41.5968 sec\n",
      "   --> Time elapsed: 179.92 seconds\n"
     ]
    },
    {
     "name": "stderr",
     "output_type": "stream",
     "text": [
      "/Users/oskarmunckafrosenschold/Documents/Thesis/thesisenv/lib/python3.10/site-packages/hdbscan/prediction.py:581: RuntimeWarning: All-NaN slice encountered\n",
      "  outlier_vec = outlier_membership_vector(\n"
     ]
    },
    {
     "name": "stdout",
     "output_type": "stream",
     "text": [
      "nrows: 223\n",
      "ncols: 470\n",
      "Number of nan rows: 6 for 3DR5Qa40Mc17AiBYfmC29U\n",
      "\n",
      "\n",
      "51.06% of the variance has been removed by PCA for transcript 0bXWB28GwN8OiqC1ykRrRX\n",
      "===> Finding 15 nearest neighbors in existing embedding using Annoy approximate search...\n",
      "   --> Time elapsed: 2.46 seconds\n",
      "===> Calculating affinity matrix...\n",
      "   --> Time elapsed: 0.01 seconds\n",
      "===> Running optimization with exaggeration=4.00, lr=0.10 for 0 iterations...\n",
      "   --> Time elapsed: 0.00 seconds\n",
      "===> Running optimization with exaggeration=1.50, lr=0.10 for 250 iterations...\n",
      "Iteration   50, KL divergence 8453.1513, 50 iterations in 36.0985 sec\n",
      "Iteration  100, KL divergence 8281.5766, 50 iterations in 31.4605 sec\n",
      "Iteration  150, KL divergence 8233.4261, 50 iterations in 32.9959 sec\n",
      "Iteration  200, KL divergence 8212.3571, 50 iterations in 31.2729 sec\n",
      "Iteration  250, KL divergence 8196.5726, 50 iterations in 30.1004 sec\n",
      "   --> Time elapsed: 161.93 seconds\n"
     ]
    },
    {
     "name": "stderr",
     "output_type": "stream",
     "text": [
      "/Users/oskarmunckafrosenschold/Documents/Thesis/thesisenv/lib/python3.10/site-packages/hdbscan/prediction.py:581: RuntimeWarning: All-NaN slice encountered\n",
      "  outlier_vec = outlier_membership_vector(\n"
     ]
    },
    {
     "name": "stdout",
     "output_type": "stream",
     "text": [
      "nrows: 563\n",
      "ncols: 470\n",
      "Number of nan rows: 4 for 0bXWB28GwN8OiqC1ykRrRX\n",
      "\n",
      "\n",
      "51.06% of the variance has been removed by PCA for transcript 13NDTKL5ZGs8cb8dojW3bz\n",
      "===> Finding 15 nearest neighbors in existing embedding using Annoy approximate search...\n",
      "   --> Time elapsed: 0.67 seconds\n",
      "===> Calculating affinity matrix...\n",
      "   --> Time elapsed: 0.01 seconds\n",
      "===> Running optimization with exaggeration=4.00, lr=0.10 for 0 iterations...\n",
      "   --> Time elapsed: 0.00 seconds\n",
      "===> Running optimization with exaggeration=1.50, lr=0.10 for 250 iterations...\n",
      "Iteration   50, KL divergence 3107.0315, 50 iterations in 30.3416 sec\n",
      "Iteration  100, KL divergence 3048.2820, 50 iterations in 30.1698 sec\n",
      "Iteration  150, KL divergence 3032.4029, 50 iterations in 29.5258 sec\n",
      "Iteration  200, KL divergence 3027.5012, 50 iterations in 29.4216 sec\n",
      "Iteration  250, KL divergence 3026.7413, 50 iterations in 29.5344 sec\n",
      "   --> Time elapsed: 148.99 seconds\n"
     ]
    },
    {
     "name": "stderr",
     "output_type": "stream",
     "text": [
      "/Users/oskarmunckafrosenschold/Documents/Thesis/thesisenv/lib/python3.10/site-packages/hdbscan/prediction.py:581: RuntimeWarning: All-NaN slice encountered\n",
      "  outlier_vec = outlier_membership_vector(\n"
     ]
    },
    {
     "name": "stdout",
     "output_type": "stream",
     "text": [
      "nrows: 224\n",
      "ncols: 470\n",
      "Number of nan rows: 1 for 13NDTKL5ZGs8cb8dojW3bz\n",
      "\n",
      "\n",
      "51.06% of the variance has been removed by PCA for transcript 4DUIcbw3EZpeYUC2mcxV0D\n",
      "===> Finding 15 nearest neighbors in existing embedding using Annoy approximate search...\n",
      "   --> Time elapsed: 1.34 seconds\n",
      "===> Calculating affinity matrix...\n",
      "   --> Time elapsed: 0.01 seconds\n",
      "===> Running optimization with exaggeration=4.00, lr=0.10 for 0 iterations...\n",
      "   --> Time elapsed: 0.00 seconds\n",
      "===> Running optimization with exaggeration=1.50, lr=0.10 for 250 iterations...\n",
      "Iteration   50, KL divergence 3152.0477, 50 iterations in 29.3780 sec\n",
      "Iteration  100, KL divergence 3091.1465, 50 iterations in 29.3958 sec\n",
      "Iteration  150, KL divergence 3078.9011, 50 iterations in 29.4653 sec\n",
      "Iteration  200, KL divergence 3070.9519, 50 iterations in 29.6202 sec\n",
      "Iteration  250, KL divergence 3070.9063, 50 iterations in 29.2755 sec\n",
      "   --> Time elapsed: 147.14 seconds\n"
     ]
    },
    {
     "name": "stderr",
     "output_type": "stream",
     "text": [
      "/Users/oskarmunckafrosenschold/Documents/Thesis/thesisenv/lib/python3.10/site-packages/hdbscan/prediction.py:581: RuntimeWarning: All-NaN slice encountered\n",
      "  outlier_vec = outlier_membership_vector(\n"
     ]
    },
    {
     "name": "stdout",
     "output_type": "stream",
     "text": [
      "nrows: 229\n",
      "ncols: 470\n",
      "Number of nan rows: 2 for 4DUIcbw3EZpeYUC2mcxV0D\n",
      "\n",
      "\n",
      "51.06% of the variance has been removed by PCA for transcript 5ts4p0QlyePWCgIB2W1wLf\n",
      "===> Finding 15 nearest neighbors in existing embedding using Annoy approximate search...\n",
      "   --> Time elapsed: 0.59 seconds\n",
      "===> Calculating affinity matrix...\n",
      "   --> Time elapsed: 0.01 seconds\n",
      "===> Running optimization with exaggeration=4.00, lr=0.10 for 0 iterations...\n",
      "   --> Time elapsed: 0.00 seconds\n",
      "===> Running optimization with exaggeration=1.50, lr=0.10 for 250 iterations...\n",
      "Iteration   50, KL divergence 3141.9900, 50 iterations in 29.7954 sec\n",
      "Iteration  100, KL divergence 3082.3725, 50 iterations in 30.2343 sec\n",
      "Iteration  150, KL divergence 3066.4020, 50 iterations in 29.4734 sec\n",
      "Iteration  200, KL divergence 3061.5828, 50 iterations in 30.2332 sec\n",
      "Iteration  250, KL divergence 3058.7763, 50 iterations in 29.5353 sec\n",
      "   --> Time elapsed: 149.27 seconds\n"
     ]
    },
    {
     "name": "stderr",
     "output_type": "stream",
     "text": [
      "/Users/oskarmunckafrosenschold/Documents/Thesis/thesisenv/lib/python3.10/site-packages/hdbscan/prediction.py:581: RuntimeWarning: All-NaN slice encountered\n",
      "  outlier_vec = outlier_membership_vector(\n"
     ]
    },
    {
     "name": "stdout",
     "output_type": "stream",
     "text": [
      "nrows: 234\n",
      "ncols: 470\n",
      "Number of nan rows: 12 for 5ts4p0QlyePWCgIB2W1wLf\n",
      "\n",
      "\n",
      "51.06% of the variance has been removed by PCA for transcript 19W5dgUcFseQZBmcVF4coc\n",
      "===> Finding 15 nearest neighbors in existing embedding using Annoy approximate search...\n",
      "   --> Time elapsed: 0.50 seconds\n",
      "===> Calculating affinity matrix...\n",
      "   --> Time elapsed: 0.01 seconds\n",
      "===> Running optimization with exaggeration=4.00, lr=0.10 for 0 iterations...\n",
      "   --> Time elapsed: 0.00 seconds\n",
      "===> Running optimization with exaggeration=1.50, lr=0.10 for 250 iterations...\n",
      "Iteration   50, KL divergence 2525.4591, 50 iterations in 29.3676 sec\n",
      "Iteration  100, KL divergence 2472.5841, 50 iterations in 29.5732 sec\n",
      "Iteration  150, KL divergence 2464.7899, 50 iterations in 29.3126 sec\n",
      "Iteration  200, KL divergence 2460.4571, 50 iterations in 30.2591 sec\n",
      "Iteration  250, KL divergence 2460.4342, 50 iterations in 29.4378 sec\n",
      "   --> Time elapsed: 147.95 seconds\n"
     ]
    },
    {
     "name": "stderr",
     "output_type": "stream",
     "text": [
      "/Users/oskarmunckafrosenschold/Documents/Thesis/thesisenv/lib/python3.10/site-packages/hdbscan/prediction.py:581: RuntimeWarning: All-NaN slice encountered\n",
      "  outlier_vec = outlier_membership_vector(\n"
     ]
    },
    {
     "name": "stdout",
     "output_type": "stream",
     "text": [
      "nrows: 191\n",
      "ncols: 470\n",
      "Number of nan rows: 1 for 19W5dgUcFseQZBmcVF4coc\n",
      "\n",
      "\n",
      "51.06% of the variance has been removed by PCA for transcript 3iydyD9rAb1f6rmvmgpwS4\n",
      "===> Finding 15 nearest neighbors in existing embedding using Annoy approximate search...\n",
      "   --> Time elapsed: 0.88 seconds\n",
      "===> Calculating affinity matrix...\n",
      "   --> Time elapsed: 0.01 seconds\n",
      "===> Running optimization with exaggeration=4.00, lr=0.10 for 0 iterations...\n",
      "   --> Time elapsed: 0.00 seconds\n",
      "===> Running optimization with exaggeration=1.50, lr=0.10 for 250 iterations...\n",
      "Iteration   50, KL divergence 6417.6438, 50 iterations in 29.5845 sec\n",
      "Iteration  100, KL divergence 6289.8428, 50 iterations in 29.6887 sec\n",
      "Iteration  150, KL divergence 6251.9629, 50 iterations in 31.1008 sec\n",
      "Iteration  200, KL divergence 6236.5268, 50 iterations in 29.7457 sec\n",
      "Iteration  250, KL divergence 6233.2843, 50 iterations in 29.7176 sec\n",
      "   --> Time elapsed: 149.84 seconds\n"
     ]
    },
    {
     "name": "stderr",
     "output_type": "stream",
     "text": [
      "/Users/oskarmunckafrosenschold/Documents/Thesis/thesisenv/lib/python3.10/site-packages/hdbscan/prediction.py:581: RuntimeWarning: All-NaN slice encountered\n",
      "  outlier_vec = outlier_membership_vector(\n"
     ]
    },
    {
     "name": "stdout",
     "output_type": "stream",
     "text": [
      "nrows: 447\n",
      "ncols: 470\n",
      "Number of nan rows: 4 for 3iydyD9rAb1f6rmvmgpwS4\n",
      "\n",
      "\n",
      "51.06% of the variance has been removed by PCA for transcript 3RT2j2BG8ILNYKjxsNhfvZ\n",
      "===> Finding 15 nearest neighbors in existing embedding using Annoy approximate search...\n",
      "   --> Time elapsed: 0.91 seconds\n",
      "===> Calculating affinity matrix...\n",
      "   --> Time elapsed: 0.01 seconds\n",
      "===> Running optimization with exaggeration=4.00, lr=0.10 for 0 iterations...\n",
      "   --> Time elapsed: 0.00 seconds\n",
      "===> Running optimization with exaggeration=1.50, lr=0.10 for 250 iterations...\n",
      "Iteration   50, KL divergence 5084.4325, 50 iterations in 29.4411 sec\n",
      "Iteration  100, KL divergence 5016.6478, 50 iterations in 29.7401 sec\n",
      "Iteration  150, KL divergence 4981.7215, 50 iterations in 29.5939 sec\n",
      "Iteration  200, KL divergence 4967.6708, 50 iterations in 29.7924 sec\n",
      "Iteration  250, KL divergence 4961.9712, 50 iterations in 29.6422 sec\n",
      "   --> Time elapsed: 148.21 seconds\n"
     ]
    },
    {
     "name": "stderr",
     "output_type": "stream",
     "text": [
      "/Users/oskarmunckafrosenschold/Documents/Thesis/thesisenv/lib/python3.10/site-packages/hdbscan/prediction.py:581: RuntimeWarning: All-NaN slice encountered\n",
      "  outlier_vec = outlier_membership_vector(\n"
     ]
    },
    {
     "name": "stdout",
     "output_type": "stream",
     "text": [
      "nrows: 368\n",
      "ncols: 470\n",
      "Number of nan rows: 11 for 3RT2j2BG8ILNYKjxsNhfvZ\n",
      "\n",
      "\n",
      "51.06% of the variance has been removed by PCA for transcript 4y67J0Fmgm5L7TPPsUunwo\n",
      "===> Finding 15 nearest neighbors in existing embedding using Annoy approximate search...\n",
      "   --> Time elapsed: 0.84 seconds\n",
      "===> Calculating affinity matrix...\n",
      "   --> Time elapsed: 0.01 seconds\n",
      "===> Running optimization with exaggeration=4.00, lr=0.10 for 0 iterations...\n",
      "   --> Time elapsed: 0.00 seconds\n",
      "===> Running optimization with exaggeration=1.50, lr=0.10 for 250 iterations...\n",
      "Iteration   50, KL divergence 3794.2064, 50 iterations in 30.9500 sec\n",
      "Iteration  100, KL divergence 3711.3756, 50 iterations in 30.3168 sec\n",
      "Iteration  150, KL divergence 3684.9336, 50 iterations in 31.5529 sec\n",
      "Iteration  200, KL divergence 3678.0256, 50 iterations in 30.2357 sec\n",
      "Iteration  250, KL divergence 3671.0109, 50 iterations in 29.7529 sec\n",
      "   --> Time elapsed: 152.81 seconds\n"
     ]
    },
    {
     "name": "stderr",
     "output_type": "stream",
     "text": [
      "/Users/oskarmunckafrosenschold/Documents/Thesis/thesisenv/lib/python3.10/site-packages/hdbscan/prediction.py:581: RuntimeWarning: All-NaN slice encountered\n",
      "  outlier_vec = outlier_membership_vector(\n"
     ]
    },
    {
     "name": "stdout",
     "output_type": "stream",
     "text": [
      "nrows: 270\n",
      "ncols: 470\n",
      "Number of nan rows: 2 for 4y67J0Fmgm5L7TPPsUunwo\n",
      "\n",
      "\n",
      "51.06% of the variance has been removed by PCA for transcript 6preEOWrgR9eRr938upFgv\n",
      "===> Finding 15 nearest neighbors in existing embedding using Annoy approximate search...\n",
      "   --> Time elapsed: 1.09 seconds\n",
      "===> Calculating affinity matrix...\n",
      "   --> Time elapsed: 0.01 seconds\n",
      "===> Running optimization with exaggeration=4.00, lr=0.10 for 0 iterations...\n",
      "   --> Time elapsed: 0.00 seconds\n",
      "===> Running optimization with exaggeration=1.50, lr=0.10 for 250 iterations...\n",
      "Iteration   50, KL divergence 8697.8447, 50 iterations in 29.7332 sec\n",
      "Iteration  100, KL divergence 8520.1343, 50 iterations in 30.3540 sec\n",
      "Iteration  150, KL divergence 8475.6687, 50 iterations in 29.7837 sec\n",
      "Iteration  200, KL divergence 8464.7138, 50 iterations in 29.6736 sec\n",
      "Iteration  250, KL divergence 8464.4083, 50 iterations in 29.8396 sec\n",
      "   --> Time elapsed: 149.39 seconds\n"
     ]
    },
    {
     "name": "stderr",
     "output_type": "stream",
     "text": [
      "/Users/oskarmunckafrosenschold/Documents/Thesis/thesisenv/lib/python3.10/site-packages/hdbscan/prediction.py:581: RuntimeWarning: All-NaN slice encountered\n",
      "  outlier_vec = outlier_membership_vector(\n"
     ]
    },
    {
     "name": "stdout",
     "output_type": "stream",
     "text": [
      "nrows: 599\n",
      "ncols: 470\n",
      "Number of nan rows: 20 for 6preEOWrgR9eRr938upFgv\n",
      "\n",
      "\n",
      "51.06% of the variance has been removed by PCA for transcript 28IWswylk2FvkebOehoCkL\n",
      "===> Finding 15 nearest neighbors in existing embedding using Annoy approximate search...\n",
      "   --> Time elapsed: 0.38 seconds\n",
      "===> Calculating affinity matrix...\n",
      "   --> Time elapsed: 0.01 seconds\n",
      "===> Running optimization with exaggeration=4.00, lr=0.10 for 0 iterations...\n",
      "   --> Time elapsed: 0.00 seconds\n",
      "===> Running optimization with exaggeration=1.50, lr=0.10 for 250 iterations...\n",
      "Iteration   50, KL divergence 4968.1503, 50 iterations in 30.8625 sec\n",
      "Iteration  100, KL divergence 4889.5513, 50 iterations in 34.1287 sec\n",
      "Iteration  150, KL divergence 4857.2517, 50 iterations in 33.1419 sec\n",
      "Iteration  200, KL divergence 4851.3162, 50 iterations in 30.4855 sec\n",
      "Iteration  250, KL divergence 4846.4950, 50 iterations in 29.5409 sec\n",
      "   --> Time elapsed: 158.16 seconds\n"
     ]
    },
    {
     "name": "stderr",
     "output_type": "stream",
     "text": [
      "/Users/oskarmunckafrosenschold/Documents/Thesis/thesisenv/lib/python3.10/site-packages/hdbscan/prediction.py:581: RuntimeWarning: All-NaN slice encountered\n",
      "  outlier_vec = outlier_membership_vector(\n"
     ]
    },
    {
     "name": "stdout",
     "output_type": "stream",
     "text": [
      "nrows: 351\n",
      "ncols: 470\n",
      "Number of nan rows: 12 for 28IWswylk2FvkebOehoCkL\n",
      "\n",
      "\n",
      "51.06% of the variance has been removed by PCA for transcript 2Bp5vd9GAmEpZzjEtGQBFD\n",
      "===> Finding 15 nearest neighbors in existing embedding using Annoy approximate search...\n",
      "   --> Time elapsed: 0.08 seconds\n",
      "===> Calculating affinity matrix...\n",
      "   --> Time elapsed: 0.00 seconds\n",
      "===> Running optimization with exaggeration=4.00, lr=0.10 for 0 iterations...\n",
      "   --> Time elapsed: 0.00 seconds\n",
      "===> Running optimization with exaggeration=1.50, lr=0.10 for 250 iterations...\n",
      "Iteration   50, KL divergence 614.9070, 50 iterations in 29.0636 sec\n",
      "Iteration  100, KL divergence 612.2848, 50 iterations in 29.1315 sec\n",
      "Iteration  150, KL divergence 609.9257, 50 iterations in 29.0124 sec\n",
      "Iteration  200, KL divergence 609.8837, 50 iterations in 29.1229 sec\n",
      "Iteration  250, KL divergence 609.8836, 50 iterations in 30.2615 sec\n",
      "   --> Time elapsed: 146.59 seconds\n",
      "nrows: 53\n",
      "ncols: 470\n",
      "Number of nan rows: 0 for 2Bp5vd9GAmEpZzjEtGQBFD\n",
      "\n",
      "\n",
      "51.06% of the variance has been removed by PCA for transcript 4pFaG2QLnDr95gqDQFEWoh\n",
      "===> Finding 15 nearest neighbors in existing embedding using Annoy approximate search...\n",
      "   --> Time elapsed: 0.41 seconds\n",
      "===> Calculating affinity matrix...\n",
      "   --> Time elapsed: 0.01 seconds\n",
      "===> Running optimization with exaggeration=4.00, lr=0.10 for 0 iterations...\n",
      "   --> Time elapsed: 0.00 seconds\n",
      "===> Running optimization with exaggeration=1.50, lr=0.10 for 250 iterations...\n",
      "Iteration   50, KL divergence 5531.5100, 50 iterations in 29.2253 sec\n",
      "Iteration  100, KL divergence 5432.7933, 50 iterations in 29.2864 sec\n",
      "Iteration  150, KL divergence 5396.7701, 50 iterations in 29.2278 sec\n",
      "Iteration  200, KL divergence 5378.3057, 50 iterations in 29.8053 sec\n",
      "Iteration  250, KL divergence 5375.4380, 50 iterations in 30.2822 sec\n",
      "   --> Time elapsed: 147.83 seconds\n"
     ]
    },
    {
     "name": "stderr",
     "output_type": "stream",
     "text": [
      "/Users/oskarmunckafrosenschold/Documents/Thesis/thesisenv/lib/python3.10/site-packages/hdbscan/prediction.py:581: RuntimeWarning: All-NaN slice encountered\n",
      "  outlier_vec = outlier_membership_vector(\n"
     ]
    },
    {
     "name": "stdout",
     "output_type": "stream",
     "text": [
      "nrows: 390\n",
      "ncols: 470\n",
      "Number of nan rows: 7 for 4pFaG2QLnDr95gqDQFEWoh\n",
      "\n",
      "\n",
      "51.06% of the variance has been removed by PCA for transcript 53DrbE5nPJskpPT0PtOi9O\n",
      "===> Finding 15 nearest neighbors in existing embedding using Annoy approximate search...\n",
      "   --> Time elapsed: 0.06 seconds\n",
      "===> Calculating affinity matrix...\n",
      "   --> Time elapsed: 0.00 seconds\n",
      "===> Running optimization with exaggeration=4.00, lr=0.10 for 0 iterations...\n",
      "   --> Time elapsed: 0.00 seconds\n",
      "===> Running optimization with exaggeration=1.50, lr=0.10 for 250 iterations...\n",
      "Iteration   50, KL divergence 946.8635, 50 iterations in 29.1961 sec\n",
      "Iteration  100, KL divergence 927.2398, 50 iterations in 29.1431 sec\n",
      "Iteration  150, KL divergence 921.0208, 50 iterations in 29.2254 sec\n",
      "Iteration  200, KL divergence 920.6364, 50 iterations in 29.2002 sec\n",
      "Iteration  250, KL divergence 920.6362, 50 iterations in 29.2409 sec\n",
      "   --> Time elapsed: 146.01 seconds\n",
      "nrows: 75\n",
      "ncols: 470\n",
      "Number of nan rows: 0 for 53DrbE5nPJskpPT0PtOi9O\n",
      "\n",
      "\n",
      "51.06% of the variance has been removed by PCA for transcript 0ZGQ63222rqX5TD5ZrMmcN\n",
      "===> Finding 15 nearest neighbors in existing embedding using Annoy approximate search...\n",
      "   --> Time elapsed: 0.60 seconds\n",
      "===> Calculating affinity matrix...\n",
      "   --> Time elapsed: 0.01 seconds\n",
      "===> Running optimization with exaggeration=4.00, lr=0.10 for 0 iterations...\n",
      "   --> Time elapsed: 0.00 seconds\n",
      "===> Running optimization with exaggeration=1.50, lr=0.10 for 250 iterations...\n",
      "Iteration   50, KL divergence 8733.8601, 50 iterations in 29.5665 sec\n",
      "Iteration  100, KL divergence 8580.1543, 50 iterations in 29.3648 sec\n",
      "Iteration  150, KL divergence 8528.9939, 50 iterations in 29.3683 sec\n",
      "Iteration  200, KL divergence 8508.5794, 50 iterations in 29.3025 sec\n",
      "Iteration  250, KL divergence 8500.2227, 50 iterations in 34.5675 sec\n",
      "   --> Time elapsed: 152.17 seconds\n"
     ]
    },
    {
     "name": "stderr",
     "output_type": "stream",
     "text": [
      "/Users/oskarmunckafrosenschold/Documents/Thesis/thesisenv/lib/python3.10/site-packages/hdbscan/prediction.py:581: RuntimeWarning: All-NaN slice encountered\n",
      "  outlier_vec = outlier_membership_vector(\n"
     ]
    },
    {
     "name": "stdout",
     "output_type": "stream",
     "text": [
      "nrows: 601\n",
      "ncols: 470\n",
      "Number of nan rows: 22 for 0ZGQ63222rqX5TD5ZrMmcN\n",
      "\n",
      "\n",
      "51.06% of the variance has been removed by PCA for transcript 7mv5E2yb2yVQU34OiQ1vqv\n",
      "===> Finding 15 nearest neighbors in existing embedding using Annoy approximate search...\n",
      "   --> Time elapsed: 1.18 seconds\n",
      "===> Calculating affinity matrix...\n",
      "   --> Time elapsed: 0.01 seconds\n",
      "===> Running optimization with exaggeration=4.00, lr=0.10 for 0 iterations...\n",
      "   --> Time elapsed: 0.00 seconds\n",
      "===> Running optimization with exaggeration=1.50, lr=0.10 for 250 iterations...\n",
      "Iteration   50, KL divergence 11041.5129, 50 iterations in 33.9136 sec\n",
      "Iteration  100, KL divergence 10846.0460, 50 iterations in 33.9683 sec\n",
      "Iteration  150, KL divergence 10773.4136, 50 iterations in 33.3661 sec\n",
      "Iteration  200, KL divergence 10747.1482, 50 iterations in 31.9839 sec\n",
      "Iteration  250, KL divergence 10737.6245, 50 iterations in 32.7934 sec\n",
      "   --> Time elapsed: 166.03 seconds\n"
     ]
    },
    {
     "name": "stderr",
     "output_type": "stream",
     "text": [
      "/Users/oskarmunckafrosenschold/Documents/Thesis/thesisenv/lib/python3.10/site-packages/hdbscan/prediction.py:581: RuntimeWarning: All-NaN slice encountered\n",
      "  outlier_vec = outlier_membership_vector(\n"
     ]
    },
    {
     "name": "stdout",
     "output_type": "stream",
     "text": [
      "nrows: 747\n",
      "ncols: 470\n",
      "Number of nan rows: 32 for 7mv5E2yb2yVQU34OiQ1vqv\n",
      "\n",
      "\n",
      "51.06% of the variance has been removed by PCA for transcript 3p9FLEH5V5sCGHhGubaYZc\n",
      "===> Finding 15 nearest neighbors in existing embedding using Annoy approximate search...\n",
      "   --> Time elapsed: 0.98 seconds\n",
      "===> Calculating affinity matrix...\n",
      "   --> Time elapsed: 0.01 seconds\n",
      "===> Running optimization with exaggeration=4.00, lr=0.10 for 0 iterations...\n",
      "   --> Time elapsed: 0.00 seconds\n",
      "===> Running optimization with exaggeration=1.50, lr=0.10 for 250 iterations...\n",
      "Iteration   50, KL divergence 2612.3163, 50 iterations in 32.2327 sec\n",
      "Iteration  100, KL divergence 2565.5355, 50 iterations in 31.6417 sec\n",
      "Iteration  150, KL divergence 2548.1779, 50 iterations in 31.7197 sec\n",
      "Iteration  200, KL divergence 2546.6050, 50 iterations in 31.9051 sec\n",
      "Iteration  250, KL divergence 2544.1366, 50 iterations in 31.6155 sec\n",
      "   --> Time elapsed: 159.12 seconds\n",
      "nrows: 187\n",
      "ncols: 470\n",
      "Number of nan rows: 0 for 3p9FLEH5V5sCGHhGubaYZc\n",
      "\n",
      "\n",
      "51.06% of the variance has been removed by PCA for transcript 1VBbCB6ja5pPdU2wrBy27N\n",
      "===> Finding 15 nearest neighbors in existing embedding using Annoy approximate search...\n",
      "   --> Time elapsed: 4.96 seconds\n",
      "===> Calculating affinity matrix...\n",
      "   --> Time elapsed: 0.01 seconds\n",
      "===> Running optimization with exaggeration=4.00, lr=0.10 for 0 iterations...\n",
      "   --> Time elapsed: 0.00 seconds\n",
      "===> Running optimization with exaggeration=1.50, lr=0.10 for 250 iterations...\n",
      "Iteration   50, KL divergence 8209.8772, 50 iterations in 29.5919 sec\n",
      "Iteration  100, KL divergence 8086.8995, 50 iterations in 29.3433 sec\n",
      "Iteration  150, KL divergence 8018.1970, 50 iterations in 29.4495 sec\n",
      "Iteration  200, KL divergence 7994.9491, 50 iterations in 29.4101 sec\n",
      "Iteration  250, KL divergence 7972.2881, 50 iterations in 29.4182 sec\n",
      "   --> Time elapsed: 147.21 seconds\n"
     ]
    },
    {
     "name": "stderr",
     "output_type": "stream",
     "text": [
      "/Users/oskarmunckafrosenschold/Documents/Thesis/thesisenv/lib/python3.10/site-packages/hdbscan/prediction.py:581: RuntimeWarning: All-NaN slice encountered\n",
      "  outlier_vec = outlier_membership_vector(\n"
     ]
    },
    {
     "name": "stdout",
     "output_type": "stream",
     "text": [
      "nrows: 560\n",
      "ncols: 470\n",
      "Number of nan rows: 6 for 1VBbCB6ja5pPdU2wrBy27N\n",
      "\n",
      "\n"
     ]
    }
   ],
   "source": [
    "# loop through all of the annotated transcripts and save their topic probability distribution\n",
    "directory = '../Thesis/annotated_transcripts_input'\n",
    "\n",
    "for dirpath, _, files in os.walk(directory):\n",
    "    for file in files:\n",
    "        episode_id = file.split('_')[0]\n",
    "        path = os.path.join(dirpath, file)\n",
    "        with open(path, errors='replace') as f: \n",
    "            prediction_documents = pd.read_csv(f)\n",
    "            docs = prediction_documents.transcript_subset\n",
    "\n",
    "            # embedd\n",
    "            sentence_model = SentenceTransformer(\"all-MiniLM-L6-v2\")\n",
    "            embedded_sentences = sentence_model.encode(docs)\n",
    "\n",
    "            # reduce dimensions with PCA and t-SNE\n",
    "            PCA_data = PCA_model.transform(embedded_sentences)\n",
    "            print(f\"{1-sum(PCA_model.explained_variance_ratio_):.2%} of the variance has been removed by PCA for transcript {episode_id}\")\n",
    "            tsne_prediction = tsne_data.transform(PCA_data)\n",
    "\n",
    "            # get probability vectors for each cluster via soft clustering\n",
    "            probabilities = hdbscan.membership_vector(hdbscan_model, tsne_prediction)\n",
    "            print(f'nrows: {len(probabilities)}\\nncols: {len(probabilities[0])}')\n",
    "            # remedy HDBSCAN problem\n",
    "            inds = np.where(np.isnan(probabilities))\n",
    "            probabilities[inds] = 0\n",
    "            print(f\"Number of nan rows: {len(set(list(inds[:][0])))} for {episode_id}\\n\\n\")\n",
    "\n",
    "            # save probabilities to use in downstream segmentation\n",
    "            name_of_file = f'../Thesis/annotated_probabilities/topic_probability_density_vector_{episode_id}.npy'\n",
    "            np.save(name_of_file, probabilities)"
   ]
  },
  {
   "attachments": {},
   "cell_type": "markdown",
   "metadata": {},
   "source": [
    "### Code for individual transcript predicitons"
   ]
  },
  {
   "cell_type": "code",
   "execution_count": 2,
   "metadata": {},
   "outputs": [],
   "source": [
    "# load dataframe of one transcript with sentences as instances\n",
    "sentences = pd.read_csv('first_podcast.csv.gz', compression='gzip')\n",
    "documents = sentences.transcript_subset.to_list()"
   ]
  },
  {
   "cell_type": "code",
   "execution_count": 7,
   "metadata": {},
   "outputs": [],
   "source": [
    "# embedd\n",
    "sentence_model = SentenceTransformer(\"all-MiniLM-L6-v2\")\n",
    "embedded_sentences = sentence_model.encode(documents)"
   ]
  },
  {
   "cell_type": "code",
   "execution_count": 8,
   "metadata": {},
   "outputs": [
    {
     "name": "stdout",
     "output_type": "stream",
     "text": [
      "38.83% of the variance has been removed by PCA\n",
      "===> Finding 15 nearest neighbors in existing embedding using Annoy approximate search...\n",
      "   --> Time elapsed: 11.78 seconds\n",
      "===> Calculating affinity matrix...\n",
      "   --> Time elapsed: 0.03 seconds\n",
      "===> Running optimization with exaggeration=4.00, lr=0.10 for 0 iterations...\n",
      "   --> Time elapsed: 0.00 seconds\n",
      "===> Running optimization with exaggeration=1.50, lr=0.10 for 250 iterations...\n",
      "Iteration   50, KL divergence 9527.4070, 50 iterations in 70.7268 sec\n",
      "Iteration  100, KL divergence 9287.1780, 50 iterations in 92.7301 sec\n",
      "Iteration  150, KL divergence 9191.3463, 50 iterations in 104.2941 sec\n",
      "Iteration  200, KL divergence 9151.7852, 50 iterations in 87.6444 sec\n",
      "Iteration  250, KL divergence 9132.1676, 50 iterations in 86.1700 sec\n",
      "   --> Time elapsed: 441.57 seconds\n"
     ]
    }
   ],
   "source": [
    "# reduce dimensions with PCA and t-SNE\n",
    "PCA_model = PCA(n_components = 50)\n",
    "PCA_data = PCA_model.fit_transform(embedded_sentences)\n",
    "print(f\"{1-sum(PCA_model.explained_variance_ratio_):.2%} of the variance has been removed by PCA\")\n",
    "\n",
    "tsne_test = tsne_data.transform(PCA_data)"
   ]
  },
  {
   "cell_type": "code",
   "execution_count": 9,
   "metadata": {},
   "outputs": [
    {
     "name": "stderr",
     "output_type": "stream",
     "text": [
      "/Users/oskarmunckafrosenschold/Documents/Thesis/thesisenv/lib/python3.10/site-packages/hdbscan/prediction.py:581: RuntimeWarning: All-NaN slice encountered\n",
      "  outlier_vec = outlier_membership_vector(\n"
     ]
    },
    {
     "name": "stdout",
     "output_type": "stream",
     "text": [
      "nrows: 599\n",
      "ncols: 156\n"
     ]
    }
   ],
   "source": [
    "# get probability vectors for each cluster via soft clustering\n",
    "probabilities = hdbscan.membership_vector(hdbscan_model, tsne_test)\n",
    "print(f'nrows: {len(probabilities)}')\n",
    "print(f'ncols: {len(probabilities[0])}')\n",
    "# remedy for HDBSCAN problem\n",
    "inds = np.where(np.isnan(probabilities))\n",
    "probabilities[inds] = 0\n",
    "print(f\"Number of nan rows: {len(set(list(inds[:][0])))}\")"
   ]
  },
  {
   "cell_type": "code",
   "execution_count": 11,
   "metadata": {},
   "outputs": [],
   "source": [
    "# save probabilities to use in segmentation\n",
    "np.save('probabilities.npy', probabilities)"
   ]
  }
 ],
 "metadata": {
  "kernelspec": {
   "display_name": "Python 3",
   "language": "python",
   "name": "python3"
  },
  "language_info": {
   "codemirror_mode": {
    "name": "ipython",
    "version": 3
   },
   "file_extension": ".py",
   "mimetype": "text/x-python",
   "name": "python",
   "nbconvert_exporter": "python",
   "pygments_lexer": "ipython3",
   "version": "3.10.9"
  },
  "orig_nbformat": 4
 },
 "nbformat": 4,
 "nbformat_minor": 2
}
