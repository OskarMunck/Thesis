{
 "cells": [
  {
   "attachments": {},
   "cell_type": "markdown",
   "metadata": {},
   "source": [
    "## File for visualising models"
   ]
  },
  {
   "cell_type": "code",
   "execution_count": 1,
   "metadata": {},
   "outputs": [
    {
     "name": "stderr",
     "output_type": "stream",
     "text": [
      "/Library/Frameworks/Python.framework/Versions/3.10/lib/python3.10/site-packages/tqdm/auto.py:22: TqdmWarning: IProgress not found. Please update jupyter and ipywidgets. See https://ipywidgets.readthedocs.io/en/stable/user_install.html\n",
      "  from .autonotebook import tqdm as notebook_tqdm\n"
     ]
    }
   ],
   "source": [
    "import numpy as np\n",
    "import pandas as pd\n",
    "import matplotlib.pyplot as plt\n",
    "import seaborn as sns\n",
    "from bertopic import BERTopic"
   ]
  },
  {
   "cell_type": "code",
   "execution_count": 2,
   "metadata": {},
   "outputs": [],
   "source": [
    "topic_model = BERTopic.load('BERT_v2.1')"
   ]
  },
  {
   "cell_type": "code",
   "execution_count": 3,
   "metadata": {},
   "outputs": [
    {
     "data": {
      "text/plain": [
       "1855"
      ]
     },
     "execution_count": 3,
     "metadata": {},
     "output_type": "execute_result"
    }
   ],
   "source": [
    "len(topic_model.get_topics())"
   ]
  },
  {
   "cell_type": "code",
   "execution_count": 6,
   "metadata": {},
   "outputs": [
    {
     "data": {
      "text/html": [
       "<div>\n",
       "<style scoped>\n",
       "    .dataframe tbody tr th:only-of-type {\n",
       "        vertical-align: middle;\n",
       "    }\n",
       "\n",
       "    .dataframe tbody tr th {\n",
       "        vertical-align: top;\n",
       "    }\n",
       "\n",
       "    .dataframe thead th {\n",
       "        text-align: right;\n",
       "    }\n",
       "</style>\n",
       "<table border=\"1\" class=\"dataframe\">\n",
       "  <thead>\n",
       "    <tr style=\"text-align: right;\">\n",
       "      <th></th>\n",
       "      <th>Topic</th>\n",
       "      <th>Count</th>\n",
       "      <th>Name</th>\n",
       "    </tr>\n",
       "  </thead>\n",
       "  <tbody>\n",
       "    <tr>\n",
       "      <th>0</th>\n",
       "      <td>-1</td>\n",
       "      <td>243543</td>\n",
       "      <td>-1_shout_ha_huh_boss</td>\n",
       "    </tr>\n",
       "    <tr>\n",
       "      <th>1</th>\n",
       "      <td>0</td>\n",
       "      <td>2161</td>\n",
       "      <td>0_yankees_sox_bullpen_astros</td>\n",
       "    </tr>\n",
       "    <tr>\n",
       "      <th>2</th>\n",
       "      <td>1</td>\n",
       "      <td>1541</td>\n",
       "      <td>1_lakers_lebron_clippers_kyrie</td>\n",
       "    </tr>\n",
       "    <tr>\n",
       "      <th>3</th>\n",
       "      <td>2</td>\n",
       "      <td>854</td>\n",
       "      <td>2_arsenal_liverpool_chelsea_everton</td>\n",
       "    </tr>\n",
       "    <tr>\n",
       "      <th>4</th>\n",
       "      <td>3</td>\n",
       "      <td>775</td>\n",
       "      <td>3_racism_reparations_racist_slavery</td>\n",
       "    </tr>\n",
       "    <tr>\n",
       "      <th>5</th>\n",
       "      <td>4</td>\n",
       "      <td>756</td>\n",
       "      <td>4_orgasm_sex_anal_clit</td>\n",
       "    </tr>\n",
       "    <tr>\n",
       "      <th>6</th>\n",
       "      <td>5</td>\n",
       "      <td>750</td>\n",
       "      <td>5_que_hindi_para_una</td>\n",
       "    </tr>\n",
       "    <tr>\n",
       "      <th>7</th>\n",
       "      <td>6</td>\n",
       "      <td>735</td>\n",
       "      <td>6_smackdown_wrestlemania_nxt_wwe</td>\n",
       "    </tr>\n",
       "    <tr>\n",
       "      <th>8</th>\n",
       "      <td>7</td>\n",
       "      <td>677</td>\n",
       "      <td>7_subscribed_growcom_itunes_cauldrons</td>\n",
       "    </tr>\n",
       "    <tr>\n",
       "      <th>9</th>\n",
       "      <td>8</td>\n",
       "      <td>673</td>\n",
       "      <td>8_negativity_judging_selftalk_criticism</td>\n",
       "    </tr>\n",
       "    <tr>\n",
       "      <th>10</th>\n",
       "      <td>9</td>\n",
       "      <td>659</td>\n",
       "      <td>9_bye_brick_genitive_arrivederci</td>\n",
       "    </tr>\n",
       "    <tr>\n",
       "      <th>11</th>\n",
       "      <td>10</td>\n",
       "      <td>639</td>\n",
       "      <td>10_bruins_leafs_nhl_flyers</td>\n",
       "    </tr>\n",
       "    <tr>\n",
       "      <th>12</th>\n",
       "      <td>11</td>\n",
       "      <td>623</td>\n",
       "      <td>11_property_mortgage_realtor_properties</td>\n",
       "    </tr>\n",
       "    <tr>\n",
       "      <th>13</th>\n",
       "      <td>12</td>\n",
       "      <td>604</td>\n",
       "      <td>12_languages_mandarin_language_spanish</td>\n",
       "    </tr>\n",
       "    <tr>\n",
       "      <th>14</th>\n",
       "      <td>13</td>\n",
       "      <td>587</td>\n",
       "      <td>13_podcasting_audio_topics_inker</td>\n",
       "    </tr>\n",
       "    <tr>\n",
       "      <th>15</th>\n",
       "      <td>14</td>\n",
       "      <td>567</td>\n",
       "      <td>14_sober_alcohol_addiction_sobriety</td>\n",
       "    </tr>\n",
       "    <tr>\n",
       "      <th>16</th>\n",
       "      <td>15</td>\n",
       "      <td>513</td>\n",
       "      <td>15_clemson_lsu_baylor_oklahoma</td>\n",
       "    </tr>\n",
       "    <tr>\n",
       "      <th>17</th>\n",
       "      <td>16</td>\n",
       "      <td>509</td>\n",
       "      <td>16_playlist_playlists_royalties_libraries</td>\n",
       "    </tr>\n",
       "    <tr>\n",
       "      <th>18</th>\n",
       "      <td>17</td>\n",
       "      <td>503</td>\n",
       "      <td>17_receiver_targets_receivers_backfield</td>\n",
       "    </tr>\n",
       "    <tr>\n",
       "      <th>19</th>\n",
       "      <td>18</td>\n",
       "      <td>486</td>\n",
       "      <td>18_followers_hashtags_posts_algorithm</td>\n",
       "    </tr>\n",
       "    <tr>\n",
       "      <th>20</th>\n",
       "      <td>19</td>\n",
       "      <td>475</td>\n",
       "      <td>19_nonfiction_writing_writers_journal</td>\n",
       "    </tr>\n",
       "    <tr>\n",
       "      <th>21</th>\n",
       "      <td>20</td>\n",
       "      <td>459</td>\n",
       "      <td>20_unfollow_scrolling_posting_followers</td>\n",
       "    </tr>\n",
       "    <tr>\n",
       "      <th>22</th>\n",
       "      <td>21</td>\n",
       "      <td>455</td>\n",
       "      <td>21_seduction_ex_pursuing_texting</td>\n",
       "    </tr>\n",
       "    <tr>\n",
       "      <th>23</th>\n",
       "      <td>22</td>\n",
       "      <td>454</td>\n",
       "      <td>22_magpies_vixens_nwsl_rapinoe</td>\n",
       "    </tr>\n",
       "    <tr>\n",
       "      <th>24</th>\n",
       "      <td>23</td>\n",
       "      <td>428</td>\n",
       "      <td>23_lash_lashes_botox_skin</td>\n",
       "    </tr>\n",
       "    <tr>\n",
       "      <th>25</th>\n",
       "      <td>24</td>\n",
       "      <td>411</td>\n",
       "      <td>24_breakup_breakups_ex_kenneth</td>\n",
       "    </tr>\n",
       "    <tr>\n",
       "      <th>26</th>\n",
       "      <td>25</td>\n",
       "      <td>400</td>\n",
       "      <td>25_friendships_friendship_breakups_toxic</td>\n",
       "    </tr>\n",
       "    <tr>\n",
       "      <th>27</th>\n",
       "      <td>26</td>\n",
       "      <td>381</td>\n",
       "      <td>26_grades_semester_gpa_freshman</td>\n",
       "    </tr>\n",
       "    <tr>\n",
       "      <th>28</th>\n",
       "      <td>27</td>\n",
       "      <td>379</td>\n",
       "      <td>27_novel_handmaids_ulysses_novels</td>\n",
       "    </tr>\n",
       "    <tr>\n",
       "      <th>29</th>\n",
       "      <td>28</td>\n",
       "      <td>368</td>\n",
       "      <td>28_deployment_infantry_military_platoon</td>\n",
       "    </tr>\n",
       "    <tr>\n",
       "      <th>30</th>\n",
       "      <td>29</td>\n",
       "      <td>365</td>\n",
       "      <td>29_taylor_ariana_album_swift</td>\n",
       "    </tr>\n",
       "    <tr>\n",
       "      <th>31</th>\n",
       "      <td>30</td>\n",
       "      <td>358</td>\n",
       "      <td>30_cricket_wickets_batsman_bangladesh</td>\n",
       "    </tr>\n",
       "    <tr>\n",
       "      <th>32</th>\n",
       "      <td>31</td>\n",
       "      <td>338</td>\n",
       "      <td>31_jeans_nike_fashion_leggings</td>\n",
       "    </tr>\n",
       "    <tr>\n",
       "      <th>33</th>\n",
       "      <td>32</td>\n",
       "      <td>328</td>\n",
       "      <td>32_nebula_lenses_lens_mirrorless</td>\n",
       "    </tr>\n",
       "    <tr>\n",
       "      <th>34</th>\n",
       "      <td>33</td>\n",
       "      <td>326</td>\n",
       "      <td>33_michigan_notre_saban_dame</td>\n",
       "    </tr>\n",
       "    <tr>\n",
       "      <th>35</th>\n",
       "      <td>34</td>\n",
       "      <td>309</td>\n",
       "      <td>34_premium_catalogue_offline_browse</td>\n",
       "    </tr>\n",
       "    <tr>\n",
       "      <th>36</th>\n",
       "      <td>35</td>\n",
       "      <td>302</td>\n",
       "      <td>35_lucid_consciousness_serpent_relevance</td>\n",
       "    </tr>\n",
       "    <tr>\n",
       "      <th>37</th>\n",
       "      <td>36</td>\n",
       "      <td>295</td>\n",
       "      <td>36_parenting_parent_tantrums_childs</td>\n",
       "    </tr>\n",
       "    <tr>\n",
       "      <th>38</th>\n",
       "      <td>37</td>\n",
       "      <td>293</td>\n",
       "      <td>37_pastor_for80_dissension_giese</td>\n",
       "    </tr>\n",
       "    <tr>\n",
       "      <th>39</th>\n",
       "      <td>38</td>\n",
       "      <td>292</td>\n",
       "      <td>38_horses_horse_reinforcement_halter</td>\n",
       "    </tr>\n",
       "    <tr>\n",
       "      <th>40</th>\n",
       "      <td>39</td>\n",
       "      <td>283</td>\n",
       "      <td>39_fertility_progesterone_pcos_estrogen</td>\n",
       "    </tr>\n",
       "    <tr>\n",
       "      <th>41</th>\n",
       "      <td>40</td>\n",
       "      <td>282</td>\n",
       "      <td>40_electrons_ions_electron_molecules</td>\n",
       "    </tr>\n",
       "    <tr>\n",
       "      <th>42</th>\n",
       "      <td>41</td>\n",
       "      <td>276</td>\n",
       "      <td>41_ebay_thrift_auctions_poshmark</td>\n",
       "    </tr>\n",
       "    <tr>\n",
       "      <th>43</th>\n",
       "      <td>42</td>\n",
       "      <td>263</td>\n",
       "      <td>42_sprain_injury_ankle_acl</td>\n",
       "    </tr>\n",
       "    <tr>\n",
       "      <th>44</th>\n",
       "      <td>43</td>\n",
       "      <td>258</td>\n",
       "      <td>43_niggas_nigga_nigger_bitches</td>\n",
       "    </tr>\n",
       "    <tr>\n",
       "      <th>45</th>\n",
       "      <td>44</td>\n",
       "      <td>257</td>\n",
       "      <td>44_christmas_holidays_thanksgiving_holiday</td>\n",
       "    </tr>\n",
       "    <tr>\n",
       "      <th>46</th>\n",
       "      <td>45</td>\n",
       "      <td>255</td>\n",
       "      <td>45_album_albums_songs_cudi</td>\n",
       "    </tr>\n",
       "    <tr>\n",
       "      <th>47</th>\n",
       "      <td>46</td>\n",
       "      <td>253</td>\n",
       "      <td>46_thrones_finale_netflix_seasons</td>\n",
       "    </tr>\n",
       "    <tr>\n",
       "      <th>48</th>\n",
       "      <td>47</td>\n",
       "      <td>252</td>\n",
       "      <td>47_grosjean_magnussen_romain_laps</td>\n",
       "    </tr>\n",
       "    <tr>\n",
       "      <th>49</th>\n",
       "      <td>48</td>\n",
       "      <td>248</td>\n",
       "      <td>48_pixel_chromebook_iphone_chromebooks</td>\n",
       "    </tr>\n",
       "  </tbody>\n",
       "</table>\n",
       "</div>"
      ],
      "text/plain": [
       "    Topic   Count                                        Name\n",
       "0      -1  243543                        -1_shout_ha_huh_boss\n",
       "1       0    2161                0_yankees_sox_bullpen_astros\n",
       "2       1    1541              1_lakers_lebron_clippers_kyrie\n",
       "3       2     854         2_arsenal_liverpool_chelsea_everton\n",
       "4       3     775         3_racism_reparations_racist_slavery\n",
       "5       4     756                      4_orgasm_sex_anal_clit\n",
       "6       5     750                        5_que_hindi_para_una\n",
       "7       6     735            6_smackdown_wrestlemania_nxt_wwe\n",
       "8       7     677       7_subscribed_growcom_itunes_cauldrons\n",
       "9       8     673     8_negativity_judging_selftalk_criticism\n",
       "10      9     659            9_bye_brick_genitive_arrivederci\n",
       "11     10     639                  10_bruins_leafs_nhl_flyers\n",
       "12     11     623     11_property_mortgage_realtor_properties\n",
       "13     12     604      12_languages_mandarin_language_spanish\n",
       "14     13     587            13_podcasting_audio_topics_inker\n",
       "15     14     567         14_sober_alcohol_addiction_sobriety\n",
       "16     15     513              15_clemson_lsu_baylor_oklahoma\n",
       "17     16     509   16_playlist_playlists_royalties_libraries\n",
       "18     17     503     17_receiver_targets_receivers_backfield\n",
       "19     18     486       18_followers_hashtags_posts_algorithm\n",
       "20     19     475       19_nonfiction_writing_writers_journal\n",
       "21     20     459     20_unfollow_scrolling_posting_followers\n",
       "22     21     455            21_seduction_ex_pursuing_texting\n",
       "23     22     454              22_magpies_vixens_nwsl_rapinoe\n",
       "24     23     428                   23_lash_lashes_botox_skin\n",
       "25     24     411              24_breakup_breakups_ex_kenneth\n",
       "26     25     400    25_friendships_friendship_breakups_toxic\n",
       "27     26     381             26_grades_semester_gpa_freshman\n",
       "28     27     379           27_novel_handmaids_ulysses_novels\n",
       "29     28     368     28_deployment_infantry_military_platoon\n",
       "30     29     365                29_taylor_ariana_album_swift\n",
       "31     30     358       30_cricket_wickets_batsman_bangladesh\n",
       "32     31     338              31_jeans_nike_fashion_leggings\n",
       "33     32     328            32_nebula_lenses_lens_mirrorless\n",
       "34     33     326                33_michigan_notre_saban_dame\n",
       "35     34     309         34_premium_catalogue_offline_browse\n",
       "36     35     302    35_lucid_consciousness_serpent_relevance\n",
       "37     36     295         36_parenting_parent_tantrums_childs\n",
       "38     37     293            37_pastor_for80_dissension_giese\n",
       "39     38     292        38_horses_horse_reinforcement_halter\n",
       "40     39     283     39_fertility_progesterone_pcos_estrogen\n",
       "41     40     282        40_electrons_ions_electron_molecules\n",
       "42     41     276            41_ebay_thrift_auctions_poshmark\n",
       "43     42     263                  42_sprain_injury_ankle_acl\n",
       "44     43     258              43_niggas_nigga_nigger_bitches\n",
       "45     44     257  44_christmas_holidays_thanksgiving_holiday\n",
       "46     45     255                  45_album_albums_songs_cudi\n",
       "47     46     253           46_thrones_finale_netflix_seasons\n",
       "48     47     252           47_grosjean_magnussen_romain_laps\n",
       "49     48     248      48_pixel_chromebook_iphone_chromebooks"
      ]
     },
     "execution_count": 6,
     "metadata": {},
     "output_type": "execute_result"
    }
   ],
   "source": [
    "topic_model.get_topic_info().head(50)"
   ]
  },
  {
   "cell_type": "code",
   "execution_count": null,
   "metadata": {},
   "outputs": [],
   "source": [
    "topic_model.visualize_topics()"
   ]
  },
  {
   "cell_type": "code",
   "execution_count": 9,
   "metadata": {},
   "outputs": [
    {
     "data": {
      "application/vnd.plotly.v1+json": {
       "config": {
        "plotlyServerURL": "https://plot.ly"
       },
       "data": [
        {
         "hoverinfo": "text",
         "marker": {
          "color": "rgb(0,116,217)"
         },
         "mode": "lines",
         "type": "scatter",
         "x": [
          0,
          1.2194890942131498,
          1.2194890942131498,
          0
         ],
         "xaxis": "x",
         "y": [
          -5,
          -5,
          -15,
          -15
         ],
         "yaxis": "y"
        },
        {
         "hoverinfo": "text",
         "marker": {
          "color": "rgb(0,116,217)"
         },
         "mode": "lines",
         "type": "scatter",
         "x": [
          1.2194890942131498,
          1.3675670008929361,
          1.3675670008929361,
          0
         ],
         "xaxis": "x",
         "y": [
          -10,
          -10,
          -25,
          -25
         ],
         "yaxis": "y"
        },
        {
         "hoverinfo": "text",
         "marker": {
          "color": "rgb(0,116,217)"
         },
         "mode": "lines",
         "type": "scatter",
         "x": [
          0,
          1.0443001325589332,
          1.0443001325589332,
          0
         ],
         "xaxis": "x",
         "y": [
          -45,
          -45,
          -55,
          -55
         ],
         "yaxis": "y"
        },
        {
         "hoverinfo": "text",
         "marker": {
          "color": "rgb(0,116,217)"
         },
         "mode": "lines",
         "type": "scatter",
         "x": [
          1.0443001325589332,
          1.1054905692306287,
          1.1054905692306287,
          0
         ],
         "xaxis": "x",
         "y": [
          -50,
          -50,
          -65,
          -65
         ],
         "yaxis": "y"
        },
        {
         "hoverinfo": "text",
         "marker": {
          "color": "rgb(0,116,217)"
         },
         "mode": "lines",
         "type": "scatter",
         "x": [
          0,
          1.2220950951002594,
          1.2220950951002594,
          1.1054905692306287
         ],
         "xaxis": "x",
         "y": [
          -35,
          -35,
          -57.5,
          -57.5
         ],
         "yaxis": "y"
        },
        {
         "hoverinfo": "text",
         "marker": {
          "color": "rgb(0,116,217)"
         },
         "mode": "lines",
         "type": "scatter",
         "x": [
          0,
          1.2518405095729959,
          1.2518405095729959,
          0
         ],
         "xaxis": "x",
         "y": [
          -75,
          -75,
          -85,
          -85
         ],
         "yaxis": "y"
        },
        {
         "hoverinfo": "text",
         "marker": {
          "color": "rgb(0,116,217)"
         },
         "mode": "lines",
         "type": "scatter",
         "x": [
          0,
          1.280834510721535,
          1.280834510721535,
          0
         ],
         "xaxis": "x",
         "y": [
          -95,
          -95,
          -105,
          -105
         ],
         "yaxis": "y"
        },
        {
         "hoverinfo": "text",
         "marker": {
          "color": "rgb(0,116,217)"
         },
         "mode": "lines",
         "type": "scatter",
         "x": [
          1.2518405095729959,
          1.4570550903046984,
          1.4570550903046984,
          1.280834510721535
         ],
         "xaxis": "x",
         "y": [
          -80,
          -80,
          -100,
          -100
         ],
         "yaxis": "y"
        },
        {
         "hoverinfo": "text",
         "marker": {
          "color": "rgb(0,116,217)"
         },
         "mode": "lines",
         "type": "scatter",
         "x": [
          1.2220950951002594,
          1.5934168366170813,
          1.5934168366170813,
          1.4570550903046984
         ],
         "xaxis": "x",
         "y": [
          -46.25,
          -46.25,
          -90,
          -90
         ],
         "yaxis": "y"
        },
        {
         "hoverinfo": "text",
         "marker": {
          "color": "rgb(0,116,217)"
         },
         "mode": "lines",
         "type": "scatter",
         "x": [
          1.3675670008929361,
          1.8621203500177177,
          1.8621203500177177,
          1.5934168366170813
         ],
         "xaxis": "x",
         "y": [
          -17.5,
          -17.5,
          -68.125,
          -68.125
         ],
         "yaxis": "y"
        },
        {
         "hoverinfo": "text",
         "marker": {
          "color": "rgb(0,116,217)"
         },
         "mode": "lines",
         "type": "scatter",
         "x": [
          0,
          1.1058614296658082,
          1.1058614296658082,
          0
         ],
         "xaxis": "x",
         "y": [
          -125,
          -125,
          -135,
          -135
         ],
         "yaxis": "y"
        },
        {
         "hoverinfo": "text",
         "marker": {
          "color": "rgb(0,116,217)"
         },
         "mode": "lines",
         "type": "scatter",
         "x": [
          0,
          1.1227310770283188,
          1.1227310770283188,
          1.1058614296658082
         ],
         "xaxis": "x",
         "y": [
          -115,
          -115,
          -130,
          -130
         ],
         "yaxis": "y"
        },
        {
         "hoverinfo": "text",
         "marker": {
          "color": "rgb(0,116,217)"
         },
         "mode": "lines",
         "type": "scatter",
         "x": [
          0,
          1.1120696023263876,
          1.1120696023263876,
          0
         ],
         "xaxis": "x",
         "y": [
          -145,
          -145,
          -155,
          -155
         ],
         "yaxis": "y"
        },
        {
         "hoverinfo": "text",
         "marker": {
          "color": "rgb(0,116,217)"
         },
         "mode": "lines",
         "type": "scatter",
         "x": [
          1.1227310770283188,
          1.6525585569611123,
          1.6525585569611123,
          1.1120696023263876
         ],
         "xaxis": "x",
         "y": [
          -122.5,
          -122.5,
          -150,
          -150
         ],
         "yaxis": "y"
        },
        {
         "hoverinfo": "text",
         "marker": {
          "color": "rgb(0,116,217)"
         },
         "mode": "lines",
         "type": "scatter",
         "x": [
          1.8621203500177177,
          2.4153286620672136,
          2.4153286620672136,
          1.6525585569611123
         ],
         "xaxis": "x",
         "y": [
          -42.8125,
          -42.8125,
          -136.25,
          -136.25
         ],
         "yaxis": "y"
        },
        {
         "hoverinfo": "text",
         "marker": {
          "color": "rgb(0,116,217)"
         },
         "mode": "lines",
         "type": "scatter",
         "x": [
          0,
          1.1964437637091225,
          1.1964437637091225,
          0
         ],
         "xaxis": "x",
         "y": [
          -165,
          -165,
          -175,
          -175
         ],
         "yaxis": "y"
        },
        {
         "hoverinfo": "text",
         "marker": {
          "color": "rgb(0,116,217)"
         },
         "mode": "lines",
         "type": "scatter",
         "x": [
          0,
          1.1141495454113972,
          1.1141495454113972,
          0
         ],
         "xaxis": "x",
         "y": [
          -185,
          -185,
          -195,
          -195
         ],
         "yaxis": "y"
        },
        {
         "hoverinfo": "text",
         "marker": {
          "color": "rgb(0,116,217)"
         },
         "mode": "lines",
         "type": "scatter",
         "x": [
          0,
          1.246129646053544,
          1.246129646053544,
          0
         ],
         "xaxis": "x",
         "y": [
          -205,
          -205,
          -215,
          -215
         ],
         "yaxis": "y"
        },
        {
         "hoverinfo": "text",
         "marker": {
          "color": "rgb(0,116,217)"
         },
         "mode": "lines",
         "type": "scatter",
         "x": [
          1.1141495454113972,
          1.3236186115739346,
          1.3236186115739346,
          1.246129646053544
         ],
         "xaxis": "x",
         "y": [
          -190,
          -190,
          -210,
          -210
         ],
         "yaxis": "y"
        },
        {
         "hoverinfo": "text",
         "marker": {
          "color": "rgb(0,116,217)"
         },
         "mode": "lines",
         "type": "scatter",
         "x": [
          1.1964437637091225,
          1.470814869357124,
          1.470814869357124,
          1.3236186115739346
         ],
         "xaxis": "x",
         "y": [
          -170,
          -170,
          -200,
          -200
         ],
         "yaxis": "y"
        },
        {
         "hoverinfo": "text",
         "marker": {
          "color": "rgb(0,116,217)"
         },
         "mode": "lines",
         "type": "scatter",
         "x": [
          0,
          1.1792329738420175,
          1.1792329738420175,
          0
         ],
         "xaxis": "x",
         "y": [
          -235,
          -235,
          -245,
          -245
         ],
         "yaxis": "y"
        },
        {
         "hoverinfo": "text",
         "marker": {
          "color": "rgb(0,116,217)"
         },
         "mode": "lines",
         "type": "scatter",
         "x": [
          1.1792329738420175,
          1.266726347211444,
          1.266726347211444,
          0
         ],
         "xaxis": "x",
         "y": [
          -240,
          -240,
          -255,
          -255
         ],
         "yaxis": "y"
        },
        {
         "hoverinfo": "text",
         "marker": {
          "color": "rgb(0,116,217)"
         },
         "mode": "lines",
         "type": "scatter",
         "x": [
          0,
          1.2927520697558015,
          1.2927520697558015,
          1.266726347211444
         ],
         "xaxis": "x",
         "y": [
          -225,
          -225,
          -247.5,
          -247.5
         ],
         "yaxis": "y"
        },
        {
         "hoverinfo": "text",
         "marker": {
          "color": "rgb(0,116,217)"
         },
         "mode": "lines",
         "type": "scatter",
         "x": [
          0,
          1.0725645844874778,
          1.0725645844874778,
          0
         ],
         "xaxis": "x",
         "y": [
          -265,
          -265,
          -275,
          -275
         ],
         "yaxis": "y"
        },
        {
         "hoverinfo": "text",
         "marker": {
          "color": "rgb(0,116,217)"
         },
         "mode": "lines",
         "type": "scatter",
         "x": [
          1.0725645844874778,
          1.208249990774369,
          1.208249990774369,
          0
         ],
         "xaxis": "x",
         "y": [
          -270,
          -270,
          -285,
          -285
         ],
         "yaxis": "y"
        },
        {
         "hoverinfo": "text",
         "marker": {
          "color": "rgb(0,116,217)"
         },
         "mode": "lines",
         "type": "scatter",
         "x": [
          1.2927520697558015,
          1.5496464905395824,
          1.5496464905395824,
          1.208249990774369
         ],
         "xaxis": "x",
         "y": [
          -236.25,
          -236.25,
          -277.5,
          -277.5
         ],
         "yaxis": "y"
        },
        {
         "hoverinfo": "text",
         "marker": {
          "color": "rgb(0,116,217)"
         },
         "mode": "lines",
         "type": "scatter",
         "x": [
          0,
          1.2274785593006112,
          1.2274785593006112,
          0
         ],
         "xaxis": "x",
         "y": [
          -295,
          -295,
          -305,
          -305
         ],
         "yaxis": "y"
        },
        {
         "hoverinfo": "text",
         "marker": {
          "color": "rgb(0,116,217)"
         },
         "mode": "lines",
         "type": "scatter",
         "x": [
          1.2274785593006112,
          1.3929642638354758,
          1.3929642638354758,
          0
         ],
         "xaxis": "x",
         "y": [
          -300,
          -300,
          -315,
          -315
         ],
         "yaxis": "y"
        },
        {
         "hoverinfo": "text",
         "marker": {
          "color": "rgb(0,116,217)"
         },
         "mode": "lines",
         "type": "scatter",
         "x": [
          0,
          1.2844967389046904,
          1.2844967389046904,
          0
         ],
         "xaxis": "x",
         "y": [
          -335,
          -335,
          -345,
          -345
         ],
         "yaxis": "y"
        },
        {
         "hoverinfo": "text",
         "marker": {
          "color": "rgb(0,116,217)"
         },
         "mode": "lines",
         "type": "scatter",
         "x": [
          0,
          1.3198142277582168,
          1.3198142277582168,
          1.2844967389046904
         ],
         "xaxis": "x",
         "y": [
          -325,
          -325,
          -340,
          -340
         ],
         "yaxis": "y"
        },
        {
         "hoverinfo": "text",
         "marker": {
          "color": "rgb(0,116,217)"
         },
         "mode": "lines",
         "type": "scatter",
         "x": [
          0,
          1.3667896219772162,
          1.3667896219772162,
          0
         ],
         "xaxis": "x",
         "y": [
          -355,
          -355,
          -365,
          -365
         ],
         "yaxis": "y"
        },
        {
         "hoverinfo": "text",
         "marker": {
          "color": "rgb(0,116,217)"
         },
         "mode": "lines",
         "type": "scatter",
         "x": [
          1.3667896219772162,
          1.4191931529976105,
          1.4191931529976105,
          0
         ],
         "xaxis": "x",
         "y": [
          -360,
          -360,
          -375,
          -375
         ],
         "yaxis": "y"
        },
        {
         "hoverinfo": "text",
         "marker": {
          "color": "rgb(0,116,217)"
         },
         "mode": "lines",
         "type": "scatter",
         "x": [
          1.3198142277582168,
          1.593328275521465,
          1.593328275521465,
          1.4191931529976105
         ],
         "xaxis": "x",
         "y": [
          -332.5,
          -332.5,
          -367.5,
          -367.5
         ],
         "yaxis": "y"
        },
        {
         "hoverinfo": "text",
         "marker": {
          "color": "rgb(0,116,217)"
         },
         "mode": "lines",
         "type": "scatter",
         "x": [
          1.3929642638354758,
          1.7497604386428438,
          1.7497604386428438,
          1.593328275521465
         ],
         "xaxis": "x",
         "y": [
          -307.5,
          -307.5,
          -350,
          -350
         ],
         "yaxis": "y"
        },
        {
         "hoverinfo": "text",
         "marker": {
          "color": "rgb(0,116,217)"
         },
         "mode": "lines",
         "type": "scatter",
         "x": [
          0,
          1.3148626569971078,
          1.3148626569971078,
          0
         ],
         "xaxis": "x",
         "y": [
          -385,
          -385,
          -395,
          -395
         ],
         "yaxis": "y"
        },
        {
         "hoverinfo": "text",
         "marker": {
          "color": "rgb(0,116,217)"
         },
         "mode": "lines",
         "type": "scatter",
         "x": [
          1.3148626569971078,
          1.428853981634672,
          1.428853981634672,
          0
         ],
         "xaxis": "x",
         "y": [
          -390,
          -390,
          -405,
          -405
         ],
         "yaxis": "y"
        },
        {
         "hoverinfo": "text",
         "marker": {
          "color": "rgb(0,116,217)"
         },
         "mode": "lines",
         "type": "scatter",
         "x": [
          1.7497604386428438,
          2.017246762909235,
          2.017246762909235,
          1.428853981634672
         ],
         "xaxis": "x",
         "y": [
          -328.75,
          -328.75,
          -397.5,
          -397.5
         ],
         "yaxis": "y"
        },
        {
         "hoverinfo": "text",
         "marker": {
          "color": "rgb(0,116,217)"
         },
         "mode": "lines",
         "type": "scatter",
         "x": [
          1.5496464905395824,
          2.124084853177303,
          2.124084853177303,
          2.017246762909235
         ],
         "xaxis": "x",
         "y": [
          -256.875,
          -256.875,
          -363.125,
          -363.125
         ],
         "yaxis": "y"
        },
        {
         "hoverinfo": "text",
         "marker": {
          "color": "rgb(0,116,217)"
         },
         "mode": "lines",
         "type": "scatter",
         "x": [
          1.470814869357124,
          3.0553641515804575,
          3.0553641515804575,
          2.124084853177303
         ],
         "xaxis": "x",
         "y": [
          -185,
          -185,
          -310,
          -310
         ],
         "yaxis": "y"
        },
        {
         "hoverinfo": "text",
         "marker": {
          "color": "rgb(0,116,217)"
         },
         "mode": "lines",
         "type": "scatter",
         "x": [
          0,
          1.1430820206371077,
          1.1430820206371077,
          0
         ],
         "xaxis": "x",
         "y": [
          -415,
          -415,
          -425,
          -425
         ],
         "yaxis": "y"
        },
        {
         "hoverinfo": "text",
         "marker": {
          "color": "rgb(0,116,217)"
         },
         "mode": "lines",
         "type": "scatter",
         "x": [
          0,
          1.1824773673706652,
          1.1824773673706652,
          0
         ],
         "xaxis": "x",
         "y": [
          -435,
          -435,
          -445,
          -445
         ],
         "yaxis": "y"
        },
        {
         "hoverinfo": "text",
         "marker": {
          "color": "rgb(0,116,217)"
         },
         "mode": "lines",
         "type": "scatter",
         "x": [
          0,
          1.2270611528396371,
          1.2270611528396371,
          0
         ],
         "xaxis": "x",
         "y": [
          -455,
          -455,
          -465,
          -465
         ],
         "yaxis": "y"
        },
        {
         "hoverinfo": "text",
         "marker": {
          "color": "rgb(0,116,217)"
         },
         "mode": "lines",
         "type": "scatter",
         "x": [
          1.1824773673706652,
          1.3785216791946,
          1.3785216791946,
          1.2270611528396371
         ],
         "xaxis": "x",
         "y": [
          -440,
          -440,
          -460,
          -460
         ],
         "yaxis": "y"
        },
        {
         "hoverinfo": "text",
         "marker": {
          "color": "rgb(0,116,217)"
         },
         "mode": "lines",
         "type": "scatter",
         "x": [
          1.1430820206371077,
          1.6555987562049517,
          1.6555987562049517,
          1.3785216791946
         ],
         "xaxis": "x",
         "y": [
          -420,
          -420,
          -450,
          -450
         ],
         "yaxis": "y"
        },
        {
         "hoverinfo": "text",
         "marker": {
          "color": "rgb(0,116,217)"
         },
         "mode": "lines",
         "type": "scatter",
         "x": [
          0,
          1.210575346011637,
          1.210575346011637,
          0
         ],
         "xaxis": "x",
         "y": [
          -475,
          -475,
          -485,
          -485
         ],
         "yaxis": "y"
        },
        {
         "hoverinfo": "text",
         "marker": {
          "color": "rgb(0,116,217)"
         },
         "mode": "lines",
         "type": "scatter",
         "x": [
          0,
          1.3378409922376948,
          1.3378409922376948,
          0
         ],
         "xaxis": "x",
         "y": [
          -495,
          -495,
          -505,
          -505
         ],
         "yaxis": "y"
        },
        {
         "hoverinfo": "text",
         "marker": {
          "color": "rgb(0,116,217)"
         },
         "mode": "lines",
         "type": "scatter",
         "x": [
          1.210575346011637,
          1.6223738676531376,
          1.6223738676531376,
          1.3378409922376948
         ],
         "xaxis": "x",
         "y": [
          -480,
          -480,
          -500,
          -500
         ],
         "yaxis": "y"
        },
        {
         "hoverinfo": "text",
         "marker": {
          "color": "rgb(0,116,217)"
         },
         "mode": "lines",
         "type": "scatter",
         "x": [
          0,
          1.1965247649027382,
          1.1965247649027382,
          0
         ],
         "xaxis": "x",
         "y": [
          -525,
          -525,
          -535,
          -535
         ],
         "yaxis": "y"
        },
        {
         "hoverinfo": "text",
         "marker": {
          "color": "rgb(0,116,217)"
         },
         "mode": "lines",
         "type": "scatter",
         "x": [
          1.1965247649027382,
          1.3332902538128157,
          1.3332902538128157,
          0
         ],
         "xaxis": "x",
         "y": [
          -530,
          -530,
          -545,
          -545
         ],
         "yaxis": "y"
        },
        {
         "hoverinfo": "text",
         "marker": {
          "color": "rgb(0,116,217)"
         },
         "mode": "lines",
         "type": "scatter",
         "x": [
          0,
          1.4295663777284053,
          1.4295663777284053,
          1.3332902538128157
         ],
         "xaxis": "x",
         "y": [
          -515,
          -515,
          -537.5,
          -537.5
         ],
         "yaxis": "y"
        },
        {
         "hoverinfo": "text",
         "marker": {
          "color": "rgb(0,116,217)"
         },
         "mode": "lines",
         "type": "scatter",
         "x": [
          1.6223738676531376,
          1.9742579743149964,
          1.9742579743149964,
          1.4295663777284053
         ],
         "xaxis": "x",
         "y": [
          -490,
          -490,
          -526.25,
          -526.25
         ],
         "yaxis": "y"
        },
        {
         "hoverinfo": "text",
         "marker": {
          "color": "rgb(0,116,217)"
         },
         "mode": "lines",
         "type": "scatter",
         "x": [
          0,
          1.0755329318857654,
          1.0755329318857654,
          0
         ],
         "xaxis": "x",
         "y": [
          -555,
          -555,
          -565,
          -565
         ],
         "yaxis": "y"
        },
        {
         "hoverinfo": "text",
         "marker": {
          "color": "rgb(0,116,217)"
         },
         "mode": "lines",
         "type": "scatter",
         "x": [
          1.0755329318857654,
          1.2449347514145117,
          1.2449347514145117,
          0
         ],
         "xaxis": "x",
         "y": [
          -560,
          -560,
          -575,
          -575
         ],
         "yaxis": "y"
        },
        {
         "hoverinfo": "text",
         "marker": {
          "color": "rgb(0,116,217)"
         },
         "mode": "lines",
         "type": "scatter",
         "x": [
          0,
          1.2449820847013044,
          1.2449820847013044,
          0
         ],
         "xaxis": "x",
         "y": [
          -595,
          -595,
          -605,
          -605
         ],
         "yaxis": "y"
        },
        {
         "hoverinfo": "text",
         "marker": {
          "color": "rgb(0,116,217)"
         },
         "mode": "lines",
         "type": "scatter",
         "x": [
          0,
          1.3390192342201026,
          1.3390192342201026,
          1.2449820847013044
         ],
         "xaxis": "x",
         "y": [
          -585,
          -585,
          -600,
          -600
         ],
         "yaxis": "y"
        },
        {
         "hoverinfo": "text",
         "marker": {
          "color": "rgb(0,116,217)"
         },
         "mode": "lines",
         "type": "scatter",
         "x": [
          1.3390192342201026,
          1.4067078688431423,
          1.4067078688431423,
          0
         ],
         "xaxis": "x",
         "y": [
          -592.5,
          -592.5,
          -615,
          -615
         ],
         "yaxis": "y"
        },
        {
         "hoverinfo": "text",
         "marker": {
          "color": "rgb(0,116,217)"
         },
         "mode": "lines",
         "type": "scatter",
         "x": [
          1.2449347514145117,
          1.7350429033603099,
          1.7350429033603099,
          1.4067078688431423
         ],
         "xaxis": "x",
         "y": [
          -567.5,
          -567.5,
          -603.75,
          -603.75
         ],
         "yaxis": "y"
        },
        {
         "hoverinfo": "text",
         "marker": {
          "color": "rgb(0,116,217)"
         },
         "mode": "lines",
         "type": "scatter",
         "x": [
          0,
          1.400687504508896,
          1.400687504508896,
          0
         ],
         "xaxis": "x",
         "y": [
          -625,
          -625,
          -635,
          -635
         ],
         "yaxis": "y"
        },
        {
         "hoverinfo": "text",
         "marker": {
          "color": "rgb(0,116,217)"
         },
         "mode": "lines",
         "type": "scatter",
         "x": [
          1.7350429033603099,
          1.9308494821579456,
          1.9308494821579456,
          1.400687504508896
         ],
         "xaxis": "x",
         "y": [
          -585.625,
          -585.625,
          -630,
          -630
         ],
         "yaxis": "y"
        },
        {
         "hoverinfo": "text",
         "marker": {
          "color": "rgb(0,116,217)"
         },
         "mode": "lines",
         "type": "scatter",
         "x": [
          1.9742579743149964,
          2.1714773191865904,
          2.1714773191865904,
          1.9308494821579456
         ],
         "xaxis": "x",
         "y": [
          -508.125,
          -508.125,
          -607.8125,
          -607.8125
         ],
         "yaxis": "y"
        },
        {
         "hoverinfo": "text",
         "marker": {
          "color": "rgb(0,116,217)"
         },
         "mode": "lines",
         "type": "scatter",
         "x": [
          1.6555987562049517,
          2.6363771277558605,
          2.6363771277558605,
          2.1714773191865904
         ],
         "xaxis": "x",
         "y": [
          -435,
          -435,
          -557.96875,
          -557.96875
         ],
         "yaxis": "y"
        },
        {
         "hoverinfo": "text",
         "marker": {
          "color": "rgb(0,116,217)"
         },
         "mode": "lines",
         "type": "scatter",
         "x": [
          0,
          1.0750970464311647,
          1.0750970464311647,
          0
         ],
         "xaxis": "x",
         "y": [
          -645,
          -645,
          -655,
          -655
         ],
         "yaxis": "y"
        },
        {
         "hoverinfo": "text",
         "marker": {
          "color": "rgb(61,153,112)"
         },
         "mode": "lines",
         "type": "scatter",
         "x": [
          0,
          0.9498191885012099,
          0.9498191885012099,
          0
         ],
         "xaxis": "x",
         "y": [
          -675,
          -675,
          -685,
          -685
         ],
         "yaxis": "y"
        },
        {
         "hoverinfo": "text",
         "marker": {
          "color": "rgb(0,116,217)"
         },
         "mode": "lines",
         "type": "scatter",
         "x": [
          0,
          1.169597061454319,
          1.169597061454319,
          0.9498191885012099
         ],
         "xaxis": "x",
         "y": [
          -665,
          -665,
          -680,
          -680
         ],
         "yaxis": "y"
        },
        {
         "hoverinfo": "text",
         "marker": {
          "color": "rgb(0,116,217)"
         },
         "mode": "lines",
         "type": "scatter",
         "x": [
          1.0750970464311647,
          1.3617219238605274,
          1.3617219238605274,
          1.169597061454319
         ],
         "xaxis": "x",
         "y": [
          -650,
          -650,
          -672.5,
          -672.5
         ],
         "yaxis": "y"
        },
        {
         "hoverinfo": "text",
         "marker": {
          "color": "rgb(255,65,54)"
         },
         "mode": "lines",
         "type": "scatter",
         "x": [
          0,
          0.8541076052520535,
          0.8541076052520535,
          0
         ],
         "xaxis": "x",
         "y": [
          -695,
          -695,
          -705,
          -705
         ],
         "yaxis": "y"
        },
        {
         "hoverinfo": "text",
         "marker": {
          "color": "rgb(0,116,217)"
         },
         "mode": "lines",
         "type": "scatter",
         "x": [
          0,
          1.0280189444320804,
          1.0280189444320804,
          0
         ],
         "xaxis": "x",
         "y": [
          -715,
          -715,
          -725,
          -725
         ],
         "yaxis": "y"
        },
        {
         "hoverinfo": "text",
         "marker": {
          "color": "rgb(0,116,217)"
         },
         "mode": "lines",
         "type": "scatter",
         "x": [
          0.8541076052520535,
          1.4760070996799202,
          1.4760070996799202,
          1.0280189444320804
         ],
         "xaxis": "x",
         "y": [
          -700,
          -700,
          -720,
          -720
         ],
         "yaxis": "y"
        },
        {
         "hoverinfo": "text",
         "marker": {
          "color": "rgb(0,116,217)"
         },
         "mode": "lines",
         "type": "scatter",
         "x": [
          1.3617219238605274,
          2.1978417713684943,
          2.1978417713684943,
          1.4760070996799202
         ],
         "xaxis": "x",
         "y": [
          -661.25,
          -661.25,
          -710,
          -710
         ],
         "yaxis": "y"
        },
        {
         "hoverinfo": "text",
         "marker": {
          "color": "rgb(0,116,217)"
         },
         "mode": "lines",
         "type": "scatter",
         "x": [
          2.6363771277558605,
          3.6864313958943247,
          3.6864313958943247,
          2.1978417713684943
         ],
         "xaxis": "x",
         "y": [
          -496.484375,
          -496.484375,
          -685.625,
          -685.625
         ],
         "yaxis": "y"
        },
        {
         "hoverinfo": "text",
         "marker": {
          "color": "rgb(0,116,217)"
         },
         "mode": "lines",
         "type": "scatter",
         "x": [
          3.0553641515804575,
          4.776316522580241,
          4.776316522580241,
          3.6864313958943247
         ],
         "xaxis": "x",
         "y": [
          -247.5,
          -247.5,
          -591.0546875,
          -591.0546875
         ],
         "yaxis": "y"
        },
        {
         "hoverinfo": "text",
         "marker": {
          "color": "rgb(0,116,217)"
         },
         "mode": "lines",
         "type": "scatter",
         "x": [
          2.4153286620672136,
          6.038661973923672,
          6.038661973923672,
          4.776316522580241
         ],
         "xaxis": "x",
         "y": [
          -89.53125,
          -89.53125,
          -419.27734375,
          -419.27734375
         ],
         "yaxis": "y"
        },
        {
         "hoverinfo": "text",
         "marker": {
          "color": "rgb(0,116,217)"
         },
         "mode": "lines",
         "type": "scatter",
         "x": [
          0,
          1.339501548314246,
          1.339501548314246,
          0
         ],
         "xaxis": "x",
         "y": [
          -735,
          -735,
          -745,
          -745
         ],
         "yaxis": "y"
        },
        {
         "hoverinfo": "text",
         "marker": {
          "color": "rgb(0,116,217)"
         },
         "mode": "lines",
         "type": "scatter",
         "x": [
          0,
          1.2308754444459036,
          1.2308754444459036,
          0
         ],
         "xaxis": "x",
         "y": [
          -765,
          -765,
          -775,
          -775
         ],
         "yaxis": "y"
        },
        {
         "hoverinfo": "text",
         "marker": {
          "color": "rgb(0,116,217)"
         },
         "mode": "lines",
         "type": "scatter",
         "x": [
          0,
          1.2939708859612145,
          1.2939708859612145,
          1.2308754444459036
         ],
         "xaxis": "x",
         "y": [
          -755,
          -755,
          -770,
          -770
         ],
         "yaxis": "y"
        },
        {
         "hoverinfo": "text",
         "marker": {
          "color": "rgb(0,116,217)"
         },
         "mode": "lines",
         "type": "scatter",
         "x": [
          0,
          1.126866309383335,
          1.126866309383335,
          0
         ],
         "xaxis": "x",
         "y": [
          -795,
          -795,
          -805,
          -805
         ],
         "yaxis": "y"
        },
        {
         "hoverinfo": "text",
         "marker": {
          "color": "rgb(0,116,217)"
         },
         "mode": "lines",
         "type": "scatter",
         "x": [
          0,
          1.193551068092894,
          1.193551068092894,
          1.126866309383335
         ],
         "xaxis": "x",
         "y": [
          -785,
          -785,
          -800,
          -800
         ],
         "yaxis": "y"
        },
        {
         "hoverinfo": "text",
         "marker": {
          "color": "rgb(0,116,217)"
         },
         "mode": "lines",
         "type": "scatter",
         "x": [
          1.193551068092894,
          1.318907821021268,
          1.318907821021268,
          0
         ],
         "xaxis": "x",
         "y": [
          -792.5,
          -792.5,
          -815,
          -815
         ],
         "yaxis": "y"
        },
        {
         "hoverinfo": "text",
         "marker": {
          "color": "rgb(0,116,217)"
         },
         "mode": "lines",
         "type": "scatter",
         "x": [
          1.2939708859612145,
          1.3686014448359654,
          1.3686014448359654,
          1.318907821021268
         ],
         "xaxis": "x",
         "y": [
          -762.5,
          -762.5,
          -803.75,
          -803.75
         ],
         "yaxis": "y"
        },
        {
         "hoverinfo": "text",
         "marker": {
          "color": "rgb(0,116,217)"
         },
         "mode": "lines",
         "type": "scatter",
         "x": [
          1.339501548314246,
          1.7022758146047245,
          1.7022758146047245,
          1.3686014448359654
         ],
         "xaxis": "x",
         "y": [
          -740,
          -740,
          -783.125,
          -783.125
         ],
         "yaxis": "y"
        },
        {
         "hoverinfo": "text",
         "marker": {
          "color": "rgb(0,116,217)"
         },
         "mode": "lines",
         "type": "scatter",
         "x": [
          0,
          1.1946202790047982,
          1.1946202790047982,
          0
         ],
         "xaxis": "x",
         "y": [
          -825,
          -825,
          -835,
          -835
         ],
         "yaxis": "y"
        },
        {
         "hoverinfo": "text",
         "marker": {
          "color": "rgb(0,116,217)"
         },
         "mode": "lines",
         "type": "scatter",
         "x": [
          0,
          1.0862579404983215,
          1.0862579404983215,
          0
         ],
         "xaxis": "x",
         "y": [
          -845,
          -845,
          -855,
          -855
         ],
         "yaxis": "y"
        },
        {
         "hoverinfo": "text",
         "marker": {
          "color": "rgb(0,116,217)"
         },
         "mode": "lines",
         "type": "scatter",
         "x": [
          0,
          1.0733627088941746,
          1.0733627088941746,
          0
         ],
         "xaxis": "x",
         "y": [
          -865,
          -865,
          -875,
          -875
         ],
         "yaxis": "y"
        },
        {
         "hoverinfo": "text",
         "marker": {
          "color": "rgb(0,116,217)"
         },
         "mode": "lines",
         "type": "scatter",
         "x": [
          1.0862579404983215,
          1.2206823360194963,
          1.2206823360194963,
          1.0733627088941746
         ],
         "xaxis": "x",
         "y": [
          -850,
          -850,
          -870,
          -870
         ],
         "yaxis": "y"
        },
        {
         "hoverinfo": "text",
         "marker": {
          "color": "rgb(0,116,217)"
         },
         "mode": "lines",
         "type": "scatter",
         "x": [
          1.1946202790047982,
          1.3790177297577118,
          1.3790177297577118,
          1.2206823360194963
         ],
         "xaxis": "x",
         "y": [
          -830,
          -830,
          -860,
          -860
         ],
         "yaxis": "y"
        },
        {
         "hoverinfo": "text",
         "marker": {
          "color": "rgb(0,116,217)"
         },
         "mode": "lines",
         "type": "scatter",
         "x": [
          1.7022758146047245,
          1.9941511375203087,
          1.9941511375203087,
          1.3790177297577118
         ],
         "xaxis": "x",
         "y": [
          -761.5625,
          -761.5625,
          -845,
          -845
         ],
         "yaxis": "y"
        },
        {
         "hoverinfo": "text",
         "marker": {
          "color": "rgb(0,116,217)"
         },
         "mode": "lines",
         "type": "scatter",
         "x": [
          0,
          1.2302427836732674,
          1.2302427836732674,
          0
         ],
         "xaxis": "x",
         "y": [
          -885,
          -885,
          -895,
          -895
         ],
         "yaxis": "y"
        },
        {
         "hoverinfo": "text",
         "marker": {
          "color": "rgb(0,116,217)"
         },
         "mode": "lines",
         "type": "scatter",
         "x": [
          0,
          1.245612320043456,
          1.245612320043456,
          0
         ],
         "xaxis": "x",
         "y": [
          -905,
          -905,
          -915,
          -915
         ],
         "yaxis": "y"
        },
        {
         "hoverinfo": "text",
         "marker": {
          "color": "rgb(0,116,217)"
         },
         "mode": "lines",
         "type": "scatter",
         "x": [
          1.2302427836732674,
          1.4955684449555495,
          1.4955684449555495,
          1.245612320043456
         ],
         "xaxis": "x",
         "y": [
          -890,
          -890,
          -910,
          -910
         ],
         "yaxis": "y"
        },
        {
         "hoverinfo": "text",
         "marker": {
          "color": "rgb(0,116,217)"
         },
         "mode": "lines",
         "type": "scatter",
         "x": [
          0,
          1.230725441234874,
          1.230725441234874,
          0
         ],
         "xaxis": "x",
         "y": [
          -925,
          -925,
          -935,
          -935
         ],
         "yaxis": "y"
        },
        {
         "hoverinfo": "text",
         "marker": {
          "color": "rgb(0,116,217)"
         },
         "mode": "lines",
         "type": "scatter",
         "x": [
          0,
          1.2007788802735624,
          1.2007788802735624,
          0
         ],
         "xaxis": "x",
         "y": [
          -945,
          -945,
          -955,
          -955
         ],
         "yaxis": "y"
        },
        {
         "hoverinfo": "text",
         "marker": {
          "color": "rgb(0,116,217)"
         },
         "mode": "lines",
         "type": "scatter",
         "x": [
          0,
          1.1406702059057843,
          1.1406702059057843,
          0
         ],
         "xaxis": "x",
         "y": [
          -965,
          -965,
          -975,
          -975
         ],
         "yaxis": "y"
        },
        {
         "hoverinfo": "text",
         "marker": {
          "color": "rgb(0,116,217)"
         },
         "mode": "lines",
         "type": "scatter",
         "x": [
          1.2007788802735624,
          1.3477925871850989,
          1.3477925871850989,
          1.1406702059057843
         ],
         "xaxis": "x",
         "y": [
          -950,
          -950,
          -970,
          -970
         ],
         "yaxis": "y"
        },
        {
         "hoverinfo": "text",
         "marker": {
          "color": "rgb(0,116,217)"
         },
         "mode": "lines",
         "type": "scatter",
         "x": [
          0,
          1.2383857997855188,
          1.2383857997855188,
          0
         ],
         "xaxis": "x",
         "y": [
          -985,
          -985,
          -995,
          -995
         ],
         "yaxis": "y"
        },
        {
         "hoverinfo": "text",
         "marker": {
          "color": "rgb(0,116,217)"
         },
         "mode": "lines",
         "type": "scatter",
         "x": [
          1.3477925871850989,
          1.3841466951905306,
          1.3841466951905306,
          1.2383857997855188
         ],
         "xaxis": "x",
         "y": [
          -960,
          -960,
          -990,
          -990
         ],
         "yaxis": "y"
        },
        {
         "hoverinfo": "text",
         "marker": {
          "color": "rgb(0,116,217)"
         },
         "mode": "lines",
         "type": "scatter",
         "x": [
          1.230725441234874,
          1.507890598426605,
          1.507890598426605,
          1.3841466951905306
         ],
         "xaxis": "x",
         "y": [
          -930,
          -930,
          -975,
          -975
         ],
         "yaxis": "y"
        },
        {
         "hoverinfo": "text",
         "marker": {
          "color": "rgb(0,116,217)"
         },
         "mode": "lines",
         "type": "scatter",
         "x": [
          1.4955684449555495,
          1.7409861518652452,
          1.7409861518652452,
          1.507890598426605
         ],
         "xaxis": "x",
         "y": [
          -900,
          -900,
          -952.5,
          -952.5
         ],
         "yaxis": "y"
        },
        {
         "hoverinfo": "text",
         "marker": {
          "color": "rgb(0,116,217)"
         },
         "mode": "lines",
         "type": "scatter",
         "x": [
          0,
          1.2734920054416907,
          1.2734920054416907,
          0
         ],
         "xaxis": "x",
         "y": [
          -1005,
          -1005,
          -1015,
          -1015
         ],
         "yaxis": "y"
        },
        {
         "hoverinfo": "text",
         "marker": {
          "color": "rgb(0,116,217)"
         },
         "mode": "lines",
         "type": "scatter",
         "x": [
          0,
          1.2533939930039961,
          1.2533939930039961,
          0
         ],
         "xaxis": "x",
         "y": [
          -1025,
          -1025,
          -1035,
          -1035
         ],
         "yaxis": "y"
        },
        {
         "hoverinfo": "text",
         "marker": {
          "color": "rgb(0,116,217)"
         },
         "mode": "lines",
         "type": "scatter",
         "x": [
          1.2533939930039961,
          1.2934531089987291,
          1.2934531089987291,
          0
         ],
         "xaxis": "x",
         "y": [
          -1030,
          -1030,
          -1045,
          -1045
         ],
         "yaxis": "y"
        },
        {
         "hoverinfo": "text",
         "marker": {
          "color": "rgb(0,116,217)"
         },
         "mode": "lines",
         "type": "scatter",
         "x": [
          0,
          1.2748219895053452,
          1.2748219895053452,
          0
         ],
         "xaxis": "x",
         "y": [
          -1055,
          -1055,
          -1065,
          -1065
         ],
         "yaxis": "y"
        },
        {
         "hoverinfo": "text",
         "marker": {
          "color": "rgb(0,116,217)"
         },
         "mode": "lines",
         "type": "scatter",
         "x": [
          1.2934531089987291,
          1.490920007041448,
          1.490920007041448,
          1.2748219895053452
         ],
         "xaxis": "x",
         "y": [
          -1037.5,
          -1037.5,
          -1060,
          -1060
         ],
         "yaxis": "y"
        },
        {
         "hoverinfo": "text",
         "marker": {
          "color": "rgb(0,116,217)"
         },
         "mode": "lines",
         "type": "scatter",
         "x": [
          1.2734920054416907,
          1.601062704003483,
          1.601062704003483,
          1.490920007041448
         ],
         "xaxis": "x",
         "y": [
          -1010,
          -1010,
          -1048.75,
          -1048.75
         ],
         "yaxis": "y"
        },
        {
         "hoverinfo": "text",
         "marker": {
          "color": "rgb(0,116,217)"
         },
         "mode": "lines",
         "type": "scatter",
         "x": [
          0,
          1.3426965895269913,
          1.3426965895269913,
          0
         ],
         "xaxis": "x",
         "y": [
          -1085,
          -1085,
          -1095,
          -1095
         ],
         "yaxis": "y"
        },
        {
         "hoverinfo": "text",
         "marker": {
          "color": "rgb(0,116,217)"
         },
         "mode": "lines",
         "type": "scatter",
         "x": [
          0,
          1.4646010090008625,
          1.4646010090008625,
          1.3426965895269913
         ],
         "xaxis": "x",
         "y": [
          -1075,
          -1075,
          -1090,
          -1090
         ],
         "yaxis": "y"
        },
        {
         "hoverinfo": "text",
         "marker": {
          "color": "rgb(0,116,217)"
         },
         "mode": "lines",
         "type": "scatter",
         "x": [
          0,
          1.1771112255269927,
          1.1771112255269927,
          0
         ],
         "xaxis": "x",
         "y": [
          -1105,
          -1105,
          -1115,
          -1115
         ],
         "yaxis": "y"
        },
        {
         "hoverinfo": "text",
         "marker": {
          "color": "rgb(0,116,217)"
         },
         "mode": "lines",
         "type": "scatter",
         "x": [
          1.1771112255269927,
          1.4128362896014721,
          1.4128362896014721,
          0
         ],
         "xaxis": "x",
         "y": [
          -1110,
          -1110,
          -1125,
          -1125
         ],
         "yaxis": "y"
        },
        {
         "hoverinfo": "text",
         "marker": {
          "color": "rgb(0,116,217)"
         },
         "mode": "lines",
         "type": "scatter",
         "x": [
          1.4646010090008625,
          1.8168481867199688,
          1.8168481867199688,
          1.4128362896014721
         ],
         "xaxis": "x",
         "y": [
          -1082.5,
          -1082.5,
          -1117.5,
          -1117.5
         ],
         "yaxis": "y"
        },
        {
         "hoverinfo": "text",
         "marker": {
          "color": "rgb(0,116,217)"
         },
         "mode": "lines",
         "type": "scatter",
         "x": [
          1.601062704003483,
          1.9657837262456535,
          1.9657837262456535,
          1.8168481867199688
         ],
         "xaxis": "x",
         "y": [
          -1029.375,
          -1029.375,
          -1100,
          -1100
         ],
         "yaxis": "y"
        },
        {
         "hoverinfo": "text",
         "marker": {
          "color": "rgb(0,116,217)"
         },
         "mode": "lines",
         "type": "scatter",
         "x": [
          1.7409861518652452,
          2.4769290785149325,
          2.4769290785149325,
          1.9657837262456535
         ],
         "xaxis": "x",
         "y": [
          -926.25,
          -926.25,
          -1064.6875,
          -1064.6875
         ],
         "yaxis": "y"
        },
        {
         "hoverinfo": "text",
         "marker": {
          "color": "rgb(0,116,217)"
         },
         "mode": "lines",
         "type": "scatter",
         "x": [
          0,
          1.233289828499886,
          1.233289828499886,
          0
         ],
         "xaxis": "x",
         "y": [
          -1145,
          -1145,
          -1155,
          -1155
         ],
         "yaxis": "y"
        },
        {
         "hoverinfo": "text",
         "marker": {
          "color": "rgb(0,116,217)"
         },
         "mode": "lines",
         "type": "scatter",
         "x": [
          0,
          1.2889869488008483,
          1.2889869488008483,
          1.233289828499886
         ],
         "xaxis": "x",
         "y": [
          -1135,
          -1135,
          -1150,
          -1150
         ],
         "yaxis": "y"
        },
        {
         "hoverinfo": "text",
         "marker": {
          "color": "rgb(0,116,217)"
         },
         "mode": "lines",
         "type": "scatter",
         "x": [
          0,
          1.1082673195337338,
          1.1082673195337338,
          0
         ],
         "xaxis": "x",
         "y": [
          -1165,
          -1165,
          -1175,
          -1175
         ],
         "yaxis": "y"
        },
        {
         "hoverinfo": "text",
         "marker": {
          "color": "rgb(0,116,217)"
         },
         "mode": "lines",
         "type": "scatter",
         "x": [
          1.1082673195337338,
          1.3271170752518513,
          1.3271170752518513,
          0
         ],
         "xaxis": "x",
         "y": [
          -1170,
          -1170,
          -1185,
          -1185
         ],
         "yaxis": "y"
        },
        {
         "hoverinfo": "text",
         "marker": {
          "color": "rgb(0,116,217)"
         },
         "mode": "lines",
         "type": "scatter",
         "x": [
          1.2889869488008483,
          1.4388731845394944,
          1.4388731845394944,
          1.3271170752518513
         ],
         "xaxis": "x",
         "y": [
          -1142.5,
          -1142.5,
          -1177.5,
          -1177.5
         ],
         "yaxis": "y"
        },
        {
         "hoverinfo": "text",
         "marker": {
          "color": "rgb(0,116,217)"
         },
         "mode": "lines",
         "type": "scatter",
         "x": [
          0,
          1.1967327549985811,
          1.1967327549985811,
          0
         ],
         "xaxis": "x",
         "y": [
          -1205,
          -1205,
          -1215,
          -1215
         ],
         "yaxis": "y"
        },
        {
         "hoverinfo": "text",
         "marker": {
          "color": "rgb(0,116,217)"
         },
         "mode": "lines",
         "type": "scatter",
         "x": [
          0,
          1.3429394909453858,
          1.3429394909453858,
          1.1967327549985811
         ],
         "xaxis": "x",
         "y": [
          -1195,
          -1195,
          -1210,
          -1210
         ],
         "yaxis": "y"
        },
        {
         "hoverinfo": "text",
         "marker": {
          "color": "rgb(0,116,217)"
         },
         "mode": "lines",
         "type": "scatter",
         "x": [
          0,
          1.2187325599137493,
          1.2187325599137493,
          0
         ],
         "xaxis": "x",
         "y": [
          -1225,
          -1225,
          -1235,
          -1235
         ],
         "yaxis": "y"
        },
        {
         "hoverinfo": "text",
         "marker": {
          "color": "rgb(0,116,217)"
         },
         "mode": "lines",
         "type": "scatter",
         "x": [
          0,
          1.245546269050238,
          1.245546269050238,
          0
         ],
         "xaxis": "x",
         "y": [
          -1245,
          -1245,
          -1255,
          -1255
         ],
         "yaxis": "y"
        },
        {
         "hoverinfo": "text",
         "marker": {
          "color": "rgb(0,116,217)"
         },
         "mode": "lines",
         "type": "scatter",
         "x": [
          1.245546269050238,
          1.2887733806490496,
          1.2887733806490496,
          0
         ],
         "xaxis": "x",
         "y": [
          -1250,
          -1250,
          -1265,
          -1265
         ],
         "yaxis": "y"
        },
        {
         "hoverinfo": "text",
         "marker": {
          "color": "rgb(0,116,217)"
         },
         "mode": "lines",
         "type": "scatter",
         "x": [
          1.2187325599137493,
          1.323911438648829,
          1.323911438648829,
          1.2887733806490496
         ],
         "xaxis": "x",
         "y": [
          -1230,
          -1230,
          -1257.5,
          -1257.5
         ],
         "yaxis": "y"
        },
        {
         "hoverinfo": "text",
         "marker": {
          "color": "rgb(0,116,217)"
         },
         "mode": "lines",
         "type": "scatter",
         "x": [
          1.323911438648829,
          1.6176385143642829,
          1.6176385143642829,
          0
         ],
         "xaxis": "x",
         "y": [
          -1243.75,
          -1243.75,
          -1275,
          -1275
         ],
         "yaxis": "y"
        },
        {
         "hoverinfo": "text",
         "marker": {
          "color": "rgb(0,116,217)"
         },
         "mode": "lines",
         "type": "scatter",
         "x": [
          1.3429394909453858,
          1.6516794675877335,
          1.6516794675877335,
          1.6176385143642829
         ],
         "xaxis": "x",
         "y": [
          -1202.5,
          -1202.5,
          -1259.375,
          -1259.375
         ],
         "yaxis": "y"
        },
        {
         "hoverinfo": "text",
         "marker": {
          "color": "rgb(0,116,217)"
         },
         "mode": "lines",
         "type": "scatter",
         "x": [
          1.4388731845394944,
          2.0453723179839085,
          2.0453723179839085,
          1.6516794675877335
         ],
         "xaxis": "x",
         "y": [
          -1160,
          -1160,
          -1230.9375,
          -1230.9375
         ],
         "yaxis": "y"
        },
        {
         "hoverinfo": "text",
         "marker": {
          "color": "rgb(0,116,217)"
         },
         "mode": "lines",
         "type": "scatter",
         "x": [
          0,
          1.3132665183243866,
          1.3132665183243866,
          0
         ],
         "xaxis": "x",
         "y": [
          -1285,
          -1285,
          -1295,
          -1295
         ],
         "yaxis": "y"
        },
        {
         "hoverinfo": "text",
         "marker": {
          "color": "rgb(0,116,217)"
         },
         "mode": "lines",
         "type": "scatter",
         "x": [
          0,
          1.2593883459880135,
          1.2593883459880135,
          0
         ],
         "xaxis": "x",
         "y": [
          -1305,
          -1305,
          -1315,
          -1315
         ],
         "yaxis": "y"
        },
        {
         "hoverinfo": "text",
         "marker": {
          "color": "rgb(0,116,217)"
         },
         "mode": "lines",
         "type": "scatter",
         "x": [
          1.3132665183243866,
          1.3675392510956386,
          1.3675392510956386,
          1.2593883459880135
         ],
         "xaxis": "x",
         "y": [
          -1290,
          -1290,
          -1310,
          -1310
         ],
         "yaxis": "y"
        },
        {
         "hoverinfo": "text",
         "marker": {
          "color": "rgb(0,116,217)"
         },
         "mode": "lines",
         "type": "scatter",
         "x": [
          0,
          1.2563372046889958,
          1.2563372046889958,
          0
         ],
         "xaxis": "x",
         "y": [
          -1325,
          -1325,
          -1335,
          -1335
         ],
         "yaxis": "y"
        },
        {
         "hoverinfo": "text",
         "marker": {
          "color": "rgb(0,116,217)"
         },
         "mode": "lines",
         "type": "scatter",
         "x": [
          0,
          1.3155060093573319,
          1.3155060093573319,
          0
         ],
         "xaxis": "x",
         "y": [
          -1345,
          -1345,
          -1355,
          -1355
         ],
         "yaxis": "y"
        },
        {
         "hoverinfo": "text",
         "marker": {
          "color": "rgb(0,116,217)"
         },
         "mode": "lines",
         "type": "scatter",
         "x": [
          1.2563372046889958,
          1.3539602825488422,
          1.3539602825488422,
          1.3155060093573319
         ],
         "xaxis": "x",
         "y": [
          -1330,
          -1330,
          -1350,
          -1350
         ],
         "yaxis": "y"
        },
        {
         "hoverinfo": "text",
         "marker": {
          "color": "rgb(0,116,217)"
         },
         "mode": "lines",
         "type": "scatter",
         "x": [
          0,
          1.3031143795460565,
          1.3031143795460565,
          0
         ],
         "xaxis": "x",
         "y": [
          -1365,
          -1365,
          -1375,
          -1375
         ],
         "yaxis": "y"
        },
        {
         "hoverinfo": "text",
         "marker": {
          "color": "rgb(0,116,217)"
         },
         "mode": "lines",
         "type": "scatter",
         "x": [
          1.3539602825488422,
          1.5452743396581408,
          1.5452743396581408,
          1.3031143795460565
         ],
         "xaxis": "x",
         "y": [
          -1340,
          -1340,
          -1370,
          -1370
         ],
         "yaxis": "y"
        },
        {
         "hoverinfo": "text",
         "marker": {
          "color": "rgb(0,116,217)"
         },
         "mode": "lines",
         "type": "scatter",
         "x": [
          1.3675392510956386,
          1.6986359931899295,
          1.6986359931899295,
          1.5452743396581408
         ],
         "xaxis": "x",
         "y": [
          -1300,
          -1300,
          -1355,
          -1355
         ],
         "yaxis": "y"
        },
        {
         "hoverinfo": "text",
         "marker": {
          "color": "rgb(0,116,217)"
         },
         "mode": "lines",
         "type": "scatter",
         "x": [
          0,
          1.2450849946099682,
          1.2450849946099682,
          0
         ],
         "xaxis": "x",
         "y": [
          -1405,
          -1405,
          -1415,
          -1415
         ],
         "yaxis": "y"
        },
        {
         "hoverinfo": "text",
         "marker": {
          "color": "rgb(0,116,217)"
         },
         "mode": "lines",
         "type": "scatter",
         "x": [
          0,
          1.3287027909620637,
          1.3287027909620637,
          1.2450849946099682
         ],
         "xaxis": "x",
         "y": [
          -1395,
          -1395,
          -1410,
          -1410
         ],
         "yaxis": "y"
        },
        {
         "hoverinfo": "text",
         "marker": {
          "color": "rgb(0,116,217)"
         },
         "mode": "lines",
         "type": "scatter",
         "x": [
          0,
          1.3466911562060147,
          1.3466911562060147,
          1.3287027909620637
         ],
         "xaxis": "x",
         "y": [
          -1385,
          -1385,
          -1402.5,
          -1402.5
         ],
         "yaxis": "y"
        },
        {
         "hoverinfo": "text",
         "marker": {
          "color": "rgb(0,116,217)"
         },
         "mode": "lines",
         "type": "scatter",
         "x": [
          0,
          1.2790718192551411,
          1.2790718192551411,
          0
         ],
         "xaxis": "x",
         "y": [
          -1425,
          -1425,
          -1435,
          -1435
         ],
         "yaxis": "y"
        },
        {
         "hoverinfo": "text",
         "marker": {
          "color": "rgb(0,116,217)"
         },
         "mode": "lines",
         "type": "scatter",
         "x": [
          1.3466911562060147,
          1.4713778716386041,
          1.4713778716386041,
          1.2790718192551411
         ],
         "xaxis": "x",
         "y": [
          -1393.75,
          -1393.75,
          -1430,
          -1430
         ],
         "yaxis": "y"
        },
        {
         "hoverinfo": "text",
         "marker": {
          "color": "rgb(0,116,217)"
         },
         "mode": "lines",
         "type": "scatter",
         "x": [
          1.6986359931899295,
          1.8402229415589324,
          1.8402229415589324,
          1.4713778716386041
         ],
         "xaxis": "x",
         "y": [
          -1327.5,
          -1327.5,
          -1411.875,
          -1411.875
         ],
         "yaxis": "y"
        },
        {
         "hoverinfo": "text",
         "marker": {
          "color": "rgb(0,116,217)"
         },
         "mode": "lines",
         "type": "scatter",
         "x": [
          2.0453723179839085,
          2.845807949935819,
          2.845807949935819,
          1.8402229415589324
         ],
         "xaxis": "x",
         "y": [
          -1195.46875,
          -1195.46875,
          -1369.6875,
          -1369.6875
         ],
         "yaxis": "y"
        },
        {
         "hoverinfo": "text",
         "marker": {
          "color": "rgb(0,116,217)"
         },
         "mode": "lines",
         "type": "scatter",
         "x": [
          2.4769290785149325,
          3.3893633651091477,
          3.3893633651091477,
          2.845807949935819
         ],
         "xaxis": "x",
         "y": [
          -995.46875,
          -995.46875,
          -1282.578125,
          -1282.578125
         ],
         "yaxis": "y"
        },
        {
         "hoverinfo": "text",
         "marker": {
          "color": "rgb(0,116,217)"
         },
         "mode": "lines",
         "type": "scatter",
         "x": [
          0,
          1.126134114267308,
          1.126134114267308,
          0
         ],
         "xaxis": "x",
         "y": [
          -1445,
          -1445,
          -1455,
          -1455
         ],
         "yaxis": "y"
        },
        {
         "hoverinfo": "text",
         "marker": {
          "color": "rgb(0,116,217)"
         },
         "mode": "lines",
         "type": "scatter",
         "x": [
          0,
          1.1582185224291952,
          1.1582185224291952,
          0
         ],
         "xaxis": "x",
         "y": [
          -1465,
          -1465,
          -1475,
          -1475
         ],
         "yaxis": "y"
        },
        {
         "hoverinfo": "text",
         "marker": {
          "color": "rgb(0,116,217)"
         },
         "mode": "lines",
         "type": "scatter",
         "x": [
          0,
          1.2440851232471655,
          1.2440851232471655,
          0
         ],
         "xaxis": "x",
         "y": [
          -1485,
          -1485,
          -1495,
          -1495
         ],
         "yaxis": "y"
        },
        {
         "hoverinfo": "text",
         "marker": {
          "color": "rgb(0,116,217)"
         },
         "mode": "lines",
         "type": "scatter",
         "x": [
          1.1582185224291952,
          1.616171940827835,
          1.616171940827835,
          1.2440851232471655
         ],
         "xaxis": "x",
         "y": [
          -1470,
          -1470,
          -1490,
          -1490
         ],
         "yaxis": "y"
        },
        {
         "hoverinfo": "text",
         "marker": {
          "color": "rgb(0,116,217)"
         },
         "mode": "lines",
         "type": "scatter",
         "x": [
          0,
          1.2891742974287081,
          1.2891742974287081,
          0
         ],
         "xaxis": "x",
         "y": [
          -1505,
          -1505,
          -1515,
          -1515
         ],
         "yaxis": "y"
        },
        {
         "hoverinfo": "text",
         "marker": {
          "color": "rgb(0,116,217)"
         },
         "mode": "lines",
         "type": "scatter",
         "x": [
          0,
          1.2461137610021618,
          1.2461137610021618,
          0
         ],
         "xaxis": "x",
         "y": [
          -1525,
          -1525,
          -1535,
          -1535
         ],
         "yaxis": "y"
        },
        {
         "hoverinfo": "text",
         "marker": {
          "color": "rgb(0,116,217)"
         },
         "mode": "lines",
         "type": "scatter",
         "x": [
          1.2461137610021618,
          1.404740884097539,
          1.404740884097539,
          0
         ],
         "xaxis": "x",
         "y": [
          -1530,
          -1530,
          -1545,
          -1545
         ],
         "yaxis": "y"
        },
        {
         "hoverinfo": "text",
         "marker": {
          "color": "rgb(0,116,217)"
         },
         "mode": "lines",
         "type": "scatter",
         "x": [
          1.2891742974287081,
          1.4695088611655736,
          1.4695088611655736,
          1.404740884097539
         ],
         "xaxis": "x",
         "y": [
          -1510,
          -1510,
          -1537.5,
          -1537.5
         ],
         "yaxis": "y"
        },
        {
         "hoverinfo": "text",
         "marker": {
          "color": "rgb(0,116,217)"
         },
         "mode": "lines",
         "type": "scatter",
         "x": [
          1.616171940827835,
          1.6582115813491363,
          1.6582115813491363,
          1.4695088611655736
         ],
         "xaxis": "x",
         "y": [
          -1480,
          -1480,
          -1523.75,
          -1523.75
         ],
         "yaxis": "y"
        },
        {
         "hoverinfo": "text",
         "marker": {
          "color": "rgb(0,116,217)"
         },
         "mode": "lines",
         "type": "scatter",
         "x": [
          0,
          1.2997619625483348,
          1.2997619625483348,
          0
         ],
         "xaxis": "x",
         "y": [
          -1555,
          -1555,
          -1565,
          -1565
         ],
         "yaxis": "y"
        },
        {
         "hoverinfo": "text",
         "marker": {
          "color": "rgb(0,116,217)"
         },
         "mode": "lines",
         "type": "scatter",
         "x": [
          1.6582115813491363,
          1.6728122983561595,
          1.6728122983561595,
          1.2997619625483348
         ],
         "xaxis": "x",
         "y": [
          -1501.875,
          -1501.875,
          -1560,
          -1560
         ],
         "yaxis": "y"
        },
        {
         "hoverinfo": "text",
         "marker": {
          "color": "rgb(0,116,217)"
         },
         "mode": "lines",
         "type": "scatter",
         "x": [
          1.126134114267308,
          1.8777687322848315,
          1.8777687322848315,
          1.6728122983561595
         ],
         "xaxis": "x",
         "y": [
          -1450,
          -1450,
          -1530.9375,
          -1530.9375
         ],
         "yaxis": "y"
        },
        {
         "hoverinfo": "text",
         "marker": {
          "color": "rgb(0,116,217)"
         },
         "mode": "lines",
         "type": "scatter",
         "x": [
          0,
          1.355330953752452,
          1.355330953752452,
          0
         ],
         "xaxis": "x",
         "y": [
          -1575,
          -1575,
          -1585,
          -1585
         ],
         "yaxis": "y"
        },
        {
         "hoverinfo": "text",
         "marker": {
          "color": "rgb(0,116,217)"
         },
         "mode": "lines",
         "type": "scatter",
         "x": [
          0,
          1.3220635540985024,
          1.3220635540985024,
          0
         ],
         "xaxis": "x",
         "y": [
          -1595,
          -1595,
          -1605,
          -1605
         ],
         "yaxis": "y"
        },
        {
         "hoverinfo": "text",
         "marker": {
          "color": "rgb(0,116,217)"
         },
         "mode": "lines",
         "type": "scatter",
         "x": [
          0,
          1.2801127146239704,
          1.2801127146239704,
          0
         ],
         "xaxis": "x",
         "y": [
          -1615,
          -1615,
          -1625,
          -1625
         ],
         "yaxis": "y"
        },
        {
         "hoverinfo": "text",
         "marker": {
          "color": "rgb(0,116,217)"
         },
         "mode": "lines",
         "type": "scatter",
         "x": [
          1.3220635540985024,
          1.3563427764245624,
          1.3563427764245624,
          1.2801127146239704
         ],
         "xaxis": "x",
         "y": [
          -1600,
          -1600,
          -1620,
          -1620
         ],
         "yaxis": "y"
        },
        {
         "hoverinfo": "text",
         "marker": {
          "color": "rgb(0,116,217)"
         },
         "mode": "lines",
         "type": "scatter",
         "x": [
          1.3563427764245624,
          1.4551048647427038,
          1.4551048647427038,
          0
         ],
         "xaxis": "x",
         "y": [
          -1610,
          -1610,
          -1635,
          -1635
         ],
         "yaxis": "y"
        },
        {
         "hoverinfo": "text",
         "marker": {
          "color": "rgb(0,116,217)"
         },
         "mode": "lines",
         "type": "scatter",
         "x": [
          1.355330953752452,
          1.5127804356181767,
          1.5127804356181767,
          1.4551048647427038
         ],
         "xaxis": "x",
         "y": [
          -1580,
          -1580,
          -1622.5,
          -1622.5
         ],
         "yaxis": "y"
        },
        {
         "hoverinfo": "text",
         "marker": {
          "color": "rgb(0,116,217)"
         },
         "mode": "lines",
         "type": "scatter",
         "x": [
          0,
          1.1772246859337208,
          1.1772246859337208,
          0
         ],
         "xaxis": "x",
         "y": [
          -1645,
          -1645,
          -1655,
          -1655
         ],
         "yaxis": "y"
        },
        {
         "hoverinfo": "text",
         "marker": {
          "color": "rgb(0,116,217)"
         },
         "mode": "lines",
         "type": "scatter",
         "x": [
          1.5127804356181767,
          1.5807718510449362,
          1.5807718510449362,
          1.1772246859337208
         ],
         "xaxis": "x",
         "y": [
          -1601.25,
          -1601.25,
          -1650,
          -1650
         ],
         "yaxis": "y"
        },
        {
         "hoverinfo": "text",
         "marker": {
          "color": "rgb(0,116,217)"
         },
         "mode": "lines",
         "type": "scatter",
         "x": [
          1.8777687322848315,
          2.335428312472296,
          2.335428312472296,
          1.5807718510449362
         ],
         "xaxis": "x",
         "y": [
          -1490.46875,
          -1490.46875,
          -1625.625,
          -1625.625
         ],
         "yaxis": "y"
        },
        {
         "hoverinfo": "text",
         "marker": {
          "color": "rgb(0,116,217)"
         },
         "mode": "lines",
         "type": "scatter",
         "x": [
          3.3893633651091477,
          3.9521097688683433,
          3.9521097688683433,
          2.335428312472296
         ],
         "xaxis": "x",
         "y": [
          -1139.0234375,
          -1139.0234375,
          -1558.046875,
          -1558.046875
         ],
         "yaxis": "y"
        },
        {
         "hoverinfo": "text",
         "marker": {
          "color": "rgb(0,116,217)"
         },
         "mode": "lines",
         "type": "scatter",
         "x": [
          1.9941511375203087,
          4.475876279151717,
          4.475876279151717,
          3.9521097688683433
         ],
         "xaxis": "x",
         "y": [
          -803.28125,
          -803.28125,
          -1348.53515625,
          -1348.53515625
         ],
         "yaxis": "y"
        },
        {
         "hoverinfo": "text",
         "marker": {
          "color": "rgb(0,116,217)"
         },
         "mode": "lines",
         "type": "scatter",
         "x": [
          0,
          1.168811571760273,
          1.168811571760273,
          0
         ],
         "xaxis": "x",
         "y": [
          -1665,
          -1665,
          -1675,
          -1675
         ],
         "yaxis": "y"
        },
        {
         "hoverinfo": "text",
         "marker": {
          "color": "rgb(0,116,217)"
         },
         "mode": "lines",
         "type": "scatter",
         "x": [
          0,
          1.2532954888031724,
          1.2532954888031724,
          0
         ],
         "xaxis": "x",
         "y": [
          -1685,
          -1685,
          -1695,
          -1695
         ],
         "yaxis": "y"
        },
        {
         "hoverinfo": "text",
         "marker": {
          "color": "rgb(0,116,217)"
         },
         "mode": "lines",
         "type": "scatter",
         "x": [
          1.168811571760273,
          1.3793995115491609,
          1.3793995115491609,
          1.2532954888031724
         ],
         "xaxis": "x",
         "y": [
          -1670,
          -1670,
          -1690,
          -1690
         ],
         "yaxis": "y"
        },
        {
         "hoverinfo": "text",
         "marker": {
          "color": "rgb(0,116,217)"
         },
         "mode": "lines",
         "type": "scatter",
         "x": [
          0,
          1.2850154484449399,
          1.2850154484449399,
          0
         ],
         "xaxis": "x",
         "y": [
          -1705,
          -1705,
          -1715,
          -1715
         ],
         "yaxis": "y"
        },
        {
         "hoverinfo": "text",
         "marker": {
          "color": "rgb(0,116,217)"
         },
         "mode": "lines",
         "type": "scatter",
         "x": [
          0,
          1.2275639910864964,
          1.2275639910864964,
          0
         ],
         "xaxis": "x",
         "y": [
          -1725,
          -1725,
          -1735,
          -1735
         ],
         "yaxis": "y"
        },
        {
         "hoverinfo": "text",
         "marker": {
          "color": "rgb(0,116,217)"
         },
         "mode": "lines",
         "type": "scatter",
         "x": [
          1.2850154484449399,
          1.4801982414342671,
          1.4801982414342671,
          1.2275639910864964
         ],
         "xaxis": "x",
         "y": [
          -1710,
          -1710,
          -1730,
          -1730
         ],
         "yaxis": "y"
        },
        {
         "hoverinfo": "text",
         "marker": {
          "color": "rgb(0,116,217)"
         },
         "mode": "lines",
         "type": "scatter",
         "x": [
          0,
          1.2049386902984065,
          1.2049386902984065,
          0
         ],
         "xaxis": "x",
         "y": [
          -1745,
          -1745,
          -1755,
          -1755
         ],
         "yaxis": "y"
        },
        {
         "hoverinfo": "text",
         "marker": {
          "color": "rgb(0,116,217)"
         },
         "mode": "lines",
         "type": "scatter",
         "x": [
          1.2049386902984065,
          1.323019330983447,
          1.323019330983447,
          0
         ],
         "xaxis": "x",
         "y": [
          -1750,
          -1750,
          -1765,
          -1765
         ],
         "yaxis": "y"
        },
        {
         "hoverinfo": "text",
         "marker": {
          "color": "rgb(0,116,217)"
         },
         "mode": "lines",
         "type": "scatter",
         "x": [
          1.4801982414342671,
          1.6441240986533687,
          1.6441240986533687,
          1.323019330983447
         ],
         "xaxis": "x",
         "y": [
          -1720,
          -1720,
          -1757.5,
          -1757.5
         ],
         "yaxis": "y"
        },
        {
         "hoverinfo": "text",
         "marker": {
          "color": "rgb(0,116,217)"
         },
         "mode": "lines",
         "type": "scatter",
         "x": [
          1.3793995115491609,
          1.8694410330904228,
          1.8694410330904228,
          1.6441240986533687
         ],
         "xaxis": "x",
         "y": [
          -1680,
          -1680,
          -1738.75,
          -1738.75
         ],
         "yaxis": "y"
        },
        {
         "hoverinfo": "text",
         "marker": {
          "color": "rgb(0,116,217)"
         },
         "mode": "lines",
         "type": "scatter",
         "x": [
          0,
          1.2048140763126614,
          1.2048140763126614,
          0
         ],
         "xaxis": "x",
         "y": [
          -1775,
          -1775,
          -1785,
          -1785
         ],
         "yaxis": "y"
        },
        {
         "hoverinfo": "text",
         "marker": {
          "color": "rgb(0,116,217)"
         },
         "mode": "lines",
         "type": "scatter",
         "x": [
          1.2048140763126614,
          1.3006377752003127,
          1.3006377752003127,
          0
         ],
         "xaxis": "x",
         "y": [
          -1780,
          -1780,
          -1795,
          -1795
         ],
         "yaxis": "y"
        },
        {
         "hoverinfo": "text",
         "marker": {
          "color": "rgb(0,116,217)"
         },
         "mode": "lines",
         "type": "scatter",
         "x": [
          0,
          1.3026317298268304,
          1.3026317298268304,
          0
         ],
         "xaxis": "x",
         "y": [
          -1805,
          -1805,
          -1815,
          -1815
         ],
         "yaxis": "y"
        },
        {
         "hoverinfo": "text",
         "marker": {
          "color": "rgb(0,116,217)"
         },
         "mode": "lines",
         "type": "scatter",
         "x": [
          0,
          1.2128139830754094,
          1.2128139830754094,
          0
         ],
         "xaxis": "x",
         "y": [
          -1825,
          -1825,
          -1835,
          -1835
         ],
         "yaxis": "y"
        },
        {
         "hoverinfo": "text",
         "marker": {
          "color": "rgb(0,116,217)"
         },
         "mode": "lines",
         "type": "scatter",
         "x": [
          1.2128139830754094,
          1.3246094879008448,
          1.3246094879008448,
          0
         ],
         "xaxis": "x",
         "y": [
          -1830,
          -1830,
          -1845,
          -1845
         ],
         "yaxis": "y"
        },
        {
         "hoverinfo": "text",
         "marker": {
          "color": "rgb(0,116,217)"
         },
         "mode": "lines",
         "type": "scatter",
         "x": [
          1.3026317298268304,
          1.3333732681067447,
          1.3333732681067447,
          1.3246094879008448
         ],
         "xaxis": "x",
         "y": [
          -1810,
          -1810,
          -1837.5,
          -1837.5
         ],
         "yaxis": "y"
        },
        {
         "hoverinfo": "text",
         "marker": {
          "color": "rgb(0,116,217)"
         },
         "mode": "lines",
         "type": "scatter",
         "x": [
          0,
          1.2147727771162662,
          1.2147727771162662,
          0
         ],
         "xaxis": "x",
         "y": [
          -1855,
          -1855,
          -1865,
          -1865
         ],
         "yaxis": "y"
        },
        {
         "hoverinfo": "text",
         "marker": {
          "color": "rgb(0,116,217)"
         },
         "mode": "lines",
         "type": "scatter",
         "x": [
          1.3333732681067447,
          1.5306004018885144,
          1.5306004018885144,
          1.2147727771162662
         ],
         "xaxis": "x",
         "y": [
          -1823.75,
          -1823.75,
          -1860,
          -1860
         ],
         "yaxis": "y"
        },
        {
         "hoverinfo": "text",
         "marker": {
          "color": "rgb(0,116,217)"
         },
         "mode": "lines",
         "type": "scatter",
         "x": [
          1.3006377752003127,
          1.7972659336144485,
          1.7972659336144485,
          1.5306004018885144
         ],
         "xaxis": "x",
         "y": [
          -1787.5,
          -1787.5,
          -1841.875,
          -1841.875
         ],
         "yaxis": "y"
        },
        {
         "hoverinfo": "text",
         "marker": {
          "color": "rgb(0,116,217)"
         },
         "mode": "lines",
         "type": "scatter",
         "x": [
          0,
          1.2004683959189282,
          1.2004683959189282,
          0
         ],
         "xaxis": "x",
         "y": [
          -1875,
          -1875,
          -1885,
          -1885
         ],
         "yaxis": "y"
        },
        {
         "hoverinfo": "text",
         "marker": {
          "color": "rgb(0,116,217)"
         },
         "mode": "lines",
         "type": "scatter",
         "x": [
          1.2004683959189282,
          1.230512422121827,
          1.230512422121827,
          0
         ],
         "xaxis": "x",
         "y": [
          -1880,
          -1880,
          -1895,
          -1895
         ],
         "yaxis": "y"
        },
        {
         "hoverinfo": "text",
         "marker": {
          "color": "rgb(0,116,217)"
         },
         "mode": "lines",
         "type": "scatter",
         "x": [
          0,
          1.1645374407625033,
          1.1645374407625033,
          0
         ],
         "xaxis": "x",
         "y": [
          -1905,
          -1905,
          -1915,
          -1915
         ],
         "yaxis": "y"
        },
        {
         "hoverinfo": "text",
         "marker": {
          "color": "rgb(0,116,217)"
         },
         "mode": "lines",
         "type": "scatter",
         "x": [
          1.230512422121827,
          1.3410830928039823,
          1.3410830928039823,
          1.1645374407625033
         ],
         "xaxis": "x",
         "y": [
          -1887.5,
          -1887.5,
          -1910,
          -1910
         ],
         "yaxis": "y"
        },
        {
         "hoverinfo": "text",
         "marker": {
          "color": "rgb(0,116,217)"
         },
         "mode": "lines",
         "type": "scatter",
         "x": [
          0,
          1.3507762136725143,
          1.3507762136725143,
          0
         ],
         "xaxis": "x",
         "y": [
          -1925,
          -1925,
          -1935,
          -1935
         ],
         "yaxis": "y"
        },
        {
         "hoverinfo": "text",
         "marker": {
          "color": "rgb(0,116,217)"
         },
         "mode": "lines",
         "type": "scatter",
         "x": [
          0,
          1.2202456647684181,
          1.2202456647684181,
          0
         ],
         "xaxis": "x",
         "y": [
          -1945,
          -1945,
          -1955,
          -1955
         ],
         "yaxis": "y"
        },
        {
         "hoverinfo": "text",
         "marker": {
          "color": "rgb(0,116,217)"
         },
         "mode": "lines",
         "type": "scatter",
         "x": [
          1.3507762136725143,
          1.4192592565887217,
          1.4192592565887217,
          1.2202456647684181
         ],
         "xaxis": "x",
         "y": [
          -1930,
          -1930,
          -1950,
          -1950
         ],
         "yaxis": "y"
        },
        {
         "hoverinfo": "text",
         "marker": {
          "color": "rgb(0,116,217)"
         },
         "mode": "lines",
         "type": "scatter",
         "x": [
          0,
          1.303644746216064,
          1.303644746216064,
          0
         ],
         "xaxis": "x",
         "y": [
          -1965,
          -1965,
          -1975,
          -1975
         ],
         "yaxis": "y"
        },
        {
         "hoverinfo": "text",
         "marker": {
          "color": "rgb(0,116,217)"
         },
         "mode": "lines",
         "type": "scatter",
         "x": [
          1.4192592565887217,
          1.4635365187569442,
          1.4635365187569442,
          1.303644746216064
         ],
         "xaxis": "x",
         "y": [
          -1940,
          -1940,
          -1970,
          -1970
         ],
         "yaxis": "y"
        },
        {
         "hoverinfo": "text",
         "marker": {
          "color": "rgb(0,116,217)"
         },
         "mode": "lines",
         "type": "scatter",
         "x": [
          1.3410830928039823,
          1.7576556679158692,
          1.7576556679158692,
          1.4635365187569442
         ],
         "xaxis": "x",
         "y": [
          -1898.75,
          -1898.75,
          -1955,
          -1955
         ],
         "yaxis": "y"
        },
        {
         "hoverinfo": "text",
         "marker": {
          "color": "rgb(0,116,217)"
         },
         "mode": "lines",
         "type": "scatter",
         "x": [
          1.7972659336144485,
          2.0217346823155418,
          2.0217346823155418,
          1.7576556679158692
         ],
         "xaxis": "x",
         "y": [
          -1814.6875,
          -1814.6875,
          -1926.875,
          -1926.875
         ],
         "yaxis": "y"
        },
        {
         "hoverinfo": "text",
         "marker": {
          "color": "rgb(0,116,217)"
         },
         "mode": "lines",
         "type": "scatter",
         "x": [
          1.8694410330904228,
          2.5948347267156877,
          2.5948347267156877,
          2.0217346823155418
         ],
         "xaxis": "x",
         "y": [
          -1709.375,
          -1709.375,
          -1870.78125,
          -1870.78125
         ],
         "yaxis": "y"
        },
        {
         "hoverinfo": "text",
         "marker": {
          "color": "rgb(0,116,217)"
         },
         "mode": "lines",
         "type": "scatter",
         "x": [
          4.475876279151717,
          5.131461582160762,
          5.131461582160762,
          2.5948347267156877
         ],
         "xaxis": "x",
         "y": [
          -1075.908203125,
          -1075.908203125,
          -1790.078125,
          -1790.078125
         ],
         "yaxis": "y"
        },
        {
         "hoverinfo": "text",
         "marker": {
          "color": "rgb(0,116,217)"
         },
         "mode": "lines",
         "type": "scatter",
         "x": [
          0,
          1.2513482584808737,
          1.2513482584808737,
          0
         ],
         "xaxis": "x",
         "y": [
          -1995,
          -1995,
          -2005,
          -2005
         ],
         "yaxis": "y"
        },
        {
         "hoverinfo": "text",
         "marker": {
          "color": "rgb(0,116,217)"
         },
         "mode": "lines",
         "type": "scatter",
         "x": [
          0,
          1.372515654678809,
          1.372515654678809,
          1.2513482584808737
         ],
         "xaxis": "x",
         "y": [
          -1985,
          -1985,
          -2000,
          -2000
         ],
         "yaxis": "y"
        },
        {
         "hoverinfo": "text",
         "marker": {
          "color": "rgb(0,116,217)"
         },
         "mode": "lines",
         "type": "scatter",
         "x": [
          0,
          1.273853121178945,
          1.273853121178945,
          0
         ],
         "xaxis": "x",
         "y": [
          -2015,
          -2015,
          -2025,
          -2025
         ],
         "yaxis": "y"
        },
        {
         "hoverinfo": "text",
         "marker": {
          "color": "rgb(0,116,217)"
         },
         "mode": "lines",
         "type": "scatter",
         "x": [
          1.273853121178945,
          1.3834888251971977,
          1.3834888251971977,
          0
         ],
         "xaxis": "x",
         "y": [
          -2020,
          -2020,
          -2035,
          -2035
         ],
         "yaxis": "y"
        },
        {
         "hoverinfo": "text",
         "marker": {
          "color": "rgb(0,116,217)"
         },
         "mode": "lines",
         "type": "scatter",
         "x": [
          1.372515654678809,
          1.6290871347133489,
          1.6290871347133489,
          1.3834888251971977
         ],
         "xaxis": "x",
         "y": [
          -1992.5,
          -1992.5,
          -2027.5,
          -2027.5
         ],
         "yaxis": "y"
        },
        {
         "hoverinfo": "text",
         "marker": {
          "color": "rgb(0,116,217)"
         },
         "mode": "lines",
         "type": "scatter",
         "x": [
          0,
          1.1196315232057799,
          1.1196315232057799,
          0
         ],
         "xaxis": "x",
         "y": [
          -2045,
          -2045,
          -2055,
          -2055
         ],
         "yaxis": "y"
        },
        {
         "hoverinfo": "text",
         "marker": {
          "color": "rgb(0,116,217)"
         },
         "mode": "lines",
         "type": "scatter",
         "x": [
          0,
          1.1017972860648857,
          1.1017972860648857,
          0
         ],
         "xaxis": "x",
         "y": [
          -2065,
          -2065,
          -2075,
          -2075
         ],
         "yaxis": "y"
        },
        {
         "hoverinfo": "text",
         "marker": {
          "color": "rgb(0,116,217)"
         },
         "mode": "lines",
         "type": "scatter",
         "x": [
          1.1017972860648857,
          1.2359711070402912,
          1.2359711070402912,
          0
         ],
         "xaxis": "x",
         "y": [
          -2070,
          -2070,
          -2085,
          -2085
         ],
         "yaxis": "y"
        },
        {
         "hoverinfo": "text",
         "marker": {
          "color": "rgb(0,116,217)"
         },
         "mode": "lines",
         "type": "scatter",
         "x": [
          1.1196315232057799,
          1.5958879294051407,
          1.5958879294051407,
          1.2359711070402912
         ],
         "xaxis": "x",
         "y": [
          -2050,
          -2050,
          -2077.5,
          -2077.5
         ],
         "yaxis": "y"
        },
        {
         "hoverinfo": "text",
         "marker": {
          "color": "rgb(0,116,217)"
         },
         "mode": "lines",
         "type": "scatter",
         "x": [
          1.6290871347133489,
          2.0016491816233586,
          2.0016491816233586,
          1.5958879294051407
         ],
         "xaxis": "x",
         "y": [
          -2010,
          -2010,
          -2063.75,
          -2063.75
         ],
         "yaxis": "y"
        },
        {
         "hoverinfo": "text",
         "marker": {
          "color": "rgb(0,116,217)"
         },
         "mode": "lines",
         "type": "scatter",
         "x": [
          0,
          1.1144433036541477,
          1.1144433036541477,
          0
         ],
         "xaxis": "x",
         "y": [
          -2105,
          -2105,
          -2115,
          -2115
         ],
         "yaxis": "y"
        },
        {
         "hoverinfo": "text",
         "marker": {
          "color": "rgb(0,116,217)"
         },
         "mode": "lines",
         "type": "scatter",
         "x": [
          0,
          1.2465822671682718,
          1.2465822671682718,
          1.1144433036541477
         ],
         "xaxis": "x",
         "y": [
          -2095,
          -2095,
          -2110,
          -2110
         ],
         "yaxis": "y"
        },
        {
         "hoverinfo": "text",
         "marker": {
          "color": "rgb(0,116,217)"
         },
         "mode": "lines",
         "type": "scatter",
         "x": [
          0,
          1.2038491282702075,
          1.2038491282702075,
          0
         ],
         "xaxis": "x",
         "y": [
          -2135,
          -2135,
          -2145,
          -2145
         ],
         "yaxis": "y"
        },
        {
         "hoverinfo": "text",
         "marker": {
          "color": "rgb(0,116,217)"
         },
         "mode": "lines",
         "type": "scatter",
         "x": [
          0,
          1.3628179107994436,
          1.3628179107994436,
          1.2038491282702075
         ],
         "xaxis": "x",
         "y": [
          -2125,
          -2125,
          -2140,
          -2140
         ],
         "yaxis": "y"
        },
        {
         "hoverinfo": "text",
         "marker": {
          "color": "rgb(0,116,217)"
         },
         "mode": "lines",
         "type": "scatter",
         "x": [
          0,
          1.2857048759827132,
          1.2857048759827132,
          0
         ],
         "xaxis": "x",
         "y": [
          -2155,
          -2155,
          -2165,
          -2165
         ],
         "yaxis": "y"
        },
        {
         "hoverinfo": "text",
         "marker": {
          "color": "rgb(0,116,217)"
         },
         "mode": "lines",
         "type": "scatter",
         "x": [
          1.2857048759827132,
          1.307099130939124,
          1.307099130939124,
          0
         ],
         "xaxis": "x",
         "y": [
          -2160,
          -2160,
          -2175,
          -2175
         ],
         "yaxis": "y"
        },
        {
         "hoverinfo": "text",
         "marker": {
          "color": "rgb(0,116,217)"
         },
         "mode": "lines",
         "type": "scatter",
         "x": [
          1.3628179107994436,
          1.482099289044144,
          1.482099289044144,
          1.307099130939124
         ],
         "xaxis": "x",
         "y": [
          -2132.5,
          -2132.5,
          -2167.5,
          -2167.5
         ],
         "yaxis": "y"
        },
        {
         "hoverinfo": "text",
         "marker": {
          "color": "rgb(0,116,217)"
         },
         "mode": "lines",
         "type": "scatter",
         "x": [
          1.2465822671682718,
          1.9359993200874779,
          1.9359993200874779,
          1.482099289044144
         ],
         "xaxis": "x",
         "y": [
          -2102.5,
          -2102.5,
          -2150,
          -2150
         ],
         "yaxis": "y"
        },
        {
         "hoverinfo": "text",
         "marker": {
          "color": "rgb(0,116,217)"
         },
         "mode": "lines",
         "type": "scatter",
         "x": [
          2.0016491816233586,
          2.574712915878948,
          2.574712915878948,
          1.9359993200874779
         ],
         "xaxis": "x",
         "y": [
          -2036.875,
          -2036.875,
          -2126.25,
          -2126.25
         ],
         "yaxis": "y"
        },
        {
         "hoverinfo": "text",
         "marker": {
          "color": "rgb(0,116,217)"
         },
         "mode": "lines",
         "type": "scatter",
         "x": [
          0,
          1.2257457283475341,
          1.2257457283475341,
          0
         ],
         "xaxis": "x",
         "y": [
          -2185,
          -2185,
          -2195,
          -2195
         ],
         "yaxis": "y"
        },
        {
         "hoverinfo": "text",
         "marker": {
          "color": "rgb(0,116,217)"
         },
         "mode": "lines",
         "type": "scatter",
         "x": [
          0,
          1.3015569458630625,
          1.3015569458630625,
          0
         ],
         "xaxis": "x",
         "y": [
          -2205,
          -2205,
          -2215,
          -2215
         ],
         "yaxis": "y"
        },
        {
         "hoverinfo": "text",
         "marker": {
          "color": "rgb(0,116,217)"
         },
         "mode": "lines",
         "type": "scatter",
         "x": [
          0,
          1.2514284805931315,
          1.2514284805931315,
          0
         ],
         "xaxis": "x",
         "y": [
          -2225,
          -2225,
          -2235,
          -2235
         ],
         "yaxis": "y"
        },
        {
         "hoverinfo": "text",
         "marker": {
          "color": "rgb(0,116,217)"
         },
         "mode": "lines",
         "type": "scatter",
         "x": [
          1.3015569458630625,
          1.379359198976026,
          1.379359198976026,
          1.2514284805931315
         ],
         "xaxis": "x",
         "y": [
          -2210,
          -2210,
          -2230,
          -2230
         ],
         "yaxis": "y"
        },
        {
         "hoverinfo": "text",
         "marker": {
          "color": "rgb(0,116,217)"
         },
         "mode": "lines",
         "type": "scatter",
         "x": [
          1.2257457283475341,
          1.5043888143037962,
          1.5043888143037962,
          1.379359198976026
         ],
         "xaxis": "x",
         "y": [
          -2190,
          -2190,
          -2220,
          -2220
         ],
         "yaxis": "y"
        },
        {
         "hoverinfo": "text",
         "marker": {
          "color": "rgb(0,116,217)"
         },
         "mode": "lines",
         "type": "scatter",
         "x": [
          0,
          1.2668863613876855,
          1.2668863613876855,
          0
         ],
         "xaxis": "x",
         "y": [
          -2245,
          -2245,
          -2255,
          -2255
         ],
         "yaxis": "y"
        },
        {
         "hoverinfo": "text",
         "marker": {
          "color": "rgb(0,116,217)"
         },
         "mode": "lines",
         "type": "scatter",
         "x": [
          1.2668863613876855,
          1.3574943910410322,
          1.3574943910410322,
          0
         ],
         "xaxis": "x",
         "y": [
          -2250,
          -2250,
          -2265,
          -2265
         ],
         "yaxis": "y"
        },
        {
         "hoverinfo": "text",
         "marker": {
          "color": "rgb(0,116,217)"
         },
         "mode": "lines",
         "type": "scatter",
         "x": [
          0,
          1.2377860180409268,
          1.2377860180409268,
          0
         ],
         "xaxis": "x",
         "y": [
          -2285,
          -2285,
          -2295,
          -2295
         ],
         "yaxis": "y"
        },
        {
         "hoverinfo": "text",
         "marker": {
          "color": "rgb(0,116,217)"
         },
         "mode": "lines",
         "type": "scatter",
         "x": [
          0,
          1.2837583898177387,
          1.2837583898177387,
          1.2377860180409268
         ],
         "xaxis": "x",
         "y": [
          -2275,
          -2275,
          -2290,
          -2290
         ],
         "yaxis": "y"
        },
        {
         "hoverinfo": "text",
         "marker": {
          "color": "rgb(0,116,217)"
         },
         "mode": "lines",
         "type": "scatter",
         "x": [
          1.3574943910410322,
          1.4803956677454653,
          1.4803956677454653,
          1.2837583898177387
         ],
         "xaxis": "x",
         "y": [
          -2257.5,
          -2257.5,
          -2282.5,
          -2282.5
         ],
         "yaxis": "y"
        },
        {
         "hoverinfo": "text",
         "marker": {
          "color": "rgb(0,116,217)"
         },
         "mode": "lines",
         "type": "scatter",
         "x": [
          1.5043888143037962,
          1.5836778246343126,
          1.5836778246343126,
          1.4803956677454653
         ],
         "xaxis": "x",
         "y": [
          -2205,
          -2205,
          -2270,
          -2270
         ],
         "yaxis": "y"
        },
        {
         "hoverinfo": "text",
         "marker": {
          "color": "rgb(0,116,217)"
         },
         "mode": "lines",
         "type": "scatter",
         "x": [
          0,
          1.2227232542613748,
          1.2227232542613748,
          0
         ],
         "xaxis": "x",
         "y": [
          -2305,
          -2305,
          -2315,
          -2315
         ],
         "yaxis": "y"
        },
        {
         "hoverinfo": "text",
         "marker": {
          "color": "rgb(0,116,217)"
         },
         "mode": "lines",
         "type": "scatter",
         "x": [
          0,
          1.079175232008127,
          1.079175232008127,
          0
         ],
         "xaxis": "x",
         "y": [
          -2325,
          -2325,
          -2335,
          -2335
         ],
         "yaxis": "y"
        },
        {
         "hoverinfo": "text",
         "marker": {
          "color": "rgb(0,116,217)"
         },
         "mode": "lines",
         "type": "scatter",
         "x": [
          1.079175232008127,
          1.1016291928679718,
          1.1016291928679718,
          0
         ],
         "xaxis": "x",
         "y": [
          -2330,
          -2330,
          -2345,
          -2345
         ],
         "yaxis": "y"
        },
        {
         "hoverinfo": "text",
         "marker": {
          "color": "rgb(0,116,217)"
         },
         "mode": "lines",
         "type": "scatter",
         "x": [
          1.2227232542613748,
          1.4111040736859244,
          1.4111040736859244,
          1.1016291928679718
         ],
         "xaxis": "x",
         "y": [
          -2310,
          -2310,
          -2337.5,
          -2337.5
         ],
         "yaxis": "y"
        },
        {
         "hoverinfo": "text",
         "marker": {
          "color": "rgb(0,116,217)"
         },
         "mode": "lines",
         "type": "scatter",
         "x": [
          1.5836778246343126,
          2.1476295615822023,
          2.1476295615822023,
          1.4111040736859244
         ],
         "xaxis": "x",
         "y": [
          -2237.5,
          -2237.5,
          -2323.75,
          -2323.75
         ],
         "yaxis": "y"
        },
        {
         "hoverinfo": "text",
         "marker": {
          "color": "rgb(0,116,217)"
         },
         "mode": "lines",
         "type": "scatter",
         "x": [
          2.574712915878948,
          3.2046350529465135,
          3.2046350529465135,
          2.1476295615822023
         ],
         "xaxis": "x",
         "y": [
          -2081.5625,
          -2081.5625,
          -2280.625,
          -2280.625
         ],
         "yaxis": "y"
        },
        {
         "hoverinfo": "text",
         "marker": {
          "color": "rgb(0,116,217)"
         },
         "mode": "lines",
         "type": "scatter",
         "x": [
          0,
          1.2325699980157467,
          1.2325699980157467,
          0
         ],
         "xaxis": "x",
         "y": [
          -2365,
          -2365,
          -2375,
          -2375
         ],
         "yaxis": "y"
        },
        {
         "hoverinfo": "text",
         "marker": {
          "color": "rgb(0,116,217)"
         },
         "mode": "lines",
         "type": "scatter",
         "x": [
          0,
          1.3109385743967652,
          1.3109385743967652,
          1.2325699980157467
         ],
         "xaxis": "x",
         "y": [
          -2355,
          -2355,
          -2370,
          -2370
         ],
         "yaxis": "y"
        },
        {
         "hoverinfo": "text",
         "marker": {
          "color": "rgb(0,116,217)"
         },
         "mode": "lines",
         "type": "scatter",
         "x": [
          1.3109385743967652,
          1.3569118137982037,
          1.3569118137982037,
          0
         ],
         "xaxis": "x",
         "y": [
          -2362.5,
          -2362.5,
          -2385,
          -2385
         ],
         "yaxis": "y"
        },
        {
         "hoverinfo": "text",
         "marker": {
          "color": "rgb(0,116,217)"
         },
         "mode": "lines",
         "type": "scatter",
         "x": [
          0,
          1.3317914500203993,
          1.3317914500203993,
          0
         ],
         "xaxis": "x",
         "y": [
          -2395,
          -2395,
          -2405,
          -2405
         ],
         "yaxis": "y"
        },
        {
         "hoverinfo": "text",
         "marker": {
          "color": "rgb(0,116,217)"
         },
         "mode": "lines",
         "type": "scatter",
         "x": [
          0,
          1.3270140790974732,
          1.3270140790974732,
          0
         ],
         "xaxis": "x",
         "y": [
          -2415,
          -2415,
          -2425,
          -2425
         ],
         "yaxis": "y"
        },
        {
         "hoverinfo": "text",
         "marker": {
          "color": "rgb(0,116,217)"
         },
         "mode": "lines",
         "type": "scatter",
         "x": [
          1.3317914500203993,
          1.4304063495382942,
          1.4304063495382942,
          1.3270140790974732
         ],
         "xaxis": "x",
         "y": [
          -2400,
          -2400,
          -2420,
          -2420
         ],
         "yaxis": "y"
        },
        {
         "hoverinfo": "text",
         "marker": {
          "color": "rgb(0,116,217)"
         },
         "mode": "lines",
         "type": "scatter",
         "x": [
          0,
          1.2872676202454612,
          1.2872676202454612,
          0
         ],
         "xaxis": "x",
         "y": [
          -2435,
          -2435,
          -2445,
          -2445
         ],
         "yaxis": "y"
        },
        {
         "hoverinfo": "text",
         "marker": {
          "color": "rgb(0,116,217)"
         },
         "mode": "lines",
         "type": "scatter",
         "x": [
          1.4304063495382942,
          1.485980412715293,
          1.485980412715293,
          1.2872676202454612
         ],
         "xaxis": "x",
         "y": [
          -2410,
          -2410,
          -2440,
          -2440
         ],
         "yaxis": "y"
        },
        {
         "hoverinfo": "text",
         "marker": {
          "color": "rgb(0,116,217)"
         },
         "mode": "lines",
         "type": "scatter",
         "x": [
          0,
          1.3346128077439867,
          1.3346128077439867,
          0
         ],
         "xaxis": "x",
         "y": [
          -2455,
          -2455,
          -2465,
          -2465
         ],
         "yaxis": "y"
        },
        {
         "hoverinfo": "text",
         "marker": {
          "color": "rgb(0,116,217)"
         },
         "mode": "lines",
         "type": "scatter",
         "x": [
          1.485980412715293,
          1.5840835845185945,
          1.5840835845185945,
          1.3346128077439867
         ],
         "xaxis": "x",
         "y": [
          -2425,
          -2425,
          -2460,
          -2460
         ],
         "yaxis": "y"
        },
        {
         "hoverinfo": "text",
         "marker": {
          "color": "rgb(0,116,217)"
         },
         "mode": "lines",
         "type": "scatter",
         "x": [
          1.3569118137982037,
          1.974942588301328,
          1.974942588301328,
          1.5840835845185945
         ],
         "xaxis": "x",
         "y": [
          -2373.75,
          -2373.75,
          -2442.5,
          -2442.5
         ],
         "yaxis": "y"
        },
        {
         "hoverinfo": "text",
         "marker": {
          "color": "rgb(0,116,217)"
         },
         "mode": "lines",
         "type": "scatter",
         "x": [
          0,
          1.318412222779946,
          1.318412222779946,
          0
         ],
         "xaxis": "x",
         "y": [
          -2485,
          -2485,
          -2495,
          -2495
         ],
         "yaxis": "y"
        },
        {
         "hoverinfo": "text",
         "marker": {
          "color": "rgb(0,116,217)"
         },
         "mode": "lines",
         "type": "scatter",
         "x": [
          0,
          1.3848751823220677,
          1.3848751823220677,
          1.318412222779946
         ],
         "xaxis": "x",
         "y": [
          -2475,
          -2475,
          -2490,
          -2490
         ],
         "yaxis": "y"
        },
        {
         "hoverinfo": "text",
         "marker": {
          "color": "rgb(0,116,217)"
         },
         "mode": "lines",
         "type": "scatter",
         "x": [
          0,
          1.3288103596923442,
          1.3288103596923442,
          0
         ],
         "xaxis": "x",
         "y": [
          -2505,
          -2505,
          -2515,
          -2515
         ],
         "yaxis": "y"
        },
        {
         "hoverinfo": "text",
         "marker": {
          "color": "rgb(0,116,217)"
         },
         "mode": "lines",
         "type": "scatter",
         "x": [
          0,
          1.2959797767258328,
          1.2959797767258328,
          0
         ],
         "xaxis": "x",
         "y": [
          -2525,
          -2525,
          -2535,
          -2535
         ],
         "yaxis": "y"
        },
        {
         "hoverinfo": "text",
         "marker": {
          "color": "rgb(0,116,217)"
         },
         "mode": "lines",
         "type": "scatter",
         "x": [
          1.3288103596923442,
          1.4397051718539364,
          1.4397051718539364,
          1.2959797767258328
         ],
         "xaxis": "x",
         "y": [
          -2510,
          -2510,
          -2530,
          -2530
         ],
         "yaxis": "y"
        },
        {
         "hoverinfo": "text",
         "marker": {
          "color": "rgb(0,116,217)"
         },
         "mode": "lines",
         "type": "scatter",
         "x": [
          1.3848751823220677,
          1.5786857408295771,
          1.5786857408295771,
          1.4397051718539364
         ],
         "xaxis": "x",
         "y": [
          -2482.5,
          -2482.5,
          -2520,
          -2520
         ],
         "yaxis": "y"
        },
        {
         "hoverinfo": "text",
         "marker": {
          "color": "rgb(0,116,217)"
         },
         "mode": "lines",
         "type": "scatter",
         "x": [
          0,
          1.269555014127988,
          1.269555014127988,
          0
         ],
         "xaxis": "x",
         "y": [
          -2555,
          -2555,
          -2565,
          -2565
         ],
         "yaxis": "y"
        },
        {
         "hoverinfo": "text",
         "marker": {
          "color": "rgb(0,116,217)"
         },
         "mode": "lines",
         "type": "scatter",
         "x": [
          0,
          1.3093523526457345,
          1.3093523526457345,
          1.269555014127988
         ],
         "xaxis": "x",
         "y": [
          -2545,
          -2545,
          -2560,
          -2560
         ],
         "yaxis": "y"
        },
        {
         "hoverinfo": "text",
         "marker": {
          "color": "rgb(0,116,217)"
         },
         "mode": "lines",
         "type": "scatter",
         "x": [
          1.3093523526457345,
          1.3817922109007015,
          1.3817922109007015,
          0
         ],
         "xaxis": "x",
         "y": [
          -2552.5,
          -2552.5,
          -2575,
          -2575
         ],
         "yaxis": "y"
        },
        {
         "hoverinfo": "text",
         "marker": {
          "color": "rgb(0,116,217)"
         },
         "mode": "lines",
         "type": "scatter",
         "x": [
          1.5786857408295771,
          1.7036779581604569,
          1.7036779581604569,
          1.3817922109007015
         ],
         "xaxis": "x",
         "y": [
          -2501.25,
          -2501.25,
          -2563.75,
          -2563.75
         ],
         "yaxis": "y"
        },
        {
         "hoverinfo": "text",
         "marker": {
          "color": "rgb(0,116,217)"
         },
         "mode": "lines",
         "type": "scatter",
         "x": [
          1.974942588301328,
          2.1857416141587187,
          2.1857416141587187,
          1.7036779581604569
         ],
         "xaxis": "x",
         "y": [
          -2408.125,
          -2408.125,
          -2532.5,
          -2532.5
         ],
         "yaxis": "y"
        },
        {
         "hoverinfo": "text",
         "marker": {
          "color": "rgb(0,116,217)"
         },
         "mode": "lines",
         "type": "scatter",
         "x": [
          0,
          1.2930004663887467,
          1.2930004663887467,
          0
         ],
         "xaxis": "x",
         "y": [
          -2595,
          -2595,
          -2605,
          -2605
         ],
         "yaxis": "y"
        },
        {
         "hoverinfo": "text",
         "marker": {
          "color": "rgb(0,116,217)"
         },
         "mode": "lines",
         "type": "scatter",
         "x": [
          0,
          1.3395606218268663,
          1.3395606218268663,
          1.2930004663887467
         ],
         "xaxis": "x",
         "y": [
          -2585,
          -2585,
          -2600,
          -2600
         ],
         "yaxis": "y"
        },
        {
         "hoverinfo": "text",
         "marker": {
          "color": "rgb(0,116,217)"
         },
         "mode": "lines",
         "type": "scatter",
         "x": [
          1.3395606218268663,
          1.3776456683396157,
          1.3776456683396157,
          0
         ],
         "xaxis": "x",
         "y": [
          -2592.5,
          -2592.5,
          -2615,
          -2615
         ],
         "yaxis": "y"
        },
        {
         "hoverinfo": "text",
         "marker": {
          "color": "rgb(0,116,217)"
         },
         "mode": "lines",
         "type": "scatter",
         "x": [
          0,
          1.3070861801563853,
          1.3070861801563853,
          0
         ],
         "xaxis": "x",
         "y": [
          -2625,
          -2625,
          -2635,
          -2635
         ],
         "yaxis": "y"
        },
        {
         "hoverinfo": "text",
         "marker": {
          "color": "rgb(0,116,217)"
         },
         "mode": "lines",
         "type": "scatter",
         "x": [
          0,
          1.2418556236420708,
          1.2418556236420708,
          0
         ],
         "xaxis": "x",
         "y": [
          -2645,
          -2645,
          -2655,
          -2655
         ],
         "yaxis": "y"
        },
        {
         "hoverinfo": "text",
         "marker": {
          "color": "rgb(0,116,217)"
         },
         "mode": "lines",
         "type": "scatter",
         "x": [
          1.3070861801563853,
          1.4043734434314237,
          1.4043734434314237,
          1.2418556236420708
         ],
         "xaxis": "x",
         "y": [
          -2630,
          -2630,
          -2650,
          -2650
         ],
         "yaxis": "y"
        },
        {
         "hoverinfo": "text",
         "marker": {
          "color": "rgb(0,116,217)"
         },
         "mode": "lines",
         "type": "scatter",
         "x": [
          1.3776456683396157,
          1.5291684641045051,
          1.5291684641045051,
          1.4043734434314237
         ],
         "xaxis": "x",
         "y": [
          -2603.75,
          -2603.75,
          -2640,
          -2640
         ],
         "yaxis": "y"
        },
        {
         "hoverinfo": "text",
         "marker": {
          "color": "rgb(0,116,217)"
         },
         "mode": "lines",
         "type": "scatter",
         "x": [
          0,
          1.2184417927174003,
          1.2184417927174003,
          0
         ],
         "xaxis": "x",
         "y": [
          -2665,
          -2665,
          -2675,
          -2675
         ],
         "yaxis": "y"
        },
        {
         "hoverinfo": "text",
         "marker": {
          "color": "rgb(0,116,217)"
         },
         "mode": "lines",
         "type": "scatter",
         "x": [
          1.2184417927174003,
          1.254687748063184,
          1.254687748063184,
          0
         ],
         "xaxis": "x",
         "y": [
          -2670,
          -2670,
          -2685,
          -2685
         ],
         "yaxis": "y"
        },
        {
         "hoverinfo": "text",
         "marker": {
          "color": "rgb(0,116,217)"
         },
         "mode": "lines",
         "type": "scatter",
         "x": [
          0,
          1.236768268394155,
          1.236768268394155,
          0
         ],
         "xaxis": "x",
         "y": [
          -2695,
          -2695,
          -2705,
          -2705
         ],
         "yaxis": "y"
        },
        {
         "hoverinfo": "text",
         "marker": {
          "color": "rgb(0,116,217)"
         },
         "mode": "lines",
         "type": "scatter",
         "x": [
          1.236768268394155,
          1.2930781737758354,
          1.2930781737758354,
          0
         ],
         "xaxis": "x",
         "y": [
          -2700,
          -2700,
          -2715,
          -2715
         ],
         "yaxis": "y"
        },
        {
         "hoverinfo": "text",
         "marker": {
          "color": "rgb(0,116,217)"
         },
         "mode": "lines",
         "type": "scatter",
         "x": [
          1.254687748063184,
          1.458417945138168,
          1.458417945138168,
          1.2930781737758354
         ],
         "xaxis": "x",
         "y": [
          -2677.5,
          -2677.5,
          -2707.5,
          -2707.5
         ],
         "yaxis": "y"
        },
        {
         "hoverinfo": "text",
         "marker": {
          "color": "rgb(0,116,217)"
         },
         "mode": "lines",
         "type": "scatter",
         "x": [
          1.5291684641045051,
          1.7632088491459423,
          1.7632088491459423,
          1.458417945138168
         ],
         "xaxis": "x",
         "y": [
          -2621.875,
          -2621.875,
          -2692.5,
          -2692.5
         ],
         "yaxis": "y"
        },
        {
         "hoverinfo": "text",
         "marker": {
          "color": "rgb(0,116,217)"
         },
         "mode": "lines",
         "type": "scatter",
         "x": [
          2.1857416141587187,
          2.6706585632678883,
          2.6706585632678883,
          1.7632088491459423
         ],
         "xaxis": "x",
         "y": [
          -2470.3125,
          -2470.3125,
          -2657.1875,
          -2657.1875
         ],
         "yaxis": "y"
        },
        {
         "hoverinfo": "text",
         "marker": {
          "color": "rgb(0,116,217)"
         },
         "mode": "lines",
         "type": "scatter",
         "x": [
          0,
          1.205513424593897,
          1.205513424593897,
          0
         ],
         "xaxis": "x",
         "y": [
          -2725,
          -2725,
          -2735,
          -2735
         ],
         "yaxis": "y"
        },
        {
         "hoverinfo": "text",
         "marker": {
          "color": "rgb(0,116,217)"
         },
         "mode": "lines",
         "type": "scatter",
         "x": [
          0,
          1.307592363494248,
          1.307592363494248,
          0
         ],
         "xaxis": "x",
         "y": [
          -2745,
          -2745,
          -2755,
          -2755
         ],
         "yaxis": "y"
        },
        {
         "hoverinfo": "text",
         "marker": {
          "color": "rgb(0,116,217)"
         },
         "mode": "lines",
         "type": "scatter",
         "x": [
          0,
          1.2818076590793095,
          1.2818076590793095,
          0
         ],
         "xaxis": "x",
         "y": [
          -2765,
          -2765,
          -2775,
          -2775
         ],
         "yaxis": "y"
        },
        {
         "hoverinfo": "text",
         "marker": {
          "color": "rgb(0,116,217)"
         },
         "mode": "lines",
         "type": "scatter",
         "x": [
          1.2818076590793095,
          1.2960945344241714,
          1.2960945344241714,
          0
         ],
         "xaxis": "x",
         "y": [
          -2770,
          -2770,
          -2785,
          -2785
         ],
         "yaxis": "y"
        },
        {
         "hoverinfo": "text",
         "marker": {
          "color": "rgb(0,116,217)"
         },
         "mode": "lines",
         "type": "scatter",
         "x": [
          1.307592363494248,
          1.437743872135141,
          1.437743872135141,
          1.2960945344241714
         ],
         "xaxis": "x",
         "y": [
          -2750,
          -2750,
          -2777.5,
          -2777.5
         ],
         "yaxis": "y"
        },
        {
         "hoverinfo": "text",
         "marker": {
          "color": "rgb(0,116,217)"
         },
         "mode": "lines",
         "type": "scatter",
         "x": [
          1.205513424593897,
          1.5780771124412,
          1.5780771124412,
          1.437743872135141
         ],
         "xaxis": "x",
         "y": [
          -2730,
          -2730,
          -2763.75,
          -2763.75
         ],
         "yaxis": "y"
        },
        {
         "hoverinfo": "text",
         "marker": {
          "color": "rgb(0,116,217)"
         },
         "mode": "lines",
         "type": "scatter",
         "x": [
          0,
          1.2590680802781635,
          1.2590680802781635,
          0
         ],
         "xaxis": "x",
         "y": [
          -2795,
          -2795,
          -2805,
          -2805
         ],
         "yaxis": "y"
        },
        {
         "hoverinfo": "text",
         "marker": {
          "color": "rgb(0,116,217)"
         },
         "mode": "lines",
         "type": "scatter",
         "x": [
          1.2590680802781635,
          1.5223188541738,
          1.5223188541738,
          0
         ],
         "xaxis": "x",
         "y": [
          -2800,
          -2800,
          -2815,
          -2815
         ],
         "yaxis": "y"
        },
        {
         "hoverinfo": "text",
         "marker": {
          "color": "rgb(0,116,217)"
         },
         "mode": "lines",
         "type": "scatter",
         "x": [
          1.5780771124412,
          1.6761014259702969,
          1.6761014259702969,
          1.5223188541738
         ],
         "xaxis": "x",
         "y": [
          -2746.875,
          -2746.875,
          -2807.5,
          -2807.5
         ],
         "yaxis": "y"
        },
        {
         "hoverinfo": "text",
         "marker": {
          "color": "rgb(0,116,217)"
         },
         "mode": "lines",
         "type": "scatter",
         "x": [
          0,
          1.310355822493489,
          1.310355822493489,
          0
         ],
         "xaxis": "x",
         "y": [
          -2835,
          -2835,
          -2845,
          -2845
         ],
         "yaxis": "y"
        },
        {
         "hoverinfo": "text",
         "marker": {
          "color": "rgb(0,116,217)"
         },
         "mode": "lines",
         "type": "scatter",
         "x": [
          0,
          1.4157887427311142,
          1.4157887427311142,
          1.310355822493489
         ],
         "xaxis": "x",
         "y": [
          -2825,
          -2825,
          -2840,
          -2840
         ],
         "yaxis": "y"
        },
        {
         "hoverinfo": "text",
         "marker": {
          "color": "rgb(0,116,217)"
         },
         "mode": "lines",
         "type": "scatter",
         "x": [
          0,
          1.3265238798837526,
          1.3265238798837526,
          0
         ],
         "xaxis": "x",
         "y": [
          -2855,
          -2855,
          -2865,
          -2865
         ],
         "yaxis": "y"
        },
        {
         "hoverinfo": "text",
         "marker": {
          "color": "rgb(0,116,217)"
         },
         "mode": "lines",
         "type": "scatter",
         "x": [
          1.4157887427311142,
          1.4529765826562047,
          1.4529765826562047,
          1.3265238798837526
         ],
         "xaxis": "x",
         "y": [
          -2832.5,
          -2832.5,
          -2860,
          -2860
         ],
         "yaxis": "y"
        },
        {
         "hoverinfo": "text",
         "marker": {
          "color": "rgb(0,116,217)"
         },
         "mode": "lines",
         "type": "scatter",
         "x": [
          0,
          1.2831891874140606,
          1.2831891874140606,
          0
         ],
         "xaxis": "x",
         "y": [
          -2885,
          -2885,
          -2895,
          -2895
         ],
         "yaxis": "y"
        },
        {
         "hoverinfo": "text",
         "marker": {
          "color": "rgb(0,116,217)"
         },
         "mode": "lines",
         "type": "scatter",
         "x": [
          0,
          1.3544178874725425,
          1.3544178874725425,
          1.2831891874140606
         ],
         "xaxis": "x",
         "y": [
          -2875,
          -2875,
          -2890,
          -2890
         ],
         "yaxis": "y"
        },
        {
         "hoverinfo": "text",
         "marker": {
          "color": "rgb(0,116,217)"
         },
         "mode": "lines",
         "type": "scatter",
         "x": [
          1.4529765826562047,
          1.5226357473081662,
          1.5226357473081662,
          1.3544178874725425
         ],
         "xaxis": "x",
         "y": [
          -2846.25,
          -2846.25,
          -2882.5,
          -2882.5
         ],
         "yaxis": "y"
        },
        {
         "hoverinfo": "text",
         "marker": {
          "color": "rgb(0,116,217)"
         },
         "mode": "lines",
         "type": "scatter",
         "x": [
          0,
          1.2963415371542237,
          1.2963415371542237,
          0
         ],
         "xaxis": "x",
         "y": [
          -2915,
          -2915,
          -2925,
          -2925
         ],
         "yaxis": "y"
        },
        {
         "hoverinfo": "text",
         "marker": {
          "color": "rgb(0,116,217)"
         },
         "mode": "lines",
         "type": "scatter",
         "x": [
          0,
          1.322745759053276,
          1.322745759053276,
          1.2963415371542237
         ],
         "xaxis": "x",
         "y": [
          -2905,
          -2905,
          -2920,
          -2920
         ],
         "yaxis": "y"
        },
        {
         "hoverinfo": "text",
         "marker": {
          "color": "rgb(0,116,217)"
         },
         "mode": "lines",
         "type": "scatter",
         "x": [
          0,
          1.2569626541678351,
          1.2569626541678351,
          0
         ],
         "xaxis": "x",
         "y": [
          -2935,
          -2935,
          -2945,
          -2945
         ],
         "yaxis": "y"
        },
        {
         "hoverinfo": "text",
         "marker": {
          "color": "rgb(0,116,217)"
         },
         "mode": "lines",
         "type": "scatter",
         "x": [
          1.2569626541678351,
          1.3067708706260064,
          1.3067708706260064,
          0
         ],
         "xaxis": "x",
         "y": [
          -2940,
          -2940,
          -2955,
          -2955
         ],
         "yaxis": "y"
        },
        {
         "hoverinfo": "text",
         "marker": {
          "color": "rgb(0,116,217)"
         },
         "mode": "lines",
         "type": "scatter",
         "x": [
          1.322745759053276,
          1.4042984928868716,
          1.4042984928868716,
          1.3067708706260064
         ],
         "xaxis": "x",
         "y": [
          -2912.5,
          -2912.5,
          -2947.5,
          -2947.5
         ],
         "yaxis": "y"
        },
        {
         "hoverinfo": "text",
         "marker": {
          "color": "rgb(0,116,217)"
         },
         "mode": "lines",
         "type": "scatter",
         "x": [
          0,
          1.3108796373475862,
          1.3108796373475862,
          0
         ],
         "xaxis": "x",
         "y": [
          -2965,
          -2965,
          -2975,
          -2975
         ],
         "yaxis": "y"
        },
        {
         "hoverinfo": "text",
         "marker": {
          "color": "rgb(0,116,217)"
         },
         "mode": "lines",
         "type": "scatter",
         "x": [
          1.4042984928868716,
          1.4978098587866275,
          1.4978098587866275,
          1.3108796373475862
         ],
         "xaxis": "x",
         "y": [
          -2930,
          -2930,
          -2970,
          -2970
         ],
         "yaxis": "y"
        },
        {
         "hoverinfo": "text",
         "marker": {
          "color": "rgb(0,116,217)"
         },
         "mode": "lines",
         "type": "scatter",
         "x": [
          1.5226357473081662,
          1.6427709309711631,
          1.6427709309711631,
          1.4978098587866275
         ],
         "xaxis": "x",
         "y": [
          -2864.375,
          -2864.375,
          -2950,
          -2950
         ],
         "yaxis": "y"
        },
        {
         "hoverinfo": "text",
         "marker": {
          "color": "rgb(0,116,217)"
         },
         "mode": "lines",
         "type": "scatter",
         "x": [
          1.6761014259702969,
          1.8349314247000712,
          1.8349314247000712,
          1.6427709309711631
         ],
         "xaxis": "x",
         "y": [
          -2777.1875,
          -2777.1875,
          -2907.1875,
          -2907.1875
         ],
         "yaxis": "y"
        },
        {
         "hoverinfo": "text",
         "marker": {
          "color": "rgb(0,116,217)"
         },
         "mode": "lines",
         "type": "scatter",
         "x": [
          2.6706585632678883,
          3.1348887755579184,
          3.1348887755579184,
          1.8349314247000712
         ],
         "xaxis": "x",
         "y": [
          -2563.75,
          -2563.75,
          -2842.1875,
          -2842.1875
         ],
         "yaxis": "y"
        },
        {
         "hoverinfo": "text",
         "marker": {
          "color": "rgb(0,116,217)"
         },
         "mode": "lines",
         "type": "scatter",
         "x": [
          3.2046350529465135,
          3.9144498112728408,
          3.9144498112728408,
          3.1348887755579184
         ],
         "xaxis": "x",
         "y": [
          -2181.09375,
          -2181.09375,
          -2702.96875,
          -2702.96875
         ],
         "yaxis": "y"
        },
        {
         "hoverinfo": "text",
         "marker": {
          "color": "rgb(0,116,217)"
         },
         "mode": "lines",
         "type": "scatter",
         "x": [
          0,
          1.1641315009860207,
          1.1641315009860207,
          0
         ],
         "xaxis": "x",
         "y": [
          -2995,
          -2995,
          -3005,
          -3005
         ],
         "yaxis": "y"
        },
        {
         "hoverinfo": "text",
         "marker": {
          "color": "rgb(0,116,217)"
         },
         "mode": "lines",
         "type": "scatter",
         "x": [
          0,
          1.365023057846478,
          1.365023057846478,
          1.1641315009860207
         ],
         "xaxis": "x",
         "y": [
          -2985,
          -2985,
          -3000,
          -3000
         ],
         "yaxis": "y"
        },
        {
         "hoverinfo": "text",
         "marker": {
          "color": "rgb(0,116,217)"
         },
         "mode": "lines",
         "type": "scatter",
         "x": [
          0,
          1.3336307921540334,
          1.3336307921540334,
          0
         ],
         "xaxis": "x",
         "y": [
          -3015,
          -3015,
          -3025,
          -3025
         ],
         "yaxis": "y"
        },
        {
         "hoverinfo": "text",
         "marker": {
          "color": "rgb(0,116,217)"
         },
         "mode": "lines",
         "type": "scatter",
         "x": [
          1.365023057846478,
          1.4424150389221533,
          1.4424150389221533,
          1.3336307921540334
         ],
         "xaxis": "x",
         "y": [
          -2992.5,
          -2992.5,
          -3020,
          -3020
         ],
         "yaxis": "y"
        },
        {
         "hoverinfo": "text",
         "marker": {
          "color": "rgb(0,116,217)"
         },
         "mode": "lines",
         "type": "scatter",
         "x": [
          0,
          1.1639117404474728,
          1.1639117404474728,
          0
         ],
         "xaxis": "x",
         "y": [
          -3045,
          -3045,
          -3055,
          -3055
         ],
         "yaxis": "y"
        },
        {
         "hoverinfo": "text",
         "marker": {
          "color": "rgb(0,116,217)"
         },
         "mode": "lines",
         "type": "scatter",
         "x": [
          0,
          1.2953656580235715,
          1.2953656580235715,
          1.1639117404474728
         ],
         "xaxis": "x",
         "y": [
          -3035,
          -3035,
          -3050,
          -3050
         ],
         "yaxis": "y"
        },
        {
         "hoverinfo": "text",
         "marker": {
          "color": "rgb(0,116,217)"
         },
         "mode": "lines",
         "type": "scatter",
         "x": [
          1.4424150389221533,
          1.8129182508480075,
          1.8129182508480075,
          1.2953656580235715
         ],
         "xaxis": "x",
         "y": [
          -3006.25,
          -3006.25,
          -3042.5,
          -3042.5
         ],
         "yaxis": "y"
        },
        {
         "hoverinfo": "text",
         "marker": {
          "color": "rgb(0,116,217)"
         },
         "mode": "lines",
         "type": "scatter",
         "x": [
          0,
          1.2286967575458454,
          1.2286967575458454,
          0
         ],
         "xaxis": "x",
         "y": [
          -3075,
          -3075,
          -3085,
          -3085
         ],
         "yaxis": "y"
        },
        {
         "hoverinfo": "text",
         "marker": {
          "color": "rgb(0,116,217)"
         },
         "mode": "lines",
         "type": "scatter",
         "x": [
          0,
          1.292403884559073,
          1.292403884559073,
          1.2286967575458454
         ],
         "xaxis": "x",
         "y": [
          -3065,
          -3065,
          -3080,
          -3080
         ],
         "yaxis": "y"
        },
        {
         "hoverinfo": "text",
         "marker": {
          "color": "rgb(0,116,217)"
         },
         "mode": "lines",
         "type": "scatter",
         "x": [
          0,
          1.134232644328548,
          1.134232644328548,
          0
         ],
         "xaxis": "x",
         "y": [
          -3095,
          -3095,
          -3105,
          -3105
         ],
         "yaxis": "y"
        },
        {
         "hoverinfo": "text",
         "marker": {
          "color": "rgb(0,116,217)"
         },
         "mode": "lines",
         "type": "scatter",
         "x": [
          0,
          1.2981108516413078,
          1.2981108516413078,
          0
         ],
         "xaxis": "x",
         "y": [
          -3115,
          -3115,
          -3125,
          -3125
         ],
         "yaxis": "y"
        },
        {
         "hoverinfo": "text",
         "marker": {
          "color": "rgb(0,116,217)"
         },
         "mode": "lines",
         "type": "scatter",
         "x": [
          1.134232644328548,
          1.430213434479957,
          1.430213434479957,
          1.2981108516413078
         ],
         "xaxis": "x",
         "y": [
          -3100,
          -3100,
          -3120,
          -3120
         ],
         "yaxis": "y"
        },
        {
         "hoverinfo": "text",
         "marker": {
          "color": "rgb(0,116,217)"
         },
         "mode": "lines",
         "type": "scatter",
         "x": [
          1.292403884559073,
          1.4809550605097772,
          1.4809550605097772,
          1.430213434479957
         ],
         "xaxis": "x",
         "y": [
          -3072.5,
          -3072.5,
          -3110,
          -3110
         ],
         "yaxis": "y"
        },
        {
         "hoverinfo": "text",
         "marker": {
          "color": "rgb(0,116,217)"
         },
         "mode": "lines",
         "type": "scatter",
         "x": [
          0,
          1.2396806459217506,
          1.2396806459217506,
          0
         ],
         "xaxis": "x",
         "y": [
          -3135,
          -3135,
          -3145,
          -3145
         ],
         "yaxis": "y"
        },
        {
         "hoverinfo": "text",
         "marker": {
          "color": "rgb(0,116,217)"
         },
         "mode": "lines",
         "type": "scatter",
         "x": [
          0,
          1.0993341501139184,
          1.0993341501139184,
          0
         ],
         "xaxis": "x",
         "y": [
          -3155,
          -3155,
          -3165,
          -3165
         ],
         "yaxis": "y"
        },
        {
         "hoverinfo": "text",
         "marker": {
          "color": "rgb(0,116,217)"
         },
         "mode": "lines",
         "type": "scatter",
         "x": [
          1.2396806459217506,
          1.5189490330696023,
          1.5189490330696023,
          1.0993341501139184
         ],
         "xaxis": "x",
         "y": [
          -3140,
          -3140,
          -3160,
          -3160
         ],
         "yaxis": "y"
        },
        {
         "hoverinfo": "text",
         "marker": {
          "color": "rgb(0,116,217)"
         },
         "mode": "lines",
         "type": "scatter",
         "x": [
          0,
          1.1486264528635948,
          1.1486264528635948,
          0
         ],
         "xaxis": "x",
         "y": [
          -3175,
          -3175,
          -3185,
          -3185
         ],
         "yaxis": "y"
        },
        {
         "hoverinfo": "text",
         "marker": {
          "color": "rgb(0,116,217)"
         },
         "mode": "lines",
         "type": "scatter",
         "x": [
          1.5189490330696023,
          1.6281556286903927,
          1.6281556286903927,
          1.1486264528635948
         ],
         "xaxis": "x",
         "y": [
          -3150,
          -3150,
          -3180,
          -3180
         ],
         "yaxis": "y"
        },
        {
         "hoverinfo": "text",
         "marker": {
          "color": "rgb(0,116,217)"
         },
         "mode": "lines",
         "type": "scatter",
         "x": [
          1.4809550605097772,
          1.731660573572006,
          1.731660573572006,
          1.6281556286903927
         ],
         "xaxis": "x",
         "y": [
          -3091.25,
          -3091.25,
          -3165,
          -3165
         ],
         "yaxis": "y"
        },
        {
         "hoverinfo": "text",
         "marker": {
          "color": "rgb(0,116,217)"
         },
         "mode": "lines",
         "type": "scatter",
         "x": [
          1.8129182508480075,
          1.9265625483627364,
          1.9265625483627364,
          1.731660573572006
         ],
         "xaxis": "x",
         "y": [
          -3024.375,
          -3024.375,
          -3128.125,
          -3128.125
         ],
         "yaxis": "y"
        },
        {
         "hoverinfo": "text",
         "marker": {
          "color": "rgb(0,116,217)"
         },
         "mode": "lines",
         "type": "scatter",
         "x": [
          0,
          1.2040391044991277,
          1.2040391044991277,
          0
         ],
         "xaxis": "x",
         "y": [
          -3205,
          -3205,
          -3215,
          -3215
         ],
         "yaxis": "y"
        },
        {
         "hoverinfo": "text",
         "marker": {
          "color": "rgb(0,116,217)"
         },
         "mode": "lines",
         "type": "scatter",
         "x": [
          0,
          1.2278261195535631,
          1.2278261195535631,
          1.2040391044991277
         ],
         "xaxis": "x",
         "y": [
          -3195,
          -3195,
          -3210,
          -3210
         ],
         "yaxis": "y"
        },
        {
         "hoverinfo": "text",
         "marker": {
          "color": "rgb(0,116,217)"
         },
         "mode": "lines",
         "type": "scatter",
         "x": [
          0,
          1.1550695696920756,
          1.1550695696920756,
          0
         ],
         "xaxis": "x",
         "y": [
          -3225,
          -3225,
          -3235,
          -3235
         ],
         "yaxis": "y"
        },
        {
         "hoverinfo": "text",
         "marker": {
          "color": "rgb(0,116,217)"
         },
         "mode": "lines",
         "type": "scatter",
         "x": [
          1.1550695696920756,
          1.2915361818173174,
          1.2915361818173174,
          0
         ],
         "xaxis": "x",
         "y": [
          -3230,
          -3230,
          -3245,
          -3245
         ],
         "yaxis": "y"
        },
        {
         "hoverinfo": "text",
         "marker": {
          "color": "rgb(0,116,217)"
         },
         "mode": "lines",
         "type": "scatter",
         "x": [
          1.2278261195535631,
          1.5402160972180547,
          1.5402160972180547,
          1.2915361818173174
         ],
         "xaxis": "x",
         "y": [
          -3202.5,
          -3202.5,
          -3237.5,
          -3237.5
         ],
         "yaxis": "y"
        },
        {
         "hoverinfo": "text",
         "marker": {
          "color": "rgb(0,116,217)"
         },
         "mode": "lines",
         "type": "scatter",
         "x": [
          0,
          1.2903640116671187,
          1.2903640116671187,
          0
         ],
         "xaxis": "x",
         "y": [
          -3255,
          -3255,
          -3265,
          -3265
         ],
         "yaxis": "y"
        },
        {
         "hoverinfo": "text",
         "marker": {
          "color": "rgb(0,116,217)"
         },
         "mode": "lines",
         "type": "scatter",
         "x": [
          0,
          1.2804228308720862,
          1.2804228308720862,
          0
         ],
         "xaxis": "x",
         "y": [
          -3275,
          -3275,
          -3285,
          -3285
         ],
         "yaxis": "y"
        },
        {
         "hoverinfo": "text",
         "marker": {
          "color": "rgb(0,116,217)"
         },
         "mode": "lines",
         "type": "scatter",
         "x": [
          1.2903640116671187,
          1.3345024276030721,
          1.3345024276030721,
          1.2804228308720862
         ],
         "xaxis": "x",
         "y": [
          -3260,
          -3260,
          -3280,
          -3280
         ],
         "yaxis": "y"
        },
        {
         "hoverinfo": "text",
         "marker": {
          "color": "rgb(0,116,217)"
         },
         "mode": "lines",
         "type": "scatter",
         "x": [
          0,
          1.2874341689853046,
          1.2874341689853046,
          0
         ],
         "xaxis": "x",
         "y": [
          -3295,
          -3295,
          -3305,
          -3305
         ],
         "yaxis": "y"
        },
        {
         "hoverinfo": "text",
         "marker": {
          "color": "rgb(0,116,217)"
         },
         "mode": "lines",
         "type": "scatter",
         "x": [
          1.3345024276030721,
          1.3611610876121636,
          1.3611610876121636,
          1.2874341689853046
         ],
         "xaxis": "x",
         "y": [
          -3270,
          -3270,
          -3300,
          -3300
         ],
         "yaxis": "y"
        },
        {
         "hoverinfo": "text",
         "marker": {
          "color": "rgb(0,116,217)"
         },
         "mode": "lines",
         "type": "scatter",
         "x": [
          0,
          1.290174250190743,
          1.290174250190743,
          0
         ],
         "xaxis": "x",
         "y": [
          -3315,
          -3315,
          -3325,
          -3325
         ],
         "yaxis": "y"
        },
        {
         "hoverinfo": "text",
         "marker": {
          "color": "rgb(0,116,217)"
         },
         "mode": "lines",
         "type": "scatter",
         "x": [
          0,
          1.2663515631354456,
          1.2663515631354456,
          0
         ],
         "xaxis": "x",
         "y": [
          -3335,
          -3335,
          -3345,
          -3345
         ],
         "yaxis": "y"
        },
        {
         "hoverinfo": "text",
         "marker": {
          "color": "rgb(0,116,217)"
         },
         "mode": "lines",
         "type": "scatter",
         "x": [
          1.290174250190743,
          1.3789261602853529,
          1.3789261602853529,
          1.2663515631354456
         ],
         "xaxis": "x",
         "y": [
          -3320,
          -3320,
          -3340,
          -3340
         ],
         "yaxis": "y"
        },
        {
         "hoverinfo": "text",
         "marker": {
          "color": "rgb(0,116,217)"
         },
         "mode": "lines",
         "type": "scatter",
         "x": [
          1.3611610876121636,
          1.7774069850792182,
          1.7774069850792182,
          1.3789261602853529
         ],
         "xaxis": "x",
         "y": [
          -3285,
          -3285,
          -3330,
          -3330
         ],
         "yaxis": "y"
        },
        {
         "hoverinfo": "text",
         "marker": {
          "color": "rgb(0,116,217)"
         },
         "mode": "lines",
         "type": "scatter",
         "x": [
          1.5402160972180547,
          2.2279954677187837,
          2.2279954677187837,
          1.7774069850792182
         ],
         "xaxis": "x",
         "y": [
          -3220,
          -3220,
          -3307.5,
          -3307.5
         ],
         "yaxis": "y"
        },
        {
         "hoverinfo": "text",
         "marker": {
          "color": "rgb(0,116,217)"
         },
         "mode": "lines",
         "type": "scatter",
         "x": [
          1.9265625483627364,
          2.505945427116274,
          2.505945427116274,
          2.2279954677187837
         ],
         "xaxis": "x",
         "y": [
          -3076.25,
          -3076.25,
          -3263.75,
          -3263.75
         ],
         "yaxis": "y"
        },
        {
         "hoverinfo": "text",
         "marker": {
          "color": "rgb(0,116,217)"
         },
         "mode": "lines",
         "type": "scatter",
         "x": [
          0,
          1.3327775753149909,
          1.3327775753149909,
          0
         ],
         "xaxis": "x",
         "y": [
          -3355,
          -3355,
          -3365,
          -3365
         ],
         "yaxis": "y"
        },
        {
         "hoverinfo": "text",
         "marker": {
          "color": "rgb(0,116,217)"
         },
         "mode": "lines",
         "type": "scatter",
         "x": [
          0,
          1.3105739013453568,
          1.3105739013453568,
          0
         ],
         "xaxis": "x",
         "y": [
          -3375,
          -3375,
          -3385,
          -3385
         ],
         "yaxis": "y"
        },
        {
         "hoverinfo": "text",
         "marker": {
          "color": "rgb(0,116,217)"
         },
         "mode": "lines",
         "type": "scatter",
         "x": [
          1.3105739013453568,
          1.3284344553542986,
          1.3284344553542986,
          0
         ],
         "xaxis": "x",
         "y": [
          -3380,
          -3380,
          -3395,
          -3395
         ],
         "yaxis": "y"
        },
        {
         "hoverinfo": "text",
         "marker": {
          "color": "rgb(0,116,217)"
         },
         "mode": "lines",
         "type": "scatter",
         "x": [
          1.3327775753149909,
          1.4259757271509015,
          1.4259757271509015,
          1.3284344553542986
         ],
         "xaxis": "x",
         "y": [
          -3360,
          -3360,
          -3387.5,
          -3387.5
         ],
         "yaxis": "y"
        },
        {
         "hoverinfo": "text",
         "marker": {
          "color": "rgb(0,116,217)"
         },
         "mode": "lines",
         "type": "scatter",
         "x": [
          0,
          1.3067007363622045,
          1.3067007363622045,
          0
         ],
         "xaxis": "x",
         "y": [
          -3405,
          -3405,
          -3415,
          -3415
         ],
         "yaxis": "y"
        },
        {
         "hoverinfo": "text",
         "marker": {
          "color": "rgb(0,116,217)"
         },
         "mode": "lines",
         "type": "scatter",
         "x": [
          1.4259757271509015,
          1.4494832641743673,
          1.4494832641743673,
          1.3067007363622045
         ],
         "xaxis": "x",
         "y": [
          -3373.75,
          -3373.75,
          -3410,
          -3410
         ],
         "yaxis": "y"
        },
        {
         "hoverinfo": "text",
         "marker": {
          "color": "rgb(0,116,217)"
         },
         "mode": "lines",
         "type": "scatter",
         "x": [
          0,
          1.2103080412579916,
          1.2103080412579916,
          0
         ],
         "xaxis": "x",
         "y": [
          -3425,
          -3425,
          -3435,
          -3435
         ],
         "yaxis": "y"
        },
        {
         "hoverinfo": "text",
         "marker": {
          "color": "rgb(0,116,217)"
         },
         "mode": "lines",
         "type": "scatter",
         "x": [
          0,
          1.267584617317293,
          1.267584617317293,
          0
         ],
         "xaxis": "x",
         "y": [
          -3445,
          -3445,
          -3455,
          -3455
         ],
         "yaxis": "y"
        },
        {
         "hoverinfo": "text",
         "marker": {
          "color": "rgb(0,116,217)"
         },
         "mode": "lines",
         "type": "scatter",
         "x": [
          1.267584617317293,
          1.3226420998791666,
          1.3226420998791666,
          0
         ],
         "xaxis": "x",
         "y": [
          -3450,
          -3450,
          -3465,
          -3465
         ],
         "yaxis": "y"
        },
        {
         "hoverinfo": "text",
         "marker": {
          "color": "rgb(0,116,217)"
         },
         "mode": "lines",
         "type": "scatter",
         "x": [
          1.2103080412579916,
          1.4108360212641329,
          1.4108360212641329,
          1.3226420998791666
         ],
         "xaxis": "x",
         "y": [
          -3430,
          -3430,
          -3457.5,
          -3457.5
         ],
         "yaxis": "y"
        },
        {
         "hoverinfo": "text",
         "marker": {
          "color": "rgb(0,116,217)"
         },
         "mode": "lines",
         "type": "scatter",
         "x": [
          1.4494832641743673,
          1.6160714619732355,
          1.6160714619732355,
          1.4108360212641329
         ],
         "xaxis": "x",
         "y": [
          -3391.875,
          -3391.875,
          -3443.75,
          -3443.75
         ],
         "yaxis": "y"
        },
        {
         "hoverinfo": "text",
         "marker": {
          "color": "rgb(0,116,217)"
         },
         "mode": "lines",
         "type": "scatter",
         "x": [
          0,
          1.1829373858199765,
          1.1829373858199765,
          0
         ],
         "xaxis": "x",
         "y": [
          -3475,
          -3475,
          -3485,
          -3485
         ],
         "yaxis": "y"
        },
        {
         "hoverinfo": "text",
         "marker": {
          "color": "rgb(0,116,217)"
         },
         "mode": "lines",
         "type": "scatter",
         "x": [
          0,
          1.2687409426794838,
          1.2687409426794838,
          0
         ],
         "xaxis": "x",
         "y": [
          -3495,
          -3495,
          -3505,
          -3505
         ],
         "yaxis": "y"
        },
        {
         "hoverinfo": "text",
         "marker": {
          "color": "rgb(0,116,217)"
         },
         "mode": "lines",
         "type": "scatter",
         "x": [
          0,
          1.3102134167615191,
          1.3102134167615191,
          0
         ],
         "xaxis": "x",
         "y": [
          -3515,
          -3515,
          -3525,
          -3525
         ],
         "yaxis": "y"
        },
        {
         "hoverinfo": "text",
         "marker": {
          "color": "rgb(0,116,217)"
         },
         "mode": "lines",
         "type": "scatter",
         "x": [
          1.3102134167615191,
          1.349018131900218,
          1.349018131900218,
          0
         ],
         "xaxis": "x",
         "y": [
          -3520,
          -3520,
          -3535,
          -3535
         ],
         "yaxis": "y"
        },
        {
         "hoverinfo": "text",
         "marker": {
          "color": "rgb(0,116,217)"
         },
         "mode": "lines",
         "type": "scatter",
         "x": [
          1.2687409426794838,
          1.3848461345286125,
          1.3848461345286125,
          1.349018131900218
         ],
         "xaxis": "x",
         "y": [
          -3500,
          -3500,
          -3527.5,
          -3527.5
         ],
         "yaxis": "y"
        },
        {
         "hoverinfo": "text",
         "marker": {
          "color": "rgb(0,116,217)"
         },
         "mode": "lines",
         "type": "scatter",
         "x": [
          1.1829373858199765,
          1.423711325249274,
          1.423711325249274,
          1.3848461345286125
         ],
         "xaxis": "x",
         "y": [
          -3480,
          -3480,
          -3513.75,
          -3513.75
         ],
         "yaxis": "y"
        },
        {
         "hoverinfo": "text",
         "marker": {
          "color": "rgb(0,116,217)"
         },
         "mode": "lines",
         "type": "scatter",
         "x": [
          0,
          1.3601461592128505,
          1.3601461592128505,
          0
         ],
         "xaxis": "x",
         "y": [
          -3545,
          -3545,
          -3555,
          -3555
         ],
         "yaxis": "y"
        },
        {
         "hoverinfo": "text",
         "marker": {
          "color": "rgb(0,116,217)"
         },
         "mode": "lines",
         "type": "scatter",
         "x": [
          1.423711325249274,
          1.498355141512817,
          1.498355141512817,
          1.3601461592128505
         ],
         "xaxis": "x",
         "y": [
          -3496.875,
          -3496.875,
          -3550,
          -3550
         ],
         "yaxis": "y"
        },
        {
         "hoverinfo": "text",
         "marker": {
          "color": "rgb(0,116,217)"
         },
         "mode": "lines",
         "type": "scatter",
         "x": [
          1.6160714619732355,
          1.6942489329384955,
          1.6942489329384955,
          1.498355141512817
         ],
         "xaxis": "x",
         "y": [
          -3417.8125,
          -3417.8125,
          -3523.4375,
          -3523.4375
         ],
         "yaxis": "y"
        },
        {
         "hoverinfo": "text",
         "marker": {
          "color": "rgb(0,116,217)"
         },
         "mode": "lines",
         "type": "scatter",
         "x": [
          0,
          1.1361109360970314,
          1.1361109360970314,
          0
         ],
         "xaxis": "x",
         "y": [
          -3575,
          -3575,
          -3585,
          -3585
         ],
         "yaxis": "y"
        },
        {
         "hoverinfo": "text",
         "marker": {
          "color": "rgb(0,116,217)"
         },
         "mode": "lines",
         "type": "scatter",
         "x": [
          0,
          1.231358018371017,
          1.231358018371017,
          1.1361109360970314
         ],
         "xaxis": "x",
         "y": [
          -3565,
          -3565,
          -3580,
          -3580
         ],
         "yaxis": "y"
        },
        {
         "hoverinfo": "text",
         "marker": {
          "color": "rgb(0,116,217)"
         },
         "mode": "lines",
         "type": "scatter",
         "x": [
          1.231358018371017,
          1.3118490885937883,
          1.3118490885937883,
          0
         ],
         "xaxis": "x",
         "y": [
          -3572.5,
          -3572.5,
          -3595,
          -3595
         ],
         "yaxis": "y"
        },
        {
         "hoverinfo": "text",
         "marker": {
          "color": "rgb(0,116,217)"
         },
         "mode": "lines",
         "type": "scatter",
         "x": [
          1.6942489329384955,
          1.9946071169789172,
          1.9946071169789172,
          1.3118490885937883
         ],
         "xaxis": "x",
         "y": [
          -3470.625,
          -3470.625,
          -3583.75,
          -3583.75
         ],
         "yaxis": "y"
        },
        {
         "hoverinfo": "text",
         "marker": {
          "color": "rgb(0,116,217)"
         },
         "mode": "lines",
         "type": "scatter",
         "x": [
          2.505945427116274,
          3.547750198468538,
          3.547750198468538,
          1.9946071169789172
         ],
         "xaxis": "x",
         "y": [
          -3170,
          -3170,
          -3527.1875,
          -3527.1875
         ],
         "yaxis": "y"
        },
        {
         "hoverinfo": "text",
         "marker": {
          "color": "rgb(0,116,217)"
         },
         "mode": "lines",
         "type": "scatter",
         "x": [
          3.9144498112728408,
          4.837637245517211,
          4.837637245517211,
          3.547750198468538
         ],
         "xaxis": "x",
         "y": [
          -2442.03125,
          -2442.03125,
          -3348.59375,
          -3348.59375
         ],
         "yaxis": "y"
        },
        {
         "hoverinfo": "text",
         "marker": {
          "color": "rgb(0,116,217)"
         },
         "mode": "lines",
         "type": "scatter",
         "x": [
          5.131461582160762,
          8.422306394937381,
          8.422306394937381,
          4.837637245517211
         ],
         "xaxis": "x",
         "y": [
          -1432.9931640625,
          -1432.9931640625,
          -2895.3125,
          -2895.3125
         ],
         "yaxis": "y"
        },
        {
         "hoverinfo": "text",
         "marker": {
          "color": "rgb(0,116,217)"
         },
         "mode": "lines",
         "type": "scatter",
         "x": [
          6.038661973923672,
          13.942604624083975,
          13.942604624083975,
          8.422306394937381
         ],
         "xaxis": "x",
         "y": [
          -254.404296875,
          -254.404296875,
          -2164.15283203125,
          -2164.15283203125
         ],
         "yaxis": "y"
        },
        {
         "hoverinfo": "text",
         "marker": {
          "color": "rgb(0,116,217)"
         },
         "mode": "lines",
         "type": "scatter",
         "x": [
          0,
          1.2521846282420086,
          1.2521846282420086,
          0
         ],
         "xaxis": "x",
         "y": [
          -3615,
          -3615,
          -3625,
          -3625
         ],
         "yaxis": "y"
        },
        {
         "hoverinfo": "text",
         "marker": {
          "color": "rgb(0,116,217)"
         },
         "mode": "lines",
         "type": "scatter",
         "x": [
          1.2521846282420086,
          1.2873394324826344,
          1.2873394324826344,
          0
         ],
         "xaxis": "x",
         "y": [
          -3620,
          -3620,
          -3635,
          -3635
         ],
         "yaxis": "y"
        },
        {
         "hoverinfo": "text",
         "marker": {
          "color": "rgb(0,116,217)"
         },
         "mode": "lines",
         "type": "scatter",
         "x": [
          0,
          1.3147680394529644,
          1.3147680394529644,
          1.2873394324826344
         ],
         "xaxis": "x",
         "y": [
          -3605,
          -3605,
          -3627.5,
          -3627.5
         ],
         "yaxis": "y"
        },
        {
         "hoverinfo": "text",
         "marker": {
          "color": "rgb(0,116,217)"
         },
         "mode": "lines",
         "type": "scatter",
         "x": [
          0,
          1.2542799246678962,
          1.2542799246678962,
          0
         ],
         "xaxis": "x",
         "y": [
          -3645,
          -3645,
          -3655,
          -3655
         ],
         "yaxis": "y"
        },
        {
         "hoverinfo": "text",
         "marker": {
          "color": "rgb(0,116,217)"
         },
         "mode": "lines",
         "type": "scatter",
         "x": [
          0,
          1.235532613812245,
          1.235532613812245,
          0
         ],
         "xaxis": "x",
         "y": [
          -3665,
          -3665,
          -3675,
          -3675
         ],
         "yaxis": "y"
        },
        {
         "hoverinfo": "text",
         "marker": {
          "color": "rgb(0,116,217)"
         },
         "mode": "lines",
         "type": "scatter",
         "x": [
          0,
          1.205116588788531,
          1.205116588788531,
          0
         ],
         "xaxis": "x",
         "y": [
          -3685,
          -3685,
          -3695,
          -3695
         ],
         "yaxis": "y"
        },
        {
         "hoverinfo": "text",
         "marker": {
          "color": "rgb(0,116,217)"
         },
         "mode": "lines",
         "type": "scatter",
         "x": [
          1.235532613812245,
          1.2850426254298009,
          1.2850426254298009,
          1.205116588788531
         ],
         "xaxis": "x",
         "y": [
          -3670,
          -3670,
          -3690,
          -3690
         ],
         "yaxis": "y"
        },
        {
         "hoverinfo": "text",
         "marker": {
          "color": "rgb(0,116,217)"
         },
         "mode": "lines",
         "type": "scatter",
         "x": [
          1.2542799246678962,
          1.4705433594410082,
          1.4705433594410082,
          1.2850426254298009
         ],
         "xaxis": "x",
         "y": [
          -3650,
          -3650,
          -3680,
          -3680
         ],
         "yaxis": "y"
        },
        {
         "hoverinfo": "text",
         "marker": {
          "color": "rgb(0,116,217)"
         },
         "mode": "lines",
         "type": "scatter",
         "x": [
          0,
          1.2783399459227283,
          1.2783399459227283,
          0
         ],
         "xaxis": "x",
         "y": [
          -3715,
          -3715,
          -3725,
          -3725
         ],
         "yaxis": "y"
        },
        {
         "hoverinfo": "text",
         "marker": {
          "color": "rgb(0,116,217)"
         },
         "mode": "lines",
         "type": "scatter",
         "x": [
          1.2783399459227283,
          1.2980529902946802,
          1.2980529902946802,
          0
         ],
         "xaxis": "x",
         "y": [
          -3720,
          -3720,
          -3735,
          -3735
         ],
         "yaxis": "y"
        },
        {
         "hoverinfo": "text",
         "marker": {
          "color": "rgb(0,116,217)"
         },
         "mode": "lines",
         "type": "scatter",
         "x": [
          0,
          1.3223415998385384,
          1.3223415998385384,
          1.2980529902946802
         ],
         "xaxis": "x",
         "y": [
          -3705,
          -3705,
          -3727.5,
          -3727.5
         ],
         "yaxis": "y"
        },
        {
         "hoverinfo": "text",
         "marker": {
          "color": "rgb(0,116,217)"
         },
         "mode": "lines",
         "type": "scatter",
         "x": [
          0,
          1.248243451890781,
          1.248243451890781,
          0
         ],
         "xaxis": "x",
         "y": [
          -3745,
          -3745,
          -3755,
          -3755
         ],
         "yaxis": "y"
        },
        {
         "hoverinfo": "text",
         "marker": {
          "color": "rgb(0,116,217)"
         },
         "mode": "lines",
         "type": "scatter",
         "x": [
          1.248243451890781,
          1.2539804277036586,
          1.2539804277036586,
          0
         ],
         "xaxis": "x",
         "y": [
          -3750,
          -3750,
          -3765,
          -3765
         ],
         "yaxis": "y"
        },
        {
         "hoverinfo": "text",
         "marker": {
          "color": "rgb(0,116,217)"
         },
         "mode": "lines",
         "type": "scatter",
         "x": [
          1.2539804277036586,
          1.330756811483742,
          1.330756811483742,
          0
         ],
         "xaxis": "x",
         "y": [
          -3757.5,
          -3757.5,
          -3775,
          -3775
         ],
         "yaxis": "y"
        },
        {
         "hoverinfo": "text",
         "marker": {
          "color": "rgb(0,116,217)"
         },
         "mode": "lines",
         "type": "scatter",
         "x": [
          1.3223415998385384,
          1.3849299274532934,
          1.3849299274532934,
          1.330756811483742
         ],
         "xaxis": "x",
         "y": [
          -3716.25,
          -3716.25,
          -3766.25,
          -3766.25
         ],
         "yaxis": "y"
        },
        {
         "hoverinfo": "text",
         "marker": {
          "color": "rgb(0,116,217)"
         },
         "mode": "lines",
         "type": "scatter",
         "x": [
          1.4705433594410082,
          1.5932643759538916,
          1.5932643759538916,
          1.3849299274532934
         ],
         "xaxis": "x",
         "y": [
          -3665,
          -3665,
          -3741.25,
          -3741.25
         ],
         "yaxis": "y"
        },
        {
         "hoverinfo": "text",
         "marker": {
          "color": "rgb(0,116,217)"
         },
         "mode": "lines",
         "type": "scatter",
         "x": [
          1.3147680394529644,
          1.9243794502254885,
          1.9243794502254885,
          1.5932643759538916
         ],
         "xaxis": "x",
         "y": [
          -3616.25,
          -3616.25,
          -3703.125,
          -3703.125
         ],
         "yaxis": "y"
        },
        {
         "hoverinfo": "text",
         "marker": {
          "color": "rgb(0,116,217)"
         },
         "mode": "lines",
         "type": "scatter",
         "x": [
          0,
          1.2931472637258188,
          1.2931472637258188,
          0
         ],
         "xaxis": "x",
         "y": [
          -3785,
          -3785,
          -3795,
          -3795
         ],
         "yaxis": "y"
        },
        {
         "hoverinfo": "text",
         "marker": {
          "color": "rgb(0,116,217)"
         },
         "mode": "lines",
         "type": "scatter",
         "x": [
          0,
          1.2096275415819615,
          1.2096275415819615,
          0
         ],
         "xaxis": "x",
         "y": [
          -3805,
          -3805,
          -3815,
          -3815
         ],
         "yaxis": "y"
        },
        {
         "hoverinfo": "text",
         "marker": {
          "color": "rgb(0,116,217)"
         },
         "mode": "lines",
         "type": "scatter",
         "x": [
          1.2931472637258188,
          1.4005852183901477,
          1.4005852183901477,
          1.2096275415819615
         ],
         "xaxis": "x",
         "y": [
          -3790,
          -3790,
          -3810,
          -3810
         ],
         "yaxis": "y"
        },
        {
         "hoverinfo": "text",
         "marker": {
          "color": "rgb(0,116,217)"
         },
         "mode": "lines",
         "type": "scatter",
         "x": [
          0,
          1.1835420752696155,
          1.1835420752696155,
          0
         ],
         "xaxis": "x",
         "y": [
          -3825,
          -3825,
          -3835,
          -3835
         ],
         "yaxis": "y"
        },
        {
         "hoverinfo": "text",
         "marker": {
          "color": "rgb(0,116,217)"
         },
         "mode": "lines",
         "type": "scatter",
         "x": [
          0,
          1.2466955742423056,
          1.2466955742423056,
          0
         ],
         "xaxis": "x",
         "y": [
          -3845,
          -3845,
          -3855,
          -3855
         ],
         "yaxis": "y"
        },
        {
         "hoverinfo": "text",
         "marker": {
          "color": "rgb(0,116,217)"
         },
         "mode": "lines",
         "type": "scatter",
         "x": [
          1.1835420752696155,
          1.334761251386189,
          1.334761251386189,
          1.2466955742423056
         ],
         "xaxis": "x",
         "y": [
          -3830,
          -3830,
          -3850,
          -3850
         ],
         "yaxis": "y"
        },
        {
         "hoverinfo": "text",
         "marker": {
          "color": "rgb(0,116,217)"
         },
         "mode": "lines",
         "type": "scatter",
         "x": [
          0,
          1.3677900844596145,
          1.3677900844596145,
          0
         ],
         "xaxis": "x",
         "y": [
          -3865,
          -3865,
          -3875,
          -3875
         ],
         "yaxis": "y"
        },
        {
         "hoverinfo": "text",
         "marker": {
          "color": "rgb(0,116,217)"
         },
         "mode": "lines",
         "type": "scatter",
         "x": [
          1.334761251386189,
          1.4919940575026325,
          1.4919940575026325,
          1.3677900844596145
         ],
         "xaxis": "x",
         "y": [
          -3840,
          -3840,
          -3870,
          -3870
         ],
         "yaxis": "y"
        },
        {
         "hoverinfo": "text",
         "marker": {
          "color": "rgb(0,116,217)"
         },
         "mode": "lines",
         "type": "scatter",
         "x": [
          1.4005852183901477,
          1.6814292575785998,
          1.6814292575785998,
          1.4919940575026325
         ],
         "xaxis": "x",
         "y": [
          -3800,
          -3800,
          -3855,
          -3855
         ],
         "yaxis": "y"
        },
        {
         "hoverinfo": "text",
         "marker": {
          "color": "rgb(0,116,217)"
         },
         "mode": "lines",
         "type": "scatter",
         "x": [
          0,
          1.3098742618933161,
          1.3098742618933161,
          0
         ],
         "xaxis": "x",
         "y": [
          -3885,
          -3885,
          -3895,
          -3895
         ],
         "yaxis": "y"
        },
        {
         "hoverinfo": "text",
         "marker": {
          "color": "rgb(0,116,217)"
         },
         "mode": "lines",
         "type": "scatter",
         "x": [
          0,
          1.2211838585292032,
          1.2211838585292032,
          0
         ],
         "xaxis": "x",
         "y": [
          -3915,
          -3915,
          -3925,
          -3925
         ],
         "yaxis": "y"
        },
        {
         "hoverinfo": "text",
         "marker": {
          "color": "rgb(0,116,217)"
         },
         "mode": "lines",
         "type": "scatter",
         "x": [
          0,
          1.3176423725985684,
          1.3176423725985684,
          1.2211838585292032
         ],
         "xaxis": "x",
         "y": [
          -3905,
          -3905,
          -3920,
          -3920
         ],
         "yaxis": "y"
        },
        {
         "hoverinfo": "text",
         "marker": {
          "color": "rgb(0,116,217)"
         },
         "mode": "lines",
         "type": "scatter",
         "x": [
          1.3098742618933161,
          1.4793801291505764,
          1.4793801291505764,
          1.3176423725985684
         ],
         "xaxis": "x",
         "y": [
          -3890,
          -3890,
          -3912.5,
          -3912.5
         ],
         "yaxis": "y"
        },
        {
         "hoverinfo": "text",
         "marker": {
          "color": "rgb(0,116,217)"
         },
         "mode": "lines",
         "type": "scatter",
         "x": [
          0,
          1.287179536116274,
          1.287179536116274,
          0
         ],
         "xaxis": "x",
         "y": [
          -3935,
          -3935,
          -3945,
          -3945
         ],
         "yaxis": "y"
        },
        {
         "hoverinfo": "text",
         "marker": {
          "color": "rgb(0,116,217)"
         },
         "mode": "lines",
         "type": "scatter",
         "x": [
          1.4793801291505764,
          1.5260393517046211,
          1.5260393517046211,
          1.287179536116274
         ],
         "xaxis": "x",
         "y": [
          -3901.25,
          -3901.25,
          -3940,
          -3940
         ],
         "yaxis": "y"
        },
        {
         "hoverinfo": "text",
         "marker": {
          "color": "rgb(0,116,217)"
         },
         "mode": "lines",
         "type": "scatter",
         "x": [
          0,
          1.2441888193243096,
          1.2441888193243096,
          0
         ],
         "xaxis": "x",
         "y": [
          -3965,
          -3965,
          -3975,
          -3975
         ],
         "yaxis": "y"
        },
        {
         "hoverinfo": "text",
         "marker": {
          "color": "rgb(0,116,217)"
         },
         "mode": "lines",
         "type": "scatter",
         "x": [
          0,
          1.292869025123158,
          1.292869025123158,
          1.2441888193243096
         ],
         "xaxis": "x",
         "y": [
          -3955,
          -3955,
          -3970,
          -3970
         ],
         "yaxis": "y"
        },
        {
         "hoverinfo": "text",
         "marker": {
          "color": "rgb(0,116,217)"
         },
         "mode": "lines",
         "type": "scatter",
         "x": [
          0,
          1.3481091229901092,
          1.3481091229901092,
          0
         ],
         "xaxis": "x",
         "y": [
          -3995,
          -3995,
          -4005,
          -4005
         ],
         "yaxis": "y"
        },
        {
         "hoverinfo": "text",
         "marker": {
          "color": "rgb(0,116,217)"
         },
         "mode": "lines",
         "type": "scatter",
         "x": [
          0,
          1.3668750332931547,
          1.3668750332931547,
          1.3481091229901092
         ],
         "xaxis": "x",
         "y": [
          -3985,
          -3985,
          -4000,
          -4000
         ],
         "yaxis": "y"
        },
        {
         "hoverinfo": "text",
         "marker": {
          "color": "rgb(0,116,217)"
         },
         "mode": "lines",
         "type": "scatter",
         "x": [
          0,
          1.3579017462555334,
          1.3579017462555334,
          0
         ],
         "xaxis": "x",
         "y": [
          -4015,
          -4015,
          -4025,
          -4025
         ],
         "yaxis": "y"
        },
        {
         "hoverinfo": "text",
         "marker": {
          "color": "rgb(0,116,217)"
         },
         "mode": "lines",
         "type": "scatter",
         "x": [
          1.3668750332931547,
          1.4707959178933805,
          1.4707959178933805,
          1.3579017462555334
         ],
         "xaxis": "x",
         "y": [
          -3992.5,
          -3992.5,
          -4020,
          -4020
         ],
         "yaxis": "y"
        },
        {
         "hoverinfo": "text",
         "marker": {
          "color": "rgb(0,116,217)"
         },
         "mode": "lines",
         "type": "scatter",
         "x": [
          1.292869025123158,
          1.6260929436251905,
          1.6260929436251905,
          1.4707959178933805
         ],
         "xaxis": "x",
         "y": [
          -3962.5,
          -3962.5,
          -4006.25,
          -4006.25
         ],
         "yaxis": "y"
        },
        {
         "hoverinfo": "text",
         "marker": {
          "color": "rgb(0,116,217)"
         },
         "mode": "lines",
         "type": "scatter",
         "x": [
          1.5260393517046211,
          1.9100534052476732,
          1.9100534052476732,
          1.6260929436251905
         ],
         "xaxis": "x",
         "y": [
          -3920.625,
          -3920.625,
          -3984.375,
          -3984.375
         ],
         "yaxis": "y"
        },
        {
         "hoverinfo": "text",
         "marker": {
          "color": "rgb(0,116,217)"
         },
         "mode": "lines",
         "type": "scatter",
         "x": [
          1.6814292575785998,
          2.353015063625831,
          2.353015063625831,
          1.9100534052476732
         ],
         "xaxis": "x",
         "y": [
          -3827.5,
          -3827.5,
          -3952.5,
          -3952.5
         ],
         "yaxis": "y"
        },
        {
         "hoverinfo": "text",
         "marker": {
          "color": "rgb(0,116,217)"
         },
         "mode": "lines",
         "type": "scatter",
         "x": [
          1.9243794502254885,
          3.044041351012673,
          3.044041351012673,
          2.353015063625831
         ],
         "xaxis": "x",
         "y": [
          -3659.6875,
          -3659.6875,
          -3890,
          -3890
         ],
         "yaxis": "y"
        },
        {
         "hoverinfo": "text",
         "marker": {
          "color": "rgb(0,116,217)"
         },
         "mode": "lines",
         "type": "scatter",
         "x": [
          0,
          1.2899682596583986,
          1.2899682596583986,
          0
         ],
         "xaxis": "x",
         "y": [
          -4035,
          -4035,
          -4045,
          -4045
         ],
         "yaxis": "y"
        },
        {
         "hoverinfo": "text",
         "marker": {
          "color": "rgb(0,116,217)"
         },
         "mode": "lines",
         "type": "scatter",
         "x": [
          0,
          1.3172194788443163,
          1.3172194788443163,
          0
         ],
         "xaxis": "x",
         "y": [
          -4055,
          -4055,
          -4065,
          -4065
         ],
         "yaxis": "y"
        },
        {
         "hoverinfo": "text",
         "marker": {
          "color": "rgb(0,116,217)"
         },
         "mode": "lines",
         "type": "scatter",
         "x": [
          0,
          1.335870230599834,
          1.335870230599834,
          0
         ],
         "xaxis": "x",
         "y": [
          -4075,
          -4075,
          -4085,
          -4085
         ],
         "yaxis": "y"
        },
        {
         "hoverinfo": "text",
         "marker": {
          "color": "rgb(0,116,217)"
         },
         "mode": "lines",
         "type": "scatter",
         "x": [
          1.3172194788443163,
          1.355655764605682,
          1.355655764605682,
          1.335870230599834
         ],
         "xaxis": "x",
         "y": [
          -4060,
          -4060,
          -4080,
          -4080
         ],
         "yaxis": "y"
        },
        {
         "hoverinfo": "text",
         "marker": {
          "color": "rgb(0,116,217)"
         },
         "mode": "lines",
         "type": "scatter",
         "x": [
          0,
          1.3121963597223287,
          1.3121963597223287,
          0
         ],
         "xaxis": "x",
         "y": [
          -4095,
          -4095,
          -4105,
          -4105
         ],
         "yaxis": "y"
        },
        {
         "hoverinfo": "text",
         "marker": {
          "color": "rgb(0,116,217)"
         },
         "mode": "lines",
         "type": "scatter",
         "x": [
          1.3121963597223287,
          1.3579795604327913,
          1.3579795604327913,
          0
         ],
         "xaxis": "x",
         "y": [
          -4100,
          -4100,
          -4115,
          -4115
         ],
         "yaxis": "y"
        },
        {
         "hoverinfo": "text",
         "marker": {
          "color": "rgb(0,116,217)"
         },
         "mode": "lines",
         "type": "scatter",
         "x": [
          1.355655764605682,
          1.4138063435117387,
          1.4138063435117387,
          1.3579795604327913
         ],
         "xaxis": "x",
         "y": [
          -4070,
          -4070,
          -4107.5,
          -4107.5
         ],
         "yaxis": "y"
        },
        {
         "hoverinfo": "text",
         "marker": {
          "color": "rgb(0,116,217)"
         },
         "mode": "lines",
         "type": "scatter",
         "x": [
          1.2899682596583986,
          1.6037754584006287,
          1.6037754584006287,
          1.4138063435117387
         ],
         "xaxis": "x",
         "y": [
          -4040,
          -4040,
          -4088.75,
          -4088.75
         ],
         "yaxis": "y"
        },
        {
         "hoverinfo": "text",
         "marker": {
          "color": "rgb(0,116,217)"
         },
         "mode": "lines",
         "type": "scatter",
         "x": [
          0,
          1.1685482075461922,
          1.1685482075461922,
          0
         ],
         "xaxis": "x",
         "y": [
          -4125,
          -4125,
          -4135,
          -4135
         ],
         "yaxis": "y"
        },
        {
         "hoverinfo": "text",
         "marker": {
          "color": "rgb(0,116,217)"
         },
         "mode": "lines",
         "type": "scatter",
         "x": [
          0,
          1.276071108941733,
          1.276071108941733,
          0
         ],
         "xaxis": "x",
         "y": [
          -4145,
          -4145,
          -4155,
          -4155
         ],
         "yaxis": "y"
        },
        {
         "hoverinfo": "text",
         "marker": {
          "color": "rgb(0,116,217)"
         },
         "mode": "lines",
         "type": "scatter",
         "x": [
          1.276071108941733,
          1.307434427102972,
          1.307434427102972,
          0
         ],
         "xaxis": "x",
         "y": [
          -4150,
          -4150,
          -4165,
          -4165
         ],
         "yaxis": "y"
        },
        {
         "hoverinfo": "text",
         "marker": {
          "color": "rgb(0,116,217)"
         },
         "mode": "lines",
         "type": "scatter",
         "x": [
          1.1685482075461922,
          1.443299811697005,
          1.443299811697005,
          1.307434427102972
         ],
         "xaxis": "x",
         "y": [
          -4130,
          -4130,
          -4157.5,
          -4157.5
         ],
         "yaxis": "y"
        },
        {
         "hoverinfo": "text",
         "marker": {
          "color": "rgb(0,116,217)"
         },
         "mode": "lines",
         "type": "scatter",
         "x": [
          0,
          1.2984739391177142,
          1.2984739391177142,
          0
         ],
         "xaxis": "x",
         "y": [
          -4185,
          -4185,
          -4195,
          -4195
         ],
         "yaxis": "y"
        },
        {
         "hoverinfo": "text",
         "marker": {
          "color": "rgb(0,116,217)"
         },
         "mode": "lines",
         "type": "scatter",
         "x": [
          0,
          1.381916662139707,
          1.381916662139707,
          1.2984739391177142
         ],
         "xaxis": "x",
         "y": [
          -4175,
          -4175,
          -4190,
          -4190
         ],
         "yaxis": "y"
        },
        {
         "hoverinfo": "text",
         "marker": {
          "color": "rgb(0,116,217)"
         },
         "mode": "lines",
         "type": "scatter",
         "x": [
          0,
          1.3120590425657583,
          1.3120590425657583,
          0
         ],
         "xaxis": "x",
         "y": [
          -4205,
          -4205,
          -4215,
          -4215
         ],
         "yaxis": "y"
        },
        {
         "hoverinfo": "text",
         "marker": {
          "color": "rgb(0,116,217)"
         },
         "mode": "lines",
         "type": "scatter",
         "x": [
          1.3120590425657583,
          1.3483824395900743,
          1.3483824395900743,
          0
         ],
         "xaxis": "x",
         "y": [
          -4210,
          -4210,
          -4225,
          -4225
         ],
         "yaxis": "y"
        },
        {
         "hoverinfo": "text",
         "marker": {
          "color": "rgb(0,116,217)"
         },
         "mode": "lines",
         "type": "scatter",
         "x": [
          1.381916662139707,
          1.5281482985275532,
          1.5281482985275532,
          1.3483824395900743
         ],
         "xaxis": "x",
         "y": [
          -4182.5,
          -4182.5,
          -4217.5,
          -4217.5
         ],
         "yaxis": "y"
        },
        {
         "hoverinfo": "text",
         "marker": {
          "color": "rgb(0,116,217)"
         },
         "mode": "lines",
         "type": "scatter",
         "x": [
          1.443299811697005,
          1.7124710376393826,
          1.7124710376393826,
          1.5281482985275532
         ],
         "xaxis": "x",
         "y": [
          -4143.75,
          -4143.75,
          -4200,
          -4200
         ],
         "yaxis": "y"
        },
        {
         "hoverinfo": "text",
         "marker": {
          "color": "rgb(0,116,217)"
         },
         "mode": "lines",
         "type": "scatter",
         "x": [
          1.6037754584006287,
          1.8853159647028923,
          1.8853159647028923,
          1.7124710376393826
         ],
         "xaxis": "x",
         "y": [
          -4064.375,
          -4064.375,
          -4171.875,
          -4171.875
         ],
         "yaxis": "y"
        },
        {
         "hoverinfo": "text",
         "marker": {
          "color": "rgb(0,116,217)"
         },
         "mode": "lines",
         "type": "scatter",
         "x": [
          0,
          1.1751320412494228,
          1.1751320412494228,
          0
         ],
         "xaxis": "x",
         "y": [
          -4245,
          -4245,
          -4255,
          -4255
         ],
         "yaxis": "y"
        },
        {
         "hoverinfo": "text",
         "marker": {
          "color": "rgb(0,116,217)"
         },
         "mode": "lines",
         "type": "scatter",
         "x": [
          0,
          1.4474636067341449,
          1.4474636067341449,
          1.1751320412494228
         ],
         "xaxis": "x",
         "y": [
          -4235,
          -4235,
          -4250,
          -4250
         ],
         "yaxis": "y"
        },
        {
         "hoverinfo": "text",
         "marker": {
          "color": "rgb(0,116,217)"
         },
         "mode": "lines",
         "type": "scatter",
         "x": [
          0,
          1.3175620864664033,
          1.3175620864664033,
          0
         ],
         "xaxis": "x",
         "y": [
          -4265,
          -4265,
          -4275,
          -4275
         ],
         "yaxis": "y"
        },
        {
         "hoverinfo": "text",
         "marker": {
          "color": "rgb(0,116,217)"
         },
         "mode": "lines",
         "type": "scatter",
         "x": [
          1.4474636067341449,
          1.6670510275166097,
          1.6670510275166097,
          1.3175620864664033
         ],
         "xaxis": "x",
         "y": [
          -4242.5,
          -4242.5,
          -4270,
          -4270
         ],
         "yaxis": "y"
        },
        {
         "hoverinfo": "text",
         "marker": {
          "color": "rgb(0,116,217)"
         },
         "mode": "lines",
         "type": "scatter",
         "x": [
          0,
          1.3462021141731797,
          1.3462021141731797,
          0
         ],
         "xaxis": "x",
         "y": [
          -4285,
          -4285,
          -4295,
          -4295
         ],
         "yaxis": "y"
        },
        {
         "hoverinfo": "text",
         "marker": {
          "color": "rgb(0,116,217)"
         },
         "mode": "lines",
         "type": "scatter",
         "x": [
          0,
          1.2809210645725828,
          1.2809210645725828,
          0
         ],
         "xaxis": "x",
         "y": [
          -4305,
          -4305,
          -4315,
          -4315
         ],
         "yaxis": "y"
        },
        {
         "hoverinfo": "text",
         "marker": {
          "color": "rgb(0,116,217)"
         },
         "mode": "lines",
         "type": "scatter",
         "x": [
          1.3462021141731797,
          1.4196941484122285,
          1.4196941484122285,
          1.2809210645725828
         ],
         "xaxis": "x",
         "y": [
          -4290,
          -4290,
          -4310,
          -4310
         ],
         "yaxis": "y"
        },
        {
         "hoverinfo": "text",
         "marker": {
          "color": "rgb(0,116,217)"
         },
         "mode": "lines",
         "type": "scatter",
         "x": [
          0,
          1.3303212767080437,
          1.3303212767080437,
          0
         ],
         "xaxis": "x",
         "y": [
          -4325,
          -4325,
          -4335,
          -4335
         ],
         "yaxis": "y"
        },
        {
         "hoverinfo": "text",
         "marker": {
          "color": "rgb(0,116,217)"
         },
         "mode": "lines",
         "type": "scatter",
         "x": [
          0,
          1.3419658348565082,
          1.3419658348565082,
          0
         ],
         "xaxis": "x",
         "y": [
          -4345,
          -4345,
          -4355,
          -4355
         ],
         "yaxis": "y"
        },
        {
         "hoverinfo": "text",
         "marker": {
          "color": "rgb(0,116,217)"
         },
         "mode": "lines",
         "type": "scatter",
         "x": [
          1.3303212767080437,
          1.4740956255667677,
          1.4740956255667677,
          1.3419658348565082
         ],
         "xaxis": "x",
         "y": [
          -4330,
          -4330,
          -4350,
          -4350
         ],
         "yaxis": "y"
        },
        {
         "hoverinfo": "text",
         "marker": {
          "color": "rgb(0,116,217)"
         },
         "mode": "lines",
         "type": "scatter",
         "x": [
          1.4196941484122285,
          1.6435980999978976,
          1.6435980999978976,
          1.4740956255667677
         ],
         "xaxis": "x",
         "y": [
          -4300,
          -4300,
          -4340,
          -4340
         ],
         "yaxis": "y"
        },
        {
         "hoverinfo": "text",
         "marker": {
          "color": "rgb(0,116,217)"
         },
         "mode": "lines",
         "type": "scatter",
         "x": [
          1.6670510275166097,
          2.150916631198687,
          2.150916631198687,
          1.6435980999978976
         ],
         "xaxis": "x",
         "y": [
          -4256.25,
          -4256.25,
          -4320,
          -4320
         ],
         "yaxis": "y"
        },
        {
         "hoverinfo": "text",
         "marker": {
          "color": "rgb(0,116,217)"
         },
         "mode": "lines",
         "type": "scatter",
         "x": [
          1.8853159647028923,
          2.6244745861988803,
          2.6244745861988803,
          2.150916631198687
         ],
         "xaxis": "x",
         "y": [
          -4118.125,
          -4118.125,
          -4288.125,
          -4288.125
         ],
         "yaxis": "y"
        },
        {
         "hoverinfo": "text",
         "marker": {
          "color": "rgb(0,116,217)"
         },
         "mode": "lines",
         "type": "scatter",
         "x": [
          0,
          1.353777773911324,
          1.353777773911324,
          0
         ],
         "xaxis": "x",
         "y": [
          -4365,
          -4365,
          -4375,
          -4375
         ],
         "yaxis": "y"
        },
        {
         "hoverinfo": "text",
         "marker": {
          "color": "rgb(0,116,217)"
         },
         "mode": "lines",
         "type": "scatter",
         "x": [
          0,
          1.3466126981822926,
          1.3466126981822926,
          0
         ],
         "xaxis": "x",
         "y": [
          -4385,
          -4385,
          -4395,
          -4395
         ],
         "yaxis": "y"
        },
        {
         "hoverinfo": "text",
         "marker": {
          "color": "rgb(0,116,217)"
         },
         "mode": "lines",
         "type": "scatter",
         "x": [
          1.353777773911324,
          1.393335373849955,
          1.393335373849955,
          1.3466126981822926
         ],
         "xaxis": "x",
         "y": [
          -4370,
          -4370,
          -4390,
          -4390
         ],
         "yaxis": "y"
        },
        {
         "hoverinfo": "text",
         "marker": {
          "color": "rgb(0,116,217)"
         },
         "mode": "lines",
         "type": "scatter",
         "x": [
          0,
          1.3565281896350596,
          1.3565281896350596,
          0
         ],
         "xaxis": "x",
         "y": [
          -4405,
          -4405,
          -4415,
          -4415
         ],
         "yaxis": "y"
        },
        {
         "hoverinfo": "text",
         "marker": {
          "color": "rgb(0,116,217)"
         },
         "mode": "lines",
         "type": "scatter",
         "x": [
          0,
          1.325134478786218,
          1.325134478786218,
          0
         ],
         "xaxis": "x",
         "y": [
          -4425,
          -4425,
          -4435,
          -4435
         ],
         "yaxis": "y"
        },
        {
         "hoverinfo": "text",
         "marker": {
          "color": "rgb(0,116,217)"
         },
         "mode": "lines",
         "type": "scatter",
         "x": [
          1.3565281896350596,
          1.3922923901392346,
          1.3922923901392346,
          1.325134478786218
         ],
         "xaxis": "x",
         "y": [
          -4410,
          -4410,
          -4430,
          -4430
         ],
         "yaxis": "y"
        },
        {
         "hoverinfo": "text",
         "marker": {
          "color": "rgb(0,116,217)"
         },
         "mode": "lines",
         "type": "scatter",
         "x": [
          1.393335373849955,
          1.4708166473400148,
          1.4708166473400148,
          1.3922923901392346
         ],
         "xaxis": "x",
         "y": [
          -4380,
          -4380,
          -4420,
          -4420
         ],
         "yaxis": "y"
        },
        {
         "hoverinfo": "text",
         "marker": {
          "color": "rgb(0,116,217)"
         },
         "mode": "lines",
         "type": "scatter",
         "x": [
          0,
          1.3516488671815763,
          1.3516488671815763,
          0
         ],
         "xaxis": "x",
         "y": [
          -4445,
          -4445,
          -4455,
          -4455
         ],
         "yaxis": "y"
        },
        {
         "hoverinfo": "text",
         "marker": {
          "color": "rgb(0,116,217)"
         },
         "mode": "lines",
         "type": "scatter",
         "x": [
          0,
          1.3245073011255748,
          1.3245073011255748,
          0
         ],
         "xaxis": "x",
         "y": [
          -4465,
          -4465,
          -4475,
          -4475
         ],
         "yaxis": "y"
        },
        {
         "hoverinfo": "text",
         "marker": {
          "color": "rgb(0,116,217)"
         },
         "mode": "lines",
         "type": "scatter",
         "x": [
          1.3245073011255748,
          1.3943739878990604,
          1.3943739878990604,
          0
         ],
         "xaxis": "x",
         "y": [
          -4470,
          -4470,
          -4485,
          -4485
         ],
         "yaxis": "y"
        },
        {
         "hoverinfo": "text",
         "marker": {
          "color": "rgb(0,116,217)"
         },
         "mode": "lines",
         "type": "scatter",
         "x": [
          1.3943739878990604,
          1.4291441038019015,
          1.4291441038019015,
          0
         ],
         "xaxis": "x",
         "y": [
          -4477.5,
          -4477.5,
          -4495,
          -4495
         ],
         "yaxis": "y"
        },
        {
         "hoverinfo": "text",
         "marker": {
          "color": "rgb(0,116,217)"
         },
         "mode": "lines",
         "type": "scatter",
         "x": [
          1.3516488671815763,
          1.4925437164801543,
          1.4925437164801543,
          1.4291441038019015
         ],
         "xaxis": "x",
         "y": [
          -4450,
          -4450,
          -4486.25,
          -4486.25
         ],
         "yaxis": "y"
        },
        {
         "hoverinfo": "text",
         "marker": {
          "color": "rgb(0,116,217)"
         },
         "mode": "lines",
         "type": "scatter",
         "x": [
          1.4708166473400148,
          1.597142459680628,
          1.597142459680628,
          1.4925437164801543
         ],
         "xaxis": "x",
         "y": [
          -4400,
          -4400,
          -4468.125,
          -4468.125
         ],
         "yaxis": "y"
        },
        {
         "hoverinfo": "text",
         "marker": {
          "color": "rgb(0,116,217)"
         },
         "mode": "lines",
         "type": "scatter",
         "x": [
          0,
          1.3183236543791779,
          1.3183236543791779,
          0
         ],
         "xaxis": "x",
         "y": [
          -4515,
          -4515,
          -4525,
          -4525
         ],
         "yaxis": "y"
        },
        {
         "hoverinfo": "text",
         "marker": {
          "color": "rgb(0,116,217)"
         },
         "mode": "lines",
         "type": "scatter",
         "x": [
          0,
          1.3573345390266842,
          1.3573345390266842,
          1.3183236543791779
         ],
         "xaxis": "x",
         "y": [
          -4505,
          -4505,
          -4520,
          -4520
         ],
         "yaxis": "y"
        },
        {
         "hoverinfo": "text",
         "marker": {
          "color": "rgb(0,116,217)"
         },
         "mode": "lines",
         "type": "scatter",
         "x": [
          0,
          1.3142423684789841,
          1.3142423684789841,
          0
         ],
         "xaxis": "x",
         "y": [
          -4535,
          -4535,
          -4545,
          -4545
         ],
         "yaxis": "y"
        },
        {
         "hoverinfo": "text",
         "marker": {
          "color": "rgb(0,116,217)"
         },
         "mode": "lines",
         "type": "scatter",
         "x": [
          1.3142423684789841,
          1.3602382290602446,
          1.3602382290602446,
          0
         ],
         "xaxis": "x",
         "y": [
          -4540,
          -4540,
          -4555,
          -4555
         ],
         "yaxis": "y"
        },
        {
         "hoverinfo": "text",
         "marker": {
          "color": "rgb(0,116,217)"
         },
         "mode": "lines",
         "type": "scatter",
         "x": [
          1.3573345390266842,
          1.3830818097110893,
          1.3830818097110893,
          1.3602382290602446
         ],
         "xaxis": "x",
         "y": [
          -4512.5,
          -4512.5,
          -4547.5,
          -4547.5
         ],
         "yaxis": "y"
        },
        {
         "hoverinfo": "text",
         "marker": {
          "color": "rgb(0,116,217)"
         },
         "mode": "lines",
         "type": "scatter",
         "x": [
          1.597142459680628,
          1.7350925511631896,
          1.7350925511631896,
          1.3830818097110893
         ],
         "xaxis": "x",
         "y": [
          -4434.0625,
          -4434.0625,
          -4530,
          -4530
         ],
         "yaxis": "y"
        },
        {
         "hoverinfo": "text",
         "marker": {
          "color": "rgb(0,116,217)"
         },
         "mode": "lines",
         "type": "scatter",
         "x": [
          0,
          1.3450216904825076,
          1.3450216904825076,
          0
         ],
         "xaxis": "x",
         "y": [
          -4565,
          -4565,
          -4575,
          -4575
         ],
         "yaxis": "y"
        },
        {
         "hoverinfo": "text",
         "marker": {
          "color": "rgb(0,116,217)"
         },
         "mode": "lines",
         "type": "scatter",
         "x": [
          0,
          1.303228264365498,
          1.303228264365498,
          0
         ],
         "xaxis": "x",
         "y": [
          -4585,
          -4585,
          -4595,
          -4595
         ],
         "yaxis": "y"
        },
        {
         "hoverinfo": "text",
         "marker": {
          "color": "rgb(0,116,217)"
         },
         "mode": "lines",
         "type": "scatter",
         "x": [
          1.3450216904825076,
          1.3676174221264243,
          1.3676174221264243,
          1.303228264365498
         ],
         "xaxis": "x",
         "y": [
          -4570,
          -4570,
          -4590,
          -4590
         ],
         "yaxis": "y"
        },
        {
         "hoverinfo": "text",
         "marker": {
          "color": "rgb(0,116,217)"
         },
         "mode": "lines",
         "type": "scatter",
         "x": [
          0,
          1.240953437881593,
          1.240953437881593,
          0
         ],
         "xaxis": "x",
         "y": [
          -4605,
          -4605,
          -4615,
          -4615
         ],
         "yaxis": "y"
        },
        {
         "hoverinfo": "text",
         "marker": {
          "color": "rgb(0,116,217)"
         },
         "mode": "lines",
         "type": "scatter",
         "x": [
          0,
          1.245869091273371,
          1.245869091273371,
          0
         ],
         "xaxis": "x",
         "y": [
          -4625,
          -4625,
          -4635,
          -4635
         ],
         "yaxis": "y"
        },
        {
         "hoverinfo": "text",
         "marker": {
          "color": "rgb(0,116,217)"
         },
         "mode": "lines",
         "type": "scatter",
         "x": [
          0,
          1.2778324959258611,
          1.2778324959258611,
          0
         ],
         "xaxis": "x",
         "y": [
          -4645,
          -4645,
          -4655,
          -4655
         ],
         "yaxis": "y"
        },
        {
         "hoverinfo": "text",
         "marker": {
          "color": "rgb(0,116,217)"
         },
         "mode": "lines",
         "type": "scatter",
         "x": [
          1.245869091273371,
          1.429782397037918,
          1.429782397037918,
          1.2778324959258611
         ],
         "xaxis": "x",
         "y": [
          -4630,
          -4630,
          -4650,
          -4650
         ],
         "yaxis": "y"
        },
        {
         "hoverinfo": "text",
         "marker": {
          "color": "rgb(0,116,217)"
         },
         "mode": "lines",
         "type": "scatter",
         "x": [
          1.240953437881593,
          1.4482853311962518,
          1.4482853311962518,
          1.429782397037918
         ],
         "xaxis": "x",
         "y": [
          -4610,
          -4610,
          -4640,
          -4640
         ],
         "yaxis": "y"
        },
        {
         "hoverinfo": "text",
         "marker": {
          "color": "rgb(0,116,217)"
         },
         "mode": "lines",
         "type": "scatter",
         "x": [
          1.3676174221264243,
          1.477317935147013,
          1.477317935147013,
          1.4482853311962518
         ],
         "xaxis": "x",
         "y": [
          -4580,
          -4580,
          -4625,
          -4625
         ],
         "yaxis": "y"
        },
        {
         "hoverinfo": "text",
         "marker": {
          "color": "rgb(0,116,217)"
         },
         "mode": "lines",
         "type": "scatter",
         "x": [
          0,
          1.311606013799402,
          1.311606013799402,
          0
         ],
         "xaxis": "x",
         "y": [
          -4675,
          -4675,
          -4685,
          -4685
         ],
         "yaxis": "y"
        },
        {
         "hoverinfo": "text",
         "marker": {
          "color": "rgb(0,116,217)"
         },
         "mode": "lines",
         "type": "scatter",
         "x": [
          0,
          1.354956852536326,
          1.354956852536326,
          1.311606013799402
         ],
         "xaxis": "x",
         "y": [
          -4665,
          -4665,
          -4680,
          -4680
         ],
         "yaxis": "y"
        },
        {
         "hoverinfo": "text",
         "marker": {
          "color": "rgb(0,116,217)"
         },
         "mode": "lines",
         "type": "scatter",
         "x": [
          0,
          1.2936820871971255,
          1.2936820871971255,
          0
         ],
         "xaxis": "x",
         "y": [
          -4695,
          -4695,
          -4705,
          -4705
         ],
         "yaxis": "y"
        },
        {
         "hoverinfo": "text",
         "marker": {
          "color": "rgb(0,116,217)"
         },
         "mode": "lines",
         "type": "scatter",
         "x": [
          1.2936820871971255,
          1.320193158263437,
          1.320193158263437,
          0
         ],
         "xaxis": "x",
         "y": [
          -4700,
          -4700,
          -4715,
          -4715
         ],
         "yaxis": "y"
        },
        {
         "hoverinfo": "text",
         "marker": {
          "color": "rgb(0,116,217)"
         },
         "mode": "lines",
         "type": "scatter",
         "x": [
          0,
          1.269339768160316,
          1.269339768160316,
          0
         ],
         "xaxis": "x",
         "y": [
          -4725,
          -4725,
          -4735,
          -4735
         ],
         "yaxis": "y"
        },
        {
         "hoverinfo": "text",
         "marker": {
          "color": "rgb(0,116,217)"
         },
         "mode": "lines",
         "type": "scatter",
         "x": [
          1.320193158263437,
          1.435033420145067,
          1.435033420145067,
          1.269339768160316
         ],
         "xaxis": "x",
         "y": [
          -4707.5,
          -4707.5,
          -4730,
          -4730
         ],
         "yaxis": "y"
        },
        {
         "hoverinfo": "text",
         "marker": {
          "color": "rgb(0,116,217)"
         },
         "mode": "lines",
         "type": "scatter",
         "x": [
          1.354956852536326,
          1.489759102592804,
          1.489759102592804,
          1.435033420145067
         ],
         "xaxis": "x",
         "y": [
          -4672.5,
          -4672.5,
          -4718.75,
          -4718.75
         ],
         "yaxis": "y"
        },
        {
         "hoverinfo": "text",
         "marker": {
          "color": "rgb(0,116,217)"
         },
         "mode": "lines",
         "type": "scatter",
         "x": [
          1.477317935147013,
          1.7998968824612338,
          1.7998968824612338,
          1.489759102592804
         ],
         "xaxis": "x",
         "y": [
          -4602.5,
          -4602.5,
          -4695.625,
          -4695.625
         ],
         "yaxis": "y"
        },
        {
         "hoverinfo": "text",
         "marker": {
          "color": "rgb(0,116,217)"
         },
         "mode": "lines",
         "type": "scatter",
         "x": [
          1.7350925511631896,
          2.2360953240751122,
          2.2360953240751122,
          1.7998968824612338
         ],
         "xaxis": "x",
         "y": [
          -4482.03125,
          -4482.03125,
          -4649.0625,
          -4649.0625
         ],
         "yaxis": "y"
        },
        {
         "hoverinfo": "text",
         "marker": {
          "color": "rgb(0,116,217)"
         },
         "mode": "lines",
         "type": "scatter",
         "x": [
          2.6244745861988803,
          2.710463387142521,
          2.710463387142521,
          2.2360953240751122
         ],
         "xaxis": "x",
         "y": [
          -4203.125,
          -4203.125,
          -4565.546875,
          -4565.546875
         ],
         "yaxis": "y"
        },
        {
         "hoverinfo": "text",
         "marker": {
          "color": "rgb(0,116,217)"
         },
         "mode": "lines",
         "type": "scatter",
         "x": [
          0,
          1.344384594908518,
          1.344384594908518,
          0
         ],
         "xaxis": "x",
         "y": [
          -4745,
          -4745,
          -4755,
          -4755
         ],
         "yaxis": "y"
        },
        {
         "hoverinfo": "text",
         "marker": {
          "color": "rgb(0,116,217)"
         },
         "mode": "lines",
         "type": "scatter",
         "x": [
          0,
          1.3321589000991099,
          1.3321589000991099,
          0
         ],
         "xaxis": "x",
         "y": [
          -4775,
          -4775,
          -4785,
          -4785
         ],
         "yaxis": "y"
        },
        {
         "hoverinfo": "text",
         "marker": {
          "color": "rgb(0,116,217)"
         },
         "mode": "lines",
         "type": "scatter",
         "x": [
          0,
          1.3841782987485372,
          1.3841782987485372,
          1.3321589000991099
         ],
         "xaxis": "x",
         "y": [
          -4765,
          -4765,
          -4780,
          -4780
         ],
         "yaxis": "y"
        },
        {
         "hoverinfo": "text",
         "marker": {
          "color": "rgb(0,116,217)"
         },
         "mode": "lines",
         "type": "scatter",
         "x": [
          1.344384594908518,
          1.4968639057073843,
          1.4968639057073843,
          1.3841782987485372
         ],
         "xaxis": "x",
         "y": [
          -4750,
          -4750,
          -4772.5,
          -4772.5
         ],
         "yaxis": "y"
        },
        {
         "hoverinfo": "text",
         "marker": {
          "color": "rgb(0,116,217)"
         },
         "mode": "lines",
         "type": "scatter",
         "x": [
          0,
          1.3797266146706373,
          1.3797266146706373,
          0
         ],
         "xaxis": "x",
         "y": [
          -4795,
          -4795,
          -4805,
          -4805
         ],
         "yaxis": "y"
        },
        {
         "hoverinfo": "text",
         "marker": {
          "color": "rgb(0,116,217)"
         },
         "mode": "lines",
         "type": "scatter",
         "x": [
          0,
          1.3503734660206053,
          1.3503734660206053,
          0
         ],
         "xaxis": "x",
         "y": [
          -4825,
          -4825,
          -4835,
          -4835
         ],
         "yaxis": "y"
        },
        {
         "hoverinfo": "text",
         "marker": {
          "color": "rgb(0,116,217)"
         },
         "mode": "lines",
         "type": "scatter",
         "x": [
          0,
          1.374855828773442,
          1.374855828773442,
          1.3503734660206053
         ],
         "xaxis": "x",
         "y": [
          -4815,
          -4815,
          -4830,
          -4830
         ],
         "yaxis": "y"
        },
        {
         "hoverinfo": "text",
         "marker": {
          "color": "rgb(0,116,217)"
         },
         "mode": "lines",
         "type": "scatter",
         "x": [
          1.3797266146706373,
          1.4754147518982654,
          1.4754147518982654,
          1.374855828773442
         ],
         "xaxis": "x",
         "y": [
          -4800,
          -4800,
          -4822.5,
          -4822.5
         ],
         "yaxis": "y"
        },
        {
         "hoverinfo": "text",
         "marker": {
          "color": "rgb(0,116,217)"
         },
         "mode": "lines",
         "type": "scatter",
         "x": [
          0,
          1.3465651066866895,
          1.3465651066866895,
          0
         ],
         "xaxis": "x",
         "y": [
          -4855,
          -4855,
          -4865,
          -4865
         ],
         "yaxis": "y"
        },
        {
         "hoverinfo": "text",
         "marker": {
          "color": "rgb(0,116,217)"
         },
         "mode": "lines",
         "type": "scatter",
         "x": [
          0,
          1.4074151257125822,
          1.4074151257125822,
          1.3465651066866895
         ],
         "xaxis": "x",
         "y": [
          -4845,
          -4845,
          -4860,
          -4860
         ],
         "yaxis": "y"
        },
        {
         "hoverinfo": "text",
         "marker": {
          "color": "rgb(0,116,217)"
         },
         "mode": "lines",
         "type": "scatter",
         "x": [
          0,
          1.2636652161652826,
          1.2636652161652826,
          0
         ],
         "xaxis": "x",
         "y": [
          -4875,
          -4875,
          -4885,
          -4885
         ],
         "yaxis": "y"
        },
        {
         "hoverinfo": "text",
         "marker": {
          "color": "rgb(0,116,217)"
         },
         "mode": "lines",
         "type": "scatter",
         "x": [
          1.4074151257125822,
          1.485467228229133,
          1.485467228229133,
          1.2636652161652826
         ],
         "xaxis": "x",
         "y": [
          -4852.5,
          -4852.5,
          -4880,
          -4880
         ],
         "yaxis": "y"
        },
        {
         "hoverinfo": "text",
         "marker": {
          "color": "rgb(0,116,217)"
         },
         "mode": "lines",
         "type": "scatter",
         "x": [
          0,
          1.2501714142236102,
          1.2501714142236102,
          0
         ],
         "xaxis": "x",
         "y": [
          -4895,
          -4895,
          -4905,
          -4905
         ],
         "yaxis": "y"
        },
        {
         "hoverinfo": "text",
         "marker": {
          "color": "rgb(0,116,217)"
         },
         "mode": "lines",
         "type": "scatter",
         "x": [
          1.485467228229133,
          1.583239935306121,
          1.583239935306121,
          1.2501714142236102
         ],
         "xaxis": "x",
         "y": [
          -4866.25,
          -4866.25,
          -4900,
          -4900
         ],
         "yaxis": "y"
        },
        {
         "hoverinfo": "text",
         "marker": {
          "color": "rgb(0,116,217)"
         },
         "mode": "lines",
         "type": "scatter",
         "x": [
          1.4754147518982654,
          1.7113674879662144,
          1.7113674879662144,
          1.583239935306121
         ],
         "xaxis": "x",
         "y": [
          -4811.25,
          -4811.25,
          -4883.125,
          -4883.125
         ],
         "yaxis": "y"
        },
        {
         "hoverinfo": "text",
         "marker": {
          "color": "rgb(0,116,217)"
         },
         "mode": "lines",
         "type": "scatter",
         "x": [
          1.4968639057073843,
          1.8374715585788115,
          1.8374715585788115,
          1.7113674879662144
         ],
         "xaxis": "x",
         "y": [
          -4761.25,
          -4761.25,
          -4847.1875,
          -4847.1875
         ],
         "yaxis": "y"
        },
        {
         "hoverinfo": "text",
         "marker": {
          "color": "rgb(0,116,217)"
         },
         "mode": "lines",
         "type": "scatter",
         "x": [
          0,
          1.3096159157165743,
          1.3096159157165743,
          0
         ],
         "xaxis": "x",
         "y": [
          -4915,
          -4915,
          -4925,
          -4925
         ],
         "yaxis": "y"
        },
        {
         "hoverinfo": "text",
         "marker": {
          "color": "rgb(0,116,217)"
         },
         "mode": "lines",
         "type": "scatter",
         "x": [
          0,
          1.4020107856956925,
          1.4020107856956925,
          0
         ],
         "xaxis": "x",
         "y": [
          -4935,
          -4935,
          -4945,
          -4945
         ],
         "yaxis": "y"
        },
        {
         "hoverinfo": "text",
         "marker": {
          "color": "rgb(0,116,217)"
         },
         "mode": "lines",
         "type": "scatter",
         "x": [
          1.4020107856956925,
          1.4248741450337354,
          1.4248741450337354,
          0
         ],
         "xaxis": "x",
         "y": [
          -4940,
          -4940,
          -4955,
          -4955
         ],
         "yaxis": "y"
        },
        {
         "hoverinfo": "text",
         "marker": {
          "color": "rgb(0,116,217)"
         },
         "mode": "lines",
         "type": "scatter",
         "x": [
          1.3096159157165743,
          1.5649540488693943,
          1.5649540488693943,
          1.4248741450337354
         ],
         "xaxis": "x",
         "y": [
          -4920,
          -4920,
          -4947.5,
          -4947.5
         ],
         "yaxis": "y"
        },
        {
         "hoverinfo": "text",
         "marker": {
          "color": "rgb(0,116,217)"
         },
         "mode": "lines",
         "type": "scatter",
         "x": [
          0,
          1.3515027199258423,
          1.3515027199258423,
          0
         ],
         "xaxis": "x",
         "y": [
          -4965,
          -4965,
          -4975,
          -4975
         ],
         "yaxis": "y"
        },
        {
         "hoverinfo": "text",
         "marker": {
          "color": "rgb(0,116,217)"
         },
         "mode": "lines",
         "type": "scatter",
         "x": [
          0,
          1.3710077323621719,
          1.3710077323621719,
          0
         ],
         "xaxis": "x",
         "y": [
          -4985,
          -4985,
          -4995,
          -4995
         ],
         "yaxis": "y"
        },
        {
         "hoverinfo": "text",
         "marker": {
          "color": "rgb(0,116,217)"
         },
         "mode": "lines",
         "type": "scatter",
         "x": [
          1.3710077323621719,
          1.3803782333872467,
          1.3803782333872467,
          0
         ],
         "xaxis": "x",
         "y": [
          -4990,
          -4990,
          -5005,
          -5005
         ],
         "yaxis": "y"
        },
        {
         "hoverinfo": "text",
         "marker": {
          "color": "rgb(0,116,217)"
         },
         "mode": "lines",
         "type": "scatter",
         "x": [
          1.3515027199258423,
          1.4977268861850608,
          1.4977268861850608,
          1.3803782333872467
         ],
         "xaxis": "x",
         "y": [
          -4970,
          -4970,
          -4997.5,
          -4997.5
         ],
         "yaxis": "y"
        },
        {
         "hoverinfo": "text",
         "marker": {
          "color": "rgb(0,116,217)"
         },
         "mode": "lines",
         "type": "scatter",
         "x": [
          0,
          1.3602251115907353,
          1.3602251115907353,
          0
         ],
         "xaxis": "x",
         "y": [
          -5025,
          -5025,
          -5035,
          -5035
         ],
         "yaxis": "y"
        },
        {
         "hoverinfo": "text",
         "marker": {
          "color": "rgb(0,116,217)"
         },
         "mode": "lines",
         "type": "scatter",
         "x": [
          0,
          1.390317290490327,
          1.390317290490327,
          1.3602251115907353
         ],
         "xaxis": "x",
         "y": [
          -5015,
          -5015,
          -5030,
          -5030
         ],
         "yaxis": "y"
        },
        {
         "hoverinfo": "text",
         "marker": {
          "color": "rgb(0,116,217)"
         },
         "mode": "lines",
         "type": "scatter",
         "x": [
          1.4977268861850608,
          1.559499374860698,
          1.559499374860698,
          1.390317290490327
         ],
         "xaxis": "x",
         "y": [
          -4983.75,
          -4983.75,
          -5022.5,
          -5022.5
         ],
         "yaxis": "y"
        },
        {
         "hoverinfo": "text",
         "marker": {
          "color": "rgb(0,116,217)"
         },
         "mode": "lines",
         "type": "scatter",
         "x": [
          1.5649540488693943,
          1.6936941984827627,
          1.6936941984827627,
          1.559499374860698
         ],
         "xaxis": "x",
         "y": [
          -4933.75,
          -4933.75,
          -5003.125,
          -5003.125
         ],
         "yaxis": "y"
        },
        {
         "hoverinfo": "text",
         "marker": {
          "color": "rgb(0,116,217)"
         },
         "mode": "lines",
         "type": "scatter",
         "x": [
          0,
          1.3747577149208083,
          1.3747577149208083,
          0
         ],
         "xaxis": "x",
         "y": [
          -5045,
          -5045,
          -5055,
          -5055
         ],
         "yaxis": "y"
        },
        {
         "hoverinfo": "text",
         "marker": {
          "color": "rgb(0,116,217)"
         },
         "mode": "lines",
         "type": "scatter",
         "x": [
          0,
          1.3608378931553442,
          1.3608378931553442,
          0
         ],
         "xaxis": "x",
         "y": [
          -5065,
          -5065,
          -5075,
          -5075
         ],
         "yaxis": "y"
        },
        {
         "hoverinfo": "text",
         "marker": {
          "color": "rgb(0,116,217)"
         },
         "mode": "lines",
         "type": "scatter",
         "x": [
          1.3608378931553442,
          1.4191686014874556,
          1.4191686014874556,
          0
         ],
         "xaxis": "x",
         "y": [
          -5070,
          -5070,
          -5085,
          -5085
         ],
         "yaxis": "y"
        },
        {
         "hoverinfo": "text",
         "marker": {
          "color": "rgb(0,116,217)"
         },
         "mode": "lines",
         "type": "scatter",
         "x": [
          1.3747577149208083,
          1.5383227927695673,
          1.5383227927695673,
          1.4191686014874556
         ],
         "xaxis": "x",
         "y": [
          -5050,
          -5050,
          -5077.5,
          -5077.5
         ],
         "yaxis": "y"
        },
        {
         "hoverinfo": "text",
         "marker": {
          "color": "rgb(0,116,217)"
         },
         "mode": "lines",
         "type": "scatter",
         "x": [
          0,
          1.3674178847178908,
          1.3674178847178908,
          0
         ],
         "xaxis": "x",
         "y": [
          -5095,
          -5095,
          -5105,
          -5105
         ],
         "yaxis": "y"
        },
        {
         "hoverinfo": "text",
         "marker": {
          "color": "rgb(0,116,217)"
         },
         "mode": "lines",
         "type": "scatter",
         "x": [
          0,
          1.3351893917967372,
          1.3351893917967372,
          0
         ],
         "xaxis": "x",
         "y": [
          -5115,
          -5115,
          -5125,
          -5125
         ],
         "yaxis": "y"
        },
        {
         "hoverinfo": "text",
         "marker": {
          "color": "rgb(0,116,217)"
         },
         "mode": "lines",
         "type": "scatter",
         "x": [
          1.3351893917967372,
          1.3992066116115083,
          1.3992066116115083,
          0
         ],
         "xaxis": "x",
         "y": [
          -5120,
          -5120,
          -5135,
          -5135
         ],
         "yaxis": "y"
        },
        {
         "hoverinfo": "text",
         "marker": {
          "color": "rgb(0,116,217)"
         },
         "mode": "lines",
         "type": "scatter",
         "x": [
          1.3674178847178908,
          1.4452736129595825,
          1.4452736129595825,
          1.3992066116115083
         ],
         "xaxis": "x",
         "y": [
          -5100,
          -5100,
          -5127.5,
          -5127.5
         ],
         "yaxis": "y"
        },
        {
         "hoverinfo": "text",
         "marker": {
          "color": "rgb(0,116,217)"
         },
         "mode": "lines",
         "type": "scatter",
         "x": [
          0,
          1.380995510922814,
          1.380995510922814,
          0
         ],
         "xaxis": "x",
         "y": [
          -5145,
          -5145,
          -5155,
          -5155
         ],
         "yaxis": "y"
        },
        {
         "hoverinfo": "text",
         "marker": {
          "color": "rgb(0,116,217)"
         },
         "mode": "lines",
         "type": "scatter",
         "x": [
          0,
          1.3510541374489817,
          1.3510541374489817,
          0
         ],
         "xaxis": "x",
         "y": [
          -5165,
          -5165,
          -5175,
          -5175
         ],
         "yaxis": "y"
        },
        {
         "hoverinfo": "text",
         "marker": {
          "color": "rgb(0,116,217)"
         },
         "mode": "lines",
         "type": "scatter",
         "x": [
          1.3510541374489817,
          1.386691845234052,
          1.386691845234052,
          0
         ],
         "xaxis": "x",
         "y": [
          -5170,
          -5170,
          -5185,
          -5185
         ],
         "yaxis": "y"
        },
        {
         "hoverinfo": "text",
         "marker": {
          "color": "rgb(0,116,217)"
         },
         "mode": "lines",
         "type": "scatter",
         "x": [
          1.380995510922814,
          1.4727431487805183,
          1.4727431487805183,
          1.386691845234052
         ],
         "xaxis": "x",
         "y": [
          -5150,
          -5150,
          -5177.5,
          -5177.5
         ],
         "yaxis": "y"
        },
        {
         "hoverinfo": "text",
         "marker": {
          "color": "rgb(0,116,217)"
         },
         "mode": "lines",
         "type": "scatter",
         "x": [
          1.4452736129595825,
          1.5039603060635651,
          1.5039603060635651,
          1.4727431487805183
         ],
         "xaxis": "x",
         "y": [
          -5113.75,
          -5113.75,
          -5163.75,
          -5163.75
         ],
         "yaxis": "y"
        },
        {
         "hoverinfo": "text",
         "marker": {
          "color": "rgb(0,116,217)"
         },
         "mode": "lines",
         "type": "scatter",
         "x": [
          1.5383227927695673,
          1.6169978599259518,
          1.6169978599259518,
          1.5039603060635651
         ],
         "xaxis": "x",
         "y": [
          -5063.75,
          -5063.75,
          -5138.75,
          -5138.75
         ],
         "yaxis": "y"
        },
        {
         "hoverinfo": "text",
         "marker": {
          "color": "rgb(0,116,217)"
         },
         "mode": "lines",
         "type": "scatter",
         "x": [
          0,
          1.3455333405251015,
          1.3455333405251015,
          0
         ],
         "xaxis": "x",
         "y": [
          -5205,
          -5205,
          -5215,
          -5215
         ],
         "yaxis": "y"
        },
        {
         "hoverinfo": "text",
         "marker": {
          "color": "rgb(0,116,217)"
         },
         "mode": "lines",
         "type": "scatter",
         "x": [
          0,
          1.3587087997935967,
          1.3587087997935967,
          1.3455333405251015
         ],
         "xaxis": "x",
         "y": [
          -5195,
          -5195,
          -5210,
          -5210
         ],
         "yaxis": "y"
        },
        {
         "hoverinfo": "text",
         "marker": {
          "color": "rgb(0,116,217)"
         },
         "mode": "lines",
         "type": "scatter",
         "x": [
          0,
          1.3563555359884485,
          1.3563555359884485,
          0
         ],
         "xaxis": "x",
         "y": [
          -5225,
          -5225,
          -5235,
          -5235
         ],
         "yaxis": "y"
        },
        {
         "hoverinfo": "text",
         "marker": {
          "color": "rgb(0,116,217)"
         },
         "mode": "lines",
         "type": "scatter",
         "x": [
          0,
          1.348772079648588,
          1.348772079648588,
          0
         ],
         "xaxis": "x",
         "y": [
          -5245,
          -5245,
          -5255,
          -5255
         ],
         "yaxis": "y"
        },
        {
         "hoverinfo": "text",
         "marker": {
          "color": "rgb(0,116,217)"
         },
         "mode": "lines",
         "type": "scatter",
         "x": [
          1.3563555359884485,
          1.3922377393828276,
          1.3922377393828276,
          1.348772079648588
         ],
         "xaxis": "x",
         "y": [
          -5230,
          -5230,
          -5250,
          -5250
         ],
         "yaxis": "y"
        },
        {
         "hoverinfo": "text",
         "marker": {
          "color": "rgb(0,116,217)"
         },
         "mode": "lines",
         "type": "scatter",
         "x": [
          0,
          1.3432371292544212,
          1.3432371292544212,
          0
         ],
         "xaxis": "x",
         "y": [
          -5265,
          -5265,
          -5275,
          -5275
         ],
         "yaxis": "y"
        },
        {
         "hoverinfo": "text",
         "marker": {
          "color": "rgb(0,116,217)"
         },
         "mode": "lines",
         "type": "scatter",
         "x": [
          1.3432371292544212,
          1.3766761871419504,
          1.3766761871419504,
          0
         ],
         "xaxis": "x",
         "y": [
          -5270,
          -5270,
          -5285,
          -5285
         ],
         "yaxis": "y"
        },
        {
         "hoverinfo": "text",
         "marker": {
          "color": "rgb(0,116,217)"
         },
         "mode": "lines",
         "type": "scatter",
         "x": [
          1.3922377393828276,
          1.4239320650034013,
          1.4239320650034013,
          1.3766761871419504
         ],
         "xaxis": "x",
         "y": [
          -5240,
          -5240,
          -5277.5,
          -5277.5
         ],
         "yaxis": "y"
        },
        {
         "hoverinfo": "text",
         "marker": {
          "color": "rgb(0,116,217)"
         },
         "mode": "lines",
         "type": "scatter",
         "x": [
          1.3587087997935967,
          1.478786086348626,
          1.478786086348626,
          1.4239320650034013
         ],
         "xaxis": "x",
         "y": [
          -5202.5,
          -5202.5,
          -5258.75,
          -5258.75
         ],
         "yaxis": "y"
        },
        {
         "hoverinfo": "text",
         "marker": {
          "color": "rgb(0,116,217)"
         },
         "mode": "lines",
         "type": "scatter",
         "x": [
          1.6169978599259518,
          1.7120643016192925,
          1.7120643016192925,
          1.478786086348626
         ],
         "xaxis": "x",
         "y": [
          -5101.25,
          -5101.25,
          -5230.625,
          -5230.625
         ],
         "yaxis": "y"
        },
        {
         "hoverinfo": "text",
         "marker": {
          "color": "rgb(0,116,217)"
         },
         "mode": "lines",
         "type": "scatter",
         "x": [
          1.6936941984827627,
          2.022065867657885,
          2.022065867657885,
          1.7120643016192925
         ],
         "xaxis": "x",
         "y": [
          -4968.4375,
          -4968.4375,
          -5165.9375,
          -5165.9375
         ],
         "yaxis": "y"
        },
        {
         "hoverinfo": "text",
         "marker": {
          "color": "rgb(0,116,217)"
         },
         "mode": "lines",
         "type": "scatter",
         "x": [
          1.8374715585788115,
          2.2832110624277924,
          2.2832110624277924,
          2.022065867657885
         ],
         "xaxis": "x",
         "y": [
          -4804.21875,
          -4804.21875,
          -5067.1875,
          -5067.1875
         ],
         "yaxis": "y"
        },
        {
         "hoverinfo": "text",
         "marker": {
          "color": "rgb(0,116,217)"
         },
         "mode": "lines",
         "type": "scatter",
         "x": [
          0,
          1.2542997572734098,
          1.2542997572734098,
          0
         ],
         "xaxis": "x",
         "y": [
          -5295,
          -5295,
          -5305,
          -5305
         ],
         "yaxis": "y"
        },
        {
         "hoverinfo": "text",
         "marker": {
          "color": "rgb(0,116,217)"
         },
         "mode": "lines",
         "type": "scatter",
         "x": [
          0,
          1.2947036638738185,
          1.2947036638738185,
          0
         ],
         "xaxis": "x",
         "y": [
          -5315,
          -5315,
          -5325,
          -5325
         ],
         "yaxis": "y"
        },
        {
         "hoverinfo": "text",
         "marker": {
          "color": "rgb(0,116,217)"
         },
         "mode": "lines",
         "type": "scatter",
         "x": [
          1.2542997572734098,
          1.3741861753615527,
          1.3741861753615527,
          1.2947036638738185
         ],
         "xaxis": "x",
         "y": [
          -5300,
          -5300,
          -5320,
          -5320
         ],
         "yaxis": "y"
        },
        {
         "hoverinfo": "text",
         "marker": {
          "color": "rgb(0,116,217)"
         },
         "mode": "lines",
         "type": "scatter",
         "x": [
          0,
          1.3426512934140309,
          1.3426512934140309,
          0
         ],
         "xaxis": "x",
         "y": [
          -5335,
          -5335,
          -5345,
          -5345
         ],
         "yaxis": "y"
        },
        {
         "hoverinfo": "text",
         "marker": {
          "color": "rgb(0,116,217)"
         },
         "mode": "lines",
         "type": "scatter",
         "x": [
          1.3741861753615527,
          1.450947659461914,
          1.450947659461914,
          1.3426512934140309
         ],
         "xaxis": "x",
         "y": [
          -5310,
          -5310,
          -5340,
          -5340
         ],
         "yaxis": "y"
        },
        {
         "hoverinfo": "text",
         "marker": {
          "color": "rgb(0,116,217)"
         },
         "mode": "lines",
         "type": "scatter",
         "x": [
          0,
          1.31779301938467,
          1.31779301938467,
          0
         ],
         "xaxis": "x",
         "y": [
          -5365,
          -5365,
          -5375,
          -5375
         ],
         "yaxis": "y"
        },
        {
         "hoverinfo": "text",
         "marker": {
          "color": "rgb(0,116,217)"
         },
         "mode": "lines",
         "type": "scatter",
         "x": [
          0,
          1.351193742380782,
          1.351193742380782,
          1.31779301938467
         ],
         "xaxis": "x",
         "y": [
          -5355,
          -5355,
          -5370,
          -5370
         ],
         "yaxis": "y"
        },
        {
         "hoverinfo": "text",
         "marker": {
          "color": "rgb(0,116,217)"
         },
         "mode": "lines",
         "type": "scatter",
         "x": [
          0,
          1.357263783951379,
          1.357263783951379,
          0
         ],
         "xaxis": "x",
         "y": [
          -5385,
          -5385,
          -5395,
          -5395
         ],
         "yaxis": "y"
        },
        {
         "hoverinfo": "text",
         "marker": {
          "color": "rgb(0,116,217)"
         },
         "mode": "lines",
         "type": "scatter",
         "x": [
          1.357263783951379,
          1.405894609398388,
          1.405894609398388,
          0
         ],
         "xaxis": "x",
         "y": [
          -5390,
          -5390,
          -5405,
          -5405
         ],
         "yaxis": "y"
        },
        {
         "hoverinfo": "text",
         "marker": {
          "color": "rgb(0,116,217)"
         },
         "mode": "lines",
         "type": "scatter",
         "x": [
          1.351193742380782,
          1.470430623240696,
          1.470430623240696,
          1.405894609398388
         ],
         "xaxis": "x",
         "y": [
          -5362.5,
          -5362.5,
          -5397.5,
          -5397.5
         ],
         "yaxis": "y"
        },
        {
         "hoverinfo": "text",
         "marker": {
          "color": "rgb(0,116,217)"
         },
         "mode": "lines",
         "type": "scatter",
         "x": [
          1.450947659461914,
          1.600109327717172,
          1.600109327717172,
          1.470430623240696
         ],
         "xaxis": "x",
         "y": [
          -5325,
          -5325,
          -5380,
          -5380
         ],
         "yaxis": "y"
        },
        {
         "hoverinfo": "text",
         "marker": {
          "color": "rgb(0,116,217)"
         },
         "mode": "lines",
         "type": "scatter",
         "x": [
          0,
          1.3087000203451842,
          1.3087000203451842,
          0
         ],
         "xaxis": "x",
         "y": [
          -5415,
          -5415,
          -5425,
          -5425
         ],
         "yaxis": "y"
        },
        {
         "hoverinfo": "text",
         "marker": {
          "color": "rgb(0,116,217)"
         },
         "mode": "lines",
         "type": "scatter",
         "x": [
          0,
          1.1906940976673215,
          1.1906940976673215,
          0
         ],
         "xaxis": "x",
         "y": [
          -5435,
          -5435,
          -5445,
          -5445
         ],
         "yaxis": "y"
        },
        {
         "hoverinfo": "text",
         "marker": {
          "color": "rgb(0,116,217)"
         },
         "mode": "lines",
         "type": "scatter",
         "x": [
          1.3087000203451842,
          1.4858388152442654,
          1.4858388152442654,
          1.1906940976673215
         ],
         "xaxis": "x",
         "y": [
          -5420,
          -5420,
          -5440,
          -5440
         ],
         "yaxis": "y"
        },
        {
         "hoverinfo": "text",
         "marker": {
          "color": "rgb(0,116,217)"
         },
         "mode": "lines",
         "type": "scatter",
         "x": [
          0,
          1.1367641923394782,
          1.1367641923394782,
          0
         ],
         "xaxis": "x",
         "y": [
          -5455,
          -5455,
          -5465,
          -5465
         ],
         "yaxis": "y"
        },
        {
         "hoverinfo": "text",
         "marker": {
          "color": "rgb(0,116,217)"
         },
         "mode": "lines",
         "type": "scatter",
         "x": [
          0,
          1.3462735030045128,
          1.3462735030045128,
          0
         ],
         "xaxis": "x",
         "y": [
          -5475,
          -5475,
          -5485,
          -5485
         ],
         "yaxis": "y"
        },
        {
         "hoverinfo": "text",
         "marker": {
          "color": "rgb(0,116,217)"
         },
         "mode": "lines",
         "type": "scatter",
         "x": [
          1.1367641923394782,
          1.4673949748942974,
          1.4673949748942974,
          1.3462735030045128
         ],
         "xaxis": "x",
         "y": [
          -5460,
          -5460,
          -5480,
          -5480
         ],
         "yaxis": "y"
        },
        {
         "hoverinfo": "text",
         "marker": {
          "color": "rgb(0,116,217)"
         },
         "mode": "lines",
         "type": "scatter",
         "x": [
          1.4858388152442654,
          1.7144025740958357,
          1.7144025740958357,
          1.4673949748942974
         ],
         "xaxis": "x",
         "y": [
          -5430,
          -5430,
          -5470,
          -5470
         ],
         "yaxis": "y"
        },
        {
         "hoverinfo": "text",
         "marker": {
          "color": "rgb(0,116,217)"
         },
         "mode": "lines",
         "type": "scatter",
         "x": [
          1.600109327717172,
          2.022725212645561,
          2.022725212645561,
          1.7144025740958357
         ],
         "xaxis": "x",
         "y": [
          -5352.5,
          -5352.5,
          -5450,
          -5450
         ],
         "yaxis": "y"
        },
        {
         "hoverinfo": "text",
         "marker": {
          "color": "rgb(0,116,217)"
         },
         "mode": "lines",
         "type": "scatter",
         "x": [
          2.2832110624277924,
          2.8713546760112347,
          2.8713546760112347,
          2.022725212645561
         ],
         "xaxis": "x",
         "y": [
          -4935.703125,
          -4935.703125,
          -5401.25,
          -5401.25
         ],
         "yaxis": "y"
        },
        {
         "hoverinfo": "text",
         "marker": {
          "color": "rgb(0,116,217)"
         },
         "mode": "lines",
         "type": "scatter",
         "x": [
          0,
          1.078193873414045,
          1.078193873414045,
          0
         ],
         "xaxis": "x",
         "y": [
          -5525,
          -5525,
          -5535,
          -5535
         ],
         "yaxis": "y"
        },
        {
         "hoverinfo": "text",
         "marker": {
          "color": "rgb(0,116,217)"
         },
         "mode": "lines",
         "type": "scatter",
         "x": [
          0,
          1.1723422803231938,
          1.1723422803231938,
          1.078193873414045
         ],
         "xaxis": "x",
         "y": [
          -5515,
          -5515,
          -5530,
          -5530
         ],
         "yaxis": "y"
        },
        {
         "hoverinfo": "text",
         "marker": {
          "color": "rgb(0,116,217)"
         },
         "mode": "lines",
         "type": "scatter",
         "x": [
          1.1723422803231938,
          1.2731819037085579,
          1.2731819037085579,
          0
         ],
         "xaxis": "x",
         "y": [
          -5522.5,
          -5522.5,
          -5545,
          -5545
         ],
         "yaxis": "y"
        },
        {
         "hoverinfo": "text",
         "marker": {
          "color": "rgb(0,116,217)"
         },
         "mode": "lines",
         "type": "scatter",
         "x": [
          0,
          1.3208794376528719,
          1.3208794376528719,
          1.2731819037085579
         ],
         "xaxis": "x",
         "y": [
          -5505,
          -5505,
          -5533.75,
          -5533.75
         ],
         "yaxis": "y"
        },
        {
         "hoverinfo": "text",
         "marker": {
          "color": "rgb(0,116,217)"
         },
         "mode": "lines",
         "type": "scatter",
         "x": [
          1.3208794376528719,
          1.3538760805659262,
          1.3538760805659262,
          0
         ],
         "xaxis": "x",
         "y": [
          -5519.375,
          -5519.375,
          -5555,
          -5555
         ],
         "yaxis": "y"
        },
        {
         "hoverinfo": "text",
         "marker": {
          "color": "rgb(0,116,217)"
         },
         "mode": "lines",
         "type": "scatter",
         "x": [
          0,
          1.4254424125059169,
          1.4254424125059169,
          1.3538760805659262
         ],
         "xaxis": "x",
         "y": [
          -5495,
          -5495,
          -5537.1875,
          -5537.1875
         ],
         "yaxis": "y"
        },
        {
         "hoverinfo": "text",
         "marker": {
          "color": "rgb(0,116,217)"
         },
         "mode": "lines",
         "type": "scatter",
         "x": [
          0,
          1.104020634418337,
          1.104020634418337,
          0
         ],
         "xaxis": "x",
         "y": [
          -5565,
          -5565,
          -5575,
          -5575
         ],
         "yaxis": "y"
        },
        {
         "hoverinfo": "text",
         "marker": {
          "color": "rgb(0,116,217)"
         },
         "mode": "lines",
         "type": "scatter",
         "x": [
          1.4254424125059169,
          1.5885827320072963,
          1.5885827320072963,
          1.104020634418337
         ],
         "xaxis": "x",
         "y": [
          -5516.09375,
          -5516.09375,
          -5570,
          -5570
         ],
         "yaxis": "y"
        },
        {
         "hoverinfo": "text",
         "marker": {
          "color": "rgb(35,205,205)"
         },
         "mode": "lines",
         "type": "scatter",
         "x": [
          0,
          0.8673632483967546,
          0.8673632483967546,
          0
         ],
         "xaxis": "x",
         "y": [
          -5595,
          -5595,
          -5605,
          -5605
         ],
         "yaxis": "y"
        },
        {
         "hoverinfo": "text",
         "marker": {
          "color": "rgb(0,116,217)"
         },
         "mode": "lines",
         "type": "scatter",
         "x": [
          0,
          1.1164657091253862,
          1.1164657091253862,
          0.8673632483967546
         ],
         "xaxis": "x",
         "y": [
          -5585,
          -5585,
          -5600,
          -5600
         ],
         "yaxis": "y"
        },
        {
         "hoverinfo": "text",
         "marker": {
          "color": "rgb(0,116,217)"
         },
         "mode": "lines",
         "type": "scatter",
         "x": [
          1.1164657091253862,
          1.522226077185189,
          1.522226077185189,
          0
         ],
         "xaxis": "x",
         "y": [
          -5592.5,
          -5592.5,
          -5615,
          -5615
         ],
         "yaxis": "y"
        },
        {
         "hoverinfo": "text",
         "marker": {
          "color": "rgb(0,116,217)"
         },
         "mode": "lines",
         "type": "scatter",
         "x": [
          1.5885827320072963,
          1.7692658551934841,
          1.7692658551934841,
          1.522226077185189
         ],
         "xaxis": "x",
         "y": [
          -5543.046875,
          -5543.046875,
          -5603.75,
          -5603.75
         ],
         "yaxis": "y"
        },
        {
         "hoverinfo": "text",
         "marker": {
          "color": "rgb(0,116,217)"
         },
         "mode": "lines",
         "type": "scatter",
         "x": [
          2.8713546760112347,
          4.20308220771469,
          4.20308220771469,
          1.7692658551934841
         ],
         "xaxis": "x",
         "y": [
          -5168.4765625,
          -5168.4765625,
          -5573.3984375,
          -5573.3984375
         ],
         "yaxis": "y"
        },
        {
         "hoverinfo": "text",
         "marker": {
          "color": "rgb(0,116,217)"
         },
         "mode": "lines",
         "type": "scatter",
         "x": [
          2.710463387142521,
          5.005641129458977,
          5.005641129458977,
          4.20308220771469
         ],
         "xaxis": "x",
         "y": [
          -4384.3359375,
          -4384.3359375,
          -5370.9375,
          -5370.9375
         ],
         "yaxis": "y"
        },
        {
         "hoverinfo": "text",
         "marker": {
          "color": "rgb(0,116,217)"
         },
         "mode": "lines",
         "type": "scatter",
         "x": [
          3.044041351012673,
          5.527630912022852,
          5.527630912022852,
          5.005641129458977
         ],
         "xaxis": "x",
         "y": [
          -3774.84375,
          -3774.84375,
          -4877.63671875,
          -4877.63671875
         ],
         "yaxis": "y"
        },
        {
         "hoverinfo": "text",
         "marker": {
          "color": "rgb(0,116,217)"
         },
         "mode": "lines",
         "type": "scatter",
         "x": [
          0,
          1.3075828082366718,
          1.3075828082366718,
          0
         ],
         "xaxis": "x",
         "y": [
          -5635,
          -5635,
          -5645,
          -5645
         ],
         "yaxis": "y"
        },
        {
         "hoverinfo": "text",
         "marker": {
          "color": "rgb(0,116,217)"
         },
         "mode": "lines",
         "type": "scatter",
         "x": [
          0,
          1.3798354965474575,
          1.3798354965474575,
          1.3075828082366718
         ],
         "xaxis": "x",
         "y": [
          -5625,
          -5625,
          -5640,
          -5640
         ],
         "yaxis": "y"
        },
        {
         "hoverinfo": "text",
         "marker": {
          "color": "rgb(0,116,217)"
         },
         "mode": "lines",
         "type": "scatter",
         "x": [
          0,
          1.258894659539942,
          1.258894659539942,
          0
         ],
         "xaxis": "x",
         "y": [
          -5665,
          -5665,
          -5675,
          -5675
         ],
         "yaxis": "y"
        },
        {
         "hoverinfo": "text",
         "marker": {
          "color": "rgb(0,116,217)"
         },
         "mode": "lines",
         "type": "scatter",
         "x": [
          0,
          1.3395578570013096,
          1.3395578570013096,
          1.258894659539942
         ],
         "xaxis": "x",
         "y": [
          -5655,
          -5655,
          -5670,
          -5670
         ],
         "yaxis": "y"
        },
        {
         "hoverinfo": "text",
         "marker": {
          "color": "rgb(0,116,217)"
         },
         "mode": "lines",
         "type": "scatter",
         "x": [
          0,
          1.2849588031253976,
          1.2849588031253976,
          0
         ],
         "xaxis": "x",
         "y": [
          -5685,
          -5685,
          -5695,
          -5695
         ],
         "yaxis": "y"
        },
        {
         "hoverinfo": "text",
         "marker": {
          "color": "rgb(0,116,217)"
         },
         "mode": "lines",
         "type": "scatter",
         "x": [
          1.2849588031253976,
          1.328101904284717,
          1.328101904284717,
          0
         ],
         "xaxis": "x",
         "y": [
          -5690,
          -5690,
          -5705,
          -5705
         ],
         "yaxis": "y"
        },
        {
         "hoverinfo": "text",
         "marker": {
          "color": "rgb(0,116,217)"
         },
         "mode": "lines",
         "type": "scatter",
         "x": [
          1.3395578570013096,
          1.3764146851870416,
          1.3764146851870416,
          1.328101904284717
         ],
         "xaxis": "x",
         "y": [
          -5662.5,
          -5662.5,
          -5697.5,
          -5697.5
         ],
         "yaxis": "y"
        },
        {
         "hoverinfo": "text",
         "marker": {
          "color": "rgb(0,116,217)"
         },
         "mode": "lines",
         "type": "scatter",
         "x": [
          1.3798354965474575,
          1.5129030373153,
          1.5129030373153,
          1.3764146851870416
         ],
         "xaxis": "x",
         "y": [
          -5632.5,
          -5632.5,
          -5680,
          -5680
         ],
         "yaxis": "y"
        },
        {
         "hoverinfo": "text",
         "marker": {
          "color": "rgb(0,116,217)"
         },
         "mode": "lines",
         "type": "scatter",
         "x": [
          0,
          1.1393559605791872,
          1.1393559605791872,
          0
         ],
         "xaxis": "x",
         "y": [
          -5725,
          -5725,
          -5735,
          -5735
         ],
         "yaxis": "y"
        },
        {
         "hoverinfo": "text",
         "marker": {
          "color": "rgb(0,116,217)"
         },
         "mode": "lines",
         "type": "scatter",
         "x": [
          0,
          1.2534038498248843,
          1.2534038498248843,
          1.1393559605791872
         ],
         "xaxis": "x",
         "y": [
          -5715,
          -5715,
          -5730,
          -5730
         ],
         "yaxis": "y"
        },
        {
         "hoverinfo": "text",
         "marker": {
          "color": "rgb(0,116,217)"
         },
         "mode": "lines",
         "type": "scatter",
         "x": [
          0,
          1.2482326431879363,
          1.2482326431879363,
          0
         ],
         "xaxis": "x",
         "y": [
          -5745,
          -5745,
          -5755,
          -5755
         ],
         "yaxis": "y"
        },
        {
         "hoverinfo": "text",
         "marker": {
          "color": "rgb(0,116,217)"
         },
         "mode": "lines",
         "type": "scatter",
         "x": [
          0,
          1.2887337996043655,
          1.2887337996043655,
          0
         ],
         "xaxis": "x",
         "y": [
          -5765,
          -5765,
          -5775,
          -5775
         ],
         "yaxis": "y"
        },
        {
         "hoverinfo": "text",
         "marker": {
          "color": "rgb(0,116,217)"
         },
         "mode": "lines",
         "type": "scatter",
         "x": [
          1.2482326431879363,
          1.3610788355641095,
          1.3610788355641095,
          1.2887337996043655
         ],
         "xaxis": "x",
         "y": [
          -5750,
          -5750,
          -5770,
          -5770
         ],
         "yaxis": "y"
        },
        {
         "hoverinfo": "text",
         "marker": {
          "color": "rgb(0,116,217)"
         },
         "mode": "lines",
         "type": "scatter",
         "x": [
          0,
          1.3194705487033047,
          1.3194705487033047,
          0
         ],
         "xaxis": "x",
         "y": [
          -5795,
          -5795,
          -5805,
          -5805
         ],
         "yaxis": "y"
        },
        {
         "hoverinfo": "text",
         "marker": {
          "color": "rgb(0,116,217)"
         },
         "mode": "lines",
         "type": "scatter",
         "x": [
          0,
          1.3793209317752981,
          1.3793209317752981,
          1.3194705487033047
         ],
         "xaxis": "x",
         "y": [
          -5785,
          -5785,
          -5800,
          -5800
         ],
         "yaxis": "y"
        },
        {
         "hoverinfo": "text",
         "marker": {
          "color": "rgb(0,116,217)"
         },
         "mode": "lines",
         "type": "scatter",
         "x": [
          0,
          1.3534769874447492,
          1.3534769874447492,
          0
         ],
         "xaxis": "x",
         "y": [
          -5825,
          -5825,
          -5835,
          -5835
         ],
         "yaxis": "y"
        },
        {
         "hoverinfo": "text",
         "marker": {
          "color": "rgb(0,116,217)"
         },
         "mode": "lines",
         "type": "scatter",
         "x": [
          0,
          1.416171311436581,
          1.416171311436581,
          1.3534769874447492
         ],
         "xaxis": "x",
         "y": [
          -5815,
          -5815,
          -5830,
          -5830
         ],
         "yaxis": "y"
        },
        {
         "hoverinfo": "text",
         "marker": {
          "color": "rgb(0,116,217)"
         },
         "mode": "lines",
         "type": "scatter",
         "x": [
          1.3793209317752981,
          1.4386991054242784,
          1.4386991054242784,
          1.416171311436581
         ],
         "xaxis": "x",
         "y": [
          -5792.5,
          -5792.5,
          -5822.5,
          -5822.5
         ],
         "yaxis": "y"
        },
        {
         "hoverinfo": "text",
         "marker": {
          "color": "rgb(0,116,217)"
         },
         "mode": "lines",
         "type": "scatter",
         "x": [
          1.3610788355641095,
          1.521241733530591,
          1.521241733530591,
          1.4386991054242784
         ],
         "xaxis": "x",
         "y": [
          -5760,
          -5760,
          -5807.5,
          -5807.5
         ],
         "yaxis": "y"
        },
        {
         "hoverinfo": "text",
         "marker": {
          "color": "rgb(0,116,217)"
         },
         "mode": "lines",
         "type": "scatter",
         "x": [
          1.2534038498248843,
          1.7822164766556947,
          1.7822164766556947,
          1.521241733530591
         ],
         "xaxis": "x",
         "y": [
          -5722.5,
          -5722.5,
          -5783.75,
          -5783.75
         ],
         "yaxis": "y"
        },
        {
         "hoverinfo": "text",
         "marker": {
          "color": "rgb(0,116,217)"
         },
         "mode": "lines",
         "type": "scatter",
         "x": [
          1.5129030373153,
          2.0816009212072544,
          2.0816009212072544,
          1.7822164766556947
         ],
         "xaxis": "x",
         "y": [
          -5656.25,
          -5656.25,
          -5753.125,
          -5753.125
         ],
         "yaxis": "y"
        },
        {
         "hoverinfo": "text",
         "marker": {
          "color": "rgb(0,116,217)"
         },
         "mode": "lines",
         "type": "scatter",
         "x": [
          0,
          1.2806724271378218,
          1.2806724271378218,
          0
         ],
         "xaxis": "x",
         "y": [
          -5855,
          -5855,
          -5865,
          -5865
         ],
         "yaxis": "y"
        },
        {
         "hoverinfo": "text",
         "marker": {
          "color": "rgb(0,116,217)"
         },
         "mode": "lines",
         "type": "scatter",
         "x": [
          0,
          1.354138964199618,
          1.354138964199618,
          1.2806724271378218
         ],
         "xaxis": "x",
         "y": [
          -5845,
          -5845,
          -5860,
          -5860
         ],
         "yaxis": "y"
        },
        {
         "hoverinfo": "text",
         "marker": {
          "color": "rgb(0,116,217)"
         },
         "mode": "lines",
         "type": "scatter",
         "x": [
          0,
          1.1507441087097423,
          1.1507441087097423,
          0
         ],
         "xaxis": "x",
         "y": [
          -5875,
          -5875,
          -5885,
          -5885
         ],
         "yaxis": "y"
        },
        {
         "hoverinfo": "text",
         "marker": {
          "color": "rgb(0,116,217)"
         },
         "mode": "lines",
         "type": "scatter",
         "x": [
          0,
          1.1098027643962236,
          1.1098027643962236,
          0
         ],
         "xaxis": "x",
         "y": [
          -5895,
          -5895,
          -5905,
          -5905
         ],
         "yaxis": "y"
        },
        {
         "hoverinfo": "text",
         "marker": {
          "color": "rgb(0,116,217)"
         },
         "mode": "lines",
         "type": "scatter",
         "x": [
          1.1098027643962236,
          1.2649345501875389,
          1.2649345501875389,
          0
         ],
         "xaxis": "x",
         "y": [
          -5900,
          -5900,
          -5915,
          -5915
         ],
         "yaxis": "y"
        },
        {
         "hoverinfo": "text",
         "marker": {
          "color": "rgb(0,116,217)"
         },
         "mode": "lines",
         "type": "scatter",
         "x": [
          1.1507441087097423,
          1.4480151284502496,
          1.4480151284502496,
          1.2649345501875389
         ],
         "xaxis": "x",
         "y": [
          -5880,
          -5880,
          -5907.5,
          -5907.5
         ],
         "yaxis": "y"
        },
        {
         "hoverinfo": "text",
         "marker": {
          "color": "rgb(0,116,217)"
         },
         "mode": "lines",
         "type": "scatter",
         "x": [
          1.354138964199618,
          1.5558072808898824,
          1.5558072808898824,
          1.4480151284502496
         ],
         "xaxis": "x",
         "y": [
          -5852.5,
          -5852.5,
          -5893.75,
          -5893.75
         ],
         "yaxis": "y"
        },
        {
         "hoverinfo": "text",
         "marker": {
          "color": "rgb(0,116,217)"
         },
         "mode": "lines",
         "type": "scatter",
         "x": [
          2.0816009212072544,
          3.170087928994476,
          3.170087928994476,
          1.5558072808898824
         ],
         "xaxis": "x",
         "y": [
          -5704.6875,
          -5704.6875,
          -5873.125,
          -5873.125
         ],
         "yaxis": "y"
        },
        {
         "hoverinfo": "text",
         "marker": {
          "color": "rgb(0,116,217)"
         },
         "mode": "lines",
         "type": "scatter",
         "x": [
          0,
          1.2023830841520464,
          1.2023830841520464,
          0
         ],
         "xaxis": "x",
         "y": [
          -5935,
          -5935,
          -5945,
          -5945
         ],
         "yaxis": "y"
        },
        {
         "hoverinfo": "text",
         "marker": {
          "color": "rgb(0,116,217)"
         },
         "mode": "lines",
         "type": "scatter",
         "x": [
          0,
          1.3215948633881294,
          1.3215948633881294,
          1.2023830841520464
         ],
         "xaxis": "x",
         "y": [
          -5925,
          -5925,
          -5940,
          -5940
         ],
         "yaxis": "y"
        },
        {
         "hoverinfo": "text",
         "marker": {
          "color": "rgb(0,116,217)"
         },
         "mode": "lines",
         "type": "scatter",
         "x": [
          0,
          1.170722154195019,
          1.170722154195019,
          0
         ],
         "xaxis": "x",
         "y": [
          -5955,
          -5955,
          -5965,
          -5965
         ],
         "yaxis": "y"
        },
        {
         "hoverinfo": "text",
         "marker": {
          "color": "rgb(0,116,217)"
         },
         "mode": "lines",
         "type": "scatter",
         "x": [
          1.3215948633881294,
          1.6124137224747792,
          1.6124137224747792,
          1.170722154195019
         ],
         "xaxis": "x",
         "y": [
          -5932.5,
          -5932.5,
          -5960,
          -5960
         ],
         "yaxis": "y"
        },
        {
         "hoverinfo": "text",
         "marker": {
          "color": "rgb(0,116,217)"
         },
         "mode": "lines",
         "type": "scatter",
         "x": [
          0,
          1.1716801300372128,
          1.1716801300372128,
          0
         ],
         "xaxis": "x",
         "y": [
          -5985,
          -5985,
          -5995,
          -5995
         ],
         "yaxis": "y"
        },
        {
         "hoverinfo": "text",
         "marker": {
          "color": "rgb(0,116,217)"
         },
         "mode": "lines",
         "type": "scatter",
         "x": [
          0,
          1.2765505178841134,
          1.2765505178841134,
          1.1716801300372128
         ],
         "xaxis": "x",
         "y": [
          -5975,
          -5975,
          -5990,
          -5990
         ],
         "yaxis": "y"
        },
        {
         "hoverinfo": "text",
         "marker": {
          "color": "rgb(0,116,217)"
         },
         "mode": "lines",
         "type": "scatter",
         "x": [
          0,
          1.2086642596417585,
          1.2086642596417585,
          0
         ],
         "xaxis": "x",
         "y": [
          -6005,
          -6005,
          -6015,
          -6015
         ],
         "yaxis": "y"
        },
        {
         "hoverinfo": "text",
         "marker": {
          "color": "rgb(0,116,217)"
         },
         "mode": "lines",
         "type": "scatter",
         "x": [
          0,
          1.1894166929607926,
          1.1894166929607926,
          0
         ],
         "xaxis": "x",
         "y": [
          -6025,
          -6025,
          -6035,
          -6035
         ],
         "yaxis": "y"
        },
        {
         "hoverinfo": "text",
         "marker": {
          "color": "rgb(0,116,217)"
         },
         "mode": "lines",
         "type": "scatter",
         "x": [
          1.2086642596417585,
          1.375421216686936,
          1.375421216686936,
          1.1894166929607926
         ],
         "xaxis": "x",
         "y": [
          -6010,
          -6010,
          -6030,
          -6030
         ],
         "yaxis": "y"
        },
        {
         "hoverinfo": "text",
         "marker": {
          "color": "rgb(0,116,217)"
         },
         "mode": "lines",
         "type": "scatter",
         "x": [
          1.2765505178841134,
          1.5142905027058304,
          1.5142905027058304,
          1.375421216686936
         ],
         "xaxis": "x",
         "y": [
          -5982.5,
          -5982.5,
          -6020,
          -6020
         ],
         "yaxis": "y"
        },
        {
         "hoverinfo": "text",
         "marker": {
          "color": "rgb(0,116,217)"
         },
         "mode": "lines",
         "type": "scatter",
         "x": [
          1.6124137224747792,
          1.904383612775654,
          1.904383612775654,
          1.5142905027058304
         ],
         "xaxis": "x",
         "y": [
          -5946.25,
          -5946.25,
          -6001.25,
          -6001.25
         ],
         "yaxis": "y"
        },
        {
         "hoverinfo": "text",
         "marker": {
          "color": "rgb(0,116,217)"
         },
         "mode": "lines",
         "type": "scatter",
         "x": [
          0,
          1.2151989508490761,
          1.2151989508490761,
          0
         ],
         "xaxis": "x",
         "y": [
          -6055,
          -6055,
          -6065,
          -6065
         ],
         "yaxis": "y"
        },
        {
         "hoverinfo": "text",
         "marker": {
          "color": "rgb(0,116,217)"
         },
         "mode": "lines",
         "type": "scatter",
         "x": [
          0,
          1.3082116022447257,
          1.3082116022447257,
          1.2151989508490761
         ],
         "xaxis": "x",
         "y": [
          -6045,
          -6045,
          -6060,
          -6060
         ],
         "yaxis": "y"
        },
        {
         "hoverinfo": "text",
         "marker": {
          "color": "rgb(0,116,217)"
         },
         "mode": "lines",
         "type": "scatter",
         "x": [
          0,
          1.1704023243066304,
          1.1704023243066304,
          0
         ],
         "xaxis": "x",
         "y": [
          -6085,
          -6085,
          -6095,
          -6095
         ],
         "yaxis": "y"
        },
        {
         "hoverinfo": "text",
         "marker": {
          "color": "rgb(0,116,217)"
         },
         "mode": "lines",
         "type": "scatter",
         "x": [
          0,
          1.4369940991756036,
          1.4369940991756036,
          1.1704023243066304
         ],
         "xaxis": "x",
         "y": [
          -6075,
          -6075,
          -6090,
          -6090
         ],
         "yaxis": "y"
        },
        {
         "hoverinfo": "text",
         "marker": {
          "color": "rgb(0,116,217)"
         },
         "mode": "lines",
         "type": "scatter",
         "x": [
          0,
          1.320858065442233,
          1.320858065442233,
          0
         ],
         "xaxis": "x",
         "y": [
          -6105,
          -6105,
          -6115,
          -6115
         ],
         "yaxis": "y"
        },
        {
         "hoverinfo": "text",
         "marker": {
          "color": "rgb(0,116,217)"
         },
         "mode": "lines",
         "type": "scatter",
         "x": [
          0,
          1.245313115743996,
          1.245313115743996,
          0
         ],
         "xaxis": "x",
         "y": [
          -6125,
          -6125,
          -6135,
          -6135
         ],
         "yaxis": "y"
        },
        {
         "hoverinfo": "text",
         "marker": {
          "color": "rgb(0,116,217)"
         },
         "mode": "lines",
         "type": "scatter",
         "x": [
          1.320858065442233,
          1.3578382033684337,
          1.3578382033684337,
          1.245313115743996
         ],
         "xaxis": "x",
         "y": [
          -6110,
          -6110,
          -6130,
          -6130
         ],
         "yaxis": "y"
        },
        {
         "hoverinfo": "text",
         "marker": {
          "color": "rgb(0,116,217)"
         },
         "mode": "lines",
         "type": "scatter",
         "x": [
          0,
          1.3276242174535897,
          1.3276242174535897,
          0
         ],
         "xaxis": "x",
         "y": [
          -6145,
          -6145,
          -6155,
          -6155
         ],
         "yaxis": "y"
        },
        {
         "hoverinfo": "text",
         "marker": {
          "color": "rgb(0,116,217)"
         },
         "mode": "lines",
         "type": "scatter",
         "x": [
          0,
          1.3191565782062222,
          1.3191565782062222,
          0
         ],
         "xaxis": "x",
         "y": [
          -6165,
          -6165,
          -6175,
          -6175
         ],
         "yaxis": "y"
        },
        {
         "hoverinfo": "text",
         "marker": {
          "color": "rgb(0,116,217)"
         },
         "mode": "lines",
         "type": "scatter",
         "x": [
          1.3276242174535897,
          1.4555686972537758,
          1.4555686972537758,
          1.3191565782062222
         ],
         "xaxis": "x",
         "y": [
          -6150,
          -6150,
          -6170,
          -6170
         ],
         "yaxis": "y"
        },
        {
         "hoverinfo": "text",
         "marker": {
          "color": "rgb(0,116,217)"
         },
         "mode": "lines",
         "type": "scatter",
         "x": [
          1.3578382033684337,
          1.6275563041306296,
          1.6275563041306296,
          1.4555686972537758
         ],
         "xaxis": "x",
         "y": [
          -6120,
          -6120,
          -6160,
          -6160
         ],
         "yaxis": "y"
        },
        {
         "hoverinfo": "text",
         "marker": {
          "color": "rgb(0,116,217)"
         },
         "mode": "lines",
         "type": "scatter",
         "x": [
          1.4369940991756036,
          1.8005597081225113,
          1.8005597081225113,
          1.6275563041306296
         ],
         "xaxis": "x",
         "y": [
          -6082.5,
          -6082.5,
          -6140,
          -6140
         ],
         "yaxis": "y"
        },
        {
         "hoverinfo": "text",
         "marker": {
          "color": "rgb(0,116,217)"
         },
         "mode": "lines",
         "type": "scatter",
         "x": [
          1.3082116022447257,
          2.370116423547213,
          2.370116423547213,
          1.8005597081225113
         ],
         "xaxis": "x",
         "y": [
          -6052.5,
          -6052.5,
          -6111.25,
          -6111.25
         ],
         "yaxis": "y"
        },
        {
         "hoverinfo": "text",
         "marker": {
          "color": "rgb(0,116,217)"
         },
         "mode": "lines",
         "type": "scatter",
         "x": [
          0,
          1.290774094803637,
          1.290774094803637,
          0
         ],
         "xaxis": "x",
         "y": [
          -6185,
          -6185,
          -6195,
          -6195
         ],
         "yaxis": "y"
        },
        {
         "hoverinfo": "text",
         "marker": {
          "color": "rgb(0,116,217)"
         },
         "mode": "lines",
         "type": "scatter",
         "x": [
          0,
          1.3909547775646187,
          1.3909547775646187,
          0
         ],
         "xaxis": "x",
         "y": [
          -6215,
          -6215,
          -6225,
          -6225
         ],
         "yaxis": "y"
        },
        {
         "hoverinfo": "text",
         "marker": {
          "color": "rgb(0,116,217)"
         },
         "mode": "lines",
         "type": "scatter",
         "x": [
          0,
          1.4000706729251893,
          1.4000706729251893,
          1.3909547775646187
         ],
         "xaxis": "x",
         "y": [
          -6205,
          -6205,
          -6220,
          -6220
         ],
         "yaxis": "y"
        },
        {
         "hoverinfo": "text",
         "marker": {
          "color": "rgb(0,116,217)"
         },
         "mode": "lines",
         "type": "scatter",
         "x": [
          1.290774094803637,
          1.5983884253214464,
          1.5983884253214464,
          1.4000706729251893
         ],
         "xaxis": "x",
         "y": [
          -6190,
          -6190,
          -6212.5,
          -6212.5
         ],
         "yaxis": "y"
        },
        {
         "hoverinfo": "text",
         "marker": {
          "color": "rgb(0,116,217)"
         },
         "mode": "lines",
         "type": "scatter",
         "x": [
          0,
          1.3414278107305344,
          1.3414278107305344,
          0
         ],
         "xaxis": "x",
         "y": [
          -6235,
          -6235,
          -6245,
          -6245
         ],
         "yaxis": "y"
        },
        {
         "hoverinfo": "text",
         "marker": {
          "color": "rgb(0,116,217)"
         },
         "mode": "lines",
         "type": "scatter",
         "x": [
          0,
          1.2910980883474805,
          1.2910980883474805,
          0
         ],
         "xaxis": "x",
         "y": [
          -6255,
          -6255,
          -6265,
          -6265
         ],
         "yaxis": "y"
        },
        {
         "hoverinfo": "text",
         "marker": {
          "color": "rgb(0,116,217)"
         },
         "mode": "lines",
         "type": "scatter",
         "x": [
          1.3414278107305344,
          1.5069624766712233,
          1.5069624766712233,
          1.2910980883474805
         ],
         "xaxis": "x",
         "y": [
          -6240,
          -6240,
          -6260,
          -6260
         ],
         "yaxis": "y"
        },
        {
         "hoverinfo": "text",
         "marker": {
          "color": "rgb(0,116,217)"
         },
         "mode": "lines",
         "type": "scatter",
         "x": [
          1.5983884253214464,
          1.7492589620705135,
          1.7492589620705135,
          1.5069624766712233
         ],
         "xaxis": "x",
         "y": [
          -6201.25,
          -6201.25,
          -6250,
          -6250
         ],
         "yaxis": "y"
        },
        {
         "hoverinfo": "text",
         "marker": {
          "color": "rgb(0,116,217)"
         },
         "mode": "lines",
         "type": "scatter",
         "x": [
          0,
          1.3031325543797978,
          1.3031325543797978,
          0
         ],
         "xaxis": "x",
         "y": [
          -6275,
          -6275,
          -6285,
          -6285
         ],
         "yaxis": "y"
        },
        {
         "hoverinfo": "text",
         "marker": {
          "color": "rgb(0,116,217)"
         },
         "mode": "lines",
         "type": "scatter",
         "x": [
          1.3031325543797978,
          1.3554779985857375,
          1.3554779985857375,
          0
         ],
         "xaxis": "x",
         "y": [
          -6280,
          -6280,
          -6295,
          -6295
         ],
         "yaxis": "y"
        },
        {
         "hoverinfo": "text",
         "marker": {
          "color": "rgb(0,116,217)"
         },
         "mode": "lines",
         "type": "scatter",
         "x": [
          0,
          1.3149235277360365,
          1.3149235277360365,
          0
         ],
         "xaxis": "x",
         "y": [
          -6305,
          -6305,
          -6315,
          -6315
         ],
         "yaxis": "y"
        },
        {
         "hoverinfo": "text",
         "marker": {
          "color": "rgb(0,116,217)"
         },
         "mode": "lines",
         "type": "scatter",
         "x": [
          1.3554779985857375,
          1.5404002948053797,
          1.5404002948053797,
          1.3149235277360365
         ],
         "xaxis": "x",
         "y": [
          -6287.5,
          -6287.5,
          -6310,
          -6310
         ],
         "yaxis": "y"
        },
        {
         "hoverinfo": "text",
         "marker": {
          "color": "rgb(0,116,217)"
         },
         "mode": "lines",
         "type": "scatter",
         "x": [
          1.7492589620705135,
          1.9859941937492556,
          1.9859941937492556,
          1.5404002948053797
         ],
         "xaxis": "x",
         "y": [
          -6225.625,
          -6225.625,
          -6298.75,
          -6298.75
         ],
         "yaxis": "y"
        },
        {
         "hoverinfo": "text",
         "marker": {
          "color": "rgb(0,116,217)"
         },
         "mode": "lines",
         "type": "scatter",
         "x": [
          2.370116423547213,
          2.476811847522376,
          2.476811847522376,
          1.9859941937492556
         ],
         "xaxis": "x",
         "y": [
          -6081.875,
          -6081.875,
          -6262.1875,
          -6262.1875
         ],
         "yaxis": "y"
        },
        {
         "hoverinfo": "text",
         "marker": {
          "color": "rgb(0,116,217)"
         },
         "mode": "lines",
         "type": "scatter",
         "x": [
          1.904383612775654,
          3.8590905681746817,
          3.8590905681746817,
          2.476811847522376
         ],
         "xaxis": "x",
         "y": [
          -5973.75,
          -5973.75,
          -6172.03125,
          -6172.03125
         ],
         "yaxis": "y"
        },
        {
         "hoverinfo": "text",
         "marker": {
          "color": "rgb(0,116,217)"
         },
         "mode": "lines",
         "type": "scatter",
         "x": [
          3.170087928994476,
          4.365941192286664,
          4.365941192286664,
          3.8590905681746817
         ],
         "xaxis": "x",
         "y": [
          -5788.90625,
          -5788.90625,
          -6072.890625,
          -6072.890625
         ],
         "yaxis": "y"
        },
        {
         "hoverinfo": "text",
         "marker": {
          "color": "rgb(0,116,217)"
         },
         "mode": "lines",
         "type": "scatter",
         "x": [
          0,
          1.2735752946337722,
          1.2735752946337722,
          0
         ],
         "xaxis": "x",
         "y": [
          -6335,
          -6335,
          -6345,
          -6345
         ],
         "yaxis": "y"
        },
        {
         "hoverinfo": "text",
         "marker": {
          "color": "rgb(0,116,217)"
         },
         "mode": "lines",
         "type": "scatter",
         "x": [
          0,
          1.3957245963779052,
          1.3957245963779052,
          1.2735752946337722
         ],
         "xaxis": "x",
         "y": [
          -6325,
          -6325,
          -6340,
          -6340
         ],
         "yaxis": "y"
        },
        {
         "hoverinfo": "text",
         "marker": {
          "color": "rgb(0,116,217)"
         },
         "mode": "lines",
         "type": "scatter",
         "x": [
          0,
          1.279216989446691,
          1.279216989446691,
          0
         ],
         "xaxis": "x",
         "y": [
          -6365,
          -6365,
          -6375,
          -6375
         ],
         "yaxis": "y"
        },
        {
         "hoverinfo": "text",
         "marker": {
          "color": "rgb(0,116,217)"
         },
         "mode": "lines",
         "type": "scatter",
         "x": [
          0,
          1.359195107538214,
          1.359195107538214,
          1.279216989446691
         ],
         "xaxis": "x",
         "y": [
          -6355,
          -6355,
          -6370,
          -6370
         ],
         "yaxis": "y"
        },
        {
         "hoverinfo": "text",
         "marker": {
          "color": "rgb(0,116,217)"
         },
         "mode": "lines",
         "type": "scatter",
         "x": [
          1.3957245963779052,
          1.4701632027498928,
          1.4701632027498928,
          1.359195107538214
         ],
         "xaxis": "x",
         "y": [
          -6332.5,
          -6332.5,
          -6362.5,
          -6362.5
         ],
         "yaxis": "y"
        },
        {
         "hoverinfo": "text",
         "marker": {
          "color": "rgb(0,116,217)"
         },
         "mode": "lines",
         "type": "scatter",
         "x": [
          0,
          1.3324544103368643,
          1.3324544103368643,
          0
         ],
         "xaxis": "x",
         "y": [
          -6385,
          -6385,
          -6395,
          -6395
         ],
         "yaxis": "y"
        },
        {
         "hoverinfo": "text",
         "marker": {
          "color": "rgb(0,116,217)"
         },
         "mode": "lines",
         "type": "scatter",
         "x": [
          0,
          1.2328146917514733,
          1.2328146917514733,
          0
         ],
         "xaxis": "x",
         "y": [
          -6405,
          -6405,
          -6415,
          -6415
         ],
         "yaxis": "y"
        },
        {
         "hoverinfo": "text",
         "marker": {
          "color": "rgb(0,116,217)"
         },
         "mode": "lines",
         "type": "scatter",
         "x": [
          0,
          1.3431932135462146,
          1.3431932135462146,
          0
         ],
         "xaxis": "x",
         "y": [
          -6425,
          -6425,
          -6435,
          -6435
         ],
         "yaxis": "y"
        },
        {
         "hoverinfo": "text",
         "marker": {
          "color": "rgb(0,116,217)"
         },
         "mode": "lines",
         "type": "scatter",
         "x": [
          1.2328146917514733,
          1.353486987067757,
          1.353486987067757,
          1.3431932135462146
         ],
         "xaxis": "x",
         "y": [
          -6410,
          -6410,
          -6430,
          -6430
         ],
         "yaxis": "y"
        },
        {
         "hoverinfo": "text",
         "marker": {
          "color": "rgb(0,116,217)"
         },
         "mode": "lines",
         "type": "scatter",
         "x": [
          0,
          1.3198203675862143,
          1.3198203675862143,
          0
         ],
         "xaxis": "x",
         "y": [
          -6445,
          -6445,
          -6455,
          -6455
         ],
         "yaxis": "y"
        },
        {
         "hoverinfo": "text",
         "marker": {
          "color": "rgb(0,116,217)"
         },
         "mode": "lines",
         "type": "scatter",
         "x": [
          1.3198203675862143,
          1.3418962927032234,
          1.3418962927032234,
          0
         ],
         "xaxis": "x",
         "y": [
          -6450,
          -6450,
          -6465,
          -6465
         ],
         "yaxis": "y"
        },
        {
         "hoverinfo": "text",
         "marker": {
          "color": "rgb(0,116,217)"
         },
         "mode": "lines",
         "type": "scatter",
         "x": [
          1.353486987067757,
          1.4191293930524183,
          1.4191293930524183,
          1.3418962927032234
         ],
         "xaxis": "x",
         "y": [
          -6420,
          -6420,
          -6457.5,
          -6457.5
         ],
         "yaxis": "y"
        },
        {
         "hoverinfo": "text",
         "marker": {
          "color": "rgb(0,116,217)"
         },
         "mode": "lines",
         "type": "scatter",
         "x": [
          0,
          1.2950031403459366,
          1.2950031403459366,
          0
         ],
         "xaxis": "x",
         "y": [
          -6475,
          -6475,
          -6485,
          -6485
         ],
         "yaxis": "y"
        },
        {
         "hoverinfo": "text",
         "marker": {
          "color": "rgb(0,116,217)"
         },
         "mode": "lines",
         "type": "scatter",
         "x": [
          1.2950031403459366,
          1.4120526443028196,
          1.4120526443028196,
          0
         ],
         "xaxis": "x",
         "y": [
          -6480,
          -6480,
          -6495,
          -6495
         ],
         "yaxis": "y"
        },
        {
         "hoverinfo": "text",
         "marker": {
          "color": "rgb(0,116,217)"
         },
         "mode": "lines",
         "type": "scatter",
         "x": [
          1.4191293930524183,
          1.506811472396978,
          1.506811472396978,
          1.4120526443028196
         ],
         "xaxis": "x",
         "y": [
          -6438.75,
          -6438.75,
          -6487.5,
          -6487.5
         ],
         "yaxis": "y"
        },
        {
         "hoverinfo": "text",
         "marker": {
          "color": "rgb(0,116,217)"
         },
         "mode": "lines",
         "type": "scatter",
         "x": [
          1.3324544103368643,
          1.5228837224083445,
          1.5228837224083445,
          1.506811472396978
         ],
         "xaxis": "x",
         "y": [
          -6390,
          -6390,
          -6463.125,
          -6463.125
         ],
         "yaxis": "y"
        },
        {
         "hoverinfo": "text",
         "marker": {
          "color": "rgb(0,116,217)"
         },
         "mode": "lines",
         "type": "scatter",
         "x": [
          1.4701632027498928,
          1.7795249589286581,
          1.7795249589286581,
          1.5228837224083445
         ],
         "xaxis": "x",
         "y": [
          -6347.5,
          -6347.5,
          -6426.5625,
          -6426.5625
         ],
         "yaxis": "y"
        },
        {
         "hoverinfo": "text",
         "marker": {
          "color": "rgb(0,116,217)"
         },
         "mode": "lines",
         "type": "scatter",
         "x": [
          0,
          1.3407483129058413,
          1.3407483129058413,
          0
         ],
         "xaxis": "x",
         "y": [
          -6505,
          -6505,
          -6515,
          -6515
         ],
         "yaxis": "y"
        },
        {
         "hoverinfo": "text",
         "marker": {
          "color": "rgb(0,116,217)"
         },
         "mode": "lines",
         "type": "scatter",
         "x": [
          0,
          1.3121733832678562,
          1.3121733832678562,
          0
         ],
         "xaxis": "x",
         "y": [
          -6525,
          -6525,
          -6535,
          -6535
         ],
         "yaxis": "y"
        },
        {
         "hoverinfo": "text",
         "marker": {
          "color": "rgb(0,116,217)"
         },
         "mode": "lines",
         "type": "scatter",
         "x": [
          1.3407483129058413,
          1.3606959108845693,
          1.3606959108845693,
          1.3121733832678562
         ],
         "xaxis": "x",
         "y": [
          -6510,
          -6510,
          -6530,
          -6530
         ],
         "yaxis": "y"
        },
        {
         "hoverinfo": "text",
         "marker": {
          "color": "rgb(0,116,217)"
         },
         "mode": "lines",
         "type": "scatter",
         "x": [
          0,
          1.2685882182514743,
          1.2685882182514743,
          0
         ],
         "xaxis": "x",
         "y": [
          -6545,
          -6545,
          -6555,
          -6555
         ],
         "yaxis": "y"
        },
        {
         "hoverinfo": "text",
         "marker": {
          "color": "rgb(0,116,217)"
         },
         "mode": "lines",
         "type": "scatter",
         "x": [
          1.3606959108845693,
          1.3915397542423422,
          1.3915397542423422,
          1.2685882182514743
         ],
         "xaxis": "x",
         "y": [
          -6520,
          -6520,
          -6550,
          -6550
         ],
         "yaxis": "y"
        },
        {
         "hoverinfo": "text",
         "marker": {
          "color": "rgb(0,116,217)"
         },
         "mode": "lines",
         "type": "scatter",
         "x": [
          1.7795249589286581,
          1.840067337609419,
          1.840067337609419,
          1.3915397542423422
         ],
         "xaxis": "x",
         "y": [
          -6387.03125,
          -6387.03125,
          -6535,
          -6535
         ],
         "yaxis": "y"
        },
        {
         "hoverinfo": "text",
         "marker": {
          "color": "rgb(0,116,217)"
         },
         "mode": "lines",
         "type": "scatter",
         "x": [
          0,
          1.1869339081613794,
          1.1869339081613794,
          0
         ],
         "xaxis": "x",
         "y": [
          -6565,
          -6565,
          -6575,
          -6575
         ],
         "yaxis": "y"
        },
        {
         "hoverinfo": "text",
         "marker": {
          "color": "rgb(0,116,217)"
         },
         "mode": "lines",
         "type": "scatter",
         "x": [
          1.1869339081613794,
          1.3007465308406365,
          1.3007465308406365,
          0
         ],
         "xaxis": "x",
         "y": [
          -6570,
          -6570,
          -6585,
          -6585
         ],
         "yaxis": "y"
        },
        {
         "hoverinfo": "text",
         "marker": {
          "color": "rgb(0,116,217)"
         },
         "mode": "lines",
         "type": "scatter",
         "x": [
          0,
          1.3014621706702159,
          1.3014621706702159,
          0
         ],
         "xaxis": "x",
         "y": [
          -6595,
          -6595,
          -6605,
          -6605
         ],
         "yaxis": "y"
        },
        {
         "hoverinfo": "text",
         "marker": {
          "color": "rgb(0,116,217)"
         },
         "mode": "lines",
         "type": "scatter",
         "x": [
          0,
          1.2795763236888842,
          1.2795763236888842,
          0
         ],
         "xaxis": "x",
         "y": [
          -6615,
          -6615,
          -6625,
          -6625
         ],
         "yaxis": "y"
        },
        {
         "hoverinfo": "text",
         "marker": {
          "color": "rgb(0,116,217)"
         },
         "mode": "lines",
         "type": "scatter",
         "x": [
          1.3014621706702159,
          1.3403960520378584,
          1.3403960520378584,
          1.2795763236888842
         ],
         "xaxis": "x",
         "y": [
          -6600,
          -6600,
          -6620,
          -6620
         ],
         "yaxis": "y"
        },
        {
         "hoverinfo": "text",
         "marker": {
          "color": "rgb(0,116,217)"
         },
         "mode": "lines",
         "type": "scatter",
         "x": [
          0,
          1.2320551262487138,
          1.2320551262487138,
          0
         ],
         "xaxis": "x",
         "y": [
          -6635,
          -6635,
          -6645,
          -6645
         ],
         "yaxis": "y"
        },
        {
         "hoverinfo": "text",
         "marker": {
          "color": "rgb(0,116,217)"
         },
         "mode": "lines",
         "type": "scatter",
         "x": [
          1.3403960520378584,
          1.420225770032241,
          1.420225770032241,
          1.2320551262487138
         ],
         "xaxis": "x",
         "y": [
          -6610,
          -6610,
          -6640,
          -6640
         ],
         "yaxis": "y"
        },
        {
         "hoverinfo": "text",
         "marker": {
          "color": "rgb(0,116,217)"
         },
         "mode": "lines",
         "type": "scatter",
         "x": [
          1.3007465308406365,
          1.7616446520782472,
          1.7616446520782472,
          1.420225770032241
         ],
         "xaxis": "x",
         "y": [
          -6577.5,
          -6577.5,
          -6625,
          -6625
         ],
         "yaxis": "y"
        },
        {
         "hoverinfo": "text",
         "marker": {
          "color": "rgb(0,116,217)"
         },
         "mode": "lines",
         "type": "scatter",
         "x": [
          0,
          1.345086676965265,
          1.345086676965265,
          0
         ],
         "xaxis": "x",
         "y": [
          -6665,
          -6665,
          -6675,
          -6675
         ],
         "yaxis": "y"
        },
        {
         "hoverinfo": "text",
         "marker": {
          "color": "rgb(0,116,217)"
         },
         "mode": "lines",
         "type": "scatter",
         "x": [
          1.345086676965265,
          1.3703798927813955,
          1.3703798927813955,
          0
         ],
         "xaxis": "x",
         "y": [
          -6670,
          -6670,
          -6685,
          -6685
         ],
         "yaxis": "y"
        },
        {
         "hoverinfo": "text",
         "marker": {
          "color": "rgb(0,116,217)"
         },
         "mode": "lines",
         "type": "scatter",
         "x": [
          0,
          1.4080500391959783,
          1.4080500391959783,
          1.3703798927813955
         ],
         "xaxis": "x",
         "y": [
          -6655,
          -6655,
          -6677.5,
          -6677.5
         ],
         "yaxis": "y"
        },
        {
         "hoverinfo": "text",
         "marker": {
          "color": "rgb(0,116,217)"
         },
         "mode": "lines",
         "type": "scatter",
         "x": [
          1.7616446520782472,
          1.8579560248586142,
          1.8579560248586142,
          1.4080500391959783
         ],
         "xaxis": "x",
         "y": [
          -6601.25,
          -6601.25,
          -6666.25,
          -6666.25
         ],
         "yaxis": "y"
        },
        {
         "hoverinfo": "text",
         "marker": {
          "color": "rgb(0,116,217)"
         },
         "mode": "lines",
         "type": "scatter",
         "x": [
          0,
          1.3514709589578024,
          1.3514709589578024,
          0
         ],
         "xaxis": "x",
         "y": [
          -6705,
          -6705,
          -6715,
          -6715
         ],
         "yaxis": "y"
        },
        {
         "hoverinfo": "text",
         "marker": {
          "color": "rgb(0,116,217)"
         },
         "mode": "lines",
         "type": "scatter",
         "x": [
          0,
          1.4193487308154247,
          1.4193487308154247,
          1.3514709589578024
         ],
         "xaxis": "x",
         "y": [
          -6695,
          -6695,
          -6710,
          -6710
         ],
         "yaxis": "y"
        },
        {
         "hoverinfo": "text",
         "marker": {
          "color": "rgb(0,116,217)"
         },
         "mode": "lines",
         "type": "scatter",
         "x": [
          0,
          1.3405136468875964,
          1.3405136468875964,
          0
         ],
         "xaxis": "x",
         "y": [
          -6725,
          -6725,
          -6735,
          -6735
         ],
         "yaxis": "y"
        },
        {
         "hoverinfo": "text",
         "marker": {
          "color": "rgb(0,116,217)"
         },
         "mode": "lines",
         "type": "scatter",
         "x": [
          0,
          1.2742206272603576,
          1.2742206272603576,
          0
         ],
         "xaxis": "x",
         "y": [
          -6745,
          -6745,
          -6755,
          -6755
         ],
         "yaxis": "y"
        },
        {
         "hoverinfo": "text",
         "marker": {
          "color": "rgb(0,116,217)"
         },
         "mode": "lines",
         "type": "scatter",
         "x": [
          1.3405136468875964,
          1.3936788572956398,
          1.3936788572956398,
          1.2742206272603576
         ],
         "xaxis": "x",
         "y": [
          -6730,
          -6730,
          -6750,
          -6750
         ],
         "yaxis": "y"
        },
        {
         "hoverinfo": "text",
         "marker": {
          "color": "rgb(0,116,217)"
         },
         "mode": "lines",
         "type": "scatter",
         "x": [
          0,
          1.2976292200063648,
          1.2976292200063648,
          0
         ],
         "xaxis": "x",
         "y": [
          -6765,
          -6765,
          -6775,
          -6775
         ],
         "yaxis": "y"
        },
        {
         "hoverinfo": "text",
         "marker": {
          "color": "rgb(0,116,217)"
         },
         "mode": "lines",
         "type": "scatter",
         "x": [
          0,
          1.3484685476763916,
          1.3484685476763916,
          0
         ],
         "xaxis": "x",
         "y": [
          -6785,
          -6785,
          -6795,
          -6795
         ],
         "yaxis": "y"
        },
        {
         "hoverinfo": "text",
         "marker": {
          "color": "rgb(0,116,217)"
         },
         "mode": "lines",
         "type": "scatter",
         "x": [
          1.2976292200063648,
          1.444157785404629,
          1.444157785404629,
          1.3484685476763916
         ],
         "xaxis": "x",
         "y": [
          -6770,
          -6770,
          -6790,
          -6790
         ],
         "yaxis": "y"
        },
        {
         "hoverinfo": "text",
         "marker": {
          "color": "rgb(0,116,217)"
         },
         "mode": "lines",
         "type": "scatter",
         "x": [
          1.3936788572956398,
          1.5379867038278356,
          1.5379867038278356,
          1.444157785404629
         ],
         "xaxis": "x",
         "y": [
          -6740,
          -6740,
          -6780,
          -6780
         ],
         "yaxis": "y"
        },
        {
         "hoverinfo": "text",
         "marker": {
          "color": "rgb(0,116,217)"
         },
         "mode": "lines",
         "type": "scatter",
         "x": [
          1.4193487308154247,
          1.6046017950354907,
          1.6046017950354907,
          1.5379867038278356
         ],
         "xaxis": "x",
         "y": [
          -6702.5,
          -6702.5,
          -6760,
          -6760
         ],
         "yaxis": "y"
        },
        {
         "hoverinfo": "text",
         "marker": {
          "color": "rgb(0,116,217)"
         },
         "mode": "lines",
         "type": "scatter",
         "x": [
          0,
          1.2968691934251553,
          1.2968691934251553,
          0
         ],
         "xaxis": "x",
         "y": [
          -6805,
          -6805,
          -6815,
          -6815
         ],
         "yaxis": "y"
        },
        {
         "hoverinfo": "text",
         "marker": {
          "color": "rgb(0,116,217)"
         },
         "mode": "lines",
         "type": "scatter",
         "x": [
          1.2968691934251553,
          1.307185278691396,
          1.307185278691396,
          0
         ],
         "xaxis": "x",
         "y": [
          -6810,
          -6810,
          -6825,
          -6825
         ],
         "yaxis": "y"
        },
        {
         "hoverinfo": "text",
         "marker": {
          "color": "rgb(0,116,217)"
         },
         "mode": "lines",
         "type": "scatter",
         "x": [
          1.6046017950354907,
          1.660248363085375,
          1.660248363085375,
          1.307185278691396
         ],
         "xaxis": "x",
         "y": [
          -6731.25,
          -6731.25,
          -6817.5,
          -6817.5
         ],
         "yaxis": "y"
        },
        {
         "hoverinfo": "text",
         "marker": {
          "color": "rgb(0,116,217)"
         },
         "mode": "lines",
         "type": "scatter",
         "x": [
          1.8579560248586142,
          2.138069173084819,
          2.138069173084819,
          1.660248363085375
         ],
         "xaxis": "x",
         "y": [
          -6633.75,
          -6633.75,
          -6774.375,
          -6774.375
         ],
         "yaxis": "y"
        },
        {
         "hoverinfo": "text",
         "marker": {
          "color": "rgb(0,116,217)"
         },
         "mode": "lines",
         "type": "scatter",
         "x": [
          1.840067337609419,
          2.323438677223577,
          2.323438677223577,
          2.138069173084819
         ],
         "xaxis": "x",
         "y": [
          -6461.015625,
          -6461.015625,
          -6704.0625,
          -6704.0625
         ],
         "yaxis": "y"
        },
        {
         "hoverinfo": "text",
         "marker": {
          "color": "rgb(0,116,217)"
         },
         "mode": "lines",
         "type": "scatter",
         "x": [
          0,
          1.2256055506114885,
          1.2256055506114885,
          0
         ],
         "xaxis": "x",
         "y": [
          -6835,
          -6835,
          -6845,
          -6845
         ],
         "yaxis": "y"
        },
        {
         "hoverinfo": "text",
         "marker": {
          "color": "rgb(0,116,217)"
         },
         "mode": "lines",
         "type": "scatter",
         "x": [
          0,
          1.2654173448997355,
          1.2654173448997355,
          0
         ],
         "xaxis": "x",
         "y": [
          -6855,
          -6855,
          -6865,
          -6865
         ],
         "yaxis": "y"
        },
        {
         "hoverinfo": "text",
         "marker": {
          "color": "rgb(0,116,217)"
         },
         "mode": "lines",
         "type": "scatter",
         "x": [
          1.2654173448997355,
          1.3307621843406925,
          1.3307621843406925,
          0
         ],
         "xaxis": "x",
         "y": [
          -6860,
          -6860,
          -6875,
          -6875
         ],
         "yaxis": "y"
        },
        {
         "hoverinfo": "text",
         "marker": {
          "color": "rgb(0,116,217)"
         },
         "mode": "lines",
         "type": "scatter",
         "x": [
          1.3307621843406925,
          1.4428559997414236,
          1.4428559997414236,
          0
         ],
         "xaxis": "x",
         "y": [
          -6867.5,
          -6867.5,
          -6885,
          -6885
         ],
         "yaxis": "y"
        },
        {
         "hoverinfo": "text",
         "marker": {
          "color": "rgb(0,116,217)"
         },
         "mode": "lines",
         "type": "scatter",
         "x": [
          1.2256055506114885,
          1.5996522781703453,
          1.5996522781703453,
          1.4428559997414236
         ],
         "xaxis": "x",
         "y": [
          -6840,
          -6840,
          -6876.25,
          -6876.25
         ],
         "yaxis": "y"
        },
        {
         "hoverinfo": "text",
         "marker": {
          "color": "rgb(0,116,217)"
         },
         "mode": "lines",
         "type": "scatter",
         "x": [
          0,
          1.3545182249793806,
          1.3545182249793806,
          0
         ],
         "xaxis": "x",
         "y": [
          -6895,
          -6895,
          -6905,
          -6905
         ],
         "yaxis": "y"
        },
        {
         "hoverinfo": "text",
         "marker": {
          "color": "rgb(0,116,217)"
         },
         "mode": "lines",
         "type": "scatter",
         "x": [
          0,
          1.1477021764122426,
          1.1477021764122426,
          0
         ],
         "xaxis": "x",
         "y": [
          -6915,
          -6915,
          -6925,
          -6925
         ],
         "yaxis": "y"
        },
        {
         "hoverinfo": "text",
         "marker": {
          "color": "rgb(0,116,217)"
         },
         "mode": "lines",
         "type": "scatter",
         "x": [
          1.1477021764122426,
          1.221456769206641,
          1.221456769206641,
          0
         ],
         "xaxis": "x",
         "y": [
          -6920,
          -6920,
          -6935,
          -6935
         ],
         "yaxis": "y"
        },
        {
         "hoverinfo": "text",
         "marker": {
          "color": "rgb(0,116,217)"
         },
         "mode": "lines",
         "type": "scatter",
         "x": [
          1.3545182249793806,
          1.4667061465199462,
          1.4667061465199462,
          1.221456769206641
         ],
         "xaxis": "x",
         "y": [
          -6900,
          -6900,
          -6927.5,
          -6927.5
         ],
         "yaxis": "y"
        },
        {
         "hoverinfo": "text",
         "marker": {
          "color": "rgb(0,116,217)"
         },
         "mode": "lines",
         "type": "scatter",
         "x": [
          1.5996522781703453,
          2.1465285121986293,
          2.1465285121986293,
          1.4667061465199462
         ],
         "xaxis": "x",
         "y": [
          -6858.125,
          -6858.125,
          -6913.75,
          -6913.75
         ],
         "yaxis": "y"
        },
        {
         "hoverinfo": "text",
         "marker": {
          "color": "rgb(0,116,217)"
         },
         "mode": "lines",
         "type": "scatter",
         "x": [
          0,
          1.2971204711566844,
          1.2971204711566844,
          0
         ],
         "xaxis": "x",
         "y": [
          -6955,
          -6955,
          -6965,
          -6965
         ],
         "yaxis": "y"
        },
        {
         "hoverinfo": "text",
         "marker": {
          "color": "rgb(0,116,217)"
         },
         "mode": "lines",
         "type": "scatter",
         "x": [
          0,
          1.319926330108822,
          1.319926330108822,
          0
         ],
         "xaxis": "x",
         "y": [
          -6975,
          -6975,
          -6985,
          -6985
         ],
         "yaxis": "y"
        },
        {
         "hoverinfo": "text",
         "marker": {
          "color": "rgb(0,116,217)"
         },
         "mode": "lines",
         "type": "scatter",
         "x": [
          1.2971204711566844,
          1.3827155321246658,
          1.3827155321246658,
          1.319926330108822
         ],
         "xaxis": "x",
         "y": [
          -6960,
          -6960,
          -6980,
          -6980
         ],
         "yaxis": "y"
        },
        {
         "hoverinfo": "text",
         "marker": {
          "color": "rgb(0,116,217)"
         },
         "mode": "lines",
         "type": "scatter",
         "x": [
          0,
          1.4239209468864475,
          1.4239209468864475,
          1.3827155321246658
         ],
         "xaxis": "x",
         "y": [
          -6945,
          -6945,
          -6970,
          -6970
         ],
         "yaxis": "y"
        },
        {
         "hoverinfo": "text",
         "marker": {
          "color": "rgb(0,116,217)"
         },
         "mode": "lines",
         "type": "scatter",
         "x": [
          0,
          1.338921952948124,
          1.338921952948124,
          0
         ],
         "xaxis": "x",
         "y": [
          -6995,
          -6995,
          -7005,
          -7005
         ],
         "yaxis": "y"
        },
        {
         "hoverinfo": "text",
         "marker": {
          "color": "rgb(0,116,217)"
         },
         "mode": "lines",
         "type": "scatter",
         "x": [
          0,
          1.235732274329558,
          1.235732274329558,
          0
         ],
         "xaxis": "x",
         "y": [
          -7015,
          -7015,
          -7025,
          -7025
         ],
         "yaxis": "y"
        },
        {
         "hoverinfo": "text",
         "marker": {
          "color": "rgb(0,116,217)"
         },
         "mode": "lines",
         "type": "scatter",
         "x": [
          1.235732274329558,
          1.2969574194875237,
          1.2969574194875237,
          0
         ],
         "xaxis": "x",
         "y": [
          -7020,
          -7020,
          -7035,
          -7035
         ],
         "yaxis": "y"
        },
        {
         "hoverinfo": "text",
         "marker": {
          "color": "rgb(0,116,217)"
         },
         "mode": "lines",
         "type": "scatter",
         "x": [
          1.338921952948124,
          1.4248115673679302,
          1.4248115673679302,
          1.2969574194875237
         ],
         "xaxis": "x",
         "y": [
          -7000,
          -7000,
          -7027.5,
          -7027.5
         ],
         "yaxis": "y"
        },
        {
         "hoverinfo": "text",
         "marker": {
          "color": "rgb(0,116,217)"
         },
         "mode": "lines",
         "type": "scatter",
         "x": [
          0,
          1.2717836963855402,
          1.2717836963855402,
          0
         ],
         "xaxis": "x",
         "y": [
          -7045,
          -7045,
          -7055,
          -7055
         ],
         "yaxis": "y"
        },
        {
         "hoverinfo": "text",
         "marker": {
          "color": "rgb(0,116,217)"
         },
         "mode": "lines",
         "type": "scatter",
         "x": [
          0,
          1.16646635638817,
          1.16646635638817,
          0
         ],
         "xaxis": "x",
         "y": [
          -7065,
          -7065,
          -7075,
          -7075
         ],
         "yaxis": "y"
        },
        {
         "hoverinfo": "text",
         "marker": {
          "color": "rgb(0,116,217)"
         },
         "mode": "lines",
         "type": "scatter",
         "x": [
          1.16646635638817,
          1.2921245477429548,
          1.2921245477429548,
          0
         ],
         "xaxis": "x",
         "y": [
          -7070,
          -7070,
          -7085,
          -7085
         ],
         "yaxis": "y"
        },
        {
         "hoverinfo": "text",
         "marker": {
          "color": "rgb(0,116,217)"
         },
         "mode": "lines",
         "type": "scatter",
         "x": [
          1.2717836963855402,
          1.4024972227576042,
          1.4024972227576042,
          1.2921245477429548
         ],
         "xaxis": "x",
         "y": [
          -7050,
          -7050,
          -7077.5,
          -7077.5
         ],
         "yaxis": "y"
        },
        {
         "hoverinfo": "text",
         "marker": {
          "color": "rgb(0,116,217)"
         },
         "mode": "lines",
         "type": "scatter",
         "x": [
          1.4248115673679302,
          1.6822286235425319,
          1.6822286235425319,
          1.4024972227576042
         ],
         "xaxis": "x",
         "y": [
          -7013.75,
          -7013.75,
          -7063.75,
          -7063.75
         ],
         "yaxis": "y"
        },
        {
         "hoverinfo": "text",
         "marker": {
          "color": "rgb(0,116,217)"
         },
         "mode": "lines",
         "type": "scatter",
         "x": [
          1.4239209468864475,
          1.7741992923024181,
          1.7741992923024181,
          1.6822286235425319
         ],
         "xaxis": "x",
         "y": [
          -6957.5,
          -6957.5,
          -7038.75,
          -7038.75
         ],
         "yaxis": "y"
        },
        {
         "hoverinfo": "text",
         "marker": {
          "color": "rgb(0,116,217)"
         },
         "mode": "lines",
         "type": "scatter",
         "x": [
          0,
          1.2594386030094813,
          1.2594386030094813,
          0
         ],
         "xaxis": "x",
         "y": [
          -7115,
          -7115,
          -7125,
          -7125
         ],
         "yaxis": "y"
        },
        {
         "hoverinfo": "text",
         "marker": {
          "color": "rgb(0,116,217)"
         },
         "mode": "lines",
         "type": "scatter",
         "x": [
          0,
          1.294703731641922,
          1.294703731641922,
          1.2594386030094813
         ],
         "xaxis": "x",
         "y": [
          -7105,
          -7105,
          -7120,
          -7120
         ],
         "yaxis": "y"
        },
        {
         "hoverinfo": "text",
         "marker": {
          "color": "rgb(0,116,217)"
         },
         "mode": "lines",
         "type": "scatter",
         "x": [
          0,
          1.3717606458951819,
          1.3717606458951819,
          1.294703731641922
         ],
         "xaxis": "x",
         "y": [
          -7095,
          -7095,
          -7112.5,
          -7112.5
         ],
         "yaxis": "y"
        },
        {
         "hoverinfo": "text",
         "marker": {
          "color": "rgb(0,116,217)"
         },
         "mode": "lines",
         "type": "scatter",
         "x": [
          0,
          1.2876928174659117,
          1.2876928174659117,
          0
         ],
         "xaxis": "x",
         "y": [
          -7135,
          -7135,
          -7145,
          -7145
         ],
         "yaxis": "y"
        },
        {
         "hoverinfo": "text",
         "marker": {
          "color": "rgb(0,116,217)"
         },
         "mode": "lines",
         "type": "scatter",
         "x": [
          1.3717606458951819,
          1.5057847616851472,
          1.5057847616851472,
          1.2876928174659117
         ],
         "xaxis": "x",
         "y": [
          -7103.75,
          -7103.75,
          -7140,
          -7140
         ],
         "yaxis": "y"
        },
        {
         "hoverinfo": "text",
         "marker": {
          "color": "rgb(0,116,217)"
         },
         "mode": "lines",
         "type": "scatter",
         "x": [
          1.7741992923024181,
          1.9567901875649116,
          1.9567901875649116,
          1.5057847616851472
         ],
         "xaxis": "x",
         "y": [
          -6998.125,
          -6998.125,
          -7121.875,
          -7121.875
         ],
         "yaxis": "y"
        },
        {
         "hoverinfo": "text",
         "marker": {
          "color": "rgb(0,116,217)"
         },
         "mode": "lines",
         "type": "scatter",
         "x": [
          2.1465285121986293,
          2.5857231733223522,
          2.5857231733223522,
          1.9567901875649116
         ],
         "xaxis": "x",
         "y": [
          -6885.9375,
          -6885.9375,
          -7060,
          -7060
         ],
         "yaxis": "y"
        },
        {
         "hoverinfo": "text",
         "marker": {
          "color": "rgb(0,116,217)"
         },
         "mode": "lines",
         "type": "scatter",
         "x": [
          2.323438677223577,
          3.57397592196987,
          3.57397592196987,
          2.5857231733223522
         ],
         "xaxis": "x",
         "y": [
          -6582.5390625,
          -6582.5390625,
          -6972.96875,
          -6972.96875
         ],
         "yaxis": "y"
        },
        {
         "hoverinfo": "text",
         "marker": {
          "color": "rgb(0,116,217)"
         },
         "mode": "lines",
         "type": "scatter",
         "x": [
          4.365941192286664,
          5.88546861379708,
          5.88546861379708,
          3.57397592196987
         ],
         "xaxis": "x",
         "y": [
          -5930.8984375,
          -5930.8984375,
          -6777.75390625,
          -6777.75390625
         ],
         "yaxis": "y"
        },
        {
         "hoverinfo": "text",
         "marker": {
          "color": "rgb(0,116,217)"
         },
         "mode": "lines",
         "type": "scatter",
         "x": [
          5.527630912022852,
          7.625458292958729,
          7.625458292958729,
          5.88546861379708
         ],
         "xaxis": "x",
         "y": [
          -4326.240234375,
          -4326.240234375,
          -6354.326171875,
          -6354.326171875
         ],
         "yaxis": "y"
        },
        {
         "hoverinfo": "text",
         "marker": {
          "color": "rgb(0,116,217)"
         },
         "mode": "lines",
         "type": "scatter",
         "x": [
          0,
          1.1920813126407421,
          1.1920813126407421,
          0
         ],
         "xaxis": "x",
         "y": [
          -7155,
          -7155,
          -7165,
          -7165
         ],
         "yaxis": "y"
        },
        {
         "hoverinfo": "text",
         "marker": {
          "color": "rgb(0,116,217)"
         },
         "mode": "lines",
         "type": "scatter",
         "x": [
          0,
          1.0220978109013883,
          1.0220978109013883,
          0
         ],
         "xaxis": "x",
         "y": [
          -7185,
          -7185,
          -7195,
          -7195
         ],
         "yaxis": "y"
        },
        {
         "hoverinfo": "text",
         "marker": {
          "color": "rgb(0,116,217)"
         },
         "mode": "lines",
         "type": "scatter",
         "x": [
          0,
          1.3381157389758698,
          1.3381157389758698,
          1.0220978109013883
         ],
         "xaxis": "x",
         "y": [
          -7175,
          -7175,
          -7190,
          -7190
         ],
         "yaxis": "y"
        },
        {
         "hoverinfo": "text",
         "marker": {
          "color": "rgb(0,116,217)"
         },
         "mode": "lines",
         "type": "scatter",
         "x": [
          1.1920813126407421,
          1.7635788491355742,
          1.7635788491355742,
          1.3381157389758698
         ],
         "xaxis": "x",
         "y": [
          -7160,
          -7160,
          -7182.5,
          -7182.5
         ],
         "yaxis": "y"
        },
        {
         "hoverinfo": "text",
         "marker": {
          "color": "rgb(0,116,217)"
         },
         "mode": "lines",
         "type": "scatter",
         "x": [
          0,
          1.264759405879183,
          1.264759405879183,
          0
         ],
         "xaxis": "x",
         "y": [
          -7205,
          -7205,
          -7215,
          -7215
         ],
         "yaxis": "y"
        },
        {
         "hoverinfo": "text",
         "marker": {
          "color": "rgb(0,116,217)"
         },
         "mode": "lines",
         "type": "scatter",
         "x": [
          0,
          1.3846174203846344,
          1.3846174203846344,
          0
         ],
         "xaxis": "x",
         "y": [
          -7225,
          -7225,
          -7235,
          -7235
         ],
         "yaxis": "y"
        },
        {
         "hoverinfo": "text",
         "marker": {
          "color": "rgb(0,116,217)"
         },
         "mode": "lines",
         "type": "scatter",
         "x": [
          0,
          1.3533937551919497,
          1.3533937551919497,
          0
         ],
         "xaxis": "x",
         "y": [
          -7245,
          -7245,
          -7255,
          -7255
         ],
         "yaxis": "y"
        },
        {
         "hoverinfo": "text",
         "marker": {
          "color": "rgb(0,116,217)"
         },
         "mode": "lines",
         "type": "scatter",
         "x": [
          1.3846174203846344,
          1.4808402133069782,
          1.4808402133069782,
          1.3533937551919497
         ],
         "xaxis": "x",
         "y": [
          -7230,
          -7230,
          -7250,
          -7250
         ],
         "yaxis": "y"
        },
        {
         "hoverinfo": "text",
         "marker": {
          "color": "rgb(0,116,217)"
         },
         "mode": "lines",
         "type": "scatter",
         "x": [
          1.264759405879183,
          1.628486331893063,
          1.628486331893063,
          1.4808402133069782
         ],
         "xaxis": "x",
         "y": [
          -7210,
          -7210,
          -7240,
          -7240
         ],
         "yaxis": "y"
        },
        {
         "hoverinfo": "text",
         "marker": {
          "color": "rgb(0,116,217)"
         },
         "mode": "lines",
         "type": "scatter",
         "x": [
          0,
          1.244253536477098,
          1.244253536477098,
          0
         ],
         "xaxis": "x",
         "y": [
          -7275,
          -7275,
          -7285,
          -7285
         ],
         "yaxis": "y"
        },
        {
         "hoverinfo": "text",
         "marker": {
          "color": "rgb(0,116,217)"
         },
         "mode": "lines",
         "type": "scatter",
         "x": [
          0,
          1.314197248894091,
          1.314197248894091,
          1.244253536477098
         ],
         "xaxis": "x",
         "y": [
          -7265,
          -7265,
          -7280,
          -7280
         ],
         "yaxis": "y"
        },
        {
         "hoverinfo": "text",
         "marker": {
          "color": "rgb(0,116,217)"
         },
         "mode": "lines",
         "type": "scatter",
         "x": [
          0,
          1.3437378712786852,
          1.3437378712786852,
          0
         ],
         "xaxis": "x",
         "y": [
          -7295,
          -7295,
          -7305,
          -7305
         ],
         "yaxis": "y"
        },
        {
         "hoverinfo": "text",
         "marker": {
          "color": "rgb(0,116,217)"
         },
         "mode": "lines",
         "type": "scatter",
         "x": [
          1.3437378712786852,
          1.3735639413971017,
          1.3735639413971017,
          0
         ],
         "xaxis": "x",
         "y": [
          -7300,
          -7300,
          -7315,
          -7315
         ],
         "yaxis": "y"
        },
        {
         "hoverinfo": "text",
         "marker": {
          "color": "rgb(0,116,217)"
         },
         "mode": "lines",
         "type": "scatter",
         "x": [
          0,
          1.2435758809105204,
          1.2435758809105204,
          0
         ],
         "xaxis": "x",
         "y": [
          -7325,
          -7325,
          -7335,
          -7335
         ],
         "yaxis": "y"
        },
        {
         "hoverinfo": "text",
         "marker": {
          "color": "rgb(0,116,217)"
         },
         "mode": "lines",
         "type": "scatter",
         "x": [
          1.3735639413971017,
          1.47921071897875,
          1.47921071897875,
          1.2435758809105204
         ],
         "xaxis": "x",
         "y": [
          -7307.5,
          -7307.5,
          -7330,
          -7330
         ],
         "yaxis": "y"
        },
        {
         "hoverinfo": "text",
         "marker": {
          "color": "rgb(0,116,217)"
         },
         "mode": "lines",
         "type": "scatter",
         "x": [
          1.314197248894091,
          1.5813094864752744,
          1.5813094864752744,
          1.47921071897875
         ],
         "xaxis": "x",
         "y": [
          -7272.5,
          -7272.5,
          -7318.75,
          -7318.75
         ],
         "yaxis": "y"
        },
        {
         "hoverinfo": "text",
         "marker": {
          "color": "rgb(0,116,217)"
         },
         "mode": "lines",
         "type": "scatter",
         "x": [
          1.628486331893063,
          1.9537328101851206,
          1.9537328101851206,
          1.5813094864752744
         ],
         "xaxis": "x",
         "y": [
          -7225,
          -7225,
          -7295.625,
          -7295.625
         ],
         "yaxis": "y"
        },
        {
         "hoverinfo": "text",
         "marker": {
          "color": "rgb(0,116,217)"
         },
         "mode": "lines",
         "type": "scatter",
         "x": [
          0,
          1.3175378683775218,
          1.3175378683775218,
          0
         ],
         "xaxis": "x",
         "y": [
          -7345,
          -7345,
          -7355,
          -7355
         ],
         "yaxis": "y"
        },
        {
         "hoverinfo": "text",
         "marker": {
          "color": "rgb(0,116,217)"
         },
         "mode": "lines",
         "type": "scatter",
         "x": [
          0,
          1.2916363150433192,
          1.2916363150433192,
          0
         ],
         "xaxis": "x",
         "y": [
          -7365,
          -7365,
          -7375,
          -7375
         ],
         "yaxis": "y"
        },
        {
         "hoverinfo": "text",
         "marker": {
          "color": "rgb(0,116,217)"
         },
         "mode": "lines",
         "type": "scatter",
         "x": [
          1.3175378683775218,
          1.400796256297822,
          1.400796256297822,
          1.2916363150433192
         ],
         "xaxis": "x",
         "y": [
          -7350,
          -7350,
          -7370,
          -7370
         ],
         "yaxis": "y"
        },
        {
         "hoverinfo": "text",
         "marker": {
          "color": "rgb(0,116,217)"
         },
         "mode": "lines",
         "type": "scatter",
         "x": [
          0,
          1.2982764663243795,
          1.2982764663243795,
          0
         ],
         "xaxis": "x",
         "y": [
          -7385,
          -7385,
          -7395,
          -7395
         ],
         "yaxis": "y"
        },
        {
         "hoverinfo": "text",
         "marker": {
          "color": "rgb(0,116,217)"
         },
         "mode": "lines",
         "type": "scatter",
         "x": [
          0,
          1.2783088147148842,
          1.2783088147148842,
          0
         ],
         "xaxis": "x",
         "y": [
          -7405,
          -7405,
          -7415,
          -7415
         ],
         "yaxis": "y"
        },
        {
         "hoverinfo": "text",
         "marker": {
          "color": "rgb(0,116,217)"
         },
         "mode": "lines",
         "type": "scatter",
         "x": [
          1.2982764663243795,
          1.480720457450668,
          1.480720457450668,
          1.2783088147148842
         ],
         "xaxis": "x",
         "y": [
          -7390,
          -7390,
          -7410,
          -7410
         ],
         "yaxis": "y"
        },
        {
         "hoverinfo": "text",
         "marker": {
          "color": "rgb(0,116,217)"
         },
         "mode": "lines",
         "type": "scatter",
         "x": [
          0,
          1.315973686985876,
          1.315973686985876,
          0
         ],
         "xaxis": "x",
         "y": [
          -7425,
          -7425,
          -7435,
          -7435
         ],
         "yaxis": "y"
        },
        {
         "hoverinfo": "text",
         "marker": {
          "color": "rgb(0,116,217)"
         },
         "mode": "lines",
         "type": "scatter",
         "x": [
          1.480720457450668,
          1.5028761114784557,
          1.5028761114784557,
          1.315973686985876
         ],
         "xaxis": "x",
         "y": [
          -7400,
          -7400,
          -7430,
          -7430
         ],
         "yaxis": "y"
        },
        {
         "hoverinfo": "text",
         "marker": {
          "color": "rgb(0,116,217)"
         },
         "mode": "lines",
         "type": "scatter",
         "x": [
          1.400796256297822,
          1.808989436029894,
          1.808989436029894,
          1.5028761114784557
         ],
         "xaxis": "x",
         "y": [
          -7360,
          -7360,
          -7415,
          -7415
         ],
         "yaxis": "y"
        },
        {
         "hoverinfo": "text",
         "marker": {
          "color": "rgb(0,116,217)"
         },
         "mode": "lines",
         "type": "scatter",
         "x": [
          1.9537328101851206,
          2.2888545438530397,
          2.2888545438530397,
          1.808989436029894
         ],
         "xaxis": "x",
         "y": [
          -7260.3125,
          -7260.3125,
          -7387.5,
          -7387.5
         ],
         "yaxis": "y"
        },
        {
         "hoverinfo": "text",
         "marker": {
          "color": "rgb(0,116,217)"
         },
         "mode": "lines",
         "type": "scatter",
         "x": [
          1.7635788491355742,
          2.470609145460096,
          2.470609145460096,
          2.2888545438530397
         ],
         "xaxis": "x",
         "y": [
          -7171.25,
          -7171.25,
          -7323.90625,
          -7323.90625
         ],
         "yaxis": "y"
        },
        {
         "hoverinfo": "text",
         "marker": {
          "color": "rgb(0,116,217)"
         },
         "mode": "lines",
         "type": "scatter",
         "x": [
          0,
          1.3327763213891943,
          1.3327763213891943,
          0
         ],
         "xaxis": "x",
         "y": [
          -7445,
          -7445,
          -7455,
          -7455
         ],
         "yaxis": "y"
        },
        {
         "hoverinfo": "text",
         "marker": {
          "color": "rgb(0,116,217)"
         },
         "mode": "lines",
         "type": "scatter",
         "x": [
          0,
          1.2805849191628644,
          1.2805849191628644,
          0
         ],
         "xaxis": "x",
         "y": [
          -7465,
          -7465,
          -7475,
          -7475
         ],
         "yaxis": "y"
        },
        {
         "hoverinfo": "text",
         "marker": {
          "color": "rgb(0,116,217)"
         },
         "mode": "lines",
         "type": "scatter",
         "x": [
          1.3327763213891943,
          1.4388239800034217,
          1.4388239800034217,
          1.2805849191628644
         ],
         "xaxis": "x",
         "y": [
          -7450,
          -7450,
          -7470,
          -7470
         ],
         "yaxis": "y"
        },
        {
         "hoverinfo": "text",
         "marker": {
          "color": "rgb(0,116,217)"
         },
         "mode": "lines",
         "type": "scatter",
         "x": [
          0,
          1.134999456794092,
          1.134999456794092,
          0
         ],
         "xaxis": "x",
         "y": [
          -7485,
          -7485,
          -7495,
          -7495
         ],
         "yaxis": "y"
        },
        {
         "hoverinfo": "text",
         "marker": {
          "color": "rgb(0,116,217)"
         },
         "mode": "lines",
         "type": "scatter",
         "x": [
          1.4388239800034217,
          1.5775916440705133,
          1.5775916440705133,
          1.134999456794092
         ],
         "xaxis": "x",
         "y": [
          -7460,
          -7460,
          -7490,
          -7490
         ],
         "yaxis": "y"
        },
        {
         "hoverinfo": "text",
         "marker": {
          "color": "rgb(0,116,217)"
         },
         "mode": "lines",
         "type": "scatter",
         "x": [
          0,
          1.0480885036292957,
          1.0480885036292957,
          0
         ],
         "xaxis": "x",
         "y": [
          -7505,
          -7505,
          -7515,
          -7515
         ],
         "yaxis": "y"
        },
        {
         "hoverinfo": "text",
         "marker": {
          "color": "rgb(0,116,217)"
         },
         "mode": "lines",
         "type": "scatter",
         "x": [
          0,
          1.1816169973874904,
          1.1816169973874904,
          0
         ],
         "xaxis": "x",
         "y": [
          -7535,
          -7535,
          -7545,
          -7545
         ],
         "yaxis": "y"
        },
        {
         "hoverinfo": "text",
         "marker": {
          "color": "rgb(0,116,217)"
         },
         "mode": "lines",
         "type": "scatter",
         "x": [
          0,
          1.2843121295177957,
          1.2843121295177957,
          1.1816169973874904
         ],
         "xaxis": "x",
         "y": [
          -7525,
          -7525,
          -7540,
          -7540
         ],
         "yaxis": "y"
        },
        {
         "hoverinfo": "text",
         "marker": {
          "color": "rgb(0,116,217)"
         },
         "mode": "lines",
         "type": "scatter",
         "x": [
          1.0480885036292957,
          1.4727850439948036,
          1.4727850439948036,
          1.2843121295177957
         ],
         "xaxis": "x",
         "y": [
          -7510,
          -7510,
          -7532.5,
          -7532.5
         ],
         "yaxis": "y"
        },
        {
         "hoverinfo": "text",
         "marker": {
          "color": "rgb(0,116,217)"
         },
         "mode": "lines",
         "type": "scatter",
         "x": [
          1.5775916440705133,
          1.9675513218363023,
          1.9675513218363023,
          1.4727850439948036
         ],
         "xaxis": "x",
         "y": [
          -7475,
          -7475,
          -7521.25,
          -7521.25
         ],
         "yaxis": "y"
        },
        {
         "hoverinfo": "text",
         "marker": {
          "color": "rgb(0,116,217)"
         },
         "mode": "lines",
         "type": "scatter",
         "x": [
          0,
          1.2502149268023863,
          1.2502149268023863,
          0
         ],
         "xaxis": "x",
         "y": [
          -7565,
          -7565,
          -7575,
          -7575
         ],
         "yaxis": "y"
        },
        {
         "hoverinfo": "text",
         "marker": {
          "color": "rgb(0,116,217)"
         },
         "mode": "lines",
         "type": "scatter",
         "x": [
          0,
          1.3823515068181356,
          1.3823515068181356,
          1.2502149268023863
         ],
         "xaxis": "x",
         "y": [
          -7555,
          -7555,
          -7570,
          -7570
         ],
         "yaxis": "y"
        },
        {
         "hoverinfo": "text",
         "marker": {
          "color": "rgb(0,116,217)"
         },
         "mode": "lines",
         "type": "scatter",
         "x": [
          0,
          1.267880580943522,
          1.267880580943522,
          0
         ],
         "xaxis": "x",
         "y": [
          -7585,
          -7585,
          -7595,
          -7595
         ],
         "yaxis": "y"
        },
        {
         "hoverinfo": "text",
         "marker": {
          "color": "rgb(0,116,217)"
         },
         "mode": "lines",
         "type": "scatter",
         "x": [
          1.267880580943522,
          1.3626477023963148,
          1.3626477023963148,
          0
         ],
         "xaxis": "x",
         "y": [
          -7590,
          -7590,
          -7605,
          -7605
         ],
         "yaxis": "y"
        },
        {
         "hoverinfo": "text",
         "marker": {
          "color": "rgb(0,116,217)"
         },
         "mode": "lines",
         "type": "scatter",
         "x": [
          1.3823515068181356,
          1.541162030712957,
          1.541162030712957,
          1.3626477023963148
         ],
         "xaxis": "x",
         "y": [
          -7562.5,
          -7562.5,
          -7597.5,
          -7597.5
         ],
         "yaxis": "y"
        },
        {
         "hoverinfo": "text",
         "marker": {
          "color": "rgb(0,116,217)"
         },
         "mode": "lines",
         "type": "scatter",
         "x": [
          0,
          1.4091071669585236,
          1.4091071669585236,
          0
         ],
         "xaxis": "x",
         "y": [
          -7615,
          -7615,
          -7625,
          -7625
         ],
         "yaxis": "y"
        },
        {
         "hoverinfo": "text",
         "marker": {
          "color": "rgb(0,116,217)"
         },
         "mode": "lines",
         "type": "scatter",
         "x": [
          0,
          1.3586610014811975,
          1.3586610014811975,
          0
         ],
         "xaxis": "x",
         "y": [
          -7635,
          -7635,
          -7645,
          -7645
         ],
         "yaxis": "y"
        },
        {
         "hoverinfo": "text",
         "marker": {
          "color": "rgb(0,116,217)"
         },
         "mode": "lines",
         "type": "scatter",
         "x": [
          1.4091071669585236,
          1.4244885393188937,
          1.4244885393188937,
          1.3586610014811975
         ],
         "xaxis": "x",
         "y": [
          -7620,
          -7620,
          -7640,
          -7640
         ],
         "yaxis": "y"
        },
        {
         "hoverinfo": "text",
         "marker": {
          "color": "rgb(0,116,217)"
         },
         "mode": "lines",
         "type": "scatter",
         "x": [
          0,
          1.2823297396430113,
          1.2823297396430113,
          0
         ],
         "xaxis": "x",
         "y": [
          -7655,
          -7655,
          -7665,
          -7665
         ],
         "yaxis": "y"
        },
        {
         "hoverinfo": "text",
         "marker": {
          "color": "rgb(0,116,217)"
         },
         "mode": "lines",
         "type": "scatter",
         "x": [
          1.4244885393188937,
          1.5630116742179574,
          1.5630116742179574,
          1.2823297396430113
         ],
         "xaxis": "x",
         "y": [
          -7630,
          -7630,
          -7660,
          -7660
         ],
         "yaxis": "y"
        },
        {
         "hoverinfo": "text",
         "marker": {
          "color": "rgb(0,116,217)"
         },
         "mode": "lines",
         "type": "scatter",
         "x": [
          1.541162030712957,
          1.7504067327571486,
          1.7504067327571486,
          1.5630116742179574
         ],
         "xaxis": "x",
         "y": [
          -7580,
          -7580,
          -7645,
          -7645
         ],
         "yaxis": "y"
        },
        {
         "hoverinfo": "text",
         "marker": {
          "color": "rgb(0,116,217)"
         },
         "mode": "lines",
         "type": "scatter",
         "x": [
          1.9675513218363023,
          2.1404968273171856,
          2.1404968273171856,
          1.7504067327571486
         ],
         "xaxis": "x",
         "y": [
          -7498.125,
          -7498.125,
          -7612.5,
          -7612.5
         ],
         "yaxis": "y"
        },
        {
         "hoverinfo": "text",
         "marker": {
          "color": "rgb(0,116,217)"
         },
         "mode": "lines",
         "type": "scatter",
         "x": [
          2.470609145460096,
          2.68341284277965,
          2.68341284277965,
          2.1404968273171856
         ],
         "xaxis": "x",
         "y": [
          -7247.578125,
          -7247.578125,
          -7555.3125,
          -7555.3125
         ],
         "yaxis": "y"
        },
        {
         "hoverinfo": "text",
         "marker": {
          "color": "rgb(0,116,217)"
         },
         "mode": "lines",
         "type": "scatter",
         "x": [
          0,
          1.2543803376875011,
          1.2543803376875011,
          0
         ],
         "xaxis": "x",
         "y": [
          -7675,
          -7675,
          -7685,
          -7685
         ],
         "yaxis": "y"
        },
        {
         "hoverinfo": "text",
         "marker": {
          "color": "rgb(0,116,217)"
         },
         "mode": "lines",
         "type": "scatter",
         "x": [
          0,
          1.154365315249913,
          1.154365315249913,
          0
         ],
         "xaxis": "x",
         "y": [
          -7695,
          -7695,
          -7705,
          -7705
         ],
         "yaxis": "y"
        },
        {
         "hoverinfo": "text",
         "marker": {
          "color": "rgb(0,116,217)"
         },
         "mode": "lines",
         "type": "scatter",
         "x": [
          1.2543803376875011,
          1.5422953286111518,
          1.5422953286111518,
          1.154365315249913
         ],
         "xaxis": "x",
         "y": [
          -7680,
          -7680,
          -7700,
          -7700
         ],
         "yaxis": "y"
        },
        {
         "hoverinfo": "text",
         "marker": {
          "color": "rgb(0,116,217)"
         },
         "mode": "lines",
         "type": "scatter",
         "x": [
          0,
          1.3500929351363153,
          1.3500929351363153,
          0
         ],
         "xaxis": "x",
         "y": [
          -7725,
          -7725,
          -7735,
          -7735
         ],
         "yaxis": "y"
        },
        {
         "hoverinfo": "text",
         "marker": {
          "color": "rgb(0,116,217)"
         },
         "mode": "lines",
         "type": "scatter",
         "x": [
          0,
          1.4176587935351348,
          1.4176587935351348,
          1.3500929351363153
         ],
         "xaxis": "x",
         "y": [
          -7715,
          -7715,
          -7730,
          -7730
         ],
         "yaxis": "y"
        },
        {
         "hoverinfo": "text",
         "marker": {
          "color": "rgb(0,116,217)"
         },
         "mode": "lines",
         "type": "scatter",
         "x": [
          0,
          1.3159961799100361,
          1.3159961799100361,
          0
         ],
         "xaxis": "x",
         "y": [
          -7755,
          -7755,
          -7765,
          -7765
         ],
         "yaxis": "y"
        },
        {
         "hoverinfo": "text",
         "marker": {
          "color": "rgb(0,116,217)"
         },
         "mode": "lines",
         "type": "scatter",
         "x": [
          0,
          1.3554580228929154,
          1.3554580228929154,
          1.3159961799100361
         ],
         "xaxis": "x",
         "y": [
          -7745,
          -7745,
          -7760,
          -7760
         ],
         "yaxis": "y"
        },
        {
         "hoverinfo": "text",
         "marker": {
          "color": "rgb(0,116,217)"
         },
         "mode": "lines",
         "type": "scatter",
         "x": [
          1.4176587935351348,
          1.445848975155888,
          1.445848975155888,
          1.3554580228929154
         ],
         "xaxis": "x",
         "y": [
          -7722.5,
          -7722.5,
          -7752.5,
          -7752.5
         ],
         "yaxis": "y"
        },
        {
         "hoverinfo": "text",
         "marker": {
          "color": "rgb(0,116,217)"
         },
         "mode": "lines",
         "type": "scatter",
         "x": [
          0,
          1.275472779693242,
          1.275472779693242,
          0
         ],
         "xaxis": "x",
         "y": [
          -7775,
          -7775,
          -7785,
          -7785
         ],
         "yaxis": "y"
        },
        {
         "hoverinfo": "text",
         "marker": {
          "color": "rgb(0,116,217)"
         },
         "mode": "lines",
         "type": "scatter",
         "x": [
          1.445848975155888,
          1.4690100133106865,
          1.4690100133106865,
          1.275472779693242
         ],
         "xaxis": "x",
         "y": [
          -7737.5,
          -7737.5,
          -7780,
          -7780
         ],
         "yaxis": "y"
        },
        {
         "hoverinfo": "text",
         "marker": {
          "color": "rgb(0,116,217)"
         },
         "mode": "lines",
         "type": "scatter",
         "x": [
          1.5422953286111518,
          1.7416612809827483,
          1.7416612809827483,
          1.4690100133106865
         ],
         "xaxis": "x",
         "y": [
          -7690,
          -7690,
          -7758.75,
          -7758.75
         ],
         "yaxis": "y"
        },
        {
         "hoverinfo": "text",
         "marker": {
          "color": "rgb(0,116,217)"
         },
         "mode": "lines",
         "type": "scatter",
         "x": [
          0,
          1.3663400419986862,
          1.3663400419986862,
          0
         ],
         "xaxis": "x",
         "y": [
          -7795,
          -7795,
          -7805,
          -7805
         ],
         "yaxis": "y"
        },
        {
         "hoverinfo": "text",
         "marker": {
          "color": "rgb(0,116,217)"
         },
         "mode": "lines",
         "type": "scatter",
         "x": [
          0,
          1.3324223529115908,
          1.3324223529115908,
          0
         ],
         "xaxis": "x",
         "y": [
          -7815,
          -7815,
          -7825,
          -7825
         ],
         "yaxis": "y"
        },
        {
         "hoverinfo": "text",
         "marker": {
          "color": "rgb(0,116,217)"
         },
         "mode": "lines",
         "type": "scatter",
         "x": [
          1.3663400419986862,
          1.4053673986903394,
          1.4053673986903394,
          1.3324223529115908
         ],
         "xaxis": "x",
         "y": [
          -7800,
          -7800,
          -7820,
          -7820
         ],
         "yaxis": "y"
        },
        {
         "hoverinfo": "text",
         "marker": {
          "color": "rgb(0,116,217)"
         },
         "mode": "lines",
         "type": "scatter",
         "x": [
          0,
          1.3694039117839099,
          1.3694039117839099,
          0
         ],
         "xaxis": "x",
         "y": [
          -7835,
          -7835,
          -7845,
          -7845
         ],
         "yaxis": "y"
        },
        {
         "hoverinfo": "text",
         "marker": {
          "color": "rgb(0,116,217)"
         },
         "mode": "lines",
         "type": "scatter",
         "x": [
          0,
          1.3368888487170736,
          1.3368888487170736,
          0
         ],
         "xaxis": "x",
         "y": [
          -7855,
          -7855,
          -7865,
          -7865
         ],
         "yaxis": "y"
        },
        {
         "hoverinfo": "text",
         "marker": {
          "color": "rgb(0,116,217)"
         },
         "mode": "lines",
         "type": "scatter",
         "x": [
          1.3694039117839099,
          1.4385649389422956,
          1.4385649389422956,
          1.3368888487170736
         ],
         "xaxis": "x",
         "y": [
          -7840,
          -7840,
          -7860,
          -7860
         ],
         "yaxis": "y"
        },
        {
         "hoverinfo": "text",
         "marker": {
          "color": "rgb(0,116,217)"
         },
         "mode": "lines",
         "type": "scatter",
         "x": [
          1.4053673986903394,
          1.499727644987351,
          1.499727644987351,
          1.4385649389422956
         ],
         "xaxis": "x",
         "y": [
          -7810,
          -7810,
          -7850,
          -7850
         ],
         "yaxis": "y"
        },
        {
         "hoverinfo": "text",
         "marker": {
          "color": "rgb(0,116,217)"
         },
         "mode": "lines",
         "type": "scatter",
         "x": [
          0,
          1.3082639327747732,
          1.3082639327747732,
          0
         ],
         "xaxis": "x",
         "y": [
          -7875,
          -7875,
          -7885,
          -7885
         ],
         "yaxis": "y"
        },
        {
         "hoverinfo": "text",
         "marker": {
          "color": "rgb(0,116,217)"
         },
         "mode": "lines",
         "type": "scatter",
         "x": [
          0,
          1.3211579100109496,
          1.3211579100109496,
          0
         ],
         "xaxis": "x",
         "y": [
          -7895,
          -7895,
          -7905,
          -7905
         ],
         "yaxis": "y"
        },
        {
         "hoverinfo": "text",
         "marker": {
          "color": "rgb(0,116,217)"
         },
         "mode": "lines",
         "type": "scatter",
         "x": [
          1.3082639327747732,
          1.4641144494695266,
          1.4641144494695266,
          1.3211579100109496
         ],
         "xaxis": "x",
         "y": [
          -7880,
          -7880,
          -7900,
          -7900
         ],
         "yaxis": "y"
        },
        {
         "hoverinfo": "text",
         "marker": {
          "color": "rgb(0,116,217)"
         },
         "mode": "lines",
         "type": "scatter",
         "x": [
          1.499727644987351,
          1.687124801949222,
          1.687124801949222,
          1.4641144494695266
         ],
         "xaxis": "x",
         "y": [
          -7830,
          -7830,
          -7890,
          -7890
         ],
         "yaxis": "y"
        },
        {
         "hoverinfo": "text",
         "marker": {
          "color": "rgb(0,116,217)"
         },
         "mode": "lines",
         "type": "scatter",
         "x": [
          1.7416612809827483,
          2.020248016940608,
          2.020248016940608,
          1.687124801949222
         ],
         "xaxis": "x",
         "y": [
          -7724.375,
          -7724.375,
          -7860,
          -7860
         ],
         "yaxis": "y"
        },
        {
         "hoverinfo": "text",
         "marker": {
          "color": "rgb(0,116,217)"
         },
         "mode": "lines",
         "type": "scatter",
         "x": [
          0,
          1.375011009598934,
          1.375011009598934,
          0
         ],
         "xaxis": "x",
         "y": [
          -7915,
          -7915,
          -7925,
          -7925
         ],
         "yaxis": "y"
        },
        {
         "hoverinfo": "text",
         "marker": {
          "color": "rgb(0,116,217)"
         },
         "mode": "lines",
         "type": "scatter",
         "x": [
          0,
          1.369042219213972,
          1.369042219213972,
          0
         ],
         "xaxis": "x",
         "y": [
          -7935,
          -7935,
          -7945,
          -7945
         ],
         "yaxis": "y"
        },
        {
         "hoverinfo": "text",
         "marker": {
          "color": "rgb(0,116,217)"
         },
         "mode": "lines",
         "type": "scatter",
         "x": [
          1.369042219213972,
          1.4125241994443245,
          1.4125241994443245,
          0
         ],
         "xaxis": "x",
         "y": [
          -7940,
          -7940,
          -7955,
          -7955
         ],
         "yaxis": "y"
        },
        {
         "hoverinfo": "text",
         "marker": {
          "color": "rgb(0,116,217)"
         },
         "mode": "lines",
         "type": "scatter",
         "x": [
          1.375011009598934,
          1.5149329693657467,
          1.5149329693657467,
          1.4125241994443245
         ],
         "xaxis": "x",
         "y": [
          -7920,
          -7920,
          -7947.5,
          -7947.5
         ],
         "yaxis": "y"
        },
        {
         "hoverinfo": "text",
         "marker": {
          "color": "rgb(0,116,217)"
         },
         "mode": "lines",
         "type": "scatter",
         "x": [
          0,
          1.3549569889206086,
          1.3549569889206086,
          0
         ],
         "xaxis": "x",
         "y": [
          -7965,
          -7965,
          -7975,
          -7975
         ],
         "yaxis": "y"
        },
        {
         "hoverinfo": "text",
         "marker": {
          "color": "rgb(0,116,217)"
         },
         "mode": "lines",
         "type": "scatter",
         "x": [
          0,
          1.343738003436966,
          1.343738003436966,
          0
         ],
         "xaxis": "x",
         "y": [
          -7995,
          -7995,
          -8005,
          -8005
         ],
         "yaxis": "y"
        },
        {
         "hoverinfo": "text",
         "marker": {
          "color": "rgb(0,116,217)"
         },
         "mode": "lines",
         "type": "scatter",
         "x": [
          0,
          1.4218525690553803,
          1.4218525690553803,
          1.343738003436966
         ],
         "xaxis": "x",
         "y": [
          -7985,
          -7985,
          -8000,
          -8000
         ],
         "yaxis": "y"
        },
        {
         "hoverinfo": "text",
         "marker": {
          "color": "rgb(0,116,217)"
         },
         "mode": "lines",
         "type": "scatter",
         "x": [
          1.3549569889206086,
          1.5532369214781618,
          1.5532369214781618,
          1.4218525690553803
         ],
         "xaxis": "x",
         "y": [
          -7970,
          -7970,
          -7992.5,
          -7992.5
         ],
         "yaxis": "y"
        },
        {
         "hoverinfo": "text",
         "marker": {
          "color": "rgb(0,116,217)"
         },
         "mode": "lines",
         "type": "scatter",
         "x": [
          1.5149329693657467,
          1.5938493932002122,
          1.5938493932002122,
          1.5532369214781618
         ],
         "xaxis": "x",
         "y": [
          -7933.75,
          -7933.75,
          -7981.25,
          -7981.25
         ],
         "yaxis": "y"
        },
        {
         "hoverinfo": "text",
         "marker": {
          "color": "rgb(0,116,217)"
         },
         "mode": "lines",
         "type": "scatter",
         "x": [
          0,
          1.3221508385674396,
          1.3221508385674396,
          0
         ],
         "xaxis": "x",
         "y": [
          -8015,
          -8015,
          -8025,
          -8025
         ],
         "yaxis": "y"
        },
        {
         "hoverinfo": "text",
         "marker": {
          "color": "rgb(0,116,217)"
         },
         "mode": "lines",
         "type": "scatter",
         "x": [
          0,
          1.2765087040817233,
          1.2765087040817233,
          0
         ],
         "xaxis": "x",
         "y": [
          -8045,
          -8045,
          -8055,
          -8055
         ],
         "yaxis": "y"
        },
        {
         "hoverinfo": "text",
         "marker": {
          "color": "rgb(0,116,217)"
         },
         "mode": "lines",
         "type": "scatter",
         "x": [
          0,
          1.329682107719511,
          1.329682107719511,
          1.2765087040817233
         ],
         "xaxis": "x",
         "y": [
          -8035,
          -8035,
          -8050,
          -8050
         ],
         "yaxis": "y"
        },
        {
         "hoverinfo": "text",
         "marker": {
          "color": "rgb(0,116,217)"
         },
         "mode": "lines",
         "type": "scatter",
         "x": [
          1.3221508385674396,
          1.5624426977433505,
          1.5624426977433505,
          1.329682107719511
         ],
         "xaxis": "x",
         "y": [
          -8020,
          -8020,
          -8042.5,
          -8042.5
         ],
         "yaxis": "y"
        },
        {
         "hoverinfo": "text",
         "marker": {
          "color": "rgb(0,116,217)"
         },
         "mode": "lines",
         "type": "scatter",
         "x": [
          1.5938493932002122,
          1.7691746825846997,
          1.7691746825846997,
          1.5624426977433505
         ],
         "xaxis": "x",
         "y": [
          -7957.5,
          -7957.5,
          -8031.25,
          -8031.25
         ],
         "yaxis": "y"
        },
        {
         "hoverinfo": "text",
         "marker": {
          "color": "rgb(0,116,217)"
         },
         "mode": "lines",
         "type": "scatter",
         "x": [
          2.020248016940608,
          2.1895531352769804,
          2.1895531352769804,
          1.7691746825846997
         ],
         "xaxis": "x",
         "y": [
          -7792.1875,
          -7792.1875,
          -7994.375,
          -7994.375
         ],
         "yaxis": "y"
        },
        {
         "hoverinfo": "text",
         "marker": {
          "color": "rgb(0,116,217)"
         },
         "mode": "lines",
         "type": "scatter",
         "x": [
          2.68341284277965,
          3.3329088106587146,
          3.3329088106587146,
          2.1895531352769804
         ],
         "xaxis": "x",
         "y": [
          -7401.4453125,
          -7401.4453125,
          -7893.28125,
          -7893.28125
         ],
         "yaxis": "y"
        },
        {
         "hoverinfo": "text",
         "marker": {
          "color": "rgb(0,116,217)"
         },
         "mode": "lines",
         "type": "scatter",
         "x": [
          0,
          1.1446763470528072,
          1.1446763470528072,
          0
         ],
         "xaxis": "x",
         "y": [
          -8065,
          -8065,
          -8075,
          -8075
         ],
         "yaxis": "y"
        },
        {
         "hoverinfo": "text",
         "marker": {
          "color": "rgb(0,116,217)"
         },
         "mode": "lines",
         "type": "scatter",
         "x": [
          1.1446763470528072,
          1.292745590618906,
          1.292745590618906,
          0
         ],
         "xaxis": "x",
         "y": [
          -8070,
          -8070,
          -8085,
          -8085
         ],
         "yaxis": "y"
        },
        {
         "hoverinfo": "text",
         "marker": {
          "color": "rgb(0,116,217)"
         },
         "mode": "lines",
         "type": "scatter",
         "x": [
          0,
          1.389309091478339,
          1.389309091478339,
          0
         ],
         "xaxis": "x",
         "y": [
          -8095,
          -8095,
          -8105,
          -8105
         ],
         "yaxis": "y"
        },
        {
         "hoverinfo": "text",
         "marker": {
          "color": "rgb(0,116,217)"
         },
         "mode": "lines",
         "type": "scatter",
         "x": [
          0,
          1.3264008647475887,
          1.3264008647475887,
          0
         ],
         "xaxis": "x",
         "y": [
          -8115,
          -8115,
          -8125,
          -8125
         ],
         "yaxis": "y"
        },
        {
         "hoverinfo": "text",
         "marker": {
          "color": "rgb(0,116,217)"
         },
         "mode": "lines",
         "type": "scatter",
         "x": [
          1.389309091478339,
          1.4575289263763964,
          1.4575289263763964,
          1.3264008647475887
         ],
         "xaxis": "x",
         "y": [
          -8100,
          -8100,
          -8120,
          -8120
         ],
         "yaxis": "y"
        },
        {
         "hoverinfo": "text",
         "marker": {
          "color": "rgb(0,116,217)"
         },
         "mode": "lines",
         "type": "scatter",
         "x": [
          0,
          1.3294820868648662,
          1.3294820868648662,
          0
         ],
         "xaxis": "x",
         "y": [
          -8135,
          -8135,
          -8145,
          -8145
         ],
         "yaxis": "y"
        },
        {
         "hoverinfo": "text",
         "marker": {
          "color": "rgb(0,116,217)"
         },
         "mode": "lines",
         "type": "scatter",
         "x": [
          0,
          1.3600505805435108,
          1.3600505805435108,
          0
         ],
         "xaxis": "x",
         "y": [
          -8155,
          -8155,
          -8165,
          -8165
         ],
         "yaxis": "y"
        },
        {
         "hoverinfo": "text",
         "marker": {
          "color": "rgb(0,116,217)"
         },
         "mode": "lines",
         "type": "scatter",
         "x": [
          1.3294820868648662,
          1.4860370653741561,
          1.4860370653741561,
          1.3600505805435108
         ],
         "xaxis": "x",
         "y": [
          -8140,
          -8140,
          -8160,
          -8160
         ],
         "yaxis": "y"
        },
        {
         "hoverinfo": "text",
         "marker": {
          "color": "rgb(0,116,217)"
         },
         "mode": "lines",
         "type": "scatter",
         "x": [
          1.4575289263763964,
          1.527017739645193,
          1.527017739645193,
          1.4860370653741561
         ],
         "xaxis": "x",
         "y": [
          -8110,
          -8110,
          -8150,
          -8150
         ],
         "yaxis": "y"
        },
        {
         "hoverinfo": "text",
         "marker": {
          "color": "rgb(0,116,217)"
         },
         "mode": "lines",
         "type": "scatter",
         "x": [
          1.292745590618906,
          1.7524409808176549,
          1.7524409808176549,
          1.527017739645193
         ],
         "xaxis": "x",
         "y": [
          -8077.5,
          -8077.5,
          -8130,
          -8130
         ],
         "yaxis": "y"
        },
        {
         "hoverinfo": "text",
         "marker": {
          "color": "rgb(0,116,217)"
         },
         "mode": "lines",
         "type": "scatter",
         "x": [
          0,
          1.3074316755524036,
          1.3074316755524036,
          0
         ],
         "xaxis": "x",
         "y": [
          -8175,
          -8175,
          -8185,
          -8185
         ],
         "yaxis": "y"
        },
        {
         "hoverinfo": "text",
         "marker": {
          "color": "rgb(0,116,217)"
         },
         "mode": "lines",
         "type": "scatter",
         "x": [
          0,
          1.4009879386483386,
          1.4009879386483386,
          0
         ],
         "xaxis": "x",
         "y": [
          -8195,
          -8195,
          -8205,
          -8205
         ],
         "yaxis": "y"
        },
        {
         "hoverinfo": "text",
         "marker": {
          "color": "rgb(0,116,217)"
         },
         "mode": "lines",
         "type": "scatter",
         "x": [
          1.3074316755524036,
          1.4646385932126624,
          1.4646385932126624,
          1.4009879386483386
         ],
         "xaxis": "x",
         "y": [
          -8180,
          -8180,
          -8200,
          -8200
         ],
         "yaxis": "y"
        },
        {
         "hoverinfo": "text",
         "marker": {
          "color": "rgb(0,116,217)"
         },
         "mode": "lines",
         "type": "scatter",
         "x": [
          0,
          1.300961510445894,
          1.300961510445894,
          0
         ],
         "xaxis": "x",
         "y": [
          -8225,
          -8225,
          -8235,
          -8235
         ],
         "yaxis": "y"
        },
        {
         "hoverinfo": "text",
         "marker": {
          "color": "rgb(0,116,217)"
         },
         "mode": "lines",
         "type": "scatter",
         "x": [
          1.300961510445894,
          1.342590954402854,
          1.342590954402854,
          0
         ],
         "xaxis": "x",
         "y": [
          -8230,
          -8230,
          -8245,
          -8245
         ],
         "yaxis": "y"
        },
        {
         "hoverinfo": "text",
         "marker": {
          "color": "rgb(0,116,217)"
         },
         "mode": "lines",
         "type": "scatter",
         "x": [
          0,
          1.3895326439395599,
          1.3895326439395599,
          1.342590954402854
         ],
         "xaxis": "x",
         "y": [
          -8215,
          -8215,
          -8237.5,
          -8237.5
         ],
         "yaxis": "y"
        },
        {
         "hoverinfo": "text",
         "marker": {
          "color": "rgb(0,116,217)"
         },
         "mode": "lines",
         "type": "scatter",
         "x": [
          1.4646385932126624,
          1.6112496484381151,
          1.6112496484381151,
          1.3895326439395599
         ],
         "xaxis": "x",
         "y": [
          -8190,
          -8190,
          -8226.25,
          -8226.25
         ],
         "yaxis": "y"
        },
        {
         "hoverinfo": "text",
         "marker": {
          "color": "rgb(0,116,217)"
         },
         "mode": "lines",
         "type": "scatter",
         "x": [
          0,
          1.3296849949838192,
          1.3296849949838192,
          0
         ],
         "xaxis": "x",
         "y": [
          -8255,
          -8255,
          -8265,
          -8265
         ],
         "yaxis": "y"
        },
        {
         "hoverinfo": "text",
         "marker": {
          "color": "rgb(0,116,217)"
         },
         "mode": "lines",
         "type": "scatter",
         "x": [
          0,
          1.2856282288165142,
          1.2856282288165142,
          0
         ],
         "xaxis": "x",
         "y": [
          -8275,
          -8275,
          -8285,
          -8285
         ],
         "yaxis": "y"
        },
        {
         "hoverinfo": "text",
         "marker": {
          "color": "rgb(0,116,217)"
         },
         "mode": "lines",
         "type": "scatter",
         "x": [
          1.3296849949838192,
          1.5230213839383133,
          1.5230213839383133,
          1.2856282288165142
         ],
         "xaxis": "x",
         "y": [
          -8260,
          -8260,
          -8280,
          -8280
         ],
         "yaxis": "y"
        },
        {
         "hoverinfo": "text",
         "marker": {
          "color": "rgb(0,116,217)"
         },
         "mode": "lines",
         "type": "scatter",
         "x": [
          1.6112496484381151,
          1.710560831247753,
          1.710560831247753,
          1.5230213839383133
         ],
         "xaxis": "x",
         "y": [
          -8208.125,
          -8208.125,
          -8270,
          -8270
         ],
         "yaxis": "y"
        },
        {
         "hoverinfo": "text",
         "marker": {
          "color": "rgb(0,116,217)"
         },
         "mode": "lines",
         "type": "scatter",
         "x": [
          1.7524409808176549,
          1.9383396683254541,
          1.9383396683254541,
          1.710560831247753
         ],
         "xaxis": "x",
         "y": [
          -8103.75,
          -8103.75,
          -8239.0625,
          -8239.0625
         ],
         "yaxis": "y"
        },
        {
         "hoverinfo": "text",
         "marker": {
          "color": "rgb(0,116,217)"
         },
         "mode": "lines",
         "type": "scatter",
         "x": [
          0,
          1.2971625119923584,
          1.2971625119923584,
          0
         ],
         "xaxis": "x",
         "y": [
          -8295,
          -8295,
          -8305,
          -8305
         ],
         "yaxis": "y"
        },
        {
         "hoverinfo": "text",
         "marker": {
          "color": "rgb(0,116,217)"
         },
         "mode": "lines",
         "type": "scatter",
         "x": [
          1.2971625119923584,
          1.3574297937117474,
          1.3574297937117474,
          0
         ],
         "xaxis": "x",
         "y": [
          -8300,
          -8300,
          -8315,
          -8315
         ],
         "yaxis": "y"
        },
        {
         "hoverinfo": "text",
         "marker": {
          "color": "rgb(0,116,217)"
         },
         "mode": "lines",
         "type": "scatter",
         "x": [
          0,
          1.3468786100368804,
          1.3468786100368804,
          0
         ],
         "xaxis": "x",
         "y": [
          -8325,
          -8325,
          -8335,
          -8335
         ],
         "yaxis": "y"
        },
        {
         "hoverinfo": "text",
         "marker": {
          "color": "rgb(0,116,217)"
         },
         "mode": "lines",
         "type": "scatter",
         "x": [
          1.3574297937117474,
          1.4460283342305842,
          1.4460283342305842,
          1.3468786100368804
         ],
         "xaxis": "x",
         "y": [
          -8307.5,
          -8307.5,
          -8330,
          -8330
         ],
         "yaxis": "y"
        },
        {
         "hoverinfo": "text",
         "marker": {
          "color": "rgb(0,116,217)"
         },
         "mode": "lines",
         "type": "scatter",
         "x": [
          0,
          1.3110025404944732,
          1.3110025404944732,
          0
         ],
         "xaxis": "x",
         "y": [
          -8355,
          -8355,
          -8365,
          -8365
         ],
         "yaxis": "y"
        },
        {
         "hoverinfo": "text",
         "marker": {
          "color": "rgb(0,116,217)"
         },
         "mode": "lines",
         "type": "scatter",
         "x": [
          0,
          1.3687620093185704,
          1.3687620093185704,
          1.3110025404944732
         ],
         "xaxis": "x",
         "y": [
          -8345,
          -8345,
          -8360,
          -8360
         ],
         "yaxis": "y"
        },
        {
         "hoverinfo": "text",
         "marker": {
          "color": "rgb(0,116,217)"
         },
         "mode": "lines",
         "type": "scatter",
         "x": [
          0,
          1.4037592711960512,
          1.4037592711960512,
          0
         ],
         "xaxis": "x",
         "y": [
          -8375,
          -8375,
          -8385,
          -8385
         ],
         "yaxis": "y"
        },
        {
         "hoverinfo": "text",
         "marker": {
          "color": "rgb(0,116,217)"
         },
         "mode": "lines",
         "type": "scatter",
         "x": [
          1.3687620093185704,
          1.4480875034500051,
          1.4480875034500051,
          1.4037592711960512
         ],
         "xaxis": "x",
         "y": [
          -8352.5,
          -8352.5,
          -8380,
          -8380
         ],
         "yaxis": "y"
        },
        {
         "hoverinfo": "text",
         "marker": {
          "color": "rgb(0,116,217)"
         },
         "mode": "lines",
         "type": "scatter",
         "x": [
          1.4460283342305842,
          1.6083287896729555,
          1.6083287896729555,
          1.4480875034500051
         ],
         "xaxis": "x",
         "y": [
          -8318.75,
          -8318.75,
          -8366.25,
          -8366.25
         ],
         "yaxis": "y"
        },
        {
         "hoverinfo": "text",
         "marker": {
          "color": "rgb(0,116,217)"
         },
         "mode": "lines",
         "type": "scatter",
         "x": [
          0,
          1.3321986687389957,
          1.3321986687389957,
          0
         ],
         "xaxis": "x",
         "y": [
          -8405,
          -8405,
          -8415,
          -8415
         ],
         "yaxis": "y"
        },
        {
         "hoverinfo": "text",
         "marker": {
          "color": "rgb(0,116,217)"
         },
         "mode": "lines",
         "type": "scatter",
         "x": [
          0,
          1.340890624763273,
          1.340890624763273,
          1.3321986687389957
         ],
         "xaxis": "x",
         "y": [
          -8395,
          -8395,
          -8410,
          -8410
         ],
         "yaxis": "y"
        },
        {
         "hoverinfo": "text",
         "marker": {
          "color": "rgb(0,116,217)"
         },
         "mode": "lines",
         "type": "scatter",
         "x": [
          1.340890624763273,
          1.3834034193069313,
          1.3834034193069313,
          0
         ],
         "xaxis": "x",
         "y": [
          -8402.5,
          -8402.5,
          -8425,
          -8425
         ],
         "yaxis": "y"
        },
        {
         "hoverinfo": "text",
         "marker": {
          "color": "rgb(0,116,217)"
         },
         "mode": "lines",
         "type": "scatter",
         "x": [
          0,
          1.2712961762217951,
          1.2712961762217951,
          0
         ],
         "xaxis": "x",
         "y": [
          -8435,
          -8435,
          -8445,
          -8445
         ],
         "yaxis": "y"
        },
        {
         "hoverinfo": "text",
         "marker": {
          "color": "rgb(0,116,217)"
         },
         "mode": "lines",
         "type": "scatter",
         "x": [
          1.3834034193069313,
          1.526429745052803,
          1.526429745052803,
          1.2712961762217951
         ],
         "xaxis": "x",
         "y": [
          -8413.75,
          -8413.75,
          -8440,
          -8440
         ],
         "yaxis": "y"
        },
        {
         "hoverinfo": "text",
         "marker": {
          "color": "rgb(0,116,217)"
         },
         "mode": "lines",
         "type": "scatter",
         "x": [
          0,
          1.3548504553107534,
          1.3548504553107534,
          0
         ],
         "xaxis": "x",
         "y": [
          -8455,
          -8455,
          -8465,
          -8465
         ],
         "yaxis": "y"
        },
        {
         "hoverinfo": "text",
         "marker": {
          "color": "rgb(0,116,217)"
         },
         "mode": "lines",
         "type": "scatter",
         "x": [
          0,
          1.3043166690164818,
          1.3043166690164818,
          0
         ],
         "xaxis": "x",
         "y": [
          -8475,
          -8475,
          -8485,
          -8485
         ],
         "yaxis": "y"
        },
        {
         "hoverinfo": "text",
         "marker": {
          "color": "rgb(0,116,217)"
         },
         "mode": "lines",
         "type": "scatter",
         "x": [
          1.3548504553107534,
          1.4526212668078096,
          1.4526212668078096,
          1.3043166690164818
         ],
         "xaxis": "x",
         "y": [
          -8460,
          -8460,
          -8480,
          -8480
         ],
         "yaxis": "y"
        },
        {
         "hoverinfo": "text",
         "marker": {
          "color": "rgb(0,116,217)"
         },
         "mode": "lines",
         "type": "scatter",
         "x": [
          0,
          1.3129000880589299,
          1.3129000880589299,
          0
         ],
         "xaxis": "x",
         "y": [
          -8505,
          -8505,
          -8515,
          -8515
         ],
         "yaxis": "y"
        },
        {
         "hoverinfo": "text",
         "marker": {
          "color": "rgb(0,116,217)"
         },
         "mode": "lines",
         "type": "scatter",
         "x": [
          0,
          1.3739626699127052,
          1.3739626699127052,
          1.3129000880589299
         ],
         "xaxis": "x",
         "y": [
          -8495,
          -8495,
          -8510,
          -8510
         ],
         "yaxis": "y"
        },
        {
         "hoverinfo": "text",
         "marker": {
          "color": "rgb(0,116,217)"
         },
         "mode": "lines",
         "type": "scatter",
         "x": [
          1.4526212668078096,
          1.5395700444303113,
          1.5395700444303113,
          1.3739626699127052
         ],
         "xaxis": "x",
         "y": [
          -8470,
          -8470,
          -8502.5,
          -8502.5
         ],
         "yaxis": "y"
        },
        {
         "hoverinfo": "text",
         "marker": {
          "color": "rgb(0,116,217)"
         },
         "mode": "lines",
         "type": "scatter",
         "x": [
          1.526429745052803,
          1.8028580053539252,
          1.8028580053539252,
          1.5395700444303113
         ],
         "xaxis": "x",
         "y": [
          -8426.875,
          -8426.875,
          -8486.25,
          -8486.25
         ],
         "yaxis": "y"
        },
        {
         "hoverinfo": "text",
         "marker": {
          "color": "rgb(0,116,217)"
         },
         "mode": "lines",
         "type": "scatter",
         "x": [
          1.6083287896729555,
          1.8730525965484508,
          1.8730525965484508,
          1.8028580053539252
         ],
         "xaxis": "x",
         "y": [
          -8342.5,
          -8342.5,
          -8456.5625,
          -8456.5625
         ],
         "yaxis": "y"
        },
        {
         "hoverinfo": "text",
         "marker": {
          "color": "rgb(0,116,217)"
         },
         "mode": "lines",
         "type": "scatter",
         "x": [
          1.9383396683254541,
          2.2430673854676293,
          2.2430673854676293,
          1.8730525965484508
         ],
         "xaxis": "x",
         "y": [
          -8171.40625,
          -8171.40625,
          -8399.53125,
          -8399.53125
         ],
         "yaxis": "y"
        },
        {
         "hoverinfo": "text",
         "marker": {
          "color": "rgb(0,116,217)"
         },
         "mode": "lines",
         "type": "scatter",
         "x": [
          0,
          1.3082120817194214,
          1.3082120817194214,
          0
         ],
         "xaxis": "x",
         "y": [
          -8535,
          -8535,
          -8545,
          -8545
         ],
         "yaxis": "y"
        },
        {
         "hoverinfo": "text",
         "marker": {
          "color": "rgb(0,116,217)"
         },
         "mode": "lines",
         "type": "scatter",
         "x": [
          0,
          1.3785659631642524,
          1.3785659631642524,
          1.3082120817194214
         ],
         "xaxis": "x",
         "y": [
          -8525,
          -8525,
          -8540,
          -8540
         ],
         "yaxis": "y"
        },
        {
         "hoverinfo": "text",
         "marker": {
          "color": "rgb(0,116,217)"
         },
         "mode": "lines",
         "type": "scatter",
         "x": [
          0,
          1.1472534090605517,
          1.1472534090605517,
          0
         ],
         "xaxis": "x",
         "y": [
          -8555,
          -8555,
          -8565,
          -8565
         ],
         "yaxis": "y"
        },
        {
         "hoverinfo": "text",
         "marker": {
          "color": "rgb(0,116,217)"
         },
         "mode": "lines",
         "type": "scatter",
         "x": [
          1.1472534090605517,
          1.3497167781829915,
          1.3497167781829915,
          0
         ],
         "xaxis": "x",
         "y": [
          -8560,
          -8560,
          -8575,
          -8575
         ],
         "yaxis": "y"
        },
        {
         "hoverinfo": "text",
         "marker": {
          "color": "rgb(0,116,217)"
         },
         "mode": "lines",
         "type": "scatter",
         "x": [
          1.3785659631642524,
          1.5649273667121353,
          1.5649273667121353,
          1.3497167781829915
         ],
         "xaxis": "x",
         "y": [
          -8532.5,
          -8532.5,
          -8567.5,
          -8567.5
         ],
         "yaxis": "y"
        },
        {
         "hoverinfo": "text",
         "marker": {
          "color": "rgb(0,116,217)"
         },
         "mode": "lines",
         "type": "scatter",
         "x": [
          0,
          1.121358000889504,
          1.121358000889504,
          0
         ],
         "xaxis": "x",
         "y": [
          -8585,
          -8585,
          -8595,
          -8595
         ],
         "yaxis": "y"
        },
        {
         "hoverinfo": "text",
         "marker": {
          "color": "rgb(0,116,217)"
         },
         "mode": "lines",
         "type": "scatter",
         "x": [
          0,
          1.221414722025817,
          1.221414722025817,
          0
         ],
         "xaxis": "x",
         "y": [
          -8605,
          -8605,
          -8615,
          -8615
         ],
         "yaxis": "y"
        },
        {
         "hoverinfo": "text",
         "marker": {
          "color": "rgb(0,116,217)"
         },
         "mode": "lines",
         "type": "scatter",
         "x": [
          1.121358000889504,
          1.3841751953906913,
          1.3841751953906913,
          1.221414722025817
         ],
         "xaxis": "x",
         "y": [
          -8590,
          -8590,
          -8610,
          -8610
         ],
         "yaxis": "y"
        },
        {
         "hoverinfo": "text",
         "marker": {
          "color": "rgb(0,116,217)"
         },
         "mode": "lines",
         "type": "scatter",
         "x": [
          1.5649273667121353,
          1.7987736312024922,
          1.7987736312024922,
          1.3841751953906913
         ],
         "xaxis": "x",
         "y": [
          -8550,
          -8550,
          -8600,
          -8600
         ],
         "yaxis": "y"
        },
        {
         "hoverinfo": "text",
         "marker": {
          "color": "rgb(0,116,217)"
         },
         "mode": "lines",
         "type": "scatter",
         "x": [
          0,
          1.1934417740457894,
          1.1934417740457894,
          0
         ],
         "xaxis": "x",
         "y": [
          -8625,
          -8625,
          -8635,
          -8635
         ],
         "yaxis": "y"
        },
        {
         "hoverinfo": "text",
         "marker": {
          "color": "rgb(0,116,217)"
         },
         "mode": "lines",
         "type": "scatter",
         "x": [
          0,
          1.1894321190335007,
          1.1894321190335007,
          0
         ],
         "xaxis": "x",
         "y": [
          -8655,
          -8655,
          -8665,
          -8665
         ],
         "yaxis": "y"
        },
        {
         "hoverinfo": "text",
         "marker": {
          "color": "rgb(0,116,217)"
         },
         "mode": "lines",
         "type": "scatter",
         "x": [
          0,
          1.2379978886082266,
          1.2379978886082266,
          1.1894321190335007
         ],
         "xaxis": "x",
         "y": [
          -8645,
          -8645,
          -8660,
          -8660
         ],
         "yaxis": "y"
        },
        {
         "hoverinfo": "text",
         "marker": {
          "color": "rgb(0,116,217)"
         },
         "mode": "lines",
         "type": "scatter",
         "x": [
          0,
          1.2214015401692344,
          1.2214015401692344,
          0
         ],
         "xaxis": "x",
         "y": [
          -8675,
          -8675,
          -8685,
          -8685
         ],
         "yaxis": "y"
        },
        {
         "hoverinfo": "text",
         "marker": {
          "color": "rgb(0,116,217)"
         },
         "mode": "lines",
         "type": "scatter",
         "x": [
          1.2379978886082266,
          1.322852823288573,
          1.322852823288573,
          1.2214015401692344
         ],
         "xaxis": "x",
         "y": [
          -8652.5,
          -8652.5,
          -8680,
          -8680
         ],
         "yaxis": "y"
        },
        {
         "hoverinfo": "text",
         "marker": {
          "color": "rgb(0,116,217)"
         },
         "mode": "lines",
         "type": "scatter",
         "x": [
          1.1934417740457894,
          1.4236600682348217,
          1.4236600682348217,
          1.322852823288573
         ],
         "xaxis": "x",
         "y": [
          -8630,
          -8630,
          -8666.25,
          -8666.25
         ],
         "yaxis": "y"
        },
        {
         "hoverinfo": "text",
         "marker": {
          "color": "rgb(0,116,217)"
         },
         "mode": "lines",
         "type": "scatter",
         "x": [
          1.7987736312024922,
          2.1484628755566173,
          2.1484628755566173,
          1.4236600682348217
         ],
         "xaxis": "x",
         "y": [
          -8575,
          -8575,
          -8648.125,
          -8648.125
         ],
         "yaxis": "y"
        },
        {
         "hoverinfo": "text",
         "marker": {
          "color": "rgb(0,116,217)"
         },
         "mode": "lines",
         "type": "scatter",
         "x": [
          2.2430673854676293,
          2.922894199870644,
          2.922894199870644,
          2.1484628755566173
         ],
         "xaxis": "x",
         "y": [
          -8285.46875,
          -8285.46875,
          -8611.5625,
          -8611.5625
         ],
         "yaxis": "y"
        },
        {
         "hoverinfo": "text",
         "marker": {
          "color": "rgb(0,116,217)"
         },
         "mode": "lines",
         "type": "scatter",
         "x": [
          3.3329088106587146,
          3.938168927355603,
          3.938168927355603,
          2.922894199870644
         ],
         "xaxis": "x",
         "y": [
          -7647.36328125,
          -7647.36328125,
          -8448.515625,
          -8448.515625
         ],
         "yaxis": "y"
        },
        {
         "hoverinfo": "text",
         "marker": {
          "color": "rgb(0,116,217)"
         },
         "mode": "lines",
         "type": "scatter",
         "x": [
          0,
          1.2868849476711057,
          1.2868849476711057,
          0
         ],
         "xaxis": "x",
         "y": [
          -8705,
          -8705,
          -8715,
          -8715
         ],
         "yaxis": "y"
        },
        {
         "hoverinfo": "text",
         "marker": {
          "color": "rgb(0,116,217)"
         },
         "mode": "lines",
         "type": "scatter",
         "x": [
          1.2868849476711057,
          1.3216043816708671,
          1.3216043816708671,
          0
         ],
         "xaxis": "x",
         "y": [
          -8710,
          -8710,
          -8725,
          -8725
         ],
         "yaxis": "y"
        },
        {
         "hoverinfo": "text",
         "marker": {
          "color": "rgb(0,116,217)"
         },
         "mode": "lines",
         "type": "scatter",
         "x": [
          0,
          1.3496010727676548,
          1.3496010727676548,
          1.3216043816708671
         ],
         "xaxis": "x",
         "y": [
          -8695,
          -8695,
          -8717.5,
          -8717.5
         ],
         "yaxis": "y"
        },
        {
         "hoverinfo": "text",
         "marker": {
          "color": "rgb(0,116,217)"
         },
         "mode": "lines",
         "type": "scatter",
         "x": [
          0,
          1.3482576293074338,
          1.3482576293074338,
          0
         ],
         "xaxis": "x",
         "y": [
          -8735,
          -8735,
          -8745,
          -8745
         ],
         "yaxis": "y"
        },
        {
         "hoverinfo": "text",
         "marker": {
          "color": "rgb(0,116,217)"
         },
         "mode": "lines",
         "type": "scatter",
         "x": [
          0,
          1.2855519488566736,
          1.2855519488566736,
          0
         ],
         "xaxis": "x",
         "y": [
          -8755,
          -8755,
          -8765,
          -8765
         ],
         "yaxis": "y"
        },
        {
         "hoverinfo": "text",
         "marker": {
          "color": "rgb(0,116,217)"
         },
         "mode": "lines",
         "type": "scatter",
         "x": [
          1.3482576293074338,
          1.4074086094753748,
          1.4074086094753748,
          1.2855519488566736
         ],
         "xaxis": "x",
         "y": [
          -8740,
          -8740,
          -8760,
          -8760
         ],
         "yaxis": "y"
        },
        {
         "hoverinfo": "text",
         "marker": {
          "color": "rgb(0,116,217)"
         },
         "mode": "lines",
         "type": "scatter",
         "x": [
          0,
          1.3596763387141748,
          1.3596763387141748,
          0
         ],
         "xaxis": "x",
         "y": [
          -8775,
          -8775,
          -8785,
          -8785
         ],
         "yaxis": "y"
        },
        {
         "hoverinfo": "text",
         "marker": {
          "color": "rgb(0,116,217)"
         },
         "mode": "lines",
         "type": "scatter",
         "x": [
          1.4074086094753748,
          1.4258706622645663,
          1.4258706622645663,
          1.3596763387141748
         ],
         "xaxis": "x",
         "y": [
          -8750,
          -8750,
          -8780,
          -8780
         ],
         "yaxis": "y"
        },
        {
         "hoverinfo": "text",
         "marker": {
          "color": "rgb(0,116,217)"
         },
         "mode": "lines",
         "type": "scatter",
         "x": [
          1.3496010727676548,
          1.4912817078778684,
          1.4912817078778684,
          1.4258706622645663
         ],
         "xaxis": "x",
         "y": [
          -8706.25,
          -8706.25,
          -8765,
          -8765
         ],
         "yaxis": "y"
        },
        {
         "hoverinfo": "text",
         "marker": {
          "color": "rgb(0,116,217)"
         },
         "mode": "lines",
         "type": "scatter",
         "x": [
          0,
          1.2180046899695702,
          1.2180046899695702,
          0
         ],
         "xaxis": "x",
         "y": [
          -8795,
          -8795,
          -8805,
          -8805
         ],
         "yaxis": "y"
        },
        {
         "hoverinfo": "text",
         "marker": {
          "color": "rgb(0,116,217)"
         },
         "mode": "lines",
         "type": "scatter",
         "x": [
          1.4912817078778684,
          1.5165382234844689,
          1.5165382234844689,
          1.2180046899695702
         ],
         "xaxis": "x",
         "y": [
          -8735.625,
          -8735.625,
          -8800,
          -8800
         ],
         "yaxis": "y"
        },
        {
         "hoverinfo": "text",
         "marker": {
          "color": "rgb(0,116,217)"
         },
         "mode": "lines",
         "type": "scatter",
         "x": [
          0,
          1.236774175384023,
          1.236774175384023,
          0
         ],
         "xaxis": "x",
         "y": [
          -8825,
          -8825,
          -8835,
          -8835
         ],
         "yaxis": "y"
        },
        {
         "hoverinfo": "text",
         "marker": {
          "color": "rgb(0,116,217)"
         },
         "mode": "lines",
         "type": "scatter",
         "x": [
          0,
          1.4541790716526017,
          1.4541790716526017,
          1.236774175384023
         ],
         "xaxis": "x",
         "y": [
          -8815,
          -8815,
          -8830,
          -8830
         ],
         "yaxis": "y"
        },
        {
         "hoverinfo": "text",
         "marker": {
          "color": "rgb(0,116,217)"
         },
         "mode": "lines",
         "type": "scatter",
         "x": [
          0,
          1.3631783191357616,
          1.3631783191357616,
          0
         ],
         "xaxis": "x",
         "y": [
          -8845,
          -8845,
          -8855,
          -8855
         ],
         "yaxis": "y"
        },
        {
         "hoverinfo": "text",
         "marker": {
          "color": "rgb(0,116,217)"
         },
         "mode": "lines",
         "type": "scatter",
         "x": [
          1.3631783191357616,
          1.3708185266907034,
          1.3708185266907034,
          0
         ],
         "xaxis": "x",
         "y": [
          -8850,
          -8850,
          -8865,
          -8865
         ],
         "yaxis": "y"
        },
        {
         "hoverinfo": "text",
         "marker": {
          "color": "rgb(0,116,217)"
         },
         "mode": "lines",
         "type": "scatter",
         "x": [
          0,
          1.3915148371022545,
          1.3915148371022545,
          0
         ],
         "xaxis": "x",
         "y": [
          -8885,
          -8885,
          -8895,
          -8895
         ],
         "yaxis": "y"
        },
        {
         "hoverinfo": "text",
         "marker": {
          "color": "rgb(0,116,217)"
         },
         "mode": "lines",
         "type": "scatter",
         "x": [
          0,
          1.4100636182059438,
          1.4100636182059438,
          1.3915148371022545
         ],
         "xaxis": "x",
         "y": [
          -8875,
          -8875,
          -8890,
          -8890
         ],
         "yaxis": "y"
        },
        {
         "hoverinfo": "text",
         "marker": {
          "color": "rgb(0,116,217)"
         },
         "mode": "lines",
         "type": "scatter",
         "x": [
          0,
          1.3772174341996648,
          1.3772174341996648,
          0
         ],
         "xaxis": "x",
         "y": [
          -8905,
          -8905,
          -8915,
          -8915
         ],
         "yaxis": "y"
        },
        {
         "hoverinfo": "text",
         "marker": {
          "color": "rgb(0,116,217)"
         },
         "mode": "lines",
         "type": "scatter",
         "x": [
          1.3772174341996648,
          1.4385554424559157,
          1.4385554424559157,
          0
         ],
         "xaxis": "x",
         "y": [
          -8910,
          -8910,
          -8925,
          -8925
         ],
         "yaxis": "y"
        },
        {
         "hoverinfo": "text",
         "marker": {
          "color": "rgb(0,116,217)"
         },
         "mode": "lines",
         "type": "scatter",
         "x": [
          1.4100636182059438,
          1.4696622266028605,
          1.4696622266028605,
          1.4385554424559157
         ],
         "xaxis": "x",
         "y": [
          -8882.5,
          -8882.5,
          -8917.5,
          -8917.5
         ],
         "yaxis": "y"
        },
        {
         "hoverinfo": "text",
         "marker": {
          "color": "rgb(0,116,217)"
         },
         "mode": "lines",
         "type": "scatter",
         "x": [
          1.3708185266907034,
          1.5348411074118702,
          1.5348411074118702,
          1.4696622266028605
         ],
         "xaxis": "x",
         "y": [
          -8857.5,
          -8857.5,
          -8900,
          -8900
         ],
         "yaxis": "y"
        },
        {
         "hoverinfo": "text",
         "marker": {
          "color": "rgb(0,116,217)"
         },
         "mode": "lines",
         "type": "scatter",
         "x": [
          1.4541790716526017,
          1.778743534317949,
          1.778743534317949,
          1.5348411074118702
         ],
         "xaxis": "x",
         "y": [
          -8822.5,
          -8822.5,
          -8878.75,
          -8878.75
         ],
         "yaxis": "y"
        },
        {
         "hoverinfo": "text",
         "marker": {
          "color": "rgb(0,116,217)"
         },
         "mode": "lines",
         "type": "scatter",
         "x": [
          1.5165382234844689,
          1.8306487882579858,
          1.8306487882579858,
          1.778743534317949
         ],
         "xaxis": "x",
         "y": [
          -8767.8125,
          -8767.8125,
          -8850.625,
          -8850.625
         ],
         "yaxis": "y"
        },
        {
         "hoverinfo": "text",
         "marker": {
          "color": "rgb(0,116,217)"
         },
         "mode": "lines",
         "type": "scatter",
         "x": [
          0,
          1.260210813715384,
          1.260210813715384,
          0
         ],
         "xaxis": "x",
         "y": [
          -8935,
          -8935,
          -8945,
          -8945
         ],
         "yaxis": "y"
        },
        {
         "hoverinfo": "text",
         "marker": {
          "color": "rgb(0,116,217)"
         },
         "mode": "lines",
         "type": "scatter",
         "x": [
          0,
          1.3122931759081193,
          1.3122931759081193,
          0
         ],
         "xaxis": "x",
         "y": [
          -8965,
          -8965,
          -8975,
          -8975
         ],
         "yaxis": "y"
        },
        {
         "hoverinfo": "text",
         "marker": {
          "color": "rgb(0,116,217)"
         },
         "mode": "lines",
         "type": "scatter",
         "x": [
          0,
          1.3270191154337876,
          1.3270191154337876,
          1.3122931759081193
         ],
         "xaxis": "x",
         "y": [
          -8955,
          -8955,
          -8970,
          -8970
         ],
         "yaxis": "y"
        },
        {
         "hoverinfo": "text",
         "marker": {
          "color": "rgb(0,116,217)"
         },
         "mode": "lines",
         "type": "scatter",
         "x": [
          0,
          1.3117553347881732,
          1.3117553347881732,
          0
         ],
         "xaxis": "x",
         "y": [
          -9005,
          -9005,
          -9015,
          -9015
         ],
         "yaxis": "y"
        },
        {
         "hoverinfo": "text",
         "marker": {
          "color": "rgb(0,116,217)"
         },
         "mode": "lines",
         "type": "scatter",
         "x": [
          0,
          1.3455256293540545,
          1.3455256293540545,
          1.3117553347881732
         ],
         "xaxis": "x",
         "y": [
          -8995,
          -8995,
          -9010,
          -9010
         ],
         "yaxis": "y"
        },
        {
         "hoverinfo": "text",
         "marker": {
          "color": "rgb(0,116,217)"
         },
         "mode": "lines",
         "type": "scatter",
         "x": [
          0,
          1.3584901910230276,
          1.3584901910230276,
          1.3455256293540545
         ],
         "xaxis": "x",
         "y": [
          -8985,
          -8985,
          -9002.5,
          -9002.5
         ],
         "yaxis": "y"
        },
        {
         "hoverinfo": "text",
         "marker": {
          "color": "rgb(0,116,217)"
         },
         "mode": "lines",
         "type": "scatter",
         "x": [
          1.3584901910230276,
          1.3798347662925257,
          1.3798347662925257,
          0
         ],
         "xaxis": "x",
         "y": [
          -8993.75,
          -8993.75,
          -9025,
          -9025
         ],
         "yaxis": "y"
        },
        {
         "hoverinfo": "text",
         "marker": {
          "color": "rgb(0,116,217)"
         },
         "mode": "lines",
         "type": "scatter",
         "x": [
          1.3270191154337876,
          1.4042363625955587,
          1.4042363625955587,
          1.3798347662925257
         ],
         "xaxis": "x",
         "y": [
          -8962.5,
          -8962.5,
          -9009.375,
          -9009.375
         ],
         "yaxis": "y"
        },
        {
         "hoverinfo": "text",
         "marker": {
          "color": "rgb(0,116,217)"
         },
         "mode": "lines",
         "type": "scatter",
         "x": [
          1.260210813715384,
          1.4481817927856004,
          1.4481817927856004,
          1.4042363625955587
         ],
         "xaxis": "x",
         "y": [
          -8940,
          -8940,
          -8985.9375,
          -8985.9375
         ],
         "yaxis": "y"
        },
        {
         "hoverinfo": "text",
         "marker": {
          "color": "rgb(0,116,217)"
         },
         "mode": "lines",
         "type": "scatter",
         "x": [
          0,
          1.35554569358836,
          1.35554569358836,
          0
         ],
         "xaxis": "x",
         "y": [
          -9035,
          -9035,
          -9045,
          -9045
         ],
         "yaxis": "y"
        },
        {
         "hoverinfo": "text",
         "marker": {
          "color": "rgb(0,116,217)"
         },
         "mode": "lines",
         "type": "scatter",
         "x": [
          0,
          1.3381045188247527,
          1.3381045188247527,
          0
         ],
         "xaxis": "x",
         "y": [
          -9055,
          -9055,
          -9065,
          -9065
         ],
         "yaxis": "y"
        },
        {
         "hoverinfo": "text",
         "marker": {
          "color": "rgb(0,116,217)"
         },
         "mode": "lines",
         "type": "scatter",
         "x": [
          1.35554569358836,
          1.3560476093529648,
          1.3560476093529648,
          1.3381045188247527
         ],
         "xaxis": "x",
         "y": [
          -9040,
          -9040,
          -9060,
          -9060
         ],
         "yaxis": "y"
        },
        {
         "hoverinfo": "text",
         "marker": {
          "color": "rgb(0,116,217)"
         },
         "mode": "lines",
         "type": "scatter",
         "x": [
          0,
          1.2908341833112458,
          1.2908341833112458,
          0
         ],
         "xaxis": "x",
         "y": [
          -9075,
          -9075,
          -9085,
          -9085
         ],
         "yaxis": "y"
        },
        {
         "hoverinfo": "text",
         "marker": {
          "color": "rgb(0,116,217)"
         },
         "mode": "lines",
         "type": "scatter",
         "x": [
          1.3560476093529648,
          1.4539663813848631,
          1.4539663813848631,
          1.2908341833112458
         ],
         "xaxis": "x",
         "y": [
          -9050,
          -9050,
          -9080,
          -9080
         ],
         "yaxis": "y"
        },
        {
         "hoverinfo": "text",
         "marker": {
          "color": "rgb(0,116,217)"
         },
         "mode": "lines",
         "type": "scatter",
         "x": [
          0,
          1.1026019520463164,
          1.1026019520463164,
          0
         ],
         "xaxis": "x",
         "y": [
          -9095,
          -9095,
          -9105,
          -9105
         ],
         "yaxis": "y"
        },
        {
         "hoverinfo": "text",
         "marker": {
          "color": "rgb(0,116,217)"
         },
         "mode": "lines",
         "type": "scatter",
         "x": [
          0,
          1.3108499982059503,
          1.3108499982059503,
          0
         ],
         "xaxis": "x",
         "y": [
          -9115,
          -9115,
          -9125,
          -9125
         ],
         "yaxis": "y"
        },
        {
         "hoverinfo": "text",
         "marker": {
          "color": "rgb(0,116,217)"
         },
         "mode": "lines",
         "type": "scatter",
         "x": [
          1.1026019520463164,
          1.481318265189385,
          1.481318265189385,
          1.3108499982059503
         ],
         "xaxis": "x",
         "y": [
          -9100,
          -9100,
          -9120,
          -9120
         ],
         "yaxis": "y"
        },
        {
         "hoverinfo": "text",
         "marker": {
          "color": "rgb(0,116,217)"
         },
         "mode": "lines",
         "type": "scatter",
         "x": [
          1.4539663813848631,
          1.5309717689550955,
          1.5309717689550955,
          1.481318265189385
         ],
         "xaxis": "x",
         "y": [
          -9065,
          -9065,
          -9110,
          -9110
         ],
         "yaxis": "y"
        },
        {
         "hoverinfo": "text",
         "marker": {
          "color": "rgb(0,116,217)"
         },
         "mode": "lines",
         "type": "scatter",
         "x": [
          0,
          1.293393414622301,
          1.293393414622301,
          0
         ],
         "xaxis": "x",
         "y": [
          -9135,
          -9135,
          -9145,
          -9145
         ],
         "yaxis": "y"
        },
        {
         "hoverinfo": "text",
         "marker": {
          "color": "rgb(0,116,217)"
         },
         "mode": "lines",
         "type": "scatter",
         "x": [
          1.293393414622301,
          1.377008540565824,
          1.377008540565824,
          0
         ],
         "xaxis": "x",
         "y": [
          -9140,
          -9140,
          -9155,
          -9155
         ],
         "yaxis": "y"
        },
        {
         "hoverinfo": "text",
         "marker": {
          "color": "rgb(0,116,217)"
         },
         "mode": "lines",
         "type": "scatter",
         "x": [
          0,
          1.3310312819505492,
          1.3310312819505492,
          0
         ],
         "xaxis": "x",
         "y": [
          -9165,
          -9165,
          -9175,
          -9175
         ],
         "yaxis": "y"
        },
        {
         "hoverinfo": "text",
         "marker": {
          "color": "rgb(0,116,217)"
         },
         "mode": "lines",
         "type": "scatter",
         "x": [
          1.3310312819505492,
          1.361946127793823,
          1.361946127793823,
          0
         ],
         "xaxis": "x",
         "y": [
          -9170,
          -9170,
          -9185,
          -9185
         ],
         "yaxis": "y"
        },
        {
         "hoverinfo": "text",
         "marker": {
          "color": "rgb(0,116,217)"
         },
         "mode": "lines",
         "type": "scatter",
         "x": [
          1.377008540565824,
          1.4745635134576085,
          1.4745635134576085,
          1.361946127793823
         ],
         "xaxis": "x",
         "y": [
          -9147.5,
          -9147.5,
          -9177.5,
          -9177.5
         ],
         "yaxis": "y"
        },
        {
         "hoverinfo": "text",
         "marker": {
          "color": "rgb(0,116,217)"
         },
         "mode": "lines",
         "type": "scatter",
         "x": [
          0,
          1.3104271538820593,
          1.3104271538820593,
          0
         ],
         "xaxis": "x",
         "y": [
          -9205,
          -9205,
          -9215,
          -9215
         ],
         "yaxis": "y"
        },
        {
         "hoverinfo": "text",
         "marker": {
          "color": "rgb(0,116,217)"
         },
         "mode": "lines",
         "type": "scatter",
         "x": [
          0,
          1.3720380970946402,
          1.3720380970946402,
          1.3104271538820593
         ],
         "xaxis": "x",
         "y": [
          -9195,
          -9195,
          -9210,
          -9210
         ],
         "yaxis": "y"
        },
        {
         "hoverinfo": "text",
         "marker": {
          "color": "rgb(0,116,217)"
         },
         "mode": "lines",
         "type": "scatter",
         "x": [
          0,
          1.3283400771191645,
          1.3283400771191645,
          0
         ],
         "xaxis": "x",
         "y": [
          -9235,
          -9235,
          -9245,
          -9245
         ],
         "yaxis": "y"
        },
        {
         "hoverinfo": "text",
         "marker": {
          "color": "rgb(0,116,217)"
         },
         "mode": "lines",
         "type": "scatter",
         "x": [
          0,
          1.3556863958197405,
          1.3556863958197405,
          1.3283400771191645
         ],
         "xaxis": "x",
         "y": [
          -9225,
          -9225,
          -9240,
          -9240
         ],
         "yaxis": "y"
        },
        {
         "hoverinfo": "text",
         "marker": {
          "color": "rgb(0,116,217)"
         },
         "mode": "lines",
         "type": "scatter",
         "x": [
          1.3720380970946402,
          1.4168375137157982,
          1.4168375137157982,
          1.3556863958197405
         ],
         "xaxis": "x",
         "y": [
          -9202.5,
          -9202.5,
          -9232.5,
          -9232.5
         ],
         "yaxis": "y"
        },
        {
         "hoverinfo": "text",
         "marker": {
          "color": "rgb(0,116,217)"
         },
         "mode": "lines",
         "type": "scatter",
         "x": [
          0,
          1.2731373478146664,
          1.2731373478146664,
          0
         ],
         "xaxis": "x",
         "y": [
          -9255,
          -9255,
          -9265,
          -9265
         ],
         "yaxis": "y"
        },
        {
         "hoverinfo": "text",
         "marker": {
          "color": "rgb(0,116,217)"
         },
         "mode": "lines",
         "type": "scatter",
         "x": [
          1.4168375137157982,
          1.5462040895746991,
          1.5462040895746991,
          1.2731373478146664
         ],
         "xaxis": "x",
         "y": [
          -9217.5,
          -9217.5,
          -9260,
          -9260
         ],
         "yaxis": "y"
        },
        {
         "hoverinfo": "text",
         "marker": {
          "color": "rgb(0,116,217)"
         },
         "mode": "lines",
         "type": "scatter",
         "x": [
          1.4745635134576085,
          1.612912107624157,
          1.612912107624157,
          1.5462040895746991
         ],
         "xaxis": "x",
         "y": [
          -9162.5,
          -9162.5,
          -9238.75,
          -9238.75
         ],
         "yaxis": "y"
        },
        {
         "hoverinfo": "text",
         "marker": {
          "color": "rgb(0,116,217)"
         },
         "mode": "lines",
         "type": "scatter",
         "x": [
          1.5309717689550955,
          1.8599350650697644,
          1.8599350650697644,
          1.612912107624157
         ],
         "xaxis": "x",
         "y": [
          -9087.5,
          -9087.5,
          -9200.625,
          -9200.625
         ],
         "yaxis": "y"
        },
        {
         "hoverinfo": "text",
         "marker": {
          "color": "rgb(0,116,217)"
         },
         "mode": "lines",
         "type": "scatter",
         "x": [
          1.4481817927856004,
          1.9012731100541933,
          1.9012731100541933,
          1.8599350650697644
         ],
         "xaxis": "x",
         "y": [
          -8962.96875,
          -8962.96875,
          -9144.0625,
          -9144.0625
         ],
         "yaxis": "y"
        },
        {
         "hoverinfo": "text",
         "marker": {
          "color": "rgb(0,116,217)"
         },
         "mode": "lines",
         "type": "scatter",
         "x": [
          0,
          1.2325337758379995,
          1.2325337758379995,
          0
         ],
         "xaxis": "x",
         "y": [
          -9285,
          -9285,
          -9295,
          -9295
         ],
         "yaxis": "y"
        },
        {
         "hoverinfo": "text",
         "marker": {
          "color": "rgb(0,116,217)"
         },
         "mode": "lines",
         "type": "scatter",
         "x": [
          0,
          1.2751003930797136,
          1.2751003930797136,
          1.2325337758379995
         ],
         "xaxis": "x",
         "y": [
          -9275,
          -9275,
          -9290,
          -9290
         ],
         "yaxis": "y"
        },
        {
         "hoverinfo": "text",
         "marker": {
          "color": "rgb(0,116,217)"
         },
         "mode": "lines",
         "type": "scatter",
         "x": [
          0,
          1.1881195584196236,
          1.1881195584196236,
          0
         ],
         "xaxis": "x",
         "y": [
          -9305,
          -9305,
          -9315,
          -9315
         ],
         "yaxis": "y"
        },
        {
         "hoverinfo": "text",
         "marker": {
          "color": "rgb(0,116,217)"
         },
         "mode": "lines",
         "type": "scatter",
         "x": [
          1.1881195584196236,
          1.3353341774123284,
          1.3353341774123284,
          0
         ],
         "xaxis": "x",
         "y": [
          -9310,
          -9310,
          -9325,
          -9325
         ],
         "yaxis": "y"
        },
        {
         "hoverinfo": "text",
         "marker": {
          "color": "rgb(0,116,217)"
         },
         "mode": "lines",
         "type": "scatter",
         "x": [
          1.2751003930797136,
          1.492855963795774,
          1.492855963795774,
          1.3353341774123284
         ],
         "xaxis": "x",
         "y": [
          -9282.5,
          -9282.5,
          -9317.5,
          -9317.5
         ],
         "yaxis": "y"
        },
        {
         "hoverinfo": "text",
         "marker": {
          "color": "rgb(0,116,217)"
         },
         "mode": "lines",
         "type": "scatter",
         "x": [
          1.9012731100541933,
          2.208572034420843,
          2.208572034420843,
          1.492855963795774
         ],
         "xaxis": "x",
         "y": [
          -9053.515625,
          -9053.515625,
          -9300,
          -9300
         ],
         "yaxis": "y"
        },
        {
         "hoverinfo": "text",
         "marker": {
          "color": "rgb(0,116,217)"
         },
         "mode": "lines",
         "type": "scatter",
         "x": [
          0,
          1.3011772140072286,
          1.3011772140072286,
          0
         ],
         "xaxis": "x",
         "y": [
          -9345,
          -9345,
          -9355,
          -9355
         ],
         "yaxis": "y"
        },
        {
         "hoverinfo": "text",
         "marker": {
          "color": "rgb(0,116,217)"
         },
         "mode": "lines",
         "type": "scatter",
         "x": [
          0,
          1.46136326661522,
          1.46136326661522,
          1.3011772140072286
         ],
         "xaxis": "x",
         "y": [
          -9335,
          -9335,
          -9350,
          -9350
         ],
         "yaxis": "y"
        },
        {
         "hoverinfo": "text",
         "marker": {
          "color": "rgb(0,116,217)"
         },
         "mode": "lines",
         "type": "scatter",
         "x": [
          0,
          1.3589617912336585,
          1.3589617912336585,
          0
         ],
         "xaxis": "x",
         "y": [
          -9365,
          -9365,
          -9375,
          -9375
         ],
         "yaxis": "y"
        },
        {
         "hoverinfo": "text",
         "marker": {
          "color": "rgb(0,116,217)"
         },
         "mode": "lines",
         "type": "scatter",
         "x": [
          0,
          1.374356259942536,
          1.374356259942536,
          0
         ],
         "xaxis": "x",
         "y": [
          -9385,
          -9385,
          -9395,
          -9395
         ],
         "yaxis": "y"
        },
        {
         "hoverinfo": "text",
         "marker": {
          "color": "rgb(0,116,217)"
         },
         "mode": "lines",
         "type": "scatter",
         "x": [
          1.3589617912336585,
          1.4477134554296893,
          1.4477134554296893,
          1.374356259942536
         ],
         "xaxis": "x",
         "y": [
          -9370,
          -9370,
          -9390,
          -9390
         ],
         "yaxis": "y"
        },
        {
         "hoverinfo": "text",
         "marker": {
          "color": "rgb(0,116,217)"
         },
         "mode": "lines",
         "type": "scatter",
         "x": [
          1.46136326661522,
          1.6595290008834724,
          1.6595290008834724,
          1.4477134554296893
         ],
         "xaxis": "x",
         "y": [
          -9342.5,
          -9342.5,
          -9380,
          -9380
         ],
         "yaxis": "y"
        },
        {
         "hoverinfo": "text",
         "marker": {
          "color": "rgb(0,116,217)"
         },
         "mode": "lines",
         "type": "scatter",
         "x": [
          0,
          1.3031307704013675,
          1.3031307704013675,
          0
         ],
         "xaxis": "x",
         "y": [
          -9415,
          -9415,
          -9425,
          -9425
         ],
         "yaxis": "y"
        },
        {
         "hoverinfo": "text",
         "marker": {
          "color": "rgb(0,116,217)"
         },
         "mode": "lines",
         "type": "scatter",
         "x": [
          0,
          1.3250784359179344,
          1.3250784359179344,
          1.3031307704013675
         ],
         "xaxis": "x",
         "y": [
          -9405,
          -9405,
          -9420,
          -9420
         ],
         "yaxis": "y"
        },
        {
         "hoverinfo": "text",
         "marker": {
          "color": "rgb(0,116,217)"
         },
         "mode": "lines",
         "type": "scatter",
         "x": [
          0,
          1.2835226695304067,
          1.2835226695304067,
          0
         ],
         "xaxis": "x",
         "y": [
          -9435,
          -9435,
          -9445,
          -9445
         ],
         "yaxis": "y"
        },
        {
         "hoverinfo": "text",
         "marker": {
          "color": "rgb(0,116,217)"
         },
         "mode": "lines",
         "type": "scatter",
         "x": [
          1.3250784359179344,
          1.5574701684441046,
          1.5574701684441046,
          1.2835226695304067
         ],
         "xaxis": "x",
         "y": [
          -9412.5,
          -9412.5,
          -9440,
          -9440
         ],
         "yaxis": "y"
        },
        {
         "hoverinfo": "text",
         "marker": {
          "color": "rgb(0,116,217)"
         },
         "mode": "lines",
         "type": "scatter",
         "x": [
          1.6595290008834724,
          1.8490666885155485,
          1.8490666885155485,
          1.5574701684441046
         ],
         "xaxis": "x",
         "y": [
          -9361.25,
          -9361.25,
          -9426.25,
          -9426.25
         ],
         "yaxis": "y"
        },
        {
         "hoverinfo": "text",
         "marker": {
          "color": "rgb(0,116,217)"
         },
         "mode": "lines",
         "type": "scatter",
         "x": [
          0,
          1.361911618232826,
          1.361911618232826,
          0
         ],
         "xaxis": "x",
         "y": [
          -9455,
          -9455,
          -9465,
          -9465
         ],
         "yaxis": "y"
        },
        {
         "hoverinfo": "text",
         "marker": {
          "color": "rgb(0,116,217)"
         },
         "mode": "lines",
         "type": "scatter",
         "x": [
          0,
          1.381233699730406,
          1.381233699730406,
          0
         ],
         "xaxis": "x",
         "y": [
          -9475,
          -9475,
          -9485,
          -9485
         ],
         "yaxis": "y"
        },
        {
         "hoverinfo": "text",
         "marker": {
          "color": "rgb(0,116,217)"
         },
         "mode": "lines",
         "type": "scatter",
         "x": [
          1.361911618232826,
          1.4517106701211568,
          1.4517106701211568,
          1.381233699730406
         ],
         "xaxis": "x",
         "y": [
          -9460,
          -9460,
          -9480,
          -9480
         ],
         "yaxis": "y"
        },
        {
         "hoverinfo": "text",
         "marker": {
          "color": "rgb(0,116,217)"
         },
         "mode": "lines",
         "type": "scatter",
         "x": [
          0,
          1.3130286815557235,
          1.3130286815557235,
          0
         ],
         "xaxis": "x",
         "y": [
          -9495,
          -9495,
          -9505,
          -9505
         ],
         "yaxis": "y"
        },
        {
         "hoverinfo": "text",
         "marker": {
          "color": "rgb(0,116,217)"
         },
         "mode": "lines",
         "type": "scatter",
         "x": [
          1.4517106701211568,
          1.5138895473274887,
          1.5138895473274887,
          1.3130286815557235
         ],
         "xaxis": "x",
         "y": [
          -9470,
          -9470,
          -9500,
          -9500
         ],
         "yaxis": "y"
        },
        {
         "hoverinfo": "text",
         "marker": {
          "color": "rgb(0,116,217)"
         },
         "mode": "lines",
         "type": "scatter",
         "x": [
          0,
          1.3745168800561085,
          1.3745168800561085,
          0
         ],
         "xaxis": "x",
         "y": [
          -9525,
          -9525,
          -9535,
          -9535
         ],
         "yaxis": "y"
        },
        {
         "hoverinfo": "text",
         "marker": {
          "color": "rgb(0,116,217)"
         },
         "mode": "lines",
         "type": "scatter",
         "x": [
          0,
          1.4004507114843874,
          1.4004507114843874,
          1.3745168800561085
         ],
         "xaxis": "x",
         "y": [
          -9515,
          -9515,
          -9530,
          -9530
         ],
         "yaxis": "y"
        },
        {
         "hoverinfo": "text",
         "marker": {
          "color": "rgb(0,116,217)"
         },
         "mode": "lines",
         "type": "scatter",
         "x": [
          0,
          1.3295774916928143,
          1.3295774916928143,
          0
         ],
         "xaxis": "x",
         "y": [
          -9545,
          -9545,
          -9555,
          -9555
         ],
         "yaxis": "y"
        },
        {
         "hoverinfo": "text",
         "marker": {
          "color": "rgb(0,116,217)"
         },
         "mode": "lines",
         "type": "scatter",
         "x": [
          1.3295774916928143,
          1.4094574336144978,
          1.4094574336144978,
          0
         ],
         "xaxis": "x",
         "y": [
          -9550,
          -9550,
          -9565,
          -9565
         ],
         "yaxis": "y"
        },
        {
         "hoverinfo": "text",
         "marker": {
          "color": "rgb(0,116,217)"
         },
         "mode": "lines",
         "type": "scatter",
         "x": [
          1.4004507114843874,
          1.4479546027765668,
          1.4479546027765668,
          1.4094574336144978
         ],
         "xaxis": "x",
         "y": [
          -9522.5,
          -9522.5,
          -9557.5,
          -9557.5
         ],
         "yaxis": "y"
        },
        {
         "hoverinfo": "text",
         "marker": {
          "color": "rgb(0,116,217)"
         },
         "mode": "lines",
         "type": "scatter",
         "x": [
          1.5138895473274887,
          1.6918348676334665,
          1.6918348676334665,
          1.4479546027765668
         ],
         "xaxis": "x",
         "y": [
          -9485,
          -9485,
          -9540,
          -9540
         ],
         "yaxis": "y"
        },
        {
         "hoverinfo": "text",
         "marker": {
          "color": "rgb(0,116,217)"
         },
         "mode": "lines",
         "type": "scatter",
         "x": [
          1.8490666885155485,
          1.894903525255401,
          1.894903525255401,
          1.6918348676334665
         ],
         "xaxis": "x",
         "y": [
          -9393.75,
          -9393.75,
          -9512.5,
          -9512.5
         ],
         "yaxis": "y"
        },
        {
         "hoverinfo": "text",
         "marker": {
          "color": "rgb(0,116,217)"
         },
         "mode": "lines",
         "type": "scatter",
         "x": [
          2.208572034420843,
          2.4869749200398203,
          2.4869749200398203,
          1.894903525255401
         ],
         "xaxis": "x",
         "y": [
          -9176.7578125,
          -9176.7578125,
          -9453.125,
          -9453.125
         ],
         "yaxis": "y"
        },
        {
         "hoverinfo": "text",
         "marker": {
          "color": "rgb(0,116,217)"
         },
         "mode": "lines",
         "type": "scatter",
         "x": [
          1.8306487882579858,
          2.8892289565013005,
          2.8892289565013005,
          2.4869749200398203
         ],
         "xaxis": "x",
         "y": [
          -8809.21875,
          -8809.21875,
          -9314.94140625,
          -9314.94140625
         ],
         "yaxis": "y"
        },
        {
         "hoverinfo": "text",
         "marker": {
          "color": "rgb(0,116,217)"
         },
         "mode": "lines",
         "type": "scatter",
         "x": [
          0,
          1.3699628406249154,
          1.3699628406249154,
          0
         ],
         "xaxis": "x",
         "y": [
          -9575,
          -9575,
          -9585,
          -9585
         ],
         "yaxis": "y"
        },
        {
         "hoverinfo": "text",
         "marker": {
          "color": "rgb(0,116,217)"
         },
         "mode": "lines",
         "type": "scatter",
         "x": [
          0,
          1.3489204616518333,
          1.3489204616518333,
          0
         ],
         "xaxis": "x",
         "y": [
          -9605,
          -9605,
          -9615,
          -9615
         ],
         "yaxis": "y"
        },
        {
         "hoverinfo": "text",
         "marker": {
          "color": "rgb(0,116,217)"
         },
         "mode": "lines",
         "type": "scatter",
         "x": [
          0,
          1.3724157179793217,
          1.3724157179793217,
          1.3489204616518333
         ],
         "xaxis": "x",
         "y": [
          -9595,
          -9595,
          -9610,
          -9610
         ],
         "yaxis": "y"
        },
        {
         "hoverinfo": "text",
         "marker": {
          "color": "rgb(0,116,217)"
         },
         "mode": "lines",
         "type": "scatter",
         "x": [
          0,
          1.3816875566979845,
          1.3816875566979845,
          0
         ],
         "xaxis": "x",
         "y": [
          -9625,
          -9625,
          -9635,
          -9635
         ],
         "yaxis": "y"
        },
        {
         "hoverinfo": "text",
         "marker": {
          "color": "rgb(0,116,217)"
         },
         "mode": "lines",
         "type": "scatter",
         "x": [
          1.3724157179793217,
          1.4089617014999054,
          1.4089617014999054,
          1.3816875566979845
         ],
         "xaxis": "x",
         "y": [
          -9602.5,
          -9602.5,
          -9630,
          -9630
         ],
         "yaxis": "y"
        },
        {
         "hoverinfo": "text",
         "marker": {
          "color": "rgb(0,116,217)"
         },
         "mode": "lines",
         "type": "scatter",
         "x": [
          0,
          1.2053259839026147,
          1.2053259839026147,
          0
         ],
         "xaxis": "x",
         "y": [
          -9655,
          -9655,
          -9665,
          -9665
         ],
         "yaxis": "y"
        },
        {
         "hoverinfo": "text",
         "marker": {
          "color": "rgb(0,116,217)"
         },
         "mode": "lines",
         "type": "scatter",
         "x": [
          0,
          1.3344526181191065,
          1.3344526181191065,
          1.2053259839026147
         ],
         "xaxis": "x",
         "y": [
          -9645,
          -9645,
          -9660,
          -9660
         ],
         "yaxis": "y"
        },
        {
         "hoverinfo": "text",
         "marker": {
          "color": "rgb(0,116,217)"
         },
         "mode": "lines",
         "type": "scatter",
         "x": [
          1.4089617014999054,
          1.5385380550325005,
          1.5385380550325005,
          1.3344526181191065
         ],
         "xaxis": "x",
         "y": [
          -9616.25,
          -9616.25,
          -9652.5,
          -9652.5
         ],
         "yaxis": "y"
        },
        {
         "hoverinfo": "text",
         "marker": {
          "color": "rgb(0,116,217)"
         },
         "mode": "lines",
         "type": "scatter",
         "x": [
          1.3699628406249154,
          1.892754862050483,
          1.892754862050483,
          1.5385380550325005
         ],
         "xaxis": "x",
         "y": [
          -9580,
          -9580,
          -9634.375,
          -9634.375
         ],
         "yaxis": "y"
        },
        {
         "hoverinfo": "text",
         "marker": {
          "color": "rgb(0,116,217)"
         },
         "mode": "lines",
         "type": "scatter",
         "x": [
          0,
          1.3804011814483972,
          1.3804011814483972,
          0
         ],
         "xaxis": "x",
         "y": [
          -9675,
          -9675,
          -9685,
          -9685
         ],
         "yaxis": "y"
        },
        {
         "hoverinfo": "text",
         "marker": {
          "color": "rgb(0,116,217)"
         },
         "mode": "lines",
         "type": "scatter",
         "x": [
          0,
          1.3701343299354714,
          1.3701343299354714,
          0
         ],
         "xaxis": "x",
         "y": [
          -9695,
          -9695,
          -9705,
          -9705
         ],
         "yaxis": "y"
        },
        {
         "hoverinfo": "text",
         "marker": {
          "color": "rgb(0,116,217)"
         },
         "mode": "lines",
         "type": "scatter",
         "x": [
          1.3701343299354714,
          1.3858157351479787,
          1.3858157351479787,
          0
         ],
         "xaxis": "x",
         "y": [
          -9700,
          -9700,
          -9715,
          -9715
         ],
         "yaxis": "y"
        },
        {
         "hoverinfo": "text",
         "marker": {
          "color": "rgb(0,116,217)"
         },
         "mode": "lines",
         "type": "scatter",
         "x": [
          1.3804011814483972,
          1.424755378322769,
          1.424755378322769,
          1.3858157351479787
         ],
         "xaxis": "x",
         "y": [
          -9680,
          -9680,
          -9707.5,
          -9707.5
         ],
         "yaxis": "y"
        },
        {
         "hoverinfo": "text",
         "marker": {
          "color": "rgb(0,116,217)"
         },
         "mode": "lines",
         "type": "scatter",
         "x": [
          0,
          1.36505361333449,
          1.36505361333449,
          0
         ],
         "xaxis": "x",
         "y": [
          -9725,
          -9725,
          -9735,
          -9735
         ],
         "yaxis": "y"
        },
        {
         "hoverinfo": "text",
         "marker": {
          "color": "rgb(0,116,217)"
         },
         "mode": "lines",
         "type": "scatter",
         "x": [
          0,
          1.3246313738343953,
          1.3246313738343953,
          0
         ],
         "xaxis": "x",
         "y": [
          -9745,
          -9745,
          -9755,
          -9755
         ],
         "yaxis": "y"
        },
        {
         "hoverinfo": "text",
         "marker": {
          "color": "rgb(0,116,217)"
         },
         "mode": "lines",
         "type": "scatter",
         "x": [
          0,
          1.3639907072720565,
          1.3639907072720565,
          0
         ],
         "xaxis": "x",
         "y": [
          -9765,
          -9765,
          -9775,
          -9775
         ],
         "yaxis": "y"
        },
        {
         "hoverinfo": "text",
         "marker": {
          "color": "rgb(0,116,217)"
         },
         "mode": "lines",
         "type": "scatter",
         "x": [
          1.3246313738343953,
          1.3830455580252774,
          1.3830455580252774,
          1.3639907072720565
         ],
         "xaxis": "x",
         "y": [
          -9750,
          -9750,
          -9770,
          -9770
         ],
         "yaxis": "y"
        },
        {
         "hoverinfo": "text",
         "marker": {
          "color": "rgb(0,116,217)"
         },
         "mode": "lines",
         "type": "scatter",
         "x": [
          1.36505361333449,
          1.4584346196883744,
          1.4584346196883744,
          1.3830455580252774
         ],
         "xaxis": "x",
         "y": [
          -9730,
          -9730,
          -9760,
          -9760
         ],
         "yaxis": "y"
        },
        {
         "hoverinfo": "text",
         "marker": {
          "color": "rgb(0,116,217)"
         },
         "mode": "lines",
         "type": "scatter",
         "x": [
          1.424755378322769,
          1.468515996840138,
          1.468515996840138,
          1.4584346196883744
         ],
         "xaxis": "x",
         "y": [
          -9693.75,
          -9693.75,
          -9745,
          -9745
         ],
         "yaxis": "y"
        },
        {
         "hoverinfo": "text",
         "marker": {
          "color": "rgb(0,116,217)"
         },
         "mode": "lines",
         "type": "scatter",
         "x": [
          0,
          1.3551006821548395,
          1.3551006821548395,
          0
         ],
         "xaxis": "x",
         "y": [
          -9785,
          -9785,
          -9795,
          -9795
         ],
         "yaxis": "y"
        },
        {
         "hoverinfo": "text",
         "marker": {
          "color": "rgb(0,116,217)"
         },
         "mode": "lines",
         "type": "scatter",
         "x": [
          1.3551006821548395,
          1.3987486582682878,
          1.3987486582682878,
          0
         ],
         "xaxis": "x",
         "y": [
          -9790,
          -9790,
          -9805,
          -9805
         ],
         "yaxis": "y"
        },
        {
         "hoverinfo": "text",
         "marker": {
          "color": "rgb(0,116,217)"
         },
         "mode": "lines",
         "type": "scatter",
         "x": [
          0,
          1.3184815181799616,
          1.3184815181799616,
          0
         ],
         "xaxis": "x",
         "y": [
          -9815,
          -9815,
          -9825,
          -9825
         ],
         "yaxis": "y"
        },
        {
         "hoverinfo": "text",
         "marker": {
          "color": "rgb(0,116,217)"
         },
         "mode": "lines",
         "type": "scatter",
         "x": [
          0,
          1.3468341945253521,
          1.3468341945253521,
          0
         ],
         "xaxis": "x",
         "y": [
          -9835,
          -9835,
          -9845,
          -9845
         ],
         "yaxis": "y"
        },
        {
         "hoverinfo": "text",
         "marker": {
          "color": "rgb(0,116,217)"
         },
         "mode": "lines",
         "type": "scatter",
         "x": [
          0,
          1.3899774601568102,
          1.3899774601568102,
          0
         ],
         "xaxis": "x",
         "y": [
          -9855,
          -9855,
          -9865,
          -9865
         ],
         "yaxis": "y"
        },
        {
         "hoverinfo": "text",
         "marker": {
          "color": "rgb(0,116,217)"
         },
         "mode": "lines",
         "type": "scatter",
         "x": [
          1.3468341945253521,
          1.4164461006847244,
          1.4164461006847244,
          1.3899774601568102
         ],
         "xaxis": "x",
         "y": [
          -9840,
          -9840,
          -9860,
          -9860
         ],
         "yaxis": "y"
        },
        {
         "hoverinfo": "text",
         "marker": {
          "color": "rgb(0,116,217)"
         },
         "mode": "lines",
         "type": "scatter",
         "x": [
          1.3184815181799616,
          1.4378308308146635,
          1.4378308308146635,
          1.4164461006847244
         ],
         "xaxis": "x",
         "y": [
          -9820,
          -9820,
          -9850,
          -9850
         ],
         "yaxis": "y"
        },
        {
         "hoverinfo": "text",
         "marker": {
          "color": "rgb(0,116,217)"
         },
         "mode": "lines",
         "type": "scatter",
         "x": [
          1.3987486582682878,
          1.4530486977766148,
          1.4530486977766148,
          1.4378308308146635
         ],
         "xaxis": "x",
         "y": [
          -9797.5,
          -9797.5,
          -9835,
          -9835
         ],
         "yaxis": "y"
        },
        {
         "hoverinfo": "text",
         "marker": {
          "color": "rgb(0,116,217)"
         },
         "mode": "lines",
         "type": "scatter",
         "x": [
          0,
          1.36217948828963,
          1.36217948828963,
          0
         ],
         "xaxis": "x",
         "y": [
          -9875,
          -9875,
          -9885,
          -9885
         ],
         "yaxis": "y"
        },
        {
         "hoverinfo": "text",
         "marker": {
          "color": "rgb(0,116,217)"
         },
         "mode": "lines",
         "type": "scatter",
         "x": [
          0,
          1.3489841747809834,
          1.3489841747809834,
          0
         ],
         "xaxis": "x",
         "y": [
          -9895,
          -9895,
          -9905,
          -9905
         ],
         "yaxis": "y"
        },
        {
         "hoverinfo": "text",
         "marker": {
          "color": "rgb(0,116,217)"
         },
         "mode": "lines",
         "type": "scatter",
         "x": [
          1.36217948828963,
          1.3996081496520363,
          1.3996081496520363,
          1.3489841747809834
         ],
         "xaxis": "x",
         "y": [
          -9880,
          -9880,
          -9900,
          -9900
         ],
         "yaxis": "y"
        },
        {
         "hoverinfo": "text",
         "marker": {
          "color": "rgb(0,116,217)"
         },
         "mode": "lines",
         "type": "scatter",
         "x": [
          0,
          1.3855605598812044,
          1.3855605598812044,
          0
         ],
         "xaxis": "x",
         "y": [
          -9915,
          -9915,
          -9925,
          -9925
         ],
         "yaxis": "y"
        },
        {
         "hoverinfo": "text",
         "marker": {
          "color": "rgb(0,116,217)"
         },
         "mode": "lines",
         "type": "scatter",
         "x": [
          1.3996081496520363,
          1.4268001630777178,
          1.4268001630777178,
          1.3855605598812044
         ],
         "xaxis": "x",
         "y": [
          -9890,
          -9890,
          -9920,
          -9920
         ],
         "yaxis": "y"
        },
        {
         "hoverinfo": "text",
         "marker": {
          "color": "rgb(0,116,217)"
         },
         "mode": "lines",
         "type": "scatter",
         "x": [
          1.4530486977766148,
          1.4933260533315296,
          1.4933260533315296,
          1.4268001630777178
         ],
         "xaxis": "x",
         "y": [
          -9816.25,
          -9816.25,
          -9905,
          -9905
         ],
         "yaxis": "y"
        },
        {
         "hoverinfo": "text",
         "marker": {
          "color": "rgb(0,116,217)"
         },
         "mode": "lines",
         "type": "scatter",
         "x": [
          0,
          1.3841457951545266,
          1.3841457951545266,
          0
         ],
         "xaxis": "x",
         "y": [
          -9945,
          -9945,
          -9955,
          -9955
         ],
         "yaxis": "y"
        },
        {
         "hoverinfo": "text",
         "marker": {
          "color": "rgb(0,116,217)"
         },
         "mode": "lines",
         "type": "scatter",
         "x": [
          0,
          1.3967188909463868,
          1.3967188909463868,
          1.3841457951545266
         ],
         "xaxis": "x",
         "y": [
          -9935,
          -9935,
          -9950,
          -9950
         ],
         "yaxis": "y"
        },
        {
         "hoverinfo": "text",
         "marker": {
          "color": "rgb(0,116,217)"
         },
         "mode": "lines",
         "type": "scatter",
         "x": [
          0,
          1.3548114938548277,
          1.3548114938548277,
          0
         ],
         "xaxis": "x",
         "y": [
          -9965,
          -9965,
          -9975,
          -9975
         ],
         "yaxis": "y"
        },
        {
         "hoverinfo": "text",
         "marker": {
          "color": "rgb(0,116,217)"
         },
         "mode": "lines",
         "type": "scatter",
         "x": [
          1.3967188909463868,
          1.4151071258425163,
          1.4151071258425163,
          1.3548114938548277
         ],
         "xaxis": "x",
         "y": [
          -9942.5,
          -9942.5,
          -9970,
          -9970
         ],
         "yaxis": "y"
        },
        {
         "hoverinfo": "text",
         "marker": {
          "color": "rgb(0,116,217)"
         },
         "mode": "lines",
         "type": "scatter",
         "x": [
          0,
          1.3643121036306003,
          1.3643121036306003,
          0
         ],
         "xaxis": "x",
         "y": [
          -9985,
          -9985,
          -9995,
          -9995
         ],
         "yaxis": "y"
        },
        {
         "hoverinfo": "text",
         "marker": {
          "color": "rgb(0,116,217)"
         },
         "mode": "lines",
         "type": "scatter",
         "x": [
          1.4151071258425163,
          1.4282128902095266,
          1.4282128902095266,
          1.3643121036306003
         ],
         "xaxis": "x",
         "y": [
          -9956.25,
          -9956.25,
          -9990,
          -9990
         ],
         "yaxis": "y"
        },
        {
         "hoverinfo": "text",
         "marker": {
          "color": "rgb(0,116,217)"
         },
         "mode": "lines",
         "type": "scatter",
         "x": [
          1.4933260533315296,
          1.5333407051133114,
          1.5333407051133114,
          1.4282128902095266
         ],
         "xaxis": "x",
         "y": [
          -9860.625,
          -9860.625,
          -9973.125,
          -9973.125
         ],
         "yaxis": "y"
        },
        {
         "hoverinfo": "text",
         "marker": {
          "color": "rgb(0,116,217)"
         },
         "mode": "lines",
         "type": "scatter",
         "x": [
          1.468515996840138,
          1.6930752503737299,
          1.6930752503737299,
          1.5333407051133114
         ],
         "xaxis": "x",
         "y": [
          -9719.375,
          -9719.375,
          -9916.875,
          -9916.875
         ],
         "yaxis": "y"
        },
        {
         "hoverinfo": "text",
         "marker": {
          "color": "rgb(0,116,217)"
         },
         "mode": "lines",
         "type": "scatter",
         "x": [
          0,
          1.3582575840159763,
          1.3582575840159763,
          0
         ],
         "xaxis": "x",
         "y": [
          -10005,
          -10005,
          -10015,
          -10015
         ],
         "yaxis": "y"
        },
        {
         "hoverinfo": "text",
         "marker": {
          "color": "rgb(0,116,217)"
         },
         "mode": "lines",
         "type": "scatter",
         "x": [
          1.3582575840159763,
          1.3794383572286246,
          1.3794383572286246,
          0
         ],
         "xaxis": "x",
         "y": [
          -10010,
          -10010,
          -10025,
          -10025
         ],
         "yaxis": "y"
        },
        {
         "hoverinfo": "text",
         "marker": {
          "color": "rgb(0,116,217)"
         },
         "mode": "lines",
         "type": "scatter",
         "x": [
          0,
          1.344655133673071,
          1.344655133673071,
          0
         ],
         "xaxis": "x",
         "y": [
          -10035,
          -10035,
          -10045,
          -10045
         ],
         "yaxis": "y"
        },
        {
         "hoverinfo": "text",
         "marker": {
          "color": "rgb(0,116,217)"
         },
         "mode": "lines",
         "type": "scatter",
         "x": [
          1.3794383572286246,
          1.4530027822939544,
          1.4530027822939544,
          1.344655133673071
         ],
         "xaxis": "x",
         "y": [
          -10017.5,
          -10017.5,
          -10040,
          -10040
         ],
         "yaxis": "y"
        },
        {
         "hoverinfo": "text",
         "marker": {
          "color": "rgb(0,116,217)"
         },
         "mode": "lines",
         "type": "scatter",
         "x": [
          0,
          1.3590144930318793,
          1.3590144930318793,
          0
         ],
         "xaxis": "x",
         "y": [
          -10055,
          -10055,
          -10065,
          -10065
         ],
         "yaxis": "y"
        },
        {
         "hoverinfo": "text",
         "marker": {
          "color": "rgb(0,116,217)"
         },
         "mode": "lines",
         "type": "scatter",
         "x": [
          0,
          1.3478489566550638,
          1.3478489566550638,
          0
         ],
         "xaxis": "x",
         "y": [
          -10075,
          -10075,
          -10085,
          -10085
         ],
         "yaxis": "y"
        },
        {
         "hoverinfo": "text",
         "marker": {
          "color": "rgb(0,116,217)"
         },
         "mode": "lines",
         "type": "scatter",
         "x": [
          1.3478489566550638,
          1.3767335150585291,
          1.3767335150585291,
          0
         ],
         "xaxis": "x",
         "y": [
          -10080,
          -10080,
          -10095,
          -10095
         ],
         "yaxis": "y"
        },
        {
         "hoverinfo": "text",
         "marker": {
          "color": "rgb(0,116,217)"
         },
         "mode": "lines",
         "type": "scatter",
         "x": [
          1.3590144930318793,
          1.4420966646881899,
          1.4420966646881899,
          1.3767335150585291
         ],
         "xaxis": "x",
         "y": [
          -10060,
          -10060,
          -10087.5,
          -10087.5
         ],
         "yaxis": "y"
        },
        {
         "hoverinfo": "text",
         "marker": {
          "color": "rgb(0,116,217)"
         },
         "mode": "lines",
         "type": "scatter",
         "x": [
          1.4530027822939544,
          1.5755973972041442,
          1.5755973972041442,
          1.4420966646881899
         ],
         "xaxis": "x",
         "y": [
          -10028.75,
          -10028.75,
          -10073.75,
          -10073.75
         ],
         "yaxis": "y"
        },
        {
         "hoverinfo": "text",
         "marker": {
          "color": "rgb(0,116,217)"
         },
         "mode": "lines",
         "type": "scatter",
         "x": [
          0,
          1.352340198890375,
          1.352340198890375,
          0
         ],
         "xaxis": "x",
         "y": [
          -10105,
          -10105,
          -10115,
          -10115
         ],
         "yaxis": "y"
        },
        {
         "hoverinfo": "text",
         "marker": {
          "color": "rgb(0,116,217)"
         },
         "mode": "lines",
         "type": "scatter",
         "x": [
          0,
          1.35924467868356,
          1.35924467868356,
          0
         ],
         "xaxis": "x",
         "y": [
          -10125,
          -10125,
          -10135,
          -10135
         ],
         "yaxis": "y"
        },
        {
         "hoverinfo": "text",
         "marker": {
          "color": "rgb(0,116,217)"
         },
         "mode": "lines",
         "type": "scatter",
         "x": [
          1.352340198890375,
          1.4151487096711706,
          1.4151487096711706,
          1.35924467868356
         ],
         "xaxis": "x",
         "y": [
          -10110,
          -10110,
          -10130,
          -10130
         ],
         "yaxis": "y"
        },
        {
         "hoverinfo": "text",
         "marker": {
          "color": "rgb(0,116,217)"
         },
         "mode": "lines",
         "type": "scatter",
         "x": [
          0,
          1.3608750984925164,
          1.3608750984925164,
          0
         ],
         "xaxis": "x",
         "y": [
          -10145,
          -10145,
          -10155,
          -10155
         ],
         "yaxis": "y"
        },
        {
         "hoverinfo": "text",
         "marker": {
          "color": "rgb(0,116,217)"
         },
         "mode": "lines",
         "type": "scatter",
         "x": [
          0,
          1.3600115353350468,
          1.3600115353350468,
          0
         ],
         "xaxis": "x",
         "y": [
          -10165,
          -10165,
          -10175,
          -10175
         ],
         "yaxis": "y"
        },
        {
         "hoverinfo": "text",
         "marker": {
          "color": "rgb(0,116,217)"
         },
         "mode": "lines",
         "type": "scatter",
         "x": [
          0,
          1.3625794471981079,
          1.3625794471981079,
          0
         ],
         "xaxis": "x",
         "y": [
          -10185,
          -10185,
          -10195,
          -10195
         ],
         "yaxis": "y"
        },
        {
         "hoverinfo": "text",
         "marker": {
          "color": "rgb(0,116,217)"
         },
         "mode": "lines",
         "type": "scatter",
         "x": [
          1.3600115353350468,
          1.4035738171413215,
          1.4035738171413215,
          1.3625794471981079
         ],
         "xaxis": "x",
         "y": [
          -10170,
          -10170,
          -10190,
          -10190
         ],
         "yaxis": "y"
        },
        {
         "hoverinfo": "text",
         "marker": {
          "color": "rgb(0,116,217)"
         },
         "mode": "lines",
         "type": "scatter",
         "x": [
          1.3608750984925164,
          1.4165188702445286,
          1.4165188702445286,
          1.4035738171413215
         ],
         "xaxis": "x",
         "y": [
          -10150,
          -10150,
          -10180,
          -10180
         ],
         "yaxis": "y"
        },
        {
         "hoverinfo": "text",
         "marker": {
          "color": "rgb(0,116,217)"
         },
         "mode": "lines",
         "type": "scatter",
         "x": [
          0,
          1.3558751623054317,
          1.3558751623054317,
          0
         ],
         "xaxis": "x",
         "y": [
          -10215,
          -10215,
          -10225,
          -10225
         ],
         "yaxis": "y"
        },
        {
         "hoverinfo": "text",
         "marker": {
          "color": "rgb(0,116,217)"
         },
         "mode": "lines",
         "type": "scatter",
         "x": [
          0,
          1.3645145160867156,
          1.3645145160867156,
          1.3558751623054317
         ],
         "xaxis": "x",
         "y": [
          -10205,
          -10205,
          -10220,
          -10220
         ],
         "yaxis": "y"
        },
        {
         "hoverinfo": "text",
         "marker": {
          "color": "rgb(0,116,217)"
         },
         "mode": "lines",
         "type": "scatter",
         "x": [
          1.4165188702445286,
          1.4376755949751556,
          1.4376755949751556,
          1.3645145160867156
         ],
         "xaxis": "x",
         "y": [
          -10165,
          -10165,
          -10212.5,
          -10212.5
         ],
         "yaxis": "y"
        },
        {
         "hoverinfo": "text",
         "marker": {
          "color": "rgb(0,116,217)"
         },
         "mode": "lines",
         "type": "scatter",
         "x": [
          0,
          1.2885093486071877,
          1.2885093486071877,
          0
         ],
         "xaxis": "x",
         "y": [
          -10235,
          -10235,
          -10245,
          -10245
         ],
         "yaxis": "y"
        },
        {
         "hoverinfo": "text",
         "marker": {
          "color": "rgb(0,116,217)"
         },
         "mode": "lines",
         "type": "scatter",
         "x": [
          1.4376755949751556,
          1.5252961502212552,
          1.5252961502212552,
          1.2885093486071877
         ],
         "xaxis": "x",
         "y": [
          -10188.75,
          -10188.75,
          -10240,
          -10240
         ],
         "yaxis": "y"
        },
        {
         "hoverinfo": "text",
         "marker": {
          "color": "rgb(0,116,217)"
         },
         "mode": "lines",
         "type": "scatter",
         "x": [
          1.4151487096711706,
          1.5543500169682665,
          1.5543500169682665,
          1.5252961502212552
         ],
         "xaxis": "x",
         "y": [
          -10120,
          -10120,
          -10214.375,
          -10214.375
         ],
         "yaxis": "y"
        },
        {
         "hoverinfo": "text",
         "marker": {
          "color": "rgb(0,116,217)"
         },
         "mode": "lines",
         "type": "scatter",
         "x": [
          1.5755973972041442,
          1.7440932077199918,
          1.7440932077199918,
          1.5543500169682665
         ],
         "xaxis": "x",
         "y": [
          -10051.25,
          -10051.25,
          -10167.1875,
          -10167.1875
         ],
         "yaxis": "y"
        },
        {
         "hoverinfo": "text",
         "marker": {
          "color": "rgb(0,116,217)"
         },
         "mode": "lines",
         "type": "scatter",
         "x": [
          0,
          1.393023737920564,
          1.393023737920564,
          0
         ],
         "xaxis": "x",
         "y": [
          -10255,
          -10255,
          -10265,
          -10265
         ],
         "yaxis": "y"
        },
        {
         "hoverinfo": "text",
         "marker": {
          "color": "rgb(0,116,217)"
         },
         "mode": "lines",
         "type": "scatter",
         "x": [
          0,
          1.361590301129715,
          1.361590301129715,
          0
         ],
         "xaxis": "x",
         "y": [
          -10275,
          -10275,
          -10285,
          -10285
         ],
         "yaxis": "y"
        },
        {
         "hoverinfo": "text",
         "marker": {
          "color": "rgb(0,116,217)"
         },
         "mode": "lines",
         "type": "scatter",
         "x": [
          0,
          1.3596545908030326,
          1.3596545908030326,
          0
         ],
         "xaxis": "x",
         "y": [
          -10295,
          -10295,
          -10305,
          -10305
         ],
         "yaxis": "y"
        },
        {
         "hoverinfo": "text",
         "marker": {
          "color": "rgb(0,116,217)"
         },
         "mode": "lines",
         "type": "scatter",
         "x": [
          0,
          1.3500237982150483,
          1.3500237982150483,
          0
         ],
         "xaxis": "x",
         "y": [
          -10315,
          -10315,
          -10325,
          -10325
         ],
         "yaxis": "y"
        },
        {
         "hoverinfo": "text",
         "marker": {
          "color": "rgb(0,116,217)"
         },
         "mode": "lines",
         "type": "scatter",
         "x": [
          1.3596545908030326,
          1.4530578125717526,
          1.4530578125717526,
          1.3500237982150483
         ],
         "xaxis": "x",
         "y": [
          -10300,
          -10300,
          -10320,
          -10320
         ],
         "yaxis": "y"
        },
        {
         "hoverinfo": "text",
         "marker": {
          "color": "rgb(0,116,217)"
         },
         "mode": "lines",
         "type": "scatter",
         "x": [
          1.361590301129715,
          1.4862075030636157,
          1.4862075030636157,
          1.4530578125717526
         ],
         "xaxis": "x",
         "y": [
          -10280,
          -10280,
          -10310,
          -10310
         ],
         "yaxis": "y"
        },
        {
         "hoverinfo": "text",
         "marker": {
          "color": "rgb(0,116,217)"
         },
         "mode": "lines",
         "type": "scatter",
         "x": [
          1.393023737920564,
          1.6219898577982568,
          1.6219898577982568,
          1.4862075030636157
         ],
         "xaxis": "x",
         "y": [
          -10260,
          -10260,
          -10295,
          -10295
         ],
         "yaxis": "y"
        },
        {
         "hoverinfo": "text",
         "marker": {
          "color": "rgb(0,116,217)"
         },
         "mode": "lines",
         "type": "scatter",
         "x": [
          0,
          1.3707184416085951,
          1.3707184416085951,
          0
         ],
         "xaxis": "x",
         "y": [
          -10345,
          -10345,
          -10355,
          -10355
         ],
         "yaxis": "y"
        },
        {
         "hoverinfo": "text",
         "marker": {
          "color": "rgb(0,116,217)"
         },
         "mode": "lines",
         "type": "scatter",
         "x": [
          0,
          1.4149972687354846,
          1.4149972687354846,
          1.3707184416085951
         ],
         "xaxis": "x",
         "y": [
          -10335,
          -10335,
          -10350,
          -10350
         ],
         "yaxis": "y"
        },
        {
         "hoverinfo": "text",
         "marker": {
          "color": "rgb(0,116,217)"
         },
         "mode": "lines",
         "type": "scatter",
         "x": [
          0,
          1.3761930733463512,
          1.3761930733463512,
          0
         ],
         "xaxis": "x",
         "y": [
          -10365,
          -10365,
          -10375,
          -10375
         ],
         "yaxis": "y"
        },
        {
         "hoverinfo": "text",
         "marker": {
          "color": "rgb(0,116,217)"
         },
         "mode": "lines",
         "type": "scatter",
         "x": [
          1.4149972687354846,
          1.450739229167944,
          1.450739229167944,
          1.3761930733463512
         ],
         "xaxis": "x",
         "y": [
          -10342.5,
          -10342.5,
          -10370,
          -10370
         ],
         "yaxis": "y"
        },
        {
         "hoverinfo": "text",
         "marker": {
          "color": "rgb(0,116,217)"
         },
         "mode": "lines",
         "type": "scatter",
         "x": [
          0,
          1.3198085987057826,
          1.3198085987057826,
          0
         ],
         "xaxis": "x",
         "y": [
          -10395,
          -10395,
          -10405,
          -10405
         ],
         "yaxis": "y"
        },
        {
         "hoverinfo": "text",
         "marker": {
          "color": "rgb(0,116,217)"
         },
         "mode": "lines",
         "type": "scatter",
         "x": [
          0,
          1.3634106886606068,
          1.3634106886606068,
          1.3198085987057826
         ],
         "xaxis": "x",
         "y": [
          -10385,
          -10385,
          -10400,
          -10400
         ],
         "yaxis": "y"
        },
        {
         "hoverinfo": "text",
         "marker": {
          "color": "rgb(0,116,217)"
         },
         "mode": "lines",
         "type": "scatter",
         "x": [
          1.450739229167944,
          1.5990047112254497,
          1.5990047112254497,
          1.3634106886606068
         ],
         "xaxis": "x",
         "y": [
          -10356.25,
          -10356.25,
          -10392.5,
          -10392.5
         ],
         "yaxis": "y"
        },
        {
         "hoverinfo": "text",
         "marker": {
          "color": "rgb(0,116,217)"
         },
         "mode": "lines",
         "type": "scatter",
         "x": [
          1.6219898577982568,
          1.7068195309000387,
          1.7068195309000387,
          1.5990047112254497
         ],
         "xaxis": "x",
         "y": [
          -10277.5,
          -10277.5,
          -10374.375,
          -10374.375
         ],
         "yaxis": "y"
        },
        {
         "hoverinfo": "text",
         "marker": {
          "color": "rgb(0,116,217)"
         },
         "mode": "lines",
         "type": "scatter",
         "x": [
          0,
          1.303753987146377,
          1.303753987146377,
          0
         ],
         "xaxis": "x",
         "y": [
          -10415,
          -10415,
          -10425,
          -10425
         ],
         "yaxis": "y"
        },
        {
         "hoverinfo": "text",
         "marker": {
          "color": "rgb(0,116,217)"
         },
         "mode": "lines",
         "type": "scatter",
         "x": [
          0,
          1.398620297316345,
          1.398620297316345,
          0
         ],
         "xaxis": "x",
         "y": [
          -10435,
          -10435,
          -10445,
          -10445
         ],
         "yaxis": "y"
        },
        {
         "hoverinfo": "text",
         "marker": {
          "color": "rgb(0,116,217)"
         },
         "mode": "lines",
         "type": "scatter",
         "x": [
          0,
          1.377321107913181,
          1.377321107913181,
          0
         ],
         "xaxis": "x",
         "y": [
          -10455,
          -10455,
          -10465,
          -10465
         ],
         "yaxis": "y"
        },
        {
         "hoverinfo": "text",
         "marker": {
          "color": "rgb(0,116,217)"
         },
         "mode": "lines",
         "type": "scatter",
         "x": [
          0,
          1.4014637715092757,
          1.4014637715092757,
          0
         ],
         "xaxis": "x",
         "y": [
          -10475,
          -10475,
          -10485,
          -10485
         ],
         "yaxis": "y"
        },
        {
         "hoverinfo": "text",
         "marker": {
          "color": "rgb(0,116,217)"
         },
         "mode": "lines",
         "type": "scatter",
         "x": [
          1.377321107913181,
          1.4089260138616604,
          1.4089260138616604,
          1.4014637715092757
         ],
         "xaxis": "x",
         "y": [
          -10460,
          -10460,
          -10480,
          -10480
         ],
         "yaxis": "y"
        },
        {
         "hoverinfo": "text",
         "marker": {
          "color": "rgb(0,116,217)"
         },
         "mode": "lines",
         "type": "scatter",
         "x": [
          1.398620297316345,
          1.4332161489723951,
          1.4332161489723951,
          1.4089260138616604
         ],
         "xaxis": "x",
         "y": [
          -10440,
          -10440,
          -10470,
          -10470
         ],
         "yaxis": "y"
        },
        {
         "hoverinfo": "text",
         "marker": {
          "color": "rgb(0,116,217)"
         },
         "mode": "lines",
         "type": "scatter",
         "x": [
          1.303753987146377,
          1.5172964461497875,
          1.5172964461497875,
          1.4332161489723951
         ],
         "xaxis": "x",
         "y": [
          -10420,
          -10420,
          -10455,
          -10455
         ],
         "yaxis": "y"
        },
        {
         "hoverinfo": "text",
         "marker": {
          "color": "rgb(0,116,217)"
         },
         "mode": "lines",
         "type": "scatter",
         "x": [
          0,
          1.3608383544587588,
          1.3608383544587588,
          0
         ],
         "xaxis": "x",
         "y": [
          -10495,
          -10495,
          -10505,
          -10505
         ],
         "yaxis": "y"
        },
        {
         "hoverinfo": "text",
         "marker": {
          "color": "rgb(0,116,217)"
         },
         "mode": "lines",
         "type": "scatter",
         "x": [
          1.3608383544587588,
          1.4486743020959247,
          1.4486743020959247,
          0
         ],
         "xaxis": "x",
         "y": [
          -10500,
          -10500,
          -10515,
          -10515
         ],
         "yaxis": "y"
        },
        {
         "hoverinfo": "text",
         "marker": {
          "color": "rgb(0,116,217)"
         },
         "mode": "lines",
         "type": "scatter",
         "x": [
          1.5172964461497875,
          1.6265985031378853,
          1.6265985031378853,
          1.4486743020959247
         ],
         "xaxis": "x",
         "y": [
          -10437.5,
          -10437.5,
          -10507.5,
          -10507.5
         ],
         "yaxis": "y"
        },
        {
         "hoverinfo": "text",
         "marker": {
          "color": "rgb(0,116,217)"
         },
         "mode": "lines",
         "type": "scatter",
         "x": [
          1.7068195309000387,
          1.8204515965433454,
          1.8204515965433454,
          1.6265985031378853
         ],
         "xaxis": "x",
         "y": [
          -10325.9375,
          -10325.9375,
          -10472.5,
          -10472.5
         ],
         "yaxis": "y"
        },
        {
         "hoverinfo": "text",
         "marker": {
          "color": "rgb(0,116,217)"
         },
         "mode": "lines",
         "type": "scatter",
         "x": [
          1.7440932077199918,
          2.05201610880568,
          2.05201610880568,
          1.8204515965433454
         ],
         "xaxis": "x",
         "y": [
          -10109.21875,
          -10109.21875,
          -10399.21875,
          -10399.21875
         ],
         "yaxis": "y"
        },
        {
         "hoverinfo": "text",
         "marker": {
          "color": "rgb(0,116,217)"
         },
         "mode": "lines",
         "type": "scatter",
         "x": [
          1.6930752503737299,
          2.181176914655088,
          2.181176914655088,
          2.05201610880568
         ],
         "xaxis": "x",
         "y": [
          -9818.125,
          -9818.125,
          -10254.21875,
          -10254.21875
         ],
         "yaxis": "y"
        },
        {
         "hoverinfo": "text",
         "marker": {
          "color": "rgb(0,116,217)"
         },
         "mode": "lines",
         "type": "scatter",
         "x": [
          1.892754862050483,
          2.2998157827897185,
          2.2998157827897185,
          2.181176914655088
         ],
         "xaxis": "x",
         "y": [
          -9607.1875,
          -9607.1875,
          -10036.171875,
          -10036.171875
         ],
         "yaxis": "y"
        },
        {
         "hoverinfo": "text",
         "marker": {
          "color": "rgb(0,116,217)"
         },
         "mode": "lines",
         "type": "scatter",
         "x": [
          0,
          1.3972939239713271,
          1.3972939239713271,
          0
         ],
         "xaxis": "x",
         "y": [
          -10525,
          -10525,
          -10535,
          -10535
         ],
         "yaxis": "y"
        },
        {
         "hoverinfo": "text",
         "marker": {
          "color": "rgb(0,116,217)"
         },
         "mode": "lines",
         "type": "scatter",
         "x": [
          0,
          1.3403798445695045,
          1.3403798445695045,
          0
         ],
         "xaxis": "x",
         "y": [
          -10545,
          -10545,
          -10555,
          -10555
         ],
         "yaxis": "y"
        },
        {
         "hoverinfo": "text",
         "marker": {
          "color": "rgb(0,116,217)"
         },
         "mode": "lines",
         "type": "scatter",
         "x": [
          1.3972939239713271,
          1.4245457461911981,
          1.4245457461911981,
          1.3403798445695045
         ],
         "xaxis": "x",
         "y": [
          -10530,
          -10530,
          -10550,
          -10550
         ],
         "yaxis": "y"
        },
        {
         "hoverinfo": "text",
         "marker": {
          "color": "rgb(0,116,217)"
         },
         "mode": "lines",
         "type": "scatter",
         "x": [
          0,
          1.2897928898028475,
          1.2897928898028475,
          0
         ],
         "xaxis": "x",
         "y": [
          -10565,
          -10565,
          -10575,
          -10575
         ],
         "yaxis": "y"
        },
        {
         "hoverinfo": "text",
         "marker": {
          "color": "rgb(0,116,217)"
         },
         "mode": "lines",
         "type": "scatter",
         "x": [
          1.2897928898028475,
          1.3994590896204235,
          1.3994590896204235,
          0
         ],
         "xaxis": "x",
         "y": [
          -10570,
          -10570,
          -10585,
          -10585
         ],
         "yaxis": "y"
        },
        {
         "hoverinfo": "text",
         "marker": {
          "color": "rgb(0,116,217)"
         },
         "mode": "lines",
         "type": "scatter",
         "x": [
          0,
          1.381316699253676,
          1.381316699253676,
          0
         ],
         "xaxis": "x",
         "y": [
          -10595,
          -10595,
          -10605,
          -10605
         ],
         "yaxis": "y"
        },
        {
         "hoverinfo": "text",
         "marker": {
          "color": "rgb(0,116,217)"
         },
         "mode": "lines",
         "type": "scatter",
         "x": [
          1.3994590896204235,
          1.460253528563307,
          1.460253528563307,
          1.381316699253676
         ],
         "xaxis": "x",
         "y": [
          -10577.5,
          -10577.5,
          -10600,
          -10600
         ],
         "yaxis": "y"
        },
        {
         "hoverinfo": "text",
         "marker": {
          "color": "rgb(0,116,217)"
         },
         "mode": "lines",
         "type": "scatter",
         "x": [
          1.4245457461911981,
          1.6232140729439823,
          1.6232140729439823,
          1.460253528563307
         ],
         "xaxis": "x",
         "y": [
          -10540,
          -10540,
          -10588.75,
          -10588.75
         ],
         "yaxis": "y"
        },
        {
         "hoverinfo": "text",
         "marker": {
          "color": "rgb(0,116,217)"
         },
         "mode": "lines",
         "type": "scatter",
         "x": [
          0,
          1.3790938708531173,
          1.3790938708531173,
          0
         ],
         "xaxis": "x",
         "y": [
          -10625,
          -10625,
          -10635,
          -10635
         ],
         "yaxis": "y"
        },
        {
         "hoverinfo": "text",
         "marker": {
          "color": "rgb(0,116,217)"
         },
         "mode": "lines",
         "type": "scatter",
         "x": [
          0,
          1.4407355243139337,
          1.4407355243139337,
          1.3790938708531173
         ],
         "xaxis": "x",
         "y": [
          -10615,
          -10615,
          -10630,
          -10630
         ],
         "yaxis": "y"
        },
        {
         "hoverinfo": "text",
         "marker": {
          "color": "rgb(0,116,217)"
         },
         "mode": "lines",
         "type": "scatter",
         "x": [
          0,
          1.3873635148511596,
          1.3873635148511596,
          0
         ],
         "xaxis": "x",
         "y": [
          -10645,
          -10645,
          -10655,
          -10655
         ],
         "yaxis": "y"
        },
        {
         "hoverinfo": "text",
         "marker": {
          "color": "rgb(0,116,217)"
         },
         "mode": "lines",
         "type": "scatter",
         "x": [
          1.3873635148511596,
          1.4516944106083391,
          1.4516944106083391,
          0
         ],
         "xaxis": "x",
         "y": [
          -10650,
          -10650,
          -10665,
          -10665
         ],
         "yaxis": "y"
        },
        {
         "hoverinfo": "text",
         "marker": {
          "color": "rgb(0,116,217)"
         },
         "mode": "lines",
         "type": "scatter",
         "x": [
          1.4407355243139337,
          1.4774171552845212,
          1.4774171552845212,
          1.4516944106083391
         ],
         "xaxis": "x",
         "y": [
          -10622.5,
          -10622.5,
          -10657.5,
          -10657.5
         ],
         "yaxis": "y"
        },
        {
         "hoverinfo": "text",
         "marker": {
          "color": "rgb(0,116,217)"
         },
         "mode": "lines",
         "type": "scatter",
         "x": [
          0,
          1.3150761221319103,
          1.3150761221319103,
          0
         ],
         "xaxis": "x",
         "y": [
          -10675,
          -10675,
          -10685,
          -10685
         ],
         "yaxis": "y"
        },
        {
         "hoverinfo": "text",
         "marker": {
          "color": "rgb(0,116,217)"
         },
         "mode": "lines",
         "type": "scatter",
         "x": [
          0,
          1.3272410418567784,
          1.3272410418567784,
          0
         ],
         "xaxis": "x",
         "y": [
          -10695,
          -10695,
          -10705,
          -10705
         ],
         "yaxis": "y"
        },
        {
         "hoverinfo": "text",
         "marker": {
          "color": "rgb(0,116,217)"
         },
         "mode": "lines",
         "type": "scatter",
         "x": [
          1.3272410418567784,
          1.3757894873877798,
          1.3757894873877798,
          0
         ],
         "xaxis": "x",
         "y": [
          -10700,
          -10700,
          -10715,
          -10715
         ],
         "yaxis": "y"
        },
        {
         "hoverinfo": "text",
         "marker": {
          "color": "rgb(0,116,217)"
         },
         "mode": "lines",
         "type": "scatter",
         "x": [
          1.3150761221319103,
          1.5830123875741506,
          1.5830123875741506,
          1.3757894873877798
         ],
         "xaxis": "x",
         "y": [
          -10680,
          -10680,
          -10707.5,
          -10707.5
         ],
         "yaxis": "y"
        },
        {
         "hoverinfo": "text",
         "marker": {
          "color": "rgb(0,116,217)"
         },
         "mode": "lines",
         "type": "scatter",
         "x": [
          1.4774171552845212,
          1.6413387753413986,
          1.6413387753413986,
          1.5830123875741506
         ],
         "xaxis": "x",
         "y": [
          -10640,
          -10640,
          -10693.75,
          -10693.75
         ],
         "yaxis": "y"
        },
        {
         "hoverinfo": "text",
         "marker": {
          "color": "rgb(0,116,217)"
         },
         "mode": "lines",
         "type": "scatter",
         "x": [
          1.6232140729439823,
          1.708169036541054,
          1.708169036541054,
          1.6413387753413986
         ],
         "xaxis": "x",
         "y": [
          -10564.375,
          -10564.375,
          -10666.875,
          -10666.875
         ],
         "yaxis": "y"
        },
        {
         "hoverinfo": "text",
         "marker": {
          "color": "rgb(0,116,217)"
         },
         "mode": "lines",
         "type": "scatter",
         "x": [
          0,
          1.3234774154882158,
          1.3234774154882158,
          0
         ],
         "xaxis": "x",
         "y": [
          -10735,
          -10735,
          -10745,
          -10745
         ],
         "yaxis": "y"
        },
        {
         "hoverinfo": "text",
         "marker": {
          "color": "rgb(0,116,217)"
         },
         "mode": "lines",
         "type": "scatter",
         "x": [
          0,
          1.340263652192491,
          1.340263652192491,
          1.3234774154882158
         ],
         "xaxis": "x",
         "y": [
          -10725,
          -10725,
          -10740,
          -10740
         ],
         "yaxis": "y"
        },
        {
         "hoverinfo": "text",
         "marker": {
          "color": "rgb(0,116,217)"
         },
         "mode": "lines",
         "type": "scatter",
         "x": [
          0,
          1.3817859125406637,
          1.3817859125406637,
          0
         ],
         "xaxis": "x",
         "y": [
          -10755,
          -10755,
          -10765,
          -10765
         ],
         "yaxis": "y"
        },
        {
         "hoverinfo": "text",
         "marker": {
          "color": "rgb(0,116,217)"
         },
         "mode": "lines",
         "type": "scatter",
         "x": [
          0,
          1.4007855216356866,
          1.4007855216356866,
          0
         ],
         "xaxis": "x",
         "y": [
          -10775,
          -10775,
          -10785,
          -10785
         ],
         "yaxis": "y"
        },
        {
         "hoverinfo": "text",
         "marker": {
          "color": "rgb(0,116,217)"
         },
         "mode": "lines",
         "type": "scatter",
         "x": [
          1.4007855216356866,
          1.4365709324732867,
          1.4365709324732867,
          0
         ],
         "xaxis": "x",
         "y": [
          -10780,
          -10780,
          -10795,
          -10795
         ],
         "yaxis": "y"
        },
        {
         "hoverinfo": "text",
         "marker": {
          "color": "rgb(0,116,217)"
         },
         "mode": "lines",
         "type": "scatter",
         "x": [
          1.4365709324732867,
          1.4495179860084526,
          1.4495179860084526,
          0
         ],
         "xaxis": "x",
         "y": [
          -10787.5,
          -10787.5,
          -10805,
          -10805
         ],
         "yaxis": "y"
        },
        {
         "hoverinfo": "text",
         "marker": {
          "color": "rgb(0,116,217)"
         },
         "mode": "lines",
         "type": "scatter",
         "x": [
          1.3817859125406637,
          1.4979464132930445,
          1.4979464132930445,
          1.4495179860084526
         ],
         "xaxis": "x",
         "y": [
          -10760,
          -10760,
          -10796.25,
          -10796.25
         ],
         "yaxis": "y"
        },
        {
         "hoverinfo": "text",
         "marker": {
          "color": "rgb(0,116,217)"
         },
         "mode": "lines",
         "type": "scatter",
         "x": [
          1.340263652192491,
          1.6871170502845707,
          1.6871170502845707,
          1.4979464132930445
         ],
         "xaxis": "x",
         "y": [
          -10732.5,
          -10732.5,
          -10778.125,
          -10778.125
         ],
         "yaxis": "y"
        },
        {
         "hoverinfo": "text",
         "marker": {
          "color": "rgb(0,116,217)"
         },
         "mode": "lines",
         "type": "scatter",
         "x": [
          1.708169036541054,
          1.7917489761495817,
          1.7917489761495817,
          1.6871170502845707
         ],
         "xaxis": "x",
         "y": [
          -10615.625,
          -10615.625,
          -10755.3125,
          -10755.3125
         ],
         "yaxis": "y"
        },
        {
         "hoverinfo": "text",
         "marker": {
          "color": "rgb(0,116,217)"
         },
         "mode": "lines",
         "type": "scatter",
         "x": [
          0,
          1.393138151228804,
          1.393138151228804,
          0
         ],
         "xaxis": "x",
         "y": [
          -10825,
          -10825,
          -10835,
          -10835
         ],
         "yaxis": "y"
        },
        {
         "hoverinfo": "text",
         "marker": {
          "color": "rgb(0,116,217)"
         },
         "mode": "lines",
         "type": "scatter",
         "x": [
          0,
          1.4237479775837973,
          1.4237479775837973,
          1.393138151228804
         ],
         "xaxis": "x",
         "y": [
          -10815,
          -10815,
          -10830,
          -10830
         ],
         "yaxis": "y"
        },
        {
         "hoverinfo": "text",
         "marker": {
          "color": "rgb(0,116,217)"
         },
         "mode": "lines",
         "type": "scatter",
         "x": [
          0,
          1.3794583271532108,
          1.3794583271532108,
          0
         ],
         "xaxis": "x",
         "y": [
          -10855,
          -10855,
          -10865,
          -10865
         ],
         "yaxis": "y"
        },
        {
         "hoverinfo": "text",
         "marker": {
          "color": "rgb(0,116,217)"
         },
         "mode": "lines",
         "type": "scatter",
         "x": [
          0,
          1.399757004106736,
          1.399757004106736,
          1.3794583271532108
         ],
         "xaxis": "x",
         "y": [
          -10845,
          -10845,
          -10860,
          -10860
         ],
         "yaxis": "y"
        },
        {
         "hoverinfo": "text",
         "marker": {
          "color": "rgb(0,116,217)"
         },
         "mode": "lines",
         "type": "scatter",
         "x": [
          1.4237479775837973,
          1.5340537243210606,
          1.5340537243210606,
          1.399757004106736
         ],
         "xaxis": "x",
         "y": [
          -10822.5,
          -10822.5,
          -10852.5,
          -10852.5
         ],
         "yaxis": "y"
        },
        {
         "hoverinfo": "text",
         "marker": {
          "color": "rgb(0,116,217)"
         },
         "mode": "lines",
         "type": "scatter",
         "x": [
          0,
          1.3800952762494922,
          1.3800952762494922,
          0
         ],
         "xaxis": "x",
         "y": [
          -10875,
          -10875,
          -10885,
          -10885
         ],
         "yaxis": "y"
        },
        {
         "hoverinfo": "text",
         "marker": {
          "color": "rgb(0,116,217)"
         },
         "mode": "lines",
         "type": "scatter",
         "x": [
          0,
          1.3750114577892782,
          1.3750114577892782,
          0
         ],
         "xaxis": "x",
         "y": [
          -10895,
          -10895,
          -10905,
          -10905
         ],
         "yaxis": "y"
        },
        {
         "hoverinfo": "text",
         "marker": {
          "color": "rgb(0,116,217)"
         },
         "mode": "lines",
         "type": "scatter",
         "x": [
          1.3800952762494922,
          1.431712013963244,
          1.431712013963244,
          1.3750114577892782
         ],
         "xaxis": "x",
         "y": [
          -10880,
          -10880,
          -10900,
          -10900
         ],
         "yaxis": "y"
        },
        {
         "hoverinfo": "text",
         "marker": {
          "color": "rgb(0,116,217)"
         },
         "mode": "lines",
         "type": "scatter",
         "x": [
          1.5340537243210606,
          1.595261878610542,
          1.595261878610542,
          1.431712013963244
         ],
         "xaxis": "x",
         "y": [
          -10837.5,
          -10837.5,
          -10890,
          -10890
         ],
         "yaxis": "y"
        },
        {
         "hoverinfo": "text",
         "marker": {
          "color": "rgb(0,116,217)"
         },
         "mode": "lines",
         "type": "scatter",
         "x": [
          0,
          1.3655201155075747,
          1.3655201155075747,
          0
         ],
         "xaxis": "x",
         "y": [
          -10925,
          -10925,
          -10935,
          -10935
         ],
         "yaxis": "y"
        },
        {
         "hoverinfo": "text",
         "marker": {
          "color": "rgb(0,116,217)"
         },
         "mode": "lines",
         "type": "scatter",
         "x": [
          0,
          1.3774668845618814,
          1.3774668845618814,
          1.3655201155075747
         ],
         "xaxis": "x",
         "y": [
          -10915,
          -10915,
          -10930,
          -10930
         ],
         "yaxis": "y"
        },
        {
         "hoverinfo": "text",
         "marker": {
          "color": "rgb(0,116,217)"
         },
         "mode": "lines",
         "type": "scatter",
         "x": [
          0,
          1.3710748045938574,
          1.3710748045938574,
          0
         ],
         "xaxis": "x",
         "y": [
          -10945,
          -10945,
          -10955,
          -10955
         ],
         "yaxis": "y"
        },
        {
         "hoverinfo": "text",
         "marker": {
          "color": "rgb(0,116,217)"
         },
         "mode": "lines",
         "type": "scatter",
         "x": [
          1.3774668845618814,
          1.4924347083049556,
          1.4924347083049556,
          1.3710748045938574
         ],
         "xaxis": "x",
         "y": [
          -10922.5,
          -10922.5,
          -10950,
          -10950
         ],
         "yaxis": "y"
        },
        {
         "hoverinfo": "text",
         "marker": {
          "color": "rgb(0,116,217)"
         },
         "mode": "lines",
         "type": "scatter",
         "x": [
          1.595261878610542,
          1.6274747548249542,
          1.6274747548249542,
          1.4924347083049556
         ],
         "xaxis": "x",
         "y": [
          -10863.75,
          -10863.75,
          -10936.25,
          -10936.25
         ],
         "yaxis": "y"
        },
        {
         "hoverinfo": "text",
         "marker": {
          "color": "rgb(0,116,217)"
         },
         "mode": "lines",
         "type": "scatter",
         "x": [
          1.7917489761495817,
          2.023200722863802,
          2.023200722863802,
          1.6274747548249542
         ],
         "xaxis": "x",
         "y": [
          -10685.46875,
          -10685.46875,
          -10900,
          -10900
         ],
         "yaxis": "y"
        },
        {
         "hoverinfo": "text",
         "marker": {
          "color": "rgb(0,116,217)"
         },
         "mode": "lines",
         "type": "scatter",
         "x": [
          0,
          1.3800704293015649,
          1.3800704293015649,
          0
         ],
         "xaxis": "x",
         "y": [
          -10965,
          -10965,
          -10975,
          -10975
         ],
         "yaxis": "y"
        },
        {
         "hoverinfo": "text",
         "marker": {
          "color": "rgb(0,116,217)"
         },
         "mode": "lines",
         "type": "scatter",
         "x": [
          0,
          1.3495943453650838,
          1.3495943453650838,
          0
         ],
         "xaxis": "x",
         "y": [
          -10995,
          -10995,
          -11005,
          -11005
         ],
         "yaxis": "y"
        },
        {
         "hoverinfo": "text",
         "marker": {
          "color": "rgb(0,116,217)"
         },
         "mode": "lines",
         "type": "scatter",
         "x": [
          0,
          1.3823450462882196,
          1.3823450462882196,
          1.3495943453650838
         ],
         "xaxis": "x",
         "y": [
          -10985,
          -10985,
          -11000,
          -11000
         ],
         "yaxis": "y"
        },
        {
         "hoverinfo": "text",
         "marker": {
          "color": "rgb(0,116,217)"
         },
         "mode": "lines",
         "type": "scatter",
         "x": [
          1.3800704293015649,
          1.4570290193972075,
          1.4570290193972075,
          1.3823450462882196
         ],
         "xaxis": "x",
         "y": [
          -10970,
          -10970,
          -10992.5,
          -10992.5
         ],
         "yaxis": "y"
        },
        {
         "hoverinfo": "text",
         "marker": {
          "color": "rgb(0,116,217)"
         },
         "mode": "lines",
         "type": "scatter",
         "x": [
          0,
          1.3867186053506728,
          1.3867186053506728,
          0
         ],
         "xaxis": "x",
         "y": [
          -11015,
          -11015,
          -11025,
          -11025
         ],
         "yaxis": "y"
        },
        {
         "hoverinfo": "text",
         "marker": {
          "color": "rgb(0,116,217)"
         },
         "mode": "lines",
         "type": "scatter",
         "x": [
          0,
          1.3819518588591428,
          1.3819518588591428,
          0
         ],
         "xaxis": "x",
         "y": [
          -11035,
          -11035,
          -11045,
          -11045
         ],
         "yaxis": "y"
        },
        {
         "hoverinfo": "text",
         "marker": {
          "color": "rgb(0,116,217)"
         },
         "mode": "lines",
         "type": "scatter",
         "x": [
          0,
          1.3737660096367097,
          1.3737660096367097,
          0
         ],
         "xaxis": "x",
         "y": [
          -11055,
          -11055,
          -11065,
          -11065
         ],
         "yaxis": "y"
        },
        {
         "hoverinfo": "text",
         "marker": {
          "color": "rgb(0,116,217)"
         },
         "mode": "lines",
         "type": "scatter",
         "x": [
          1.3819518588591428,
          1.4159710921625215,
          1.4159710921625215,
          1.3737660096367097
         ],
         "xaxis": "x",
         "y": [
          -11040,
          -11040,
          -11060,
          -11060
         ],
         "yaxis": "y"
        },
        {
         "hoverinfo": "text",
         "marker": {
          "color": "rgb(0,116,217)"
         },
         "mode": "lines",
         "type": "scatter",
         "x": [
          1.3867186053506728,
          1.448834826651494,
          1.448834826651494,
          1.4159710921625215
         ],
         "xaxis": "x",
         "y": [
          -11020,
          -11020,
          -11050,
          -11050
         ],
         "yaxis": "y"
        },
        {
         "hoverinfo": "text",
         "marker": {
          "color": "rgb(0,116,217)"
         },
         "mode": "lines",
         "type": "scatter",
         "x": [
          0,
          1.3596056850056697,
          1.3596056850056697,
          0
         ],
         "xaxis": "x",
         "y": [
          -11075,
          -11075,
          -11085,
          -11085
         ],
         "yaxis": "y"
        },
        {
         "hoverinfo": "text",
         "marker": {
          "color": "rgb(0,116,217)"
         },
         "mode": "lines",
         "type": "scatter",
         "x": [
          1.3596056850056697,
          1.3827530380506925,
          1.3827530380506925,
          0
         ],
         "xaxis": "x",
         "y": [
          -11080,
          -11080,
          -11095,
          -11095
         ],
         "yaxis": "y"
        },
        {
         "hoverinfo": "text",
         "marker": {
          "color": "rgb(0,116,217)"
         },
         "mode": "lines",
         "type": "scatter",
         "x": [
          1.448834826651494,
          1.5188874001068602,
          1.5188874001068602,
          1.3827530380506925
         ],
         "xaxis": "x",
         "y": [
          -11035,
          -11035,
          -11087.5,
          -11087.5
         ],
         "yaxis": "y"
        },
        {
         "hoverinfo": "text",
         "marker": {
          "color": "rgb(0,116,217)"
         },
         "mode": "lines",
         "type": "scatter",
         "x": [
          0,
          1.3813260116940211,
          1.3813260116940211,
          0
         ],
         "xaxis": "x",
         "y": [
          -11105,
          -11105,
          -11115,
          -11115
         ],
         "yaxis": "y"
        },
        {
         "hoverinfo": "text",
         "marker": {
          "color": "rgb(0,116,217)"
         },
         "mode": "lines",
         "type": "scatter",
         "x": [
          0,
          1.3488823472135856,
          1.3488823472135856,
          0
         ],
         "xaxis": "x",
         "y": [
          -11125,
          -11125,
          -11135,
          -11135
         ],
         "yaxis": "y"
        },
        {
         "hoverinfo": "text",
         "marker": {
          "color": "rgb(0,116,217)"
         },
         "mode": "lines",
         "type": "scatter",
         "x": [
          1.3813260116940211,
          1.419659143346908,
          1.419659143346908,
          1.3488823472135856
         ],
         "xaxis": "x",
         "y": [
          -11110,
          -11110,
          -11130,
          -11130
         ],
         "yaxis": "y"
        },
        {
         "hoverinfo": "text",
         "marker": {
          "color": "rgb(0,116,217)"
         },
         "mode": "lines",
         "type": "scatter",
         "x": [
          0,
          1.3508943796842126,
          1.3508943796842126,
          0
         ],
         "xaxis": "x",
         "y": [
          -11145,
          -11145,
          -11155,
          -11155
         ],
         "yaxis": "y"
        },
        {
         "hoverinfo": "text",
         "marker": {
          "color": "rgb(0,116,217)"
         },
         "mode": "lines",
         "type": "scatter",
         "x": [
          1.419659143346908,
          1.4942155801943622,
          1.4942155801943622,
          1.3508943796842126
         ],
         "xaxis": "x",
         "y": [
          -11120,
          -11120,
          -11150,
          -11150
         ],
         "yaxis": "y"
        },
        {
         "hoverinfo": "text",
         "marker": {
          "color": "rgb(0,116,217)"
         },
         "mode": "lines",
         "type": "scatter",
         "x": [
          1.5188874001068602,
          1.5812061127593748,
          1.5812061127593748,
          1.4942155801943622
         ],
         "xaxis": "x",
         "y": [
          -11061.25,
          -11061.25,
          -11135,
          -11135
         ],
         "yaxis": "y"
        },
        {
         "hoverinfo": "text",
         "marker": {
          "color": "rgb(0,116,217)"
         },
         "mode": "lines",
         "type": "scatter",
         "x": [
          1.4570290193972075,
          1.6628563905645872,
          1.6628563905645872,
          1.5812061127593748
         ],
         "xaxis": "x",
         "y": [
          -10981.25,
          -10981.25,
          -11098.125,
          -11098.125
         ],
         "yaxis": "y"
        },
        {
         "hoverinfo": "text",
         "marker": {
          "color": "rgb(0,116,217)"
         },
         "mode": "lines",
         "type": "scatter",
         "x": [
          0,
          1.318550732895531,
          1.318550732895531,
          0
         ],
         "xaxis": "x",
         "y": [
          -11165,
          -11165,
          -11175,
          -11175
         ],
         "yaxis": "y"
        },
        {
         "hoverinfo": "text",
         "marker": {
          "color": "rgb(0,116,217)"
         },
         "mode": "lines",
         "type": "scatter",
         "x": [
          0,
          1.3813852720529967,
          1.3813852720529967,
          0
         ],
         "xaxis": "x",
         "y": [
          -11185,
          -11185,
          -11195,
          -11195
         ],
         "yaxis": "y"
        },
        {
         "hoverinfo": "text",
         "marker": {
          "color": "rgb(0,116,217)"
         },
         "mode": "lines",
         "type": "scatter",
         "x": [
          0,
          1.3614441331419758,
          1.3614441331419758,
          0
         ],
         "xaxis": "x",
         "y": [
          -11205,
          -11205,
          -11215,
          -11215
         ],
         "yaxis": "y"
        },
        {
         "hoverinfo": "text",
         "marker": {
          "color": "rgb(0,116,217)"
         },
         "mode": "lines",
         "type": "scatter",
         "x": [
          1.3813852720529967,
          1.396753728827904,
          1.396753728827904,
          1.3614441331419758
         ],
         "xaxis": "x",
         "y": [
          -11190,
          -11190,
          -11210,
          -11210
         ],
         "yaxis": "y"
        },
        {
         "hoverinfo": "text",
         "marker": {
          "color": "rgb(0,116,217)"
         },
         "mode": "lines",
         "type": "scatter",
         "x": [
          0,
          1.3339295997497749,
          1.3339295997497749,
          0
         ],
         "xaxis": "x",
         "y": [
          -11225,
          -11225,
          -11235,
          -11235
         ],
         "yaxis": "y"
        },
        {
         "hoverinfo": "text",
         "marker": {
          "color": "rgb(0,116,217)"
         },
         "mode": "lines",
         "type": "scatter",
         "x": [
          1.396753728827904,
          1.4330185071442827,
          1.4330185071442827,
          1.3339295997497749
         ],
         "xaxis": "x",
         "y": [
          -11200,
          -11200,
          -11230,
          -11230
         ],
         "yaxis": "y"
        },
        {
         "hoverinfo": "text",
         "marker": {
          "color": "rgb(0,116,217)"
         },
         "mode": "lines",
         "type": "scatter",
         "x": [
          1.318550732895531,
          1.4805052685824605,
          1.4805052685824605,
          1.4330185071442827
         ],
         "xaxis": "x",
         "y": [
          -11170,
          -11170,
          -11215,
          -11215
         ],
         "yaxis": "y"
        },
        {
         "hoverinfo": "text",
         "marker": {
          "color": "rgb(0,116,217)"
         },
         "mode": "lines",
         "type": "scatter",
         "x": [
          0,
          1.3323713114643665,
          1.3323713114643665,
          0
         ],
         "xaxis": "x",
         "y": [
          -11245,
          -11245,
          -11255,
          -11255
         ],
         "yaxis": "y"
        },
        {
         "hoverinfo": "text",
         "marker": {
          "color": "rgb(0,116,217)"
         },
         "mode": "lines",
         "type": "scatter",
         "x": [
          1.4805052685824605,
          1.5623900968505746,
          1.5623900968505746,
          1.3323713114643665
         ],
         "xaxis": "x",
         "y": [
          -11192.5,
          -11192.5,
          -11250,
          -11250
         ],
         "yaxis": "y"
        },
        {
         "hoverinfo": "text",
         "marker": {
          "color": "rgb(0,116,217)"
         },
         "mode": "lines",
         "type": "scatter",
         "x": [
          1.6628563905645872,
          1.8740539190794732,
          1.8740539190794732,
          1.5623900968505746
         ],
         "xaxis": "x",
         "y": [
          -11039.6875,
          -11039.6875,
          -11221.25,
          -11221.25
         ],
         "yaxis": "y"
        },
        {
         "hoverinfo": "text",
         "marker": {
          "color": "rgb(0,116,217)"
         },
         "mode": "lines",
         "type": "scatter",
         "x": [
          0,
          1.3569285739719685,
          1.3569285739719685,
          0
         ],
         "xaxis": "x",
         "y": [
          -11275,
          -11275,
          -11285,
          -11285
         ],
         "yaxis": "y"
        },
        {
         "hoverinfo": "text",
         "marker": {
          "color": "rgb(0,116,217)"
         },
         "mode": "lines",
         "type": "scatter",
         "x": [
          0,
          1.3877806100263497,
          1.3877806100263497,
          1.3569285739719685
         ],
         "xaxis": "x",
         "y": [
          -11265,
          -11265,
          -11280,
          -11280
         ],
         "yaxis": "y"
        },
        {
         "hoverinfo": "text",
         "marker": {
          "color": "rgb(0,116,217)"
         },
         "mode": "lines",
         "type": "scatter",
         "x": [
          0,
          1.3855975987176539,
          1.3855975987176539,
          0
         ],
         "xaxis": "x",
         "y": [
          -11295,
          -11295,
          -11305,
          -11305
         ],
         "yaxis": "y"
        },
        {
         "hoverinfo": "text",
         "marker": {
          "color": "rgb(0,116,217)"
         },
         "mode": "lines",
         "type": "scatter",
         "x": [
          1.3877806100263497,
          1.4460293697246256,
          1.4460293697246256,
          1.3855975987176539
         ],
         "xaxis": "x",
         "y": [
          -11272.5,
          -11272.5,
          -11300,
          -11300
         ],
         "yaxis": "y"
        },
        {
         "hoverinfo": "text",
         "marker": {
          "color": "rgb(0,116,217)"
         },
         "mode": "lines",
         "type": "scatter",
         "x": [
          0,
          1.314718093557574,
          1.314718093557574,
          0
         ],
         "xaxis": "x",
         "y": [
          -11315,
          -11315,
          -11325,
          -11325
         ],
         "yaxis": "y"
        },
        {
         "hoverinfo": "text",
         "marker": {
          "color": "rgb(0,116,217)"
         },
         "mode": "lines",
         "type": "scatter",
         "x": [
          1.4460293697246256,
          1.479081495364614,
          1.479081495364614,
          1.314718093557574
         ],
         "xaxis": "x",
         "y": [
          -11286.25,
          -11286.25,
          -11320,
          -11320
         ],
         "yaxis": "y"
        },
        {
         "hoverinfo": "text",
         "marker": {
          "color": "rgb(0,116,217)"
         },
         "mode": "lines",
         "type": "scatter",
         "x": [
          0,
          1.36423766045252,
          1.36423766045252,
          0
         ],
         "xaxis": "x",
         "y": [
          -11335,
          -11335,
          -11345,
          -11345
         ],
         "yaxis": "y"
        },
        {
         "hoverinfo": "text",
         "marker": {
          "color": "rgb(0,116,217)"
         },
         "mode": "lines",
         "type": "scatter",
         "x": [
          0,
          1.338442528486719,
          1.338442528486719,
          0
         ],
         "xaxis": "x",
         "y": [
          -11355,
          -11355,
          -11365,
          -11365
         ],
         "yaxis": "y"
        },
        {
         "hoverinfo": "text",
         "marker": {
          "color": "rgb(0,116,217)"
         },
         "mode": "lines",
         "type": "scatter",
         "x": [
          1.36423766045252,
          1.442002920547488,
          1.442002920547488,
          1.338442528486719
         ],
         "xaxis": "x",
         "y": [
          -11340,
          -11340,
          -11360,
          -11360
         ],
         "yaxis": "y"
        },
        {
         "hoverinfo": "text",
         "marker": {
          "color": "rgb(0,116,217)"
         },
         "mode": "lines",
         "type": "scatter",
         "x": [
          1.479081495364614,
          1.5643137161982157,
          1.5643137161982157,
          1.442002920547488
         ],
         "xaxis": "x",
         "y": [
          -11303.125,
          -11303.125,
          -11350,
          -11350
         ],
         "yaxis": "y"
        },
        {
         "hoverinfo": "text",
         "marker": {
          "color": "rgb(0,116,217)"
         },
         "mode": "lines",
         "type": "scatter",
         "x": [
          0,
          1.3757895841438108,
          1.3757895841438108,
          0
         ],
         "xaxis": "x",
         "y": [
          -11375,
          -11375,
          -11385,
          -11385
         ],
         "yaxis": "y"
        },
        {
         "hoverinfo": "text",
         "marker": {
          "color": "rgb(0,116,217)"
         },
         "mode": "lines",
         "type": "scatter",
         "x": [
          0,
          1.3464471074768565,
          1.3464471074768565,
          0
         ],
         "xaxis": "x",
         "y": [
          -11395,
          -11395,
          -11405,
          -11405
         ],
         "yaxis": "y"
        },
        {
         "hoverinfo": "text",
         "marker": {
          "color": "rgb(0,116,217)"
         },
         "mode": "lines",
         "type": "scatter",
         "x": [
          1.3464471074768565,
          1.4521465153674071,
          1.4521465153674071,
          0
         ],
         "xaxis": "x",
         "y": [
          -11400,
          -11400,
          -11415,
          -11415
         ],
         "yaxis": "y"
        },
        {
         "hoverinfo": "text",
         "marker": {
          "color": "rgb(0,116,217)"
         },
         "mode": "lines",
         "type": "scatter",
         "x": [
          0,
          1.38065940408798,
          1.38065940408798,
          0
         ],
         "xaxis": "x",
         "y": [
          -11435,
          -11435,
          -11445,
          -11445
         ],
         "yaxis": "y"
        },
        {
         "hoverinfo": "text",
         "marker": {
          "color": "rgb(0,116,217)"
         },
         "mode": "lines",
         "type": "scatter",
         "x": [
          0,
          1.3984579163407436,
          1.3984579163407436,
          1.38065940408798
         ],
         "xaxis": "x",
         "y": [
          -11425,
          -11425,
          -11440,
          -11440
         ],
         "yaxis": "y"
        },
        {
         "hoverinfo": "text",
         "marker": {
          "color": "rgb(0,116,217)"
         },
         "mode": "lines",
         "type": "scatter",
         "x": [
          0,
          1.380579224010639,
          1.380579224010639,
          0
         ],
         "xaxis": "x",
         "y": [
          -11455,
          -11455,
          -11465,
          -11465
         ],
         "yaxis": "y"
        },
        {
         "hoverinfo": "text",
         "marker": {
          "color": "rgb(0,116,217)"
         },
         "mode": "lines",
         "type": "scatter",
         "x": [
          1.3984579163407436,
          1.4440178289359464,
          1.4440178289359464,
          1.380579224010639
         ],
         "xaxis": "x",
         "y": [
          -11432.5,
          -11432.5,
          -11460,
          -11460
         ],
         "yaxis": "y"
        },
        {
         "hoverinfo": "text",
         "marker": {
          "color": "rgb(0,116,217)"
         },
         "mode": "lines",
         "type": "scatter",
         "x": [
          1.4521465153674071,
          1.471009244773329,
          1.471009244773329,
          1.4440178289359464
         ],
         "xaxis": "x",
         "y": [
          -11407.5,
          -11407.5,
          -11446.25,
          -11446.25
         ],
         "yaxis": "y"
        },
        {
         "hoverinfo": "text",
         "marker": {
          "color": "rgb(0,116,217)"
         },
         "mode": "lines",
         "type": "scatter",
         "x": [
          1.3757895841438108,
          1.4980973874908234,
          1.4980973874908234,
          1.471009244773329
         ],
         "xaxis": "x",
         "y": [
          -11380,
          -11380,
          -11426.875,
          -11426.875
         ],
         "yaxis": "y"
        },
        {
         "hoverinfo": "text",
         "marker": {
          "color": "rgb(0,116,217)"
         },
         "mode": "lines",
         "type": "scatter",
         "x": [
          0,
          1.3731046837838572,
          1.3731046837838572,
          0
         ],
         "xaxis": "x",
         "y": [
          -11475,
          -11475,
          -11485,
          -11485
         ],
         "yaxis": "y"
        },
        {
         "hoverinfo": "text",
         "marker": {
          "color": "rgb(0,116,217)"
         },
         "mode": "lines",
         "type": "scatter",
         "x": [
          0,
          1.3931200261218157,
          1.3931200261218157,
          0
         ],
         "xaxis": "x",
         "y": [
          -11495,
          -11495,
          -11505,
          -11505
         ],
         "yaxis": "y"
        },
        {
         "hoverinfo": "text",
         "marker": {
          "color": "rgb(0,116,217)"
         },
         "mode": "lines",
         "type": "scatter",
         "x": [
          1.3931200261218157,
          1.4102992769369647,
          1.4102992769369647,
          0
         ],
         "xaxis": "x",
         "y": [
          -11500,
          -11500,
          -11515,
          -11515
         ],
         "yaxis": "y"
        },
        {
         "hoverinfo": "text",
         "marker": {
          "color": "rgb(0,116,217)"
         },
         "mode": "lines",
         "type": "scatter",
         "x": [
          1.3731046837838572,
          1.433217953444331,
          1.433217953444331,
          1.4102992769369647
         ],
         "xaxis": "x",
         "y": [
          -11480,
          -11480,
          -11507.5,
          -11507.5
         ],
         "yaxis": "y"
        },
        {
         "hoverinfo": "text",
         "marker": {
          "color": "rgb(0,116,217)"
         },
         "mode": "lines",
         "type": "scatter",
         "x": [
          1.4980973874908234,
          1.5492779141503632,
          1.5492779141503632,
          1.433217953444331
         ],
         "xaxis": "x",
         "y": [
          -11403.4375,
          -11403.4375,
          -11493.75,
          -11493.75
         ],
         "yaxis": "y"
        },
        {
         "hoverinfo": "text",
         "marker": {
          "color": "rgb(0,116,217)"
         },
         "mode": "lines",
         "type": "scatter",
         "x": [
          0,
          1.364660192467332,
          1.364660192467332,
          0
         ],
         "xaxis": "x",
         "y": [
          -11525,
          -11525,
          -11535,
          -11535
         ],
         "yaxis": "y"
        },
        {
         "hoverinfo": "text",
         "marker": {
          "color": "rgb(0,116,217)"
         },
         "mode": "lines",
         "type": "scatter",
         "x": [
          1.5492779141503632,
          1.5644632932791174,
          1.5644632932791174,
          1.364660192467332
         ],
         "xaxis": "x",
         "y": [
          -11448.59375,
          -11448.59375,
          -11530,
          -11530
         ],
         "yaxis": "y"
        },
        {
         "hoverinfo": "text",
         "marker": {
          "color": "rgb(0,116,217)"
         },
         "mode": "lines",
         "type": "scatter",
         "x": [
          1.5643137161982157,
          1.7814720661794088,
          1.7814720661794088,
          1.5644632932791174
         ],
         "xaxis": "x",
         "y": [
          -11326.5625,
          -11326.5625,
          -11489.296875,
          -11489.296875
         ],
         "yaxis": "y"
        },
        {
         "hoverinfo": "text",
         "marker": {
          "color": "rgb(0,116,217)"
         },
         "mode": "lines",
         "type": "scatter",
         "x": [
          1.8740539190794732,
          2.016151028162701,
          2.016151028162701,
          1.7814720661794088
         ],
         "xaxis": "x",
         "y": [
          -11130.46875,
          -11130.46875,
          -11407.9296875,
          -11407.9296875
         ],
         "yaxis": "y"
        },
        {
         "hoverinfo": "text",
         "marker": {
          "color": "rgb(0,116,217)"
         },
         "mode": "lines",
         "type": "scatter",
         "x": [
          2.023200722863802,
          2.7327128562729484,
          2.7327128562729484,
          2.016151028162701
         ],
         "xaxis": "x",
         "y": [
          -10792.734375,
          -10792.734375,
          -11269.19921875,
          -11269.19921875
         ],
         "yaxis": "y"
        },
        {
         "hoverinfo": "text",
         "marker": {
          "color": "rgb(0,116,217)"
         },
         "mode": "lines",
         "type": "scatter",
         "x": [
          2.2998157827897185,
          2.911930015621802,
          2.911930015621802,
          2.7327128562729484
         ],
         "xaxis": "x",
         "y": [
          -9821.6796875,
          -9821.6796875,
          -11030.966796875,
          -11030.966796875
         ],
         "yaxis": "y"
        },
        {
         "hoverinfo": "text",
         "marker": {
          "color": "rgb(0,116,217)"
         },
         "mode": "lines",
         "type": "scatter",
         "x": [
          0,
          1.229773648795585,
          1.229773648795585,
          0
         ],
         "xaxis": "x",
         "y": [
          -11545,
          -11545,
          -11555,
          -11555
         ],
         "yaxis": "y"
        },
        {
         "hoverinfo": "text",
         "marker": {
          "color": "rgb(0,116,217)"
         },
         "mode": "lines",
         "type": "scatter",
         "x": [
          0,
          1.305908178407792,
          1.305908178407792,
          0
         ],
         "xaxis": "x",
         "y": [
          -11575,
          -11575,
          -11585,
          -11585
         ],
         "yaxis": "y"
        },
        {
         "hoverinfo": "text",
         "marker": {
          "color": "rgb(0,116,217)"
         },
         "mode": "lines",
         "type": "scatter",
         "x": [
          0,
          1.3466793509985255,
          1.3466793509985255,
          1.305908178407792
         ],
         "xaxis": "x",
         "y": [
          -11565,
          -11565,
          -11580,
          -11580
         ],
         "yaxis": "y"
        },
        {
         "hoverinfo": "text",
         "marker": {
          "color": "rgb(0,116,217)"
         },
         "mode": "lines",
         "type": "scatter",
         "x": [
          1.229773648795585,
          1.4377942422454586,
          1.4377942422454586,
          1.3466793509985255
         ],
         "xaxis": "x",
         "y": [
          -11550,
          -11550,
          -11572.5,
          -11572.5
         ],
         "yaxis": "y"
        },
        {
         "hoverinfo": "text",
         "marker": {
          "color": "rgb(0,116,217)"
         },
         "mode": "lines",
         "type": "scatter",
         "x": [
          0,
          1.217952872164735,
          1.217952872164735,
          0
         ],
         "xaxis": "x",
         "y": [
          -11595,
          -11595,
          -11605,
          -11605
         ],
         "yaxis": "y"
        },
        {
         "hoverinfo": "text",
         "marker": {
          "color": "rgb(0,116,217)"
         },
         "mode": "lines",
         "type": "scatter",
         "x": [
          0,
          1.144057178073865,
          1.144057178073865,
          0
         ],
         "xaxis": "x",
         "y": [
          -11615,
          -11615,
          -11625,
          -11625
         ],
         "yaxis": "y"
        },
        {
         "hoverinfo": "text",
         "marker": {
          "color": "rgb(0,116,217)"
         },
         "mode": "lines",
         "type": "scatter",
         "x": [
          1.217952872164735,
          1.2833770593844274,
          1.2833770593844274,
          1.144057178073865
         ],
         "xaxis": "x",
         "y": [
          -11600,
          -11600,
          -11620,
          -11620
         ],
         "yaxis": "y"
        },
        {
         "hoverinfo": "text",
         "marker": {
          "color": "rgb(0,116,217)"
         },
         "mode": "lines",
         "type": "scatter",
         "x": [
          1.4377942422454586,
          1.534747187783114,
          1.534747187783114,
          1.2833770593844274
         ],
         "xaxis": "x",
         "y": [
          -11561.25,
          -11561.25,
          -11610,
          -11610
         ],
         "yaxis": "y"
        },
        {
         "hoverinfo": "text",
         "marker": {
          "color": "rgb(0,116,217)"
         },
         "mode": "lines",
         "type": "scatter",
         "x": [
          0,
          1.2799389051865333,
          1.2799389051865333,
          0
         ],
         "xaxis": "x",
         "y": [
          -11645,
          -11645,
          -11655,
          -11655
         ],
         "yaxis": "y"
        },
        {
         "hoverinfo": "text",
         "marker": {
          "color": "rgb(0,116,217)"
         },
         "mode": "lines",
         "type": "scatter",
         "x": [
          0,
          1.4049584621985376,
          1.4049584621985376,
          1.2799389051865333
         ],
         "xaxis": "x",
         "y": [
          -11635,
          -11635,
          -11650,
          -11650
         ],
         "yaxis": "y"
        },
        {
         "hoverinfo": "text",
         "marker": {
          "color": "rgb(0,116,217)"
         },
         "mode": "lines",
         "type": "scatter",
         "x": [
          0,
          1.3197767973023005,
          1.3197767973023005,
          0
         ],
         "xaxis": "x",
         "y": [
          -11675,
          -11675,
          -11685,
          -11685
         ],
         "yaxis": "y"
        },
        {
         "hoverinfo": "text",
         "marker": {
          "color": "rgb(0,116,217)"
         },
         "mode": "lines",
         "type": "scatter",
         "x": [
          0,
          1.3249978707826948,
          1.3249978707826948,
          1.3197767973023005
         ],
         "xaxis": "x",
         "y": [
          -11665,
          -11665,
          -11680,
          -11680
         ],
         "yaxis": "y"
        },
        {
         "hoverinfo": "text",
         "marker": {
          "color": "rgb(0,116,217)"
         },
         "mode": "lines",
         "type": "scatter",
         "x": [
          1.3249978707826948,
          1.3933647513212895,
          1.3933647513212895,
          0
         ],
         "xaxis": "x",
         "y": [
          -11672.5,
          -11672.5,
          -11695,
          -11695
         ],
         "yaxis": "y"
        },
        {
         "hoverinfo": "text",
         "marker": {
          "color": "rgb(0,116,217)"
         },
         "mode": "lines",
         "type": "scatter",
         "x": [
          1.4049584621985376,
          1.5420996425257134,
          1.5420996425257134,
          1.3933647513212895
         ],
         "xaxis": "x",
         "y": [
          -11642.5,
          -11642.5,
          -11683.75,
          -11683.75
         ],
         "yaxis": "y"
        },
        {
         "hoverinfo": "text",
         "marker": {
          "color": "rgb(0,116,217)"
         },
         "mode": "lines",
         "type": "scatter",
         "x": [
          1.534747187783114,
          1.8710819847376696,
          1.8710819847376696,
          1.5420996425257134
         ],
         "xaxis": "x",
         "y": [
          -11585.625,
          -11585.625,
          -11663.125,
          -11663.125
         ],
         "yaxis": "y"
        },
        {
         "hoverinfo": "text",
         "marker": {
          "color": "rgb(0,116,217)"
         },
         "mode": "lines",
         "type": "scatter",
         "x": [
          0,
          1.0188913364175314,
          1.0188913364175314,
          0
         ],
         "xaxis": "x",
         "y": [
          -11715,
          -11715,
          -11725,
          -11725
         ],
         "yaxis": "y"
        },
        {
         "hoverinfo": "text",
         "marker": {
          "color": "rgb(0,116,217)"
         },
         "mode": "lines",
         "type": "scatter",
         "x": [
          0,
          1.1035080041417415,
          1.1035080041417415,
          1.0188913364175314
         ],
         "xaxis": "x",
         "y": [
          -11705,
          -11705,
          -11720,
          -11720
         ],
         "yaxis": "y"
        },
        {
         "hoverinfo": "text",
         "marker": {
          "color": "rgb(0,116,217)"
         },
         "mode": "lines",
         "type": "scatter",
         "x": [
          1.8710819847376696,
          2.2649688803122445,
          2.2649688803122445,
          1.1035080041417415
         ],
         "xaxis": "x",
         "y": [
          -11624.375,
          -11624.375,
          -11712.5,
          -11712.5
         ],
         "yaxis": "y"
        },
        {
         "hoverinfo": "text",
         "marker": {
          "color": "rgb(0,116,217)"
         },
         "mode": "lines",
         "type": "scatter",
         "x": [
          2.911930015621802,
          3.8783307155156588,
          3.8783307155156588,
          2.2649688803122445
         ],
         "xaxis": "x",
         "y": [
          -10426.3232421875,
          -10426.3232421875,
          -11668.4375,
          -11668.4375
         ],
         "yaxis": "y"
        },
        {
         "hoverinfo": "text",
         "marker": {
          "color": "rgb(0,116,217)"
         },
         "mode": "lines",
         "type": "scatter",
         "x": [
          2.8892289565013005,
          5.277914873953544,
          5.277914873953544,
          3.8783307155156588
         ],
         "xaxis": "x",
         "y": [
          -9062.080078125,
          -9062.080078125,
          -11047.38037109375,
          -11047.38037109375
         ],
         "yaxis": "y"
        },
        {
         "hoverinfo": "text",
         "marker": {
          "color": "rgb(0,116,217)"
         },
         "mode": "lines",
         "type": "scatter",
         "x": [
          3.938168927355603,
          6.699762710342773,
          6.699762710342773,
          5.277914873953544
         ],
         "xaxis": "x",
         "y": [
          -8047.939453125,
          -8047.939453125,
          -10054.730224609375,
          -10054.730224609375
         ],
         "yaxis": "y"
        },
        {
         "hoverinfo": "text",
         "marker": {
          "color": "rgb(0,116,217)"
         },
         "mode": "lines",
         "type": "scatter",
         "x": [
          0,
          1.274922663581748,
          1.274922663581748,
          0
         ],
         "xaxis": "x",
         "y": [
          -11735,
          -11735,
          -11745,
          -11745
         ],
         "yaxis": "y"
        },
        {
         "hoverinfo": "text",
         "marker": {
          "color": "rgb(0,116,217)"
         },
         "mode": "lines",
         "type": "scatter",
         "x": [
          0,
          1.2507624399364803,
          1.2507624399364803,
          0
         ],
         "xaxis": "x",
         "y": [
          -11765,
          -11765,
          -11775,
          -11775
         ],
         "yaxis": "y"
        },
        {
         "hoverinfo": "text",
         "marker": {
          "color": "rgb(0,116,217)"
         },
         "mode": "lines",
         "type": "scatter",
         "x": [
          0,
          1.2984581784076181,
          1.2984581784076181,
          1.2507624399364803
         ],
         "xaxis": "x",
         "y": [
          -11755,
          -11755,
          -11770,
          -11770
         ],
         "yaxis": "y"
        },
        {
         "hoverinfo": "text",
         "marker": {
          "color": "rgb(0,116,217)"
         },
         "mode": "lines",
         "type": "scatter",
         "x": [
          1.274922663581748,
          1.3649284849436287,
          1.3649284849436287,
          1.2984581784076181
         ],
         "xaxis": "x",
         "y": [
          -11740,
          -11740,
          -11762.5,
          -11762.5
         ],
         "yaxis": "y"
        },
        {
         "hoverinfo": "text",
         "marker": {
          "color": "rgb(0,116,217)"
         },
         "mode": "lines",
         "type": "scatter",
         "x": [
          0,
          1.2418919782911253,
          1.2418919782911253,
          0
         ],
         "xaxis": "x",
         "y": [
          -11785,
          -11785,
          -11795,
          -11795
         ],
         "yaxis": "y"
        },
        {
         "hoverinfo": "text",
         "marker": {
          "color": "rgb(0,116,217)"
         },
         "mode": "lines",
         "type": "scatter",
         "x": [
          0,
          1.2236106979642316,
          1.2236106979642316,
          0
         ],
         "xaxis": "x",
         "y": [
          -11805,
          -11805,
          -11815,
          -11815
         ],
         "yaxis": "y"
        },
        {
         "hoverinfo": "text",
         "marker": {
          "color": "rgb(0,116,217)"
         },
         "mode": "lines",
         "type": "scatter",
         "x": [
          1.2418919782911253,
          1.2667576596502375,
          1.2667576596502375,
          1.2236106979642316
         ],
         "xaxis": "x",
         "y": [
          -11790,
          -11790,
          -11810,
          -11810
         ],
         "yaxis": "y"
        },
        {
         "hoverinfo": "text",
         "marker": {
          "color": "rgb(0,116,217)"
         },
         "mode": "lines",
         "type": "scatter",
         "x": [
          0,
          1.2034584171344254,
          1.2034584171344254,
          0
         ],
         "xaxis": "x",
         "y": [
          -11825,
          -11825,
          -11835,
          -11835
         ],
         "yaxis": "y"
        },
        {
         "hoverinfo": "text",
         "marker": {
          "color": "rgb(0,116,217)"
         },
         "mode": "lines",
         "type": "scatter",
         "x": [
          1.2034584171344254,
          1.3140471012079096,
          1.3140471012079096,
          0
         ],
         "xaxis": "x",
         "y": [
          -11830,
          -11830,
          -11845,
          -11845
         ],
         "yaxis": "y"
        },
        {
         "hoverinfo": "text",
         "marker": {
          "color": "rgb(0,116,217)"
         },
         "mode": "lines",
         "type": "scatter",
         "x": [
          1.2667576596502375,
          1.4121978811843714,
          1.4121978811843714,
          1.3140471012079096
         ],
         "xaxis": "x",
         "y": [
          -11800,
          -11800,
          -11837.5,
          -11837.5
         ],
         "yaxis": "y"
        },
        {
         "hoverinfo": "text",
         "marker": {
          "color": "rgb(0,116,217)"
         },
         "mode": "lines",
         "type": "scatter",
         "x": [
          0,
          1.191554805801626,
          1.191554805801626,
          0
         ],
         "xaxis": "x",
         "y": [
          -11865,
          -11865,
          -11875,
          -11875
         ],
         "yaxis": "y"
        },
        {
         "hoverinfo": "text",
         "marker": {
          "color": "rgb(0,116,217)"
         },
         "mode": "lines",
         "type": "scatter",
         "x": [
          0,
          1.2252820142884848,
          1.2252820142884848,
          1.191554805801626
         ],
         "xaxis": "x",
         "y": [
          -11855,
          -11855,
          -11870,
          -11870
         ],
         "yaxis": "y"
        },
        {
         "hoverinfo": "text",
         "marker": {
          "color": "rgb(0,116,217)"
         },
         "mode": "lines",
         "type": "scatter",
         "x": [
          1.2252820142884848,
          1.326160483255097,
          1.326160483255097,
          0
         ],
         "xaxis": "x",
         "y": [
          -11862.5,
          -11862.5,
          -11885,
          -11885
         ],
         "yaxis": "y"
        },
        {
         "hoverinfo": "text",
         "marker": {
          "color": "rgb(0,116,217)"
         },
         "mode": "lines",
         "type": "scatter",
         "x": [
          1.4121978811843714,
          1.5386582739628287,
          1.5386582739628287,
          1.326160483255097
         ],
         "xaxis": "x",
         "y": [
          -11818.75,
          -11818.75,
          -11873.75,
          -11873.75
         ],
         "yaxis": "y"
        },
        {
         "hoverinfo": "text",
         "marker": {
          "color": "rgb(0,116,217)"
         },
         "mode": "lines",
         "type": "scatter",
         "x": [
          1.3649284849436287,
          1.6094158250058779,
          1.6094158250058779,
          1.5386582739628287
         ],
         "xaxis": "x",
         "y": [
          -11751.25,
          -11751.25,
          -11846.25,
          -11846.25
         ],
         "yaxis": "y"
        },
        {
         "hoverinfo": "text",
         "marker": {
          "color": "rgb(0,116,217)"
         },
         "mode": "lines",
         "type": "scatter",
         "x": [
          0,
          1.1729234567916142,
          1.1729234567916142,
          0
         ],
         "xaxis": "x",
         "y": [
          -11905,
          -11905,
          -11915,
          -11915
         ],
         "yaxis": "y"
        },
        {
         "hoverinfo": "text",
         "marker": {
          "color": "rgb(0,116,217)"
         },
         "mode": "lines",
         "type": "scatter",
         "x": [
          0,
          1.249895808662579,
          1.249895808662579,
          1.1729234567916142
         ],
         "xaxis": "x",
         "y": [
          -11895,
          -11895,
          -11910,
          -11910
         ],
         "yaxis": "y"
        },
        {
         "hoverinfo": "text",
         "marker": {
          "color": "rgb(0,116,217)"
         },
         "mode": "lines",
         "type": "scatter",
         "x": [
          0,
          1.166814131200219,
          1.166814131200219,
          0
         ],
         "xaxis": "x",
         "y": [
          -11925,
          -11925,
          -11935,
          -11935
         ],
         "yaxis": "y"
        },
        {
         "hoverinfo": "text",
         "marker": {
          "color": "rgb(0,116,217)"
         },
         "mode": "lines",
         "type": "scatter",
         "x": [
          1.249895808662579,
          1.3033468033455624,
          1.3033468033455624,
          1.166814131200219
         ],
         "xaxis": "x",
         "y": [
          -11902.5,
          -11902.5,
          -11930,
          -11930
         ],
         "yaxis": "y"
        },
        {
         "hoverinfo": "text",
         "marker": {
          "color": "rgb(0,116,217)"
         },
         "mode": "lines",
         "type": "scatter",
         "x": [
          0,
          1.1640223294257697,
          1.1640223294257697,
          0
         ],
         "xaxis": "x",
         "y": [
          -11955,
          -11955,
          -11965,
          -11965
         ],
         "yaxis": "y"
        },
        {
         "hoverinfo": "text",
         "marker": {
          "color": "rgb(0,116,217)"
         },
         "mode": "lines",
         "type": "scatter",
         "x": [
          0,
          1.2591880415770702,
          1.2591880415770702,
          1.1640223294257697
         ],
         "xaxis": "x",
         "y": [
          -11945,
          -11945,
          -11960,
          -11960
         ],
         "yaxis": "y"
        },
        {
         "hoverinfo": "text",
         "marker": {
          "color": "rgb(0,116,217)"
         },
         "mode": "lines",
         "type": "scatter",
         "x": [
          1.3033468033455624,
          1.3893541771687365,
          1.3893541771687365,
          1.2591880415770702
         ],
         "xaxis": "x",
         "y": [
          -11916.25,
          -11916.25,
          -11952.5,
          -11952.5
         ],
         "yaxis": "y"
        },
        {
         "hoverinfo": "text",
         "marker": {
          "color": "rgb(0,116,217)"
         },
         "mode": "lines",
         "type": "scatter",
         "x": [
          1.6094158250058779,
          1.7840127825481216,
          1.7840127825481216,
          1.3893541771687365
         ],
         "xaxis": "x",
         "y": [
          -11798.75,
          -11798.75,
          -11934.375,
          -11934.375
         ],
         "yaxis": "y"
        },
        {
         "hoverinfo": "text",
         "marker": {
          "color": "rgb(0,116,217)"
         },
         "mode": "lines",
         "type": "scatter",
         "x": [
          0,
          1.2022227383858328,
          1.2022227383858328,
          0
         ],
         "xaxis": "x",
         "y": [
          -11985,
          -11985,
          -11995,
          -11995
         ],
         "yaxis": "y"
        },
        {
         "hoverinfo": "text",
         "marker": {
          "color": "rgb(0,116,217)"
         },
         "mode": "lines",
         "type": "scatter",
         "x": [
          0,
          1.3747039177119886,
          1.3747039177119886,
          1.2022227383858328
         ],
         "xaxis": "x",
         "y": [
          -11975,
          -11975,
          -11990,
          -11990
         ],
         "yaxis": "y"
        },
        {
         "hoverinfo": "text",
         "marker": {
          "color": "rgb(0,116,217)"
         },
         "mode": "lines",
         "type": "scatter",
         "x": [
          0,
          1.256974122736501,
          1.256974122736501,
          0
         ],
         "xaxis": "x",
         "y": [
          -12005,
          -12005,
          -12015,
          -12015
         ],
         "yaxis": "y"
        },
        {
         "hoverinfo": "text",
         "marker": {
          "color": "rgb(0,116,217)"
         },
         "mode": "lines",
         "type": "scatter",
         "x": [
          1.3747039177119886,
          1.5687564304068842,
          1.5687564304068842,
          1.256974122736501
         ],
         "xaxis": "x",
         "y": [
          -11982.5,
          -11982.5,
          -12010,
          -12010
         ],
         "yaxis": "y"
        },
        {
         "hoverinfo": "text",
         "marker": {
          "color": "rgb(0,116,217)"
         },
         "mode": "lines",
         "type": "scatter",
         "x": [
          1.7840127825481216,
          1.964987188187704,
          1.964987188187704,
          1.5687564304068842
         ],
         "xaxis": "x",
         "y": [
          -11866.5625,
          -11866.5625,
          -11996.25,
          -11996.25
         ],
         "yaxis": "y"
        },
        {
         "hoverinfo": "text",
         "marker": {
          "color": "rgb(0,116,217)"
         },
         "mode": "lines",
         "type": "scatter",
         "x": [
          0,
          1.3370924629421623,
          1.3370924629421623,
          0
         ],
         "xaxis": "x",
         "y": [
          -12025,
          -12025,
          -12035,
          -12035
         ],
         "yaxis": "y"
        },
        {
         "hoverinfo": "text",
         "marker": {
          "color": "rgb(0,116,217)"
         },
         "mode": "lines",
         "type": "scatter",
         "x": [
          0,
          1.0324361285934494,
          1.0324361285934494,
          0
         ],
         "xaxis": "x",
         "y": [
          -12055,
          -12055,
          -12065,
          -12065
         ],
         "yaxis": "y"
        },
        {
         "hoverinfo": "text",
         "marker": {
          "color": "rgb(0,116,217)"
         },
         "mode": "lines",
         "type": "scatter",
         "x": [
          0,
          1.1592736261458196,
          1.1592736261458196,
          1.0324361285934494
         ],
         "xaxis": "x",
         "y": [
          -12045,
          -12045,
          -12060,
          -12060
         ],
         "yaxis": "y"
        },
        {
         "hoverinfo": "text",
         "marker": {
          "color": "rgb(0,116,217)"
         },
         "mode": "lines",
         "type": "scatter",
         "x": [
          1.3370924629421623,
          1.6978221099598387,
          1.6978221099598387,
          1.1592736261458196
         ],
         "xaxis": "x",
         "y": [
          -12030,
          -12030,
          -12052.5,
          -12052.5
         ],
         "yaxis": "y"
        },
        {
         "hoverinfo": "text",
         "marker": {
          "color": "rgb(0,116,217)"
         },
         "mode": "lines",
         "type": "scatter",
         "x": [
          0,
          1.1471285753507399,
          1.1471285753507399,
          0
         ],
         "xaxis": "x",
         "y": [
          -12085,
          -12085,
          -12095,
          -12095
         ],
         "yaxis": "y"
        },
        {
         "hoverinfo": "text",
         "marker": {
          "color": "rgb(0,116,217)"
         },
         "mode": "lines",
         "type": "scatter",
         "x": [
          0,
          1.1981283697293648,
          1.1981283697293648,
          1.1471285753507399
         ],
         "xaxis": "x",
         "y": [
          -12075,
          -12075,
          -12090,
          -12090
         ],
         "yaxis": "y"
        },
        {
         "hoverinfo": "text",
         "marker": {
          "color": "rgb(0,116,217)"
         },
         "mode": "lines",
         "type": "scatter",
         "x": [
          1.1981283697293648,
          1.2493181522997807,
          1.2493181522997807,
          0
         ],
         "xaxis": "x",
         "y": [
          -12082.5,
          -12082.5,
          -12105,
          -12105
         ],
         "yaxis": "y"
        },
        {
         "hoverinfo": "text",
         "marker": {
          "color": "rgb(0,116,217)"
         },
         "mode": "lines",
         "type": "scatter",
         "x": [
          0,
          1.340213262918806,
          1.340213262918806,
          0
         ],
         "xaxis": "x",
         "y": [
          -12115,
          -12115,
          -12125,
          -12125
         ],
         "yaxis": "y"
        },
        {
         "hoverinfo": "text",
         "marker": {
          "color": "rgb(0,116,217)"
         },
         "mode": "lines",
         "type": "scatter",
         "x": [
          1.2493181522997807,
          1.4083220057694095,
          1.4083220057694095,
          1.340213262918806
         ],
         "xaxis": "x",
         "y": [
          -12093.75,
          -12093.75,
          -12120,
          -12120
         ],
         "yaxis": "y"
        },
        {
         "hoverinfo": "text",
         "marker": {
          "color": "rgb(0,116,217)"
         },
         "mode": "lines",
         "type": "scatter",
         "x": [
          1.6978221099598387,
          1.8756162177327445,
          1.8756162177327445,
          1.4083220057694095
         ],
         "xaxis": "x",
         "y": [
          -12041.25,
          -12041.25,
          -12106.875,
          -12106.875
         ],
         "yaxis": "y"
        },
        {
         "hoverinfo": "text",
         "marker": {
          "color": "rgb(0,116,217)"
         },
         "mode": "lines",
         "type": "scatter",
         "x": [
          1.964987188187704,
          3.4114593628267,
          3.4114593628267,
          1.8756162177327445
         ],
         "xaxis": "x",
         "y": [
          -11931.40625,
          -11931.40625,
          -12074.0625,
          -12074.0625
         ],
         "yaxis": "y"
        },
        {
         "hoverinfo": "text",
         "marker": {
          "color": "rgb(0,116,217)"
         },
         "mode": "lines",
         "type": "scatter",
         "x": [
          0,
          1.1780274455565174,
          1.1780274455565174,
          0
         ],
         "xaxis": "x",
         "y": [
          -12135,
          -12135,
          -12145,
          -12145
         ],
         "yaxis": "y"
        },
        {
         "hoverinfo": "text",
         "marker": {
          "color": "rgb(0,116,217)"
         },
         "mode": "lines",
         "type": "scatter",
         "x": [
          0,
          1.2252450087510056,
          1.2252450087510056,
          0
         ],
         "xaxis": "x",
         "y": [
          -12155,
          -12155,
          -12165,
          -12165
         ],
         "yaxis": "y"
        },
        {
         "hoverinfo": "text",
         "marker": {
          "color": "rgb(0,116,217)"
         },
         "mode": "lines",
         "type": "scatter",
         "x": [
          1.1780274455565174,
          1.4490504720119441,
          1.4490504720119441,
          1.2252450087510056
         ],
         "xaxis": "x",
         "y": [
          -12140,
          -12140,
          -12160,
          -12160
         ],
         "yaxis": "y"
        },
        {
         "hoverinfo": "text",
         "marker": {
          "color": "rgb(0,116,217)"
         },
         "mode": "lines",
         "type": "scatter",
         "x": [
          0,
          1.211366684190691,
          1.211366684190691,
          0
         ],
         "xaxis": "x",
         "y": [
          -12175,
          -12175,
          -12185,
          -12185
         ],
         "yaxis": "y"
        },
        {
         "hoverinfo": "text",
         "marker": {
          "color": "rgb(0,116,217)"
         },
         "mode": "lines",
         "type": "scatter",
         "x": [
          1.211366684190691,
          1.2661460813780951,
          1.2661460813780951,
          0
         ],
         "xaxis": "x",
         "y": [
          -12180,
          -12180,
          -12195,
          -12195
         ],
         "yaxis": "y"
        },
        {
         "hoverinfo": "text",
         "marker": {
          "color": "rgb(0,116,217)"
         },
         "mode": "lines",
         "type": "scatter",
         "x": [
          1.4490504720119441,
          1.6026439121112632,
          1.6026439121112632,
          1.2661460813780951
         ],
         "xaxis": "x",
         "y": [
          -12150,
          -12150,
          -12187.5,
          -12187.5
         ],
         "yaxis": "y"
        },
        {
         "hoverinfo": "text",
         "marker": {
          "color": "rgb(0,116,217)"
         },
         "mode": "lines",
         "type": "scatter",
         "x": [
          0,
          1.3264657049877542,
          1.3264657049877542,
          0
         ],
         "xaxis": "x",
         "y": [
          -12215,
          -12215,
          -12225,
          -12225
         ],
         "yaxis": "y"
        },
        {
         "hoverinfo": "text",
         "marker": {
          "color": "rgb(0,116,217)"
         },
         "mode": "lines",
         "type": "scatter",
         "x": [
          1.3264657049877542,
          1.3378178660968352,
          1.3378178660968352,
          0
         ],
         "xaxis": "x",
         "y": [
          -12220,
          -12220,
          -12235,
          -12235
         ],
         "yaxis": "y"
        },
        {
         "hoverinfo": "text",
         "marker": {
          "color": "rgb(0,116,217)"
         },
         "mode": "lines",
         "type": "scatter",
         "x": [
          0,
          1.3887471621302854,
          1.3887471621302854,
          1.3378178660968352
         ],
         "xaxis": "x",
         "y": [
          -12205,
          -12205,
          -12227.5,
          -12227.5
         ],
         "yaxis": "y"
        },
        {
         "hoverinfo": "text",
         "marker": {
          "color": "rgb(0,116,217)"
         },
         "mode": "lines",
         "type": "scatter",
         "x": [
          0,
          1.299272229986658,
          1.299272229986658,
          0
         ],
         "xaxis": "x",
         "y": [
          -12245,
          -12245,
          -12255,
          -12255
         ],
         "yaxis": "y"
        },
        {
         "hoverinfo": "text",
         "marker": {
          "color": "rgb(0,116,217)"
         },
         "mode": "lines",
         "type": "scatter",
         "x": [
          1.3887471621302854,
          1.471647360392125,
          1.471647360392125,
          1.299272229986658
         ],
         "xaxis": "x",
         "y": [
          -12216.25,
          -12216.25,
          -12250,
          -12250
         ],
         "yaxis": "y"
        },
        {
         "hoverinfo": "text",
         "marker": {
          "color": "rgb(0,116,217)"
         },
         "mode": "lines",
         "type": "scatter",
         "x": [
          0,
          1.2934979914921045,
          1.2934979914921045,
          0
         ],
         "xaxis": "x",
         "y": [
          -12265,
          -12265,
          -12275,
          -12275
         ],
         "yaxis": "y"
        },
        {
         "hoverinfo": "text",
         "marker": {
          "color": "rgb(0,116,217)"
         },
         "mode": "lines",
         "type": "scatter",
         "x": [
          1.2934979914921045,
          1.3662258554487265,
          1.3662258554487265,
          0
         ],
         "xaxis": "x",
         "y": [
          -12270,
          -12270,
          -12285,
          -12285
         ],
         "yaxis": "y"
        },
        {
         "hoverinfo": "text",
         "marker": {
          "color": "rgb(0,116,217)"
         },
         "mode": "lines",
         "type": "scatter",
         "x": [
          1.471647360392125,
          1.5062177255155584,
          1.5062177255155584,
          1.3662258554487265
         ],
         "xaxis": "x",
         "y": [
          -12233.125,
          -12233.125,
          -12277.5,
          -12277.5
         ],
         "yaxis": "y"
        },
        {
         "hoverinfo": "text",
         "marker": {
          "color": "rgb(0,116,217)"
         },
         "mode": "lines",
         "type": "scatter",
         "x": [
          0,
          1.3221278108035484,
          1.3221278108035484,
          0
         ],
         "xaxis": "x",
         "y": [
          -12305,
          -12305,
          -12315,
          -12315
         ],
         "yaxis": "y"
        },
        {
         "hoverinfo": "text",
         "marker": {
          "color": "rgb(0,116,217)"
         },
         "mode": "lines",
         "type": "scatter",
         "x": [
          0,
          1.352058111943298,
          1.352058111943298,
          1.3221278108035484
         ],
         "xaxis": "x",
         "y": [
          -12295,
          -12295,
          -12310,
          -12310
         ],
         "yaxis": "y"
        },
        {
         "hoverinfo": "text",
         "marker": {
          "color": "rgb(0,116,217)"
         },
         "mode": "lines",
         "type": "scatter",
         "x": [
          0,
          1.2636183363030729,
          1.2636183363030729,
          0
         ],
         "xaxis": "x",
         "y": [
          -12325,
          -12325,
          -12335,
          -12335
         ],
         "yaxis": "y"
        },
        {
         "hoverinfo": "text",
         "marker": {
          "color": "rgb(0,116,217)"
         },
         "mode": "lines",
         "type": "scatter",
         "x": [
          0,
          1.272210546808053,
          1.272210546808053,
          0
         ],
         "xaxis": "x",
         "y": [
          -12345,
          -12345,
          -12355,
          -12355
         ],
         "yaxis": "y"
        },
        {
         "hoverinfo": "text",
         "marker": {
          "color": "rgb(0,116,217)"
         },
         "mode": "lines",
         "type": "scatter",
         "x": [
          0,
          1.3140900466719099,
          1.3140900466719099,
          0
         ],
         "xaxis": "x",
         "y": [
          -12365,
          -12365,
          -12375,
          -12375
         ],
         "yaxis": "y"
        },
        {
         "hoverinfo": "text",
         "marker": {
          "color": "rgb(0,116,217)"
         },
         "mode": "lines",
         "type": "scatter",
         "x": [
          1.272210546808053,
          1.3811913299747214,
          1.3811913299747214,
          1.3140900466719099
         ],
         "xaxis": "x",
         "y": [
          -12350,
          -12350,
          -12370,
          -12370
         ],
         "yaxis": "y"
        },
        {
         "hoverinfo": "text",
         "marker": {
          "color": "rgb(0,116,217)"
         },
         "mode": "lines",
         "type": "scatter",
         "x": [
          1.2636183363030729,
          1.4575685487111898,
          1.4575685487111898,
          1.3811913299747214
         ],
         "xaxis": "x",
         "y": [
          -12330,
          -12330,
          -12360,
          -12360
         ],
         "yaxis": "y"
        },
        {
         "hoverinfo": "text",
         "marker": {
          "color": "rgb(0,116,217)"
         },
         "mode": "lines",
         "type": "scatter",
         "x": [
          0,
          1.3388619415103546,
          1.3388619415103546,
          0
         ],
         "xaxis": "x",
         "y": [
          -12385,
          -12385,
          -12395,
          -12395
         ],
         "yaxis": "y"
        },
        {
         "hoverinfo": "text",
         "marker": {
          "color": "rgb(0,116,217)"
         },
         "mode": "lines",
         "type": "scatter",
         "x": [
          0,
          1.3535111568623461,
          1.3535111568623461,
          0
         ],
         "xaxis": "x",
         "y": [
          -12405,
          -12405,
          -12415,
          -12415
         ],
         "yaxis": "y"
        },
        {
         "hoverinfo": "text",
         "marker": {
          "color": "rgb(0,116,217)"
         },
         "mode": "lines",
         "type": "scatter",
         "x": [
          1.3388619415103546,
          1.420278831232407,
          1.420278831232407,
          1.3535111568623461
         ],
         "xaxis": "x",
         "y": [
          -12390,
          -12390,
          -12410,
          -12410
         ],
         "yaxis": "y"
        },
        {
         "hoverinfo": "text",
         "marker": {
          "color": "rgb(0,116,217)"
         },
         "mode": "lines",
         "type": "scatter",
         "x": [
          1.4575685487111898,
          1.6156178423112901,
          1.6156178423112901,
          1.420278831232407
         ],
         "xaxis": "x",
         "y": [
          -12345,
          -12345,
          -12400,
          -12400
         ],
         "yaxis": "y"
        },
        {
         "hoverinfo": "text",
         "marker": {
          "color": "rgb(0,116,217)"
         },
         "mode": "lines",
         "type": "scatter",
         "x": [
          1.352058111943298,
          1.710728850366063,
          1.710728850366063,
          1.6156178423112901
         ],
         "xaxis": "x",
         "y": [
          -12302.5,
          -12302.5,
          -12372.5,
          -12372.5
         ],
         "yaxis": "y"
        },
        {
         "hoverinfo": "text",
         "marker": {
          "color": "rgb(0,116,217)"
         },
         "mode": "lines",
         "type": "scatter",
         "x": [
          0,
          1.2851428797026876,
          1.2851428797026876,
          0
         ],
         "xaxis": "x",
         "y": [
          -12425,
          -12425,
          -12435,
          -12435
         ],
         "yaxis": "y"
        },
        {
         "hoverinfo": "text",
         "marker": {
          "color": "rgb(0,116,217)"
         },
         "mode": "lines",
         "type": "scatter",
         "x": [
          1.2851428797026876,
          1.3803913608283398,
          1.3803913608283398,
          0
         ],
         "xaxis": "x",
         "y": [
          -12430,
          -12430,
          -12445,
          -12445
         ],
         "yaxis": "y"
        },
        {
         "hoverinfo": "text",
         "marker": {
          "color": "rgb(0,116,217)"
         },
         "mode": "lines",
         "type": "scatter",
         "x": [
          0,
          1.307476799884285,
          1.307476799884285,
          0
         ],
         "xaxis": "x",
         "y": [
          -12455,
          -12455,
          -12465,
          -12465
         ],
         "yaxis": "y"
        },
        {
         "hoverinfo": "text",
         "marker": {
          "color": "rgb(0,116,217)"
         },
         "mode": "lines",
         "type": "scatter",
         "x": [
          1.3803913608283398,
          1.6476604111115074,
          1.6476604111115074,
          1.307476799884285
         ],
         "xaxis": "x",
         "y": [
          -12437.5,
          -12437.5,
          -12460,
          -12460
         ],
         "yaxis": "y"
        },
        {
         "hoverinfo": "text",
         "marker": {
          "color": "rgb(0,116,217)"
         },
         "mode": "lines",
         "type": "scatter",
         "x": [
          1.710728850366063,
          1.8376066137464802,
          1.8376066137464802,
          1.6476604111115074
         ],
         "xaxis": "x",
         "y": [
          -12337.5,
          -12337.5,
          -12448.75,
          -12448.75
         ],
         "yaxis": "y"
        },
        {
         "hoverinfo": "text",
         "marker": {
          "color": "rgb(0,116,217)"
         },
         "mode": "lines",
         "type": "scatter",
         "x": [
          1.5062177255155584,
          2.1606539570036825,
          2.1606539570036825,
          1.8376066137464802
         ],
         "xaxis": "x",
         "y": [
          -12255.3125,
          -12255.3125,
          -12393.125,
          -12393.125
         ],
         "yaxis": "y"
        },
        {
         "hoverinfo": "text",
         "marker": {
          "color": "rgb(0,116,217)"
         },
         "mode": "lines",
         "type": "scatter",
         "x": [
          1.6026439121112632,
          2.4413275929488636,
          2.4413275929488636,
          2.1606539570036825
         ],
         "xaxis": "x",
         "y": [
          -12168.75,
          -12168.75,
          -12324.21875,
          -12324.21875
         ],
         "yaxis": "y"
        },
        {
         "hoverinfo": "text",
         "marker": {
          "color": "rgb(0,116,217)"
         },
         "mode": "lines",
         "type": "scatter",
         "x": [
          0,
          1.29805009015506,
          1.29805009015506,
          0
         ],
         "xaxis": "x",
         "y": [
          -12485,
          -12485,
          -12495,
          -12495
         ],
         "yaxis": "y"
        },
        {
         "hoverinfo": "text",
         "marker": {
          "color": "rgb(0,116,217)"
         },
         "mode": "lines",
         "type": "scatter",
         "x": [
          0,
          1.333737905216099,
          1.333737905216099,
          1.29805009015506
         ],
         "xaxis": "x",
         "y": [
          -12475,
          -12475,
          -12490,
          -12490
         ],
         "yaxis": "y"
        },
        {
         "hoverinfo": "text",
         "marker": {
          "color": "rgb(0,116,217)"
         },
         "mode": "lines",
         "type": "scatter",
         "x": [
          0,
          1.2787006564226373,
          1.2787006564226373,
          0
         ],
         "xaxis": "x",
         "y": [
          -12515,
          -12515,
          -12525,
          -12525
         ],
         "yaxis": "y"
        },
        {
         "hoverinfo": "text",
         "marker": {
          "color": "rgb(0,116,217)"
         },
         "mode": "lines",
         "type": "scatter",
         "x": [
          0,
          1.4165676807213041,
          1.4165676807213041,
          1.2787006564226373
         ],
         "xaxis": "x",
         "y": [
          -12505,
          -12505,
          -12520,
          -12520
         ],
         "yaxis": "y"
        },
        {
         "hoverinfo": "text",
         "marker": {
          "color": "rgb(0,116,217)"
         },
         "mode": "lines",
         "type": "scatter",
         "x": [
          0,
          1.3397656053373388,
          1.3397656053373388,
          0
         ],
         "xaxis": "x",
         "y": [
          -12535,
          -12535,
          -12545,
          -12545
         ],
         "yaxis": "y"
        },
        {
         "hoverinfo": "text",
         "marker": {
          "color": "rgb(0,116,217)"
         },
         "mode": "lines",
         "type": "scatter",
         "x": [
          0,
          1.312083553718509,
          1.312083553718509,
          0
         ],
         "xaxis": "x",
         "y": [
          -12555,
          -12555,
          -12565,
          -12565
         ],
         "yaxis": "y"
        },
        {
         "hoverinfo": "text",
         "marker": {
          "color": "rgb(0,116,217)"
         },
         "mode": "lines",
         "type": "scatter",
         "x": [
          1.312083553718509,
          1.336033192976092,
          1.336033192976092,
          0
         ],
         "xaxis": "x",
         "y": [
          -12560,
          -12560,
          -12575,
          -12575
         ],
         "yaxis": "y"
        },
        {
         "hoverinfo": "text",
         "marker": {
          "color": "rgb(0,116,217)"
         },
         "mode": "lines",
         "type": "scatter",
         "x": [
          1.3397656053373388,
          1.430953675194582,
          1.430953675194582,
          1.336033192976092
         ],
         "xaxis": "x",
         "y": [
          -12540,
          -12540,
          -12567.5,
          -12567.5
         ],
         "yaxis": "y"
        },
        {
         "hoverinfo": "text",
         "marker": {
          "color": "rgb(0,116,217)"
         },
         "mode": "lines",
         "type": "scatter",
         "x": [
          1.4165676807213041,
          1.5154208939873672,
          1.5154208939873672,
          1.430953675194582
         ],
         "xaxis": "x",
         "y": [
          -12512.5,
          -12512.5,
          -12553.75,
          -12553.75
         ],
         "yaxis": "y"
        },
        {
         "hoverinfo": "text",
         "marker": {
          "color": "rgb(0,116,217)"
         },
         "mode": "lines",
         "type": "scatter",
         "x": [
          0,
          1.336985177481764,
          1.336985177481764,
          0
         ],
         "xaxis": "x",
         "y": [
          -12585,
          -12585,
          -12595,
          -12595
         ],
         "yaxis": "y"
        },
        {
         "hoverinfo": "text",
         "marker": {
          "color": "rgb(0,116,217)"
         },
         "mode": "lines",
         "type": "scatter",
         "x": [
          0,
          1.2830879627603207,
          1.2830879627603207,
          0
         ],
         "xaxis": "x",
         "y": [
          -12605,
          -12605,
          -12615,
          -12615
         ],
         "yaxis": "y"
        },
        {
         "hoverinfo": "text",
         "marker": {
          "color": "rgb(0,116,217)"
         },
         "mode": "lines",
         "type": "scatter",
         "x": [
          1.336985177481764,
          1.3797009906620803,
          1.3797009906620803,
          1.2830879627603207
         ],
         "xaxis": "x",
         "y": [
          -12590,
          -12590,
          -12610,
          -12610
         ],
         "yaxis": "y"
        },
        {
         "hoverinfo": "text",
         "marker": {
          "color": "rgb(0,116,217)"
         },
         "mode": "lines",
         "type": "scatter",
         "x": [
          1.5154208939873672,
          1.6750810079851408,
          1.6750810079851408,
          1.3797009906620803
         ],
         "xaxis": "x",
         "y": [
          -12533.125,
          -12533.125,
          -12600,
          -12600
         ],
         "yaxis": "y"
        },
        {
         "hoverinfo": "text",
         "marker": {
          "color": "rgb(0,116,217)"
         },
         "mode": "lines",
         "type": "scatter",
         "x": [
          1.333737905216099,
          1.7624291449401492,
          1.7624291449401492,
          1.6750810079851408
         ],
         "xaxis": "x",
         "y": [
          -12482.5,
          -12482.5,
          -12566.5625,
          -12566.5625
         ],
         "yaxis": "y"
        },
        {
         "hoverinfo": "text",
         "marker": {
          "color": "rgb(0,116,217)"
         },
         "mode": "lines",
         "type": "scatter",
         "x": [
          0,
          1.2518317609974088,
          1.2518317609974088,
          0
         ],
         "xaxis": "x",
         "y": [
          -12625,
          -12625,
          -12635,
          -12635
         ],
         "yaxis": "y"
        },
        {
         "hoverinfo": "text",
         "marker": {
          "color": "rgb(0,116,217)"
         },
         "mode": "lines",
         "type": "scatter",
         "x": [
          0,
          1.3115215671712694,
          1.3115215671712694,
          0
         ],
         "xaxis": "x",
         "y": [
          -12645,
          -12645,
          -12655,
          -12655
         ],
         "yaxis": "y"
        },
        {
         "hoverinfo": "text",
         "marker": {
          "color": "rgb(0,116,217)"
         },
         "mode": "lines",
         "type": "scatter",
         "x": [
          1.2518317609974088,
          1.3893344660537787,
          1.3893344660537787,
          1.3115215671712694
         ],
         "xaxis": "x",
         "y": [
          -12630,
          -12630,
          -12650,
          -12650
         ],
         "yaxis": "y"
        },
        {
         "hoverinfo": "text",
         "marker": {
          "color": "rgb(0,116,217)"
         },
         "mode": "lines",
         "type": "scatter",
         "x": [
          0,
          1.319243206012109,
          1.319243206012109,
          0
         ],
         "xaxis": "x",
         "y": [
          -12665,
          -12665,
          -12675,
          -12675
         ],
         "yaxis": "y"
        },
        {
         "hoverinfo": "text",
         "marker": {
          "color": "rgb(0,116,217)"
         },
         "mode": "lines",
         "type": "scatter",
         "x": [
          1.3893344660537787,
          1.4047580989099897,
          1.4047580989099897,
          1.319243206012109
         ],
         "xaxis": "x",
         "y": [
          -12640,
          -12640,
          -12670,
          -12670
         ],
         "yaxis": "y"
        },
        {
         "hoverinfo": "text",
         "marker": {
          "color": "rgb(0,116,217)"
         },
         "mode": "lines",
         "type": "scatter",
         "x": [
          0,
          1.3026163495764478,
          1.3026163495764478,
          0
         ],
         "xaxis": "x",
         "y": [
          -12695,
          -12695,
          -12705,
          -12705
         ],
         "yaxis": "y"
        },
        {
         "hoverinfo": "text",
         "marker": {
          "color": "rgb(0,116,217)"
         },
         "mode": "lines",
         "type": "scatter",
         "x": [
          0,
          1.3536900802337164,
          1.3536900802337164,
          1.3026163495764478
         ],
         "xaxis": "x",
         "y": [
          -12685,
          -12685,
          -12700,
          -12700
         ],
         "yaxis": "y"
        },
        {
         "hoverinfo": "text",
         "marker": {
          "color": "rgb(0,116,217)"
         },
         "mode": "lines",
         "type": "scatter",
         "x": [
          0,
          1.335312963600681,
          1.335312963600681,
          0
         ],
         "xaxis": "x",
         "y": [
          -12715,
          -12715,
          -12725,
          -12725
         ],
         "yaxis": "y"
        },
        {
         "hoverinfo": "text",
         "marker": {
          "color": "rgb(0,116,217)"
         },
         "mode": "lines",
         "type": "scatter",
         "x": [
          1.3536900802337164,
          1.407989345787359,
          1.407989345787359,
          1.335312963600681
         ],
         "xaxis": "x",
         "y": [
          -12692.5,
          -12692.5,
          -12720,
          -12720
         ],
         "yaxis": "y"
        },
        {
         "hoverinfo": "text",
         "marker": {
          "color": "rgb(0,116,217)"
         },
         "mode": "lines",
         "type": "scatter",
         "x": [
          1.4047580989099897,
          1.5802927142449215,
          1.5802927142449215,
          1.407989345787359
         ],
         "xaxis": "x",
         "y": [
          -12655,
          -12655,
          -12706.25,
          -12706.25
         ],
         "yaxis": "y"
        },
        {
         "hoverinfo": "text",
         "marker": {
          "color": "rgb(0,116,217)"
         },
         "mode": "lines",
         "type": "scatter",
         "x": [
          1.7624291449401492,
          2.0364913341177284,
          2.0364913341177284,
          1.5802927142449215
         ],
         "xaxis": "x",
         "y": [
          -12524.53125,
          -12524.53125,
          -12680.625,
          -12680.625
         ],
         "yaxis": "y"
        },
        {
         "hoverinfo": "text",
         "marker": {
          "color": "rgb(0,116,217)"
         },
         "mode": "lines",
         "type": "scatter",
         "x": [
          0,
          1.2974298489983151,
          1.2974298489983151,
          0
         ],
         "xaxis": "x",
         "y": [
          -12735,
          -12735,
          -12745,
          -12745
         ],
         "yaxis": "y"
        },
        {
         "hoverinfo": "text",
         "marker": {
          "color": "rgb(0,116,217)"
         },
         "mode": "lines",
         "type": "scatter",
         "x": [
          0,
          1.3114688155277228,
          1.3114688155277228,
          0
         ],
         "xaxis": "x",
         "y": [
          -12765,
          -12765,
          -12775,
          -12775
         ],
         "yaxis": "y"
        },
        {
         "hoverinfo": "text",
         "marker": {
          "color": "rgb(0,116,217)"
         },
         "mode": "lines",
         "type": "scatter",
         "x": [
          0,
          1.32913384754862,
          1.32913384754862,
          1.3114688155277228
         ],
         "xaxis": "x",
         "y": [
          -12755,
          -12755,
          -12770,
          -12770
         ],
         "yaxis": "y"
        },
        {
         "hoverinfo": "text",
         "marker": {
          "color": "rgb(0,116,217)"
         },
         "mode": "lines",
         "type": "scatter",
         "x": [
          1.2974298489983151,
          1.4022573126198052,
          1.4022573126198052,
          1.32913384754862
         ],
         "xaxis": "x",
         "y": [
          -12740,
          -12740,
          -12762.5,
          -12762.5
         ],
         "yaxis": "y"
        },
        {
         "hoverinfo": "text",
         "marker": {
          "color": "rgb(0,116,217)"
         },
         "mode": "lines",
         "type": "scatter",
         "x": [
          0,
          1.3097276350813625,
          1.3097276350813625,
          0
         ],
         "xaxis": "x",
         "y": [
          -12785,
          -12785,
          -12795,
          -12795
         ],
         "yaxis": "y"
        },
        {
         "hoverinfo": "text",
         "marker": {
          "color": "rgb(0,116,217)"
         },
         "mode": "lines",
         "type": "scatter",
         "x": [
          0,
          1.338567656553764,
          1.338567656553764,
          0
         ],
         "xaxis": "x",
         "y": [
          -12805,
          -12805,
          -12815,
          -12815
         ],
         "yaxis": "y"
        },
        {
         "hoverinfo": "text",
         "marker": {
          "color": "rgb(0,116,217)"
         },
         "mode": "lines",
         "type": "scatter",
         "x": [
          1.3097276350813625,
          1.3834450482685245,
          1.3834450482685245,
          1.338567656553764
         ],
         "xaxis": "x",
         "y": [
          -12790,
          -12790,
          -12810,
          -12810
         ],
         "yaxis": "y"
        },
        {
         "hoverinfo": "text",
         "marker": {
          "color": "rgb(0,116,217)"
         },
         "mode": "lines",
         "type": "scatter",
         "x": [
          1.4022573126198052,
          1.5045246572055992,
          1.5045246572055992,
          1.3834450482685245
         ],
         "xaxis": "x",
         "y": [
          -12751.25,
          -12751.25,
          -12800,
          -12800
         ],
         "yaxis": "y"
        },
        {
         "hoverinfo": "text",
         "marker": {
          "color": "rgb(0,116,217)"
         },
         "mode": "lines",
         "type": "scatter",
         "x": [
          0,
          1.3601260973886173,
          1.3601260973886173,
          0
         ],
         "xaxis": "x",
         "y": [
          -12825,
          -12825,
          -12835,
          -12835
         ],
         "yaxis": "y"
        },
        {
         "hoverinfo": "text",
         "marker": {
          "color": "rgb(0,116,217)"
         },
         "mode": "lines",
         "type": "scatter",
         "x": [
          0,
          1.3043146215664905,
          1.3043146215664905,
          0
         ],
         "xaxis": "x",
         "y": [
          -12845,
          -12845,
          -12855,
          -12855
         ],
         "yaxis": "y"
        },
        {
         "hoverinfo": "text",
         "marker": {
          "color": "rgb(0,116,217)"
         },
         "mode": "lines",
         "type": "scatter",
         "x": [
          1.3043146215664905,
          1.3374114633243288,
          1.3374114633243288,
          0
         ],
         "xaxis": "x",
         "y": [
          -12850,
          -12850,
          -12865,
          -12865
         ],
         "yaxis": "y"
        },
        {
         "hoverinfo": "text",
         "marker": {
          "color": "rgb(0,116,217)"
         },
         "mode": "lines",
         "type": "scatter",
         "x": [
          1.3601260973886173,
          1.4787778247941725,
          1.4787778247941725,
          1.3374114633243288
         ],
         "xaxis": "x",
         "y": [
          -12830,
          -12830,
          -12857.5,
          -12857.5
         ],
         "yaxis": "y"
        },
        {
         "hoverinfo": "text",
         "marker": {
          "color": "rgb(0,116,217)"
         },
         "mode": "lines",
         "type": "scatter",
         "x": [
          0,
          1.280660149918537,
          1.280660149918537,
          0
         ],
         "xaxis": "x",
         "y": [
          -12875,
          -12875,
          -12885,
          -12885
         ],
         "yaxis": "y"
        },
        {
         "hoverinfo": "text",
         "marker": {
          "color": "rgb(0,116,217)"
         },
         "mode": "lines",
         "type": "scatter",
         "x": [
          1.280660149918537,
          1.3664978860011867,
          1.3664978860011867,
          0
         ],
         "xaxis": "x",
         "y": [
          -12880,
          -12880,
          -12895,
          -12895
         ],
         "yaxis": "y"
        },
        {
         "hoverinfo": "text",
         "marker": {
          "color": "rgb(0,116,217)"
         },
         "mode": "lines",
         "type": "scatter",
         "x": [
          1.3664978860011867,
          1.4117588062334152,
          1.4117588062334152,
          0
         ],
         "xaxis": "x",
         "y": [
          -12887.5,
          -12887.5,
          -12905,
          -12905
         ],
         "yaxis": "y"
        },
        {
         "hoverinfo": "text",
         "marker": {
          "color": "rgb(0,116,217)"
         },
         "mode": "lines",
         "type": "scatter",
         "x": [
          1.4787778247941725,
          1.575673860377959,
          1.575673860377959,
          1.4117588062334152
         ],
         "xaxis": "x",
         "y": [
          -12843.75,
          -12843.75,
          -12896.25,
          -12896.25
         ],
         "yaxis": "y"
        },
        {
         "hoverinfo": "text",
         "marker": {
          "color": "rgb(0,116,217)"
         },
         "mode": "lines",
         "type": "scatter",
         "x": [
          0,
          1.3858228896086253,
          1.3858228896086253,
          0
         ],
         "xaxis": "x",
         "y": [
          -12915,
          -12915,
          -12925,
          -12925
         ],
         "yaxis": "y"
        },
        {
         "hoverinfo": "text",
         "marker": {
          "color": "rgb(0,116,217)"
         },
         "mode": "lines",
         "type": "scatter",
         "x": [
          0,
          1.3590391576962768,
          1.3590391576962768,
          0
         ],
         "xaxis": "x",
         "y": [
          -12935,
          -12935,
          -12945,
          -12945
         ],
         "yaxis": "y"
        },
        {
         "hoverinfo": "text",
         "marker": {
          "color": "rgb(0,116,217)"
         },
         "mode": "lines",
         "type": "scatter",
         "x": [
          1.3590391576962768,
          1.369624576632036,
          1.369624576632036,
          0
         ],
         "xaxis": "x",
         "y": [
          -12940,
          -12940,
          -12955,
          -12955
         ],
         "yaxis": "y"
        },
        {
         "hoverinfo": "text",
         "marker": {
          "color": "rgb(0,116,217)"
         },
         "mode": "lines",
         "type": "scatter",
         "x": [
          1.369624576632036,
          1.4159339251293102,
          1.4159339251293102,
          0
         ],
         "xaxis": "x",
         "y": [
          -12947.5,
          -12947.5,
          -12965,
          -12965
         ],
         "yaxis": "y"
        },
        {
         "hoverinfo": "text",
         "marker": {
          "color": "rgb(0,116,217)"
         },
         "mode": "lines",
         "type": "scatter",
         "x": [
          1.3858228896086253,
          1.4937070651770943,
          1.4937070651770943,
          1.4159339251293102
         ],
         "xaxis": "x",
         "y": [
          -12920,
          -12920,
          -12956.25,
          -12956.25
         ],
         "yaxis": "y"
        },
        {
         "hoverinfo": "text",
         "marker": {
          "color": "rgb(0,116,217)"
         },
         "mode": "lines",
         "type": "scatter",
         "x": [
          1.575673860377959,
          1.6843842875580572,
          1.6843842875580572,
          1.4937070651770943
         ],
         "xaxis": "x",
         "y": [
          -12870,
          -12870,
          -12938.125,
          -12938.125
         ],
         "yaxis": "y"
        },
        {
         "hoverinfo": "text",
         "marker": {
          "color": "rgb(0,116,217)"
         },
         "mode": "lines",
         "type": "scatter",
         "x": [
          1.5045246572055992,
          1.8288493954263494,
          1.8288493954263494,
          1.6843842875580572
         ],
         "xaxis": "x",
         "y": [
          -12775.625,
          -12775.625,
          -12904.0625,
          -12904.0625
         ],
         "yaxis": "y"
        },
        {
         "hoverinfo": "text",
         "marker": {
          "color": "rgb(0,116,217)"
         },
         "mode": "lines",
         "type": "scatter",
         "x": [
          0,
          1.3457475770060963,
          1.3457475770060963,
          0
         ],
         "xaxis": "x",
         "y": [
          -12975,
          -12975,
          -12985,
          -12985
         ],
         "yaxis": "y"
        },
        {
         "hoverinfo": "text",
         "marker": {
          "color": "rgb(0,116,217)"
         },
         "mode": "lines",
         "type": "scatter",
         "x": [
          0,
          1.3440097398579234,
          1.3440097398579234,
          0
         ],
         "xaxis": "x",
         "y": [
          -12995,
          -12995,
          -13005,
          -13005
         ],
         "yaxis": "y"
        },
        {
         "hoverinfo": "text",
         "marker": {
          "color": "rgb(0,116,217)"
         },
         "mode": "lines",
         "type": "scatter",
         "x": [
          1.3457475770060963,
          1.3748716355492943,
          1.3748716355492943,
          1.3440097398579234
         ],
         "xaxis": "x",
         "y": [
          -12980,
          -12980,
          -13000,
          -13000
         ],
         "yaxis": "y"
        },
        {
         "hoverinfo": "text",
         "marker": {
          "color": "rgb(0,116,217)"
         },
         "mode": "lines",
         "type": "scatter",
         "x": [
          0,
          1.270996273186274,
          1.270996273186274,
          0
         ],
         "xaxis": "x",
         "y": [
          -13015,
          -13015,
          -13025,
          -13025
         ],
         "yaxis": "y"
        },
        {
         "hoverinfo": "text",
         "marker": {
          "color": "rgb(0,116,217)"
         },
         "mode": "lines",
         "type": "scatter",
         "x": [
          1.270996273186274,
          1.3355054033426084,
          1.3355054033426084,
          0
         ],
         "xaxis": "x",
         "y": [
          -13020,
          -13020,
          -13035,
          -13035
         ],
         "yaxis": "y"
        },
        {
         "hoverinfo": "text",
         "marker": {
          "color": "rgb(0,116,217)"
         },
         "mode": "lines",
         "type": "scatter",
         "x": [
          1.3355054033426084,
          1.3617793729781569,
          1.3617793729781569,
          0
         ],
         "xaxis": "x",
         "y": [
          -13027.5,
          -13027.5,
          -13045,
          -13045
         ],
         "yaxis": "y"
        },
        {
         "hoverinfo": "text",
         "marker": {
          "color": "rgb(0,116,217)"
         },
         "mode": "lines",
         "type": "scatter",
         "x": [
          1.3748716355492943,
          1.454917795098583,
          1.454917795098583,
          1.3617793729781569
         ],
         "xaxis": "x",
         "y": [
          -12990,
          -12990,
          -13036.25,
          -13036.25
         ],
         "yaxis": "y"
        },
        {
         "hoverinfo": "text",
         "marker": {
          "color": "rgb(0,116,217)"
         },
         "mode": "lines",
         "type": "scatter",
         "x": [
          1.8288493954263494,
          1.9524022692053742,
          1.9524022692053742,
          1.454917795098583
         ],
         "xaxis": "x",
         "y": [
          -12839.84375,
          -12839.84375,
          -13013.125,
          -13013.125
         ],
         "yaxis": "y"
        },
        {
         "hoverinfo": "text",
         "marker": {
          "color": "rgb(0,116,217)"
         },
         "mode": "lines",
         "type": "scatter",
         "x": [
          2.0364913341177284,
          2.519187433829738,
          2.519187433829738,
          1.9524022692053742
         ],
         "xaxis": "x",
         "y": [
          -12602.578125,
          -12602.578125,
          -12926.484375,
          -12926.484375
         ],
         "yaxis": "y"
        },
        {
         "hoverinfo": "text",
         "marker": {
          "color": "rgb(0,116,217)"
         },
         "mode": "lines",
         "type": "scatter",
         "x": [
          2.4413275929488636,
          3.742188684649123,
          3.742188684649123,
          2.519187433829738
         ],
         "xaxis": "x",
         "y": [
          -12246.484375,
          -12246.484375,
          -12764.53125,
          -12764.53125
         ],
         "yaxis": "y"
        },
        {
         "hoverinfo": "text",
         "marker": {
          "color": "rgb(0,116,217)"
         },
         "mode": "lines",
         "type": "scatter",
         "x": [
          0,
          1.3546630385921776,
          1.3546630385921776,
          0
         ],
         "xaxis": "x",
         "y": [
          -13055,
          -13055,
          -13065,
          -13065
         ],
         "yaxis": "y"
        },
        {
         "hoverinfo": "text",
         "marker": {
          "color": "rgb(0,116,217)"
         },
         "mode": "lines",
         "type": "scatter",
         "x": [
          0,
          1.3132909837276596,
          1.3132909837276596,
          0
         ],
         "xaxis": "x",
         "y": [
          -13075,
          -13075,
          -13085,
          -13085
         ],
         "yaxis": "y"
        },
        {
         "hoverinfo": "text",
         "marker": {
          "color": "rgb(0,116,217)"
         },
         "mode": "lines",
         "type": "scatter",
         "x": [
          1.3132909837276596,
          1.403921176918088,
          1.403921176918088,
          0
         ],
         "xaxis": "x",
         "y": [
          -13080,
          -13080,
          -13095,
          -13095
         ],
         "yaxis": "y"
        },
        {
         "hoverinfo": "text",
         "marker": {
          "color": "rgb(0,116,217)"
         },
         "mode": "lines",
         "type": "scatter",
         "x": [
          1.3546630385921776,
          1.4888555606102893,
          1.4888555606102893,
          1.403921176918088
         ],
         "xaxis": "x",
         "y": [
          -13060,
          -13060,
          -13087.5,
          -13087.5
         ],
         "yaxis": "y"
        },
        {
         "hoverinfo": "text",
         "marker": {
          "color": "rgb(0,116,217)"
         },
         "mode": "lines",
         "type": "scatter",
         "x": [
          0,
          1.210944717474839,
          1.210944717474839,
          0
         ],
         "xaxis": "x",
         "y": [
          -13105,
          -13105,
          -13115,
          -13115
         ],
         "yaxis": "y"
        },
        {
         "hoverinfo": "text",
         "marker": {
          "color": "rgb(0,116,217)"
         },
         "mode": "lines",
         "type": "scatter",
         "x": [
          0,
          1.3892257807375465,
          1.3892257807375465,
          0
         ],
         "xaxis": "x",
         "y": [
          -13125,
          -13125,
          -13135,
          -13135
         ],
         "yaxis": "y"
        },
        {
         "hoverinfo": "text",
         "marker": {
          "color": "rgb(0,116,217)"
         },
         "mode": "lines",
         "type": "scatter",
         "x": [
          1.210944717474839,
          1.4531308667310507,
          1.4531308667310507,
          1.3892257807375465
         ],
         "xaxis": "x",
         "y": [
          -13110,
          -13110,
          -13130,
          -13130
         ],
         "yaxis": "y"
        },
        {
         "hoverinfo": "text",
         "marker": {
          "color": "rgb(0,116,217)"
         },
         "mode": "lines",
         "type": "scatter",
         "x": [
          1.4888555606102893,
          1.7574265773352866,
          1.7574265773352866,
          1.4531308667310507
         ],
         "xaxis": "x",
         "y": [
          -13073.75,
          -13073.75,
          -13120,
          -13120
         ],
         "yaxis": "y"
        },
        {
         "hoverinfo": "text",
         "marker": {
          "color": "rgb(0,116,217)"
         },
         "mode": "lines",
         "type": "scatter",
         "x": [
          0,
          1.3830366771843545,
          1.3830366771843545,
          0
         ],
         "xaxis": "x",
         "y": [
          -13145,
          -13145,
          -13155,
          -13155
         ],
         "yaxis": "y"
        },
        {
         "hoverinfo": "text",
         "marker": {
          "color": "rgb(0,116,217)"
         },
         "mode": "lines",
         "type": "scatter",
         "x": [
          0,
          1.3691028777229057,
          1.3691028777229057,
          0
         ],
         "xaxis": "x",
         "y": [
          -13165,
          -13165,
          -13175,
          -13175
         ],
         "yaxis": "y"
        },
        {
         "hoverinfo": "text",
         "marker": {
          "color": "rgb(0,116,217)"
         },
         "mode": "lines",
         "type": "scatter",
         "x": [
          1.3830366771843545,
          1.438202371024785,
          1.438202371024785,
          1.3691028777229057
         ],
         "xaxis": "x",
         "y": [
          -13150,
          -13150,
          -13170,
          -13170
         ],
         "yaxis": "y"
        },
        {
         "hoverinfo": "text",
         "marker": {
          "color": "rgb(0,116,217)"
         },
         "mode": "lines",
         "type": "scatter",
         "x": [
          0,
          1.364938072617766,
          1.364938072617766,
          0
         ],
         "xaxis": "x",
         "y": [
          -13195,
          -13195,
          -13205,
          -13205
         ],
         "yaxis": "y"
        },
        {
         "hoverinfo": "text",
         "marker": {
          "color": "rgb(0,116,217)"
         },
         "mode": "lines",
         "type": "scatter",
         "x": [
          0,
          1.443462872262299,
          1.443462872262299,
          1.364938072617766
         ],
         "xaxis": "x",
         "y": [
          -13185,
          -13185,
          -13200,
          -13200
         ],
         "yaxis": "y"
        },
        {
         "hoverinfo": "text",
         "marker": {
          "color": "rgb(0,116,217)"
         },
         "mode": "lines",
         "type": "scatter",
         "x": [
          1.438202371024785,
          1.5335664223306091,
          1.5335664223306091,
          1.443462872262299
         ],
         "xaxis": "x",
         "y": [
          -13160,
          -13160,
          -13192.5,
          -13192.5
         ],
         "yaxis": "y"
        },
        {
         "hoverinfo": "text",
         "marker": {
          "color": "rgb(0,116,217)"
         },
         "mode": "lines",
         "type": "scatter",
         "x": [
          0,
          1.3642137520121846,
          1.3642137520121846,
          0
         ],
         "xaxis": "x",
         "y": [
          -13215,
          -13215,
          -13225,
          -13225
         ],
         "yaxis": "y"
        },
        {
         "hoverinfo": "text",
         "marker": {
          "color": "rgb(0,116,217)"
         },
         "mode": "lines",
         "type": "scatter",
         "x": [
          0,
          1.3330331639825963,
          1.3330331639825963,
          0
         ],
         "xaxis": "x",
         "y": [
          -13235,
          -13235,
          -13245,
          -13245
         ],
         "yaxis": "y"
        },
        {
         "hoverinfo": "text",
         "marker": {
          "color": "rgb(0,116,217)"
         },
         "mode": "lines",
         "type": "scatter",
         "x": [
          1.3642137520121846,
          1.422240101670168,
          1.422240101670168,
          1.3330331639825963
         ],
         "xaxis": "x",
         "y": [
          -13220,
          -13220,
          -13240,
          -13240
         ],
         "yaxis": "y"
        },
        {
         "hoverinfo": "text",
         "marker": {
          "color": "rgb(0,116,217)"
         },
         "mode": "lines",
         "type": "scatter",
         "x": [
          0,
          1.3753943766275736,
          1.3753943766275736,
          0
         ],
         "xaxis": "x",
         "y": [
          -13255,
          -13255,
          -13265,
          -13265
         ],
         "yaxis": "y"
        },
        {
         "hoverinfo": "text",
         "marker": {
          "color": "rgb(0,116,217)"
         },
         "mode": "lines",
         "type": "scatter",
         "x": [
          0,
          1.3371109257035165,
          1.3371109257035165,
          0
         ],
         "xaxis": "x",
         "y": [
          -13275,
          -13275,
          -13285,
          -13285
         ],
         "yaxis": "y"
        },
        {
         "hoverinfo": "text",
         "marker": {
          "color": "rgb(0,116,217)"
         },
         "mode": "lines",
         "type": "scatter",
         "x": [
          1.3753943766275736,
          1.4493545579698042,
          1.4493545579698042,
          1.3371109257035165
         ],
         "xaxis": "x",
         "y": [
          -13260,
          -13260,
          -13280,
          -13280
         ],
         "yaxis": "y"
        },
        {
         "hoverinfo": "text",
         "marker": {
          "color": "rgb(0,116,217)"
         },
         "mode": "lines",
         "type": "scatter",
         "x": [
          1.422240101670168,
          1.5253540767168796,
          1.5253540767168796,
          1.4493545579698042
         ],
         "xaxis": "x",
         "y": [
          -13230,
          -13230,
          -13270,
          -13270
         ],
         "yaxis": "y"
        },
        {
         "hoverinfo": "text",
         "marker": {
          "color": "rgb(0,116,217)"
         },
         "mode": "lines",
         "type": "scatter",
         "x": [
          1.5335664223306091,
          1.7163165546535464,
          1.7163165546535464,
          1.5253540767168796
         ],
         "xaxis": "x",
         "y": [
          -13176.25,
          -13176.25,
          -13250,
          -13250
         ],
         "yaxis": "y"
        },
        {
         "hoverinfo": "text",
         "marker": {
          "color": "rgb(0,116,217)"
         },
         "mode": "lines",
         "type": "scatter",
         "x": [
          0,
          1.3477681753750141,
          1.3477681753750141,
          0
         ],
         "xaxis": "x",
         "y": [
          -13295,
          -13295,
          -13305,
          -13305
         ],
         "yaxis": "y"
        },
        {
         "hoverinfo": "text",
         "marker": {
          "color": "rgb(0,116,217)"
         },
         "mode": "lines",
         "type": "scatter",
         "x": [
          0,
          1.3180518396678893,
          1.3180518396678893,
          0
         ],
         "xaxis": "x",
         "y": [
          -13315,
          -13315,
          -13325,
          -13325
         ],
         "yaxis": "y"
        },
        {
         "hoverinfo": "text",
         "marker": {
          "color": "rgb(0,116,217)"
         },
         "mode": "lines",
         "type": "scatter",
         "x": [
          1.3180518396678893,
          1.3423765699846075,
          1.3423765699846075,
          0
         ],
         "xaxis": "x",
         "y": [
          -13320,
          -13320,
          -13335,
          -13335
         ],
         "yaxis": "y"
        },
        {
         "hoverinfo": "text",
         "marker": {
          "color": "rgb(0,116,217)"
         },
         "mode": "lines",
         "type": "scatter",
         "x": [
          1.3423765699846075,
          1.371676949316014,
          1.371676949316014,
          0
         ],
         "xaxis": "x",
         "y": [
          -13327.5,
          -13327.5,
          -13345,
          -13345
         ],
         "yaxis": "y"
        },
        {
         "hoverinfo": "text",
         "marker": {
          "color": "rgb(0,116,217)"
         },
         "mode": "lines",
         "type": "scatter",
         "x": [
          1.3477681753750141,
          1.3953868187000753,
          1.3953868187000753,
          1.371676949316014
         ],
         "xaxis": "x",
         "y": [
          -13300,
          -13300,
          -13336.25,
          -13336.25
         ],
         "yaxis": "y"
        },
        {
         "hoverinfo": "text",
         "marker": {
          "color": "rgb(0,116,217)"
         },
         "mode": "lines",
         "type": "scatter",
         "x": [
          0,
          1.3464641019895605,
          1.3464641019895605,
          0
         ],
         "xaxis": "x",
         "y": [
          -13365,
          -13365,
          -13375,
          -13375
         ],
         "yaxis": "y"
        },
        {
         "hoverinfo": "text",
         "marker": {
          "color": "rgb(0,116,217)"
         },
         "mode": "lines",
         "type": "scatter",
         "x": [
          0,
          1.4141183724359494,
          1.4141183724359494,
          1.3464641019895605
         ],
         "xaxis": "x",
         "y": [
          -13355,
          -13355,
          -13370,
          -13370
         ],
         "yaxis": "y"
        },
        {
         "hoverinfo": "text",
         "marker": {
          "color": "rgb(0,116,217)"
         },
         "mode": "lines",
         "type": "scatter",
         "x": [
          0,
          1.3043761017794346,
          1.3043761017794346,
          0
         ],
         "xaxis": "x",
         "y": [
          -13385,
          -13385,
          -13395,
          -13395
         ],
         "yaxis": "y"
        },
        {
         "hoverinfo": "text",
         "marker": {
          "color": "rgb(0,116,217)"
         },
         "mode": "lines",
         "type": "scatter",
         "x": [
          1.4141183724359494,
          1.5888076856157132,
          1.5888076856157132,
          1.3043761017794346
         ],
         "xaxis": "x",
         "y": [
          -13362.5,
          -13362.5,
          -13390,
          -13390
         ],
         "yaxis": "y"
        },
        {
         "hoverinfo": "text",
         "marker": {
          "color": "rgb(0,116,217)"
         },
         "mode": "lines",
         "type": "scatter",
         "x": [
          1.3953868187000753,
          1.6718293921812377,
          1.6718293921812377,
          1.5888076856157132
         ],
         "xaxis": "x",
         "y": [
          -13318.125,
          -13318.125,
          -13376.25,
          -13376.25
         ],
         "yaxis": "y"
        },
        {
         "hoverinfo": "text",
         "marker": {
          "color": "rgb(0,116,217)"
         },
         "mode": "lines",
         "type": "scatter",
         "x": [
          1.7163165546535464,
          1.8482068891628816,
          1.8482068891628816,
          1.6718293921812377
         ],
         "xaxis": "x",
         "y": [
          -13213.125,
          -13213.125,
          -13347.1875,
          -13347.1875
         ],
         "yaxis": "y"
        },
        {
         "hoverinfo": "text",
         "marker": {
          "color": "rgb(0,116,217)"
         },
         "mode": "lines",
         "type": "scatter",
         "x": [
          1.7574265773352866,
          1.93557388970747,
          1.93557388970747,
          1.8482068891628816
         ],
         "xaxis": "x",
         "y": [
          -13096.875,
          -13096.875,
          -13280.15625,
          -13280.15625
         ],
         "yaxis": "y"
        },
        {
         "hoverinfo": "text",
         "marker": {
          "color": "rgb(0,116,217)"
         },
         "mode": "lines",
         "type": "scatter",
         "x": [
          0,
          1.325924040352555,
          1.325924040352555,
          0
         ],
         "xaxis": "x",
         "y": [
          -13405,
          -13405,
          -13415,
          -13415
         ],
         "yaxis": "y"
        },
        {
         "hoverinfo": "text",
         "marker": {
          "color": "rgb(0,116,217)"
         },
         "mode": "lines",
         "type": "scatter",
         "x": [
          0,
          1.229676051099307,
          1.229676051099307,
          0
         ],
         "xaxis": "x",
         "y": [
          -13435,
          -13435,
          -13445,
          -13445
         ],
         "yaxis": "y"
        },
        {
         "hoverinfo": "text",
         "marker": {
          "color": "rgb(0,116,217)"
         },
         "mode": "lines",
         "type": "scatter",
         "x": [
          1.229676051099307,
          1.2740696593869207,
          1.2740696593869207,
          0
         ],
         "xaxis": "x",
         "y": [
          -13440,
          -13440,
          -13455,
          -13455
         ],
         "yaxis": "y"
        },
        {
         "hoverinfo": "text",
         "marker": {
          "color": "rgb(0,116,217)"
         },
         "mode": "lines",
         "type": "scatter",
         "x": [
          0,
          1.2986314646696713,
          1.2986314646696713,
          1.2740696593869207
         ],
         "xaxis": "x",
         "y": [
          -13425,
          -13425,
          -13447.5,
          -13447.5
         ],
         "yaxis": "y"
        },
        {
         "hoverinfo": "text",
         "marker": {
          "color": "rgb(0,116,217)"
         },
         "mode": "lines",
         "type": "scatter",
         "x": [
          1.325924040352555,
          1.3925206941671895,
          1.3925206941671895,
          1.2986314646696713
         ],
         "xaxis": "x",
         "y": [
          -13410,
          -13410,
          -13436.25,
          -13436.25
         ],
         "yaxis": "y"
        },
        {
         "hoverinfo": "text",
         "marker": {
          "color": "rgb(0,116,217)"
         },
         "mode": "lines",
         "type": "scatter",
         "x": [
          0,
          1.3076562487433623,
          1.3076562487433623,
          0
         ],
         "xaxis": "x",
         "y": [
          -13465,
          -13465,
          -13475,
          -13475
         ],
         "yaxis": "y"
        },
        {
         "hoverinfo": "text",
         "marker": {
          "color": "rgb(0,116,217)"
         },
         "mode": "lines",
         "type": "scatter",
         "x": [
          1.3925206941671895,
          1.4394218595103387,
          1.4394218595103387,
          1.3076562487433623
         ],
         "xaxis": "x",
         "y": [
          -13423.125,
          -13423.125,
          -13470,
          -13470
         ],
         "yaxis": "y"
        },
        {
         "hoverinfo": "text",
         "marker": {
          "color": "rgb(0,116,217)"
         },
         "mode": "lines",
         "type": "scatter",
         "x": [
          0,
          1.3257101767720565,
          1.3257101767720565,
          0
         ],
         "xaxis": "x",
         "y": [
          -13485,
          -13485,
          -13495,
          -13495
         ],
         "yaxis": "y"
        },
        {
         "hoverinfo": "text",
         "marker": {
          "color": "rgb(0,116,217)"
         },
         "mode": "lines",
         "type": "scatter",
         "x": [
          0,
          1.272799053413029,
          1.272799053413029,
          0
         ],
         "xaxis": "x",
         "y": [
          -13505,
          -13505,
          -13515,
          -13515
         ],
         "yaxis": "y"
        },
        {
         "hoverinfo": "text",
         "marker": {
          "color": "rgb(0,116,217)"
         },
         "mode": "lines",
         "type": "scatter",
         "x": [
          1.3257101767720565,
          1.4364908199316033,
          1.4364908199316033,
          1.272799053413029
         ],
         "xaxis": "x",
         "y": [
          -13490,
          -13490,
          -13510,
          -13510
         ],
         "yaxis": "y"
        },
        {
         "hoverinfo": "text",
         "marker": {
          "color": "rgb(0,116,217)"
         },
         "mode": "lines",
         "type": "scatter",
         "x": [
          0,
          1.208705605525002,
          1.208705605525002,
          0
         ],
         "xaxis": "x",
         "y": [
          -13525,
          -13525,
          -13535,
          -13535
         ],
         "yaxis": "y"
        },
        {
         "hoverinfo": "text",
         "marker": {
          "color": "rgb(0,116,217)"
         },
         "mode": "lines",
         "type": "scatter",
         "x": [
          1.4364908199316033,
          1.6049525048235156,
          1.6049525048235156,
          1.208705605525002
         ],
         "xaxis": "x",
         "y": [
          -13500,
          -13500,
          -13530,
          -13530
         ],
         "yaxis": "y"
        },
        {
         "hoverinfo": "text",
         "marker": {
          "color": "rgb(0,116,217)"
         },
         "mode": "lines",
         "type": "scatter",
         "x": [
          1.4394218595103387,
          1.6419304905377188,
          1.6419304905377188,
          1.6049525048235156
         ],
         "xaxis": "x",
         "y": [
          -13446.5625,
          -13446.5625,
          -13515,
          -13515
         ],
         "yaxis": "y"
        },
        {
         "hoverinfo": "text",
         "marker": {
          "color": "rgb(0,116,217)"
         },
         "mode": "lines",
         "type": "scatter",
         "x": [
          1.93557388970747,
          2.6040726703498316,
          2.6040726703498316,
          1.6419304905377188
         ],
         "xaxis": "x",
         "y": [
          -13188.515625,
          -13188.515625,
          -13480.78125,
          -13480.78125
         ],
         "yaxis": "y"
        },
        {
         "hoverinfo": "text",
         "marker": {
          "color": "rgb(0,116,217)"
         },
         "mode": "lines",
         "type": "scatter",
         "x": [
          0,
          1.3250166189200596,
          1.3250166189200596,
          0
         ],
         "xaxis": "x",
         "y": [
          -13545,
          -13545,
          -13555,
          -13555
         ],
         "yaxis": "y"
        },
        {
         "hoverinfo": "text",
         "marker": {
          "color": "rgb(0,116,217)"
         },
         "mode": "lines",
         "type": "scatter",
         "x": [
          0,
          1.3409004945350345,
          1.3409004945350345,
          0
         ],
         "xaxis": "x",
         "y": [
          -13575,
          -13575,
          -13585,
          -13585
         ],
         "yaxis": "y"
        },
        {
         "hoverinfo": "text",
         "marker": {
          "color": "rgb(0,116,217)"
         },
         "mode": "lines",
         "type": "scatter",
         "x": [
          0,
          1.3619208172909898,
          1.3619208172909898,
          1.3409004945350345
         ],
         "xaxis": "x",
         "y": [
          -13565,
          -13565,
          -13580,
          -13580
         ],
         "yaxis": "y"
        },
        {
         "hoverinfo": "text",
         "marker": {
          "color": "rgb(0,116,217)"
         },
         "mode": "lines",
         "type": "scatter",
         "x": [
          0,
          1.3049367373608152,
          1.3049367373608152,
          0
         ],
         "xaxis": "x",
         "y": [
          -13595,
          -13595,
          -13605,
          -13605
         ],
         "yaxis": "y"
        },
        {
         "hoverinfo": "text",
         "marker": {
          "color": "rgb(0,116,217)"
         },
         "mode": "lines",
         "type": "scatter",
         "x": [
          0,
          1.350718611306189,
          1.350718611306189,
          0
         ],
         "xaxis": "x",
         "y": [
          -13615,
          -13615,
          -13625,
          -13625
         ],
         "yaxis": "y"
        },
        {
         "hoverinfo": "text",
         "marker": {
          "color": "rgb(0,116,217)"
         },
         "mode": "lines",
         "type": "scatter",
         "x": [
          1.3049367373608152,
          1.3955546764868552,
          1.3955546764868552,
          1.350718611306189
         ],
         "xaxis": "x",
         "y": [
          -13600,
          -13600,
          -13620,
          -13620
         ],
         "yaxis": "y"
        },
        {
         "hoverinfo": "text",
         "marker": {
          "color": "rgb(0,116,217)"
         },
         "mode": "lines",
         "type": "scatter",
         "x": [
          1.3619208172909898,
          1.4690214144209266,
          1.4690214144209266,
          1.3955546764868552
         ],
         "xaxis": "x",
         "y": [
          -13572.5,
          -13572.5,
          -13610,
          -13610
         ],
         "yaxis": "y"
        },
        {
         "hoverinfo": "text",
         "marker": {
          "color": "rgb(0,116,217)"
         },
         "mode": "lines",
         "type": "scatter",
         "x": [
          0,
          1.3437028500247072,
          1.3437028500247072,
          0
         ],
         "xaxis": "x",
         "y": [
          -13635,
          -13635,
          -13645,
          -13645
         ],
         "yaxis": "y"
        },
        {
         "hoverinfo": "text",
         "marker": {
          "color": "rgb(0,116,217)"
         },
         "mode": "lines",
         "type": "scatter",
         "x": [
          1.4690214144209266,
          1.5033333466619556,
          1.5033333466619556,
          1.3437028500247072
         ],
         "xaxis": "x",
         "y": [
          -13591.25,
          -13591.25,
          -13640,
          -13640
         ],
         "yaxis": "y"
        },
        {
         "hoverinfo": "text",
         "marker": {
          "color": "rgb(0,116,217)"
         },
         "mode": "lines",
         "type": "scatter",
         "x": [
          1.3250166189200596,
          1.5495721494072248,
          1.5495721494072248,
          1.5033333466619556
         ],
         "xaxis": "x",
         "y": [
          -13550,
          -13550,
          -13615.625,
          -13615.625
         ],
         "yaxis": "y"
        },
        {
         "hoverinfo": "text",
         "marker": {
          "color": "rgb(0,116,217)"
         },
         "mode": "lines",
         "type": "scatter",
         "x": [
          0,
          1.3638436021841915,
          1.3638436021841915,
          0
         ],
         "xaxis": "x",
         "y": [
          -13655,
          -13655,
          -13665,
          -13665
         ],
         "yaxis": "y"
        },
        {
         "hoverinfo": "text",
         "marker": {
          "color": "rgb(0,116,217)"
         },
         "mode": "lines",
         "type": "scatter",
         "x": [
          1.3638436021841915,
          1.3984987412697218,
          1.3984987412697218,
          0
         ],
         "xaxis": "x",
         "y": [
          -13660,
          -13660,
          -13675,
          -13675
         ],
         "yaxis": "y"
        },
        {
         "hoverinfo": "text",
         "marker": {
          "color": "rgb(0,116,217)"
         },
         "mode": "lines",
         "type": "scatter",
         "x": [
          0,
          1.3548636198962432,
          1.3548636198962432,
          0
         ],
         "xaxis": "x",
         "y": [
          -13685,
          -13685,
          -13695,
          -13695
         ],
         "yaxis": "y"
        },
        {
         "hoverinfo": "text",
         "marker": {
          "color": "rgb(0,116,217)"
         },
         "mode": "lines",
         "type": "scatter",
         "x": [
          1.3984987412697218,
          1.4267040976502,
          1.4267040976502,
          1.3548636198962432
         ],
         "xaxis": "x",
         "y": [
          -13667.5,
          -13667.5,
          -13690,
          -13690
         ],
         "yaxis": "y"
        },
        {
         "hoverinfo": "text",
         "marker": {
          "color": "rgb(0,116,217)"
         },
         "mode": "lines",
         "type": "scatter",
         "x": [
          0,
          1.3304440870362486,
          1.3304440870362486,
          0
         ],
         "xaxis": "x",
         "y": [
          -13705,
          -13705,
          -13715,
          -13715
         ],
         "yaxis": "y"
        },
        {
         "hoverinfo": "text",
         "marker": {
          "color": "rgb(0,116,217)"
         },
         "mode": "lines",
         "type": "scatter",
         "x": [
          0,
          1.3760027469134835,
          1.3760027469134835,
          0
         ],
         "xaxis": "x",
         "y": [
          -13725,
          -13725,
          -13735,
          -13735
         ],
         "yaxis": "y"
        },
        {
         "hoverinfo": "text",
         "marker": {
          "color": "rgb(0,116,217)"
         },
         "mode": "lines",
         "type": "scatter",
         "x": [
          1.3304440870362486,
          1.3932821210985324,
          1.3932821210985324,
          1.3760027469134835
         ],
         "xaxis": "x",
         "y": [
          -13710,
          -13710,
          -13730,
          -13730
         ],
         "yaxis": "y"
        },
        {
         "hoverinfo": "text",
         "marker": {
          "color": "rgb(0,116,217)"
         },
         "mode": "lines",
         "type": "scatter",
         "x": [
          1.4267040976502,
          1.5038232377400302,
          1.5038232377400302,
          1.3932821210985324
         ],
         "xaxis": "x",
         "y": [
          -13678.75,
          -13678.75,
          -13720,
          -13720
         ],
         "yaxis": "y"
        },
        {
         "hoverinfo": "text",
         "marker": {
          "color": "rgb(0,116,217)"
         },
         "mode": "lines",
         "type": "scatter",
         "x": [
          0,
          1.2805793901611233,
          1.2805793901611233,
          0
         ],
         "xaxis": "x",
         "y": [
          -13755,
          -13755,
          -13765,
          -13765
         ],
         "yaxis": "y"
        },
        {
         "hoverinfo": "text",
         "marker": {
          "color": "rgb(0,116,217)"
         },
         "mode": "lines",
         "type": "scatter",
         "x": [
          0,
          1.3369486144255358,
          1.3369486144255358,
          1.2805793901611233
         ],
         "xaxis": "x",
         "y": [
          -13745,
          -13745,
          -13760,
          -13760
         ],
         "yaxis": "y"
        },
        {
         "hoverinfo": "text",
         "marker": {
          "color": "rgb(0,116,217)"
         },
         "mode": "lines",
         "type": "scatter",
         "x": [
          0,
          1.3447140459553837,
          1.3447140459553837,
          0
         ],
         "xaxis": "x",
         "y": [
          -13785,
          -13785,
          -13795,
          -13795
         ],
         "yaxis": "y"
        },
        {
         "hoverinfo": "text",
         "marker": {
          "color": "rgb(0,116,217)"
         },
         "mode": "lines",
         "type": "scatter",
         "x": [
          0,
          1.355923745828359,
          1.355923745828359,
          1.3447140459553837
         ],
         "xaxis": "x",
         "y": [
          -13775,
          -13775,
          -13790,
          -13790
         ],
         "yaxis": "y"
        },
        {
         "hoverinfo": "text",
         "marker": {
          "color": "rgb(0,116,217)"
         },
         "mode": "lines",
         "type": "scatter",
         "x": [
          0,
          1.3390783292025032,
          1.3390783292025032,
          0
         ],
         "xaxis": "x",
         "y": [
          -13805,
          -13805,
          -13815,
          -13815
         ],
         "yaxis": "y"
        },
        {
         "hoverinfo": "text",
         "marker": {
          "color": "rgb(0,116,217)"
         },
         "mode": "lines",
         "type": "scatter",
         "x": [
          1.355923745828359,
          1.408567305703774,
          1.408567305703774,
          1.3390783292025032
         ],
         "xaxis": "x",
         "y": [
          -13782.5,
          -13782.5,
          -13810,
          -13810
         ],
         "yaxis": "y"
        },
        {
         "hoverinfo": "text",
         "marker": {
          "color": "rgb(0,116,217)"
         },
         "mode": "lines",
         "type": "scatter",
         "x": [
          0,
          1.3525032541272044,
          1.3525032541272044,
          0
         ],
         "xaxis": "x",
         "y": [
          -13825,
          -13825,
          -13835,
          -13835
         ],
         "yaxis": "y"
        },
        {
         "hoverinfo": "text",
         "marker": {
          "color": "rgb(0,116,217)"
         },
         "mode": "lines",
         "type": "scatter",
         "x": [
          1.408567305703774,
          1.472660845928715,
          1.472660845928715,
          1.3525032541272044
         ],
         "xaxis": "x",
         "y": [
          -13796.25,
          -13796.25,
          -13830,
          -13830
         ],
         "yaxis": "y"
        },
        {
         "hoverinfo": "text",
         "marker": {
          "color": "rgb(0,116,217)"
         },
         "mode": "lines",
         "type": "scatter",
         "x": [
          1.3369486144255358,
          1.5183101480580758,
          1.5183101480580758,
          1.472660845928715
         ],
         "xaxis": "x",
         "y": [
          -13752.5,
          -13752.5,
          -13813.125,
          -13813.125
         ],
         "yaxis": "y"
        },
        {
         "hoverinfo": "text",
         "marker": {
          "color": "rgb(0,116,217)"
         },
         "mode": "lines",
         "type": "scatter",
         "x": [
          1.5038232377400302,
          1.6455839860807964,
          1.6455839860807964,
          1.5183101480580758
         ],
         "xaxis": "x",
         "y": [
          -13699.375,
          -13699.375,
          -13782.8125,
          -13782.8125
         ],
         "yaxis": "y"
        },
        {
         "hoverinfo": "text",
         "marker": {
          "color": "rgb(0,116,217)"
         },
         "mode": "lines",
         "type": "scatter",
         "x": [
          1.5495721494072248,
          1.8110957343863108,
          1.8110957343863108,
          1.6455839860807964
         ],
         "xaxis": "x",
         "y": [
          -13582.8125,
          -13582.8125,
          -13741.09375,
          -13741.09375
         ],
         "yaxis": "y"
        },
        {
         "hoverinfo": "text",
         "marker": {
          "color": "rgb(0,116,217)"
         },
         "mode": "lines",
         "type": "scatter",
         "x": [
          0,
          1.3285211383420634,
          1.3285211383420634,
          0
         ],
         "xaxis": "x",
         "y": [
          -13845,
          -13845,
          -13855,
          -13855
         ],
         "yaxis": "y"
        },
        {
         "hoverinfo": "text",
         "marker": {
          "color": "rgb(0,116,217)"
         },
         "mode": "lines",
         "type": "scatter",
         "x": [
          0,
          1.3746553734650355,
          1.3746553734650355,
          0
         ],
         "xaxis": "x",
         "y": [
          -13865,
          -13865,
          -13875,
          -13875
         ],
         "yaxis": "y"
        },
        {
         "hoverinfo": "text",
         "marker": {
          "color": "rgb(0,116,217)"
         },
         "mode": "lines",
         "type": "scatter",
         "x": [
          1.3285211383420634,
          1.4449072139717234,
          1.4449072139717234,
          1.3746553734650355
         ],
         "xaxis": "x",
         "y": [
          -13850,
          -13850,
          -13870,
          -13870
         ],
         "yaxis": "y"
        },
        {
         "hoverinfo": "text",
         "marker": {
          "color": "rgb(0,116,217)"
         },
         "mode": "lines",
         "type": "scatter",
         "x": [
          0,
          1.2805890572676972,
          1.2805890572676972,
          0
         ],
         "xaxis": "x",
         "y": [
          -13885,
          -13885,
          -13895,
          -13895
         ],
         "yaxis": "y"
        },
        {
         "hoverinfo": "text",
         "marker": {
          "color": "rgb(0,116,217)"
         },
         "mode": "lines",
         "type": "scatter",
         "x": [
          0,
          1.3419788713030008,
          1.3419788713030008,
          0
         ],
         "xaxis": "x",
         "y": [
          -13905,
          -13905,
          -13915,
          -13915
         ],
         "yaxis": "y"
        },
        {
         "hoverinfo": "text",
         "marker": {
          "color": "rgb(0,116,217)"
         },
         "mode": "lines",
         "type": "scatter",
         "x": [
          1.3419788713030008,
          1.3672815129310043,
          1.3672815129310043,
          0
         ],
         "xaxis": "x",
         "y": [
          -13910,
          -13910,
          -13925,
          -13925
         ],
         "yaxis": "y"
        },
        {
         "hoverinfo": "text",
         "marker": {
          "color": "rgb(0,116,217)"
         },
         "mode": "lines",
         "type": "scatter",
         "x": [
          1.2805890572676972,
          1.403809951225739,
          1.403809951225739,
          1.3672815129310043
         ],
         "xaxis": "x",
         "y": [
          -13890,
          -13890,
          -13917.5,
          -13917.5
         ],
         "yaxis": "y"
        },
        {
         "hoverinfo": "text",
         "marker": {
          "color": "rgb(0,116,217)"
         },
         "mode": "lines",
         "type": "scatter",
         "x": [
          1.4449072139717234,
          1.643912420092286,
          1.643912420092286,
          1.403809951225739
         ],
         "xaxis": "x",
         "y": [
          -13860,
          -13860,
          -13903.75,
          -13903.75
         ],
         "yaxis": "y"
        },
        {
         "hoverinfo": "text",
         "marker": {
          "color": "rgb(0,116,217)"
         },
         "mode": "lines",
         "type": "scatter",
         "x": [
          0,
          1.2962140838228287,
          1.2962140838228287,
          0
         ],
         "xaxis": "x",
         "y": [
          -13955,
          -13955,
          -13965,
          -13965
         ],
         "yaxis": "y"
        },
        {
         "hoverinfo": "text",
         "marker": {
          "color": "rgb(0,116,217)"
         },
         "mode": "lines",
         "type": "scatter",
         "x": [
          0,
          1.3018130551181462,
          1.3018130551181462,
          1.2962140838228287
         ],
         "xaxis": "x",
         "y": [
          -13945,
          -13945,
          -13960,
          -13960
         ],
         "yaxis": "y"
        },
        {
         "hoverinfo": "text",
         "marker": {
          "color": "rgb(0,116,217)"
         },
         "mode": "lines",
         "type": "scatter",
         "x": [
          0,
          1.3556632409044027,
          1.3556632409044027,
          1.3018130551181462
         ],
         "xaxis": "x",
         "y": [
          -13935,
          -13935,
          -13952.5,
          -13952.5
         ],
         "yaxis": "y"
        },
        {
         "hoverinfo": "text",
         "marker": {
          "color": "rgb(0,116,217)"
         },
         "mode": "lines",
         "type": "scatter",
         "x": [
          0,
          1.296505049791456,
          1.296505049791456,
          0
         ],
         "xaxis": "x",
         "y": [
          -13985,
          -13985,
          -13995,
          -13995
         ],
         "yaxis": "y"
        },
        {
         "hoverinfo": "text",
         "marker": {
          "color": "rgb(0,116,217)"
         },
         "mode": "lines",
         "type": "scatter",
         "x": [
          0,
          1.361970474841882,
          1.361970474841882,
          1.296505049791456
         ],
         "xaxis": "x",
         "y": [
          -13975,
          -13975,
          -13990,
          -13990
         ],
         "yaxis": "y"
        },
        {
         "hoverinfo": "text",
         "marker": {
          "color": "rgb(0,116,217)"
         },
         "mode": "lines",
         "type": "scatter",
         "x": [
          1.3556632409044027,
          1.3856493794878972,
          1.3856493794878972,
          1.361970474841882
         ],
         "xaxis": "x",
         "y": [
          -13943.75,
          -13943.75,
          -13982.5,
          -13982.5
         ],
         "yaxis": "y"
        },
        {
         "hoverinfo": "text",
         "marker": {
          "color": "rgb(0,116,217)"
         },
         "mode": "lines",
         "type": "scatter",
         "x": [
          1.643912420092286,
          1.6982531912028043,
          1.6982531912028043,
          1.3856493794878972
         ],
         "xaxis": "x",
         "y": [
          -13881.875,
          -13881.875,
          -13963.125,
          -13963.125
         ],
         "yaxis": "y"
        },
        {
         "hoverinfo": "text",
         "marker": {
          "color": "rgb(0,116,217)"
         },
         "mode": "lines",
         "type": "scatter",
         "x": [
          0,
          1.390965355605276,
          1.390965355605276,
          0
         ],
         "xaxis": "x",
         "y": [
          -14005,
          -14005,
          -14015,
          -14015
         ],
         "yaxis": "y"
        },
        {
         "hoverinfo": "text",
         "marker": {
          "color": "rgb(0,116,217)"
         },
         "mode": "lines",
         "type": "scatter",
         "x": [
          0,
          1.3386135354688042,
          1.3386135354688042,
          0
         ],
         "xaxis": "x",
         "y": [
          -14025,
          -14025,
          -14035,
          -14035
         ],
         "yaxis": "y"
        },
        {
         "hoverinfo": "text",
         "marker": {
          "color": "rgb(0,116,217)"
         },
         "mode": "lines",
         "type": "scatter",
         "x": [
          1.3386135354688042,
          1.3681591265987425,
          1.3681591265987425,
          0
         ],
         "xaxis": "x",
         "y": [
          -14030,
          -14030,
          -14045,
          -14045
         ],
         "yaxis": "y"
        },
        {
         "hoverinfo": "text",
         "marker": {
          "color": "rgb(0,116,217)"
         },
         "mode": "lines",
         "type": "scatter",
         "x": [
          1.390965355605276,
          1.414896325401852,
          1.414896325401852,
          1.3681591265987425
         ],
         "xaxis": "x",
         "y": [
          -14010,
          -14010,
          -14037.5,
          -14037.5
         ],
         "yaxis": "y"
        },
        {
         "hoverinfo": "text",
         "marker": {
          "color": "rgb(0,116,217)"
         },
         "mode": "lines",
         "type": "scatter",
         "x": [
          0,
          1.343391429647812,
          1.343391429647812,
          0
         ],
         "xaxis": "x",
         "y": [
          -14055,
          -14055,
          -14065,
          -14065
         ],
         "yaxis": "y"
        },
        {
         "hoverinfo": "text",
         "marker": {
          "color": "rgb(0,116,217)"
         },
         "mode": "lines",
         "type": "scatter",
         "x": [
          0,
          1.3851031042694915,
          1.3851031042694915,
          0
         ],
         "xaxis": "x",
         "y": [
          -14075,
          -14075,
          -14085,
          -14085
         ],
         "yaxis": "y"
        },
        {
         "hoverinfo": "text",
         "marker": {
          "color": "rgb(0,116,217)"
         },
         "mode": "lines",
         "type": "scatter",
         "x": [
          1.343391429647812,
          1.3994835770150098,
          1.3994835770150098,
          1.3851031042694915
         ],
         "xaxis": "x",
         "y": [
          -14060,
          -14060,
          -14080,
          -14080
         ],
         "yaxis": "y"
        },
        {
         "hoverinfo": "text",
         "marker": {
          "color": "rgb(0,116,217)"
         },
         "mode": "lines",
         "type": "scatter",
         "x": [
          0,
          1.3426191586329879,
          1.3426191586329879,
          0
         ],
         "xaxis": "x",
         "y": [
          -14095,
          -14095,
          -14105,
          -14105
         ],
         "yaxis": "y"
        },
        {
         "hoverinfo": "text",
         "marker": {
          "color": "rgb(0,116,217)"
         },
         "mode": "lines",
         "type": "scatter",
         "x": [
          1.3994835770150098,
          1.4832725269665084,
          1.4832725269665084,
          1.3426191586329879
         ],
         "xaxis": "x",
         "y": [
          -14070,
          -14070,
          -14100,
          -14100
         ],
         "yaxis": "y"
        },
        {
         "hoverinfo": "text",
         "marker": {
          "color": "rgb(0,116,217)"
         },
         "mode": "lines",
         "type": "scatter",
         "x": [
          1.414896325401852,
          1.5437841741431682,
          1.5437841741431682,
          1.4832725269665084
         ],
         "xaxis": "x",
         "y": [
          -14023.75,
          -14023.75,
          -14085,
          -14085
         ],
         "yaxis": "y"
        },
        {
         "hoverinfo": "text",
         "marker": {
          "color": "rgb(0,116,217)"
         },
         "mode": "lines",
         "type": "scatter",
         "x": [
          1.6982531912028043,
          1.9290541029261656,
          1.9290541029261656,
          1.5437841741431682
         ],
         "xaxis": "x",
         "y": [
          -13922.5,
          -13922.5,
          -14054.375,
          -14054.375
         ],
         "yaxis": "y"
        },
        {
         "hoverinfo": "text",
         "marker": {
          "color": "rgb(0,116,217)"
         },
         "mode": "lines",
         "type": "scatter",
         "x": [
          1.8110957343863108,
          2.410562149397974,
          2.410562149397974,
          1.9290541029261656
         ],
         "xaxis": "x",
         "y": [
          -13661.953125,
          -13661.953125,
          -13988.4375,
          -13988.4375
         ],
         "yaxis": "y"
        },
        {
         "hoverinfo": "text",
         "marker": {
          "color": "rgb(0,116,217)"
         },
         "mode": "lines",
         "type": "scatter",
         "x": [
          0,
          1.3764801762878112,
          1.3764801762878112,
          0
         ],
         "xaxis": "x",
         "y": [
          -14115,
          -14115,
          -14125,
          -14125
         ],
         "yaxis": "y"
        },
        {
         "hoverinfo": "text",
         "marker": {
          "color": "rgb(0,116,217)"
         },
         "mode": "lines",
         "type": "scatter",
         "x": [
          0,
          1.3694417193497095,
          1.3694417193497095,
          0
         ],
         "xaxis": "x",
         "y": [
          -14135,
          -14135,
          -14145,
          -14145
         ],
         "yaxis": "y"
        },
        {
         "hoverinfo": "text",
         "marker": {
          "color": "rgb(0,116,217)"
         },
         "mode": "lines",
         "type": "scatter",
         "x": [
          1.3694417193497095,
          1.4091731170269841,
          1.4091731170269841,
          0
         ],
         "xaxis": "x",
         "y": [
          -14140,
          -14140,
          -14155,
          -14155
         ],
         "yaxis": "y"
        },
        {
         "hoverinfo": "text",
         "marker": {
          "color": "rgb(0,116,217)"
         },
         "mode": "lines",
         "type": "scatter",
         "x": [
          1.3764801762878112,
          1.4722536670074613,
          1.4722536670074613,
          1.4091731170269841
         ],
         "xaxis": "x",
         "y": [
          -14120,
          -14120,
          -14147.5,
          -14147.5
         ],
         "yaxis": "y"
        },
        {
         "hoverinfo": "text",
         "marker": {
          "color": "rgb(0,116,217)"
         },
         "mode": "lines",
         "type": "scatter",
         "x": [
          0,
          1.372063330899644,
          1.372063330899644,
          0
         ],
         "xaxis": "x",
         "y": [
          -14165,
          -14165,
          -14175,
          -14175
         ],
         "yaxis": "y"
        },
        {
         "hoverinfo": "text",
         "marker": {
          "color": "rgb(0,116,217)"
         },
         "mode": "lines",
         "type": "scatter",
         "x": [
          0,
          1.344270231224809,
          1.344270231224809,
          0
         ],
         "xaxis": "x",
         "y": [
          -14185,
          -14185,
          -14195,
          -14195
         ],
         "yaxis": "y"
        },
        {
         "hoverinfo": "text",
         "marker": {
          "color": "rgb(0,116,217)"
         },
         "mode": "lines",
         "type": "scatter",
         "x": [
          1.372063330899644,
          1.4351112161208257,
          1.4351112161208257,
          1.344270231224809
         ],
         "xaxis": "x",
         "y": [
          -14170,
          -14170,
          -14190,
          -14190
         ],
         "yaxis": "y"
        },
        {
         "hoverinfo": "text",
         "marker": {
          "color": "rgb(0,116,217)"
         },
         "mode": "lines",
         "type": "scatter",
         "x": [
          1.4722536670074613,
          1.5330432326247363,
          1.5330432326247363,
          1.4351112161208257
         ],
         "xaxis": "x",
         "y": [
          -14133.75,
          -14133.75,
          -14180,
          -14180
         ],
         "yaxis": "y"
        },
        {
         "hoverinfo": "text",
         "marker": {
          "color": "rgb(0,116,217)"
         },
         "mode": "lines",
         "type": "scatter",
         "x": [
          0,
          1.3422668004465463,
          1.3422668004465463,
          0
         ],
         "xaxis": "x",
         "y": [
          -14205,
          -14205,
          -14215,
          -14215
         ],
         "yaxis": "y"
        },
        {
         "hoverinfo": "text",
         "marker": {
          "color": "rgb(0,116,217)"
         },
         "mode": "lines",
         "type": "scatter",
         "x": [
          0,
          1.371714369760119,
          1.371714369760119,
          0
         ],
         "xaxis": "x",
         "y": [
          -14225,
          -14225,
          -14235,
          -14235
         ],
         "yaxis": "y"
        },
        {
         "hoverinfo": "text",
         "marker": {
          "color": "rgb(0,116,217)"
         },
         "mode": "lines",
         "type": "scatter",
         "x": [
          0,
          1.2831515664985167,
          1.2831515664985167,
          0
         ],
         "xaxis": "x",
         "y": [
          -14245,
          -14245,
          -14255,
          -14255
         ],
         "yaxis": "y"
        },
        {
         "hoverinfo": "text",
         "marker": {
          "color": "rgb(0,116,217)"
         },
         "mode": "lines",
         "type": "scatter",
         "x": [
          1.371714369760119,
          1.3770069765981852,
          1.3770069765981852,
          1.2831515664985167
         ],
         "xaxis": "x",
         "y": [
          -14230,
          -14230,
          -14250,
          -14250
         ],
         "yaxis": "y"
        },
        {
         "hoverinfo": "text",
         "marker": {
          "color": "rgb(0,116,217)"
         },
         "mode": "lines",
         "type": "scatter",
         "x": [
          0,
          1.3676985692472818,
          1.3676985692472818,
          0
         ],
         "xaxis": "x",
         "y": [
          -14265,
          -14265,
          -14275,
          -14275
         ],
         "yaxis": "y"
        },
        {
         "hoverinfo": "text",
         "marker": {
          "color": "rgb(0,116,217)"
         },
         "mode": "lines",
         "type": "scatter",
         "x": [
          1.3770069765981852,
          1.4526000652089668,
          1.4526000652089668,
          1.3676985692472818
         ],
         "xaxis": "x",
         "y": [
          -14240,
          -14240,
          -14270,
          -14270
         ],
         "yaxis": "y"
        },
        {
         "hoverinfo": "text",
         "marker": {
          "color": "rgb(0,116,217)"
         },
         "mode": "lines",
         "type": "scatter",
         "x": [
          1.3422668004465463,
          1.5046964201276654,
          1.5046964201276654,
          1.4526000652089668
         ],
         "xaxis": "x",
         "y": [
          -14210,
          -14210,
          -14255,
          -14255
         ],
         "yaxis": "y"
        },
        {
         "hoverinfo": "text",
         "marker": {
          "color": "rgb(0,116,217)"
         },
         "mode": "lines",
         "type": "scatter",
         "x": [
          1.5330432326247363,
          1.7503574478024737,
          1.7503574478024737,
          1.5046964201276654
         ],
         "xaxis": "x",
         "y": [
          -14156.875,
          -14156.875,
          -14232.5,
          -14232.5
         ],
         "yaxis": "y"
        },
        {
         "hoverinfo": "text",
         "marker": {
          "color": "rgb(0,116,217)"
         },
         "mode": "lines",
         "type": "scatter",
         "x": [
          0,
          1.3245527376340331,
          1.3245527376340331,
          0
         ],
         "xaxis": "x",
         "y": [
          -14285,
          -14285,
          -14295,
          -14295
         ],
         "yaxis": "y"
        },
        {
         "hoverinfo": "text",
         "marker": {
          "color": "rgb(0,116,217)"
         },
         "mode": "lines",
         "type": "scatter",
         "x": [
          1.3245527376340331,
          1.3621512601593102,
          1.3621512601593102,
          0
         ],
         "xaxis": "x",
         "y": [
          -14290,
          -14290,
          -14305,
          -14305
         ],
         "yaxis": "y"
        },
        {
         "hoverinfo": "text",
         "marker": {
          "color": "rgb(0,116,217)"
         },
         "mode": "lines",
         "type": "scatter",
         "x": [
          0,
          1.2964591660355693,
          1.2964591660355693,
          0
         ],
         "xaxis": "x",
         "y": [
          -14315,
          -14315,
          -14325,
          -14325
         ],
         "yaxis": "y"
        },
        {
         "hoverinfo": "text",
         "marker": {
          "color": "rgb(0,116,217)"
         },
         "mode": "lines",
         "type": "scatter",
         "x": [
          0,
          1.3335485136851655,
          1.3335485136851655,
          0
         ],
         "xaxis": "x",
         "y": [
          -14335,
          -14335,
          -14345,
          -14345
         ],
         "yaxis": "y"
        },
        {
         "hoverinfo": "text",
         "marker": {
          "color": "rgb(0,116,217)"
         },
         "mode": "lines",
         "type": "scatter",
         "x": [
          1.2964591660355693,
          1.3734138050224003,
          1.3734138050224003,
          1.3335485136851655
         ],
         "xaxis": "x",
         "y": [
          -14320,
          -14320,
          -14340,
          -14340
         ],
         "yaxis": "y"
        },
        {
         "hoverinfo": "text",
         "marker": {
          "color": "rgb(0,116,217)"
         },
         "mode": "lines",
         "type": "scatter",
         "x": [
          1.3621512601593102,
          1.486770385509383,
          1.486770385509383,
          1.3734138050224003
         ],
         "xaxis": "x",
         "y": [
          -14297.5,
          -14297.5,
          -14330,
          -14330
         ],
         "yaxis": "y"
        },
        {
         "hoverinfo": "text",
         "marker": {
          "color": "rgb(0,116,217)"
         },
         "mode": "lines",
         "type": "scatter",
         "x": [
          0,
          1.3737984929343234,
          1.3737984929343234,
          0
         ],
         "xaxis": "x",
         "y": [
          -14355,
          -14355,
          -14365,
          -14365
         ],
         "yaxis": "y"
        },
        {
         "hoverinfo": "text",
         "marker": {
          "color": "rgb(0,116,217)"
         },
         "mode": "lines",
         "type": "scatter",
         "x": [
          0,
          1.400329898145482,
          1.400329898145482,
          0
         ],
         "xaxis": "x",
         "y": [
          -14375,
          -14375,
          -14385,
          -14385
         ],
         "yaxis": "y"
        },
        {
         "hoverinfo": "text",
         "marker": {
          "color": "rgb(0,116,217)"
         },
         "mode": "lines",
         "type": "scatter",
         "x": [
          1.3737984929343234,
          1.4408290649405993,
          1.4408290649405993,
          1.400329898145482
         ],
         "xaxis": "x",
         "y": [
          -14360,
          -14360,
          -14380,
          -14380
         ],
         "yaxis": "y"
        },
        {
         "hoverinfo": "text",
         "marker": {
          "color": "rgb(0,116,217)"
         },
         "mode": "lines",
         "type": "scatter",
         "x": [
          0,
          1.3236067533216496,
          1.3236067533216496,
          0
         ],
         "xaxis": "x",
         "y": [
          -14395,
          -14395,
          -14405,
          -14405
         ],
         "yaxis": "y"
        },
        {
         "hoverinfo": "text",
         "marker": {
          "color": "rgb(0,116,217)"
         },
         "mode": "lines",
         "type": "scatter",
         "x": [
          1.3236067533216496,
          1.3626125219083123,
          1.3626125219083123,
          0
         ],
         "xaxis": "x",
         "y": [
          -14400,
          -14400,
          -14415,
          -14415
         ],
         "yaxis": "y"
        },
        {
         "hoverinfo": "text",
         "marker": {
          "color": "rgb(0,116,217)"
         },
         "mode": "lines",
         "type": "scatter",
         "x": [
          1.4408290649405993,
          1.483789144990624,
          1.483789144990624,
          1.3626125219083123
         ],
         "xaxis": "x",
         "y": [
          -14370,
          -14370,
          -14407.5,
          -14407.5
         ],
         "yaxis": "y"
        },
        {
         "hoverinfo": "text",
         "marker": {
          "color": "rgb(0,116,217)"
         },
         "mode": "lines",
         "type": "scatter",
         "x": [
          0,
          1.387861452914957,
          1.387861452914957,
          0
         ],
         "xaxis": "x",
         "y": [
          -14425,
          -14425,
          -14435,
          -14435
         ],
         "yaxis": "y"
        },
        {
         "hoverinfo": "text",
         "marker": {
          "color": "rgb(0,116,217)"
         },
         "mode": "lines",
         "type": "scatter",
         "x": [
          1.483789144990624,
          1.5192477761657146,
          1.5192477761657146,
          1.387861452914957
         ],
         "xaxis": "x",
         "y": [
          -14388.75,
          -14388.75,
          -14430,
          -14430
         ],
         "yaxis": "y"
        },
        {
         "hoverinfo": "text",
         "marker": {
          "color": "rgb(0,116,217)"
         },
         "mode": "lines",
         "type": "scatter",
         "x": [
          1.486770385509383,
          1.676109592700116,
          1.676109592700116,
          1.5192477761657146
         ],
         "xaxis": "x",
         "y": [
          -14313.75,
          -14313.75,
          -14409.375,
          -14409.375
         ],
         "yaxis": "y"
        },
        {
         "hoverinfo": "text",
         "marker": {
          "color": "rgb(0,116,217)"
         },
         "mode": "lines",
         "type": "scatter",
         "x": [
          1.7503574478024737,
          1.940401549384916,
          1.940401549384916,
          1.676109592700116
         ],
         "xaxis": "x",
         "y": [
          -14194.6875,
          -14194.6875,
          -14361.5625,
          -14361.5625
         ],
         "yaxis": "y"
        },
        {
         "hoverinfo": "text",
         "marker": {
          "color": "rgb(0,116,217)"
         },
         "mode": "lines",
         "type": "scatter",
         "x": [
          2.410562149397974,
          2.80812750948181,
          2.80812750948181,
          1.940401549384916
         ],
         "xaxis": "x",
         "y": [
          -13825.1953125,
          -13825.1953125,
          -14278.125,
          -14278.125
         ],
         "yaxis": "y"
        },
        {
         "hoverinfo": "text",
         "marker": {
          "color": "rgb(0,116,217)"
         },
         "mode": "lines",
         "type": "scatter",
         "x": [
          2.6040726703498316,
          3.3004603601558085,
          3.3004603601558085,
          2.80812750948181
         ],
         "xaxis": "x",
         "y": [
          -13334.6484375,
          -13334.6484375,
          -14051.66015625,
          -14051.66015625
         ],
         "yaxis": "y"
        },
        {
         "hoverinfo": "text",
         "marker": {
          "color": "rgb(0,116,217)"
         },
         "mode": "lines",
         "type": "scatter",
         "x": [
          3.742188684649123,
          5.1128796427810554,
          5.1128796427810554,
          3.3004603601558085
         ],
         "xaxis": "x",
         "y": [
          -12505.5078125,
          -12505.5078125,
          -13693.154296875,
          -13693.154296875
         ],
         "yaxis": "y"
        },
        {
         "hoverinfo": "text",
         "marker": {
          "color": "rgb(0,116,217)"
         },
         "mode": "lines",
         "type": "scatter",
         "x": [
          3.4114593628267,
          7.457213773640799,
          7.457213773640799,
          5.1128796427810554
         ],
         "xaxis": "x",
         "y": [
          -12002.734375,
          -12002.734375,
          -13099.3310546875,
          -13099.3310546875
         ],
         "yaxis": "y"
        },
        {
         "hoverinfo": "text",
         "marker": {
          "color": "rgb(0,116,217)"
         },
         "mode": "lines",
         "type": "scatter",
         "x": [
          6.699762710342773,
          7.988858197311977,
          7.988858197311977,
          7.457213773640799
         ],
         "xaxis": "x",
         "y": [
          -9051.334838867188,
          -9051.334838867188,
          -12551.03271484375,
          -12551.03271484375
         ],
         "yaxis": "y"
        },
        {
         "hoverinfo": "text",
         "marker": {
          "color": "rgb(0,116,217)"
         },
         "mode": "lines",
         "type": "scatter",
         "x": [
          0,
          1.338278011044849,
          1.338278011044849,
          0
         ],
         "xaxis": "x",
         "y": [
          -14445,
          -14445,
          -14455,
          -14455
         ],
         "yaxis": "y"
        },
        {
         "hoverinfo": "text",
         "marker": {
          "color": "rgb(0,116,217)"
         },
         "mode": "lines",
         "type": "scatter",
         "x": [
          0,
          1.335231576281215,
          1.335231576281215,
          0
         ],
         "xaxis": "x",
         "y": [
          -14465,
          -14465,
          -14475,
          -14475
         ],
         "yaxis": "y"
        },
        {
         "hoverinfo": "text",
         "marker": {
          "color": "rgb(0,116,217)"
         },
         "mode": "lines",
         "type": "scatter",
         "x": [
          1.338278011044849,
          1.4087586152370277,
          1.4087586152370277,
          1.335231576281215
         ],
         "xaxis": "x",
         "y": [
          -14450,
          -14450,
          -14470,
          -14470
         ],
         "yaxis": "y"
        },
        {
         "hoverinfo": "text",
         "marker": {
          "color": "rgb(0,116,217)"
         },
         "mode": "lines",
         "type": "scatter",
         "x": [
          0,
          1.1765820704753096,
          1.1765820704753096,
          0
         ],
         "xaxis": "x",
         "y": [
          -14485,
          -14485,
          -14495,
          -14495
         ],
         "yaxis": "y"
        },
        {
         "hoverinfo": "text",
         "marker": {
          "color": "rgb(0,116,217)"
         },
         "mode": "lines",
         "type": "scatter",
         "x": [
          1.4087586152370277,
          1.6155102185411996,
          1.6155102185411996,
          1.1765820704753096
         ],
         "xaxis": "x",
         "y": [
          -14460,
          -14460,
          -14490,
          -14490
         ],
         "yaxis": "y"
        },
        {
         "hoverinfo": "text",
         "marker": {
          "color": "rgb(0,116,217)"
         },
         "mode": "lines",
         "type": "scatter",
         "x": [
          0,
          1.3397562579059163,
          1.3397562579059163,
          0
         ],
         "xaxis": "x",
         "y": [
          -14505,
          -14505,
          -14515,
          -14515
         ],
         "yaxis": "y"
        },
        {
         "hoverinfo": "text",
         "marker": {
          "color": "rgb(0,116,217)"
         },
         "mode": "lines",
         "type": "scatter",
         "x": [
          0,
          1.2188750478074573,
          1.2188750478074573,
          0
         ],
         "xaxis": "x",
         "y": [
          -14535,
          -14535,
          -14545,
          -14545
         ],
         "yaxis": "y"
        },
        {
         "hoverinfo": "text",
         "marker": {
          "color": "rgb(0,116,217)"
         },
         "mode": "lines",
         "type": "scatter",
         "x": [
          1.2188750478074573,
          1.2566644263520628,
          1.2566644263520628,
          0
         ],
         "xaxis": "x",
         "y": [
          -14540,
          -14540,
          -14555,
          -14555
         ],
         "yaxis": "y"
        },
        {
         "hoverinfo": "text",
         "marker": {
          "color": "rgb(0,116,217)"
         },
         "mode": "lines",
         "type": "scatter",
         "x": [
          0,
          1.2675347636280596,
          1.2675347636280596,
          1.2566644263520628
         ],
         "xaxis": "x",
         "y": [
          -14525,
          -14525,
          -14547.5,
          -14547.5
         ],
         "yaxis": "y"
        },
        {
         "hoverinfo": "text",
         "marker": {
          "color": "rgb(0,116,217)"
         },
         "mode": "lines",
         "type": "scatter",
         "x": [
          0,
          1.1825799657425409,
          1.1825799657425409,
          0
         ],
         "xaxis": "x",
         "y": [
          -14565,
          -14565,
          -14575,
          -14575
         ],
         "yaxis": "y"
        },
        {
         "hoverinfo": "text",
         "marker": {
          "color": "rgb(0,116,217)"
         },
         "mode": "lines",
         "type": "scatter",
         "x": [
          1.1825799657425409,
          1.320240888386892,
          1.320240888386892,
          0
         ],
         "xaxis": "x",
         "y": [
          -14570,
          -14570,
          -14585,
          -14585
         ],
         "yaxis": "y"
        },
        {
         "hoverinfo": "text",
         "marker": {
          "color": "rgb(0,116,217)"
         },
         "mode": "lines",
         "type": "scatter",
         "x": [
          1.2675347636280596,
          1.3979015966769337,
          1.3979015966769337,
          1.320240888386892
         ],
         "xaxis": "x",
         "y": [
          -14536.25,
          -14536.25,
          -14577.5,
          -14577.5
         ],
         "yaxis": "y"
        },
        {
         "hoverinfo": "text",
         "marker": {
          "color": "rgb(0,116,217)"
         },
         "mode": "lines",
         "type": "scatter",
         "x": [
          1.3397562579059163,
          1.4844761078483777,
          1.4844761078483777,
          1.3979015966769337
         ],
         "xaxis": "x",
         "y": [
          -14510,
          -14510,
          -14556.875,
          -14556.875
         ],
         "yaxis": "y"
        },
        {
         "hoverinfo": "text",
         "marker": {
          "color": "rgb(0,116,217)"
         },
         "mode": "lines",
         "type": "scatter",
         "x": [
          0,
          1.1299459418340052,
          1.1299459418340052,
          0
         ],
         "xaxis": "x",
         "y": [
          -14595,
          -14595,
          -14605,
          -14605
         ],
         "yaxis": "y"
        },
        {
         "hoverinfo": "text",
         "marker": {
          "color": "rgb(0,116,217)"
         },
         "mode": "lines",
         "type": "scatter",
         "x": [
          1.1299459418340052,
          1.3335674333921868,
          1.3335674333921868,
          0
         ],
         "xaxis": "x",
         "y": [
          -14600,
          -14600,
          -14615,
          -14615
         ],
         "yaxis": "y"
        },
        {
         "hoverinfo": "text",
         "marker": {
          "color": "rgb(0,116,217)"
         },
         "mode": "lines",
         "type": "scatter",
         "x": [
          1.4844761078483777,
          1.644061580454163,
          1.644061580454163,
          1.3335674333921868
         ],
         "xaxis": "x",
         "y": [
          -14533.4375,
          -14533.4375,
          -14607.5,
          -14607.5
         ],
         "yaxis": "y"
        },
        {
         "hoverinfo": "text",
         "marker": {
          "color": "rgb(0,116,217)"
         },
         "mode": "lines",
         "type": "scatter",
         "x": [
          1.6155102185411996,
          1.9235523844213305,
          1.9235523844213305,
          1.644061580454163
         ],
         "xaxis": "x",
         "y": [
          -14475,
          -14475,
          -14570.46875,
          -14570.46875
         ],
         "yaxis": "y"
        },
        {
         "hoverinfo": "text",
         "marker": {
          "color": "rgb(0,116,217)"
         },
         "mode": "lines",
         "type": "scatter",
         "x": [
          0,
          1.2746078962785063,
          1.2746078962785063,
          0
         ],
         "xaxis": "x",
         "y": [
          -14625,
          -14625,
          -14635,
          -14635
         ],
         "yaxis": "y"
        },
        {
         "hoverinfo": "text",
         "marker": {
          "color": "rgb(0,116,217)"
         },
         "mode": "lines",
         "type": "scatter",
         "x": [
          0,
          1.3129331285735606,
          1.3129331285735606,
          0
         ],
         "xaxis": "x",
         "y": [
          -14645,
          -14645,
          -14655,
          -14655
         ],
         "yaxis": "y"
        },
        {
         "hoverinfo": "text",
         "marker": {
          "color": "rgb(0,116,217)"
         },
         "mode": "lines",
         "type": "scatter",
         "x": [
          1.2746078962785063,
          1.4422796732141743,
          1.4422796732141743,
          1.3129331285735606
         ],
         "xaxis": "x",
         "y": [
          -14630,
          -14630,
          -14650,
          -14650
         ],
         "yaxis": "y"
        },
        {
         "hoverinfo": "text",
         "marker": {
          "color": "rgb(0,116,217)"
         },
         "mode": "lines",
         "type": "scatter",
         "x": [
          0,
          1.179656906100374,
          1.179656906100374,
          0
         ],
         "xaxis": "x",
         "y": [
          -14665,
          -14665,
          -14675,
          -14675
         ],
         "yaxis": "y"
        },
        {
         "hoverinfo": "text",
         "marker": {
          "color": "rgb(0,116,217)"
         },
         "mode": "lines",
         "type": "scatter",
         "x": [
          0,
          1.2719073469583118,
          1.2719073469583118,
          0
         ],
         "xaxis": "x",
         "y": [
          -14685,
          -14685,
          -14695,
          -14695
         ],
         "yaxis": "y"
        },
        {
         "hoverinfo": "text",
         "marker": {
          "color": "rgb(0,116,217)"
         },
         "mode": "lines",
         "type": "scatter",
         "x": [
          1.179656906100374,
          1.5579561005586773,
          1.5579561005586773,
          1.2719073469583118
         ],
         "xaxis": "x",
         "y": [
          -14670,
          -14670,
          -14690,
          -14690
         ],
         "yaxis": "y"
        },
        {
         "hoverinfo": "text",
         "marker": {
          "color": "rgb(0,116,217)"
         },
         "mode": "lines",
         "type": "scatter",
         "x": [
          1.4422796732141743,
          1.8415373619314108,
          1.8415373619314108,
          1.5579561005586773
         ],
         "xaxis": "x",
         "y": [
          -14640,
          -14640,
          -14680,
          -14680
         ],
         "yaxis": "y"
        },
        {
         "hoverinfo": "text",
         "marker": {
          "color": "rgb(0,116,217)"
         },
         "mode": "lines",
         "type": "scatter",
         "x": [
          0,
          1.3680756325211496,
          1.3680756325211496,
          0
         ],
         "xaxis": "x",
         "y": [
          -14705,
          -14705,
          -14715,
          -14715
         ],
         "yaxis": "y"
        },
        {
         "hoverinfo": "text",
         "marker": {
          "color": "rgb(0,116,217)"
         },
         "mode": "lines",
         "type": "scatter",
         "x": [
          0,
          1.2936373527255411,
          1.2936373527255411,
          0
         ],
         "xaxis": "x",
         "y": [
          -14725,
          -14725,
          -14735,
          -14735
         ],
         "yaxis": "y"
        },
        {
         "hoverinfo": "text",
         "marker": {
          "color": "rgb(0,116,217)"
         },
         "mode": "lines",
         "type": "scatter",
         "x": [
          1.3680756325211496,
          1.467586729321461,
          1.467586729321461,
          1.2936373527255411
         ],
         "xaxis": "x",
         "y": [
          -14710,
          -14710,
          -14730,
          -14730
         ],
         "yaxis": "y"
        },
        {
         "hoverinfo": "text",
         "marker": {
          "color": "rgb(0,116,217)"
         },
         "mode": "lines",
         "type": "scatter",
         "x": [
          0,
          1.3387002358840674,
          1.3387002358840674,
          0
         ],
         "xaxis": "x",
         "y": [
          -14745,
          -14745,
          -14755,
          -14755
         ],
         "yaxis": "y"
        },
        {
         "hoverinfo": "text",
         "marker": {
          "color": "rgb(0,116,217)"
         },
         "mode": "lines",
         "type": "scatter",
         "x": [
          0,
          1.3387612621050131,
          1.3387612621050131,
          0
         ],
         "xaxis": "x",
         "y": [
          -14765,
          -14765,
          -14775,
          -14775
         ],
         "yaxis": "y"
        },
        {
         "hoverinfo": "text",
         "marker": {
          "color": "rgb(0,116,217)"
         },
         "mode": "lines",
         "type": "scatter",
         "x": [
          1.3387612621050131,
          1.4004970816756785,
          1.4004970816756785,
          0
         ],
         "xaxis": "x",
         "y": [
          -14770,
          -14770,
          -14785,
          -14785
         ],
         "yaxis": "y"
        },
        {
         "hoverinfo": "text",
         "marker": {
          "color": "rgb(0,116,217)"
         },
         "mode": "lines",
         "type": "scatter",
         "x": [
          1.3387002358840674,
          1.4756527225939378,
          1.4756527225939378,
          1.4004970816756785
         ],
         "xaxis": "x",
         "y": [
          -14750,
          -14750,
          -14777.5,
          -14777.5
         ],
         "yaxis": "y"
        },
        {
         "hoverinfo": "text",
         "marker": {
          "color": "rgb(0,116,217)"
         },
         "mode": "lines",
         "type": "scatter",
         "x": [
          1.467586729321461,
          1.5589424061103723,
          1.5589424061103723,
          1.4756527225939378
         ],
         "xaxis": "x",
         "y": [
          -14720,
          -14720,
          -14763.75,
          -14763.75
         ],
         "yaxis": "y"
        },
        {
         "hoverinfo": "text",
         "marker": {
          "color": "rgb(0,116,217)"
         },
         "mode": "lines",
         "type": "scatter",
         "x": [
          0,
          1.251439317803512,
          1.251439317803512,
          0
         ],
         "xaxis": "x",
         "y": [
          -14815,
          -14815,
          -14825,
          -14825
         ],
         "yaxis": "y"
        },
        {
         "hoverinfo": "text",
         "marker": {
          "color": "rgb(0,116,217)"
         },
         "mode": "lines",
         "type": "scatter",
         "x": [
          0,
          1.303009235152758,
          1.303009235152758,
          1.251439317803512
         ],
         "xaxis": "x",
         "y": [
          -14805,
          -14805,
          -14820,
          -14820
         ],
         "yaxis": "y"
        },
        {
         "hoverinfo": "text",
         "marker": {
          "color": "rgb(0,116,217)"
         },
         "mode": "lines",
         "type": "scatter",
         "x": [
          0,
          1.3570313418499647,
          1.3570313418499647,
          1.303009235152758
         ],
         "xaxis": "x",
         "y": [
          -14795,
          -14795,
          -14812.5,
          -14812.5
         ],
         "yaxis": "y"
        },
        {
         "hoverinfo": "text",
         "marker": {
          "color": "rgb(0,116,217)"
         },
         "mode": "lines",
         "type": "scatter",
         "x": [
          0,
          1.272251860982644,
          1.272251860982644,
          0
         ],
         "xaxis": "x",
         "y": [
          -14835,
          -14835,
          -14845,
          -14845
         ],
         "yaxis": "y"
        },
        {
         "hoverinfo": "text",
         "marker": {
          "color": "rgb(0,116,217)"
         },
         "mode": "lines",
         "type": "scatter",
         "x": [
          0,
          1.2577186214568197,
          1.2577186214568197,
          0
         ],
         "xaxis": "x",
         "y": [
          -14855,
          -14855,
          -14865,
          -14865
         ],
         "yaxis": "y"
        },
        {
         "hoverinfo": "text",
         "marker": {
          "color": "rgb(0,116,217)"
         },
         "mode": "lines",
         "type": "scatter",
         "x": [
          1.2577186214568197,
          1.3372310874789441,
          1.3372310874789441,
          0
         ],
         "xaxis": "x",
         "y": [
          -14860,
          -14860,
          -14875,
          -14875
         ],
         "yaxis": "y"
        },
        {
         "hoverinfo": "text",
         "marker": {
          "color": "rgb(0,116,217)"
         },
         "mode": "lines",
         "type": "scatter",
         "x": [
          1.272251860982644,
          1.3801019086704645,
          1.3801019086704645,
          1.3372310874789441
         ],
         "xaxis": "x",
         "y": [
          -14840,
          -14840,
          -14867.5,
          -14867.5
         ],
         "yaxis": "y"
        },
        {
         "hoverinfo": "text",
         "marker": {
          "color": "rgb(0,116,217)"
         },
         "mode": "lines",
         "type": "scatter",
         "x": [
          1.3570313418499647,
          1.4594753304413886,
          1.4594753304413886,
          1.3801019086704645
         ],
         "xaxis": "x",
         "y": [
          -14803.75,
          -14803.75,
          -14853.75,
          -14853.75
         ],
         "yaxis": "y"
        },
        {
         "hoverinfo": "text",
         "marker": {
          "color": "rgb(0,116,217)"
         },
         "mode": "lines",
         "type": "scatter",
         "x": [
          0,
          1.210166352920715,
          1.210166352920715,
          0
         ],
         "xaxis": "x",
         "y": [
          -14885,
          -14885,
          -14895,
          -14895
         ],
         "yaxis": "y"
        },
        {
         "hoverinfo": "text",
         "marker": {
          "color": "rgb(0,116,217)"
         },
         "mode": "lines",
         "type": "scatter",
         "x": [
          1.210166352920715,
          1.3876136853295016,
          1.3876136853295016,
          0
         ],
         "xaxis": "x",
         "y": [
          -14890,
          -14890,
          -14905,
          -14905
         ],
         "yaxis": "y"
        },
        {
         "hoverinfo": "text",
         "marker": {
          "color": "rgb(0,116,217)"
         },
         "mode": "lines",
         "type": "scatter",
         "x": [
          0,
          1.2750431201107102,
          1.2750431201107102,
          0
         ],
         "xaxis": "x",
         "y": [
          -14915,
          -14915,
          -14925,
          -14925
         ],
         "yaxis": "y"
        },
        {
         "hoverinfo": "text",
         "marker": {
          "color": "rgb(0,116,217)"
         },
         "mode": "lines",
         "type": "scatter",
         "x": [
          1.3876136853295016,
          1.5187682903363668,
          1.5187682903363668,
          1.2750431201107102
         ],
         "xaxis": "x",
         "y": [
          -14897.5,
          -14897.5,
          -14920,
          -14920
         ],
         "yaxis": "y"
        },
        {
         "hoverinfo": "text",
         "marker": {
          "color": "rgb(0,116,217)"
         },
         "mode": "lines",
         "type": "scatter",
         "x": [
          1.4594753304413886,
          1.5742461998016215,
          1.5742461998016215,
          1.5187682903363668
         ],
         "xaxis": "x",
         "y": [
          -14828.75,
          -14828.75,
          -14908.75,
          -14908.75
         ],
         "yaxis": "y"
        },
        {
         "hoverinfo": "text",
         "marker": {
          "color": "rgb(0,116,217)"
         },
         "mode": "lines",
         "type": "scatter",
         "x": [
          0,
          1.2433890349708827,
          1.2433890349708827,
          0
         ],
         "xaxis": "x",
         "y": [
          -14935,
          -14935,
          -14945,
          -14945
         ],
         "yaxis": "y"
        },
        {
         "hoverinfo": "text",
         "marker": {
          "color": "rgb(0,116,217)"
         },
         "mode": "lines",
         "type": "scatter",
         "x": [
          0,
          1.3036755076922464,
          1.3036755076922464,
          0
         ],
         "xaxis": "x",
         "y": [
          -14955,
          -14955,
          -14965,
          -14965
         ],
         "yaxis": "y"
        },
        {
         "hoverinfo": "text",
         "marker": {
          "color": "rgb(0,116,217)"
         },
         "mode": "lines",
         "type": "scatter",
         "x": [
          1.2433890349708827,
          1.3537340450608504,
          1.3537340450608504,
          1.3036755076922464
         ],
         "xaxis": "x",
         "y": [
          -14940,
          -14940,
          -14960,
          -14960
         ],
         "yaxis": "y"
        },
        {
         "hoverinfo": "text",
         "marker": {
          "color": "rgb(0,116,217)"
         },
         "mode": "lines",
         "type": "scatter",
         "x": [
          1.5742461998016215,
          1.660032754065585,
          1.660032754065585,
          1.3537340450608504
         ],
         "xaxis": "x",
         "y": [
          -14868.75,
          -14868.75,
          -14950,
          -14950
         ],
         "yaxis": "y"
        },
        {
         "hoverinfo": "text",
         "marker": {
          "color": "rgb(0,116,217)"
         },
         "mode": "lines",
         "type": "scatter",
         "x": [
          1.5589424061103723,
          1.744493049972474,
          1.744493049972474,
          1.660032754065585
         ],
         "xaxis": "x",
         "y": [
          -14741.875,
          -14741.875,
          -14909.375,
          -14909.375
         ],
         "yaxis": "y"
        },
        {
         "hoverinfo": "text",
         "marker": {
          "color": "rgb(0,116,217)"
         },
         "mode": "lines",
         "type": "scatter",
         "x": [
          1.8415373619314108,
          2.126958234630941,
          2.126958234630941,
          1.744493049972474
         ],
         "xaxis": "x",
         "y": [
          -14660,
          -14660,
          -14825.625,
          -14825.625
         ],
         "yaxis": "y"
        },
        {
         "hoverinfo": "text",
         "marker": {
          "color": "rgb(0,116,217)"
         },
         "mode": "lines",
         "type": "scatter",
         "x": [
          0,
          1.300836427199335,
          1.300836427199335,
          0
         ],
         "xaxis": "x",
         "y": [
          -14985,
          -14985,
          -14995,
          -14995
         ],
         "yaxis": "y"
        },
        {
         "hoverinfo": "text",
         "marker": {
          "color": "rgb(0,116,217)"
         },
         "mode": "lines",
         "type": "scatter",
         "x": [
          1.300836427199335,
          1.3458879242055108,
          1.3458879242055108,
          0
         ],
         "xaxis": "x",
         "y": [
          -14990,
          -14990,
          -15005,
          -15005
         ],
         "yaxis": "y"
        },
        {
         "hoverinfo": "text",
         "marker": {
          "color": "rgb(0,116,217)"
         },
         "mode": "lines",
         "type": "scatter",
         "x": [
          0,
          1.440006557962883,
          1.440006557962883,
          1.3458879242055108
         ],
         "xaxis": "x",
         "y": [
          -14975,
          -14975,
          -14997.5,
          -14997.5
         ],
         "yaxis": "y"
        },
        {
         "hoverinfo": "text",
         "marker": {
          "color": "rgb(0,116,217)"
         },
         "mode": "lines",
         "type": "scatter",
         "x": [
          0,
          1.2447452851380978,
          1.2447452851380978,
          0
         ],
         "xaxis": "x",
         "y": [
          -15015,
          -15015,
          -15025,
          -15025
         ],
         "yaxis": "y"
        },
        {
         "hoverinfo": "text",
         "marker": {
          "color": "rgb(0,116,217)"
         },
         "mode": "lines",
         "type": "scatter",
         "x": [
          0,
          1.272665405234579,
          1.272665405234579,
          0
         ],
         "xaxis": "x",
         "y": [
          -15035,
          -15035,
          -15045,
          -15045
         ],
         "yaxis": "y"
        },
        {
         "hoverinfo": "text",
         "marker": {
          "color": "rgb(0,116,217)"
         },
         "mode": "lines",
         "type": "scatter",
         "x": [
          1.272665405234579,
          1.3204754875909448,
          1.3204754875909448,
          0
         ],
         "xaxis": "x",
         "y": [
          -15040,
          -15040,
          -15055,
          -15055
         ],
         "yaxis": "y"
        },
        {
         "hoverinfo": "text",
         "marker": {
          "color": "rgb(0,116,217)"
         },
         "mode": "lines",
         "type": "scatter",
         "x": [
          1.2447452851380978,
          1.454720739723852,
          1.454720739723852,
          1.3204754875909448
         ],
         "xaxis": "x",
         "y": [
          -15020,
          -15020,
          -15047.5,
          -15047.5
         ],
         "yaxis": "y"
        },
        {
         "hoverinfo": "text",
         "marker": {
          "color": "rgb(0,116,217)"
         },
         "mode": "lines",
         "type": "scatter",
         "x": [
          1.440006557962883,
          1.6253311880285575,
          1.6253311880285575,
          1.454720739723852
         ],
         "xaxis": "x",
         "y": [
          -14986.25,
          -14986.25,
          -15033.75,
          -15033.75
         ],
         "yaxis": "y"
        },
        {
         "hoverinfo": "text",
         "marker": {
          "color": "rgb(0,116,217)"
         },
         "mode": "lines",
         "type": "scatter",
         "x": [
          0,
          1.3152676905206682,
          1.3152676905206682,
          0
         ],
         "xaxis": "x",
         "y": [
          -15065,
          -15065,
          -15075,
          -15075
         ],
         "yaxis": "y"
        },
        {
         "hoverinfo": "text",
         "marker": {
          "color": "rgb(0,116,217)"
         },
         "mode": "lines",
         "type": "scatter",
         "x": [
          0,
          1.289864150557963,
          1.289864150557963,
          0
         ],
         "xaxis": "x",
         "y": [
          -15085,
          -15085,
          -15095,
          -15095
         ],
         "yaxis": "y"
        },
        {
         "hoverinfo": "text",
         "marker": {
          "color": "rgb(0,116,217)"
         },
         "mode": "lines",
         "type": "scatter",
         "x": [
          1.3152676905206682,
          1.379295897984288,
          1.379295897984288,
          1.289864150557963
         ],
         "xaxis": "x",
         "y": [
          -15070,
          -15070,
          -15090,
          -15090
         ],
         "yaxis": "y"
        },
        {
         "hoverinfo": "text",
         "marker": {
          "color": "rgb(0,116,217)"
         },
         "mode": "lines",
         "type": "scatter",
         "x": [
          0,
          1.310276325223206,
          1.310276325223206,
          0
         ],
         "xaxis": "x",
         "y": [
          -15105,
          -15105,
          -15115,
          -15115
         ],
         "yaxis": "y"
        },
        {
         "hoverinfo": "text",
         "marker": {
          "color": "rgb(0,116,217)"
         },
         "mode": "lines",
         "type": "scatter",
         "x": [
          0,
          1.2912066630685914,
          1.2912066630685914,
          0
         ],
         "xaxis": "x",
         "y": [
          -15125,
          -15125,
          -15135,
          -15135
         ],
         "yaxis": "y"
        },
        {
         "hoverinfo": "text",
         "marker": {
          "color": "rgb(0,116,217)"
         },
         "mode": "lines",
         "type": "scatter",
         "x": [
          1.310276325223206,
          1.3991435687798166,
          1.3991435687798166,
          1.2912066630685914
         ],
         "xaxis": "x",
         "y": [
          -15110,
          -15110,
          -15130,
          -15130
         ],
         "yaxis": "y"
        },
        {
         "hoverinfo": "text",
         "marker": {
          "color": "rgb(0,116,217)"
         },
         "mode": "lines",
         "type": "scatter",
         "x": [
          1.379295897984288,
          1.490709055473,
          1.490709055473,
          1.3991435687798166
         ],
         "xaxis": "x",
         "y": [
          -15080,
          -15080,
          -15120,
          -15120
         ],
         "yaxis": "y"
        },
        {
         "hoverinfo": "text",
         "marker": {
          "color": "rgb(0,116,217)"
         },
         "mode": "lines",
         "type": "scatter",
         "x": [
          1.6253311880285575,
          1.753934156532757,
          1.753934156532757,
          1.490709055473
         ],
         "xaxis": "x",
         "y": [
          -15010,
          -15010,
          -15100,
          -15100
         ],
         "yaxis": "y"
        },
        {
         "hoverinfo": "text",
         "marker": {
          "color": "rgb(0,116,217)"
         },
         "mode": "lines",
         "type": "scatter",
         "x": [
          0,
          1.3195429614394785,
          1.3195429614394785,
          0
         ],
         "xaxis": "x",
         "y": [
          -15145,
          -15145,
          -15155,
          -15155
         ],
         "yaxis": "y"
        },
        {
         "hoverinfo": "text",
         "marker": {
          "color": "rgb(0,116,217)"
         },
         "mode": "lines",
         "type": "scatter",
         "x": [
          1.3195429614394785,
          1.3914846053477046,
          1.3914846053477046,
          0
         ],
         "xaxis": "x",
         "y": [
          -15150,
          -15150,
          -15165,
          -15165
         ],
         "yaxis": "y"
        },
        {
         "hoverinfo": "text",
         "marker": {
          "color": "rgb(0,116,217)"
         },
         "mode": "lines",
         "type": "scatter",
         "x": [
          0,
          1.3456287725465768,
          1.3456287725465768,
          0
         ],
         "xaxis": "x",
         "y": [
          -15175,
          -15175,
          -15185,
          -15185
         ],
         "yaxis": "y"
        },
        {
         "hoverinfo": "text",
         "marker": {
          "color": "rgb(0,116,217)"
         },
         "mode": "lines",
         "type": "scatter",
         "x": [
          1.3914846053477046,
          1.4905648978255326,
          1.4905648978255326,
          1.3456287725465768
         ],
         "xaxis": "x",
         "y": [
          -15157.5,
          -15157.5,
          -15180,
          -15180
         ],
         "yaxis": "y"
        },
        {
         "hoverinfo": "text",
         "marker": {
          "color": "rgb(0,116,217)"
         },
         "mode": "lines",
         "type": "scatter",
         "x": [
          0,
          1.3126496341866705,
          1.3126496341866705,
          0
         ],
         "xaxis": "x",
         "y": [
          -15195,
          -15195,
          -15205,
          -15205
         ],
         "yaxis": "y"
        },
        {
         "hoverinfo": "text",
         "marker": {
          "color": "rgb(0,116,217)"
         },
         "mode": "lines",
         "type": "scatter",
         "x": [
          1.3126496341866705,
          1.3409285783444898,
          1.3409285783444898,
          0
         ],
         "xaxis": "x",
         "y": [
          -15200,
          -15200,
          -15215,
          -15215
         ],
         "yaxis": "y"
        },
        {
         "hoverinfo": "text",
         "marker": {
          "color": "rgb(0,116,217)"
         },
         "mode": "lines",
         "type": "scatter",
         "x": [
          1.4905648978255326,
          1.591176833921856,
          1.591176833921856,
          1.3409285783444898
         ],
         "xaxis": "x",
         "y": [
          -15168.75,
          -15168.75,
          -15207.5,
          -15207.5
         ],
         "yaxis": "y"
        },
        {
         "hoverinfo": "text",
         "marker": {
          "color": "rgb(0,116,217)"
         },
         "mode": "lines",
         "type": "scatter",
         "x": [
          0,
          1.2328973497664026,
          1.2328973497664026,
          0
         ],
         "xaxis": "x",
         "y": [
          -15225,
          -15225,
          -15235,
          -15235
         ],
         "yaxis": "y"
        },
        {
         "hoverinfo": "text",
         "marker": {
          "color": "rgb(0,116,217)"
         },
         "mode": "lines",
         "type": "scatter",
         "x": [
          0,
          1.3417151340864342,
          1.3417151340864342,
          0
         ],
         "xaxis": "x",
         "y": [
          -15245,
          -15245,
          -15255,
          -15255
         ],
         "yaxis": "y"
        },
        {
         "hoverinfo": "text",
         "marker": {
          "color": "rgb(0,116,217)"
         },
         "mode": "lines",
         "type": "scatter",
         "x": [
          1.3417151340864342,
          1.3786715933315001,
          1.3786715933315001,
          0
         ],
         "xaxis": "x",
         "y": [
          -15250,
          -15250,
          -15265,
          -15265
         ],
         "yaxis": "y"
        },
        {
         "hoverinfo": "text",
         "marker": {
          "color": "rgb(0,116,217)"
         },
         "mode": "lines",
         "type": "scatter",
         "x": [
          0,
          1.347857281497168,
          1.347857281497168,
          0
         ],
         "xaxis": "x",
         "y": [
          -15275,
          -15275,
          -15285,
          -15285
         ],
         "yaxis": "y"
        },
        {
         "hoverinfo": "text",
         "marker": {
          "color": "rgb(0,116,217)"
         },
         "mode": "lines",
         "type": "scatter",
         "x": [
          1.3786715933315001,
          1.464810006406809,
          1.464810006406809,
          1.347857281497168
         ],
         "xaxis": "x",
         "y": [
          -15257.5,
          -15257.5,
          -15280,
          -15280
         ],
         "yaxis": "y"
        },
        {
         "hoverinfo": "text",
         "marker": {
          "color": "rgb(0,116,217)"
         },
         "mode": "lines",
         "type": "scatter",
         "x": [
          0,
          1.3416740096289188,
          1.3416740096289188,
          0
         ],
         "xaxis": "x",
         "y": [
          -15295,
          -15295,
          -15305,
          -15305
         ],
         "yaxis": "y"
        },
        {
         "hoverinfo": "text",
         "marker": {
          "color": "rgb(0,116,217)"
         },
         "mode": "lines",
         "type": "scatter",
         "x": [
          1.464810006406809,
          1.5048067708826336,
          1.5048067708826336,
          1.3416740096289188
         ],
         "xaxis": "x",
         "y": [
          -15268.75,
          -15268.75,
          -15300,
          -15300
         ],
         "yaxis": "y"
        },
        {
         "hoverinfo": "text",
         "marker": {
          "color": "rgb(0,116,217)"
         },
         "mode": "lines",
         "type": "scatter",
         "x": [
          1.2328973497664026,
          1.5793711301034528,
          1.5793711301034528,
          1.5048067708826336
         ],
         "xaxis": "x",
         "y": [
          -15230,
          -15230,
          -15284.375,
          -15284.375
         ],
         "yaxis": "y"
        },
        {
         "hoverinfo": "text",
         "marker": {
          "color": "rgb(0,116,217)"
         },
         "mode": "lines",
         "type": "scatter",
         "x": [
          0,
          1.2624678516287673,
          1.2624678516287673,
          0
         ],
         "xaxis": "x",
         "y": [
          -15315,
          -15315,
          -15325,
          -15325
         ],
         "yaxis": "y"
        },
        {
         "hoverinfo": "text",
         "marker": {
          "color": "rgb(0,116,217)"
         },
         "mode": "lines",
         "type": "scatter",
         "x": [
          1.2624678516287673,
          1.3509444218157647,
          1.3509444218157647,
          0
         ],
         "xaxis": "x",
         "y": [
          -15320,
          -15320,
          -15335,
          -15335
         ],
         "yaxis": "y"
        },
        {
         "hoverinfo": "text",
         "marker": {
          "color": "rgb(0,116,217)"
         },
         "mode": "lines",
         "type": "scatter",
         "x": [
          0,
          1.0521173895687101,
          1.0521173895687101,
          0
         ],
         "xaxis": "x",
         "y": [
          -15345,
          -15345,
          -15355,
          -15355
         ],
         "yaxis": "y"
        },
        {
         "hoverinfo": "text",
         "marker": {
          "color": "rgb(0,116,217)"
         },
         "mode": "lines",
         "type": "scatter",
         "x": [
          1.3509444218157647,
          1.6210845976405766,
          1.6210845976405766,
          1.0521173895687101
         ],
         "xaxis": "x",
         "y": [
          -15327.5,
          -15327.5,
          -15350,
          -15350
         ],
         "yaxis": "y"
        },
        {
         "hoverinfo": "text",
         "marker": {
          "color": "rgb(0,116,217)"
         },
         "mode": "lines",
         "type": "scatter",
         "x": [
          1.5793711301034528,
          1.771369159600412,
          1.771369159600412,
          1.6210845976405766
         ],
         "xaxis": "x",
         "y": [
          -15257.1875,
          -15257.1875,
          -15338.75,
          -15338.75
         ],
         "yaxis": "y"
        },
        {
         "hoverinfo": "text",
         "marker": {
          "color": "rgb(0,116,217)"
         },
         "mode": "lines",
         "type": "scatter",
         "x": [
          1.591176833921856,
          1.8541986776442518,
          1.8541986776442518,
          1.771369159600412
         ],
         "xaxis": "x",
         "y": [
          -15188.125,
          -15188.125,
          -15297.96875,
          -15297.96875
         ],
         "yaxis": "y"
        },
        {
         "hoverinfo": "text",
         "marker": {
          "color": "rgb(0,116,217)"
         },
         "mode": "lines",
         "type": "scatter",
         "x": [
          0,
          1.3651025336647775,
          1.3651025336647775,
          0
         ],
         "xaxis": "x",
         "y": [
          -15375,
          -15375,
          -15385,
          -15385
         ],
         "yaxis": "y"
        },
        {
         "hoverinfo": "text",
         "marker": {
          "color": "rgb(0,116,217)"
         },
         "mode": "lines",
         "type": "scatter",
         "x": [
          0,
          1.3853557358874535,
          1.3853557358874535,
          1.3651025336647775
         ],
         "xaxis": "x",
         "y": [
          -15365,
          -15365,
          -15380,
          -15380
         ],
         "yaxis": "y"
        },
        {
         "hoverinfo": "text",
         "marker": {
          "color": "rgb(0,116,217)"
         },
         "mode": "lines",
         "type": "scatter",
         "x": [
          0,
          1.3294342610357377,
          1.3294342610357377,
          0
         ],
         "xaxis": "x",
         "y": [
          -15395,
          -15395,
          -15405,
          -15405
         ],
         "yaxis": "y"
        },
        {
         "hoverinfo": "text",
         "marker": {
          "color": "rgb(0,116,217)"
         },
         "mode": "lines",
         "type": "scatter",
         "x": [
          1.3853557358874535,
          1.4743302171093464,
          1.4743302171093464,
          1.3294342610357377
         ],
         "xaxis": "x",
         "y": [
          -15372.5,
          -15372.5,
          -15400,
          -15400
         ],
         "yaxis": "y"
        },
        {
         "hoverinfo": "text",
         "marker": {
          "color": "rgb(0,116,217)"
         },
         "mode": "lines",
         "type": "scatter",
         "x": [
          0,
          1.291097020638241,
          1.291097020638241,
          0
         ],
         "xaxis": "x",
         "y": [
          -15415,
          -15415,
          -15425,
          -15425
         ],
         "yaxis": "y"
        },
        {
         "hoverinfo": "text",
         "marker": {
          "color": "rgb(0,116,217)"
         },
         "mode": "lines",
         "type": "scatter",
         "x": [
          1.291097020638241,
          1.3984668595404353,
          1.3984668595404353,
          0
         ],
         "xaxis": "x",
         "y": [
          -15420,
          -15420,
          -15435,
          -15435
         ],
         "yaxis": "y"
        },
        {
         "hoverinfo": "text",
         "marker": {
          "color": "rgb(0,116,217)"
         },
         "mode": "lines",
         "type": "scatter",
         "x": [
          1.4743302171093464,
          1.4988432472041322,
          1.4988432472041322,
          1.3984668595404353
         ],
         "xaxis": "x",
         "y": [
          -15386.25,
          -15386.25,
          -15427.5,
          -15427.5
         ],
         "yaxis": "y"
        },
        {
         "hoverinfo": "text",
         "marker": {
          "color": "rgb(0,116,217)"
         },
         "mode": "lines",
         "type": "scatter",
         "x": [
          0,
          1.3546314859880744,
          1.3546314859880744,
          0
         ],
         "xaxis": "x",
         "y": [
          -15445,
          -15445,
          -15455,
          -15455
         ],
         "yaxis": "y"
        },
        {
         "hoverinfo": "text",
         "marker": {
          "color": "rgb(0,116,217)"
         },
         "mode": "lines",
         "type": "scatter",
         "x": [
          0,
          1.3352868952618189,
          1.3352868952618189,
          0
         ],
         "xaxis": "x",
         "y": [
          -15465,
          -15465,
          -15475,
          -15475
         ],
         "yaxis": "y"
        },
        {
         "hoverinfo": "text",
         "marker": {
          "color": "rgb(0,116,217)"
         },
         "mode": "lines",
         "type": "scatter",
         "x": [
          1.3546314859880744,
          1.4135299617980492,
          1.4135299617980492,
          1.3352868952618189
         ],
         "xaxis": "x",
         "y": [
          -15450,
          -15450,
          -15470,
          -15470
         ],
         "yaxis": "y"
        },
        {
         "hoverinfo": "text",
         "marker": {
          "color": "rgb(0,116,217)"
         },
         "mode": "lines",
         "type": "scatter",
         "x": [
          0,
          1.3597487614874533,
          1.3597487614874533,
          0
         ],
         "xaxis": "x",
         "y": [
          -15495,
          -15495,
          -15505,
          -15505
         ],
         "yaxis": "y"
        },
        {
         "hoverinfo": "text",
         "marker": {
          "color": "rgb(0,116,217)"
         },
         "mode": "lines",
         "type": "scatter",
         "x": [
          0,
          1.4081677648577406,
          1.4081677648577406,
          1.3597487614874533
         ],
         "xaxis": "x",
         "y": [
          -15485,
          -15485,
          -15500,
          -15500
         ],
         "yaxis": "y"
        },
        {
         "hoverinfo": "text",
         "marker": {
          "color": "rgb(0,116,217)"
         },
         "mode": "lines",
         "type": "scatter",
         "x": [
          0,
          1.3960625303201804,
          1.3960625303201804,
          0
         ],
         "xaxis": "x",
         "y": [
          -15515,
          -15515,
          -15525,
          -15525
         ],
         "yaxis": "y"
        },
        {
         "hoverinfo": "text",
         "marker": {
          "color": "rgb(0,116,217)"
         },
         "mode": "lines",
         "type": "scatter",
         "x": [
          1.4081677648577406,
          1.4276546015687333,
          1.4276546015687333,
          1.3960625303201804
         ],
         "xaxis": "x",
         "y": [
          -15492.5,
          -15492.5,
          -15520,
          -15520
         ],
         "yaxis": "y"
        },
        {
         "hoverinfo": "text",
         "marker": {
          "color": "rgb(0,116,217)"
         },
         "mode": "lines",
         "type": "scatter",
         "x": [
          1.4135299617980492,
          1.6248197627070673,
          1.6248197627070673,
          1.4276546015687333
         ],
         "xaxis": "x",
         "y": [
          -15460,
          -15460,
          -15506.25,
          -15506.25
         ],
         "yaxis": "y"
        },
        {
         "hoverinfo": "text",
         "marker": {
          "color": "rgb(0,116,217)"
         },
         "mode": "lines",
         "type": "scatter",
         "x": [
          1.4988432472041322,
          1.7321211734804092,
          1.7321211734804092,
          1.6248197627070673
         ],
         "xaxis": "x",
         "y": [
          -15406.875,
          -15406.875,
          -15483.125,
          -15483.125
         ],
         "yaxis": "y"
        },
        {
         "hoverinfo": "text",
         "marker": {
          "color": "rgb(0,116,217)"
         },
         "mode": "lines",
         "type": "scatter",
         "x": [
          1.8541986776442518,
          2.0789484218746965,
          2.0789484218746965,
          1.7321211734804092
         ],
         "xaxis": "x",
         "y": [
          -15243.046875,
          -15243.046875,
          -15445,
          -15445
         ],
         "yaxis": "y"
        },
        {
         "hoverinfo": "text",
         "marker": {
          "color": "rgb(0,116,217)"
         },
         "mode": "lines",
         "type": "scatter",
         "x": [
          1.753934156532757,
          2.3646098829181135,
          2.3646098829181135,
          2.0789484218746965
         ],
         "xaxis": "x",
         "y": [
          -15055,
          -15055,
          -15344.0234375,
          -15344.0234375
         ],
         "yaxis": "y"
        },
        {
         "hoverinfo": "text",
         "marker": {
          "color": "rgb(0,116,217)"
         },
         "mode": "lines",
         "type": "scatter",
         "x": [
          2.126958234630941,
          3.259526494565773,
          3.259526494565773,
          2.3646098829181135
         ],
         "xaxis": "x",
         "y": [
          -14742.8125,
          -14742.8125,
          -15199.51171875,
          -15199.51171875
         ],
         "yaxis": "y"
        },
        {
         "hoverinfo": "text",
         "marker": {
          "color": "rgb(0,116,217)"
         },
         "mode": "lines",
         "type": "scatter",
         "x": [
          1.9235523844213305,
          3.7559572921500823,
          3.7559572921500823,
          3.259526494565773
         ],
         "xaxis": "x",
         "y": [
          -14522.734375,
          -14522.734375,
          -14971.162109375,
          -14971.162109375
         ],
         "yaxis": "y"
        },
        {
         "hoverinfo": "text",
         "marker": {
          "color": "rgb(0,116,217)"
         },
         "mode": "lines",
         "type": "scatter",
         "x": [
          0,
          1.2212428879207218,
          1.2212428879207218,
          0
         ],
         "xaxis": "x",
         "y": [
          -15545,
          -15545,
          -15555,
          -15555
         ],
         "yaxis": "y"
        },
        {
         "hoverinfo": "text",
         "marker": {
          "color": "rgb(0,116,217)"
         },
         "mode": "lines",
         "type": "scatter",
         "x": [
          0,
          1.3164898555473445,
          1.3164898555473445,
          1.2212428879207218
         ],
         "xaxis": "x",
         "y": [
          -15535,
          -15535,
          -15550,
          -15550
         ],
         "yaxis": "y"
        },
        {
         "hoverinfo": "text",
         "marker": {
          "color": "rgb(0,116,217)"
         },
         "mode": "lines",
         "type": "scatter",
         "x": [
          0,
          1.278155842161855,
          1.278155842161855,
          0
         ],
         "xaxis": "x",
         "y": [
          -15565,
          -15565,
          -15575,
          -15575
         ],
         "yaxis": "y"
        },
        {
         "hoverinfo": "text",
         "marker": {
          "color": "rgb(0,116,217)"
         },
         "mode": "lines",
         "type": "scatter",
         "x": [
          0,
          1.2293171984616944,
          1.2293171984616944,
          0
         ],
         "xaxis": "x",
         "y": [
          -15585,
          -15585,
          -15595,
          -15595
         ],
         "yaxis": "y"
        },
        {
         "hoverinfo": "text",
         "marker": {
          "color": "rgb(0,116,217)"
         },
         "mode": "lines",
         "type": "scatter",
         "x": [
          1.278155842161855,
          1.3788911949942881,
          1.3788911949942881,
          1.2293171984616944
         ],
         "xaxis": "x",
         "y": [
          -15570,
          -15570,
          -15590,
          -15590
         ],
         "yaxis": "y"
        },
        {
         "hoverinfo": "text",
         "marker": {
          "color": "rgb(0,116,217)"
         },
         "mode": "lines",
         "type": "scatter",
         "x": [
          0,
          1.3279230273566507,
          1.3279230273566507,
          0
         ],
         "xaxis": "x",
         "y": [
          -15605,
          -15605,
          -15615,
          -15615
         ],
         "yaxis": "y"
        },
        {
         "hoverinfo": "text",
         "marker": {
          "color": "rgb(0,116,217)"
         },
         "mode": "lines",
         "type": "scatter",
         "x": [
          0,
          1.2619207250601727,
          1.2619207250601727,
          0
         ],
         "xaxis": "x",
         "y": [
          -15625,
          -15625,
          -15635,
          -15635
         ],
         "yaxis": "y"
        },
        {
         "hoverinfo": "text",
         "marker": {
          "color": "rgb(0,116,217)"
         },
         "mode": "lines",
         "type": "scatter",
         "x": [
          1.3279230273566507,
          1.4075463778824342,
          1.4075463778824342,
          1.2619207250601727
         ],
         "xaxis": "x",
         "y": [
          -15610,
          -15610,
          -15630,
          -15630
         ],
         "yaxis": "y"
        },
        {
         "hoverinfo": "text",
         "marker": {
          "color": "rgb(0,116,217)"
         },
         "mode": "lines",
         "type": "scatter",
         "x": [
          1.3788911949942881,
          1.5320906792336888,
          1.5320906792336888,
          1.4075463778824342
         ],
         "xaxis": "x",
         "y": [
          -15580,
          -15580,
          -15620,
          -15620
         ],
         "yaxis": "y"
        },
        {
         "hoverinfo": "text",
         "marker": {
          "color": "rgb(0,116,217)"
         },
         "mode": "lines",
         "type": "scatter",
         "x": [
          1.3164898555473445,
          1.5808346529977233,
          1.5808346529977233,
          1.5320906792336888
         ],
         "xaxis": "x",
         "y": [
          -15542.5,
          -15542.5,
          -15600,
          -15600
         ],
         "yaxis": "y"
        },
        {
         "hoverinfo": "text",
         "marker": {
          "color": "rgb(0,116,217)"
         },
         "mode": "lines",
         "type": "scatter",
         "x": [
          0,
          1.2613888472925785,
          1.2613888472925785,
          0
         ],
         "xaxis": "x",
         "y": [
          -15655,
          -15655,
          -15665,
          -15665
         ],
         "yaxis": "y"
        },
        {
         "hoverinfo": "text",
         "marker": {
          "color": "rgb(0,116,217)"
         },
         "mode": "lines",
         "type": "scatter",
         "x": [
          0,
          1.3735205912147532,
          1.3735205912147532,
          1.2613888472925785
         ],
         "xaxis": "x",
         "y": [
          -15645,
          -15645,
          -15660,
          -15660
         ],
         "yaxis": "y"
        },
        {
         "hoverinfo": "text",
         "marker": {
          "color": "rgb(0,116,217)"
         },
         "mode": "lines",
         "type": "scatter",
         "x": [
          0,
          1.2680678597315451,
          1.2680678597315451,
          0
         ],
         "xaxis": "x",
         "y": [
          -15675,
          -15675,
          -15685,
          -15685
         ],
         "yaxis": "y"
        },
        {
         "hoverinfo": "text",
         "marker": {
          "color": "rgb(0,116,217)"
         },
         "mode": "lines",
         "type": "scatter",
         "x": [
          0,
          1.2785087563900155,
          1.2785087563900155,
          0
         ],
         "xaxis": "x",
         "y": [
          -15695,
          -15695,
          -15705,
          -15705
         ],
         "yaxis": "y"
        },
        {
         "hoverinfo": "text",
         "marker": {
          "color": "rgb(0,116,217)"
         },
         "mode": "lines",
         "type": "scatter",
         "x": [
          1.2680678597315451,
          1.3521316175935796,
          1.3521316175935796,
          1.2785087563900155
         ],
         "xaxis": "x",
         "y": [
          -15680,
          -15680,
          -15700,
          -15700
         ],
         "yaxis": "y"
        },
        {
         "hoverinfo": "text",
         "marker": {
          "color": "rgb(0,116,217)"
         },
         "mode": "lines",
         "type": "scatter",
         "x": [
          1.3735205912147532,
          1.4613990388136577,
          1.4613990388136577,
          1.3521316175935796
         ],
         "xaxis": "x",
         "y": [
          -15652.5,
          -15652.5,
          -15690,
          -15690
         ],
         "yaxis": "y"
        },
        {
         "hoverinfo": "text",
         "marker": {
          "color": "rgb(0,116,217)"
         },
         "mode": "lines",
         "type": "scatter",
         "x": [
          0,
          1.2189750682261866,
          1.2189750682261866,
          0
         ],
         "xaxis": "x",
         "y": [
          -15715,
          -15715,
          -15725,
          -15725
         ],
         "yaxis": "y"
        },
        {
         "hoverinfo": "text",
         "marker": {
          "color": "rgb(0,116,217)"
         },
         "mode": "lines",
         "type": "scatter",
         "x": [
          0,
          1.242374906467533,
          1.242374906467533,
          0
         ],
         "xaxis": "x",
         "y": [
          -15735,
          -15735,
          -15745,
          -15745
         ],
         "yaxis": "y"
        },
        {
         "hoverinfo": "text",
         "marker": {
          "color": "rgb(0,116,217)"
         },
         "mode": "lines",
         "type": "scatter",
         "x": [
          1.242374906467533,
          1.3202975870867295,
          1.3202975870867295,
          0
         ],
         "xaxis": "x",
         "y": [
          -15740,
          -15740,
          -15755,
          -15755
         ],
         "yaxis": "y"
        },
        {
         "hoverinfo": "text",
         "marker": {
          "color": "rgb(0,116,217)"
         },
         "mode": "lines",
         "type": "scatter",
         "x": [
          1.2189750682261866,
          1.3759555579488443,
          1.3759555579488443,
          1.3202975870867295
         ],
         "xaxis": "x",
         "y": [
          -15720,
          -15720,
          -15747.5,
          -15747.5
         ],
         "yaxis": "y"
        },
        {
         "hoverinfo": "text",
         "marker": {
          "color": "rgb(0,116,217)"
         },
         "mode": "lines",
         "type": "scatter",
         "x": [
          1.4613990388136577,
          1.5159980485241236,
          1.5159980485241236,
          1.3759555579488443
         ],
         "xaxis": "x",
         "y": [
          -15671.25,
          -15671.25,
          -15733.75,
          -15733.75
         ],
         "yaxis": "y"
        },
        {
         "hoverinfo": "text",
         "marker": {
          "color": "rgb(0,116,217)"
         },
         "mode": "lines",
         "type": "scatter",
         "x": [
          0,
          1.1579693984270092,
          1.1579693984270092,
          0
         ],
         "xaxis": "x",
         "y": [
          -15765,
          -15765,
          -15775,
          -15775
         ],
         "yaxis": "y"
        },
        {
         "hoverinfo": "text",
         "marker": {
          "color": "rgb(0,116,217)"
         },
         "mode": "lines",
         "type": "scatter",
         "x": [
          0,
          1.100668440720274,
          1.100668440720274,
          0
         ],
         "xaxis": "x",
         "y": [
          -15785,
          -15785,
          -15795,
          -15795
         ],
         "yaxis": "y"
        },
        {
         "hoverinfo": "text",
         "marker": {
          "color": "rgb(0,116,217)"
         },
         "mode": "lines",
         "type": "scatter",
         "x": [
          1.1579693984270092,
          1.2210477181587922,
          1.2210477181587922,
          1.100668440720274
         ],
         "xaxis": "x",
         "y": [
          -15770,
          -15770,
          -15790,
          -15790
         ],
         "yaxis": "y"
        },
        {
         "hoverinfo": "text",
         "marker": {
          "color": "rgb(0,116,217)"
         },
         "mode": "lines",
         "type": "scatter",
         "x": [
          0,
          1.2623469081825491,
          1.2623469081825491,
          0
         ],
         "xaxis": "x",
         "y": [
          -15805,
          -15805,
          -15815,
          -15815
         ],
         "yaxis": "y"
        },
        {
         "hoverinfo": "text",
         "marker": {
          "color": "rgb(0,116,217)"
         },
         "mode": "lines",
         "type": "scatter",
         "x": [
          0,
          1.008174611138187,
          1.008174611138187,
          0
         ],
         "xaxis": "x",
         "y": [
          -15825,
          -15825,
          -15835,
          -15835
         ],
         "yaxis": "y"
        },
        {
         "hoverinfo": "text",
         "marker": {
          "color": "rgb(0,116,217)"
         },
         "mode": "lines",
         "type": "scatter",
         "x": [
          0,
          1.2499611745678083,
          1.2499611745678083,
          0
         ],
         "xaxis": "x",
         "y": [
          -15845,
          -15845,
          -15855,
          -15855
         ],
         "yaxis": "y"
        },
        {
         "hoverinfo": "text",
         "marker": {
          "color": "rgb(0,116,217)"
         },
         "mode": "lines",
         "type": "scatter",
         "x": [
          1.2499611745678083,
          1.2842775115684655,
          1.2842775115684655,
          0
         ],
         "xaxis": "x",
         "y": [
          -15850,
          -15850,
          -15865,
          -15865
         ],
         "yaxis": "y"
        },
        {
         "hoverinfo": "text",
         "marker": {
          "color": "rgb(0,116,217)"
         },
         "mode": "lines",
         "type": "scatter",
         "x": [
          1.2842775115684655,
          1.4405601349096402,
          1.4405601349096402,
          0
         ],
         "xaxis": "x",
         "y": [
          -15857.5,
          -15857.5,
          -15875,
          -15875
         ],
         "yaxis": "y"
        },
        {
         "hoverinfo": "text",
         "marker": {
          "color": "rgb(0,116,217)"
         },
         "mode": "lines",
         "type": "scatter",
         "x": [
          1.008174611138187,
          1.5475405523366574,
          1.5475405523366574,
          1.4405601349096402
         ],
         "xaxis": "x",
         "y": [
          -15830,
          -15830,
          -15866.25,
          -15866.25
         ],
         "yaxis": "y"
        },
        {
         "hoverinfo": "text",
         "marker": {
          "color": "rgb(0,116,217)"
         },
         "mode": "lines",
         "type": "scatter",
         "x": [
          1.2623469081825491,
          1.6280343624611435,
          1.6280343624611435,
          1.5475405523366574
         ],
         "xaxis": "x",
         "y": [
          -15810,
          -15810,
          -15848.125,
          -15848.125
         ],
         "yaxis": "y"
        },
        {
         "hoverinfo": "text",
         "marker": {
          "color": "rgb(0,116,217)"
         },
         "mode": "lines",
         "type": "scatter",
         "x": [
          1.2210477181587922,
          1.7001308100659418,
          1.7001308100659418,
          1.6280343624611435
         ],
         "xaxis": "x",
         "y": [
          -15780,
          -15780,
          -15829.0625,
          -15829.0625
         ],
         "yaxis": "y"
        },
        {
         "hoverinfo": "text",
         "marker": {
          "color": "rgb(0,116,217)"
         },
         "mode": "lines",
         "type": "scatter",
         "x": [
          1.5159980485241236,
          1.8654412516703371,
          1.8654412516703371,
          1.7001308100659418
         ],
         "xaxis": "x",
         "y": [
          -15702.5,
          -15702.5,
          -15804.53125,
          -15804.53125
         ],
         "yaxis": "y"
        },
        {
         "hoverinfo": "text",
         "marker": {
          "color": "rgb(0,116,217)"
         },
         "mode": "lines",
         "type": "scatter",
         "x": [
          1.5808346529977233,
          2.3010987215197214,
          2.3010987215197214,
          1.8654412516703371
         ],
         "xaxis": "x",
         "y": [
          -15571.25,
          -15571.25,
          -15753.515625,
          -15753.515625
         ],
         "yaxis": "y"
        },
        {
         "hoverinfo": "text",
         "marker": {
          "color": "rgb(0,116,217)"
         },
         "mode": "lines",
         "type": "scatter",
         "x": [
          0,
          1.0010596585787646,
          1.0010596585787646,
          0
         ],
         "xaxis": "x",
         "y": [
          -15895,
          -15895,
          -15905,
          -15905
         ],
         "yaxis": "y"
        },
        {
         "hoverinfo": "text",
         "marker": {
          "color": "rgb(0,116,217)"
         },
         "mode": "lines",
         "type": "scatter",
         "x": [
          0,
          1.2678333930389099,
          1.2678333930389099,
          1.0010596585787646
         ],
         "xaxis": "x",
         "y": [
          -15885,
          -15885,
          -15900,
          -15900
         ],
         "yaxis": "y"
        },
        {
         "hoverinfo": "text",
         "marker": {
          "color": "rgb(0,116,217)"
         },
         "mode": "lines",
         "type": "scatter",
         "x": [
          0,
          1.39827442325982,
          1.39827442325982,
          0
         ],
         "xaxis": "x",
         "y": [
          -15915,
          -15915,
          -15925,
          -15925
         ],
         "yaxis": "y"
        },
        {
         "hoverinfo": "text",
         "marker": {
          "color": "rgb(0,116,217)"
         },
         "mode": "lines",
         "type": "scatter",
         "x": [
          0,
          1.2884314080845374,
          1.2884314080845374,
          0
         ],
         "xaxis": "x",
         "y": [
          -15935,
          -15935,
          -15945,
          -15945
         ],
         "yaxis": "y"
        },
        {
         "hoverinfo": "text",
         "marker": {
          "color": "rgb(0,116,217)"
         },
         "mode": "lines",
         "type": "scatter",
         "x": [
          1.39827442325982,
          1.4248389897100895,
          1.4248389897100895,
          1.2884314080845374
         ],
         "xaxis": "x",
         "y": [
          -15920,
          -15920,
          -15940,
          -15940
         ],
         "yaxis": "y"
        },
        {
         "hoverinfo": "text",
         "marker": {
          "color": "rgb(0,116,217)"
         },
         "mode": "lines",
         "type": "scatter",
         "x": [
          0,
          1.3260155479628861,
          1.3260155479628861,
          0
         ],
         "xaxis": "x",
         "y": [
          -15955,
          -15955,
          -15965,
          -15965
         ],
         "yaxis": "y"
        },
        {
         "hoverinfo": "text",
         "marker": {
          "color": "rgb(0,116,217)"
         },
         "mode": "lines",
         "type": "scatter",
         "x": [
          0,
          1.282782772409393,
          1.282782772409393,
          0
         ],
         "xaxis": "x",
         "y": [
          -15975,
          -15975,
          -15985,
          -15985
         ],
         "yaxis": "y"
        },
        {
         "hoverinfo": "text",
         "marker": {
          "color": "rgb(0,116,217)"
         },
         "mode": "lines",
         "type": "scatter",
         "x": [
          1.3260155479628861,
          1.4884275356453975,
          1.4884275356453975,
          1.282782772409393
         ],
         "xaxis": "x",
         "y": [
          -15960,
          -15960,
          -15980,
          -15980
         ],
         "yaxis": "y"
        },
        {
         "hoverinfo": "text",
         "marker": {
          "color": "rgb(0,116,217)"
         },
         "mode": "lines",
         "type": "scatter",
         "x": [
          1.4248389897100895,
          1.6903470433207117,
          1.6903470433207117,
          1.4884275356453975
         ],
         "xaxis": "x",
         "y": [
          -15930,
          -15930,
          -15970,
          -15970
         ],
         "yaxis": "y"
        },
        {
         "hoverinfo": "text",
         "marker": {
          "color": "rgb(0,116,217)"
         },
         "mode": "lines",
         "type": "scatter",
         "x": [
          0,
          1.2423353124810554,
          1.2423353124810554,
          0
         ],
         "xaxis": "x",
         "y": [
          -15995,
          -15995,
          -16005,
          -16005
         ],
         "yaxis": "y"
        },
        {
         "hoverinfo": "text",
         "marker": {
          "color": "rgb(0,116,217)"
         },
         "mode": "lines",
         "type": "scatter",
         "x": [
          0,
          1.3191332587490165,
          1.3191332587490165,
          0
         ],
         "xaxis": "x",
         "y": [
          -16015,
          -16015,
          -16025,
          -16025
         ],
         "yaxis": "y"
        },
        {
         "hoverinfo": "text",
         "marker": {
          "color": "rgb(0,116,217)"
         },
         "mode": "lines",
         "type": "scatter",
         "x": [
          1.2423353124810554,
          1.5074710647441847,
          1.5074710647441847,
          1.3191332587490165
         ],
         "xaxis": "x",
         "y": [
          -16000,
          -16000,
          -16020,
          -16020
         ],
         "yaxis": "y"
        },
        {
         "hoverinfo": "text",
         "marker": {
          "color": "rgb(0,116,217)"
         },
         "mode": "lines",
         "type": "scatter",
         "x": [
          1.6903470433207117,
          1.8074447209973783,
          1.8074447209973783,
          1.5074710647441847
         ],
         "xaxis": "x",
         "y": [
          -15950,
          -15950,
          -16010,
          -16010
         ],
         "yaxis": "y"
        },
        {
         "hoverinfo": "text",
         "marker": {
          "color": "rgb(0,116,217)"
         },
         "mode": "lines",
         "type": "scatter",
         "x": [
          1.2678333930389099,
          2.3246717301034017,
          2.3246717301034017,
          1.8074447209973783
         ],
         "xaxis": "x",
         "y": [
          -15892.5,
          -15892.5,
          -15980,
          -15980
         ],
         "yaxis": "y"
        },
        {
         "hoverinfo": "text",
         "marker": {
          "color": "rgb(0,116,217)"
         },
         "mode": "lines",
         "type": "scatter",
         "x": [
          2.3010987215197214,
          2.9786250115410615,
          2.9786250115410615,
          2.3246717301034017
         ],
         "xaxis": "x",
         "y": [
          -15662.3828125,
          -15662.3828125,
          -15936.25,
          -15936.25
         ],
         "yaxis": "y"
        },
        {
         "hoverinfo": "text",
         "marker": {
          "color": "rgb(0,116,217)"
         },
         "mode": "lines",
         "type": "scatter",
         "x": [
          3.7559572921500823,
          5.80730290495034,
          5.80730290495034,
          2.9786250115410615
         ],
         "xaxis": "x",
         "y": [
          -14746.9482421875,
          -14746.9482421875,
          -15799.31640625,
          -15799.31640625
         ],
         "yaxis": "y"
        },
        {
         "hoverinfo": "text",
         "marker": {
          "color": "rgb(0,116,217)"
         },
         "mode": "lines",
         "type": "scatter",
         "x": [
          7.988858197311977,
          9.838359778518832,
          9.838359778518832,
          5.80730290495034
         ],
         "xaxis": "x",
         "y": [
          -10801.183776855469,
          -10801.183776855469,
          -15273.13232421875,
          -15273.13232421875
         ],
         "yaxis": "y"
        },
        {
         "hoverinfo": "text",
         "marker": {
          "color": "rgb(0,116,217)"
         },
         "mode": "lines",
         "type": "scatter",
         "x": [
          7.625458292958729,
          12.086062398175342,
          12.086062398175342,
          9.838359778518832
         ],
         "xaxis": "x",
         "y": [
          -5340.283203125,
          -5340.283203125,
          -13037.15805053711,
          -13037.15805053711
         ],
         "yaxis": "y"
        },
        {
         "hoverinfo": "text",
         "marker": {
          "color": "rgb(133,20,75)"
         },
         "mode": "lines",
         "type": "scatter",
         "x": [
          0,
          0.5087667291899858,
          0.5087667291899858,
          0
         ],
         "xaxis": "x",
         "y": [
          -16035,
          -16035,
          -16045,
          -16045
         ],
         "yaxis": "y"
        },
        {
         "hoverinfo": "text",
         "marker": {
          "color": "rgb(0,116,217)"
         },
         "mode": "lines",
         "type": "scatter",
         "x": [
          0.5087667291899858,
          1.5794423722274518,
          1.5794423722274518,
          0
         ],
         "xaxis": "x",
         "y": [
          -16040,
          -16040,
          -16055,
          -16055
         ],
         "yaxis": "y"
        },
        {
         "hoverinfo": "text",
         "marker": {
          "color": "rgb(0,116,217)"
         },
         "mode": "lines",
         "type": "scatter",
         "x": [
          0,
          1.480361092857697,
          1.480361092857697,
          0
         ],
         "xaxis": "x",
         "y": [
          -16075,
          -16075,
          -16085,
          -16085
         ],
         "yaxis": "y"
        },
        {
         "hoverinfo": "text",
         "marker": {
          "color": "rgb(0,116,217)"
         },
         "mode": "lines",
         "type": "scatter",
         "x": [
          0,
          1.5093601567079749,
          1.5093601567079749,
          1.480361092857697
         ],
         "xaxis": "x",
         "y": [
          -16065,
          -16065,
          -16080,
          -16080
         ],
         "yaxis": "y"
        },
        {
         "hoverinfo": "text",
         "marker": {
          "color": "rgb(0,116,217)"
         },
         "mode": "lines",
         "type": "scatter",
         "x": [
          0,
          1.4031554071606118,
          1.4031554071606118,
          0
         ],
         "xaxis": "x",
         "y": [
          -16095,
          -16095,
          -16105,
          -16105
         ],
         "yaxis": "y"
        },
        {
         "hoverinfo": "text",
         "marker": {
          "color": "rgb(0,116,217)"
         },
         "mode": "lines",
         "type": "scatter",
         "x": [
          1.4031554071606118,
          1.4194020085138883,
          1.4194020085138883,
          0
         ],
         "xaxis": "x",
         "y": [
          -16100,
          -16100,
          -16115,
          -16115
         ],
         "yaxis": "y"
        },
        {
         "hoverinfo": "text",
         "marker": {
          "color": "rgb(0,116,217)"
         },
         "mode": "lines",
         "type": "scatter",
         "x": [
          1.4194020085138883,
          1.511886111863002,
          1.511886111863002,
          0
         ],
         "xaxis": "x",
         "y": [
          -16107.5,
          -16107.5,
          -16125,
          -16125
         ],
         "yaxis": "y"
        },
        {
         "hoverinfo": "text",
         "marker": {
          "color": "rgb(0,116,217)"
         },
         "mode": "lines",
         "type": "scatter",
         "x": [
          1.5093601567079749,
          1.610761002939174,
          1.610761002939174,
          1.511886111863002
         ],
         "xaxis": "x",
         "y": [
          -16072.5,
          -16072.5,
          -16116.25,
          -16116.25
         ],
         "yaxis": "y"
        },
        {
         "hoverinfo": "text",
         "marker": {
          "color": "rgb(0,116,217)"
         },
         "mode": "lines",
         "type": "scatter",
         "x": [
          0,
          1.3207992838741924,
          1.3207992838741924,
          0
         ],
         "xaxis": "x",
         "y": [
          -16145,
          -16145,
          -16155,
          -16155
         ],
         "yaxis": "y"
        },
        {
         "hoverinfo": "text",
         "marker": {
          "color": "rgb(0,116,217)"
         },
         "mode": "lines",
         "type": "scatter",
         "x": [
          0,
          1.3882752626008659,
          1.3882752626008659,
          1.3207992838741924
         ],
         "xaxis": "x",
         "y": [
          -16135,
          -16135,
          -16150,
          -16150
         ],
         "yaxis": "y"
        },
        {
         "hoverinfo": "text",
         "marker": {
          "color": "rgb(0,116,217)"
         },
         "mode": "lines",
         "type": "scatter",
         "x": [
          0,
          1.4181420962288698,
          1.4181420962288698,
          0
         ],
         "xaxis": "x",
         "y": [
          -16175,
          -16175,
          -16185,
          -16185
         ],
         "yaxis": "y"
        },
        {
         "hoverinfo": "text",
         "marker": {
          "color": "rgb(0,116,217)"
         },
         "mode": "lines",
         "type": "scatter",
         "x": [
          0,
          1.453030509017269,
          1.453030509017269,
          1.4181420962288698
         ],
         "xaxis": "x",
         "y": [
          -16165,
          -16165,
          -16180,
          -16180
         ],
         "yaxis": "y"
        },
        {
         "hoverinfo": "text",
         "marker": {
          "color": "rgb(0,116,217)"
         },
         "mode": "lines",
         "type": "scatter",
         "x": [
          0,
          1.3980254451922132,
          1.3980254451922132,
          0
         ],
         "xaxis": "x",
         "y": [
          -16195,
          -16195,
          -16205,
          -16205
         ],
         "yaxis": "y"
        },
        {
         "hoverinfo": "text",
         "marker": {
          "color": "rgb(0,116,217)"
         },
         "mode": "lines",
         "type": "scatter",
         "x": [
          0,
          1.4265103450068586,
          1.4265103450068586,
          0
         ],
         "xaxis": "x",
         "y": [
          -16215,
          -16215,
          -16225,
          -16225
         ],
         "yaxis": "y"
        },
        {
         "hoverinfo": "text",
         "marker": {
          "color": "rgb(0,116,217)"
         },
         "mode": "lines",
         "type": "scatter",
         "x": [
          1.3980254451922132,
          1.4426891520664267,
          1.4426891520664267,
          1.4265103450068586
         ],
         "xaxis": "x",
         "y": [
          -16200,
          -16200,
          -16220,
          -16220
         ],
         "yaxis": "y"
        },
        {
         "hoverinfo": "text",
         "marker": {
          "color": "rgb(0,116,217)"
         },
         "mode": "lines",
         "type": "scatter",
         "x": [
          1.453030509017269,
          1.4964766283138828,
          1.4964766283138828,
          1.4426891520664267
         ],
         "xaxis": "x",
         "y": [
          -16172.5,
          -16172.5,
          -16210,
          -16210
         ],
         "yaxis": "y"
        },
        {
         "hoverinfo": "text",
         "marker": {
          "color": "rgb(0,116,217)"
         },
         "mode": "lines",
         "type": "scatter",
         "x": [
          1.3882752626008659,
          1.5540449497030322,
          1.5540449497030322,
          1.4964766283138828
         ],
         "xaxis": "x",
         "y": [
          -16142.5,
          -16142.5,
          -16191.25,
          -16191.25
         ],
         "yaxis": "y"
        },
        {
         "hoverinfo": "text",
         "marker": {
          "color": "rgb(0,116,217)"
         },
         "mode": "lines",
         "type": "scatter",
         "x": [
          1.610761002939174,
          1.7078555557456683,
          1.7078555557456683,
          1.5540449497030322
         ],
         "xaxis": "x",
         "y": [
          -16094.375,
          -16094.375,
          -16166.875,
          -16166.875
         ],
         "yaxis": "y"
        },
        {
         "hoverinfo": "text",
         "marker": {
          "color": "rgb(0,116,217)"
         },
         "mode": "lines",
         "type": "scatter",
         "x": [
          0,
          1.3768302461843642,
          1.3768302461843642,
          0
         ],
         "xaxis": "x",
         "y": [
          -16235,
          -16235,
          -16245,
          -16245
         ],
         "yaxis": "y"
        },
        {
         "hoverinfo": "text",
         "marker": {
          "color": "rgb(0,116,217)"
         },
         "mode": "lines",
         "type": "scatter",
         "x": [
          0,
          1.446733577803571,
          1.446733577803571,
          0
         ],
         "xaxis": "x",
         "y": [
          -16255,
          -16255,
          -16265,
          -16265
         ],
         "yaxis": "y"
        },
        {
         "hoverinfo": "text",
         "marker": {
          "color": "rgb(0,116,217)"
         },
         "mode": "lines",
         "type": "scatter",
         "x": [
          1.3768302461843642,
          1.481769997115489,
          1.481769997115489,
          1.446733577803571
         ],
         "xaxis": "x",
         "y": [
          -16240,
          -16240,
          -16260,
          -16260
         ],
         "yaxis": "y"
        },
        {
         "hoverinfo": "text",
         "marker": {
          "color": "rgb(0,116,217)"
         },
         "mode": "lines",
         "type": "scatter",
         "x": [
          0,
          1.0720568725706656,
          1.0720568725706656,
          0
         ],
         "xaxis": "x",
         "y": [
          -16275,
          -16275,
          -16285,
          -16285
         ],
         "yaxis": "y"
        },
        {
         "hoverinfo": "text",
         "marker": {
          "color": "rgb(0,116,217)"
         },
         "mode": "lines",
         "type": "scatter",
         "x": [
          1.0720568725706656,
          1.1953646412151333,
          1.1953646412151333,
          0
         ],
         "xaxis": "x",
         "y": [
          -16280,
          -16280,
          -16295,
          -16295
         ],
         "yaxis": "y"
        },
        {
         "hoverinfo": "text",
         "marker": {
          "color": "rgb(0,116,217)"
         },
         "mode": "lines",
         "type": "scatter",
         "x": [
          1.481769997115489,
          1.7123542080554457,
          1.7123542080554457,
          1.1953646412151333
         ],
         "xaxis": "x",
         "y": [
          -16250,
          -16250,
          -16287.5,
          -16287.5
         ],
         "yaxis": "y"
        },
        {
         "hoverinfo": "text",
         "marker": {
          "color": "rgb(0,116,217)"
         },
         "mode": "lines",
         "type": "scatter",
         "x": [
          0,
          1.0223111185959817,
          1.0223111185959817,
          0
         ],
         "xaxis": "x",
         "y": [
          -16305,
          -16305,
          -16315,
          -16315
         ],
         "yaxis": "y"
        },
        {
         "hoverinfo": "text",
         "marker": {
          "color": "rgb(0,116,217)"
         },
         "mode": "lines",
         "type": "scatter",
         "x": [
          1.0223111185959817,
          1.4305337620589067,
          1.4305337620589067,
          0
         ],
         "xaxis": "x",
         "y": [
          -16310,
          -16310,
          -16325,
          -16325
         ],
         "yaxis": "y"
        },
        {
         "hoverinfo": "text",
         "marker": {
          "color": "rgb(0,116,217)"
         },
         "mode": "lines",
         "type": "scatter",
         "x": [
          1.7123542080554457,
          2.263794183908708,
          2.263794183908708,
          1.4305337620589067
         ],
         "xaxis": "x",
         "y": [
          -16268.75,
          -16268.75,
          -16317.5,
          -16317.5
         ],
         "yaxis": "y"
        },
        {
         "hoverinfo": "text",
         "marker": {
          "color": "rgb(0,116,217)"
         },
         "mode": "lines",
         "type": "scatter",
         "x": [
          1.7078555557456683,
          2.933930894703272,
          2.933930894703272,
          2.263794183908708
         ],
         "xaxis": "x",
         "y": [
          -16130.625,
          -16130.625,
          -16293.125,
          -16293.125
         ],
         "yaxis": "y"
        },
        {
         "hoverinfo": "text",
         "marker": {
          "color": "rgb(0,116,217)"
         },
         "mode": "lines",
         "type": "scatter",
         "x": [
          1.5794423722274518,
          3.3314758686181802,
          3.3314758686181802,
          2.933930894703272
         ],
         "xaxis": "x",
         "y": [
          -16047.5,
          -16047.5,
          -16211.875,
          -16211.875
         ],
         "yaxis": "y"
        },
        {
         "hoverinfo": "text",
         "marker": {
          "color": "rgb(0,116,217)"
         },
         "mode": "lines",
         "type": "scatter",
         "x": [
          0,
          1.402341746631074,
          1.402341746631074,
          0
         ],
         "xaxis": "x",
         "y": [
          -16345,
          -16345,
          -16355,
          -16355
         ],
         "yaxis": "y"
        },
        {
         "hoverinfo": "text",
         "marker": {
          "color": "rgb(0,116,217)"
         },
         "mode": "lines",
         "type": "scatter",
         "x": [
          0,
          1.4211934340328425,
          1.4211934340328425,
          1.402341746631074
         ],
         "xaxis": "x",
         "y": [
          -16335,
          -16335,
          -16350,
          -16350
         ],
         "yaxis": "y"
        },
        {
         "hoverinfo": "text",
         "marker": {
          "color": "rgb(0,116,217)"
         },
         "mode": "lines",
         "type": "scatter",
         "x": [
          0,
          1.3720734009788518,
          1.3720734009788518,
          0
         ],
         "xaxis": "x",
         "y": [
          -16365,
          -16365,
          -16375,
          -16375
         ],
         "yaxis": "y"
        },
        {
         "hoverinfo": "text",
         "marker": {
          "color": "rgb(0,116,217)"
         },
         "mode": "lines",
         "type": "scatter",
         "x": [
          0,
          1.3827053220930658,
          1.3827053220930658,
          0
         ],
         "xaxis": "x",
         "y": [
          -16385,
          -16385,
          -16395,
          -16395
         ],
         "yaxis": "y"
        },
        {
         "hoverinfo": "text",
         "marker": {
          "color": "rgb(0,116,217)"
         },
         "mode": "lines",
         "type": "scatter",
         "x": [
          0,
          1.4180056556354925,
          1.4180056556354925,
          0
         ],
         "xaxis": "x",
         "y": [
          -16405,
          -16405,
          -16415,
          -16415
         ],
         "yaxis": "y"
        },
        {
         "hoverinfo": "text",
         "marker": {
          "color": "rgb(0,116,217)"
         },
         "mode": "lines",
         "type": "scatter",
         "x": [
          1.3827053220930658,
          1.47405360137065,
          1.47405360137065,
          1.4180056556354925
         ],
         "xaxis": "x",
         "y": [
          -16390,
          -16390,
          -16410,
          -16410
         ],
         "yaxis": "y"
        },
        {
         "hoverinfo": "text",
         "marker": {
          "color": "rgb(0,116,217)"
         },
         "mode": "lines",
         "type": "scatter",
         "x": [
          1.3720734009788518,
          1.5763555029504916,
          1.5763555029504916,
          1.47405360137065
         ],
         "xaxis": "x",
         "y": [
          -16370,
          -16370,
          -16400,
          -16400
         ],
         "yaxis": "y"
        },
        {
         "hoverinfo": "text",
         "marker": {
          "color": "rgb(0,116,217)"
         },
         "mode": "lines",
         "type": "scatter",
         "x": [
          1.4211934340328425,
          1.6823184384791465,
          1.6823184384791465,
          1.5763555029504916
         ],
         "xaxis": "x",
         "y": [
          -16342.5,
          -16342.5,
          -16385,
          -16385
         ],
         "yaxis": "y"
        },
        {
         "hoverinfo": "text",
         "marker": {
          "color": "rgb(0,116,217)"
         },
         "mode": "lines",
         "type": "scatter",
         "x": [
          0,
          1.1582250597679606,
          1.1582250597679606,
          0
         ],
         "xaxis": "x",
         "y": [
          -16425,
          -16425,
          -16435,
          -16435
         ],
         "yaxis": "y"
        },
        {
         "hoverinfo": "text",
         "marker": {
          "color": "rgb(0,116,217)"
         },
         "mode": "lines",
         "type": "scatter",
         "x": [
          0,
          1.2309243528490377,
          1.2309243528490377,
          0
         ],
         "xaxis": "x",
         "y": [
          -16445,
          -16445,
          -16455,
          -16455
         ],
         "yaxis": "y"
        },
        {
         "hoverinfo": "text",
         "marker": {
          "color": "rgb(0,116,217)"
         },
         "mode": "lines",
         "type": "scatter",
         "x": [
          1.2309243528490377,
          1.3599177907507394,
          1.3599177907507394,
          0
         ],
         "xaxis": "x",
         "y": [
          -16450,
          -16450,
          -16465,
          -16465
         ],
         "yaxis": "y"
        },
        {
         "hoverinfo": "text",
         "marker": {
          "color": "rgb(0,116,217)"
         },
         "mode": "lines",
         "type": "scatter",
         "x": [
          1.1582250597679606,
          1.9158901881601411,
          1.9158901881601411,
          1.3599177907507394
         ],
         "xaxis": "x",
         "y": [
          -16430,
          -16430,
          -16457.5,
          -16457.5
         ],
         "yaxis": "y"
        },
        {
         "hoverinfo": "text",
         "marker": {
          "color": "rgb(0,116,217)"
         },
         "mode": "lines",
         "type": "scatter",
         "x": [
          1.6823184384791465,
          1.9252493211351163,
          1.9252493211351163,
          1.9158901881601411
         ],
         "xaxis": "x",
         "y": [
          -16363.75,
          -16363.75,
          -16443.75,
          -16443.75
         ],
         "yaxis": "y"
        },
        {
         "hoverinfo": "text",
         "marker": {
          "color": "rgb(0,116,217)"
         },
         "mode": "lines",
         "type": "scatter",
         "x": [
          0,
          1.1282584303755117,
          1.1282584303755117,
          0
         ],
         "xaxis": "x",
         "y": [
          -16485,
          -16485,
          -16495,
          -16495
         ],
         "yaxis": "y"
        },
        {
         "hoverinfo": "text",
         "marker": {
          "color": "rgb(0,116,217)"
         },
         "mode": "lines",
         "type": "scatter",
         "x": [
          0,
          1.2435630362713388,
          1.2435630362713388,
          1.1282584303755117
         ],
         "xaxis": "x",
         "y": [
          -16475,
          -16475,
          -16490,
          -16490
         ],
         "yaxis": "y"
        },
        {
         "hoverinfo": "text",
         "marker": {
          "color": "rgb(0,116,217)"
         },
         "mode": "lines",
         "type": "scatter",
         "x": [
          0,
          1.2850727741864234,
          1.2850727741864234,
          0
         ],
         "xaxis": "x",
         "y": [
          -16505,
          -16505,
          -16515,
          -16515
         ],
         "yaxis": "y"
        },
        {
         "hoverinfo": "text",
         "marker": {
          "color": "rgb(0,116,217)"
         },
         "mode": "lines",
         "type": "scatter",
         "x": [
          0,
          1.3919369277387328,
          1.3919369277387328,
          0
         ],
         "xaxis": "x",
         "y": [
          -16525,
          -16525,
          -16535,
          -16535
         ],
         "yaxis": "y"
        },
        {
         "hoverinfo": "text",
         "marker": {
          "color": "rgb(0,116,217)"
         },
         "mode": "lines",
         "type": "scatter",
         "x": [
          0,
          1.3520411536417898,
          1.3520411536417898,
          0
         ],
         "xaxis": "x",
         "y": [
          -16545,
          -16545,
          -16555,
          -16555
         ],
         "yaxis": "y"
        },
        {
         "hoverinfo": "text",
         "marker": {
          "color": "rgb(0,116,217)"
         },
         "mode": "lines",
         "type": "scatter",
         "x": [
          1.3520411536417898,
          1.4063700635334395,
          1.4063700635334395,
          0
         ],
         "xaxis": "x",
         "y": [
          -16550,
          -16550,
          -16565,
          -16565
         ],
         "yaxis": "y"
        },
        {
         "hoverinfo": "text",
         "marker": {
          "color": "rgb(0,116,217)"
         },
         "mode": "lines",
         "type": "scatter",
         "x": [
          1.3919369277387328,
          1.4651594366974987,
          1.4651594366974987,
          1.4063700635334395
         ],
         "xaxis": "x",
         "y": [
          -16530,
          -16530,
          -16557.5,
          -16557.5
         ],
         "yaxis": "y"
        },
        {
         "hoverinfo": "text",
         "marker": {
          "color": "rgb(0,116,217)"
         },
         "mode": "lines",
         "type": "scatter",
         "x": [
          0,
          1.368593542766732,
          1.368593542766732,
          0
         ],
         "xaxis": "x",
         "y": [
          -16575,
          -16575,
          -16585,
          -16585
         ],
         "yaxis": "y"
        },
        {
         "hoverinfo": "text",
         "marker": {
          "color": "rgb(0,116,217)"
         },
         "mode": "lines",
         "type": "scatter",
         "x": [
          1.4651594366974987,
          1.5305042902112937,
          1.5305042902112937,
          1.368593542766732
         ],
         "xaxis": "x",
         "y": [
          -16543.75,
          -16543.75,
          -16580,
          -16580
         ],
         "yaxis": "y"
        },
        {
         "hoverinfo": "text",
         "marker": {
          "color": "rgb(0,116,217)"
         },
         "mode": "lines",
         "type": "scatter",
         "x": [
          1.2850727741864234,
          1.6101498575736803,
          1.6101498575736803,
          1.5305042902112937
         ],
         "xaxis": "x",
         "y": [
          -16510,
          -16510,
          -16561.875,
          -16561.875
         ],
         "yaxis": "y"
        },
        {
         "hoverinfo": "text",
         "marker": {
          "color": "rgb(0,116,217)"
         },
         "mode": "lines",
         "type": "scatter",
         "x": [
          0,
          1.3560938257267894,
          1.3560938257267894,
          0
         ],
         "xaxis": "x",
         "y": [
          -16595,
          -16595,
          -16605,
          -16605
         ],
         "yaxis": "y"
        },
        {
         "hoverinfo": "text",
         "marker": {
          "color": "rgb(0,116,217)"
         },
         "mode": "lines",
         "type": "scatter",
         "x": [
          0,
          1.3142644228460292,
          1.3142644228460292,
          0
         ],
         "xaxis": "x",
         "y": [
          -16615,
          -16615,
          -16625,
          -16625
         ],
         "yaxis": "y"
        },
        {
         "hoverinfo": "text",
         "marker": {
          "color": "rgb(0,116,217)"
         },
         "mode": "lines",
         "type": "scatter",
         "x": [
          1.3560938257267894,
          1.4303203051079278,
          1.4303203051079278,
          1.3142644228460292
         ],
         "xaxis": "x",
         "y": [
          -16600,
          -16600,
          -16620,
          -16620
         ],
         "yaxis": "y"
        },
        {
         "hoverinfo": "text",
         "marker": {
          "color": "rgb(0,116,217)"
         },
         "mode": "lines",
         "type": "scatter",
         "x": [
          1.6101498575736803,
          1.7385036147489146,
          1.7385036147489146,
          1.4303203051079278
         ],
         "xaxis": "x",
         "y": [
          -16535.9375,
          -16535.9375,
          -16610,
          -16610
         ],
         "yaxis": "y"
        },
        {
         "hoverinfo": "text",
         "marker": {
          "color": "rgb(0,116,217)"
         },
         "mode": "lines",
         "type": "scatter",
         "x": [
          0,
          1.3378204280810477,
          1.3378204280810477,
          0
         ],
         "xaxis": "x",
         "y": [
          -16635,
          -16635,
          -16645,
          -16645
         ],
         "yaxis": "y"
        },
        {
         "hoverinfo": "text",
         "marker": {
          "color": "rgb(0,116,217)"
         },
         "mode": "lines",
         "type": "scatter",
         "x": [
          1.3378204280810477,
          1.3996015197844012,
          1.3996015197844012,
          0
         ],
         "xaxis": "x",
         "y": [
          -16640,
          -16640,
          -16655,
          -16655
         ],
         "yaxis": "y"
        },
        {
         "hoverinfo": "text",
         "marker": {
          "color": "rgb(0,116,217)"
         },
         "mode": "lines",
         "type": "scatter",
         "x": [
          0,
          1.366777170191301,
          1.366777170191301,
          0
         ],
         "xaxis": "x",
         "y": [
          -16665,
          -16665,
          -16675,
          -16675
         ],
         "yaxis": "y"
        },
        {
         "hoverinfo": "text",
         "marker": {
          "color": "rgb(0,116,217)"
         },
         "mode": "lines",
         "type": "scatter",
         "x": [
          0,
          1.3915393249119217,
          1.3915393249119217,
          0
         ],
         "xaxis": "x",
         "y": [
          -16685,
          -16685,
          -16695,
          -16695
         ],
         "yaxis": "y"
        },
        {
         "hoverinfo": "text",
         "marker": {
          "color": "rgb(0,116,217)"
         },
         "mode": "lines",
         "type": "scatter",
         "x": [
          1.366777170191301,
          1.4196370758079586,
          1.4196370758079586,
          1.3915393249119217
         ],
         "xaxis": "x",
         "y": [
          -16670,
          -16670,
          -16690,
          -16690
         ],
         "yaxis": "y"
        },
        {
         "hoverinfo": "text",
         "marker": {
          "color": "rgb(0,116,217)"
         },
         "mode": "lines",
         "type": "scatter",
         "x": [
          0,
          1.3085694689062182,
          1.3085694689062182,
          0
         ],
         "xaxis": "x",
         "y": [
          -16715,
          -16715,
          -16725,
          -16725
         ],
         "yaxis": "y"
        },
        {
         "hoverinfo": "text",
         "marker": {
          "color": "rgb(0,116,217)"
         },
         "mode": "lines",
         "type": "scatter",
         "x": [
          0,
          1.4144770058556175,
          1.4144770058556175,
          1.3085694689062182
         ],
         "xaxis": "x",
         "y": [
          -16705,
          -16705,
          -16720,
          -16720
         ],
         "yaxis": "y"
        },
        {
         "hoverinfo": "text",
         "marker": {
          "color": "rgb(0,116,217)"
         },
         "mode": "lines",
         "type": "scatter",
         "x": [
          1.4196370758079586,
          1.5878790080942393,
          1.5878790080942393,
          1.4144770058556175
         ],
         "xaxis": "x",
         "y": [
          -16680,
          -16680,
          -16712.5,
          -16712.5
         ],
         "yaxis": "y"
        },
        {
         "hoverinfo": "text",
         "marker": {
          "color": "rgb(0,116,217)"
         },
         "mode": "lines",
         "type": "scatter",
         "x": [
          1.3996015197844012,
          1.6944674356091762,
          1.6944674356091762,
          1.5878790080942393
         ],
         "xaxis": "x",
         "y": [
          -16647.5,
          -16647.5,
          -16696.25,
          -16696.25
         ],
         "yaxis": "y"
        },
        {
         "hoverinfo": "text",
         "marker": {
          "color": "rgb(0,116,217)"
         },
         "mode": "lines",
         "type": "scatter",
         "x": [
          0,
          1.3468826334464978,
          1.3468826334464978,
          0
         ],
         "xaxis": "x",
         "y": [
          -16735,
          -16735,
          -16745,
          -16745
         ],
         "yaxis": "y"
        },
        {
         "hoverinfo": "text",
         "marker": {
          "color": "rgb(0,116,217)"
         },
         "mode": "lines",
         "type": "scatter",
         "x": [
          0,
          1.3645361050066318,
          1.3645361050066318,
          0
         ],
         "xaxis": "x",
         "y": [
          -16755,
          -16755,
          -16765,
          -16765
         ],
         "yaxis": "y"
        },
        {
         "hoverinfo": "text",
         "marker": {
          "color": "rgb(0,116,217)"
         },
         "mode": "lines",
         "type": "scatter",
         "x": [
          0,
          1.3591285412994225,
          1.3591285412994225,
          0
         ],
         "xaxis": "x",
         "y": [
          -16775,
          -16775,
          -16785,
          -16785
         ],
         "yaxis": "y"
        },
        {
         "hoverinfo": "text",
         "marker": {
          "color": "rgb(0,116,217)"
         },
         "mode": "lines",
         "type": "scatter",
         "x": [
          1.3591285412994225,
          1.4069984579120156,
          1.4069984579120156,
          0
         ],
         "xaxis": "x",
         "y": [
          -16780,
          -16780,
          -16795,
          -16795
         ],
         "yaxis": "y"
        },
        {
         "hoverinfo": "text",
         "marker": {
          "color": "rgb(0,116,217)"
         },
         "mode": "lines",
         "type": "scatter",
         "x": [
          1.3645361050066318,
          1.4917521689663096,
          1.4917521689663096,
          1.4069984579120156
         ],
         "xaxis": "x",
         "y": [
          -16760,
          -16760,
          -16787.5,
          -16787.5
         ],
         "yaxis": "y"
        },
        {
         "hoverinfo": "text",
         "marker": {
          "color": "rgb(0,116,217)"
         },
         "mode": "lines",
         "type": "scatter",
         "x": [
          1.3468826334464978,
          1.5273957050415876,
          1.5273957050415876,
          1.4917521689663096
         ],
         "xaxis": "x",
         "y": [
          -16740,
          -16740,
          -16773.75,
          -16773.75
         ],
         "yaxis": "y"
        },
        {
         "hoverinfo": "text",
         "marker": {
          "color": "rgb(0,116,217)"
         },
         "mode": "lines",
         "type": "scatter",
         "x": [
          0,
          1.3073291563154477,
          1.3073291563154477,
          0
         ],
         "xaxis": "x",
         "y": [
          -16805,
          -16805,
          -16815,
          -16815
         ],
         "yaxis": "y"
        },
        {
         "hoverinfo": "text",
         "marker": {
          "color": "rgb(0,116,217)"
         },
         "mode": "lines",
         "type": "scatter",
         "x": [
          0,
          1.287349429399055,
          1.287349429399055,
          0
         ],
         "xaxis": "x",
         "y": [
          -16825,
          -16825,
          -16835,
          -16835
         ],
         "yaxis": "y"
        },
        {
         "hoverinfo": "text",
         "marker": {
          "color": "rgb(0,116,217)"
         },
         "mode": "lines",
         "type": "scatter",
         "x": [
          1.3073291563154477,
          1.5304953152115344,
          1.5304953152115344,
          1.287349429399055
         ],
         "xaxis": "x",
         "y": [
          -16810,
          -16810,
          -16830,
          -16830
         ],
         "yaxis": "y"
        },
        {
         "hoverinfo": "text",
         "marker": {
          "color": "rgb(0,116,217)"
         },
         "mode": "lines",
         "type": "scatter",
         "x": [
          1.5273957050415876,
          1.6780767878005338,
          1.6780767878005338,
          1.5304953152115344
         ],
         "xaxis": "x",
         "y": [
          -16756.875,
          -16756.875,
          -16820,
          -16820
         ],
         "yaxis": "y"
        },
        {
         "hoverinfo": "text",
         "marker": {
          "color": "rgb(0,116,217)"
         },
         "mode": "lines",
         "type": "scatter",
         "x": [
          0,
          1.394533468330019,
          1.394533468330019,
          0
         ],
         "xaxis": "x",
         "y": [
          -16845,
          -16845,
          -16855,
          -16855
         ],
         "yaxis": "y"
        },
        {
         "hoverinfo": "text",
         "marker": {
          "color": "rgb(0,116,217)"
         },
         "mode": "lines",
         "type": "scatter",
         "x": [
          0,
          1.3061773093237918,
          1.3061773093237918,
          0
         ],
         "xaxis": "x",
         "y": [
          -16865,
          -16865,
          -16875,
          -16875
         ],
         "yaxis": "y"
        },
        {
         "hoverinfo": "text",
         "marker": {
          "color": "rgb(0,116,217)"
         },
         "mode": "lines",
         "type": "scatter",
         "x": [
          1.394533468330019,
          1.48155587082339,
          1.48155587082339,
          1.3061773093237918
         ],
         "xaxis": "x",
         "y": [
          -16850,
          -16850,
          -16870,
          -16870
         ],
         "yaxis": "y"
        },
        {
         "hoverinfo": "text",
         "marker": {
          "color": "rgb(0,116,217)"
         },
         "mode": "lines",
         "type": "scatter",
         "x": [
          0,
          1.2976662415165752,
          1.2976662415165752,
          0
         ],
         "xaxis": "x",
         "y": [
          -16885,
          -16885,
          -16895,
          -16895
         ],
         "yaxis": "y"
        },
        {
         "hoverinfo": "text",
         "marker": {
          "color": "rgb(0,116,217)"
         },
         "mode": "lines",
         "type": "scatter",
         "x": [
          1.48155587082339,
          1.5603628420016296,
          1.5603628420016296,
          1.2976662415165752
         ],
         "xaxis": "x",
         "y": [
          -16860,
          -16860,
          -16890,
          -16890
         ],
         "yaxis": "y"
        },
        {
         "hoverinfo": "text",
         "marker": {
          "color": "rgb(0,116,217)"
         },
         "mode": "lines",
         "type": "scatter",
         "x": [
          1.6780767878005338,
          1.7769726342897345,
          1.7769726342897345,
          1.5603628420016296
         ],
         "xaxis": "x",
         "y": [
          -16788.4375,
          -16788.4375,
          -16875,
          -16875
         ],
         "yaxis": "y"
        },
        {
         "hoverinfo": "text",
         "marker": {
          "color": "rgb(0,116,217)"
         },
         "mode": "lines",
         "type": "scatter",
         "x": [
          1.6944674356091762,
          1.8806228052279093,
          1.8806228052279093,
          1.7769726342897345
         ],
         "xaxis": "x",
         "y": [
          -16671.875,
          -16671.875,
          -16831.71875,
          -16831.71875
         ],
         "yaxis": "y"
        },
        {
         "hoverinfo": "text",
         "marker": {
          "color": "rgb(0,116,217)"
         },
         "mode": "lines",
         "type": "scatter",
         "x": [
          1.7385036147489146,
          1.9821442173206625,
          1.9821442173206625,
          1.8806228052279093
         ],
         "xaxis": "x",
         "y": [
          -16572.96875,
          -16572.96875,
          -16751.796875,
          -16751.796875
         ],
         "yaxis": "y"
        },
        {
         "hoverinfo": "text",
         "marker": {
          "color": "rgb(0,116,217)"
         },
         "mode": "lines",
         "type": "scatter",
         "x": [
          1.2435630362713388,
          2.1821683674198433,
          2.1821683674198433,
          1.9821442173206625
         ],
         "xaxis": "x",
         "y": [
          -16482.5,
          -16482.5,
          -16662.3828125,
          -16662.3828125
         ],
         "yaxis": "y"
        },
        {
         "hoverinfo": "text",
         "marker": {
          "color": "rgb(0,116,217)"
         },
         "mode": "lines",
         "type": "scatter",
         "x": [
          0,
          1.3070803070866297,
          1.3070803070866297,
          0
         ],
         "xaxis": "x",
         "y": [
          -16905,
          -16905,
          -16915,
          -16915
         ],
         "yaxis": "y"
        },
        {
         "hoverinfo": "text",
         "marker": {
          "color": "rgb(0,116,217)"
         },
         "mode": "lines",
         "type": "scatter",
         "x": [
          0,
          1.3717914635026236,
          1.3717914635026236,
          0
         ],
         "xaxis": "x",
         "y": [
          -16935,
          -16935,
          -16945,
          -16945
         ],
         "yaxis": "y"
        },
        {
         "hoverinfo": "text",
         "marker": {
          "color": "rgb(0,116,217)"
         },
         "mode": "lines",
         "type": "scatter",
         "x": [
          1.3717914635026236,
          1.3913881418565006,
          1.3913881418565006,
          0
         ],
         "xaxis": "x",
         "y": [
          -16940,
          -16940,
          -16955,
          -16955
         ],
         "yaxis": "y"
        },
        {
         "hoverinfo": "text",
         "marker": {
          "color": "rgb(0,116,217)"
         },
         "mode": "lines",
         "type": "scatter",
         "x": [
          0,
          1.4030218218642203,
          1.4030218218642203,
          1.3913881418565006
         ],
         "xaxis": "x",
         "y": [
          -16925,
          -16925,
          -16947.5,
          -16947.5
         ],
         "yaxis": "y"
        },
        {
         "hoverinfo": "text",
         "marker": {
          "color": "rgb(0,116,217)"
         },
         "mode": "lines",
         "type": "scatter",
         "x": [
          0,
          1.342078894959566,
          1.342078894959566,
          0
         ],
         "xaxis": "x",
         "y": [
          -16965,
          -16965,
          -16975,
          -16975
         ],
         "yaxis": "y"
        },
        {
         "hoverinfo": "text",
         "marker": {
          "color": "rgb(0,116,217)"
         },
         "mode": "lines",
         "type": "scatter",
         "x": [
          1.342078894959566,
          1.3850104935140135,
          1.3850104935140135,
          0
         ],
         "xaxis": "x",
         "y": [
          -16970,
          -16970,
          -16985,
          -16985
         ],
         "yaxis": "y"
        },
        {
         "hoverinfo": "text",
         "marker": {
          "color": "rgb(0,116,217)"
         },
         "mode": "lines",
         "type": "scatter",
         "x": [
          1.4030218218642203,
          1.5169454807972973,
          1.5169454807972973,
          1.3850104935140135
         ],
         "xaxis": "x",
         "y": [
          -16936.25,
          -16936.25,
          -16977.5,
          -16977.5
         ],
         "yaxis": "y"
        },
        {
         "hoverinfo": "text",
         "marker": {
          "color": "rgb(0,116,217)"
         },
         "mode": "lines",
         "type": "scatter",
         "x": [
          0,
          1.3978369927380943,
          1.3978369927380943,
          0
         ],
         "xaxis": "x",
         "y": [
          -17005,
          -17005,
          -17015,
          -17015
         ],
         "yaxis": "y"
        },
        {
         "hoverinfo": "text",
         "marker": {
          "color": "rgb(0,116,217)"
         },
         "mode": "lines",
         "type": "scatter",
         "x": [
          0,
          1.4263991471000907,
          1.4263991471000907,
          1.3978369927380943
         ],
         "xaxis": "x",
         "y": [
          -16995,
          -16995,
          -17010,
          -17010
         ],
         "yaxis": "y"
        },
        {
         "hoverinfo": "text",
         "marker": {
          "color": "rgb(0,116,217)"
         },
         "mode": "lines",
         "type": "scatter",
         "x": [
          0,
          1.3764185008842225,
          1.3764185008842225,
          0
         ],
         "xaxis": "x",
         "y": [
          -17035,
          -17035,
          -17045,
          -17045
         ],
         "yaxis": "y"
        },
        {
         "hoverinfo": "text",
         "marker": {
          "color": "rgb(0,116,217)"
         },
         "mode": "lines",
         "type": "scatter",
         "x": [
          0,
          1.3971070139262203,
          1.3971070139262203,
          1.3764185008842225
         ],
         "xaxis": "x",
         "y": [
          -17025,
          -17025,
          -17040,
          -17040
         ],
         "yaxis": "y"
        },
        {
         "hoverinfo": "text",
         "marker": {
          "color": "rgb(0,116,217)"
         },
         "mode": "lines",
         "type": "scatter",
         "x": [
          1.4263991471000907,
          1.4943150431313756,
          1.4943150431313756,
          1.3971070139262203
         ],
         "xaxis": "x",
         "y": [
          -17002.5,
          -17002.5,
          -17032.5,
          -17032.5
         ],
         "yaxis": "y"
        },
        {
         "hoverinfo": "text",
         "marker": {
          "color": "rgb(0,116,217)"
         },
         "mode": "lines",
         "type": "scatter",
         "x": [
          0,
          1.4284545507314572,
          1.4284545507314572,
          0
         ],
         "xaxis": "x",
         "y": [
          -17055,
          -17055,
          -17065,
          -17065
         ],
         "yaxis": "y"
        },
        {
         "hoverinfo": "text",
         "marker": {
          "color": "rgb(0,116,217)"
         },
         "mode": "lines",
         "type": "scatter",
         "x": [
          0,
          1.4096474866805797,
          1.4096474866805797,
          0
         ],
         "xaxis": "x",
         "y": [
          -17075,
          -17075,
          -17085,
          -17085
         ],
         "yaxis": "y"
        },
        {
         "hoverinfo": "text",
         "marker": {
          "color": "rgb(0,116,217)"
         },
         "mode": "lines",
         "type": "scatter",
         "x": [
          0,
          1.3793618554431673,
          1.3793618554431673,
          0
         ],
         "xaxis": "x",
         "y": [
          -17095,
          -17095,
          -17105,
          -17105
         ],
         "yaxis": "y"
        },
        {
         "hoverinfo": "text",
         "marker": {
          "color": "rgb(0,116,217)"
         },
         "mode": "lines",
         "type": "scatter",
         "x": [
          1.4096474866805797,
          1.4343440215823497,
          1.4343440215823497,
          1.3793618554431673
         ],
         "xaxis": "x",
         "y": [
          -17080,
          -17080,
          -17100,
          -17100
         ],
         "yaxis": "y"
        },
        {
         "hoverinfo": "text",
         "marker": {
          "color": "rgb(0,116,217)"
         },
         "mode": "lines",
         "type": "scatter",
         "x": [
          1.4284545507314572,
          1.490262486258094,
          1.490262486258094,
          1.4343440215823497
         ],
         "xaxis": "x",
         "y": [
          -17060,
          -17060,
          -17090,
          -17090
         ],
         "yaxis": "y"
        },
        {
         "hoverinfo": "text",
         "marker": {
          "color": "rgb(0,116,217)"
         },
         "mode": "lines",
         "type": "scatter",
         "x": [
          1.4943150431313756,
          1.5419727796989438,
          1.5419727796989438,
          1.490262486258094
         ],
         "xaxis": "x",
         "y": [
          -17017.5,
          -17017.5,
          -17075,
          -17075
         ],
         "yaxis": "y"
        },
        {
         "hoverinfo": "text",
         "marker": {
          "color": "rgb(0,116,217)"
         },
         "mode": "lines",
         "type": "scatter",
         "x": [
          1.5169454807972973,
          1.6100578254778184,
          1.6100578254778184,
          1.5419727796989438
         ],
         "xaxis": "x",
         "y": [
          -16956.875,
          -16956.875,
          -17046.25,
          -17046.25
         ],
         "yaxis": "y"
        },
        {
         "hoverinfo": "text",
         "marker": {
          "color": "rgb(0,116,217)"
         },
         "mode": "lines",
         "type": "scatter",
         "x": [
          1.3070803070866297,
          1.6784740418871371,
          1.6784740418871371,
          1.6100578254778184
         ],
         "xaxis": "x",
         "y": [
          -16910,
          -16910,
          -17001.5625,
          -17001.5625
         ],
         "yaxis": "y"
        },
        {
         "hoverinfo": "text",
         "marker": {
          "color": "rgb(0,116,217)"
         },
         "mode": "lines",
         "type": "scatter",
         "x": [
          0,
          1.2519974159396197,
          1.2519974159396197,
          0
         ],
         "xaxis": "x",
         "y": [
          -17125,
          -17125,
          -17135,
          -17135
         ],
         "yaxis": "y"
        },
        {
         "hoverinfo": "text",
         "marker": {
          "color": "rgb(0,116,217)"
         },
         "mode": "lines",
         "type": "scatter",
         "x": [
          0,
          1.313598341304475,
          1.313598341304475,
          1.2519974159396197
         ],
         "xaxis": "x",
         "y": [
          -17115,
          -17115,
          -17130,
          -17130
         ],
         "yaxis": "y"
        },
        {
         "hoverinfo": "text",
         "marker": {
          "color": "rgb(0,116,217)"
         },
         "mode": "lines",
         "type": "scatter",
         "x": [
          0,
          1.2927777306239778,
          1.2927777306239778,
          0
         ],
         "xaxis": "x",
         "y": [
          -17145,
          -17145,
          -17155,
          -17155
         ],
         "yaxis": "y"
        },
        {
         "hoverinfo": "text",
         "marker": {
          "color": "rgb(0,116,217)"
         },
         "mode": "lines",
         "type": "scatter",
         "x": [
          1.313598341304475,
          1.3858016525657293,
          1.3858016525657293,
          1.2927777306239778
         ],
         "xaxis": "x",
         "y": [
          -17122.5,
          -17122.5,
          -17150,
          -17150
         ],
         "yaxis": "y"
        },
        {
         "hoverinfo": "text",
         "marker": {
          "color": "rgb(0,116,217)"
         },
         "mode": "lines",
         "type": "scatter",
         "x": [
          1.6784740418871371,
          1.9434755534054142,
          1.9434755534054142,
          1.3858016525657293
         ],
         "xaxis": "x",
         "y": [
          -16955.78125,
          -16955.78125,
          -17136.25,
          -17136.25
         ],
         "yaxis": "y"
        },
        {
         "hoverinfo": "text",
         "marker": {
          "color": "rgb(0,116,217)"
         },
         "mode": "lines",
         "type": "scatter",
         "x": [
          2.1821683674198433,
          2.306695335739275,
          2.306695335739275,
          1.9434755534054142
         ],
         "xaxis": "x",
         "y": [
          -16572.44140625,
          -16572.44140625,
          -17046.015625,
          -17046.015625
         ],
         "yaxis": "y"
        },
        {
         "hoverinfo": "text",
         "marker": {
          "color": "rgb(0,116,217)"
         },
         "mode": "lines",
         "type": "scatter",
         "x": [
          1.9252493211351163,
          2.5552134209097384,
          2.5552134209097384,
          2.306695335739275
         ],
         "xaxis": "x",
         "y": [
          -16403.75,
          -16403.75,
          -16809.228515625,
          -16809.228515625
         ],
         "yaxis": "y"
        },
        {
         "hoverinfo": "text",
         "marker": {
          "color": "rgb(0,116,217)"
         },
         "mode": "lines",
         "type": "scatter",
         "x": [
          0,
          1.2921075193778302,
          1.2921075193778302,
          0
         ],
         "xaxis": "x",
         "y": [
          -17175,
          -17175,
          -17185,
          -17185
         ],
         "yaxis": "y"
        },
        {
         "hoverinfo": "text",
         "marker": {
          "color": "rgb(0,116,217)"
         },
         "mode": "lines",
         "type": "scatter",
         "x": [
          0,
          1.3926690130790917,
          1.3926690130790917,
          1.2921075193778302
         ],
         "xaxis": "x",
         "y": [
          -17165,
          -17165,
          -17180,
          -17180
         ],
         "yaxis": "y"
        },
        {
         "hoverinfo": "text",
         "marker": {
          "color": "rgb(0,116,217)"
         },
         "mode": "lines",
         "type": "scatter",
         "x": [
          0,
          1.2825888057595514,
          1.2825888057595514,
          0
         ],
         "xaxis": "x",
         "y": [
          -17205,
          -17205,
          -17215,
          -17215
         ],
         "yaxis": "y"
        },
        {
         "hoverinfo": "text",
         "marker": {
          "color": "rgb(0,116,217)"
         },
         "mode": "lines",
         "type": "scatter",
         "x": [
          0,
          1.3245081857993637,
          1.3245081857993637,
          1.2825888057595514
         ],
         "xaxis": "x",
         "y": [
          -17195,
          -17195,
          -17210,
          -17210
         ],
         "yaxis": "y"
        },
        {
         "hoverinfo": "text",
         "marker": {
          "color": "rgb(0,116,217)"
         },
         "mode": "lines",
         "type": "scatter",
         "x": [
          1.3245081857993637,
          1.3437901612118444,
          1.3437901612118444,
          0
         ],
         "xaxis": "x",
         "y": [
          -17202.5,
          -17202.5,
          -17225,
          -17225
         ],
         "yaxis": "y"
        },
        {
         "hoverinfo": "text",
         "marker": {
          "color": "rgb(0,116,217)"
         },
         "mode": "lines",
         "type": "scatter",
         "x": [
          1.3926690130790917,
          1.4420860022095625,
          1.4420860022095625,
          1.3437901612118444
         ],
         "xaxis": "x",
         "y": [
          -17172.5,
          -17172.5,
          -17213.75,
          -17213.75
         ],
         "yaxis": "y"
        },
        {
         "hoverinfo": "text",
         "marker": {
          "color": "rgb(0,116,217)"
         },
         "mode": "lines",
         "type": "scatter",
         "x": [
          0,
          1.329149376707704,
          1.329149376707704,
          0
         ],
         "xaxis": "x",
         "y": [
          -17245,
          -17245,
          -17255,
          -17255
         ],
         "yaxis": "y"
        },
        {
         "hoverinfo": "text",
         "marker": {
          "color": "rgb(0,116,217)"
         },
         "mode": "lines",
         "type": "scatter",
         "x": [
          0,
          1.36839422894183,
          1.36839422894183,
          1.329149376707704
         ],
         "xaxis": "x",
         "y": [
          -17235,
          -17235,
          -17250,
          -17250
         ],
         "yaxis": "y"
        },
        {
         "hoverinfo": "text",
         "marker": {
          "color": "rgb(0,116,217)"
         },
         "mode": "lines",
         "type": "scatter",
         "x": [
          1.4420860022095625,
          1.5839817124614604,
          1.5839817124614604,
          1.36839422894183
         ],
         "xaxis": "x",
         "y": [
          -17193.125,
          -17193.125,
          -17242.5,
          -17242.5
         ],
         "yaxis": "y"
        },
        {
         "hoverinfo": "text",
         "marker": {
          "color": "rgb(0,116,217)"
         },
         "mode": "lines",
         "type": "scatter",
         "x": [
          0,
          1.3497850565901235,
          1.3497850565901235,
          0
         ],
         "xaxis": "x",
         "y": [
          -17265,
          -17265,
          -17275,
          -17275
         ],
         "yaxis": "y"
        },
        {
         "hoverinfo": "text",
         "marker": {
          "color": "rgb(0,116,217)"
         },
         "mode": "lines",
         "type": "scatter",
         "x": [
          0,
          1.3249351329250696,
          1.3249351329250696,
          0
         ],
         "xaxis": "x",
         "y": [
          -17285,
          -17285,
          -17295,
          -17295
         ],
         "yaxis": "y"
        },
        {
         "hoverinfo": "text",
         "marker": {
          "color": "rgb(0,116,217)"
         },
         "mode": "lines",
         "type": "scatter",
         "x": [
          1.3497850565901235,
          1.3909581218964695,
          1.3909581218964695,
          1.3249351329250696
         ],
         "xaxis": "x",
         "y": [
          -17270,
          -17270,
          -17290,
          -17290
         ],
         "yaxis": "y"
        },
        {
         "hoverinfo": "text",
         "marker": {
          "color": "rgb(0,116,217)"
         },
         "mode": "lines",
         "type": "scatter",
         "x": [
          0,
          1.315711733249872,
          1.315711733249872,
          0
         ],
         "xaxis": "x",
         "y": [
          -17305,
          -17305,
          -17315,
          -17315
         ],
         "yaxis": "y"
        },
        {
         "hoverinfo": "text",
         "marker": {
          "color": "rgb(0,116,217)"
         },
         "mode": "lines",
         "type": "scatter",
         "x": [
          1.3909581218964695,
          1.5885280779747388,
          1.5885280779747388,
          1.315711733249872
         ],
         "xaxis": "x",
         "y": [
          -17280,
          -17280,
          -17310,
          -17310
         ],
         "yaxis": "y"
        },
        {
         "hoverinfo": "text",
         "marker": {
          "color": "rgb(0,116,217)"
         },
         "mode": "lines",
         "type": "scatter",
         "x": [
          0,
          1.3734286964680542,
          1.3734286964680542,
          0
         ],
         "xaxis": "x",
         "y": [
          -17335,
          -17335,
          -17345,
          -17345
         ],
         "yaxis": "y"
        },
        {
         "hoverinfo": "text",
         "marker": {
          "color": "rgb(0,116,217)"
         },
         "mode": "lines",
         "type": "scatter",
         "x": [
          1.3734286964680542,
          1.4016748522805702,
          1.4016748522805702,
          0
         ],
         "xaxis": "x",
         "y": [
          -17340,
          -17340,
          -17355,
          -17355
         ],
         "yaxis": "y"
        },
        {
         "hoverinfo": "text",
         "marker": {
          "color": "rgb(0,116,217)"
         },
         "mode": "lines",
         "type": "scatter",
         "x": [
          0,
          1.4083848537246666,
          1.4083848537246666,
          1.4016748522805702
         ],
         "xaxis": "x",
         "y": [
          -17325,
          -17325,
          -17347.5,
          -17347.5
         ],
         "yaxis": "y"
        },
        {
         "hoverinfo": "text",
         "marker": {
          "color": "rgb(0,116,217)"
         },
         "mode": "lines",
         "type": "scatter",
         "x": [
          0,
          1.4185890540540884,
          1.4185890540540884,
          0
         ],
         "xaxis": "x",
         "y": [
          -17365,
          -17365,
          -17375,
          -17375
         ],
         "yaxis": "y"
        },
        {
         "hoverinfo": "text",
         "marker": {
          "color": "rgb(0,116,217)"
         },
         "mode": "lines",
         "type": "scatter",
         "x": [
          1.4083848537246666,
          1.486434874438992,
          1.486434874438992,
          1.4185890540540884
         ],
         "xaxis": "x",
         "y": [
          -17336.25,
          -17336.25,
          -17370,
          -17370
         ],
         "yaxis": "y"
        },
        {
         "hoverinfo": "text",
         "marker": {
          "color": "rgb(0,116,217)"
         },
         "mode": "lines",
         "type": "scatter",
         "x": [
          0,
          1.424255510245432,
          1.424255510245432,
          0
         ],
         "xaxis": "x",
         "y": [
          -17385,
          -17385,
          -17395,
          -17395
         ],
         "yaxis": "y"
        },
        {
         "hoverinfo": "text",
         "marker": {
          "color": "rgb(0,116,217)"
         },
         "mode": "lines",
         "type": "scatter",
         "x": [
          1.424255510245432,
          1.4337366070187896,
          1.4337366070187896,
          0
         ],
         "xaxis": "x",
         "y": [
          -17390,
          -17390,
          -17405,
          -17405
         ],
         "yaxis": "y"
        },
        {
         "hoverinfo": "text",
         "marker": {
          "color": "rgb(0,116,217)"
         },
         "mode": "lines",
         "type": "scatter",
         "x": [
          1.486434874438992,
          1.6007797809111388,
          1.6007797809111388,
          1.4337366070187896
         ],
         "xaxis": "x",
         "y": [
          -17353.125,
          -17353.125,
          -17397.5,
          -17397.5
         ],
         "yaxis": "y"
        },
        {
         "hoverinfo": "text",
         "marker": {
          "color": "rgb(0,116,217)"
         },
         "mode": "lines",
         "type": "scatter",
         "x": [
          1.5885280779747388,
          1.7305316502221595,
          1.7305316502221595,
          1.6007797809111388
         ],
         "xaxis": "x",
         "y": [
          -17295,
          -17295,
          -17375.3125,
          -17375.3125
         ],
         "yaxis": "y"
        },
        {
         "hoverinfo": "text",
         "marker": {
          "color": "rgb(0,116,217)"
         },
         "mode": "lines",
         "type": "scatter",
         "x": [
          0,
          1.2854935121256001,
          1.2854935121256001,
          0
         ],
         "xaxis": "x",
         "y": [
          -17415,
          -17415,
          -17425,
          -17425
         ],
         "yaxis": "y"
        },
        {
         "hoverinfo": "text",
         "marker": {
          "color": "rgb(0,116,217)"
         },
         "mode": "lines",
         "type": "scatter",
         "x": [
          0,
          1.2571705820299315,
          1.2571705820299315,
          0
         ],
         "xaxis": "x",
         "y": [
          -17435,
          -17435,
          -17445,
          -17445
         ],
         "yaxis": "y"
        },
        {
         "hoverinfo": "text",
         "marker": {
          "color": "rgb(0,116,217)"
         },
         "mode": "lines",
         "type": "scatter",
         "x": [
          0,
          1.2780584406851494,
          1.2780584406851494,
          0
         ],
         "xaxis": "x",
         "y": [
          -17455,
          -17455,
          -17465,
          -17465
         ],
         "yaxis": "y"
        },
        {
         "hoverinfo": "text",
         "marker": {
          "color": "rgb(0,116,217)"
         },
         "mode": "lines",
         "type": "scatter",
         "x": [
          1.2571705820299315,
          1.407761137332371,
          1.407761137332371,
          1.2780584406851494
         ],
         "xaxis": "x",
         "y": [
          -17440,
          -17440,
          -17460,
          -17460
         ],
         "yaxis": "y"
        },
        {
         "hoverinfo": "text",
         "marker": {
          "color": "rgb(0,116,217)"
         },
         "mode": "lines",
         "type": "scatter",
         "x": [
          1.2854935121256001,
          1.5235755305647383,
          1.5235755305647383,
          1.407761137332371
         ],
         "xaxis": "x",
         "y": [
          -17420,
          -17420,
          -17450,
          -17450
         ],
         "yaxis": "y"
        },
        {
         "hoverinfo": "text",
         "marker": {
          "color": "rgb(0,116,217)"
         },
         "mode": "lines",
         "type": "scatter",
         "x": [
          0,
          1.286879988319289,
          1.286879988319289,
          0
         ],
         "xaxis": "x",
         "y": [
          -17475,
          -17475,
          -17485,
          -17485
         ],
         "yaxis": "y"
        },
        {
         "hoverinfo": "text",
         "marker": {
          "color": "rgb(0,116,217)"
         },
         "mode": "lines",
         "type": "scatter",
         "x": [
          1.286879988319289,
          1.3850767641816422,
          1.3850767641816422,
          0
         ],
         "xaxis": "x",
         "y": [
          -17480,
          -17480,
          -17495,
          -17495
         ],
         "yaxis": "y"
        },
        {
         "hoverinfo": "text",
         "marker": {
          "color": "rgb(0,116,217)"
         },
         "mode": "lines",
         "type": "scatter",
         "x": [
          1.5235755305647383,
          1.6346988681095092,
          1.6346988681095092,
          1.3850767641816422
         ],
         "xaxis": "x",
         "y": [
          -17435,
          -17435,
          -17487.5,
          -17487.5
         ],
         "yaxis": "y"
        },
        {
         "hoverinfo": "text",
         "marker": {
          "color": "rgb(0,116,217)"
         },
         "mode": "lines",
         "type": "scatter",
         "x": [
          1.7305316502221595,
          2.1063939743319615,
          2.1063939743319615,
          1.6346988681095092
         ],
         "xaxis": "x",
         "y": [
          -17335.15625,
          -17335.15625,
          -17461.25,
          -17461.25
         ],
         "yaxis": "y"
        },
        {
         "hoverinfo": "text",
         "marker": {
          "color": "rgb(0,116,217)"
         },
         "mode": "lines",
         "type": "scatter",
         "x": [
          1.5839817124614604,
          2.5347354777158766,
          2.5347354777158766,
          2.1063939743319615
         ],
         "xaxis": "x",
         "y": [
          -17217.8125,
          -17217.8125,
          -17398.203125,
          -17398.203125
         ],
         "yaxis": "y"
        },
        {
         "hoverinfo": "text",
         "marker": {
          "color": "rgb(0,116,217)"
         },
         "mode": "lines",
         "type": "scatter",
         "x": [
          0,
          1.4003901006222776,
          1.4003901006222776,
          0
         ],
         "xaxis": "x",
         "y": [
          -17505,
          -17505,
          -17515,
          -17515
         ],
         "yaxis": "y"
        },
        {
         "hoverinfo": "text",
         "marker": {
          "color": "rgb(0,116,217)"
         },
         "mode": "lines",
         "type": "scatter",
         "x": [
          1.4003901006222776,
          1.4180201242944486,
          1.4180201242944486,
          0
         ],
         "xaxis": "x",
         "y": [
          -17510,
          -17510,
          -17525,
          -17525
         ],
         "yaxis": "y"
        },
        {
         "hoverinfo": "text",
         "marker": {
          "color": "rgb(0,116,217)"
         },
         "mode": "lines",
         "type": "scatter",
         "x": [
          0,
          1.2673197641621066,
          1.2673197641621066,
          0
         ],
         "xaxis": "x",
         "y": [
          -17535,
          -17535,
          -17545,
          -17545
         ],
         "yaxis": "y"
        },
        {
         "hoverinfo": "text",
         "marker": {
          "color": "rgb(0,116,217)"
         },
         "mode": "lines",
         "type": "scatter",
         "x": [
          1.2673197641621066,
          1.4120982676768221,
          1.4120982676768221,
          0
         ],
         "xaxis": "x",
         "y": [
          -17540,
          -17540,
          -17555,
          -17555
         ],
         "yaxis": "y"
        },
        {
         "hoverinfo": "text",
         "marker": {
          "color": "rgb(0,116,217)"
         },
         "mode": "lines",
         "type": "scatter",
         "x": [
          1.4180201242944486,
          1.5524021428692105,
          1.5524021428692105,
          1.4120982676768221
         ],
         "xaxis": "x",
         "y": [
          -17517.5,
          -17517.5,
          -17547.5,
          -17547.5
         ],
         "yaxis": "y"
        },
        {
         "hoverinfo": "text",
         "marker": {
          "color": "rgb(0,116,217)"
         },
         "mode": "lines",
         "type": "scatter",
         "x": [
          0,
          1.3458694219498444,
          1.3458694219498444,
          0
         ],
         "xaxis": "x",
         "y": [
          -17565,
          -17565,
          -17575,
          -17575
         ],
         "yaxis": "y"
        },
        {
         "hoverinfo": "text",
         "marker": {
          "color": "rgb(0,116,217)"
         },
         "mode": "lines",
         "type": "scatter",
         "x": [
          0,
          1.3518936112338797,
          1.3518936112338797,
          0
         ],
         "xaxis": "x",
         "y": [
          -17585,
          -17585,
          -17595,
          -17595
         ],
         "yaxis": "y"
        },
        {
         "hoverinfo": "text",
         "marker": {
          "color": "rgb(0,116,217)"
         },
         "mode": "lines",
         "type": "scatter",
         "x": [
          1.3458694219498444,
          1.4690212700234828,
          1.4690212700234828,
          1.3518936112338797
         ],
         "xaxis": "x",
         "y": [
          -17570,
          -17570,
          -17590,
          -17590
         ],
         "yaxis": "y"
        },
        {
         "hoverinfo": "text",
         "marker": {
          "color": "rgb(0,116,217)"
         },
         "mode": "lines",
         "type": "scatter",
         "x": [
          0,
          1.432235179966057,
          1.432235179966057,
          0
         ],
         "xaxis": "x",
         "y": [
          -17605,
          -17605,
          -17615,
          -17615
         ],
         "yaxis": "y"
        },
        {
         "hoverinfo": "text",
         "marker": {
          "color": "rgb(0,116,217)"
         },
         "mode": "lines",
         "type": "scatter",
         "x": [
          0,
          1.290248074826879,
          1.290248074826879,
          0
         ],
         "xaxis": "x",
         "y": [
          -17625,
          -17625,
          -17635,
          -17635
         ],
         "yaxis": "y"
        },
        {
         "hoverinfo": "text",
         "marker": {
          "color": "rgb(0,116,217)"
         },
         "mode": "lines",
         "type": "scatter",
         "x": [
          1.432235179966057,
          1.5114759763899248,
          1.5114759763899248,
          1.290248074826879
         ],
         "xaxis": "x",
         "y": [
          -17610,
          -17610,
          -17630,
          -17630
         ],
         "yaxis": "y"
        },
        {
         "hoverinfo": "text",
         "marker": {
          "color": "rgb(0,116,217)"
         },
         "mode": "lines",
         "type": "scatter",
         "x": [
          1.4690212700234828,
          1.597657392062495,
          1.597657392062495,
          1.5114759763899248
         ],
         "xaxis": "x",
         "y": [
          -17580,
          -17580,
          -17620,
          -17620
         ],
         "yaxis": "y"
        },
        {
         "hoverinfo": "text",
         "marker": {
          "color": "rgb(0,116,217)"
         },
         "mode": "lines",
         "type": "scatter",
         "x": [
          1.5524021428692105,
          1.7404444353637787,
          1.7404444353637787,
          1.597657392062495
         ],
         "xaxis": "x",
         "y": [
          -17532.5,
          -17532.5,
          -17600,
          -17600
         ],
         "yaxis": "y"
        },
        {
         "hoverinfo": "text",
         "marker": {
          "color": "rgb(0,116,217)"
         },
         "mode": "lines",
         "type": "scatter",
         "x": [
          0,
          1.2964444948846956,
          1.2964444948846956,
          0
         ],
         "xaxis": "x",
         "y": [
          -17655,
          -17655,
          -17665,
          -17665
         ],
         "yaxis": "y"
        },
        {
         "hoverinfo": "text",
         "marker": {
          "color": "rgb(0,116,217)"
         },
         "mode": "lines",
         "type": "scatter",
         "x": [
          0,
          1.367240901978094,
          1.367240901978094,
          1.2964444948846956
         ],
         "xaxis": "x",
         "y": [
          -17645,
          -17645,
          -17660,
          -17660
         ],
         "yaxis": "y"
        },
        {
         "hoverinfo": "text",
         "marker": {
          "color": "rgb(0,116,217)"
         },
         "mode": "lines",
         "type": "scatter",
         "x": [
          0,
          1.0866780566257737,
          1.0866780566257737,
          0
         ],
         "xaxis": "x",
         "y": [
          -17675,
          -17675,
          -17685,
          -17685
         ],
         "yaxis": "y"
        },
        {
         "hoverinfo": "text",
         "marker": {
          "color": "rgb(0,116,217)"
         },
         "mode": "lines",
         "type": "scatter",
         "x": [
          0,
          1.4246914963332713,
          1.4246914963332713,
          0
         ],
         "xaxis": "x",
         "y": [
          -17695,
          -17695,
          -17705,
          -17705
         ],
         "yaxis": "y"
        },
        {
         "hoverinfo": "text",
         "marker": {
          "color": "rgb(0,116,217)"
         },
         "mode": "lines",
         "type": "scatter",
         "x": [
          1.0866780566257737,
          1.5020529900167343,
          1.5020529900167343,
          1.4246914963332713
         ],
         "xaxis": "x",
         "y": [
          -17680,
          -17680,
          -17700,
          -17700
         ],
         "yaxis": "y"
        },
        {
         "hoverinfo": "text",
         "marker": {
          "color": "rgb(0,116,217)"
         },
         "mode": "lines",
         "type": "scatter",
         "x": [
          1.367240901978094,
          1.68318031955063,
          1.68318031955063,
          1.5020529900167343
         ],
         "xaxis": "x",
         "y": [
          -17652.5,
          -17652.5,
          -17690,
          -17690
         ],
         "yaxis": "y"
        },
        {
         "hoverinfo": "text",
         "marker": {
          "color": "rgb(0,116,217)"
         },
         "mode": "lines",
         "type": "scatter",
         "x": [
          1.7404444353637787,
          1.9959102626079814,
          1.9959102626079814,
          1.68318031955063
         ],
         "xaxis": "x",
         "y": [
          -17566.25,
          -17566.25,
          -17671.25,
          -17671.25
         ],
         "yaxis": "y"
        },
        {
         "hoverinfo": "text",
         "marker": {
          "color": "rgb(0,116,217)"
         },
         "mode": "lines",
         "type": "scatter",
         "x": [
          0,
          1.2907399947993494,
          1.2907399947993494,
          0
         ],
         "xaxis": "x",
         "y": [
          -17715,
          -17715,
          -17725,
          -17725
         ],
         "yaxis": "y"
        },
        {
         "hoverinfo": "text",
         "marker": {
          "color": "rgb(0,116,217)"
         },
         "mode": "lines",
         "type": "scatter",
         "x": [
          0,
          1.4163359146269514,
          1.4163359146269514,
          0
         ],
         "xaxis": "x",
         "y": [
          -17735,
          -17735,
          -17745,
          -17745
         ],
         "yaxis": "y"
        },
        {
         "hoverinfo": "text",
         "marker": {
          "color": "rgb(0,116,217)"
         },
         "mode": "lines",
         "type": "scatter",
         "x": [
          0,
          1.39573138940137,
          1.39573138940137,
          0
         ],
         "xaxis": "x",
         "y": [
          -17765,
          -17765,
          -17775,
          -17775
         ],
         "yaxis": "y"
        },
        {
         "hoverinfo": "text",
         "marker": {
          "color": "rgb(0,116,217)"
         },
         "mode": "lines",
         "type": "scatter",
         "x": [
          0,
          1.4567523404361327,
          1.4567523404361327,
          1.39573138940137
         ],
         "xaxis": "x",
         "y": [
          -17755,
          -17755,
          -17770,
          -17770
         ],
         "yaxis": "y"
        },
        {
         "hoverinfo": "text",
         "marker": {
          "color": "rgb(0,116,217)"
         },
         "mode": "lines",
         "type": "scatter",
         "x": [
          0,
          1.3909453540318875,
          1.3909453540318875,
          0
         ],
         "xaxis": "x",
         "y": [
          -17785,
          -17785,
          -17795,
          -17795
         ],
         "yaxis": "y"
        },
        {
         "hoverinfo": "text",
         "marker": {
          "color": "rgb(0,116,217)"
         },
         "mode": "lines",
         "type": "scatter",
         "x": [
          1.4567523404361327,
          1.4890225786763462,
          1.4890225786763462,
          1.3909453540318875
         ],
         "xaxis": "x",
         "y": [
          -17762.5,
          -17762.5,
          -17790,
          -17790
         ],
         "yaxis": "y"
        },
        {
         "hoverinfo": "text",
         "marker": {
          "color": "rgb(0,116,217)"
         },
         "mode": "lines",
         "type": "scatter",
         "x": [
          1.4163359146269514,
          1.504267254237876,
          1.504267254237876,
          1.4890225786763462
         ],
         "xaxis": "x",
         "y": [
          -17740,
          -17740,
          -17776.25,
          -17776.25
         ],
         "yaxis": "y"
        },
        {
         "hoverinfo": "text",
         "marker": {
          "color": "rgb(0,116,217)"
         },
         "mode": "lines",
         "type": "scatter",
         "x": [
          1.2907399947993494,
          1.6292870866619493,
          1.6292870866619493,
          1.504267254237876
         ],
         "xaxis": "x",
         "y": [
          -17720,
          -17720,
          -17758.125,
          -17758.125
         ],
         "yaxis": "y"
        },
        {
         "hoverinfo": "text",
         "marker": {
          "color": "rgb(0,116,217)"
         },
         "mode": "lines",
         "type": "scatter",
         "x": [
          0,
          1.1778601788825005,
          1.1778601788825005,
          0
         ],
         "xaxis": "x",
         "y": [
          -17805,
          -17805,
          -17815,
          -17815
         ],
         "yaxis": "y"
        },
        {
         "hoverinfo": "text",
         "marker": {
          "color": "rgb(0,116,217)"
         },
         "mode": "lines",
         "type": "scatter",
         "x": [
          0,
          1.3705529058256491,
          1.3705529058256491,
          0
         ],
         "xaxis": "x",
         "y": [
          -17825,
          -17825,
          -17835,
          -17835
         ],
         "yaxis": "y"
        },
        {
         "hoverinfo": "text",
         "marker": {
          "color": "rgb(0,116,217)"
         },
         "mode": "lines",
         "type": "scatter",
         "x": [
          1.1778601788825005,
          1.6074266133794766,
          1.6074266133794766,
          1.3705529058256491
         ],
         "xaxis": "x",
         "y": [
          -17810,
          -17810,
          -17830,
          -17830
         ],
         "yaxis": "y"
        },
        {
         "hoverinfo": "text",
         "marker": {
          "color": "rgb(0,116,217)"
         },
         "mode": "lines",
         "type": "scatter",
         "x": [
          1.6292870866619493,
          1.7047076274342932,
          1.7047076274342932,
          1.6074266133794766
         ],
         "xaxis": "x",
         "y": [
          -17739.0625,
          -17739.0625,
          -17820,
          -17820
         ],
         "yaxis": "y"
        },
        {
         "hoverinfo": "text",
         "marker": {
          "color": "rgb(0,116,217)"
         },
         "mode": "lines",
         "type": "scatter",
         "x": [
          1.9959102626079814,
          2.104609848638421,
          2.104609848638421,
          1.7047076274342932
         ],
         "xaxis": "x",
         "y": [
          -17618.75,
          -17618.75,
          -17779.53125,
          -17779.53125
         ],
         "yaxis": "y"
        },
        {
         "hoverinfo": "text",
         "marker": {
          "color": "rgb(0,116,217)"
         },
         "mode": "lines",
         "type": "scatter",
         "x": [
          2.5347354777158766,
          3.1106851369213304,
          3.1106851369213304,
          2.104609848638421
         ],
         "xaxis": "x",
         "y": [
          -17308.0078125,
          -17308.0078125,
          -17699.140625,
          -17699.140625
         ],
         "yaxis": "y"
        },
        {
         "hoverinfo": "text",
         "marker": {
          "color": "rgb(0,116,217)"
         },
         "mode": "lines",
         "type": "scatter",
         "x": [
          2.5552134209097384,
          3.3373225399320594,
          3.3373225399320594,
          3.1106851369213304
         ],
         "xaxis": "x",
         "y": [
          -16606.4892578125,
          -16606.4892578125,
          -17503.57421875,
          -17503.57421875
         ],
         "yaxis": "y"
        },
        {
         "hoverinfo": "text",
         "marker": {
          "color": "rgb(0,116,217)"
         },
         "mode": "lines",
         "type": "scatter",
         "x": [
          0,
          1.296269447020444,
          1.296269447020444,
          0
         ],
         "xaxis": "x",
         "y": [
          -17845,
          -17845,
          -17855,
          -17855
         ],
         "yaxis": "y"
        },
        {
         "hoverinfo": "text",
         "marker": {
          "color": "rgb(0,116,217)"
         },
         "mode": "lines",
         "type": "scatter",
         "x": [
          1.296269447020444,
          1.320125498266518,
          1.320125498266518,
          0
         ],
         "xaxis": "x",
         "y": [
          -17850,
          -17850,
          -17865,
          -17865
         ],
         "yaxis": "y"
        },
        {
         "hoverinfo": "text",
         "marker": {
          "color": "rgb(0,116,217)"
         },
         "mode": "lines",
         "type": "scatter",
         "x": [
          0,
          1.0527408574502277,
          1.0527408574502277,
          0
         ],
         "xaxis": "x",
         "y": [
          -17875,
          -17875,
          -17885,
          -17885
         ],
         "yaxis": "y"
        },
        {
         "hoverinfo": "text",
         "marker": {
          "color": "rgb(0,116,217)"
         },
         "mode": "lines",
         "type": "scatter",
         "x": [
          1.0527408574502277,
          1.2486451459607502,
          1.2486451459607502,
          0
         ],
         "xaxis": "x",
         "y": [
          -17880,
          -17880,
          -17895,
          -17895
         ],
         "yaxis": "y"
        },
        {
         "hoverinfo": "text",
         "marker": {
          "color": "rgb(0,116,217)"
         },
         "mode": "lines",
         "type": "scatter",
         "x": [
          1.2486451459607502,
          1.3273316052245223,
          1.3273316052245223,
          0
         ],
         "xaxis": "x",
         "y": [
          -17887.5,
          -17887.5,
          -17905,
          -17905
         ],
         "yaxis": "y"
        },
        {
         "hoverinfo": "text",
         "marker": {
          "color": "rgb(0,116,217)"
         },
         "mode": "lines",
         "type": "scatter",
         "x": [
          1.320125498266518,
          1.5853995402639787,
          1.5853995402639787,
          1.3273316052245223
         ],
         "xaxis": "x",
         "y": [
          -17857.5,
          -17857.5,
          -17896.25,
          -17896.25
         ],
         "yaxis": "y"
        },
        {
         "hoverinfo": "text",
         "marker": {
          "color": "rgb(0,116,217)"
         },
         "mode": "lines",
         "type": "scatter",
         "x": [
          0,
          1.3243314708325993,
          1.3243314708325993,
          0
         ],
         "xaxis": "x",
         "y": [
          -17925,
          -17925,
          -17935,
          -17935
         ],
         "yaxis": "y"
        },
        {
         "hoverinfo": "text",
         "marker": {
          "color": "rgb(0,116,217)"
         },
         "mode": "lines",
         "type": "scatter",
         "x": [
          0,
          1.495114704314044,
          1.495114704314044,
          1.3243314708325993
         ],
         "xaxis": "x",
         "y": [
          -17915,
          -17915,
          -17930,
          -17930
         ],
         "yaxis": "y"
        },
        {
         "hoverinfo": "text",
         "marker": {
          "color": "rgb(0,116,217)"
         },
         "mode": "lines",
         "type": "scatter",
         "x": [
          0,
          1.1355304694213362,
          1.1355304694213362,
          0
         ],
         "xaxis": "x",
         "y": [
          -17945,
          -17945,
          -17955,
          -17955
         ],
         "yaxis": "y"
        },
        {
         "hoverinfo": "text",
         "marker": {
          "color": "rgb(0,116,217)"
         },
         "mode": "lines",
         "type": "scatter",
         "x": [
          0,
          1.316156727333714,
          1.316156727333714,
          0
         ],
         "xaxis": "x",
         "y": [
          -17975,
          -17975,
          -17985,
          -17985
         ],
         "yaxis": "y"
        },
        {
         "hoverinfo": "text",
         "marker": {
          "color": "rgb(0,116,217)"
         },
         "mode": "lines",
         "type": "scatter",
         "x": [
          0,
          1.3788255804355605,
          1.3788255804355605,
          1.316156727333714
         ],
         "xaxis": "x",
         "y": [
          -17965,
          -17965,
          -17980,
          -17980
         ],
         "yaxis": "y"
        },
        {
         "hoverinfo": "text",
         "marker": {
          "color": "rgb(0,116,217)"
         },
         "mode": "lines",
         "type": "scatter",
         "x": [
          0,
          1.359112286603039,
          1.359112286603039,
          0
         ],
         "xaxis": "x",
         "y": [
          -17995,
          -17995,
          -18005,
          -18005
         ],
         "yaxis": "y"
        },
        {
         "hoverinfo": "text",
         "marker": {
          "color": "rgb(0,116,217)"
         },
         "mode": "lines",
         "type": "scatter",
         "x": [
          1.3788255804355605,
          1.4258858524091151,
          1.4258858524091151,
          1.359112286603039
         ],
         "xaxis": "x",
         "y": [
          -17972.5,
          -17972.5,
          -18000,
          -18000
         ],
         "yaxis": "y"
        },
        {
         "hoverinfo": "text",
         "marker": {
          "color": "rgb(0,116,217)"
         },
         "mode": "lines",
         "type": "scatter",
         "x": [
          1.1355304694213362,
          1.5671692388032645,
          1.5671692388032645,
          1.4258858524091151
         ],
         "xaxis": "x",
         "y": [
          -17950,
          -17950,
          -17986.25,
          -17986.25
         ],
         "yaxis": "y"
        },
        {
         "hoverinfo": "text",
         "marker": {
          "color": "rgb(0,116,217)"
         },
         "mode": "lines",
         "type": "scatter",
         "x": [
          1.495114704314044,
          1.6941648772221678,
          1.6941648772221678,
          1.5671692388032645
         ],
         "xaxis": "x",
         "y": [
          -17922.5,
          -17922.5,
          -17968.125,
          -17968.125
         ],
         "yaxis": "y"
        },
        {
         "hoverinfo": "text",
         "marker": {
          "color": "rgb(0,116,217)"
         },
         "mode": "lines",
         "type": "scatter",
         "x": [
          0,
          1.3339216017879494,
          1.3339216017879494,
          0
         ],
         "xaxis": "x",
         "y": [
          -18015,
          -18015,
          -18025,
          -18025
         ],
         "yaxis": "y"
        },
        {
         "hoverinfo": "text",
         "marker": {
          "color": "rgb(0,116,217)"
         },
         "mode": "lines",
         "type": "scatter",
         "x": [
          0,
          1.1985013305996643,
          1.1985013305996643,
          0
         ],
         "xaxis": "x",
         "y": [
          -18035,
          -18035,
          -18045,
          -18045
         ],
         "yaxis": "y"
        },
        {
         "hoverinfo": "text",
         "marker": {
          "color": "rgb(0,116,217)"
         },
         "mode": "lines",
         "type": "scatter",
         "x": [
          1.1985013305996643,
          1.2807241899467476,
          1.2807241899467476,
          0
         ],
         "xaxis": "x",
         "y": [
          -18040,
          -18040,
          -18055,
          -18055
         ],
         "yaxis": "y"
        },
        {
         "hoverinfo": "text",
         "marker": {
          "color": "rgb(0,116,217)"
         },
         "mode": "lines",
         "type": "scatter",
         "x": [
          1.3339216017879494,
          1.517162454606519,
          1.517162454606519,
          1.2807241899467476
         ],
         "xaxis": "x",
         "y": [
          -18020,
          -18020,
          -18047.5,
          -18047.5
         ],
         "yaxis": "y"
        },
        {
         "hoverinfo": "text",
         "marker": {
          "color": "rgb(255,220,0)"
         },
         "mode": "lines",
         "type": "scatter",
         "x": [
          0,
          0.9571508363710102,
          0.9571508363710102,
          0
         ],
         "xaxis": "x",
         "y": [
          -18065,
          -18065,
          -18075,
          -18075
         ],
         "yaxis": "y"
        },
        {
         "hoverinfo": "text",
         "marker": {
          "color": "rgb(0,116,217)"
         },
         "mode": "lines",
         "type": "scatter",
         "x": [
          0.9571508363710102,
          1.41752699956472,
          1.41752699956472,
          0
         ],
         "xaxis": "x",
         "y": [
          -18070,
          -18070,
          -18085,
          -18085
         ],
         "yaxis": "y"
        },
        {
         "hoverinfo": "text",
         "marker": {
          "color": "rgb(0,116,217)"
         },
         "mode": "lines",
         "type": "scatter",
         "x": [
          1.517162454606519,
          1.7633397215140783,
          1.7633397215140783,
          1.41752699956472
         ],
         "xaxis": "x",
         "y": [
          -18033.75,
          -18033.75,
          -18077.5,
          -18077.5
         ],
         "yaxis": "y"
        },
        {
         "hoverinfo": "text",
         "marker": {
          "color": "rgb(0,116,217)"
         },
         "mode": "lines",
         "type": "scatter",
         "x": [
          1.6941648772221678,
          2.01955159112216,
          2.01955159112216,
          1.7633397215140783
         ],
         "xaxis": "x",
         "y": [
          -17945.3125,
          -17945.3125,
          -18055.625,
          -18055.625
         ],
         "yaxis": "y"
        },
        {
         "hoverinfo": "text",
         "marker": {
          "color": "rgb(0,116,217)"
         },
         "mode": "lines",
         "type": "scatter",
         "x": [
          1.5853995402639787,
          2.7212733541974408,
          2.7212733541974408,
          2.01955159112216
         ],
         "xaxis": "x",
         "y": [
          -17876.875,
          -17876.875,
          -18000.46875,
          -18000.46875
         ],
         "yaxis": "y"
        },
        {
         "hoverinfo": "text",
         "marker": {
          "color": "rgb(0,116,217)"
         },
         "mode": "lines",
         "type": "scatter",
         "x": [
          3.3373225399320594,
          4.372998263718836,
          4.372998263718836,
          2.7212733541974408
         ],
         "xaxis": "x",
         "y": [
          -17055.03173828125,
          -17055.03173828125,
          -17938.671875,
          -17938.671875
         ],
         "yaxis": "y"
        },
        {
         "hoverinfo": "text",
         "marker": {
          "color": "rgb(0,116,217)"
         },
         "mode": "lines",
         "type": "scatter",
         "x": [
          3.3314758686181802,
          4.6884040018859094,
          4.6884040018859094,
          4.372998263718836
         ],
         "xaxis": "x",
         "y": [
          -16129.6875,
          -16129.6875,
          -17496.851806640625,
          -17496.851806640625
         ],
         "yaxis": "y"
        },
        {
         "hoverinfo": "text",
         "marker": {
          "color": "rgb(0,116,217)"
         },
         "mode": "lines",
         "type": "scatter",
         "x": [
          0,
          1.2682895665509306,
          1.2682895665509306,
          0
         ],
         "xaxis": "x",
         "y": [
          -18095,
          -18095,
          -18105,
          -18105
         ],
         "yaxis": "y"
        },
        {
         "hoverinfo": "text",
         "marker": {
          "color": "rgb(0,116,217)"
         },
         "mode": "lines",
         "type": "scatter",
         "x": [
          0,
          1.2784752001431006,
          1.2784752001431006,
          0
         ],
         "xaxis": "x",
         "y": [
          -18115,
          -18115,
          -18125,
          -18125
         ],
         "yaxis": "y"
        },
        {
         "hoverinfo": "text",
         "marker": {
          "color": "rgb(0,116,217)"
         },
         "mode": "lines",
         "type": "scatter",
         "x": [
          1.2682895665509306,
          1.3898693965049227,
          1.3898693965049227,
          1.2784752001431006
         ],
         "xaxis": "x",
         "y": [
          -18100,
          -18100,
          -18120,
          -18120
         ],
         "yaxis": "y"
        },
        {
         "hoverinfo": "text",
         "marker": {
          "color": "rgb(0,116,217)"
         },
         "mode": "lines",
         "type": "scatter",
         "x": [
          0,
          1.0976290677998555,
          1.0976290677998555,
          0
         ],
         "xaxis": "x",
         "y": [
          -18135,
          -18135,
          -18145,
          -18145
         ],
         "yaxis": "y"
        },
        {
         "hoverinfo": "text",
         "marker": {
          "color": "rgb(0,116,217)"
         },
         "mode": "lines",
         "type": "scatter",
         "x": [
          1.3898693965049227,
          1.5025223021371747,
          1.5025223021371747,
          1.0976290677998555
         ],
         "xaxis": "x",
         "y": [
          -18110,
          -18110,
          -18140,
          -18140
         ],
         "yaxis": "y"
        },
        {
         "hoverinfo": "text",
         "marker": {
          "color": "rgb(40,35,35)"
         },
         "mode": "lines",
         "type": "scatter",
         "x": [
          0,
          0.795466348365474,
          0.795466348365474,
          0
         ],
         "xaxis": "x",
         "y": [
          -18175,
          -18175,
          -18185,
          -18185
         ],
         "yaxis": "y"
        },
        {
         "hoverinfo": "text",
         "marker": {
          "color": "rgb(40,35,35)"
         },
         "mode": "lines",
         "type": "scatter",
         "x": [
          0,
          0.9535823130679301,
          0.9535823130679301,
          0.795466348365474
         ],
         "xaxis": "x",
         "y": [
          -18165,
          -18165,
          -18180,
          -18180
         ],
         "yaxis": "y"
        },
        {
         "hoverinfo": "text",
         "marker": {
          "color": "rgb(40,35,35)"
         },
         "mode": "lines",
         "type": "scatter",
         "x": [
          0.9535823130679301,
          0.9811035964864431,
          0.9811035964864431,
          0
         ],
         "xaxis": "x",
         "y": [
          -18172.5,
          -18172.5,
          -18195,
          -18195
         ],
         "yaxis": "y"
        },
        {
         "hoverinfo": "text",
         "marker": {
          "color": "rgb(0,116,217)"
         },
         "mode": "lines",
         "type": "scatter",
         "x": [
          0,
          1.005562677501617,
          1.005562677501617,
          0.9811035964864431
         ],
         "xaxis": "x",
         "y": [
          -18155,
          -18155,
          -18183.75,
          -18183.75
         ],
         "yaxis": "y"
        },
        {
         "hoverinfo": "text",
         "marker": {
          "color": "rgb(0,116,217)"
         },
         "mode": "lines",
         "type": "scatter",
         "x": [
          1.005562677501617,
          1.282080074725002,
          1.282080074725002,
          0
         ],
         "xaxis": "x",
         "y": [
          -18169.375,
          -18169.375,
          -18205,
          -18205
         ],
         "yaxis": "y"
        },
        {
         "hoverinfo": "text",
         "marker": {
          "color": "rgb(0,116,217)"
         },
         "mode": "lines",
         "type": "scatter",
         "x": [
          1.5025223021371747,
          2.3229026916409676,
          2.3229026916409676,
          1.282080074725002
         ],
         "xaxis": "x",
         "y": [
          -18125,
          -18125,
          -18187.1875,
          -18187.1875
         ],
         "yaxis": "y"
        },
        {
         "hoverinfo": "text",
         "marker": {
          "color": "rgb(0,116,217)"
         },
         "mode": "lines",
         "type": "scatter",
         "x": [
          4.6884040018859094,
          5.290507299027872,
          5.290507299027872,
          2.3229026916409676
         ],
         "xaxis": "x",
         "y": [
          -16813.269653320312,
          -16813.269653320312,
          -18156.09375,
          -18156.09375
         ],
         "yaxis": "y"
        },
        {
         "hoverinfo": "text",
         "marker": {
          "color": "rgb(0,116,217)"
         },
         "mode": "lines",
         "type": "scatter",
         "x": [
          0,
          1.1394159958504133,
          1.1394159958504133,
          0
         ],
         "xaxis": "x",
         "y": [
          -18215,
          -18215,
          -18225,
          -18225
         ],
         "yaxis": "y"
        },
        {
         "hoverinfo": "text",
         "marker": {
          "color": "rgb(0,116,217)"
         },
         "mode": "lines",
         "type": "scatter",
         "x": [
          0,
          1.3875336797427593,
          1.3875336797427593,
          0
         ],
         "xaxis": "x",
         "y": [
          -18235,
          -18235,
          -18245,
          -18245
         ],
         "yaxis": "y"
        },
        {
         "hoverinfo": "text",
         "marker": {
          "color": "rgb(0,116,217)"
         },
         "mode": "lines",
         "type": "scatter",
         "x": [
          1.1394159958504133,
          1.615424357629902,
          1.615424357629902,
          1.3875336797427593
         ],
         "xaxis": "x",
         "y": [
          -18220,
          -18220,
          -18240,
          -18240
         ],
         "yaxis": "y"
        },
        {
         "hoverinfo": "text",
         "marker": {
          "color": "rgb(0,116,217)"
         },
         "mode": "lines",
         "type": "scatter",
         "x": [
          0,
          1.063140666950098,
          1.063140666950098,
          0
         ],
         "xaxis": "x",
         "y": [
          -18255,
          -18255,
          -18265,
          -18265
         ],
         "yaxis": "y"
        },
        {
         "hoverinfo": "text",
         "marker": {
          "color": "rgb(0,116,217)"
         },
         "mode": "lines",
         "type": "scatter",
         "x": [
          0,
          1.1450852598880419,
          1.1450852598880419,
          0
         ],
         "xaxis": "x",
         "y": [
          -18285,
          -18285,
          -18295,
          -18295
         ],
         "yaxis": "y"
        },
        {
         "hoverinfo": "text",
         "marker": {
          "color": "rgb(0,116,217)"
         },
         "mode": "lines",
         "type": "scatter",
         "x": [
          0,
          1.2319328552070987,
          1.2319328552070987,
          1.1450852598880419
         ],
         "xaxis": "x",
         "y": [
          -18275,
          -18275,
          -18290,
          -18290
         ],
         "yaxis": "y"
        },
        {
         "hoverinfo": "text",
         "marker": {
          "color": "rgb(0,116,217)"
         },
         "mode": "lines",
         "type": "scatter",
         "x": [
          1.063140666950098,
          1.3693901664852728,
          1.3693901664852728,
          1.2319328552070987
         ],
         "xaxis": "x",
         "y": [
          -18260,
          -18260,
          -18282.5,
          -18282.5
         ],
         "yaxis": "y"
        },
        {
         "hoverinfo": "text",
         "marker": {
          "color": "rgb(0,116,217)"
         },
         "mode": "lines",
         "type": "scatter",
         "x": [
          1.615424357629902,
          1.9771209500084514,
          1.9771209500084514,
          1.3693901664852728
         ],
         "xaxis": "x",
         "y": [
          -18230,
          -18230,
          -18271.25,
          -18271.25
         ],
         "yaxis": "y"
        },
        {
         "hoverinfo": "text",
         "marker": {
          "color": "rgb(0,116,217)"
         },
         "mode": "lines",
         "type": "scatter",
         "x": [
          0,
          1.3038647886038266,
          1.3038647886038266,
          0
         ],
         "xaxis": "x",
         "y": [
          -18315,
          -18315,
          -18325,
          -18325
         ],
         "yaxis": "y"
        },
        {
         "hoverinfo": "text",
         "marker": {
          "color": "rgb(0,116,217)"
         },
         "mode": "lines",
         "type": "scatter",
         "x": [
          0,
          1.4261847879881344,
          1.4261847879881344,
          1.3038647886038266
         ],
         "xaxis": "x",
         "y": [
          -18305,
          -18305,
          -18320,
          -18320
         ],
         "yaxis": "y"
        },
        {
         "hoverinfo": "text",
         "marker": {
          "color": "rgb(0,116,217)"
         },
         "mode": "lines",
         "type": "scatter",
         "x": [
          0,
          1.3842817806783219,
          1.3842817806783219,
          0
         ],
         "xaxis": "x",
         "y": [
          -18345,
          -18345,
          -18355,
          -18355
         ],
         "yaxis": "y"
        },
        {
         "hoverinfo": "text",
         "marker": {
          "color": "rgb(0,116,217)"
         },
         "mode": "lines",
         "type": "scatter",
         "x": [
          0,
          1.4083041460519852,
          1.4083041460519852,
          1.3842817806783219
         ],
         "xaxis": "x",
         "y": [
          -18335,
          -18335,
          -18350,
          -18350
         ],
         "yaxis": "y"
        },
        {
         "hoverinfo": "text",
         "marker": {
          "color": "rgb(0,116,217)"
         },
         "mode": "lines",
         "type": "scatter",
         "x": [
          0,
          1.1804058965387614,
          1.1804058965387614,
          0
         ],
         "xaxis": "x",
         "y": [
          -18365,
          -18365,
          -18375,
          -18375
         ],
         "yaxis": "y"
        },
        {
         "hoverinfo": "text",
         "marker": {
          "color": "rgb(0,116,217)"
         },
         "mode": "lines",
         "type": "scatter",
         "x": [
          1.1804058965387614,
          1.223262506999124,
          1.223262506999124,
          0
         ],
         "xaxis": "x",
         "y": [
          -18370,
          -18370,
          -18385,
          -18385
         ],
         "yaxis": "y"
        },
        {
         "hoverinfo": "text",
         "marker": {
          "color": "rgb(0,116,217)"
         },
         "mode": "lines",
         "type": "scatter",
         "x": [
          0,
          1.3442379545703527,
          1.3442379545703527,
          0
         ],
         "xaxis": "x",
         "y": [
          -18395,
          -18395,
          -18405,
          -18405
         ],
         "yaxis": "y"
        },
        {
         "hoverinfo": "text",
         "marker": {
          "color": "rgb(0,116,217)"
         },
         "mode": "lines",
         "type": "scatter",
         "x": [
          1.3442379545703527,
          1.3816240459158895,
          1.3816240459158895,
          0
         ],
         "xaxis": "x",
         "y": [
          -18400,
          -18400,
          -18415,
          -18415
         ],
         "yaxis": "y"
        },
        {
         "hoverinfo": "text",
         "marker": {
          "color": "rgb(0,116,217)"
         },
         "mode": "lines",
         "type": "scatter",
         "x": [
          1.223262506999124,
          1.4365429253993947,
          1.4365429253993947,
          1.3816240459158895
         ],
         "xaxis": "x",
         "y": [
          -18377.5,
          -18377.5,
          -18407.5,
          -18407.5
         ],
         "yaxis": "y"
        },
        {
         "hoverinfo": "text",
         "marker": {
          "color": "rgb(0,116,217)"
         },
         "mode": "lines",
         "type": "scatter",
         "x": [
          1.4083041460519852,
          1.5592844054891015,
          1.5592844054891015,
          1.4365429253993947
         ],
         "xaxis": "x",
         "y": [
          -18342.5,
          -18342.5,
          -18392.5,
          -18392.5
         ],
         "yaxis": "y"
        },
        {
         "hoverinfo": "text",
         "marker": {
          "color": "rgb(0,116,217)"
         },
         "mode": "lines",
         "type": "scatter",
         "x": [
          0,
          1.3091409756838739,
          1.3091409756838739,
          0
         ],
         "xaxis": "x",
         "y": [
          -18435,
          -18435,
          -18445,
          -18445
         ],
         "yaxis": "y"
        },
        {
         "hoverinfo": "text",
         "marker": {
          "color": "rgb(0,116,217)"
         },
         "mode": "lines",
         "type": "scatter",
         "x": [
          1.3091409756838739,
          1.3385413228886702,
          1.3385413228886702,
          0
         ],
         "xaxis": "x",
         "y": [
          -18440,
          -18440,
          -18455,
          -18455
         ],
         "yaxis": "y"
        },
        {
         "hoverinfo": "text",
         "marker": {
          "color": "rgb(0,116,217)"
         },
         "mode": "lines",
         "type": "scatter",
         "x": [
          0,
          1.4551045398175932,
          1.4551045398175932,
          1.3385413228886702
         ],
         "xaxis": "x",
         "y": [
          -18425,
          -18425,
          -18447.5,
          -18447.5
         ],
         "yaxis": "y"
        },
        {
         "hoverinfo": "text",
         "marker": {
          "color": "rgb(0,116,217)"
         },
         "mode": "lines",
         "type": "scatter",
         "x": [
          0,
          1.4635989736571329,
          1.4635989736571329,
          0
         ],
         "xaxis": "x",
         "y": [
          -18465,
          -18465,
          -18475,
          -18475
         ],
         "yaxis": "y"
        },
        {
         "hoverinfo": "text",
         "marker": {
          "color": "rgb(0,116,217)"
         },
         "mode": "lines",
         "type": "scatter",
         "x": [
          1.4551045398175932,
          1.6184215825578452,
          1.6184215825578452,
          1.4635989736571329
         ],
         "xaxis": "x",
         "y": [
          -18436.25,
          -18436.25,
          -18470,
          -18470
         ],
         "yaxis": "y"
        },
        {
         "hoverinfo": "text",
         "marker": {
          "color": "rgb(0,116,217)"
         },
         "mode": "lines",
         "type": "scatter",
         "x": [
          1.5592844054891015,
          1.6645231371257923,
          1.6645231371257923,
          1.6184215825578452
         ],
         "xaxis": "x",
         "y": [
          -18367.5,
          -18367.5,
          -18453.125,
          -18453.125
         ],
         "yaxis": "y"
        },
        {
         "hoverinfo": "text",
         "marker": {
          "color": "rgb(0,116,217)"
         },
         "mode": "lines",
         "type": "scatter",
         "x": [
          1.4261847879881344,
          1.804485887403079,
          1.804485887403079,
          1.6645231371257923
         ],
         "xaxis": "x",
         "y": [
          -18312.5,
          -18312.5,
          -18410.3125,
          -18410.3125
         ],
         "yaxis": "y"
        },
        {
         "hoverinfo": "text",
         "marker": {
          "color": "rgb(0,116,217)"
         },
         "mode": "lines",
         "type": "scatter",
         "x": [
          0,
          1.1024161165491289,
          1.1024161165491289,
          0
         ],
         "xaxis": "x",
         "y": [
          -18485,
          -18485,
          -18495,
          -18495
         ],
         "yaxis": "y"
        },
        {
         "hoverinfo": "text",
         "marker": {
          "color": "rgb(0,116,217)"
         },
         "mode": "lines",
         "type": "scatter",
         "x": [
          0,
          1.2056145748025158,
          1.2056145748025158,
          0
         ],
         "xaxis": "x",
         "y": [
          -18515,
          -18515,
          -18525,
          -18525
         ],
         "yaxis": "y"
        },
        {
         "hoverinfo": "text",
         "marker": {
          "color": "rgb(0,116,217)"
         },
         "mode": "lines",
         "type": "scatter",
         "x": [
          0,
          1.4283246184113443,
          1.4283246184113443,
          1.2056145748025158
         ],
         "xaxis": "x",
         "y": [
          -18505,
          -18505,
          -18520,
          -18520
         ],
         "yaxis": "y"
        },
        {
         "hoverinfo": "text",
         "marker": {
          "color": "rgb(0,116,217)"
         },
         "mode": "lines",
         "type": "scatter",
         "x": [
          1.4283246184113443,
          1.6010764264033077,
          1.6010764264033077,
          0
         ],
         "xaxis": "x",
         "y": [
          -18512.5,
          -18512.5,
          -18535,
          -18535
         ],
         "yaxis": "y"
        },
        {
         "hoverinfo": "text",
         "marker": {
          "color": "rgb(0,116,217)"
         },
         "mode": "lines",
         "type": "scatter",
         "x": [
          1.1024161165491289,
          1.9149538261924437,
          1.9149538261924437,
          1.6010764264033077
         ],
         "xaxis": "x",
         "y": [
          -18490,
          -18490,
          -18523.75,
          -18523.75
         ],
         "yaxis": "y"
        },
        {
         "hoverinfo": "text",
         "marker": {
          "color": "rgb(0,116,217)"
         },
         "mode": "lines",
         "type": "scatter",
         "x": [
          1.804485887403079,
          2.3442951339249336,
          2.3442951339249336,
          1.9149538261924437
         ],
         "xaxis": "x",
         "y": [
          -18361.40625,
          -18361.40625,
          -18506.875,
          -18506.875
         ],
         "yaxis": "y"
        },
        {
         "hoverinfo": "text",
         "marker": {
          "color": "rgb(0,116,217)"
         },
         "mode": "lines",
         "type": "scatter",
         "x": [
          1.9771209500084514,
          3.1152422905952077,
          3.1152422905952077,
          2.3442951339249336
         ],
         "xaxis": "x",
         "y": [
          -18250.625,
          -18250.625,
          -18434.140625,
          -18434.140625
         ],
         "yaxis": "y"
        },
        {
         "hoverinfo": "text",
         "marker": {
          "color": "rgb(0,116,217)"
         },
         "mode": "lines",
         "type": "scatter",
         "x": [
          5.290507299027872,
          6.7926203593271985,
          6.7926203593271985,
          3.1152422905952077
         ],
         "xaxis": "x",
         "y": [
          -17484.681701660156,
          -17484.681701660156,
          -18342.3828125,
          -18342.3828125
         ],
         "yaxis": "y"
        },
        {
         "hoverinfo": "text",
         "marker": {
          "color": "rgb(0,116,217)"
         },
         "mode": "lines",
         "type": "scatter",
         "x": [
          12.086062398175342,
          14.633465290328246,
          14.633465290328246,
          6.7926203593271985
         ],
         "xaxis": "x",
         "y": [
          -9188.720626831055,
          -9188.720626831055,
          -17913.532257080078,
          -17913.532257080078
         ],
         "yaxis": "y"
        },
        {
         "hoverinfo": "text",
         "marker": {
          "color": "rgb(0,116,217)"
         },
         "mode": "lines",
         "type": "scatter",
         "x": [
          13.942604624083975,
          33.21555426050849,
          33.21555426050849,
          14.633465290328246
         ],
         "xaxis": "x",
         "y": [
          -1209.278564453125,
          -1209.278564453125,
          -13551.126441955566,
          -13551.126441955566
         ],
         "yaxis": "y"
        }
       ],
       "layout": {
        "autosize": false,
        "height": 28010,
        "hoverlabel": {
         "bgcolor": "white",
         "font": {
          "family": "Rockwell",
          "size": 16
         }
        },
        "hovermode": "closest",
        "plot_bgcolor": "#ECEFF1",
        "showlegend": false,
        "template": {
         "data": {
          "bar": [
           {
            "error_x": {
             "color": "#2a3f5f"
            },
            "error_y": {
             "color": "#2a3f5f"
            },
            "marker": {
             "line": {
              "color": "white",
              "width": 0.5
             },
             "pattern": {
              "fillmode": "overlay",
              "size": 10,
              "solidity": 0.2
             }
            },
            "type": "bar"
           }
          ],
          "barpolar": [
           {
            "marker": {
             "line": {
              "color": "white",
              "width": 0.5
             },
             "pattern": {
              "fillmode": "overlay",
              "size": 10,
              "solidity": 0.2
             }
            },
            "type": "barpolar"
           }
          ],
          "carpet": [
           {
            "aaxis": {
             "endlinecolor": "#2a3f5f",
             "gridcolor": "#C8D4E3",
             "linecolor": "#C8D4E3",
             "minorgridcolor": "#C8D4E3",
             "startlinecolor": "#2a3f5f"
            },
            "baxis": {
             "endlinecolor": "#2a3f5f",
             "gridcolor": "#C8D4E3",
             "linecolor": "#C8D4E3",
             "minorgridcolor": "#C8D4E3",
             "startlinecolor": "#2a3f5f"
            },
            "type": "carpet"
           }
          ],
          "choropleth": [
           {
            "colorbar": {
             "outlinewidth": 0,
             "ticks": ""
            },
            "type": "choropleth"
           }
          ],
          "contour": [
           {
            "colorbar": {
             "outlinewidth": 0,
             "ticks": ""
            },
            "colorscale": [
             [
              0,
              "#0d0887"
             ],
             [
              0.1111111111111111,
              "#46039f"
             ],
             [
              0.2222222222222222,
              "#7201a8"
             ],
             [
              0.3333333333333333,
              "#9c179e"
             ],
             [
              0.4444444444444444,
              "#bd3786"
             ],
             [
              0.5555555555555556,
              "#d8576b"
             ],
             [
              0.6666666666666666,
              "#ed7953"
             ],
             [
              0.7777777777777778,
              "#fb9f3a"
             ],
             [
              0.8888888888888888,
              "#fdca26"
             ],
             [
              1,
              "#f0f921"
             ]
            ],
            "type": "contour"
           }
          ],
          "contourcarpet": [
           {
            "colorbar": {
             "outlinewidth": 0,
             "ticks": ""
            },
            "type": "contourcarpet"
           }
          ],
          "heatmap": [
           {
            "colorbar": {
             "outlinewidth": 0,
             "ticks": ""
            },
            "colorscale": [
             [
              0,
              "#0d0887"
             ],
             [
              0.1111111111111111,
              "#46039f"
             ],
             [
              0.2222222222222222,
              "#7201a8"
             ],
             [
              0.3333333333333333,
              "#9c179e"
             ],
             [
              0.4444444444444444,
              "#bd3786"
             ],
             [
              0.5555555555555556,
              "#d8576b"
             ],
             [
              0.6666666666666666,
              "#ed7953"
             ],
             [
              0.7777777777777778,
              "#fb9f3a"
             ],
             [
              0.8888888888888888,
              "#fdca26"
             ],
             [
              1,
              "#f0f921"
             ]
            ],
            "type": "heatmap"
           }
          ],
          "heatmapgl": [
           {
            "colorbar": {
             "outlinewidth": 0,
             "ticks": ""
            },
            "colorscale": [
             [
              0,
              "#0d0887"
             ],
             [
              0.1111111111111111,
              "#46039f"
             ],
             [
              0.2222222222222222,
              "#7201a8"
             ],
             [
              0.3333333333333333,
              "#9c179e"
             ],
             [
              0.4444444444444444,
              "#bd3786"
             ],
             [
              0.5555555555555556,
              "#d8576b"
             ],
             [
              0.6666666666666666,
              "#ed7953"
             ],
             [
              0.7777777777777778,
              "#fb9f3a"
             ],
             [
              0.8888888888888888,
              "#fdca26"
             ],
             [
              1,
              "#f0f921"
             ]
            ],
            "type": "heatmapgl"
           }
          ],
          "histogram": [
           {
            "marker": {
             "pattern": {
              "fillmode": "overlay",
              "size": 10,
              "solidity": 0.2
             }
            },
            "type": "histogram"
           }
          ],
          "histogram2d": [
           {
            "colorbar": {
             "outlinewidth": 0,
             "ticks": ""
            },
            "colorscale": [
             [
              0,
              "#0d0887"
             ],
             [
              0.1111111111111111,
              "#46039f"
             ],
             [
              0.2222222222222222,
              "#7201a8"
             ],
             [
              0.3333333333333333,
              "#9c179e"
             ],
             [
              0.4444444444444444,
              "#bd3786"
             ],
             [
              0.5555555555555556,
              "#d8576b"
             ],
             [
              0.6666666666666666,
              "#ed7953"
             ],
             [
              0.7777777777777778,
              "#fb9f3a"
             ],
             [
              0.8888888888888888,
              "#fdca26"
             ],
             [
              1,
              "#f0f921"
             ]
            ],
            "type": "histogram2d"
           }
          ],
          "histogram2dcontour": [
           {
            "colorbar": {
             "outlinewidth": 0,
             "ticks": ""
            },
            "colorscale": [
             [
              0,
              "#0d0887"
             ],
             [
              0.1111111111111111,
              "#46039f"
             ],
             [
              0.2222222222222222,
              "#7201a8"
             ],
             [
              0.3333333333333333,
              "#9c179e"
             ],
             [
              0.4444444444444444,
              "#bd3786"
             ],
             [
              0.5555555555555556,
              "#d8576b"
             ],
             [
              0.6666666666666666,
              "#ed7953"
             ],
             [
              0.7777777777777778,
              "#fb9f3a"
             ],
             [
              0.8888888888888888,
              "#fdca26"
             ],
             [
              1,
              "#f0f921"
             ]
            ],
            "type": "histogram2dcontour"
           }
          ],
          "mesh3d": [
           {
            "colorbar": {
             "outlinewidth": 0,
             "ticks": ""
            },
            "type": "mesh3d"
           }
          ],
          "parcoords": [
           {
            "line": {
             "colorbar": {
              "outlinewidth": 0,
              "ticks": ""
             }
            },
            "type": "parcoords"
           }
          ],
          "pie": [
           {
            "automargin": true,
            "type": "pie"
           }
          ],
          "scatter": [
           {
            "fillpattern": {
             "fillmode": "overlay",
             "size": 10,
             "solidity": 0.2
            },
            "type": "scatter"
           }
          ],
          "scatter3d": [
           {
            "line": {
             "colorbar": {
              "outlinewidth": 0,
              "ticks": ""
             }
            },
            "marker": {
             "colorbar": {
              "outlinewidth": 0,
              "ticks": ""
             }
            },
            "type": "scatter3d"
           }
          ],
          "scattercarpet": [
           {
            "marker": {
             "colorbar": {
              "outlinewidth": 0,
              "ticks": ""
             }
            },
            "type": "scattercarpet"
           }
          ],
          "scattergeo": [
           {
            "marker": {
             "colorbar": {
              "outlinewidth": 0,
              "ticks": ""
             }
            },
            "type": "scattergeo"
           }
          ],
          "scattergl": [
           {
            "marker": {
             "colorbar": {
              "outlinewidth": 0,
              "ticks": ""
             }
            },
            "type": "scattergl"
           }
          ],
          "scattermapbox": [
           {
            "marker": {
             "colorbar": {
              "outlinewidth": 0,
              "ticks": ""
             }
            },
            "type": "scattermapbox"
           }
          ],
          "scatterpolar": [
           {
            "marker": {
             "colorbar": {
              "outlinewidth": 0,
              "ticks": ""
             }
            },
            "type": "scatterpolar"
           }
          ],
          "scatterpolargl": [
           {
            "marker": {
             "colorbar": {
              "outlinewidth": 0,
              "ticks": ""
             }
            },
            "type": "scatterpolargl"
           }
          ],
          "scatterternary": [
           {
            "marker": {
             "colorbar": {
              "outlinewidth": 0,
              "ticks": ""
             }
            },
            "type": "scatterternary"
           }
          ],
          "surface": [
           {
            "colorbar": {
             "outlinewidth": 0,
             "ticks": ""
            },
            "colorscale": [
             [
              0,
              "#0d0887"
             ],
             [
              0.1111111111111111,
              "#46039f"
             ],
             [
              0.2222222222222222,
              "#7201a8"
             ],
             [
              0.3333333333333333,
              "#9c179e"
             ],
             [
              0.4444444444444444,
              "#bd3786"
             ],
             [
              0.5555555555555556,
              "#d8576b"
             ],
             [
              0.6666666666666666,
              "#ed7953"
             ],
             [
              0.7777777777777778,
              "#fb9f3a"
             ],
             [
              0.8888888888888888,
              "#fdca26"
             ],
             [
              1,
              "#f0f921"
             ]
            ],
            "type": "surface"
           }
          ],
          "table": [
           {
            "cells": {
             "fill": {
              "color": "#EBF0F8"
             },
             "line": {
              "color": "white"
             }
            },
            "header": {
             "fill": {
              "color": "#C8D4E3"
             },
             "line": {
              "color": "white"
             }
            },
            "type": "table"
           }
          ]
         },
         "layout": {
          "annotationdefaults": {
           "arrowcolor": "#2a3f5f",
           "arrowhead": 0,
           "arrowwidth": 1
          },
          "autotypenumbers": "strict",
          "coloraxis": {
           "colorbar": {
            "outlinewidth": 0,
            "ticks": ""
           }
          },
          "colorscale": {
           "diverging": [
            [
             0,
             "#8e0152"
            ],
            [
             0.1,
             "#c51b7d"
            ],
            [
             0.2,
             "#de77ae"
            ],
            [
             0.3,
             "#f1b6da"
            ],
            [
             0.4,
             "#fde0ef"
            ],
            [
             0.5,
             "#f7f7f7"
            ],
            [
             0.6,
             "#e6f5d0"
            ],
            [
             0.7,
             "#b8e186"
            ],
            [
             0.8,
             "#7fbc41"
            ],
            [
             0.9,
             "#4d9221"
            ],
            [
             1,
             "#276419"
            ]
           ],
           "sequential": [
            [
             0,
             "#0d0887"
            ],
            [
             0.1111111111111111,
             "#46039f"
            ],
            [
             0.2222222222222222,
             "#7201a8"
            ],
            [
             0.3333333333333333,
             "#9c179e"
            ],
            [
             0.4444444444444444,
             "#bd3786"
            ],
            [
             0.5555555555555556,
             "#d8576b"
            ],
            [
             0.6666666666666666,
             "#ed7953"
            ],
            [
             0.7777777777777778,
             "#fb9f3a"
            ],
            [
             0.8888888888888888,
             "#fdca26"
            ],
            [
             1,
             "#f0f921"
            ]
           ],
           "sequentialminus": [
            [
             0,
             "#0d0887"
            ],
            [
             0.1111111111111111,
             "#46039f"
            ],
            [
             0.2222222222222222,
             "#7201a8"
            ],
            [
             0.3333333333333333,
             "#9c179e"
            ],
            [
             0.4444444444444444,
             "#bd3786"
            ],
            [
             0.5555555555555556,
             "#d8576b"
            ],
            [
             0.6666666666666666,
             "#ed7953"
            ],
            [
             0.7777777777777778,
             "#fb9f3a"
            ],
            [
             0.8888888888888888,
             "#fdca26"
            ],
            [
             1,
             "#f0f921"
            ]
           ]
          },
          "colorway": [
           "#636efa",
           "#EF553B",
           "#00cc96",
           "#ab63fa",
           "#FFA15A",
           "#19d3f3",
           "#FF6692",
           "#B6E880",
           "#FF97FF",
           "#FECB52"
          ],
          "font": {
           "color": "#2a3f5f"
          },
          "geo": {
           "bgcolor": "white",
           "lakecolor": "white",
           "landcolor": "white",
           "showlakes": true,
           "showland": true,
           "subunitcolor": "#C8D4E3"
          },
          "hoverlabel": {
           "align": "left"
          },
          "hovermode": "closest",
          "mapbox": {
           "style": "light"
          },
          "paper_bgcolor": "white",
          "plot_bgcolor": "white",
          "polar": {
           "angularaxis": {
            "gridcolor": "#EBF0F8",
            "linecolor": "#EBF0F8",
            "ticks": ""
           },
           "bgcolor": "white",
           "radialaxis": {
            "gridcolor": "#EBF0F8",
            "linecolor": "#EBF0F8",
            "ticks": ""
           }
          },
          "scene": {
           "xaxis": {
            "backgroundcolor": "white",
            "gridcolor": "#DFE8F3",
            "gridwidth": 2,
            "linecolor": "#EBF0F8",
            "showbackground": true,
            "ticks": "",
            "zerolinecolor": "#EBF0F8"
           },
           "yaxis": {
            "backgroundcolor": "white",
            "gridcolor": "#DFE8F3",
            "gridwidth": 2,
            "linecolor": "#EBF0F8",
            "showbackground": true,
            "ticks": "",
            "zerolinecolor": "#EBF0F8"
           },
           "zaxis": {
            "backgroundcolor": "white",
            "gridcolor": "#DFE8F3",
            "gridwidth": 2,
            "linecolor": "#EBF0F8",
            "showbackground": true,
            "ticks": "",
            "zerolinecolor": "#EBF0F8"
           }
          },
          "shapedefaults": {
           "line": {
            "color": "#2a3f5f"
           }
          },
          "ternary": {
           "aaxis": {
            "gridcolor": "#DFE8F3",
            "linecolor": "#A2B1C6",
            "ticks": ""
           },
           "baxis": {
            "gridcolor": "#DFE8F3",
            "linecolor": "#A2B1C6",
            "ticks": ""
           },
           "bgcolor": "white",
           "caxis": {
            "gridcolor": "#DFE8F3",
            "linecolor": "#A2B1C6",
            "ticks": ""
           }
          },
          "title": {
           "x": 0.05
          },
          "xaxis": {
           "automargin": true,
           "gridcolor": "#EBF0F8",
           "linecolor": "#EBF0F8",
           "ticks": "",
           "title": {
            "standoff": 15
           },
           "zerolinecolor": "#EBF0F8",
           "zerolinewidth": 2
          },
          "yaxis": {
           "automargin": true,
           "gridcolor": "#EBF0F8",
           "linecolor": "#EBF0F8",
           "ticks": "",
           "title": {
            "standoff": 15
           },
           "zerolinecolor": "#EBF0F8",
           "zerolinewidth": 2
          }
         }
        },
        "title": {
         "font": {
          "color": "Black",
          "size": 22
         },
         "text": "<b>Hierarchical Clustering</b>",
         "x": 0.5,
         "xanchor": "center",
         "yanchor": "top"
        },
        "width": 1000,
        "xaxis": {
         "mirror": "allticks",
         "rangemode": "tozero",
         "showgrid": false,
         "showline": true,
         "showticklabels": true,
         "ticks": "outside",
         "type": "linear",
         "zeroline": false
        },
        "yaxis": {
         "mirror": "allticks",
         "range": [
          -18540,
          0
         ],
         "rangemode": "tozero",
         "showgrid": false,
         "showline": true,
         "showticklabels": true,
         "tickmode": "array",
         "ticks": "outside",
         "ticktext": [
          "26_grades_semester_gpa",
          "12_languages_mandarin_langu...",
          "3_racism_reparations_racist",
          "8_negativity_judging_selftalk",
          "24_breakup_breakups_ex",
          "25_friendships_friendship_b...",
          "21_seduction_ex_pursuing",
          "4_orgasm_sex_anal",
          "14_sober_alcohol_addiction",
          "36_parenting_parent_tantrums",
          "49_gratitude_grateful_thank...",
          "13_podcasting_audio_topics",
          "20_unfollow_scrolling_posting",
          "19_nonfiction_writing_writers",
          "18_followers_hashtags_posts",
          "16_playlist_playlists_royal...",
          "11_property_mortgage_realtor",
          "77_income_expenses_invest",
          "118_entrepreneurs_entrepren...",
          "100_entrepreneur_entreprene...",
          "57_brands_branding_brand",
          "62_gyms_crossfit_gym",
          "257_spuds_gmb_exercise",
          "268_endorphins_demonex_ayato",
          "168_overthinking_anxiety_hy...",
          "97_melatonin_rem_routine",
          "122_studying_homework_exams",
          "84_calendar_todo_planner",
          "218_motivated_motivation_se...",
          "55_narcissistic_narcissist_...",
          "106_setbacks_baggage_egoistic",
          "239_failure_flunked_fail",
          "38_horses_horse_reinforcement",
          "88_classroom_teachers_stude...",
          "58_yoga_vinyasa_ashtanga",
          "70_palette_painting_paintings",
          "35_lucid_consciousness_serp...",
          "51_climate_geoengineering_w...",
          "39_fertility_progesterone_p...",
          "23_lash_lashes_botox",
          "54_vegan_veganism_vegans",
          "196_coparenting_oversteppin...",
          "179_trinidad_justification_...",
          "69_colton_cassie_loras",
          "73_dilla_mateo_rafael",
          "43_niggas_nigga_nigger",
          "71_bully_bullied_goulash",
          "41_ebay_thrift_auctions",
          "31_jeans_nike_fashion",
          "52_nozzle_hose_hydrant",
          "28_deployment_infantry_mili...",
          "5_que_hindi_para",
          "47_grosjean_magnussen_romain",
          "30_cricket_wickets_batsman",
          "53_liverpool_previewcom_haas",
          "83_kanye_drake_kanyes",
          "45_album_albums_songs",
          "29_taylor_ariana_album",
          "6_smackdown_wrestlemania_nxt",
          "46_thrones_finale_netflix",
          "27_novel_handmaids_ulysses",
          "44_christmas_holidays_thank...",
          "7_subscribed_growcom_itunes",
          "37_pastor_for80_dissension",
          "2_arsenal_liverpool_chelsea",
          "22_magpies_vixens_nwsl",
          "10_bruins_leafs_nhl",
          "1_lakers_lebron_clippers",
          "0_yankees_sox_bullpen",
          "15_clemson_lsu_baylor",
          "33_michigan_notre_saban",
          "17_receiver_targets_receivers",
          "42_sprain_injury_ankle",
          "261_kendrick_kendricks_blac...",
          "220_kanye_gospel_christian",
          "127_tithing_tithe_poverty",
          "309_pastors_churches_trappi...",
          "254_sabbath_rhythms_bible",
          "111_righteousness_condemnat...",
          "140_pray_amen_prayer",
          "341_baptized_baptism_prayer",
          "381_stairway_religions_reli...",
          "240_premarital_baptismal_su...",
          "199_catholic_catholicism_ch...",
          "153_evangelize_praying_pray",
          "133_obedience_submission_pa...",
          "91_christianity_hypocrisy_h...",
          "68_sexuality_eunuchs_samesex",
          "152_strippers_porn_stripper",
          "203_porn_pornography_pornhub",
          "76_gender_transgender_bisex...",
          "110_polyamory_polyamorous_m...",
          "590_monogamous_pimentel_adfs",
          "280_newsletter_cory_wayne",
          "252_propose_married_proposal",
          "134_dating_rejections_rejec...",
          "143_tinder_swipe_bumble",
          "258_hookups_hookup_discrimi...",
          "350_intensified_oshun_flake",
          "195_introverted_jubilant_zorc",
          "115_audition_photography_au...",
          "101_auditions_audition_actors",
          "276_youtuber_retargeting_su...",
          "297_prattle_tfd_latia",
          "197_myspace_snapchat_archived",
          "169_millennials_millennial_...",
          "366_destabilizes_postini_li...",
          "34_premium_catalogue_offline",
          "141_patreon_novacek_donate",
          "102_twitch_streaming_stream",
          "150_yoyo_maintainer_dieting",
          "161_fitness_cvg_gearcom",
          "160_coparenting_parenting_m...",
          "187_grief_grieving_hospice",
          "349_grief_jeene_pseudo",
          "230_grief_griefcom_shapes",
          "214_panic_anxiety_attacks",
          "250_depression_depressed_me...",
          "135_autism_caisson_pediatri...",
          "458_forgiveness_forgive_ddown",
          "579_plasticity_disattached_...",
          "378_emotions_anger_emotion",
          "338_confidence_insecure_con...",
          "345_selflove_flaws_accepting",
          "262_sevens_extraordinary_di...",
          "334_intuition_oat_psychic",
          "599_beliefs_limiting_reprog...",
          "56_exhale_inhale_breath",
          "815_20s_30s_40s",
          "803_limitlessly_vocation_it...",
          "935_abrasives_busins_matchm...",
          "639_xmass_blindfold_twoonones",
          "612_habit_habits_automaticity",
          "635_productivity_distractio...",
          "337_meditation_meditate_med...",
          "669_kava_adaptogen_abd",
          "318_nighttime_naps_bassinet",
          "610_rolly_stayathome_anonomys",
          "508_resolutions_resolution_...",
          "520_workout_mileage_product...",
          "375_unmotivated_selfunderst...",
          "343_hygge_workaholic_stayca...",
          "480_topflight_reticent_tacky",
          "424_bartender_quaker_raythe...",
          "60_squat_squats_barbell",
          "95_splints_ligaments_tendon...",
          "129_goalkeeper_goalkeepers_...",
          "75_racket_teammates_loft",
          "109_marathon_marathons_boston",
          "284_crosscountry_richardsro...",
          "306_wrestling_wrestler_inring",
          "147_jiujitsu_jujitsu_belt",
          "253_shattuck_hockey_peewee",
          "389_coaches_coaching_alexia",
          "516_programming_gymnast_mic...",
          "219_sport_hoa_esports",
          "221_esports_gfinity_overwatch",
          "104_cerrone_mcgregor_ufc",
          "174_uniform_uniforms_jerseys",
          "266_volleyball_basketball_f...",
          "207_ncaa_likeness_scholarship",
          "235_mls_stadium_nasl",
          "194_wilmslow_neilson_malarial",
          "154_drc_punting_hitter",
          "146_recruiting_linfield_penn",
          "177_otas_varsity_nau",
          "72_trading_ema_trades",
          "59_dividend_ira_roth",
          "151_revenue_valuation_earni...",
          "65_tesla_teslas_battery",
          "136_insurance_medicaid_clin...",
          "79_cannabis_marijuana_dispe...",
          "86_keywords_segmentation_co...",
          "103_recruiters_linkedin_rec...",
          "121_salesperson_customer_de...",
          "238_psychk_bento_familyowned",
          "204_overextended_givers_fou...",
          "312_college_degree_unemploy...",
          "300_engineering_undergrad_g...",
          "144_med_neurology_residency",
          "256_interviewer_interviewin...",
          "176_scrum_sprint_agile",
          "496_principalship_futurerea...",
          "368_mentoring_mentorship_me...",
          "396_coaching_coaches_schramko",
          "242_designer_designers_ux",
          "61_zbrush_generative_lighting",
          "493_ecommerce_hubspot_b2b",
          "453_innovate_innovation_mic...",
          "340_hungarian_india_berlin",
          "333_vcs_fundraising_founders",
          "384_ftx_deauville_investors",
          "249_donor_donors_annual",
          "339_massage_hst_clinic",
          "223_contactor_pricing_flat",
          "390_freelancer_freelancers_...",
          "351_newsletter_microbloggin...",
          "311_paintings_fairs_painting",
          "222_netflix_hulu_cable",
          "620_clintus_subscribers_vods",
          "335_ftc_childdirected_kapa",
          "285_youtubers_youtuber_tock",
          "398_broll_editing_footage",
          "205_photographers_photograp...",
          "32_nebula_lenses_lens",
          "48_pixel_chromebook_iphone",
          "78_nintendo_controller_xbox",
          "80_3ds_nes_mario",
          "131_pokemon_pokmon_pikachu",
          "50_decks_deck_graveyard",
          "93_brawlers_damage_brawler",
          "98_revan_lane_lifestealer",
          "267_maps_skyscraper_map",
          "481_skyrim_fallout_borderla...",
          "543_royale_apex_fortnight",
          "377_champ_dota_mmr",
          "439_pvp_dota_casuals",
          "656_jrpg_overstay_pc",
          "167_mandalorian_mandalorian...",
          "94_skywalker_jedi_wars",
          "162_danvers_marvel_widow",
          "163_claus_christmas_hallmark",
          "82_anime_manga_toonami",
          "107_jotaro_tetsuo_kannada",
          "346_starfire_trigon_arman",
          "113_cersei_aria_tyrion",
          "156_trek_klingons_klingon",
          "500_leto_moonlight_arclight",
          "358_streep_meryl_tucci",
          "215_horror_slasher_exorcist",
          "255_batman_manhunter_blofeld",
          "264_joker_batman_heath",
          "488_avengers_captain_mcu",
          "356_xmen_avengers_marvel",
          "434_marvel_infinity_avengers",
          "946_screenplay_screenwritin...",
          "721_storyboard_narration_brad",
          "991_smoothing_offramp_inter...",
          "376_selects_reels_subclip",
          "940_jakarta_antivenin_museums",
          "591_whisperer_skillshare_ya...",
          "686_babson_biochem_besh",
          "1183_atrisk_creativities_in...",
          "470_sorority_sororities_bur...",
          "372_strip_strippers_dancers",
          "515_camden_lodge_masonry",
          "379_lodge_freemasonry_masonry",
          "860_azevedo_girlswere_ficti...",
          "495_masturbators_sivaji_abled",
          "462_vinay_rav4_erewhon",
          "344_teachablecom_pedernales...",
          "863_bevin_eseries_yearsand",
          "741_redefined_andrivers_pro...",
          "889_havestruggling_overopti...",
          "885_gothams_soulnow_leonard...",
          "694_gratitude_georgian_benta",
          "643_mcbeal_strongfoundation...",
          "1150_clearings_reincarnatio...",
          "404_dada_zither_wkd",
          "468_lyrics_weezer_harmonics",
          "696_plantain_benjis_fisting",
          "945_tremonti_drugcrazed_mmhh",
          "149_amp_kemper_amps",
          "712_dj_djs_snare",
          "383_hardwell_megadeth_spector",
          "224_disco_dianno_maiden",
          "767_hihat_melodies_lofi",
          "567_mastering_melody_wombats",
          "387_hiphop_rb_playlist",
          "232_guitar_piano_drums",
          "540_songwriting_songwriter_...",
          "317_lyrics_pum_lyric",
          "237_autistic_autism_aspergers",
          "630_masking_introverts_neur...",
          "568_separators_compliments_...",
          "691_aspersion_yolo_digiti",
          "776_growthoriented_shona_sp...",
          "395_languages_affirmation_g...",
          "766_solvable_numberscom_mar...",
          "234_fashion_outfits_dress",
          "298_transitioning_trans_tra...",
          "172_aquarius_scorpio_geminis",
          "702_fuzziness_matchers_pent...",
          "731_ripa_precipice_iddat",
          "623_propitiate_macarena_con...",
          "828_lhota_wasor_kitsap",
          "541_jhana_catfished_xanga",
          "513_lima_romcom_tinseltown",
          "321_alpha_beta_males",
          "1110_courtship_monogamists_...",
          "673_kawasan_fitnah_marriage",
          "777_reparent_adoption_soother",
          "593_kata_homosexual_bandoneon",
          "984_pomeranian_overprotecti...",
          "589_ultimatum_diemens_err",
          "561_snapple_dateline_simula...",
          "601_kazakhstan_visa_syria",
          "1180_matured_married_monoga...",
          "99_deer_hunting_coyote",
          "166_expressway_ramming_cops",
          "236_babushka_officer_officers",
          "456_topher_widemouth_spencers",
          "159_holden_holdens_barney",
          "466_libs_gchat_supernova",
          "263_troys_unday_genuinity",
          "260_hotmail_lovehate_exgirl...",
          "188_steinbeck_streaks_memes",
          "145_espadrilles_cribs_juggles",
          "148_comedians_comedy_comedian",
          "81_costume_costumes_halloween",
          "64_vangie_runway_outfit",
          "85_bachelor_hannah_bachelor...",
          "116_lacey_tina_brooke",
          "90_wallet_shavings_envelope",
          "208_bloodstones_cholula_lul...",
          "201_wedding_weddings_brides...",
          "193_bride_wedding_groom",
          "158_festival_vip_concerts",
          "142_311_concert_dietrichs",
          "428_ashley_cariocas_karine",
          "402_hannah_shep_luke",
          "310_heidi_audrina_spencer",
          "125_vanderpump_teresa_dolores",
          "259_apology_shanita_camille",
          "330_proctor_ingrids_institu...",
          "9_bye_brick_genitive",
          "307_vegemite_contente_phila...",
          "184_mdrt_ola_hirschbergs",
          "233_teigen_condi_bilji",
          "277_macbook_boogaloo_pelagic",
          "342_regulars_sperry_owww",
          "320_brunswick_nonlanguage_a...",
          "327_athletecom_pedestrianis...",
          "178_downtown_neighborhoods_...",
          "524_decorah_fontana_threean...",
          "302_childfree_surfing_tent",
          "487_doorknob_yorkie_dog",
          "241_tattoos_tattoo_sleeve",
          "554_barbie_elevenyearold_no...",
          "423_gifts_valentines_succul...",
          "419_fucktard_principal_redv...",
          "394_flanders_omid_damping",
          "290_wheelchair_selfcheckout...",
          "247_sebaceous_grumbles_cell...",
          "444_pulsate_speakeasy_deegan",
          "365_womp_pagoda_confliction",
          "289_tables_waiter_server",
          "274_toilet_squatty_urinal",
          "435_allergic_shower_coom",
          "491_jennette_coochie_jackha...",
          "570_roker_elevators_puke",
          "608_skittles_brancato_lifes...",
          "450_palmetto_snickers_nokia",
          "771_twiggy_bin_strudels",
          "362_propane_chevy_carranza",
          "572_skis_gliding_paragliding",
          "477_crossroads_parked_bluff...",
          "391_12gauge_tent_bushes",
          "518_blinds_hallway_unexplai...",
          "478_paralysis_snoring_juni",
          "1136_kingdom_israel_zedekiah",
          "1623_gospel_ephesians_recom...",
          "96_thy_thee_thou",
          "1589_worship_yahwah_praise",
          "1376_recalibrating_romans_a...",
          "1137_groanings_maketh_revel...",
          "531_disciples_baptist_gospels",
          "967_heaven_bloodletting_inf...",
          "319_cantata_bach_bak",
          "369_psalm_psalms_unto",
          "1226_hallelujah_samaria_ste...",
          "913_submit_submission_submi...",
          "1227_vengeance_envie_hoorah",
          "1010_samson_samsons_nazarite",
          "886_royster_abound_miry",
          "1172_1128_147_tcf",
          "1216_gentleness_anxious_phi...",
          "937_nonreligious_hasty_tran...",
          "711_friendships_chely_congr...",
          "752_bombarding_duei_splack",
          "825_uproots_involuted_awaaay",
          "756_temptation_flesh_605",
          "371_satan_accuser_devil",
          "658_storms_sandcastle_storm",
          "465_spurgeon_disciples_equa...",
          "548_partiality_racism_guilt",
          "436_ministry_seminary_pasto...",
          "539_mormon_mormons_mormonism",
          "286_krampus_samhain_celts",
          "314_winterfest_saturnalia_n...",
          "243_jews_jewish_poland",
          "92_yuga_krishma_mishnah",
          "112_allah_hindi_subhanahu",
          "164_krsna_krishna_arjuna",
          "363_swords_archangel_magician",
          "385_firmament_shalt_genesis",
          "182_nebuchadnezzar_babylon_...",
          "588_enoch_babylon_preflood",
          "703_emanuel_emmanuels_swede...",
          "244_daedra_mazda_avesta",
          "408_benedict_cardinal_archb...",
          "764_righteously_arrogance_d...",
          "1070_antihumanist_restore_e...",
          "1054_decluttering_declutter...",
          "607_minimalism_decluttering...",
          "920_happiness_sunlight_neij",
          "1270_prophesying_coursecorr...",
          "1159_authenticity_infospace...",
          "1169_mediadriven_icebreaker...",
          "1186_anichka_umrah_tapestry",
          "1265_conservativism_nonneed...",
          "1337_wesak_stagnant_uvw",
          "1059_vibration_vibrational_...",
          "1255_unicycle_superfoods_vi...",
          "526_mindfulness_meditation_...",
          "844_abstracts_contemplate_p...",
          "1072_polyphasic_detaching_d...",
          "562_phobia_mana_fears",
          "1045_bluer_outdrink_vibrantly",
          "704_priestess_poem_boulder",
          "775_attraction_unafraid_law",
          "411_paralysis_lucid_astral",
          "216_feminine_masculine_masc...",
          "157_psychedelic_psychedelic...",
          "464_stigma_11600_stigmatized",
          "509_therapist_therapy_dvt",
          "810_mccormick_seasonings_bpd",
          "299_surgery_meningitis_lymph",
          "1198_homelessness_firefight...",
          "729_selfmanagement_laryngol...",
          "1213_clinician_debrief_vella",
          "1239_neuropathic_mindfulnes...",
          "732_radiology_radiologist_ai",
          "272_medicus_aac_discoverabi...",
          "507_veterinarians_veterinar...",
          "547_trainer_certification_t...",
          "952_compari_minuter_blume",
          "680_remits_krashen_countern...",
          "1372_kenji_yaakov_yoshino",
          "1206_authorizing_sdos_autho...",
          "1444_gatekeepers_unschool_l...",
          "1058_successive_teenagers_s...",
          "1079_surrogacy_oen_stepdaug...",
          "891_passions_lowwage_evenju...",
          "1621_poppier_washingup_push...",
          "1071_downgrading_banzi_mand...",
          "1087_thorough_communicator_...",
          "833_guymon_biga_yond",
          "851_meetings_meeting_buffer",
          "932_pastor_parental_executive",
          "1015_labeouf_shia_henleys",
          "1347_stayathome_caregiver_c...",
          "1125_unselfish_shali_meabout",
          "1126_aspen_overregulation_m...",
          "1450_loveline_19s_sensi",
          "792_hildebrand_footloose_sa...",
          "1402_rewire_racializing_ash...",
          "1612_troubles_212_undo",
          "1355_theta_dbags_thetahealing",
          "1209_psychometric_kangan_ps...",
          "797_depressed_hopelessness_...",
          "1162_peeker_aboutwe_overthi...",
          "1193_kenneth_craig_spouse",
          "1212_grief_grieving_grieve",
          "1090_blessa_talkingabout_emdr",
          "1023_jades_counseling_hinders",
          "1240_sexstarved_sexless_hea...",
          "1262_stepkids_clocking_back...",
          "1626_brisa_mofongo_uturns",
          "1271_gaslighted_flirts_accu...",
          "919_cheating_dyna_lullabies",
          "1231_turca_pwr_whizzing",
          "1261_insulted_stuttering_ve...",
          "958_logic_blase_pmsing",
          "923_education_compulsory_ed",
          "868_feminism_feminist_antif...",
          "1247_queer_pride_spaces",
          "1596_cantinas_dignify_folksy",
          "1447_inclusion_cisgender_di...",
          "1030_takers_givers_reciproc...",
          "449_stoic_pigliucci_massimo",
          "724_freud_archetypes_imaginal",
          "780_combinatorial_illdefine...",
          "921_quantum_possibilities_i...",
          "1503_rollerskate_solutionor...",
          "1734_priors_dirichlet_exam",
          "867_prompts_latency_prompt",
          "689_memory_semantic_acousti...",
          "1214_eyewitness_participant...",
          "1175_sfa_admissions_sfas",
          "864_deferral_admissions_pri...",
          "1424_disorder_numbness_spec...",
          "1532_techfree_42kg_justcons...",
          "1579_bipolar_bipolarcom_ran...",
          "1428_adhd_stimulants_stratt...",
          "1655_autism_meltdown_burgla...",
          "1241_screens_boredom_mesma",
          "1094_toddler_puzzles_headli...",
          "995_foster_adoption_adopt",
          "1441_postpartum_skeksis_pla...",
          "910_midwife_births_birth",
          "998_therapist_ot_sect",
          "1709_problembased_havelike_...",
          "1362_owensboro_counselors_c...",
          "1224_freya_singers_vibrato",
          "1345_radiating_darley_alva",
          "1652_bioenergetics_racula_f...",
          "1301_naming_forefinger_adages",
          "1706_meditation_deepak_brea...",
          "1803_cf_absolve_expectancy",
          "1789_imitation_bishs_imitate",
          "1635_baradaran_supermom_dovey",
          "1691_dilutes_nonpoisonous_r...",
          "1480_goners_sella_hurricane",
          "1781_commencement_torniquet...",
          "1625_legacy_selfaccomplishm...",
          "1585_expectancy_highsided_h...",
          "1432_pilkington_frankel_exi...",
          "1749_shapeable_teapot_outsi...",
          "1451_considerateness_redemp...",
          "1436_unproportioned_organop...",
          "1395_procrastination_footbo...",
          "1534_procrastinates_assessi...",
          "1243_singlespaced_juby_ceding",
          "1730_selfmade_bicoastal_exp...",
          "1557_tradesman_sidek_55000",
          "1473_baffle_outdo_complacent",
          "1485_happiness_magazinecom_...",
          "1415_zapier_optometrist_man...",
          "1191_impermanence_emptiness...",
          "1486_prakasha_observances_e...",
          "1385_selfhealing_shrunk_dis...",
          "1696_traumas_ancestral_suff...",
          "1061_archangel_jophiel_remi...",
          "1583_fuego_synchronicities_...",
          "1379_esther_vortex_quieting",
          "1080_reiki_energies_crystals",
          "1603_vibrational_soma_blissed",
          "1351_floating_float_rcts",
          "1800_limbic_undifferentiate...",
          "1802_unburdening_tattooing_...",
          "746_indigenous_acknowledgem...",
          "1202_hearth_heathen_tribal",
          "707_tribe_shaman_ancient",
          "265_vita_alchemy_sig",
          "550_witchcraft_goddesses_go...",
          "682_altar_candle_spell",
          "1066_litha_solstice_saturna...",
          "1208_coven_covens_alexandrian",
          "1820_eclipses_cauldrons_bie...",
          "1316_reorientation_saturn_r...",
          "1722_retrograde_mercury_sco...",
          "1529_mercury_scorpio_retrog...",
          "1776_capricorn_saturn_pluto",
          "1469_horoscope_helpcom_coun...",
          "1394_pisces_mutable_absorbing",
          "772_horoscopes_embodied_ris...",
          "782_embodied_astrology_astr...",
          "549_rune_runes_alphabetic",
          "786_starry_lightworkers_hor...",
          "1260_eastern_capricorn_saturn",
          "1318_horoscope_starboard_al...",
          "1517_lactate_pectoris_retes...",
          "1757_parkrun_workouts_istone",
          "1590_fart_shabab_11k",
          "1192_leeds_daini_bargainers",
          "1564_crossfit_exportable_sw...",
          "1670_overreached_macrolevel...",
          "1311_osteopathic_legless_jog",
          "1230_crossfit_foucher_chinups",
          "1634_induction_kai_ragnar",
          "1022_runners_endurance_stre...",
          "410_cardio_intensity_hiit",
          "483_pullups_movements_hands...",
          "1097_aerobics_gyms_zang",
          "1267_drumcondra_elliptical_...",
          "907_p90x_500meter_mdr",
          "1077_goggins_revamps_clady",
          "1633_xpt_internalisation_po...",
          "1555_knuckles_steakhouse_ge...",
          "1305_shoetying_decosta_acco...",
          "1286_resolutions_resolution...",
          "1161_thankless_contino_ball...",
          "1853_postdoc_blackadder_fit...",
          "1041_cardio_calories_calorie",
          "1352_calorie_gorging_adhere...",
          "1813_diuretics_ziggys_rehyd...",
          "1178_twizzlers_durian_doritos",
          "948_sweeteners_stevia_sugar",
          "1123_oatmeal_meals_fasting",
          "677_protein_calories_fats",
          "1194_gels_carbohydrate_carb...",
          "789_inews_overeasy_veryin",
          "571_bodybuilding_bodybuilde...",
          "646_breastfeeding_y2y_weight",
          "506_curves_selflove_conditi...",
          "229_positivity_overweight_fat",
          "171_binge_restriction_dieting",
          "498_calories_30day_calorie",
          "331_nutrition_macros_calorie",
          "770_fasting_intermittent_de...",
          "139_creatine_protein_surplus",
          "191_ketosis_kilos_carbs",
          "407_fasting_grams_soylent",
          "326_turkey_thanksgiving_stu...",
          "322_spiralizer_leftovers_ve...",
          "347_crackers_smoothie_fara",
          "246_caffeine_milligrams_mel...",
          "747_burners_calorie_osteopo...",
          "352_ketogenic_ketones_ketosis",
          "432_cbd_thc_cannabis",
          "209_fluoride_varnish_dental",
          "270_soil_organics_coir",
          "406_kombucha_linseed_thc",
          "231_aquarium_aquariums_bota...",
          "40_electrons_ions_electron",
          "726_cancer_immunotherapy_ly...",
          "138_vaginal_incontinence_pr...",
          "417_lillian_debbie_cookies",
          "684_julia_julias_simcha",
          "701_arts_nea_hickenlooper",
          "642_gender_equality_occupat...",
          "393_citizenship_citizen_ita...",
          "412_autonomous_lidar_autonomy",
          "632_renewable_fossil_electr...",
          "173_rainfall_antarctica_dro...",
          "165_crops_pesticides_gmos",
          "108_vacuum_compressor_cfm",
          "288_mattress_underquilt_tarp",
          "283_recycling_plastic_compost",
          "67_wipe_dishwasher_dishes",
          "811_lika_resizer_loadbearing",
          "1259_wildwest_tynans_taskor...",
          "1388_rajinikanth_illustrati...",
          "1203_soulcrushing_kongfu_se...",
          "1671_pohleece_fauxconut_bid...",
          "1236_bonwits_id8_outsource",
          "969_photography_napali_phot...",
          "791_ina_reviews_warehouses",
          "1009_unifirst_pitchin_craig...",
          "1751_delegate_entrepreneurc...",
          "1309_gv_thurgood_ninefigure",
          "1106_bridger_bedi_aurier",
          "1103_collaborations_alumns_...",
          "1229_latercom_photographic_...",
          "1365_readjusting_hansen_mon...",
          "1269_scheduler_chadstone_pi...",
          "1277_kevo_galloway_oshaughn...",
          "1274_geekdom_assorted_cydon...",
          "869_linkedin_monogamish_sha...",
          "676_trucking_dispatching_re...",
          "1328_stopstart_checky_buddy...",
          "1124_mobo_chicagobased_recr...",
          "846_clientfocused_fgcu_cosmo",
          "784_tanning_salons_internship",
          "778_internship_apfel_legisl...",
          "433_credit_lendable_llc",
          "454_expenses_quickbooks_exp...",
          "716_factoring_contractor_co...",
          "1017_advertisers_adwords_ads",
          "648_turbotax_propublica_file",
          "505_attribution_install_ide...",
          "710_amazon_bezos_amazons",
          "592_malware_ransomware_atta...",
          "709_icloud_hacking_whatsapp",
          "779_aaf_fantasy_norrington",
          "1096_beattys_copa90_confuci...",
          "713_premier_clubs_revenues",
          "785_investorcom_soccer_cards",
          "692_garmin_strava_hrv",
          "587_swift_objectivec_xamarin",
          "829_tokenize_collectible_bl...",
          "957_hubspot_verizon_aws",
          "1509_agencies_projectbased_...",
          "874_publisher_publishers_pu...",
          "1336_partnerships_studios_s...",
          "872_equity_accounting_banking",
          "1308_founders_cpo_mckinseys",
          "1199_forma_sevenfigure_telco",
          "1028_emporium_valence_redun...",
          "1540_resume_achievements_qu...",
          "1263_competence_wsq_rp6",
          "1491_hbs_veneering_curiosity",
          "373_moneydriven_debtfree_debt",
          "485_finances_financially_ab...",
          "798_hilario_flosser_literacy",
          "582_loans_debt_student",
          "622_finances_garmincom_spouse",
          "181_lakhani_mesh_everchanging",
          "225_crypto_swan_bitcoin",
          "563_bitcoin_breakeven_block...",
          "292_libra_currencies_currency",
          "123_inflation_saleability_m...",
          "130_lightning_nodes_watchto...",
          "473_wordpress_affiliate_kaj...",
          "745_khatami_tedx_speakers",
          "386_keynote_allyship_speakers",
          "628_networking_meetupcom_sk...",
          "413_oasis_communitys_xorg",
          "613_kaggle_kernels_coursera",
          "228_quantum_ibm_computers",
          "522_dupa_data_7090",
          "472_internship_plattsburgh_...",
          "834_frontiers_comptrollers_...",
          "451_critique_critiques_pres...",
          "611_scopes_triage_planning",
          "922_strategy_humancentered_...",
          "527_hr_analytics_survey",
          "1129_behaviors_culture_values",
          "323_pfa_hanleys_bcba",
          "537_computing_mathematical_...",
          "497_curriculum_cpd_diagnostic",
          "748_iep_facetoface_learners",
          "370_finishers_finisher_erase",
          "117_narration_cornell_rubric",
          "119_bait_baits_glide",
          "303_plopper_buzzbait_chatte...",
          "511_fishingcom_ordownload_f...",
          "672_smallmouth_kbf_anglers",
          "968_anglers_kayak_kbl",
          "1350_goats_agriculture_peta",
          "1373_lamb_farmers_ranchers",
          "754_tampons_applicator_appl...",
          "897_mugs_mug_kingston",
          "1215_delivery_oat_peterboro...",
          "367_neapolitan_hazelnuts_pi...",
          "824_rome_trains_trenitalia",
          "722_tokyo_yamanote_ginza",
          "852_yen_tokyo_japan",
          "938_jamboree_scouts_pebble",
          "705_zurich_checkpoint_geneva",
          "697_glacier_maldives_iceland",
          "532_skyliner_epcot_monorail",
          "580_disneyland_pier_pixar",
          "1785_firewood_mdf_ultramarine",
          "802_lettering_painters_call...",
          "1465_kumbh_oriflame_screenp...",
          "904_generative_ovi_resizing",
          "603_kilometers_gravitationa...",
          "1404_hps_lumens_veg",
          "1257_fluorescent_lighting_d...",
          "773_lighting_illumination_m...",
          "430_solder_soldering_flux",
          "1020_humidity_hepa_vocs",
          "1160_goblin_scimitar_d20",
          "964_brutes_archaeon_crusher",
          "422_toughness_invulnerable_...",
          "757_grenades_grappler_grenade",
          "474_rifles_m1_m14",
          "536_firearm_536_mag",
          "445_bounties_xp_leveling",
          "248_raid_gauntlets_armor",
          "1184_mods_collections_armor",
          "1291_pvp_opulence_crucible",
          "1502_dreadnought_savathun_g...",
          "708_matchmaking_ranked_mmr",
          "1324_leaderboards_proam_inv...",
          "574_magnificant_mikey_fortn...",
          "440_vr_oculus_1440p",
          "989_hub_discord_ableton",
          "950_windowed_borderless_inf...",
          "1763_amiibo_crossing_asynch...",
          "1614_aimbots_refund_banned",
          "1712_bloodborne_shitorgetof...",
          "1726_troublemakers_bathwate...",
          "1047_activision_ea_respawn",
          "1481_southeast_mau_asia",
          "517_tensei_megami_luigis",
          "269_stompcom_stomp_stopcom",
          "1073_diesel_discord_fortnight",
          "738_subcaste_discord_twitch",
          "1823_jfq_ringa_ironed",
          "1370_blogcast_broadbent_hamdi",
          "1698_42069_lmt_spavin",
          "1076_snowboarding_starrett_...",
          "183_schaffer_smartercom_rod...",
          "74_bye_sirens_sprightly",
          "1440_marmite_buret_msu",
          "1553_fitpro_suarezcom_msu",
          "1419_whiskeytangofoxtrot_kn...",
          "1468_calligraphers_chacho_g...",
          "794_vee_contextually_garyvee",
          "1744_moonlike_funai_beavers",
          "1613_barrettes_socialcam_ha...",
          "1620_singularity_headmounte...",
          "1537_adsense_cymatics_pornhub",
          "1323_indiegogo_bookie_edg",
          "606_sunscreens_iconiccom_ac...",
          "564_jaclyn_boxycharm_lipsti...",
          "437_knives_knife_crkt",
          "1272_knife_knives_moku",
          "1700_gaming_critterscom_qui...",
          "1366_relapse_soba_sobers",
          "1235_guava_anexo_empowered",
          "855_clovis_marck_cloviscom",
          "1368_banyas_partons_tattooing",
          "683_verb_preposition_senten...",
          "960_italki_tutors_tutoring",
          "1331_beachwood_beechwood_pl...",
          "1166_henrico_fdic_ild",
          "1075_firefighter_dtf_firefi...",
          "332_autism_helper_adventures",
          "801_downloadable_stuttercom...",
          "1013_yoga_yogini_vedic",
          "1454_lightened_meditation_a...",
          "941_blissful_salvacom_hector",
          "1531_measurable_webinarcom_...",
          "931_conversion_optio_bids",
          "939_keywords_keyword_backli...",
          "651_radios_aprs_pods",
          "1743_oneparty_alexa_comscore",
          "1514_dashboard_visualizatio...",
          "1112_react_hooks_documentat...",
          "1346_onepagers_interfaces_c...",
          "965_photoshop_lightroom_squ...",
          "1374_consultation_consultat...",
          "1677_nudging_remote_chillers",
          "1321_civil_communitycom_firms",
          "1631_benchmarks_sub20_ujy",
          "1092_recruitment_recruiters...",
          "961_kaggle_chai_sciencehello",
          "1577_lifestylecom_dropship_...",
          "796_marlon_capitalist_stamps",
          "1065_tile_ntca_contractor",
          "1011_melinda_pedretti_jewel...",
          "552_cannabis_mccormick_grow...",
          "282_drcom_doctorcom_tradercom",
          "1616_forbush_nellie_rdms",
          "1766_14day_rie_bingbingbing...",
          "1306_undos_teller_speakeasy",
          "1668_leasing_license_retail",
          "1608_3k_rsm_ltn",
          "1661_alphabetize_tercios_ki...",
          "1567_longboard_purchases_un...",
          "1777_mothercare_freebos_hou...",
          "1641_perked_500k_lisam",
          "1713_sketchily_preshock_rig...",
          "1607_crowdfunding_kickstart...",
          "1724_bwr_330000_multiawardw...",
          "1600_chadstone_derbyshire_j...",
          "1278_eu_declarations_customs",
          "1382_berlin_berlins_shapoorji",
          "881_coliving_housing_apartm...",
          "1425_ubi_universal_income",
          "1098_immigrants_dropouts_am...",
          "1344_retailers_lisicki_shop...",
          "892_grubhub_yelp_grub",
          "1401_shipstation_shipstatio...",
          "1807_seller_productrelated_...",
          "751_trademark_trademarks_co...",
          "1322_snags_contracts_develo...",
          "760_seller_nonrefundable_wh...",
          "1844_emergency_hsa_fund",
          "1149_68000_rollsroyces_asse...",
          "1086_advisor_feeonly_advisors",
          "873_earnings_valuation_mari...",
          "982_valuation_portfolio_rsi",
          "657_buffett_ltcm_dwyer",
          "443_fed_powell_inflation",
          "799_gdp_qe_currency",
          "1780_trillion_inflation_tri...",
          "1029_reserve_fractional_banks",
          "461_venezuela_venezuelan_pe...",
          "426_bisque_bitpay_bsq",
          "1019_cripsy_coinbase_taxable",
          "944_masternodes_bsv_plummet...",
          "750_secretariat_marketmakin...",
          "827_bsv_capitulation_coins",
          "1391_idex_idexx_coins",
          "1433_mcclendon_coordinator_...",
          "1427_quincy_quincys_juco",
          "1117_herm_ltch_heisman",
          "1672_lsu_abilene_roughed",
          "1528_gsl_kerner_djp",
          "1488_penn_paterno_obrien",
          "1342_shaka_gonzaga_benchwar...",
          "1826_beading_ws_wwz",
          "1511_goody_mayfair_keef",
          "1793_saginaw_eap_kemosabe",
          "316_patents_drexel_stanbury",
          "888_emporia_hays_missouri",
          "1768_mgm_riskfree_betting",
          "1375_xfinity_betting_cowboys",
          "1808_sevenandahalf_niners_5...",
          "1619_manstill_walkoff_thump...",
          "1519_whipple_geldof_rida",
          "1839_duquesne_gibbs_zamboni",
          "1549_shattuck_hockey_pietro",
          "1390_ronny_turiaf_mazzara",
          "1516_analytics_halberstam_s...",
          "1467_dibala_arriola_vargas",
          "1692_muse_usl_pama",
          "1695_rudolph_helmet_suspended",
          "1659_xmithie_immortals_sore...",
          "1742_kiri_cleary_lingard",
          "1266_20man_trevi_academy",
          "1113_raisa_declan_carabao",
          "1471_benfica_shakhtar_lewan...",
          "1207_analogcom_scmp_makeev",
          "1383_pedersen_gerrard_millw...",
          "1732_villa_jamot_eriksen",
          "1082_vinicius_ronaldo_marad...",
          "1778_trubels_malcontent_cur...",
          "1012_glentoran_jac_moats",
          "1147_e1_oswestry_schuld",
          "535_monmouth_newellfonda_caa",
          "420_tsm_clg_tl",
          "675_steppers_bantam_kilbride",
          "693_grange_hotshots_tirtir",
          "525_bundesliga_heidenheim_l...",
          "469_regensburg_wiesbaden_da...",
          "1249_midfield_bamming_i31",
          "826_discouraged_hyperaggres...",
          "1580_vixens_towson_hatley",
          "1225_thorns_portland_nwsl",
          "1551_bgrade_kipnis_calvert",
          "1108_duel_frost_ct",
          "1678_physicality_splices_20...",
          "558_djokovic_nadal_medvedev",
          "1500_arima_millwall_71st",
          "1177_tillman_jenkins_steiners",
          "966_vincenzo_cory_bogdanovic",
          "955_amante_poolman_degi",
          "1055_annesley_coz_rokon",
          "1460_nonfactor_allseason_ra...",
          "1101_storecom_dantoni_referee",
          "1407_var_referee_fernandez",
          "795_zealand_whales_england",
          "730_nrl_rugby_perth",
          "936_rugby_solutes_gb",
          "1154_rugby_latin_salvador",
          "924_fiji_tonga_papua",
          "1646_kenshiro_philippines_i...",
          "1535_gambling_gambler_gamble",
          "584_betting_fanduel_bookmak...",
          "974_cruncher_200k_fanduel",
          "976_t5_entries_packages",
          "1246_badminton_denmark_salia",
          "1411_womens_allowance_mens",
          "990_ncaa_madden_dynasty",
          "1821_altitude_ller_sprinter",
          "1689_vhi_trombe_montaigne",
          "1615_trails_altitude_trail",
          "1550_racing_latemodel_racin...",
          "723_racing_thunderhill_mone...",
          "1317_bruises_bruise_triceps",
          "1588_minigolf_gnarley_beast...",
          "1618_pretraining_dryfit_str...",
          "1827_cotillion_cowlneck_suh...",
          "1335_judo_oshkosh_wrestling",
          "1393_boxing_ufc_oakley",
          "1547_reprimand_rulebreaking...",
          "1559_stressors_selforganize...",
          "1556_copland_simmi_3106",
          "1787_jousting_scrimmaging_v...",
          "1431_preplay_sonus_presurvey",
          "1437_mindsetcom_ebook_hfs",
          "1773_exhaling_breathing_inh...",
          "212_inhale_exhale_chaturanga",
          "934_neosporin_contacts_cf",
          "1459_crawfish_vincents_060",
          "814_tachycardic_congenital_...",
          "1739_panadol_novocaine_stat...",
          "1392_eloise_chlamydia_gunky",
          "951_epidural_contractions_i...",
          "1434_postpartum_epidural_la...",
          "1119_pregnancy_uteruses_obs...",
          "1357_tristan_kylies_malika",
          "1687_kathie_gifford_jamila",
          "1721_googlemail_advicegiver...",
          "1384_brainy_carline_valmont",
          "1680_liz_henley_krashens",
          "1720_alpha_lydia_beta",
          "1831_agnes_duggars_makarova",
          "1296_marlo_jade_rollins",
          "1624_zolciak_nene_phaedra",
          "1717_posthumously_horniness...",
          "1834_vicki_dippin_tamra",
          "1538_darcy_canaria_stacy",
          "1334_dubuque_oink_mxc",
          "1525_mcnasty_vivian_cabins",
          "1523_boggess_introducer_ski...",
          "1398_drumline_palvin_galpal",
          "1254_mariachi_candyman_yira",
          "1242_frolicking_jazzing_com...",
          "1644_najib_antonoff_flattery",
          "1280_tonderai_shue_wilner",
          "1340_schwab_audrina_i76",
          "1718_grieves_smartbook_glamma",
          "1222_junipero_gunny_overacted",
          "1027_cinderelly_lassi_alig",
          "1326_bridesmaid_principal_l...",
          "1714_rockbottom_bukakke_buk...",
          "1492_itwhat_jodi_oaxaca",
          "1810_eczema_unclips_latika",
          "1522_nancys_bunker_preconte...",
          "1586_mauri_shawty_shotty",
          "1788_o2y_mixie_kimono",
          "1801_threesomes_hasidic_mat...",
          "1774_blab_reciprocate_warmly",
          "1526_scirea_fcat_damnable",
          "1297_biophysics_3640_fifthy...",
          "1561_flunk_sickie_illdiscip...",
          "1562_dinozzo_leftist_pillow...",
          "1681_hefner_niecy_4243",
          "1018_darkens_loreal_dresses",
          "1570_poot_ctd_atletic",
          "1387_petals_taik_flinch",
          "1325_lingerie_prompter_yeast",
          "1558_fidget_pappus_railing",
          "1449_vegas_mesa_fremont",
          "1037_margaritaville_pitkin_...",
          "1287_xxi_versailles_alameda",
          "1120_walmart_walmarts_target",
          "1089_mucca_touka_kirpa",
          "866_tostadas_tewksbury_leom...",
          "1409_boinga_grayskull_cherub",
          "1148_carrick_gentility_craw...",
          "820_dissection_polendina_av...",
          "1332_zeitz_tic_tac",
          "841_doorknobs_doorknob_skit...",
          "1164_laughlin_polishers_veg...",
          "973_corddry_76049_dicker",
          "1064_sutter_kurt_tuckers",
          "762_comedians_comedian_ridl...",
          "1673_waves_surfers_surfing",
          "1091_sharks_seaplane_underw...",
          "928_roundabout_motorbike_bl...",
          "1829_manistee_silcoon_triax...",
          "1809_truckee_deliveryman_fr...",
          "1102_widemouth_prickles_bit...",
          "1109_gantries_barrett_canseco",
          "1733_beckles_drainage_esof",
          "1769_kaelin_tims_kato",
          "1665_delta_798_quadraphonic",
          "1412_derbycon_x5_railings",
          "1782_campers_doterra_shuttl...",
          "1786_lyft_uber_scooters",
          "1364_hawaii_kalispell_wahoo",
          "1669_munford_lubbock_evansv...",
          "1032_hardinsburg_leesburg_c...",
          "1144_trash_jingle_reindeer",
          "1014_homer_bart_marge",
          "1654_hogg_reverent_alligator",
          "1470_scavenger_hummingbird_...",
          "1196_stiffs_rastas_stowaway",
          "1605_omnibus_bubblegum_chucky",
          "1804_cashton_pranking_bellf...",
          "1543_finn_fin_boobafina",
          "883_straps_waterproof_strap",
          "1053_trousers_pants_pantalo...",
          "1524_laundry_piles_wardrobe",
          "1814_beep_armisen_stora",
          "1333_violet_brothel_sarandon",
          "1753_dollhouse_crossdressin...",
          "1461_lesbian_demiromantic_t...",
          "1422_neoliberalism_richies_...",
          "1063_pacino_efron_zac",
          "1371_stallone_whish_corrupt",
          "1312_joker_batman_avenges",
          "1282_vger_nimoy_ilia",
          "1153_abortion_prolife_abort...",
          "1201_monolinguals_terse_gra...",
          "1367_muggles_weasley_wollst...",
          "1574_lilith_rosemarie_raschi",
          "1658_criminalized_tio_super...",
          "1737_teal_tills_teals",
          "1453_connie_connies_kanyes",
          "1824_glitter_rosetinted_tyler",
          "1472_zant_sphinx_varion",
          "895_twilight_zelda_majoras",
          "1642_talos_majoras_galahad",
          "1594_carcinogens_ecigarette...",
          "1319_cigarettes_oysters_ket...",
          "1587_marijuana_cannabis_las...",
          "1512_selfselects_clarifier_...",
          "1288_otra_batygin_pingponged",
          "1851_peggy_teds_ted",
          "1798_alexa_alastair_ruritania",
          "1761_narration_dialogue_sna...",
          "1756_squillions_belinda_sec...",
          "1156_envelopes_hollingswort...",
          "1690_graffiti_mcm_revival",
          "1396_grenfell_cladding_colo...",
          "875_illuminati_gaga_morgana",
          "1513_starfucker_movember_pa...",
          "1636_marnies_marnie_della",
          "1131_festivals_festival_pro...",
          "1604_reconfigure_provisos_f...",
          "942_syndication_voyager_trek",
          "1050_kdrama_manga_dramas",
          "1353_lagerfeld_chanel_dove",
          "1701_modeling_prada_castings",
          "1611_musubi_advertising_india",
          "1836_occidental_kingscliff_...",
          "1548_singleserving_teches_p...",
          "1518_rangers_recliner_gregs",
          "578_growlers_leafs_hockey",
          "1506_rifled_weekshey_4513",
          "1093_nrl_clucky_hampson",
          "1204_talisman_kits_kiev",
          "1338_sixshot_foreground_est...",
          "1541_saranac_pddnos_jeanral...",
          "1420_begetting_j0k_aara",
          "1176_swallows_rasila_simmons",
          "1489_rohans_goingin_pandabu...",
          "1095_marcelina_acworth_jaisal",
          "1341_samira_ellijay_pwr",
          "1190_berra_vivi_gabba",
          "812_f5_lethal_rematch",
          "1770_icf_sudak_austrade",
          "1565_bangle_colmar_huskies",
          "1686_sherbrooke_glister_tofa",
          "1520_wallabies_matilda_walt...",
          "1645_chardee_macdennis_mozi",
          "1380_stavanger_hotmailcom_h...",
          "1817_mothersinlaw_sedusa_bego",
          "876_weddings_rebecca_switch...",
          "1299_wireframe_ottavacom_wa...",
          "1210_bachelor_christine_pan...",
          "1138_milady_pedo_olga",
          "1294_realsies_norheim_truven",
          "800_fas_lemur_mccracken",
          "1310_loma_enthuse_enthused",
          "739_pirates_piratescom_mcne...",
          "808_blumberg_uncivil_gimlet",
          "1568_rhianna_cryer_hootie",
          "1651_loco_engorgement_gaye",
          "1456_brr_rosenstock_nana",
          "1811_djed_carnegie_algid",
          "1699_tipton_theater_troupes",
          "1735_musical_gabriela_skeebo",
          "1107_orpheum_hairspray_musi...",
          "1683_motley_strummer_clash",
          "1754_kpop_yg_sandanista",
          "1662_def_griffiths_penciler",
          "1760_monocom_sampled_soundc...",
          "1479_unfuck_omegle_minecraft",
          "1676_frostbite_tbh_nba",
          "1784_shannon_teenyweeny_roc...",
          "1582_fudgy_garbo_threeof",
          "1812_shish_snatches_frosted",
          "1578_mastriani_stoners_come...",
          "1837_youtubeplease_username...",
          "1563_atcom_wickersham_reall...",
          "1315_gentry_masotti_benicio",
          "1842_thingamajig_kuwait_vegas",
          "105_dissipationthank_soongo...",
          "1710_bahasa_ikind_goodnesss...",
          "1725_thepart_aubrey_corded",
          "1848_scooch_galang_vaquita",
          "1850_latterday_exmormon_mor...",
          "1571_titos_inebriated_everc...",
          "1114_whiskey_whisky_scotch",
          "1245_candy_corn_butterscotch",
          "392_chocolate_licorice_butt...",
          "1598_milks_kornberg_sokkas",
          "1389_pastries_camels_rebei",
          "1039_tacos_tortilla_kumquat",
          "1289_sandwich_burger_morimoto",
          "807_shrimp_caprese_chutney",
          "482_popeyes_chickfila_ketchup",
          "512_salad_johnsonville_raizou",
          "1796_carnivore_scoville_par...",
          "1228_dehydrator_coconut_kale",
          "415_skillet_skillets_tables...",
          "1764_smuckers_dessert_veggie",
          "1750_cereal_cornflakes_peeps",
          "1728_durian_umami_tillamook",
          "1478_stegosaurus_scurvy_bar...",
          "901_brushing_chompers_tooth...",
          "460_oralb_crest_grownups",
          "714_chompers_brushing_tooth...",
          "1704_rg3_lamar_boykin",
          "1595_tackles_dtackle_tazewell",
          "1638_doubleteamed_starstudd...",
          "1650_isidori_490_downfield",
          "1767_stackyard_reapers_unca...",
          "1349_inopportune_montez_thr...",
          "1533_sowards_punt_79927",
          "1504_lambeau_maxtor_bernetta",
          "805_clemson_lsus_jamar",
          "1034_lamar_defender_ingram",
          "837_hagar_fritz_fleaflicker",
          "1195_personnel_rondell_fumble",
          "1043_mannonball_noxubee_eas...",
          "1327_jenkins_trufant_purdy",
          "978_boyle_rusher_packers",
          "1189_newton_cam_grier",
          "1078_dobbs_divisional_orleans",
          "1281_eagles_denvers_presided",
          "1476_derrick_chiefs_titans",
          "1181_seahawks_49ers_seattles",
          "983_49ers_ogletree_fumble",
          "688_interference_overturn_s...",
          "880_kelce_taysom_touchdown",
          "538_cowboys_vikings_prescott",
          "546_phl_packers_packet",
          "822_mccarthy_mcdaniels_gase",
          "1056_packers_rodgers_niners",
          "793_msu_natick_overtimes",
          "674_notre_penn_dame",
          "186_dolan_brawley_agentscom",
          "278_gliac_brenneman_pac12",
          "399_patriots_honeydicked_mc...",
          "189_brady_belichick_bradys",
          "87_nfc_rams_seahawks",
          "400_thornhill_routes_quickn...",
          "736_cristian_jamerson_contr...",
          "668_jordy_raiders_firstround",
          "325_packers_cobb_matthews",
          "441_restructure_ravens_cap",
          "271_wardlow_dribble_bogdano...",
          "128_penalty_referee_var",
          "360_interchange_trezeguet_c...",
          "281_martino_mexican_chivas",
          "114_madrid_neymar_psg",
          "661_everton_tottenham_newca...",
          "190_fa_quiz_doop",
          "685_portugal_relegated_conf...",
          "1386_scrimmaging_cemils_t91",
          "1250_bartolo_demoing_totalb...",
          "1067_bossy_phibian_prespring",
          "1329_swag_studentathlete_fo...",
          "1356_skaters_skater_derby",
          "902_midget_kitchener_hockey",
          "1256_lacrosse_hockey_lrf",
          "1146_flowtraq_historywise_a...",
          "903_deadspin_zandro_kickabout",
          "743_olympic_trials_iaaf",
          "625_marathon_44k_5k",
          "1081_straub_supercross_dnfs",
          "640_piedade_techcom_guevara",
          "576_orienteering_olympics_m...",
          "992_podium_katusha_grands",
          "245_tomac_barcia_roczen",
          "569_bowman_speedway_farnbor...",
          "489_604_shryock_straightaway",
          "431_lessard_fought_sorel",
          "476_baseball_pterosaur_kick...",
          "735_golf_handicap_golfers",
          "649_scrimmages_licence_feat...",
          "126_convertible_bmw_kilowatts",
          "287_drift_hpd_drifting",
          "328_gravel_cascades_cycling",
          "202_runner_marathon_levitt",
          "353_triathletes_worldleadin...",
          "200_cigar_cigars_smoked",
          "132_ipa_whiskey_cognac",
          "361_breweries_cigar_cigars",
          "774_seatgeek_dtd_topo",
          "662_holger_naturist_burgas",
          "638_hackathons_springfield_...",
          "530_trebuchet_bingle_fibs",
          "542_bookie_quenching_649",
          "501_yankeescom_rocktober_ju...",
          "213_tailgate_milwaukees_mke",
          "479_toanchor_mavs_galitsin",
          "664_wereour_worldwatch_ginawa",
          "510_scrum_zookeeper_christmas",
          "583_denton_birthday_grapes",
          "906_hiptompaz_elastol_warba...",
          "597_smilers_73_methodcom",
          "359_emmeline_valdivia_tova",
          "600_rave_potus_edm",
          "206_blaine_grease_gritty",
          "296_afterbuzz_espn_miskeen",
          "594_dinos_applebees_sanguine",
          "598_gatchaman_boromirs_spoi...",
          "652_scoobydoo_vvh_foundfoot...",
          "329_altman_inglorious_wars",
          "624_lore_scrolls_elder",
          "301_noncommercial_sleepcom_...",
          "700_kardashian_britney_kylie",
          "556_chiang_mai_hotmail",
          "631_ingh_unring_burgers",
          "575_hiddleston_windstorm_co...",
          "459_inbred_shoemaker_nollie",
          "577_oweme_catchphrase_quiz",
          "637_hoffa_kitson_neira",
          "308_spongebob_squidward_krab",
          "742_folker_ringworm_deadpool",
          "970_manful_snickerdoodles_b...",
          "528_tequila_koozies_kuzey",
          "553_cowgirl_puter_della",
          "678_wayon_mysoline_rennick",
          "899_lite_shale_peaky",
          "681_sm7b_murat_cheezits",
          "1033_vlog_toastmasters_esse...",
          "1174_pfp_kemper_misfits",
          "1330_bruna_overexposed_full...",
          "653_squall_zerg_quino",
          "915_saga_karima_meliodas",
          "849_rudik_spades_uptime",
          "1307_mitchie_burry_datchler",
          "933_gaslamp_cornhole_consig...",
          "644_jayz_kaepernick_schefter",
          "1008_goulding_misbehavin_ha...",
          "956_buble_dun_darians",
          "1021_txt_skolnick_floyd",
          "882_bowbow_meemah_hoo",
          "753_cortinas_metalcore_song...",
          "818_postgrunge_clutch_lsg",
          "636_punk_jovi_joni",
          "1083_drummer_bricker_fuse",
          "1400_pigs_pig_animals",
          "627_chimpanzees_sperm_dimor...",
          "273_dingoes_millipede_pythons",
          "557_mosquitoes_bugs_spiders",
          "699_temperature_furnace_pro...",
          "490_hermione_hagrid_centaurs",
          "185_dudley_harry_dumbledore",
          "210_clan_sandstorm_claw",
          "544_ouija_zuzu_zoe",
          "879_flag_grenadines_paral",
          "744_malaysian_fijian_ottoman",
          "755_rapinoe_hillary_marianne",
          "930_hong_kong_hongkongers",
          "416_longstreet_artillery_pi...",
          "1127_cigars_troops_vets",
          "1234_riccobene_bridgeport_c...",
          "494_godzilla_tetsuo_kannada",
          "719_clark_lex_smallville",
          "781_loomis_tommy_leatherface",
          "999_dwight_pam_michaels",
          "894_griphook_satirizing_dur...",
          "986_berkowitz_tariq_gaimans",
          "659_rapunzel_cassandra_rapu...",
          "1361_meralco_hilda_pomfrey",
          "728_shelley_frankenstein_el...",
          "499_narnia_aslan_wardrobe",
          "438_bingley_darcy_darcys",
          "560_lydia_gilead_agnes",
          "446_dracula_vampire_vampires",
          "654_petard_eridan_butkus",
          "853_unsatisfying_giphy_dd",
          "502_enchantments_enchanting...",
          "566_tarot_taro_arcana",
          "455_infinities_singularitie...",
          "718_aliens_alien_simulation",
          "1051_kenema_coupley_mazin",
          "618_romcom_mcnaughton_bride",
          "787_ladybird_balto_wisteria",
          "831_horsey_adaptation_baste...",
          "804_hartnett_bale_kingsley",
          "861_karaszewski_scarjo_hamf...",
          "912_glover_kray_thrusting",
          "1413_gere_saleon_spiderman",
          "987_feige_guardians_gunn",
          "1182_disney_sofas_gunn",
          "947_hulu_netflix_backspace",
          "615_disney_shrek_aladdin",
          "617_composers_wars_trilogy",
          "975_leia_jedi_kyber",
          "1088_hoh_holly_deliberations",
          "765_extinction_immunity_dev...",
          "1397_blake_sls_versary",
          "977_sonica_mauricio_moyamoya",
          "1410_gavin_unappreciated_ha...",
          "1273_midfifties_manzano_kri...",
          "898_reunions_greylek_bravo",
          "1457_zaius_mowbraycom_nete",
          "1163_marina_rey_updo",
          "1719_trolling_wendy_tequila",
          "823_luann_probation_sobriety",
          "1377_rtf_misti_safehouse",
          "1313_uch_chelmsford_redrew",
          "1132_hamlin_scrubs_footlocker",
          "1219_haitians_nigger_11p",
          "943_jezebels_30foot_benthos",
          "1068_wrongfully_accusations...",
          "1179_khumba_restraining_pig...",
          "1576_mackenzie_rocco_infuri...",
          "972_hough_julianne_michelle",
          "695_tasha_keisha_tariq",
          "429_brandi_predictions_trina",
          "585_sebastian_alaric_headma...",
          "717_patrick_alexis_davids",
          "959_bimini_octapie_acrobats",
          "865_ratburn_zouri_complexs",
          "994_sedaris_moniques_shaunas",
          "503_meredith_deluca_bailey",
          "896_giselle_dye_leann",
          "1417_giselle_mousehole_sarn...",
          "737_krispie_drinky_angrier",
          "905_bfl_vomit_drunk",
          "1251_slapping_flecks_drunko",
          "514_suboxone_heroin_drugs",
          "1185_curfew_assaulted_aunt",
          "1165_halfbrother_grandpa_be...",
          "1423_dover_dataflow_carnation",
          "1173_tightknit_exyou_powerb...",
          "993_jkj_kathleens_cockatiel",
          "929_groban_recom_wizardly",
          "1057_felicio_chuffed_kissers",
          "842_virginity_prejack_itali...",
          "925_littleass_unscrupulousl...",
          "586_taller_tall_tinder",
          "727_norco_thebombcom_eeven",
          "663_geneve_yff_snapchatted",
          "641_bisexual_bicurious_quee...",
          "1052_hijazi_queerbaiting_id...",
          "893_gardena_hon_leilani",
          "884_melty_bisexuality_lifeas",
          "1115_2097_nostradamus_heath...",
          "1069_chillaxing_11month_plo...",
          "1105_contiki_withthat_frenemy",
          "1806_dimenoc_shimaya_100year",
          "1168_tomorrowland_edc_malbec",
          "1006_bumble_homos_24x",
          "838_beto_catalog_alpha",
          "1474_decorating_riversleigh...",
          "1779_groundhog_groundhogs_m...",
          "1841_eans_venusaur_reverends",
          "1546_resolutions_midyear_sl...",
          "1530_murica_sublet_setasides",
          "1606_buleria_poppet_halpert",
          "1649_jarowair_canoe_interla...",
          "1508_doorknob_kyr_thinkings",
          "1435_doorknobs_vibra_thrill...",
          "1445_ginger_faggot_derogatory",
          "1660_fandoms_politically_pr...",
          "1220_tromp_mugabe_geneticist",
          "1819_egative_gotyou_safeness",
          "1354_backspacing_intp_orlick",
          "988_scrotie_deleted_blocked",
          "1591_blackmail_versahe_body...",
          "1693_sparacino_stalk_cockat...",
          "1731_lotoh_homewreck_fuccboi",
          "1298_unreciprocated_amarosa...",
          "1622_meatlovers_mismatch_le...",
          "1746_infatuation_keasy_horn...",
          "1217_cheating_cheater_cheated",
          "1846_videod_futon_testdriving",
          "1738_abusiveness_shalin_pan...",
          "1852_dickered_jizya_nonevent",
          "1482_sungmo_tailstock_clerval",
          "1741_roughhouse_yells_maked",
          "1026_herpes_hsv_disclosure",
          "1258_fernwood_comfor_cockfi...",
          "1507_jealousy_jealous_insec...",
          "1597_dysphoric_exboyfriend_...",
          "1835_counsel_oversquare_non...",
          "1244_unforgiveness_bitterne...",
          "1832_benadryl_wickedest_kom...",
          "1815_nightgown_glimmered_dong",
          "1439_carolyn_wanda_ashley",
          "1584_kinabalu_mindshatterin...",
          "971_cock_lilas_lila",
          "720_clit_pussy_drabble",
          "733_3632_shanty_hummingbird",
          "619_crawley_rosalie_rafael",
          "715_sophie_martha_talia",
          "666_marlene_ilsa_marlenes",
          "626_pinocchio_geppetto_pino...",
          "275_alice_dormouse_hatter",
          "1145_lorraine_lorraines_noel",
          "647_tyrannosaur_hadrosaur_m...",
          "1005_mads_hamza_assaf",
          "523_poseidon_odysseus_belle...",
          "217_penthesilea_athena_medusa",
          "120_navi_ganondorf_triforce",
          "671_wuhan_virus_coronavirus",
          "734_vaccine_vaccines_vaccin...",
          "667_flesheating_bacteria_vi...",
          "418_prion_scp_cjd",
          "313_yeti_peking_fossils",
          "295_loch_ness_nessie",
          "452_shark_hooper_jaws",
          "405_pirates_phillips_lifeboat",
          "595_lapine_parisians_okeech...",
          "604_svalbard_barentsburg_no...",
          "761_looted_polish_paintings",
          "749_rimet_trophy_jules",
          "1141_minna_everleigh_ada",
          "1084_madame_walker_madam",
          "909_einstein_albert_maleva",
          "1343_getty_marrakesh_martine",
          "1284_morgan_piers_murdoch",
          "836_lavey_anton_satanic",
          "1074_flds_adventist_seventh...",
          "687_malcolm_elijah_hulan",
          "783_harriet_harriets_broadus",
          "878_mandela_mandelas_aparth...",
          "616_filo_pancho_madero",
          "357_capone_capones_torrio",
          "573_prohibition_blasphemy_r...",
          "918_milks_milk_moscone",
          "862_arbuckle_arbuckles_arms...",
          "980_hollywood_hollywoods_dita",
          "857_walt_walts_elias",
          "963_owens_1936_olympic",
          "565_liston_ali_clay",
          "226_caesar_commodus_pompey",
          "670_joan_1429_domremy",
          "293_templar_knights_templars",
          "227_diamond_diamonds_cartier",
          "1487_kathleen_craig_kathleens",
          "1211_piper_fred_pipers",
          "788_betty_dans_bettys",
          "1171_brynn_bryn_phil",
          "819_amys_amy_archer",
          "1046_dorothea_puente_dorothy",
          "1360_fishes_francis_albert",
          "1463_ridgeway_ridgeways_rid...",
          "1035_elizabeth_bathory_eliz...",
          "1416_dorothys_dorothy_conrad",
          "1031_kristas_christa_krista",
          "1414_ming_beth_stauffer",
          "1197_walter_kensington_fire...",
          "1025_arnold_harold_maury",
          "555_oswald_kennedy_kennedys",
          "655_murphy_sal_baker",
          "927_hostages_sayyaf_abu",
          "1320_natasha_wolfgang_natas...",
          "634_jongil_shin_shinsung",
          "1104_mulan_mulans_xian",
          "1038_voodoo_laveau_marie",
          "1849_waggy_narcissa_litters",
          "908_exorcism_amort_theophilus",
          "985_wendigo_skinwalkers_nav...",
          "1128_plague_1518_tarrant",
          "1200_mosley_georges_adamski",
          "1048_valiant_stranges_thor",
          "1403_towers_evacuate_kokura",
          "1188_kulik_tunguska_meteorite",
          "1716_biffy_entity_epsilon",
          "1405_astral_synonyms_bluh",
          "1783_miguel_manuel_miguels",
          "1772_mutilation_cattle_lyme",
          "1446_parkman_parkmans_latex",
          "856_guam_buoy_anchorage",
          "1223_bermuda_triangle_disap...",
          "1232_polaris_buddington_bes...",
          "953_tornado_cordova_tuscalo...",
          "981_whatley_dawkins_wadley",
          "1592_alcatraz_anglin_clarence",
          "1170_cromwells_cromwell_wil...",
          "1448_challinor_counterfeiti...",
          "1381_nixon_watergate_mccord",
          "1283_huey_longs_impeach",
          "911_lucchese_darco_amuso",
          "1675_arlene_arlenes_mobster",
          "1639_sims_juliet_joylynn",
          "1685_aileen_wuornos_underline",
          "1493_neo_shane_valentine",
          "1843_jttf_antifreeze_rico",
          "1566_unsworth_pearlman_traf...",
          "1653_bebop_birdland_opry",
          "1187_selena_yolanda_quintan...",
          "1248_suge_tupac_knight",
          "1253_tonya_nancy_tanya",
          "1840_bruce_kung_fu",
          "605_license_revoked_switchb...",
          "854_precinct_cops_cop",
          "914_homicide_swerdlow_patri...",
          "533_ariel_susies_amanda",
          "877_tyler_deans_dean",
          "581_haney_pothead_offender",
          "629_kendra_erics_kendras",
          "1024_powderblue_hounding_mi...",
          "1121_craven_cellmate_murder...",
          "609_trayvon_allwhite_jury",
          "809_corrado_lynchings_lucille",
          "839_dahmer_radroaches_benav...",
          "665_strychnine_flora_cream",
          "279_hagley_bella_walton",
          "336_marilyn_norma_marylands",
          "519_elvis_elviss_presley",
          "602_bernard_poo_bernards",
          "521_iva_meghani_adjourned",
          "813_bernies_bernie_conway",
          "545_lorena_loreena_lorenas",
          "596_anatoly_desalvo_anatole",
          "740_henry_desmond_sands",
          "759_jennifer_marjorie_broad...",
          "421_adrian_kitzinger_adrienne",
          "679_wasser_takeo_murders",
          "315_gilgo_rifkin_janets",
          "291_dahmer_richard_cyanide",
          "374_cults_cult_bergs",
          "425_parnell_joel_albert",
          "382_rick_ricks_cocaine",
          "180_dea_griselda_cartel",
          "486_clyde_bonnie_wd",
          "304_hickok_regulators_sutton",
          "192_donner_bessie_hastings",
          "348_haunted_eeriest_myrtles",
          "124_roswell_ufo_51",
          "63_cia_julius_mockingbird",
          "66_trotsky_stalin_soviet",
          "251_diana_royal_megan",
          "175_accent_accents_cockney",
          "324_gaelic_scottish_scotland",
          "305_brexit_referendum_eu",
          "198_carswell_jacksons_nixon",
          "211_guns_gun_shootings",
          "364_lawful_motorcycle_bandi...",
          "442_motorcycle_biker_clubs",
          "355_trump_fox_rightwing",
          "388_impeachment_impeached_d...",
          "401_iran_iranians_soleimani",
          "484_muslims_exclusivist_islam",
          "1000_zoners_reflect_afterbuzz",
          "660_tvcom_afterbuzz_expressed",
          "137_tvcom_afterbuzz_undergaro",
          "1684_bohemian_bohemians_for...",
          "1001_stoic_meditations_brow...",
          "1295_procrastinationcom_pro...",
          "1599_weirdos_listcom_kaden",
          "1483_dissect_corneria_staefel",
          "845_whistler_tean_buren",
          "1745_merry_hanukkah_uko",
          "1275_wyse_friendster_rockers",
          "1300_futurologycom_reclamat...",
          "1302_cephalon_squared_squar...",
          "1167_vale_positivity_cocker",
          "1510_azran_polyglot_nerd",
          "1847_dhabitude_mercredi_flu...",
          "1816_homebuilding_vuillemin...",
          "1601_preorder_rlan_arlen",
          "1268_illustrated_potter_boo...",
          "551_learningdotcom_seneca_r...",
          "457_karina_murder_commute",
          "816_daebak_kpop_du",
          "1464_daycom_caftans_browse",
          "1339_scp_explorers_scps",
          "1044_headsup_optimal_ledger",
          "887_optimal_imaginable_moloch",
          "403_optimal_imaginable_neal",
          "1004_finance_optimal_imagin...",
          "698_optimal_podcastcom_severs",
          "1292_awaits_optimal_housecom",
          "1627_taoism_zen_episodealri...",
          "1290_hay_ca_corys",
          "871_ele_joycom_mich",
          "414_quickest_kenneth_instru...",
          "645_wellcom_sharmacom_sharma",
          "1640_rodeos_permit_rodeo",
          "1593_cowgirl_horsemanship_s...",
          "1569_preneur_zcom_soloprene...",
          "1418_fatherhood_firstclass_...",
          "1007_meister_convenience_bi...",
          "1142_meister_bitcoinmeister...",
          "504_ofd_risecom_waived",
          "1443_esi_motley_finance",
          "1408_usps_postage_bcom",
          "354_harvesting_emote_glider",
          "534_silky_transitions_outfit",
          "463_borderland_bioshock_sto...",
          "1099_lore_scrolls_elder",
          "1399_namira_akaviri_tamriel",
          "870_tiamat_edition_rerelease",
          "1759_quests_prewritten_mmos",
          "1694_actraiser_chthon_enant...",
          "1490_porthos_mages_sorcerers",
          "1002_paladin_paladins_oath",
          "1484_oco_rampaging_erebos",
          "1233_econ_strat_rng",
          "1711_chibi_nuka_nukacola",
          "1497_katamari_castlevania_t...",
          "817_mario_luigi_wii",
          "1499_donkey_kong_kart",
          "1790_dynomax_pokmon_pikachus",
          "1205_lotad_pokemon_guss",
          "475_pokemon_pokmon_sweeties",
          "1426_predatory_unexpected_d...",
          "917_burmese_turtles_whales",
          "1348_allosaurus_trex_dinosa...",
          "1609_worm_spider_bobbitt",
          "1702_waterfall_basalt_colum...",
          "1042_volcano_riffs_divot",
          "1505_nether_bedrock_slabs",
          "1157_sharks_basking_bycatch",
          "1438_boating_fisheries_quee...",
          "1003_trains_freight_warrant...",
          "996_904_woodstock_903",
          "1723_swimmer_rescue_simulated",
          "1085_hydraulic_breaker_brea...",
          "1755_tourniquet_tourniquets...",
          "1116_harleys_harley_offroad",
          "1573_kv_throttle_yamaha",
          "1628_ferrari_schumacher_mer...",
          "1794_shifter_evo_detuned",
          "1544_artisans_soaps_sterling",
          "1358_earrings_handstamped_n...",
          "1521_4x6_prints_darkroom",
          "890_papers_notebook_paper",
          "492_nearmint_mint_rares",
          "1111_psa_111_prism",
          "1359_bradshaw_giant_mortimer",
          "1736_indemnity_bradshaw_exp...",
          "1825_mcclure_peterpuffer_sc...",
          "1617_globes_nominations_hai...",
          "1630_borat_verboten_taranti...",
          "1682_offerman_schlubby_bend...",
          "1748_pov_concierge_lobster",
          "1452_muertos_placid_neill",
          "1221_nosferatu_expressionis...",
          "1729_racism_quidditch_holyh...",
          "1049_dvorak_schubert_brahms",
          "1667_bluest_toni_morrison",
          "1727_telugu_amico_ntr",
          "1527_houyan_ballack_bavarians",
          "1237_pollito_hindi_dass",
          "1501_poplocking_blacktop_ro...",
          "1536_portman_gape_anal",
          "1657_sephiroth_bahamut_nibe...",
          "1838_ecchi_toshio_seiji",
          "1688_kirishima_teigen_ua",
          "1828_cosplay_cosplaying_cos...",
          "1818_reedus_ff_spiderman",
          "1458_zemo_deadshot_villain",
          "1647_stark_ultron_iron",
          "1429_eternals_nmenor_celest...",
          "1762_snk_xmen_cyborg",
          "1797_lance_izod_larrya",
          "1133_mole_rat_luncheonbasket",
          "926_scrooge_scrooges_counti...",
          "1707_beast_beauty_beautys",
          "1498_nightingale_emperor_em...",
          "979_mermaid_prince_swam",
          "1494_brunhilde_bodo_botos",
          "1406_gilgamesh_enkidu_shamhat",
          "1822_narasimha_vishnu_yakutia",
          "1708_liana_yamba_sangoma",
          "1697_denomination_swedenbor...",
          "1799_calvinism_weber_aesthe...",
          "1752_anglican_anglicanism_c...",
          "1560_soteriology_justificat...",
          "1674_1014_pinoys_belches",
          "1602_hebrew_yiddish_torah",
          "1304_sheva_yemen_avraham",
          "1747_veil_veils_tabernacle",
          "1554_angels_messengers_sera...",
          "1771_broglies_burg_kabbalah",
          "1581_macbeth_macduff_macbeths",
          "1363_claudius_augustus_tibe...",
          "1036_typefaces_fonts_serif",
          "1648_kepler_keplers_tycho",
          "1679_tanuki_scrotums_sado",
          "614_dorado_cortez_conquista...",
          "997_daniken_nazca_giza",
          "1151_shah_nadir_peacock",
          "1158_colossus_statue_helios",
          "806_nefertiti_akhenaten_nef...",
          "1462_persian_cavalry_persians",
          "1792_besar_republics_czarist",
          "1758_golly_egyptian_boutros...",
          "1143_palestinians_twostate_...",
          "1475_extinction_rebellion_n...",
          "1118_haiti_haitian_degradat...",
          "949_3213_3153_marce",
          "1130_illuminati_illuminatis...",
          "1264_insurgency_goc_scp",
          "1135_vault_overseer_vaulttec",
          "1285_notation_mathematics_p...",
          "1765_sapiens_homo_agricultu...",
          "690_allele_chromosome_reces...",
          "1252_frogs_sperm_hcg",
          "1703_buddhism_impure_ritually",
          "1740_hypothesis_variable_th...",
          "1496_piaget_ontogeny_operant",
          "1279_humanistic_musicom_phi...",
          "1477_physiotherapy_physioth...",
          "1610_intensive_icu_nursing",
          "1637_osteopathy_pediatrics_...",
          "843_examiner_dbq_vce",
          "821_va_disability_serviceco...",
          "1369_orthopedic_surgeon_con...",
          "1539_radiation_sirt1_ehs",
          "1238_irrevocable_inspection...",
          "294_testators_easement_tena...",
          "1140_fpgas_gpu_fpga",
          "1795_fmcsa_nitsa_kodiak",
          "1791_lymphoma_8599_cerec",
          "1430_moderator_voters_selec...",
          "1805_unionized_eca_nicu",
          "1664_reservation_tuition_ba...",
          "1515_rbi_reforms_imf",
          "1552_lithium_bolivia_argent...",
          "1152_lithium_cobalt_battery",
          "1656_bitcoins_fiat_634",
          "1303_austrian_economics_rot...",
          "1663_ortho_discoverability_...",
          "1666_septic_arthritis_staph...",
          "1775_scoliosis_idiopathic_b...",
          "89_arthroplasty_glenoid_med...",
          "448_carpal_radiculopathy_os...",
          "1378_fractures_nonaccidenta...",
          "830_cartilage_allograft_pro...",
          "1421_calendula_tincture_mar...",
          "1455_magnesium_glycinate_ci...",
          "1845_supplements_supplement...",
          "848_intestinal_lipopolysacc...",
          "559_bowel_peritonitis_obstr...",
          "1040_colostrum_calves_calving",
          "1060_transfusion_respirator...",
          "1062_vaginitis_microscopy_t...",
          "1715_intubation_airway_pulm...",
          "859_cough_laryngeal_vcd",
          "1830_hgh_erectile_pituitary",
          "380_testosterone_steroids_a...",
          "633_prenatal_dha_folate",
          "1122_biotin_microbiome_epid...",
          "1155_niacin_statins_aspirin",
          "840_insulin_uric_fructose",
          "758_ketones_ketosis_electro...",
          "621_keto_basics_covers",
          "1100_discretion_advised_cau...",
          "1643_serial_killers_ridgway",
          "1134_criminals_atrocities_f...",
          "1545_crimes_coconspirator_t...",
          "835_hostage_irma_blanco",
          "397_unexplained_brandenburg...",
          "1542_cults_cutler_paulson",
          "832_haunted_cutler_assistants",
          "768_cutler_kingpins_assista...",
          "471_cutler_crime_richardson",
          "467_cutler_unsolved_assista...",
          "1139_fates_originals_spotifys",
          "1218_spotifys_integrations_...",
          "1495_kookiness_dolan_impera...",
          "1442_founds_reuben_monetize",
          "1314_stocks_timmy_traders",
          "858_listenership_6h_reanchor",
          "1572_anchored_dime_craft",
          "1632_afterbuzzers_uploads_e...",
          "1833_toanything_fre_tova",
          "1293_chitty_easyge_computer...",
          "850_lakhani_mesh_mosher",
          "170_asmr_premium_offline",
          "900_embodied_builtin_horosc...",
          "916_spotifyapple_ifm_premat...",
          "1276_experiencingsense_sunf...",
          "706_selfs_tm_sleeplessness",
          "790_calif_distributes_switc...",
          "650_onestop_distributing_po...",
          "769_everythingyou_anchordis...",
          "725_snt_ragecom_twitchtv",
          "1016_uptour_hunkahunka_wwdc",
          "962_madhouse_motorcycle_biker",
          "954_placethank_hls_sportscom",
          "409_ribbit_packet_herman",
          "1575_rightspeaking_funnies_...",
          "1466_listenersits_milwaukee...",
          "1705_huddle_500s_strategist",
          "1629_downloading_browser_up...",
          "529_afterbuzzers_espn_tuned",
          "155_distributor_anchors_spo...",
          "447_cabrerayou_getstarted_u...",
          "847_mcclure_tpt_parenting",
          "763_uncensored_polyamory_ch...",
          "427_orgo_listenership_distr..."
         ],
         "tickvals": [
          -5,
          -15,
          -25,
          -35,
          -45,
          -55,
          -65,
          -75,
          -85,
          -95,
          -105,
          -115,
          -125,
          -135,
          -145,
          -155,
          -165,
          -175,
          -185,
          -195,
          -205,
          -215,
          -225,
          -235,
          -245,
          -255,
          -265,
          -275,
          -285,
          -295,
          -305,
          -315,
          -325,
          -335,
          -345,
          -355,
          -365,
          -375,
          -385,
          -395,
          -405,
          -415,
          -425,
          -435,
          -445,
          -455,
          -465,
          -475,
          -485,
          -495,
          -505,
          -515,
          -525,
          -535,
          -545,
          -555,
          -565,
          -575,
          -585,
          -595,
          -605,
          -615,
          -625,
          -635,
          -645,
          -655,
          -665,
          -675,
          -685,
          -695,
          -705,
          -715,
          -725,
          -735,
          -745,
          -755,
          -765,
          -775,
          -785,
          -795,
          -805,
          -815,
          -825,
          -835,
          -845,
          -855,
          -865,
          -875,
          -885,
          -895,
          -905,
          -915,
          -925,
          -935,
          -945,
          -955,
          -965,
          -975,
          -985,
          -995,
          -1005,
          -1015,
          -1025,
          -1035,
          -1045,
          -1055,
          -1065,
          -1075,
          -1085,
          -1095,
          -1105,
          -1115,
          -1125,
          -1135,
          -1145,
          -1155,
          -1165,
          -1175,
          -1185,
          -1195,
          -1205,
          -1215,
          -1225,
          -1235,
          -1245,
          -1255,
          -1265,
          -1275,
          -1285,
          -1295,
          -1305,
          -1315,
          -1325,
          -1335,
          -1345,
          -1355,
          -1365,
          -1375,
          -1385,
          -1395,
          -1405,
          -1415,
          -1425,
          -1435,
          -1445,
          -1455,
          -1465,
          -1475,
          -1485,
          -1495,
          -1505,
          -1515,
          -1525,
          -1535,
          -1545,
          -1555,
          -1565,
          -1575,
          -1585,
          -1595,
          -1605,
          -1615,
          -1625,
          -1635,
          -1645,
          -1655,
          -1665,
          -1675,
          -1685,
          -1695,
          -1705,
          -1715,
          -1725,
          -1735,
          -1745,
          -1755,
          -1765,
          -1775,
          -1785,
          -1795,
          -1805,
          -1815,
          -1825,
          -1835,
          -1845,
          -1855,
          -1865,
          -1875,
          -1885,
          -1895,
          -1905,
          -1915,
          -1925,
          -1935,
          -1945,
          -1955,
          -1965,
          -1975,
          -1985,
          -1995,
          -2005,
          -2015,
          -2025,
          -2035,
          -2045,
          -2055,
          -2065,
          -2075,
          -2085,
          -2095,
          -2105,
          -2115,
          -2125,
          -2135,
          -2145,
          -2155,
          -2165,
          -2175,
          -2185,
          -2195,
          -2205,
          -2215,
          -2225,
          -2235,
          -2245,
          -2255,
          -2265,
          -2275,
          -2285,
          -2295,
          -2305,
          -2315,
          -2325,
          -2335,
          -2345,
          -2355,
          -2365,
          -2375,
          -2385,
          -2395,
          -2405,
          -2415,
          -2425,
          -2435,
          -2445,
          -2455,
          -2465,
          -2475,
          -2485,
          -2495,
          -2505,
          -2515,
          -2525,
          -2535,
          -2545,
          -2555,
          -2565,
          -2575,
          -2585,
          -2595,
          -2605,
          -2615,
          -2625,
          -2635,
          -2645,
          -2655,
          -2665,
          -2675,
          -2685,
          -2695,
          -2705,
          -2715,
          -2725,
          -2735,
          -2745,
          -2755,
          -2765,
          -2775,
          -2785,
          -2795,
          -2805,
          -2815,
          -2825,
          -2835,
          -2845,
          -2855,
          -2865,
          -2875,
          -2885,
          -2895,
          -2905,
          -2915,
          -2925,
          -2935,
          -2945,
          -2955,
          -2965,
          -2975,
          -2985,
          -2995,
          -3005,
          -3015,
          -3025,
          -3035,
          -3045,
          -3055,
          -3065,
          -3075,
          -3085,
          -3095,
          -3105,
          -3115,
          -3125,
          -3135,
          -3145,
          -3155,
          -3165,
          -3175,
          -3185,
          -3195,
          -3205,
          -3215,
          -3225,
          -3235,
          -3245,
          -3255,
          -3265,
          -3275,
          -3285,
          -3295,
          -3305,
          -3315,
          -3325,
          -3335,
          -3345,
          -3355,
          -3365,
          -3375,
          -3385,
          -3395,
          -3405,
          -3415,
          -3425,
          -3435,
          -3445,
          -3455,
          -3465,
          -3475,
          -3485,
          -3495,
          -3505,
          -3515,
          -3525,
          -3535,
          -3545,
          -3555,
          -3565,
          -3575,
          -3585,
          -3595,
          -3605,
          -3615,
          -3625,
          -3635,
          -3645,
          -3655,
          -3665,
          -3675,
          -3685,
          -3695,
          -3705,
          -3715,
          -3725,
          -3735,
          -3745,
          -3755,
          -3765,
          -3775,
          -3785,
          -3795,
          -3805,
          -3815,
          -3825,
          -3835,
          -3845,
          -3855,
          -3865,
          -3875,
          -3885,
          -3895,
          -3905,
          -3915,
          -3925,
          -3935,
          -3945,
          -3955,
          -3965,
          -3975,
          -3985,
          -3995,
          -4005,
          -4015,
          -4025,
          -4035,
          -4045,
          -4055,
          -4065,
          -4075,
          -4085,
          -4095,
          -4105,
          -4115,
          -4125,
          -4135,
          -4145,
          -4155,
          -4165,
          -4175,
          -4185,
          -4195,
          -4205,
          -4215,
          -4225,
          -4235,
          -4245,
          -4255,
          -4265,
          -4275,
          -4285,
          -4295,
          -4305,
          -4315,
          -4325,
          -4335,
          -4345,
          -4355,
          -4365,
          -4375,
          -4385,
          -4395,
          -4405,
          -4415,
          -4425,
          -4435,
          -4445,
          -4455,
          -4465,
          -4475,
          -4485,
          -4495,
          -4505,
          -4515,
          -4525,
          -4535,
          -4545,
          -4555,
          -4565,
          -4575,
          -4585,
          -4595,
          -4605,
          -4615,
          -4625,
          -4635,
          -4645,
          -4655,
          -4665,
          -4675,
          -4685,
          -4695,
          -4705,
          -4715,
          -4725,
          -4735,
          -4745,
          -4755,
          -4765,
          -4775,
          -4785,
          -4795,
          -4805,
          -4815,
          -4825,
          -4835,
          -4845,
          -4855,
          -4865,
          -4875,
          -4885,
          -4895,
          -4905,
          -4915,
          -4925,
          -4935,
          -4945,
          -4955,
          -4965,
          -4975,
          -4985,
          -4995,
          -5005,
          -5015,
          -5025,
          -5035,
          -5045,
          -5055,
          -5065,
          -5075,
          -5085,
          -5095,
          -5105,
          -5115,
          -5125,
          -5135,
          -5145,
          -5155,
          -5165,
          -5175,
          -5185,
          -5195,
          -5205,
          -5215,
          -5225,
          -5235,
          -5245,
          -5255,
          -5265,
          -5275,
          -5285,
          -5295,
          -5305,
          -5315,
          -5325,
          -5335,
          -5345,
          -5355,
          -5365,
          -5375,
          -5385,
          -5395,
          -5405,
          -5415,
          -5425,
          -5435,
          -5445,
          -5455,
          -5465,
          -5475,
          -5485,
          -5495,
          -5505,
          -5515,
          -5525,
          -5535,
          -5545,
          -5555,
          -5565,
          -5575,
          -5585,
          -5595,
          -5605,
          -5615,
          -5625,
          -5635,
          -5645,
          -5655,
          -5665,
          -5675,
          -5685,
          -5695,
          -5705,
          -5715,
          -5725,
          -5735,
          -5745,
          -5755,
          -5765,
          -5775,
          -5785,
          -5795,
          -5805,
          -5815,
          -5825,
          -5835,
          -5845,
          -5855,
          -5865,
          -5875,
          -5885,
          -5895,
          -5905,
          -5915,
          -5925,
          -5935,
          -5945,
          -5955,
          -5965,
          -5975,
          -5985,
          -5995,
          -6005,
          -6015,
          -6025,
          -6035,
          -6045,
          -6055,
          -6065,
          -6075,
          -6085,
          -6095,
          -6105,
          -6115,
          -6125,
          -6135,
          -6145,
          -6155,
          -6165,
          -6175,
          -6185,
          -6195,
          -6205,
          -6215,
          -6225,
          -6235,
          -6245,
          -6255,
          -6265,
          -6275,
          -6285,
          -6295,
          -6305,
          -6315,
          -6325,
          -6335,
          -6345,
          -6355,
          -6365,
          -6375,
          -6385,
          -6395,
          -6405,
          -6415,
          -6425,
          -6435,
          -6445,
          -6455,
          -6465,
          -6475,
          -6485,
          -6495,
          -6505,
          -6515,
          -6525,
          -6535,
          -6545,
          -6555,
          -6565,
          -6575,
          -6585,
          -6595,
          -6605,
          -6615,
          -6625,
          -6635,
          -6645,
          -6655,
          -6665,
          -6675,
          -6685,
          -6695,
          -6705,
          -6715,
          -6725,
          -6735,
          -6745,
          -6755,
          -6765,
          -6775,
          -6785,
          -6795,
          -6805,
          -6815,
          -6825,
          -6835,
          -6845,
          -6855,
          -6865,
          -6875,
          -6885,
          -6895,
          -6905,
          -6915,
          -6925,
          -6935,
          -6945,
          -6955,
          -6965,
          -6975,
          -6985,
          -6995,
          -7005,
          -7015,
          -7025,
          -7035,
          -7045,
          -7055,
          -7065,
          -7075,
          -7085,
          -7095,
          -7105,
          -7115,
          -7125,
          -7135,
          -7145,
          -7155,
          -7165,
          -7175,
          -7185,
          -7195,
          -7205,
          -7215,
          -7225,
          -7235,
          -7245,
          -7255,
          -7265,
          -7275,
          -7285,
          -7295,
          -7305,
          -7315,
          -7325,
          -7335,
          -7345,
          -7355,
          -7365,
          -7375,
          -7385,
          -7395,
          -7405,
          -7415,
          -7425,
          -7435,
          -7445,
          -7455,
          -7465,
          -7475,
          -7485,
          -7495,
          -7505,
          -7515,
          -7525,
          -7535,
          -7545,
          -7555,
          -7565,
          -7575,
          -7585,
          -7595,
          -7605,
          -7615,
          -7625,
          -7635,
          -7645,
          -7655,
          -7665,
          -7675,
          -7685,
          -7695,
          -7705,
          -7715,
          -7725,
          -7735,
          -7745,
          -7755,
          -7765,
          -7775,
          -7785,
          -7795,
          -7805,
          -7815,
          -7825,
          -7835,
          -7845,
          -7855,
          -7865,
          -7875,
          -7885,
          -7895,
          -7905,
          -7915,
          -7925,
          -7935,
          -7945,
          -7955,
          -7965,
          -7975,
          -7985,
          -7995,
          -8005,
          -8015,
          -8025,
          -8035,
          -8045,
          -8055,
          -8065,
          -8075,
          -8085,
          -8095,
          -8105,
          -8115,
          -8125,
          -8135,
          -8145,
          -8155,
          -8165,
          -8175,
          -8185,
          -8195,
          -8205,
          -8215,
          -8225,
          -8235,
          -8245,
          -8255,
          -8265,
          -8275,
          -8285,
          -8295,
          -8305,
          -8315,
          -8325,
          -8335,
          -8345,
          -8355,
          -8365,
          -8375,
          -8385,
          -8395,
          -8405,
          -8415,
          -8425,
          -8435,
          -8445,
          -8455,
          -8465,
          -8475,
          -8485,
          -8495,
          -8505,
          -8515,
          -8525,
          -8535,
          -8545,
          -8555,
          -8565,
          -8575,
          -8585,
          -8595,
          -8605,
          -8615,
          -8625,
          -8635,
          -8645,
          -8655,
          -8665,
          -8675,
          -8685,
          -8695,
          -8705,
          -8715,
          -8725,
          -8735,
          -8745,
          -8755,
          -8765,
          -8775,
          -8785,
          -8795,
          -8805,
          -8815,
          -8825,
          -8835,
          -8845,
          -8855,
          -8865,
          -8875,
          -8885,
          -8895,
          -8905,
          -8915,
          -8925,
          -8935,
          -8945,
          -8955,
          -8965,
          -8975,
          -8985,
          -8995,
          -9005,
          -9015,
          -9025,
          -9035,
          -9045,
          -9055,
          -9065,
          -9075,
          -9085,
          -9095,
          -9105,
          -9115,
          -9125,
          -9135,
          -9145,
          -9155,
          -9165,
          -9175,
          -9185,
          -9195,
          -9205,
          -9215,
          -9225,
          -9235,
          -9245,
          -9255,
          -9265,
          -9275,
          -9285,
          -9295,
          -9305,
          -9315,
          -9325,
          -9335,
          -9345,
          -9355,
          -9365,
          -9375,
          -9385,
          -9395,
          -9405,
          -9415,
          -9425,
          -9435,
          -9445,
          -9455,
          -9465,
          -9475,
          -9485,
          -9495,
          -9505,
          -9515,
          -9525,
          -9535,
          -9545,
          -9555,
          -9565,
          -9575,
          -9585,
          -9595,
          -9605,
          -9615,
          -9625,
          -9635,
          -9645,
          -9655,
          -9665,
          -9675,
          -9685,
          -9695,
          -9705,
          -9715,
          -9725,
          -9735,
          -9745,
          -9755,
          -9765,
          -9775,
          -9785,
          -9795,
          -9805,
          -9815,
          -9825,
          -9835,
          -9845,
          -9855,
          -9865,
          -9875,
          -9885,
          -9895,
          -9905,
          -9915,
          -9925,
          -9935,
          -9945,
          -9955,
          -9965,
          -9975,
          -9985,
          -9995,
          -10005,
          -10015,
          -10025,
          -10035,
          -10045,
          -10055,
          -10065,
          -10075,
          -10085,
          -10095,
          -10105,
          -10115,
          -10125,
          -10135,
          -10145,
          -10155,
          -10165,
          -10175,
          -10185,
          -10195,
          -10205,
          -10215,
          -10225,
          -10235,
          -10245,
          -10255,
          -10265,
          -10275,
          -10285,
          -10295,
          -10305,
          -10315,
          -10325,
          -10335,
          -10345,
          -10355,
          -10365,
          -10375,
          -10385,
          -10395,
          -10405,
          -10415,
          -10425,
          -10435,
          -10445,
          -10455,
          -10465,
          -10475,
          -10485,
          -10495,
          -10505,
          -10515,
          -10525,
          -10535,
          -10545,
          -10555,
          -10565,
          -10575,
          -10585,
          -10595,
          -10605,
          -10615,
          -10625,
          -10635,
          -10645,
          -10655,
          -10665,
          -10675,
          -10685,
          -10695,
          -10705,
          -10715,
          -10725,
          -10735,
          -10745,
          -10755,
          -10765,
          -10775,
          -10785,
          -10795,
          -10805,
          -10815,
          -10825,
          -10835,
          -10845,
          -10855,
          -10865,
          -10875,
          -10885,
          -10895,
          -10905,
          -10915,
          -10925,
          -10935,
          -10945,
          -10955,
          -10965,
          -10975,
          -10985,
          -10995,
          -11005,
          -11015,
          -11025,
          -11035,
          -11045,
          -11055,
          -11065,
          -11075,
          -11085,
          -11095,
          -11105,
          -11115,
          -11125,
          -11135,
          -11145,
          -11155,
          -11165,
          -11175,
          -11185,
          -11195,
          -11205,
          -11215,
          -11225,
          -11235,
          -11245,
          -11255,
          -11265,
          -11275,
          -11285,
          -11295,
          -11305,
          -11315,
          -11325,
          -11335,
          -11345,
          -11355,
          -11365,
          -11375,
          -11385,
          -11395,
          -11405,
          -11415,
          -11425,
          -11435,
          -11445,
          -11455,
          -11465,
          -11475,
          -11485,
          -11495,
          -11505,
          -11515,
          -11525,
          -11535,
          -11545,
          -11555,
          -11565,
          -11575,
          -11585,
          -11595,
          -11605,
          -11615,
          -11625,
          -11635,
          -11645,
          -11655,
          -11665,
          -11675,
          -11685,
          -11695,
          -11705,
          -11715,
          -11725,
          -11735,
          -11745,
          -11755,
          -11765,
          -11775,
          -11785,
          -11795,
          -11805,
          -11815,
          -11825,
          -11835,
          -11845,
          -11855,
          -11865,
          -11875,
          -11885,
          -11895,
          -11905,
          -11915,
          -11925,
          -11935,
          -11945,
          -11955,
          -11965,
          -11975,
          -11985,
          -11995,
          -12005,
          -12015,
          -12025,
          -12035,
          -12045,
          -12055,
          -12065,
          -12075,
          -12085,
          -12095,
          -12105,
          -12115,
          -12125,
          -12135,
          -12145,
          -12155,
          -12165,
          -12175,
          -12185,
          -12195,
          -12205,
          -12215,
          -12225,
          -12235,
          -12245,
          -12255,
          -12265,
          -12275,
          -12285,
          -12295,
          -12305,
          -12315,
          -12325,
          -12335,
          -12345,
          -12355,
          -12365,
          -12375,
          -12385,
          -12395,
          -12405,
          -12415,
          -12425,
          -12435,
          -12445,
          -12455,
          -12465,
          -12475,
          -12485,
          -12495,
          -12505,
          -12515,
          -12525,
          -12535,
          -12545,
          -12555,
          -12565,
          -12575,
          -12585,
          -12595,
          -12605,
          -12615,
          -12625,
          -12635,
          -12645,
          -12655,
          -12665,
          -12675,
          -12685,
          -12695,
          -12705,
          -12715,
          -12725,
          -12735,
          -12745,
          -12755,
          -12765,
          -12775,
          -12785,
          -12795,
          -12805,
          -12815,
          -12825,
          -12835,
          -12845,
          -12855,
          -12865,
          -12875,
          -12885,
          -12895,
          -12905,
          -12915,
          -12925,
          -12935,
          -12945,
          -12955,
          -12965,
          -12975,
          -12985,
          -12995,
          -13005,
          -13015,
          -13025,
          -13035,
          -13045,
          -13055,
          -13065,
          -13075,
          -13085,
          -13095,
          -13105,
          -13115,
          -13125,
          -13135,
          -13145,
          -13155,
          -13165,
          -13175,
          -13185,
          -13195,
          -13205,
          -13215,
          -13225,
          -13235,
          -13245,
          -13255,
          -13265,
          -13275,
          -13285,
          -13295,
          -13305,
          -13315,
          -13325,
          -13335,
          -13345,
          -13355,
          -13365,
          -13375,
          -13385,
          -13395,
          -13405,
          -13415,
          -13425,
          -13435,
          -13445,
          -13455,
          -13465,
          -13475,
          -13485,
          -13495,
          -13505,
          -13515,
          -13525,
          -13535,
          -13545,
          -13555,
          -13565,
          -13575,
          -13585,
          -13595,
          -13605,
          -13615,
          -13625,
          -13635,
          -13645,
          -13655,
          -13665,
          -13675,
          -13685,
          -13695,
          -13705,
          -13715,
          -13725,
          -13735,
          -13745,
          -13755,
          -13765,
          -13775,
          -13785,
          -13795,
          -13805,
          -13815,
          -13825,
          -13835,
          -13845,
          -13855,
          -13865,
          -13875,
          -13885,
          -13895,
          -13905,
          -13915,
          -13925,
          -13935,
          -13945,
          -13955,
          -13965,
          -13975,
          -13985,
          -13995,
          -14005,
          -14015,
          -14025,
          -14035,
          -14045,
          -14055,
          -14065,
          -14075,
          -14085,
          -14095,
          -14105,
          -14115,
          -14125,
          -14135,
          -14145,
          -14155,
          -14165,
          -14175,
          -14185,
          -14195,
          -14205,
          -14215,
          -14225,
          -14235,
          -14245,
          -14255,
          -14265,
          -14275,
          -14285,
          -14295,
          -14305,
          -14315,
          -14325,
          -14335,
          -14345,
          -14355,
          -14365,
          -14375,
          -14385,
          -14395,
          -14405,
          -14415,
          -14425,
          -14435,
          -14445,
          -14455,
          -14465,
          -14475,
          -14485,
          -14495,
          -14505,
          -14515,
          -14525,
          -14535,
          -14545,
          -14555,
          -14565,
          -14575,
          -14585,
          -14595,
          -14605,
          -14615,
          -14625,
          -14635,
          -14645,
          -14655,
          -14665,
          -14675,
          -14685,
          -14695,
          -14705,
          -14715,
          -14725,
          -14735,
          -14745,
          -14755,
          -14765,
          -14775,
          -14785,
          -14795,
          -14805,
          -14815,
          -14825,
          -14835,
          -14845,
          -14855,
          -14865,
          -14875,
          -14885,
          -14895,
          -14905,
          -14915,
          -14925,
          -14935,
          -14945,
          -14955,
          -14965,
          -14975,
          -14985,
          -14995,
          -15005,
          -15015,
          -15025,
          -15035,
          -15045,
          -15055,
          -15065,
          -15075,
          -15085,
          -15095,
          -15105,
          -15115,
          -15125,
          -15135,
          -15145,
          -15155,
          -15165,
          -15175,
          -15185,
          -15195,
          -15205,
          -15215,
          -15225,
          -15235,
          -15245,
          -15255,
          -15265,
          -15275,
          -15285,
          -15295,
          -15305,
          -15315,
          -15325,
          -15335,
          -15345,
          -15355,
          -15365,
          -15375,
          -15385,
          -15395,
          -15405,
          -15415,
          -15425,
          -15435,
          -15445,
          -15455,
          -15465,
          -15475,
          -15485,
          -15495,
          -15505,
          -15515,
          -15525,
          -15535,
          -15545,
          -15555,
          -15565,
          -15575,
          -15585,
          -15595,
          -15605,
          -15615,
          -15625,
          -15635,
          -15645,
          -15655,
          -15665,
          -15675,
          -15685,
          -15695,
          -15705,
          -15715,
          -15725,
          -15735,
          -15745,
          -15755,
          -15765,
          -15775,
          -15785,
          -15795,
          -15805,
          -15815,
          -15825,
          -15835,
          -15845,
          -15855,
          -15865,
          -15875,
          -15885,
          -15895,
          -15905,
          -15915,
          -15925,
          -15935,
          -15945,
          -15955,
          -15965,
          -15975,
          -15985,
          -15995,
          -16005,
          -16015,
          -16025,
          -16035,
          -16045,
          -16055,
          -16065,
          -16075,
          -16085,
          -16095,
          -16105,
          -16115,
          -16125,
          -16135,
          -16145,
          -16155,
          -16165,
          -16175,
          -16185,
          -16195,
          -16205,
          -16215,
          -16225,
          -16235,
          -16245,
          -16255,
          -16265,
          -16275,
          -16285,
          -16295,
          -16305,
          -16315,
          -16325,
          -16335,
          -16345,
          -16355,
          -16365,
          -16375,
          -16385,
          -16395,
          -16405,
          -16415,
          -16425,
          -16435,
          -16445,
          -16455,
          -16465,
          -16475,
          -16485,
          -16495,
          -16505,
          -16515,
          -16525,
          -16535,
          -16545,
          -16555,
          -16565,
          -16575,
          -16585,
          -16595,
          -16605,
          -16615,
          -16625,
          -16635,
          -16645,
          -16655,
          -16665,
          -16675,
          -16685,
          -16695,
          -16705,
          -16715,
          -16725,
          -16735,
          -16745,
          -16755,
          -16765,
          -16775,
          -16785,
          -16795,
          -16805,
          -16815,
          -16825,
          -16835,
          -16845,
          -16855,
          -16865,
          -16875,
          -16885,
          -16895,
          -16905,
          -16915,
          -16925,
          -16935,
          -16945,
          -16955,
          -16965,
          -16975,
          -16985,
          -16995,
          -17005,
          -17015,
          -17025,
          -17035,
          -17045,
          -17055,
          -17065,
          -17075,
          -17085,
          -17095,
          -17105,
          -17115,
          -17125,
          -17135,
          -17145,
          -17155,
          -17165,
          -17175,
          -17185,
          -17195,
          -17205,
          -17215,
          -17225,
          -17235,
          -17245,
          -17255,
          -17265,
          -17275,
          -17285,
          -17295,
          -17305,
          -17315,
          -17325,
          -17335,
          -17345,
          -17355,
          -17365,
          -17375,
          -17385,
          -17395,
          -17405,
          -17415,
          -17425,
          -17435,
          -17445,
          -17455,
          -17465,
          -17475,
          -17485,
          -17495,
          -17505,
          -17515,
          -17525,
          -17535,
          -17545,
          -17555,
          -17565,
          -17575,
          -17585,
          -17595,
          -17605,
          -17615,
          -17625,
          -17635,
          -17645,
          -17655,
          -17665,
          -17675,
          -17685,
          -17695,
          -17705,
          -17715,
          -17725,
          -17735,
          -17745,
          -17755,
          -17765,
          -17775,
          -17785,
          -17795,
          -17805,
          -17815,
          -17825,
          -17835,
          -17845,
          -17855,
          -17865,
          -17875,
          -17885,
          -17895,
          -17905,
          -17915,
          -17925,
          -17935,
          -17945,
          -17955,
          -17965,
          -17975,
          -17985,
          -17995,
          -18005,
          -18015,
          -18025,
          -18035,
          -18045,
          -18055,
          -18065,
          -18075,
          -18085,
          -18095,
          -18105,
          -18115,
          -18125,
          -18135,
          -18145,
          -18155,
          -18165,
          -18175,
          -18185,
          -18195,
          -18205,
          -18215,
          -18225,
          -18235,
          -18245,
          -18255,
          -18265,
          -18275,
          -18285,
          -18295,
          -18305,
          -18315,
          -18325,
          -18335,
          -18345,
          -18355,
          -18365,
          -18375,
          -18385,
          -18395,
          -18405,
          -18415,
          -18425,
          -18435,
          -18445,
          -18455,
          -18465,
          -18475,
          -18485,
          -18495,
          -18505,
          -18515,
          -18525,
          -18535
         ],
         "type": "linear",
         "zeroline": false
        }
       }
      }
     },
     "metadata": {},
     "output_type": "display_data"
    }
   ],
   "source": [
    "topic_model.visualize_hierarchy()"
   ]
  },
  {
   "cell_type": "code",
   "execution_count": 8,
   "metadata": {},
   "outputs": [
    {
     "data": {
      "text/plain": [
       "{'calculate_probabilities': False,\n",
       " 'ctfidf_model': ClassTfidfTransformer(reduce_frequent_words=True),\n",
       " 'embedding_model': None,\n",
       " 'hdbscan_model': HDBSCAN(min_cluster_size=15),\n",
       " 'language': 'english',\n",
       " 'low_memory': True,\n",
       " 'min_topic_size': 10,\n",
       " 'n_gram_range': (1, 1),\n",
       " 'nr_topics': None,\n",
       " 'representation_model': None,\n",
       " 'seed_topic_list': None,\n",
       " 'top_n_words': 10,\n",
       " 'umap_model': <bertopic.dimensionality._base.BaseDimensionalityReduction at 0x12ebfc340>,\n",
       " 'vectorizer_model': CountVectorizer(stop_words='english'),\n",
       " 'verbose': True}"
      ]
     },
     "execution_count": 8,
     "metadata": {},
     "output_type": "execute_result"
    }
   ],
   "source": [
    "topic_model.get_params()"
   ]
  },
  {
   "cell_type": "code",
   "execution_count": null,
   "metadata": {},
   "outputs": [],
   "source": [
    "# Get topic info on doc level\n",
    "\n",
    "topic_doc = topic_model.get_document_info(docs).sort_values('Probability', ascending=False) # Filter away outlier Topic = -1\n",
    "\n",
    "topic_doc[topic_doc.Topic > -1]"
   ]
  }
 ],
 "metadata": {
  "kernelspec": {
   "display_name": "Python 3",
   "language": "python",
   "name": "python3"
  },
  "language_info": {
   "codemirror_mode": {
    "name": "ipython",
    "version": 3
   },
   "file_extension": ".py",
   "mimetype": "text/x-python",
   "name": "python",
   "nbconvert_exporter": "python",
   "pygments_lexer": "ipython3",
   "version": "3.10.9"
  },
  "orig_nbformat": 4
 },
 "nbformat": 4,
 "nbformat_minor": 2
}
