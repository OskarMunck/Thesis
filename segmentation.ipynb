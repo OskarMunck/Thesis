{
 "cells": [
  {
   "attachments": {},
   "cell_type": "markdown",
   "metadata": {},
   "source": [
    "# Segmentation"
   ]
  },
  {
   "cell_type": "code",
   "execution_count": 12,
   "metadata": {},
   "outputs": [],
   "source": [
    "import numpy as np\n",
    "import pandas as pd\n",
    "import matplotlib.pyplot as plt\n",
    "import seaborn as sns\n",
    "from nltk.tokenize import sent_tokenize\n",
    "%matplotlib inline\n",
    "\n",
    "from bertopic import BERTopic\n",
    "from sentence_transformers import SentenceTransformer\n",
    "from sklearn.decomposition import TruncatedSVD\n",
    "from sklearn.manifold import TSNE"
   ]
  },
  {
   "cell_type": "code",
   "execution_count": 7,
   "metadata": {},
   "outputs": [],
   "source": [
    "# Import transcript and segment into sentences \n",
    "def sentence_chunk_transcript(transcripts, name_variable='transcript', chunk_size=1):\n",
    "    \"\"\" transcripts: must have two columns - episode_id and transcript\n",
    "        chunk_size: number of sentences in chunk \n",
    "    \"\"\"\n",
    "    transcripts[\"sentence_token\"] = transcripts[name_variable].apply(lambda x: sent_tokenize(x, language='english'))\n",
    "    episode_ls = []\n",
    "    transcript_ls = []\n",
    "    sent_enum_ls = []\n",
    "    for index, row in transcripts.iterrows():\n",
    "        for i in range(0, len(row[\"sentence_token\"]), chunk_size):\n",
    "            episode_ls.append(row[\"episode_id\"])\n",
    "            transcript_ls.append(\" \".join(row[\"sentence_token\"][i:i+chunk_size]))\n",
    "            sent_enum_ls.append(f\"{i+1}\")\n",
    "    sentence_chunked_df = pd.DataFrame(data = {'episode_id': episode_ls, 'transcript_subset':transcript_ls, 'sentence_enumerated':sent_enum_ls})\n",
    "    return sentence_chunked_df"
   ]
  },
  {
   "cell_type": "code",
   "execution_count": 20,
   "metadata": {},
   "outputs": [],
   "source": [
    "# Load bertopic model and predict topic proba per sentence and put in martix\n",
    "\n",
    "#Instantiate models\n",
    "# trunc_svd = TruncatedSVD(n_components=50)\n",
    "# T_SNE = TSNE(n_components=3, perplexity=1)\n",
    "\n",
    "mod = BERTopic.load('BERT_mini')\n",
    "docs = trans.transcript_subset.to_list()\n",
    "\n",
    "# tsvd_embeddings = trunc_svd.fit_transform(embed_256)\n",
    "# tsne_dimreduced_embeddings = T_SNE.fit_transform(X=tsvd_embeddings)\n",
    "topics = mod.transform(docs, embed_256)\n",
    "\n",
    "def predict_sent_topic(topic_model, transcript, sentence_model=\"all-MiniLM-L6-v2\"):\n",
    "    # Load model \n",
    "    model = BERTopic.load(topic_model)\n",
    "    docs = transcript.to_list()\n",
    "    sentence_model = SentenceTransformer(sentence_model)\n",
    "    # create input data \n",
    "    enum_transcript = sentence_chunk_transcript(transcripts=transcript, chunk_size=1)\n",
    "\n",
    "    embed_new_sents = sentence_model.encode(docs, convert_to_numpy=True)\n",
    "    _, proba = model.transform(docs, embedding=embed_new_sents)\n",
    "    \n",
    "        \n",
    "\n",
    "    "
   ]
  },
  {
   "cell_type": "code",
   "execution_count": null,
   "metadata": {},
   "outputs": [],
   "source": []
  },
  {
   "cell_type": "code",
   "execution_count": 5,
   "metadata": {},
   "outputs": [
    {
     "data": {
      "text/html": [
       "<div>\n",
       "<style scoped>\n",
       "    .dataframe tbody tr th:only-of-type {\n",
       "        vertical-align: middle;\n",
       "    }\n",
       "\n",
       "    .dataframe tbody tr th {\n",
       "        vertical-align: top;\n",
       "    }\n",
       "\n",
       "    .dataframe thead th {\n",
       "        text-align: right;\n",
       "    }\n",
       "</style>\n",
       "<table border=\"1\" class=\"dataframe\">\n",
       "  <thead>\n",
       "    <tr style=\"text-align: right;\">\n",
       "      <th></th>\n",
       "      <th>show_id</th>\n",
       "      <th>episode_id</th>\n",
       "      <th>transcript</th>\n",
       "      <th>avg_confidence</th>\n",
       "      <th>char_count</th>\n",
       "      <th>show_name</th>\n",
       "      <th>show_description</th>\n",
       "      <th>publisher</th>\n",
       "      <th>language</th>\n",
       "      <th>episode_name</th>\n",
       "      <th>episode_description</th>\n",
       "      <th>duration</th>\n",
       "      <th>show_id_trans</th>\n",
       "      <th>category</th>\n",
       "      <th>pubdate</th>\n",
       "      <th>word_count</th>\n",
       "    </tr>\n",
       "  </thead>\n",
       "  <tbody>\n",
       "    <tr>\n",
       "      <th>0</th>\n",
       "      <td>show_74R2UD42MRDtmeCGCpXNHA</td>\n",
       "      <td>7tYqM5F5SKtt7lFgcimgAh</td>\n",
       "      <td>I'm Daniel Williams director of active chicks ...</td>\n",
       "      <td>0.850038</td>\n",
       "      <td>11270</td>\n",
       "      <td>Inspire By Dani - The Podcast</td>\n",
       "      <td>Real and raw conversations on mental health, f...</td>\n",
       "      <td>Danielle Williams</td>\n",
       "      <td>['en']</td>\n",
       "      <td>The Best Advice My Mum Ever Gave Me</td>\n",
       "      <td>Today’s Episode I chat about what my mother sa...</td>\n",
       "      <td>13.96255</td>\n",
       "      <td>show_74R2UD42MRDtmeCGCpXNHA</td>\n",
       "      <td>Health &amp; Fitness</td>\n",
       "      <td>NaN</td>\n",
       "      <td>2259</td>\n",
       "    </tr>\n",
       "  </tbody>\n",
       "</table>\n",
       "</div>"
      ],
      "text/plain": [
       "                       show_id              episode_id  \\\n",
       "0  show_74R2UD42MRDtmeCGCpXNHA  7tYqM5F5SKtt7lFgcimgAh   \n",
       "\n",
       "                                          transcript  avg_confidence  \\\n",
       "0  I'm Daniel Williams director of active chicks ...        0.850038   \n",
       "\n",
       "   char_count                       show_name  \\\n",
       "0       11270  Inspire By Dani - The Podcast    \n",
       "\n",
       "                                    show_description          publisher  \\\n",
       "0  Real and raw conversations on mental health, f...  Danielle Williams   \n",
       "\n",
       "  language                          episode_name  \\\n",
       "0   ['en']  The Best Advice My Mum Ever Gave Me    \n",
       "\n",
       "                                 episode_description  duration  \\\n",
       "0  Today’s Episode I chat about what my mother sa...  13.96255   \n",
       "\n",
       "                 show_id_trans          category pubdate  word_count  \n",
       "0  show_74R2UD42MRDtmeCGCpXNHA  Health & Fitness     NaN        2259  "
      ]
     },
     "execution_count": 5,
     "metadata": {},
     "output_type": "execute_result"
    }
   ],
   "source": [
    "data = pd.read_csv('transcripts_sample.csv.gz', compression='gzip')[:1]\n",
    "data.head()"
   ]
  },
  {
   "cell_type": "code",
   "execution_count": 10,
   "metadata": {},
   "outputs": [
    {
     "data": {
      "text/html": [
       "<div>\n",
       "<style scoped>\n",
       "    .dataframe tbody tr th:only-of-type {\n",
       "        vertical-align: middle;\n",
       "    }\n",
       "\n",
       "    .dataframe tbody tr th {\n",
       "        vertical-align: top;\n",
       "    }\n",
       "\n",
       "    .dataframe thead th {\n",
       "        text-align: right;\n",
       "    }\n",
       "</style>\n",
       "<table border=\"1\" class=\"dataframe\">\n",
       "  <thead>\n",
       "    <tr style=\"text-align: right;\">\n",
       "      <th></th>\n",
       "      <th>episode_id</th>\n",
       "      <th>transcript_subset</th>\n",
       "      <th>sentence_enumerated</th>\n",
       "    </tr>\n",
       "  </thead>\n",
       "  <tbody>\n",
       "    <tr>\n",
       "      <th>0</th>\n",
       "      <td>7tYqM5F5SKtt7lFgcimgAh</td>\n",
       "      <td>I'm Daniel Williams director of active chicks ...</td>\n",
       "      <td>1</td>\n",
       "    </tr>\n",
       "    <tr>\n",
       "      <th>1</th>\n",
       "      <td>7tYqM5F5SKtt7lFgcimgAh</td>\n",
       "      <td>I'm also a mom to five wonderful and crazy kid...</td>\n",
       "      <td>2</td>\n",
       "    </tr>\n",
       "    <tr>\n",
       "      <th>2</th>\n",
       "      <td>7tYqM5F5SKtt7lFgcimgAh</td>\n",
       "      <td>This podcast is all about real and raw convers...</td>\n",
       "      <td>3</td>\n",
       "    </tr>\n",
       "    <tr>\n",
       "      <th>3</th>\n",
       "      <td>7tYqM5F5SKtt7lFgcimgAh</td>\n",
       "      <td>Welcome to the first official episode of the a...</td>\n",
       "      <td>4</td>\n",
       "    </tr>\n",
       "    <tr>\n",
       "      <th>4</th>\n",
       "      <td>7tYqM5F5SKtt7lFgcimgAh</td>\n",
       "      <td>There was so many topics of that I could start...</td>\n",
       "      <td>5</td>\n",
       "    </tr>\n",
       "    <tr>\n",
       "      <th>...</th>\n",
       "      <td>...</td>\n",
       "      <td>...</td>\n",
       "      <td>...</td>\n",
       "    </tr>\n",
       "    <tr>\n",
       "      <th>90</th>\n",
       "      <td>7tYqM5F5SKtt7lFgcimgAh</td>\n",
       "      <td>But if you could also share this with a friend...</td>\n",
       "      <td>91</td>\n",
       "    </tr>\n",
       "    <tr>\n",
       "      <th>91</th>\n",
       "      <td>7tYqM5F5SKtt7lFgcimgAh</td>\n",
       "      <td>That it just helps me to get the word out.</td>\n",
       "      <td>92</td>\n",
       "    </tr>\n",
       "    <tr>\n",
       "      <th>92</th>\n",
       "      <td>7tYqM5F5SKtt7lFgcimgAh</td>\n",
       "      <td>Alright.</td>\n",
       "      <td>93</td>\n",
       "    </tr>\n",
       "    <tr>\n",
       "      <th>93</th>\n",
       "      <td>7tYqM5F5SKtt7lFgcimgAh</td>\n",
       "      <td>I hope you have an awesome day.</td>\n",
       "      <td>94</td>\n",
       "    </tr>\n",
       "    <tr>\n",
       "      <th>94</th>\n",
       "      <td>7tYqM5F5SKtt7lFgcimgAh</td>\n",
       "      <td>And again, thank you so much for listening and...</td>\n",
       "      <td>95</td>\n",
       "    </tr>\n",
       "  </tbody>\n",
       "</table>\n",
       "<p>95 rows × 3 columns</p>\n",
       "</div>"
      ],
      "text/plain": [
       "                episode_id                                  transcript_subset  \\\n",
       "0   7tYqM5F5SKtt7lFgcimgAh  I'm Daniel Williams director of active chicks ...   \n",
       "1   7tYqM5F5SKtt7lFgcimgAh  I'm also a mom to five wonderful and crazy kid...   \n",
       "2   7tYqM5F5SKtt7lFgcimgAh  This podcast is all about real and raw convers...   \n",
       "3   7tYqM5F5SKtt7lFgcimgAh  Welcome to the first official episode of the a...   \n",
       "4   7tYqM5F5SKtt7lFgcimgAh  There was so many topics of that I could start...   \n",
       "..                     ...                                                ...   \n",
       "90  7tYqM5F5SKtt7lFgcimgAh  But if you could also share this with a friend...   \n",
       "91  7tYqM5F5SKtt7lFgcimgAh         That it just helps me to get the word out.   \n",
       "92  7tYqM5F5SKtt7lFgcimgAh                                           Alright.   \n",
       "93  7tYqM5F5SKtt7lFgcimgAh                    I hope you have an awesome day.   \n",
       "94  7tYqM5F5SKtt7lFgcimgAh  And again, thank you so much for listening and...   \n",
       "\n",
       "   sentence_enumerated  \n",
       "0                    1  \n",
       "1                    2  \n",
       "2                    3  \n",
       "3                    4  \n",
       "4                    5  \n",
       "..                 ...  \n",
       "90                  91  \n",
       "91                  92  \n",
       "92                  93  \n",
       "93                  94  \n",
       "94                  95  \n",
       "\n",
       "[95 rows x 3 columns]"
      ]
     },
     "execution_count": 10,
     "metadata": {},
     "output_type": "execute_result"
    }
   ],
   "source": [
    "trans = sentence_chunk_transcript(data)\n",
    "trans"
   ]
  },
  {
   "cell_type": "code",
   "execution_count": 15,
   "metadata": {},
   "outputs": [
    {
     "data": {
      "text/plain": [
       "\"I'm Daniel Williams director of active chicks Fitness and life coach.\""
      ]
     },
     "execution_count": 15,
     "metadata": {},
     "output_type": "execute_result"
    }
   ],
   "source": [
    "trans.transcript_subset[0]"
   ]
  },
  {
   "cell_type": "code",
   "execution_count": 43,
   "metadata": {},
   "outputs": [
    {
     "name": "stdout",
     "output_type": "stream",
     "text": [
      "[-1, -1, -1, 1, -1, -1, 1, -1, -1, -1, 13, -1, -1, -1, -1, -1, -1, -1, -1, -1, -1, -1, -1, 353, -1, -1, -1, -1, -1, -1, -1, 182, -1, -1, -1, -1, -1, -1, -1, -1, -1, -1, 255, -1, -1, -1, -1, 74, 244, -1, -1, -1, -1, -1, -1, -1, -1, -1, -1, -1, -1, -1, -1, 1, -1, -1, -1, -1, 465, -1, -1, -1, -1, -1, -1, 0, -1, -1, 79, 1, -1, 1, -1, -1, -1, -1, 1, 1, -1, -1, 1, -1, 1, 1, 1]\n"
     ]
    }
   ],
   "source": [
    "mod = BERTopic.load('BERT_mini')\n",
    "docs = trans.transcript_subset.to_list()\n",
    "\n",
    "embed_256 = sentence_model.encode(docs, convert_to_numpy=True)\n",
    "# tsvd_embeddings = trunc_svd.fit_transform(embed_256)\n",
    "# tsne_dimreduced_embeddings = T_SNE.fit_transform(X=tsvd_embeddings)\n",
    "topics, proba = mod.transform(docs, embed_256)\n",
    "\n",
    "print(topics)"
   ]
  },
  {
   "cell_type": "code",
   "execution_count": 61,
   "metadata": {},
   "outputs": [
    {
     "data": {
      "text/html": [
       "<div>\n",
       "<style scoped>\n",
       "    .dataframe tbody tr th:only-of-type {\n",
       "        vertical-align: middle;\n",
       "    }\n",
       "\n",
       "    .dataframe tbody tr th {\n",
       "        vertical-align: top;\n",
       "    }\n",
       "\n",
       "    .dataframe thead th {\n",
       "        text-align: right;\n",
       "    }\n",
       "</style>\n",
       "<table border=\"1\" class=\"dataframe\">\n",
       "  <thead>\n",
       "    <tr style=\"text-align: right;\">\n",
       "      <th></th>\n",
       "      <th>270</th>\n",
       "      <th>271</th>\n",
       "      <th>272</th>\n",
       "      <th>273</th>\n",
       "      <th>274</th>\n",
       "      <th>275</th>\n",
       "      <th>276</th>\n",
       "      <th>277</th>\n",
       "      <th>278</th>\n",
       "      <th>279</th>\n",
       "    </tr>\n",
       "  </thead>\n",
       "  <tbody>\n",
       "    <tr>\n",
       "      <th>0</th>\n",
       "      <td>1.468748e-70</td>\n",
       "      <td>1.304401e-70</td>\n",
       "      <td>5.743890e-66</td>\n",
       "      <td>1.239368e-70</td>\n",
       "      <td>1.320460e-70</td>\n",
       "      <td>1.411937e-70</td>\n",
       "      <td>1.261834e-70</td>\n",
       "      <td>2.628951e-29</td>\n",
       "      <td>0.132749</td>\n",
       "      <td>2.384059e-70</td>\n",
       "    </tr>\n",
       "  </tbody>\n",
       "</table>\n",
       "</div>"
      ],
      "text/plain": [
       "            270           271           272           273           274  \\\n",
       "0  1.468748e-70  1.304401e-70  5.743890e-66  1.239368e-70  1.320460e-70   \n",
       "\n",
       "            275           276           277       278           279  \n",
       "0  1.411937e-70  1.261834e-70  2.628951e-29  0.132749  2.384059e-70  "
      ]
     },
     "execution_count": 61,
     "metadata": {},
     "output_type": "execute_result"
    }
   ],
   "source": [
    "sentence_proba = pd.DataFrame(proba)\n",
    "# sentence_proba.head(10)\n",
    "sentence_proba.iloc[0:1, 270:280]"
   ]
  },
  {
   "cell_type": "code",
   "execution_count": 68,
   "metadata": {},
   "outputs": [
    {
     "name": "stdout",
     "output_type": "stream",
     "text": [
      "idxmax\n",
      "    idxmax       max\n",
      "0    278.0  0.132749\n",
      "1    278.0  0.132749\n",
      "2    564.0  0.843033\n",
      "3      1.0  0.365293\n",
      "4    190.0  0.125336\n",
      "5     89.0  0.208253\n",
      "6      1.0  0.028969\n",
      "7    356.0  0.359377\n",
      "8    507.0  0.007842\n",
      "9     24.0  0.043719\n",
      "10    13.0  0.033657\n",
      "11   446.0  0.001018\n",
      "12   297.0  0.764295\n",
      "13    47.0  0.194036\n",
      "14   587.0  0.985416\n",
      "15   255.0  0.803048\n",
      "16   117.0  0.549348\n",
      "17   578.0  0.824118\n",
      "18   504.0  0.755607\n",
      "19    13.0  0.077791\n",
      "20   494.0  0.404881\n",
      "21   297.0  0.193936\n",
      "22   568.0  0.795918\n",
      "23   353.0  0.003009\n",
      "24   518.0  0.005536\n"
     ]
    },
    {
     "data": {
      "image/png": "[encoded data removed]",
      "text/plain": [
       "<Figure size 640x480 with 1 Axes>"
      ]
     },
     "metadata": {},
     "output_type": "display_data"
    }
   ],
   "source": [
    "sents = sentence_proba.agg(['idxmax', 'max'], axis=1)\n",
    "print(sents.columns[0])\n",
    "print(sents[:25])\n",
    "sns.lineplot(sents[sents.columns[1]])\n",
    "plt.ylabel('Max proba of any topic')\n",
    "plt.xlabel('Sentence order')\n",
    "plt.axhline(0.6, color='r')\n",
    "plt.show()"
   ]
  },
  {
   "cell_type": "code",
   "execution_count": 70,
   "metadata": {},
   "outputs": [
    {
     "name": "stdout",
     "output_type": "stream",
     "text": [
      "59\n"
     ]
    },
    {
     "data": {
      "text/plain": [
       "1.0      13\n",
       "69.0      4\n",
       "255.0     3\n",
       "465.0     3\n",
       "13.0      3\n",
       "264.0     3\n",
       "297.0     3\n",
       "278.0     2\n",
       "113.0     2\n",
       "88.0      2\n",
       "373.0     2\n",
       "353.0     2\n",
       "504.0     2\n",
       "568.0     2\n",
       "356.0     2\n",
       "89.0      2\n",
       "190.0     2\n",
       "541.0     2\n",
       "311.0     1\n",
       "586.0     1\n",
       "609.0     1\n",
       "496.0     1\n",
       "123.0     1\n",
       "597.0     1\n",
       "425.0     1\n",
       "531.0     1\n",
       "17.0      1\n",
       "472.0     1\n",
       "549.0     1\n",
       "277.0     1\n",
       "79.0      1\n",
       "569.0     1\n",
       "0.0       1\n",
       "523.0     1\n",
       "405.0     1\n",
       "501.0     1\n",
       "544.0     1\n",
       "62.0      1\n",
       "244.0     1\n",
       "518.0     1\n",
       "507.0     1\n",
       "24.0      1\n",
       "446.0     1\n",
       "47.0      1\n",
       "587.0     1\n",
       "117.0     1\n",
       "578.0     1\n",
       "494.0     1\n",
       "182.0     1\n",
       "74.0      1\n",
       "577.0     1\n",
       "172.0     1\n",
       "564.0     1\n",
       "52.0      1\n",
       "543.0     1\n",
       "104.0     1\n",
       "480.0     1\n",
       "137.0     1\n",
       "334.0     1\n",
       "Name: idxmax, dtype: int64"
      ]
     },
     "execution_count": 70,
     "metadata": {},
     "output_type": "execute_result"
    }
   ],
   "source": [
    "print(len(sents[sents.columns[0]].value_counts()))\n",
    "sents[sents.columns[0]].value_counts()  "
   ]
  }
 ],
 "metadata": {
  "kernelspec": {
   "display_name": "Python 3",
   "language": "python",
   "name": "python3"
  },
  "language_info": {
   "codemirror_mode": {
    "name": "ipython",
    "version": 3
   },
   "file_extension": ".py",
   "mimetype": "text/x-python",
   "name": "python",
   "nbconvert_exporter": "python",
   "pygments_lexer": "ipython3",
   "version": "3.10.9"
  },
  "orig_nbformat": 4
 },
 "nbformat": 4,
 "nbformat_minor": 2
}
