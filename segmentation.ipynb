{
 "cells": [
  {
   "attachments": {},
   "cell_type": "markdown",
   "metadata": {},
   "source": [
    "# Segmentation"
   ]
  },
  {
   "cell_type": "code",
   "execution_count": 5,
   "metadata": {},
   "outputs": [],
   "source": [
    "import numpy as np\n",
    "import pandas as pd\n",
    "import matplotlib.pyplot as plt\n",
    "import seaborn as sns\n",
    "from nltk.tokenize import sent_tokenize\n",
    "%matplotlib inline\n",
    "\n",
    "from bertopic import BERTopic\n",
    "from sentence_transformers import SentenceTransformer\n",
    "from sklearn.decomposition import TruncatedSVD\n",
    "from sklearn.manifold import TSNE"
   ]
  },
  {
   "cell_type": "code",
   "execution_count": 6,
   "metadata": {},
   "outputs": [],
   "source": [
    "# Import transcript and segment into sentences \n",
    "def sentence_chunk_transcript(transcripts, name_variable='transcript', chunk_size=1):\n",
    "    \"\"\" transcripts: must have two columns - episode_id and transcript\n",
    "        chunk_size: number of sentences in chunk \n",
    "    \"\"\"\n",
    "    transcripts[\"sentence_token\"] = transcripts[name_variable].apply(lambda x: sent_tokenize(x, language='english'))\n",
    "    episode_ls = []\n",
    "    transcript_ls = []\n",
    "    sent_enum_ls = []\n",
    "    for index, row in transcripts.iterrows():\n",
    "        for i in range(0, len(row[\"sentence_token\"]), chunk_size):\n",
    "            episode_ls.append(row[\"episode_id\"])\n",
    "            transcript_ls.append(\" \".join(row[\"sentence_token\"][i:i+chunk_size]))\n",
    "            sent_enum_ls.append(f\"{i+1}\")\n",
    "    sentence_chunked_df = pd.DataFrame(data = {'episode_id': episode_ls, 'transcript_subset':transcript_ls, 'sentence_enumerated':sent_enum_ls})\n",
    "    return sentence_chunked_df"
   ]
  },
  {
   "cell_type": "code",
   "execution_count": 20,
   "metadata": {},
   "outputs": [],
   "source": [
    "# Load bertopic model and predict topic proba per sentence and put in martix\n",
    "\n",
    "#Instantiate models\n",
    "# trunc_svd = TruncatedSVD(n_components=50)\n",
    "# T_SNE = TSNE(n_components=3, perplexity=1)\n",
    "\n",
    "mod = BERTopic.load('BERT_mini')\n",
    "docs = trans.transcript_subset.to_list()\n",
    "\n",
    "# tsvd_embeddings = trunc_svd.fit_transform(embed_256)\n",
    "# tsne_dimreduced_embeddings = T_SNE.fit_transform(X=tsvd_embeddings)\n",
    "topics = mod.transform(docs, embed_256)\n",
    "\n",
    "def predict_sent_topic(topic_model, transcript, sentence_model=\"all-MiniLM-L6-v2\"):\n",
    "    # Load model \n",
    "    model = BERTopic.load(topic_model)\n",
    "    docs = transcript.to_list()\n",
    "    sentence_model = SentenceTransformer(sentence_model)\n",
    "    # create input data \n",
    "    enum_transcript = sentence_chunk_transcript(transcripts=transcript, chunk_size=1)\n",
    "\n",
    "    embed_new_sents = sentence_model.encode(docs, convert_to_numpy=True)\n",
    "    _, proba = model.transform(docs, embedding=embed_new_sents)\n",
    "    \n",
    "        \n",
    "\n",
    "    "
   ]
  },
  {
   "cell_type": "code",
   "execution_count": 7,
   "metadata": {},
   "outputs": [
    {
     "data": {
      "text/html": [
       "<div>\n",
       "<style scoped>\n",
       "    .dataframe tbody tr th:only-of-type {\n",
       "        vertical-align: middle;\n",
       "    }\n",
       "\n",
       "    .dataframe tbody tr th {\n",
       "        vertical-align: top;\n",
       "    }\n",
       "\n",
       "    .dataframe thead th {\n",
       "        text-align: right;\n",
       "    }\n",
       "</style>\n",
       "<table border=\"1\" class=\"dataframe\">\n",
       "  <thead>\n",
       "    <tr style=\"text-align: right;\">\n",
       "      <th></th>\n",
       "      <th>show_id</th>\n",
       "      <th>episode_id</th>\n",
       "      <th>transcript</th>\n",
       "      <th>avg_confidence</th>\n",
       "      <th>char_count</th>\n",
       "      <th>show_name</th>\n",
       "      <th>show_description</th>\n",
       "      <th>publisher</th>\n",
       "      <th>language</th>\n",
       "      <th>episode_name</th>\n",
       "      <th>episode_description</th>\n",
       "      <th>duration</th>\n",
       "      <th>show_id_trans</th>\n",
       "      <th>category</th>\n",
       "      <th>pubdate</th>\n",
       "      <th>word_count</th>\n",
       "    </tr>\n",
       "  </thead>\n",
       "  <tbody>\n",
       "    <tr>\n",
       "      <th>0</th>\n",
       "      <td>show_74R2UD42MRDtmeCGCpXNHA</td>\n",
       "      <td>7tYqM5F5SKtt7lFgcimgAh</td>\n",
       "      <td>I'm Daniel Williams director of active chicks ...</td>\n",
       "      <td>0.850038</td>\n",
       "      <td>11270</td>\n",
       "      <td>Inspire By Dani - The Podcast</td>\n",
       "      <td>Real and raw conversations on mental health, f...</td>\n",
       "      <td>Danielle Williams</td>\n",
       "      <td>['en']</td>\n",
       "      <td>The Best Advice My Mum Ever Gave Me</td>\n",
       "      <td>Today’s Episode I chat about what my mother sa...</td>\n",
       "      <td>13.96255</td>\n",
       "      <td>show_74R2UD42MRDtmeCGCpXNHA</td>\n",
       "      <td>Health &amp; Fitness</td>\n",
       "      <td>NaN</td>\n",
       "      <td>2259</td>\n",
       "    </tr>\n",
       "  </tbody>\n",
       "</table>\n",
       "</div>"
      ],
      "text/plain": [
       "                       show_id              episode_id  \\\n",
       "0  show_74R2UD42MRDtmeCGCpXNHA  7tYqM5F5SKtt7lFgcimgAh   \n",
       "\n",
       "                                          transcript  avg_confidence  \\\n",
       "0  I'm Daniel Williams director of active chicks ...        0.850038   \n",
       "\n",
       "   char_count                       show_name  \\\n",
       "0       11270  Inspire By Dani - The Podcast    \n",
       "\n",
       "                                    show_description          publisher  \\\n",
       "0  Real and raw conversations on mental health, f...  Danielle Williams   \n",
       "\n",
       "  language                          episode_name  \\\n",
       "0   ['en']  The Best Advice My Mum Ever Gave Me    \n",
       "\n",
       "                                 episode_description  duration  \\\n",
       "0  Today’s Episode I chat about what my mother sa...  13.96255   \n",
       "\n",
       "                 show_id_trans          category pubdate  word_count  \n",
       "0  show_74R2UD42MRDtmeCGCpXNHA  Health & Fitness     NaN        2259  "
      ]
     },
     "execution_count": 7,
     "metadata": {},
     "output_type": "execute_result"
    }
   ],
   "source": [
    "data = pd.read_csv('transcripts_sample.csv.gz', compression='gzip')[:1]\n",
    "data.head()"
   ]
  },
  {
   "cell_type": "code",
   "execution_count": 8,
   "metadata": {},
   "outputs": [
    {
     "data": {
      "text/html": [
       "<div>\n",
       "<style scoped>\n",
       "    .dataframe tbody tr th:only-of-type {\n",
       "        vertical-align: middle;\n",
       "    }\n",
       "\n",
       "    .dataframe tbody tr th {\n",
       "        vertical-align: top;\n",
       "    }\n",
       "\n",
       "    .dataframe thead th {\n",
       "        text-align: right;\n",
       "    }\n",
       "</style>\n",
       "<table border=\"1\" class=\"dataframe\">\n",
       "  <thead>\n",
       "    <tr style=\"text-align: right;\">\n",
       "      <th></th>\n",
       "      <th>episode_id</th>\n",
       "      <th>transcript_subset</th>\n",
       "      <th>sentence_enumerated</th>\n",
       "    </tr>\n",
       "  </thead>\n",
       "  <tbody>\n",
       "    <tr>\n",
       "      <th>0</th>\n",
       "      <td>7tYqM5F5SKtt7lFgcimgAh</td>\n",
       "      <td>I'm Daniel Williams director of active chicks ...</td>\n",
       "      <td>1</td>\n",
       "    </tr>\n",
       "    <tr>\n",
       "      <th>1</th>\n",
       "      <td>7tYqM5F5SKtt7lFgcimgAh</td>\n",
       "      <td>I'm also a mom to five wonderful and crazy kid...</td>\n",
       "      <td>2</td>\n",
       "    </tr>\n",
       "    <tr>\n",
       "      <th>2</th>\n",
       "      <td>7tYqM5F5SKtt7lFgcimgAh</td>\n",
       "      <td>This podcast is all about real and raw convers...</td>\n",
       "      <td>3</td>\n",
       "    </tr>\n",
       "    <tr>\n",
       "      <th>3</th>\n",
       "      <td>7tYqM5F5SKtt7lFgcimgAh</td>\n",
       "      <td>Welcome to the first official episode of the a...</td>\n",
       "      <td>4</td>\n",
       "    </tr>\n",
       "    <tr>\n",
       "      <th>4</th>\n",
       "      <td>7tYqM5F5SKtt7lFgcimgAh</td>\n",
       "      <td>There was so many topics of that I could start...</td>\n",
       "      <td>5</td>\n",
       "    </tr>\n",
       "    <tr>\n",
       "      <th>...</th>\n",
       "      <td>...</td>\n",
       "      <td>...</td>\n",
       "      <td>...</td>\n",
       "    </tr>\n",
       "    <tr>\n",
       "      <th>90</th>\n",
       "      <td>7tYqM5F5SKtt7lFgcimgAh</td>\n",
       "      <td>But if you could also share this with a friend...</td>\n",
       "      <td>91</td>\n",
       "    </tr>\n",
       "    <tr>\n",
       "      <th>91</th>\n",
       "      <td>7tYqM5F5SKtt7lFgcimgAh</td>\n",
       "      <td>That it just helps me to get the word out.</td>\n",
       "      <td>92</td>\n",
       "    </tr>\n",
       "    <tr>\n",
       "      <th>92</th>\n",
       "      <td>7tYqM5F5SKtt7lFgcimgAh</td>\n",
       "      <td>Alright.</td>\n",
       "      <td>93</td>\n",
       "    </tr>\n",
       "    <tr>\n",
       "      <th>93</th>\n",
       "      <td>7tYqM5F5SKtt7lFgcimgAh</td>\n",
       "      <td>I hope you have an awesome day.</td>\n",
       "      <td>94</td>\n",
       "    </tr>\n",
       "    <tr>\n",
       "      <th>94</th>\n",
       "      <td>7tYqM5F5SKtt7lFgcimgAh</td>\n",
       "      <td>And again, thank you so much for listening and...</td>\n",
       "      <td>95</td>\n",
       "    </tr>\n",
       "  </tbody>\n",
       "</table>\n",
       "<p>95 rows × 3 columns</p>\n",
       "</div>"
      ],
      "text/plain": [
       "                episode_id                                  transcript_subset  \\\n",
       "0   7tYqM5F5SKtt7lFgcimgAh  I'm Daniel Williams director of active chicks ...   \n",
       "1   7tYqM5F5SKtt7lFgcimgAh  I'm also a mom to five wonderful and crazy kid...   \n",
       "2   7tYqM5F5SKtt7lFgcimgAh  This podcast is all about real and raw convers...   \n",
       "3   7tYqM5F5SKtt7lFgcimgAh  Welcome to the first official episode of the a...   \n",
       "4   7tYqM5F5SKtt7lFgcimgAh  There was so many topics of that I could start...   \n",
       "..                     ...                                                ...   \n",
       "90  7tYqM5F5SKtt7lFgcimgAh  But if you could also share this with a friend...   \n",
       "91  7tYqM5F5SKtt7lFgcimgAh         That it just helps me to get the word out.   \n",
       "92  7tYqM5F5SKtt7lFgcimgAh                                           Alright.   \n",
       "93  7tYqM5F5SKtt7lFgcimgAh                    I hope you have an awesome day.   \n",
       "94  7tYqM5F5SKtt7lFgcimgAh  And again, thank you so much for listening and...   \n",
       "\n",
       "   sentence_enumerated  \n",
       "0                    1  \n",
       "1                    2  \n",
       "2                    3  \n",
       "3                    4  \n",
       "4                    5  \n",
       "..                 ...  \n",
       "90                  91  \n",
       "91                  92  \n",
       "92                  93  \n",
       "93                  94  \n",
       "94                  95  \n",
       "\n",
       "[95 rows x 3 columns]"
      ]
     },
     "execution_count": 8,
     "metadata": {},
     "output_type": "execute_result"
    }
   ],
   "source": [
    "trans = sentence_chunk_transcript(data)\n",
    "trans"
   ]
  },
  {
   "cell_type": "code",
   "execution_count": 9,
   "metadata": {},
   "outputs": [
    {
     "data": {
      "text/plain": [
       "\"I'm Daniel Williams director of active chicks Fitness and life coach.\""
      ]
     },
     "execution_count": 9,
     "metadata": {},
     "output_type": "execute_result"
    }
   ],
   "source": [
    "trans.transcript_subset[0]"
   ]
  },
  {
   "cell_type": "code",
   "execution_count": 11,
   "metadata": {},
   "outputs": [
    {
     "name": "stdout",
     "output_type": "stream",
     "text": [
      "[-1, -1, -1, 1, -1, -1, -1, -1, -1, -1, 13, -1, -1, -1, -1, -1, -1, -1, -1, -1, -1, -1, -1, 353, -1, -1, -1, -1, -1, -1, 1, 182, -1, -1, -1, -1, -1, -1, -1, -1, -1, -1, 255, -1, -1, -1, -1, 74, 244, -1, -1, -1, -1, 1, -1, -1, -1, -1, -1, -1, 74, -1, -1, -1, -1, -1, -1, -1, 465, -1, -1, -1, -1, -1, -1, 0, -1, -1, 79, 1, -1, 1, 13, -1, -1, -1, 1, 1, -1, -1, 1, -1, -1, 1, 1]\n"
     ]
    }
   ],
   "source": [
    "mod = BERTopic.load('BERT_mini')\n",
    "docs = trans.transcript_subset.to_list()\n",
    "\n",
    "sentence_model=SentenceTransformer(\"all-MiniLM-L6-v2\")\n",
    "\n",
    "embed_256 = sentence_model.encode(docs, convert_to_numpy=True)\n",
    "# tsvd_embeddings = trunc_svd.fit_transform(embed_256)\n",
    "# tsne_dimreduced_embeddings = T_SNE.fit_transform(X=tsvd_embeddings)\n",
    "topics, proba = mod.transform(docs, embed_256)\n",
    "\n",
    "print(topics)"
   ]
  },
  {
   "cell_type": "code",
   "execution_count": 22,
   "metadata": {},
   "outputs": [],
   "source": [
    "# mod.get_topic_freq()\n",
    "# mod.get_topic_info()  "
   ]
  },
  {
   "cell_type": "code",
   "execution_count": 32,
   "metadata": {},
   "outputs": [],
   "source": [
    "## Reduce outliers\n",
    "\n",
    "new_topics = mod.reduce_outliers(docs, topics, probabilities=proba, strategy=\"probabilities\")"
   ]
  },
  {
   "cell_type": "code",
   "execution_count": 33,
   "metadata": {},
   "outputs": [
    {
     "name": "stdout",
     "output_type": "stream",
     "text": [
      "[278, 278, 564, 1, 530, 89, 1, 325, 350, 24, 13, 446, 607, 59, 587, 255, 208, 573, 444, 13, 604, 69, 136, 353, 518, 565, 278, 190, 568, 311, 1, 182, 465, 69, 577, 172, 338, 62, 1, 543, 605, 296, 255, 475, 89, 137, 69, 74, 244, 113, 136, 541, 541, 1, 368, 504, 564, 264, 486, 473, 74, 221, 59, 1, 425, 222, 465, 582, 465, 172, 373, 439, 297, 74, 277, 0, 501, 13, 79, 1, 564, 1, 13, 597, 52, 544, 1, 1, 523, 76, 1, 587, 1, 1, 1]\n"
     ]
    }
   ],
   "source": [
    "print(new_topics)"
   ]
  },
  {
   "cell_type": "code",
   "execution_count": 28,
   "metadata": {},
   "outputs": [],
   "source": [
    "sentence_proba = pd.DataFrame(proba)\n",
    "# sentence_proba.head(10)\n",
    "# sentence_proba.head()"
   ]
  },
  {
   "cell_type": "code",
   "execution_count": 25,
   "metadata": {},
   "outputs": [
    {
     "name": "stdout",
     "output_type": "stream",
     "text": [
      "idxmax\n",
      "    idxmax       max\n",
      "0    278.0  0.132749\n",
      "1    278.0  0.132749\n",
      "2    564.0  0.843033\n",
      "3      1.0  0.674444\n",
      "4    530.0  0.002699\n",
      "5     89.0  0.208253\n",
      "6      1.0  0.009884\n",
      "7    325.0  0.366409\n",
      "8    350.0  0.007395\n",
      "9     24.0  0.047021\n",
      "10    13.0  0.055918\n",
      "11   446.0  0.000992\n",
      "12   607.0  0.992021\n",
      "13    59.0  0.208686\n",
      "14   587.0  0.985416\n",
      "15   255.0  0.803048\n",
      "16   208.0  0.036413\n",
      "17   573.0  0.154638\n",
      "18   444.0  0.019645\n",
      "19    13.0  0.078085\n",
      "20   604.0  0.292000\n",
      "21    69.0  0.414268\n",
      "22   136.0  0.154748\n",
      "23   353.0  0.003399\n",
      "24   518.0  0.005604\n"
     ]
    },
    {
     "data": {
      "image/png": "[encoded data removed]",
      "text/plain": [
       "<Figure size 640x480 with 1 Axes>"
      ]
     },
     "metadata": {},
     "output_type": "display_data"
    }
   ],
   "source": [
    "sents = sentence_proba.agg(['idxmax', 'max'], axis=1)\n",
    "print(sents.columns[0])\n",
    "print(sents[:25])\n",
    "sns.lineplot(sents[sents.columns[1]])\n",
    "plt.ylabel('Max proba of any topic')\n",
    "plt.xlabel('Sentence order')\n",
    "plt.axhline(0.6, color='r')\n",
    "plt.show()"
   ]
  },
  {
   "cell_type": "code",
   "execution_count": 34,
   "metadata": {},
   "outputs": [
    {
     "name": "stdout",
     "output_type": "stream",
     "text": [
      "62\n"
     ]
    },
    {
     "data": {
      "text/plain": [
       "1.0      14\n",
       "13.0      4\n",
       "278.0     3\n",
       "564.0     3\n",
       "465.0     3\n",
       "         ..\n",
       "338.0     1\n",
       "543.0     1\n",
       "605.0     1\n",
       "296.0     1\n",
       "76.0      1\n",
       "Name: idxmax, Length: 62, dtype: int64"
      ]
     },
     "execution_count": 34,
     "metadata": {},
     "output_type": "execute_result"
    }
   ],
   "source": [
    "print(len(sents[sents.columns[0]].value_counts()))\n",
    "sents[sents.columns[0]].value_counts()  "
   ]
  },
  {
   "cell_type": "code",
   "execution_count": null,
   "metadata": {},
   "outputs": [],
   "source": []
  }
 ],
 "metadata": {
  "kernelspec": {
   "display_name": "Python 3",
   "language": "python",
   "name": "python3"
  },
  "language_info": {
   "codemirror_mode": {
    "name": "ipython",
    "version": 3
   },
   "file_extension": ".py",
   "mimetype": "text/x-python",
   "name": "python",
   "nbconvert_exporter": "python",
   "pygments_lexer": "ipython3",
   "version": "3.10.9"
  },
  "orig_nbformat": 4
 },
 "nbformat": 4,
 "nbformat_minor": 2
}
