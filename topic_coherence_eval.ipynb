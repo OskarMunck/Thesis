{
 "cells": [
  {
   "cell_type": "code",
   "execution_count": 1,
   "metadata": {},
   "outputs": [],
   "source": [
    "# Imports\n",
    "import pandas as pd\n",
    "import numpy as np\n",
    "\n",
    "from bertopic import BERTopic\n",
    "from sklearn.metrics.pairwise import cosine_similarity, cosine_distances"
   ]
  },
  {
   "cell_type": "code",
   "execution_count": 8,
   "metadata": {},
   "outputs": [],
   "source": [
    "# Load model \n",
    "topic_model = BERTopic.load(\"BERT_v1\")\n",
    "\n",
    "# Load sample data\n",
    "transcripts = pd.read_csv('transcripts_sample.csv.gz', compression='gzip')\n",
    "\n",
    "# Create list of transcripts\n",
    "docs = list(transcripts['transcript'])\n",
    "\n",
    "# Get document info\n",
    "topic_doc = topic_model.get_document_info(docs)"
   ]
  },
  {
   "cell_type": "code",
   "execution_count": 21,
   "metadata": {},
   "outputs": [
    {
     "data": {
      "text/html": [
       "<div>\n",
       "<style scoped>\n",
       "    .dataframe tbody tr th:only-of-type {\n",
       "        vertical-align: middle;\n",
       "    }\n",
       "\n",
       "    .dataframe tbody tr th {\n",
       "        vertical-align: top;\n",
       "    }\n",
       "\n",
       "    .dataframe thead th {\n",
       "        text-align: right;\n",
       "    }\n",
       "</style>\n",
       "<table border=\"1\" class=\"dataframe\">\n",
       "  <thead>\n",
       "    <tr style=\"text-align: right;\">\n",
       "      <th></th>\n",
       "      <th>Document</th>\n",
       "      <th>Topic</th>\n",
       "      <th>Name</th>\n",
       "      <th>Top_n_words</th>\n",
       "      <th>Probability</th>\n",
       "      <th>Representative_document</th>\n",
       "    </tr>\n",
       "  </thead>\n",
       "  <tbody>\n",
       "    <tr>\n",
       "      <th>0</th>\n",
       "      <td>Hello and welcome along to the property Academ...</td>\n",
       "      <td>13</td>\n",
       "      <td>13_filipinos_filipino_hindi_philippines</td>\n",
       "      <td>filipinos - filipino - hindi - philippines - i...</td>\n",
       "      <td>0.382109</td>\n",
       "      <td>False</td>\n",
       "    </tr>\n",
       "    <tr>\n",
       "      <th>1</th>\n",
       "      <td>Good morning, everyone. This is Trinity here a...</td>\n",
       "      <td>62</td>\n",
       "      <td>62_ginger_deck_tarot_tepper</td>\n",
       "      <td>ginger - deck - tarot - tepper - 2020 - 2019 -...</td>\n",
       "      <td>0.957442</td>\n",
       "      <td>False</td>\n",
       "    </tr>\n",
       "    <tr>\n",
       "      <th>2</th>\n",
       "      <td>Hey guys, it's Peter fry and welcome to the li...</td>\n",
       "      <td>5</td>\n",
       "      <td>5_anchor_podcast_album_weezer</td>\n",
       "      <td>anchor - podcast - album - weezer - song - guy...</td>\n",
       "      <td>1.000000</td>\n",
       "      <td>False</td>\n",
       "    </tr>\n",
       "    <tr>\n",
       "      <th>6</th>\n",
       "      <td>You have turned into functional fun. I'm Mike ...</td>\n",
       "      <td>14</td>\n",
       "      <td>14_insulin_fasting_keto_fat</td>\n",
       "      <td>insulin - fasting - keto - fat - intermittent ...</td>\n",
       "      <td>0.138242</td>\n",
       "      <td>False</td>\n",
       "    </tr>\n",
       "    <tr>\n",
       "      <th>8</th>\n",
       "      <td>Hey everyone, before we continue with the show...</td>\n",
       "      <td>1</td>\n",
       "      <td>1_anxiety_mental_self_yourself</td>\n",
       "      <td>anxiety - mental - self - yourself - life - de...</td>\n",
       "      <td>0.915268</td>\n",
       "      <td>False</td>\n",
       "    </tr>\n",
       "  </tbody>\n",
       "</table>\n",
       "</div>"
      ],
      "text/plain": [
       "                                            Document  Topic  \\\n",
       "0  Hello and welcome along to the property Academ...     13   \n",
       "1  Good morning, everyone. This is Trinity here a...     62   \n",
       "2  Hey guys, it's Peter fry and welcome to the li...      5   \n",
       "6  You have turned into functional fun. I'm Mike ...     14   \n",
       "8  Hey everyone, before we continue with the show...      1   \n",
       "\n",
       "                                      Name  \\\n",
       "0  13_filipinos_filipino_hindi_philippines   \n",
       "1              62_ginger_deck_tarot_tepper   \n",
       "2            5_anchor_podcast_album_weezer   \n",
       "6              14_insulin_fasting_keto_fat   \n",
       "8           1_anxiety_mental_self_yourself   \n",
       "\n",
       "                                         Top_n_words  Probability  \\\n",
       "0  filipinos - filipino - hindi - philippines - i...     0.382109   \n",
       "1  ginger - deck - tarot - tepper - 2020 - 2019 -...     0.957442   \n",
       "2  anchor - podcast - album - weezer - song - guy...     1.000000   \n",
       "6  insulin - fasting - keto - fat - intermittent ...     0.138242   \n",
       "8  anxiety - mental - self - yourself - life - de...     0.915268   \n",
       "\n",
       "   Representative_document  \n",
       "0                    False  \n",
       "1                    False  \n",
       "2                    False  \n",
       "6                    False  \n",
       "8                    False  "
      ]
     },
     "execution_count": 21,
     "metadata": {},
     "output_type": "execute_result"
    }
   ],
   "source": [
    "# Filter out outlier\n",
    "\n",
    "topic_doc_filter = topic_doc[topic_doc['Topic'] != -1]\n",
    "topic_doc_filter.head()"
   ]
  },
  {
   "cell_type": "code",
   "execution_count": 22,
   "metadata": {},
   "outputs": [
    {
     "name": "stdout",
     "output_type": "stream",
     "text": [
      "[13, 62, 5, 14, 1, 0, 20, 17, 67, 80, 49, 28, 58, 85, 61, 10, 18, 47, 95, 9, 87, 3, 104, 22, 2, 15, 39, 101, 26, 4, 29, 90, 56, 68, 55, 23, 74, 31, 69, 21, 51, 112, 12, 54, 16, 7, 6, 32, 102, 100, 33, 38, 45, 25, 11, 27, 71, 94, 40, 36, 24, 19, 50, 37, 65, 59, 53, 48, 93, 30, 91, 8, 60, 109, 43, 83, 57, 76, 105, 103, 113, 96, 89, 72, 35, 73, 77, 64, 106, 34, 84, 46, 92, 66, 52, 82, 98, 63, 110, 79, 88, 41, 44, 97, 86, 99, 81, 42, 70, 108, 111, 107, 75, 78]\n"
     ]
    }
   ],
   "source": [
    "unique_topics = list(topic_doc_filter.Topic.unique())\n",
    "print(unique_topics)"
   ]
  },
  {
   "cell_type": "code",
   "execution_count": 10,
   "metadata": {},
   "outputs": [],
   "source": [
    "doc_embeddings = topic_model.transform(docs)"
   ]
  },
  {
   "cell_type": "code",
   "execution_count": null,
   "metadata": {},
   "outputs": [],
   "source": [
    "# Compute cosine similiarity/distance with document embeddings\n",
    "\n",
    "sim_matrix = cosine_similarity(doc_embeddings)\n",
    "df_sim = pd.DataFrame(sim_matrix, columns=transcripts.episode_id.values(), columns=transcripts.episode_id.values())"
   ]
  },
  {
   "cell_type": "code",
   "execution_count": null,
   "metadata": {},
   "outputs": [],
   "source": [
    "# Convert cosine distance matrix to pair-wise dataframe\n",
    "df_tri = pd.DataFrame(np.triu(df_sim), columns=df_sim.columns, index=df_sim.columns)\n",
    "df_long = df_tri.stack().reset_index()\n",
    "\n",
    "# Rename the columns\n",
    "df_long.columns = ['Pair_1', 'Pair_2', 'Topic' 'Cosine_Distance']\n",
    "\n",
    "# Remove rows where Pair_1 is equal to Pair_2\n",
    "df_long = df_long[df_long['Pair_1'] != df_long['Pair_2']]\n",
    "df_long = df_long[df_long.Cosine_Distance !=0]\n",
    "\n",
    "print('Shape:', df_long.shape)\n",
    "df_long.head(10)"
   ]
  },
  {
   "cell_type": "code",
   "execution_count": 23,
   "metadata": {},
   "outputs": [
    {
     "ename": "ValueError",
     "evalue": "Array conditional must be same shape as self",
     "output_type": "error",
     "traceback": [
      "\u001b[0;31m---------------------------------------------------------------------------\u001b[0m",
      "\u001b[0;31mValueError\u001b[0m                                Traceback (most recent call last)",
      "Cell \u001b[0;32mIn[23], line 4\u001b[0m\n\u001b[1;32m      2\u001b[0m topic_embeddings \u001b[39m=\u001b[39m []\n\u001b[1;32m      3\u001b[0m \u001b[39mfor\u001b[39;00m topic_id \u001b[39min\u001b[39;00m unique_topics:\n\u001b[0;32m----> 4\u001b[0m     docs \u001b[39m=\u001b[39m topic_doc_filter\u001b[39m.\u001b[39;49mDocument\u001b[39m.\u001b[39;49mwhere(\u001b[39m'\u001b[39;49m\u001b[39mTopic\u001b[39;49m\u001b[39m'\u001b[39;49m \u001b[39m==\u001b[39;49m topic_id)\n\u001b[1;32m      5\u001b[0m     embeddings \u001b[39m=\u001b[39m topic_model\u001b[39m.\u001b[39mtransform(docs)\n\u001b[1;32m      6\u001b[0m     topic_embeddings\u001b[39m.\u001b[39mappend(embeddings)\n",
      "File \u001b[0;32m/Library/Frameworks/Python.framework/Versions/3.10/lib/python3.10/site-packages/pandas/util/_decorators.py:211\u001b[0m, in \u001b[0;36mdeprecate_kwarg.<locals>._deprecate_kwarg.<locals>.wrapper\u001b[0;34m(*args, **kwargs)\u001b[0m\n\u001b[1;32m    209\u001b[0m     \u001b[39melse\u001b[39;00m:\n\u001b[1;32m    210\u001b[0m         kwargs[new_arg_name] \u001b[39m=\u001b[39m new_arg_value\n\u001b[0;32m--> 211\u001b[0m \u001b[39mreturn\u001b[39;00m func(\u001b[39m*\u001b[39;49margs, \u001b[39m*\u001b[39;49m\u001b[39m*\u001b[39;49mkwargs)\n",
      "File \u001b[0;32m/Library/Frameworks/Python.framework/Versions/3.10/lib/python3.10/site-packages/pandas/util/_decorators.py:331\u001b[0m, in \u001b[0;36mdeprecate_nonkeyword_arguments.<locals>.decorate.<locals>.wrapper\u001b[0;34m(*args, **kwargs)\u001b[0m\n\u001b[1;32m    325\u001b[0m \u001b[39mif\u001b[39;00m \u001b[39mlen\u001b[39m(args) \u001b[39m>\u001b[39m num_allow_args:\n\u001b[1;32m    326\u001b[0m     warnings\u001b[39m.\u001b[39mwarn(\n\u001b[1;32m    327\u001b[0m         msg\u001b[39m.\u001b[39mformat(arguments\u001b[39m=\u001b[39m_format_argument_list(allow_args)),\n\u001b[1;32m    328\u001b[0m         \u001b[39mFutureWarning\u001b[39;00m,\n\u001b[1;32m    329\u001b[0m         stacklevel\u001b[39m=\u001b[39mfind_stack_level(),\n\u001b[1;32m    330\u001b[0m     )\n\u001b[0;32m--> 331\u001b[0m \u001b[39mreturn\u001b[39;00m func(\u001b[39m*\u001b[39;49margs, \u001b[39m*\u001b[39;49m\u001b[39m*\u001b[39;49mkwargs)\n",
      "File \u001b[0;32m/Library/Frameworks/Python.framework/Versions/3.10/lib/python3.10/site-packages/pandas/core/series.py:6131\u001b[0m, in \u001b[0;36mSeries.where\u001b[0;34m(self, cond, other, inplace, axis, level, errors, try_cast)\u001b[0m\n\u001b[1;32m   6117\u001b[0m \u001b[39m@deprecate_kwarg\u001b[39m(old_arg_name\u001b[39m=\u001b[39m\u001b[39m\"\u001b[39m\u001b[39merrors\u001b[39m\u001b[39m\"\u001b[39m, new_arg_name\u001b[39m=\u001b[39m\u001b[39mNone\u001b[39;00m)\n\u001b[1;32m   6118\u001b[0m \u001b[39m@deprecate_nonkeyword_arguments\u001b[39m(\n\u001b[1;32m   6119\u001b[0m     version\u001b[39m=\u001b[39m\u001b[39mNone\u001b[39;00m, allowed_args\u001b[39m=\u001b[39m[\u001b[39m\"\u001b[39m\u001b[39mself\u001b[39m\u001b[39m\"\u001b[39m, \u001b[39m\"\u001b[39m\u001b[39mcond\u001b[39m\u001b[39m\"\u001b[39m, \u001b[39m\"\u001b[39m\u001b[39mother\u001b[39m\u001b[39m\"\u001b[39m]\n\u001b[0;32m   (...)\u001b[0m\n\u001b[1;32m   6129\u001b[0m     try_cast: \u001b[39mbool\u001b[39m \u001b[39m|\u001b[39m lib\u001b[39m.\u001b[39mNoDefault \u001b[39m=\u001b[39m lib\u001b[39m.\u001b[39mno_default,\n\u001b[1;32m   6130\u001b[0m ) \u001b[39m-\u001b[39m\u001b[39m>\u001b[39m Series \u001b[39m|\u001b[39m \u001b[39mNone\u001b[39;00m:\n\u001b[0;32m-> 6131\u001b[0m     \u001b[39mreturn\u001b[39;00m \u001b[39msuper\u001b[39;49m()\u001b[39m.\u001b[39;49mwhere(\n\u001b[1;32m   6132\u001b[0m         cond,\n\u001b[1;32m   6133\u001b[0m         other,\n\u001b[1;32m   6134\u001b[0m         inplace\u001b[39m=\u001b[39;49minplace,\n\u001b[1;32m   6135\u001b[0m         axis\u001b[39m=\u001b[39;49maxis,\n\u001b[1;32m   6136\u001b[0m         level\u001b[39m=\u001b[39;49mlevel,\n\u001b[1;32m   6137\u001b[0m         try_cast\u001b[39m=\u001b[39;49mtry_cast,\n\u001b[1;32m   6138\u001b[0m     )\n",
      "File \u001b[0;32m/Library/Frameworks/Python.framework/Versions/3.10/lib/python3.10/site-packages/pandas/util/_decorators.py:211\u001b[0m, in \u001b[0;36mdeprecate_kwarg.<locals>._deprecate_kwarg.<locals>.wrapper\u001b[0;34m(*args, **kwargs)\u001b[0m\n\u001b[1;32m    209\u001b[0m     \u001b[39melse\u001b[39;00m:\n\u001b[1;32m    210\u001b[0m         kwargs[new_arg_name] \u001b[39m=\u001b[39m new_arg_value\n\u001b[0;32m--> 211\u001b[0m \u001b[39mreturn\u001b[39;00m func(\u001b[39m*\u001b[39;49margs, \u001b[39m*\u001b[39;49m\u001b[39m*\u001b[39;49mkwargs)\n",
      "File \u001b[0;32m/Library/Frameworks/Python.framework/Versions/3.10/lib/python3.10/site-packages/pandas/util/_decorators.py:331\u001b[0m, in \u001b[0;36mdeprecate_nonkeyword_arguments.<locals>.decorate.<locals>.wrapper\u001b[0;34m(*args, **kwargs)\u001b[0m\n\u001b[1;32m    325\u001b[0m \u001b[39mif\u001b[39;00m \u001b[39mlen\u001b[39m(args) \u001b[39m>\u001b[39m num_allow_args:\n\u001b[1;32m    326\u001b[0m     warnings\u001b[39m.\u001b[39mwarn(\n\u001b[1;32m    327\u001b[0m         msg\u001b[39m.\u001b[39mformat(arguments\u001b[39m=\u001b[39m_format_argument_list(allow_args)),\n\u001b[1;32m    328\u001b[0m         \u001b[39mFutureWarning\u001b[39;00m,\n\u001b[1;32m    329\u001b[0m         stacklevel\u001b[39m=\u001b[39mfind_stack_level(),\n\u001b[1;32m    330\u001b[0m     )\n\u001b[0;32m--> 331\u001b[0m \u001b[39mreturn\u001b[39;00m func(\u001b[39m*\u001b[39;49margs, \u001b[39m*\u001b[39;49m\u001b[39m*\u001b[39;49mkwargs)\n",
      "File \u001b[0;32m/Library/Frameworks/Python.framework/Versions/3.10/lib/python3.10/site-packages/pandas/core/generic.py:9968\u001b[0m, in \u001b[0;36mNDFrame.where\u001b[0;34m(self, cond, other, inplace, axis, level, errors, try_cast)\u001b[0m\n\u001b[1;32m   9960\u001b[0m \u001b[39mif\u001b[39;00m try_cast \u001b[39mis\u001b[39;00m \u001b[39mnot\u001b[39;00m lib\u001b[39m.\u001b[39mno_default:\n\u001b[1;32m   9961\u001b[0m     warnings\u001b[39m.\u001b[39mwarn(\n\u001b[1;32m   9962\u001b[0m         \u001b[39m\"\u001b[39m\u001b[39mtry_cast keyword is deprecated and will be removed in a \u001b[39m\u001b[39m\"\u001b[39m\n\u001b[1;32m   9963\u001b[0m         \u001b[39m\"\u001b[39m\u001b[39mfuture version.\u001b[39m\u001b[39m\"\u001b[39m,\n\u001b[1;32m   9964\u001b[0m         \u001b[39mFutureWarning\u001b[39;00m,\n\u001b[1;32m   9965\u001b[0m         stacklevel\u001b[39m=\u001b[39mfind_stack_level(),\n\u001b[1;32m   9966\u001b[0m     )\n\u001b[0;32m-> 9968\u001b[0m \u001b[39mreturn\u001b[39;00m \u001b[39mself\u001b[39;49m\u001b[39m.\u001b[39;49m_where(cond, other, inplace, axis, level)\n",
      "File \u001b[0;32m/Library/Frameworks/Python.framework/Versions/3.10/lib/python3.10/site-packages/pandas/core/generic.py:9640\u001b[0m, in \u001b[0;36mNDFrame._where\u001b[0;34m(self, cond, other, inplace, axis, level)\u001b[0m\n\u001b[1;32m   9638\u001b[0m         cond \u001b[39m=\u001b[39m np\u001b[39m.\u001b[39masanyarray(cond)\n\u001b[1;32m   9639\u001b[0m     \u001b[39mif\u001b[39;00m cond\u001b[39m.\u001b[39mshape \u001b[39m!=\u001b[39m \u001b[39mself\u001b[39m\u001b[39m.\u001b[39mshape:\n\u001b[0;32m-> 9640\u001b[0m         \u001b[39mraise\u001b[39;00m \u001b[39mValueError\u001b[39;00m(\u001b[39m\"\u001b[39m\u001b[39mArray conditional must be same shape as self\u001b[39m\u001b[39m\"\u001b[39m)\n\u001b[1;32m   9641\u001b[0m     cond \u001b[39m=\u001b[39m \u001b[39mself\u001b[39m\u001b[39m.\u001b[39m_constructor(cond, \u001b[39m*\u001b[39m\u001b[39m*\u001b[39m\u001b[39mself\u001b[39m\u001b[39m.\u001b[39m_construct_axes_dict())\n\u001b[1;32m   9643\u001b[0m \u001b[39m# make sure we are boolean\u001b[39;00m\n",
      "\u001b[0;31mValueError\u001b[0m: Array conditional must be same shape as self"
     ]
    }
   ],
   "source": [
    "# Get document embeddings for each topic\n",
    "topic_embeddings = []\n",
    "for topic_id in unique_topics:\n",
    "    docs = topic_doc_filter.Document.where('Topic' == topic_id)\n",
    "    embeddings = topic_model.transform(docs)\n",
    "    topic_embeddings.append(embeddings)\n",
    "\n",
    "# Compute cosine similarity matrix for each topic\n",
    "similarity_matrices = []\n",
    "for embeddings in topic_embeddings:\n",
    "    sim_matrix = cosine_similarity(embeddings)\n",
    "    similarity_matrices.append(sim_matrix)\n",
    "\n",
    "# Create DataFrame to store similarity matrices\n",
    "topic_labels = topic_model.get_topic_freq().index\n",
    "dfs = []\n",
    "for i, sim_matrix in enumerate(similarity_matrices):\n",
    "    topic_label = topic_labels[i]\n",
    "    df = pd.DataFrame(sim_matrix, columns=range(len(topic_model.get_documents(topic_label))),\n",
    "                      index=range(len(topic_model.get_documents(topic_label))))\n",
    "    df.columns = [f'{topic_label}_doc_{idx}' for idx in df.columns]\n",
    "    df.index = [f'{topic_label}_doc_{idx}' for idx in df.index]\n",
    "    dfs.append(df)\n",
    "\n",
    "# Combine similarity matrices for all topics\n",
    "df_cosine_similarities = pd.concat(dfs, axis=0)\n"
   ]
  },
  {
   "cell_type": "code",
   "execution_count": null,
   "metadata": {},
   "outputs": [],
   "source": []
  }
 ],
 "metadata": {
  "kernelspec": {
   "display_name": "Python 3",
   "language": "python",
   "name": "python3"
  },
  "language_info": {
   "codemirror_mode": {
    "name": "ipython",
    "version": 3
   },
   "file_extension": ".py",
   "mimetype": "text/x-python",
   "name": "python",
   "nbconvert_exporter": "python",
   "pygments_lexer": "ipython3",
   "version": "3.10.9"
  },
  "orig_nbformat": 4,
  "vscode": {
   "interpreter": {
    "hash": "aee8b7b246df8f9039afb4144a1f6fd8d2ca17a180786b69acc140d282b71a49"
   }
  }
 },
 "nbformat": 4,
 "nbformat_minor": 2
}
