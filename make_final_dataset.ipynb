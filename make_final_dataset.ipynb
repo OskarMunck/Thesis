{
 "cells": [
  {
   "cell_type": "code",
   "execution_count": 1,
   "metadata": {},
   "outputs": [],
   "source": [
    "import pandas as pd\n",
    "\n",
    "transcripts = pd.read_csv(\"transcripts_dataset.csv.gz\", compression=\"gzip\")\n",
    "# transcriptsv2 = pd.read_csv(\"transcripts_dataset_v2.csv.gz\", compression=\"gzip\")\n",
    "metadata = pd.read_csv(\"metadata.tsv\", sep= \"\\t\")"
   ]
  },
  {
   "cell_type": "code",
   "execution_count": 2,
   "metadata": {},
   "outputs": [],
   "source": [
    "# Impute missing values\n",
    "transcripts.at[39887, \"episode_id\"] = \"3EAicvUXZULEPKfcj6zn.json\"\n",
    "transcripts.at[39888, \"episode_id\"] = \"4LRKXIzS3cPFOOaSIsuQsB.json\"\n",
    "transcripts.at[39889, \"episode_id\"] = \"3qc2QKVtz3qLYwnliohJwW.json\"\n",
    "transcripts.at[39890, \"episode_id\"] = \"1ZaDV9eQKQSI9a20Cxnd9s.json\"\n",
    "transcripts.at[39891, \"episode_id\"] = \"2QwTaS7Rqcq891jZ3lilFB.json\""
   ]
  },
  {
   "cell_type": "code",
   "execution_count": 7,
   "metadata": {},
   "outputs": [],
   "source": [
    "# subset metadata\n",
    "metadata = metadata[[\"show_name\", \"show_description\", \"publisher\", \"language\", \"episode_name\", \"episode_description\", \"duration\", \"show_filename_prefix\", \"episode_filename_prefix\"]]\n",
    "metadata = metadata.rename({\"episode_filename_prefix\": \"episode_id\", \"show_filename_prefix\": \"show_id\"}, axis=\"columns\")  # rename cols\n",
    "# remove episode_id suffix \n",
    "transcripts.episode_id = transcripts.episode_id.apply(lambda x: x.rstrip(\".json\"))\n",
    "transcripts = transcripts.drop(\"Unnamed: 0\", axis=1)"
   ]
  },
  {
   "cell_type": "code",
   "execution_count": 11,
   "metadata": {},
   "outputs": [
    {
     "data": {
      "text/plain": [
       "show_id                   0\n",
       "episode_id                0\n",
       "transcript                0\n",
       "avg_confidence            0\n",
       "word_count                0\n",
       "show_name              2545\n",
       "show_description       2545\n",
       "publisher              2545\n",
       "language               2545\n",
       "episode_name           2545\n",
       "episode_description    2616\n",
       "duration               2545\n",
       "show_id_trans          2545\n",
       "dtype: int64"
      ]
     },
     "execution_count": 11,
     "metadata": {},
     "output_type": "execute_result"
    }
   ],
   "source": [
    "# concatinate data\n",
    "\n",
    "\n",
    "# join data\n",
    "full_dataset = transcripts.join(metadata.set_index(\"episode_id\"), on=\"episode_id\", rsuffix=\"_trans\")\n",
    "full_dataset.isna().sum()"
   ]
  },
  {
   "cell_type": "code",
   "execution_count": null,
   "metadata": {},
   "outputs": [],
   "source": []
  }
 ],
 "metadata": {
  "kernelspec": {
   "display_name": "Python 3",
   "language": "python",
   "name": "python3"
  },
  "language_info": {
   "codemirror_mode": {
    "name": "ipython",
    "version": 3
   },
   "file_extension": ".py",
   "mimetype": "text/x-python",
   "name": "python",
   "nbconvert_exporter": "python",
   "pygments_lexer": "ipython3",
   "version": "3.11.1"
  },
  "orig_nbformat": 4,
  "vscode": {
   "interpreter": {
    "hash": "1a1af0ee75eeea9e2e1ee996c87e7a2b11a0bebd85af04bb136d915cefc0abce"
   }
  }
 },
 "nbformat": 4,
 "nbformat_minor": 2
}
