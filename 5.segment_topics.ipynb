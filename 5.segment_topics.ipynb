{
 "cells": [
  {
   "attachments": {},
   "cell_type": "markdown",
   "metadata": {},
   "source": [
    "# Third step in pipeline\n",
    "# Get topics of predicted segments"
   ]
  },
  {
   "cell_type": "code",
   "execution_count": 1,
   "metadata": {},
   "outputs": [],
   "source": [
    "import numpy as np"
   ]
  },
  {
   "cell_type": "code",
   "execution_count": 17,
   "metadata": {},
   "outputs": [
    {
     "name": "stdout",
     "output_type": "stream",
     "text": [
      "27\n",
      "(601, 2880)\n"
     ]
    }
   ],
   "source": [
    "# Load boundaries and probability desiti vectors of corresponding transcript\n",
    "hdbscan_model_number = 15\n",
    "transcript_ref = '0ZGQ63222rqX5TD5ZrMmcN'\n",
    "\n",
    "boundaries = np.load(f'../Thesis/evaluation/boundaries_msize{hdbscan_model_number}_{transcript_ref}.npy')\n",
    "proba_vectors = np.load(f'../Thesis/annotated_probabilities_msize{hdbscan_model_number}/proba_dens_vec_msize{hdbscan_model_number}_{transcript_ref}.npy')\n",
    "print(len(boundaries))\n",
    "print(proba_vectors.shape)"
   ]
  },
  {
   "cell_type": "code",
   "execution_count": 18,
   "metadata": {},
   "outputs": [
    {
     "name": "stdout",
     "output_type": "stream",
     "text": [
      "Segment before position 61 has topic: 243\n",
      "Segment before position 77 has topic: 243\n",
      "Segment before position 91 has topic: 243\n",
      "Segment before position 112 has topic: 243\n",
      "Segment before position 120 has topic: 243\n",
      "Segment before position 136 has topic: 243\n",
      "Segment before position 141 has topic: 243\n",
      "Segment before position 164 has topic: 243\n",
      "Segment before position 172 has topic: 243\n",
      "Segment before position 179 has topic: 243\n",
      "Segment before position 223 has topic: 243\n",
      "Segment before position 242 has topic: 243\n",
      "Segment before position 275 has topic: 243\n",
      "Segment before position 289 has topic: 243\n",
      "Segment before position 295 has topic: 243\n",
      "Segment before position 309 has topic: 243\n",
      "Segment before position 340 has topic: 243\n",
      "Segment before position 346 has topic: 243\n",
      "Segment before position 358 has topic: 243\n",
      "Segment before position 377 has topic: 243\n",
      "Segment before position 401 has topic: 243\n",
      "Segment before position 425 has topic: 243\n",
      "Segment before position 469 has topic: 243\n",
      "Segment before position 507 has topic: 243\n",
      "Segment before position 526 has topic: 243\n",
      "Segment before position 538 has topic: 243\n",
      "Segment before position 568 has topic: 243\n",
      "Segment after position 568 has topic: 243\n"
     ]
    }
   ],
   "source": [
    "# For each segment, add probability desity vectors and find max index which matches with the topic \n",
    "for index, bound in enumerate(boundaries):\n",
    "    if index == len(boundaries)-1:\n",
    "        segment_before = proba_vectors[:bound,:]\n",
    "        segment_after = proba_vectors[bound:,:]\n",
    "        segment_before_added = np.add.reduce(segment_before)\n",
    "        segment_after_added = np.add.reduce(segment_after)\n",
    "        max_topic_before = np.argmax(segment_before_added)  # index of largest element\n",
    "        max_topic_after = np.argmax(segment_after_added)  # index of largest element\n",
    "        print('Segment before position',bound,'has topic:', max_topic_before)\n",
    "        print('Segment after position',bound,'has topic:', max_topic_after)\n",
    "    else:\n",
    "        segment = proba_vectors[:bound,:]\n",
    "        segment_added = np.add.reduce(segment)\n",
    "        max_topic = np.argmax(segment_added)  # index of largest element\n",
    "        print('Segment before position',bound,'has topic:', max_topic)\n"
   ]
  }
 ],
 "metadata": {
  "kernelspec": {
   "display_name": "thesisenv",
   "language": "python",
   "name": "python3"
  },
  "language_info": {
   "codemirror_mode": {
    "name": "ipython",
    "version": 3
   },
   "file_extension": ".py",
   "mimetype": "text/x-python",
   "name": "python",
   "nbconvert_exporter": "python",
   "pygments_lexer": "ipython3",
   "version": "3.10.9"
  },
  "orig_nbformat": 4
 },
 "nbformat": 4,
 "nbformat_minor": 2
}
