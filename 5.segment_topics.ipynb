{
 "cells": [
  {
   "attachments": {},
   "cell_type": "markdown",
   "metadata": {},
   "source": [
    "# Third step in pipeline\n",
    "# Get topics of predicted segments"
   ]
  },
  {
   "cell_type": "code",
   "execution_count": 2,
   "metadata": {},
   "outputs": [],
   "source": [
    "import numpy as np"
   ]
  },
  {
   "cell_type": "code",
   "execution_count": 46,
   "metadata": {},
   "outputs": [
    {
     "name": "stdout",
     "output_type": "stream",
     "text": [
      "10\n",
      "(224, 2880)\n"
     ]
    }
   ],
   "source": [
    "# Load boundaries and probability desiti vectors of corresponding transcript\n",
    "hdbscan_model_number = 15\n",
    "transcript_ref = '13NDTKL5ZGs8cb8dojW3bz'\n",
    "\n",
    "boundaries = np.load(f'../Thesis/evaluation/boundaries_msize{hdbscan_model_number}_{transcript_ref}.npy')\n",
    "proba_vectors = np.load(f'../Thesis/annotated_probabilities_msize{hdbscan_model_number}/proba_dens_vec_msize{hdbscan_model_number}_{transcript_ref}.npy')\n",
    "print(len(boundaries))\n",
    "print(proba_vectors.shape)"
   ]
  },
  {
   "cell_type": "code",
   "execution_count": 47,
   "metadata": {},
   "outputs": [
    {
     "name": "stdout",
     "output_type": "stream",
     "text": [
      "Segment before position 35 has topic: 243 and normalised value: 0.180\n",
      "Segment before position 65 has topic: 243 and normalised value: 0.264\n",
      "Segment before position 80 has topic: 1884 and normalised value: 0.066\n",
      "Segment before position 84 has topic: 1580 and normalised value: 0.240\n",
      "Segment before position 96 has topic: 243 and normalised value: 0.091\n",
      "Segment before position 114 has topic: 243 and normalised value: 0.225\n",
      "Segment before position 134 has topic: 243 and normalised value: 0.082\n",
      "Segment before position 152 has topic: 243 and normalised value: 0.088\n",
      "Segment before position 177 has topic: 243 and normalised value: 0.160\n",
      "Segment before position 188 has topic: 1744 and normalised value: 0.091\n",
      "Segment after position 188 has topic: 243 and normalised value: 0.111\n",
      "Weighted average certainty: 15.0%\n"
     ]
    }
   ],
   "source": [
    "# For each segment, add probability desity vectors and find max index which matches with the topic \n",
    "certainty_ls = []\n",
    "\n",
    "for index, bound in enumerate(boundaries):\n",
    "    if index == len(boundaries)-1:\n",
    "        segment_before = proba_vectors[boundaries[index-1]:bound,:]\n",
    "        segment_after = proba_vectors[bound:,:]\n",
    "        segment_before_added = np.add.reduce(segment_before)\n",
    "        segment_after_added = np.add.reduce(segment_after)\n",
    "        max_topic_before = np.argmax(segment_before_added)  # index of largest element\n",
    "        max_topic_after = np.argmax(segment_after_added)  # index of largest element\n",
    "        norm_value_before = np.max(segment_before_added)/len(segment_before)  # value of largest element\n",
    "        norm_value_after = np.max(segment_after_added)/len(segment_after)  # value of largest element\n",
    "        certainty_ls.append([norm_value_before, len(segment_before)])\n",
    "        certainty_ls.append([norm_value_after, len(segment_after)])\n",
    "        print(f'Segment before position {bound} has topic: {max_topic_before} and normalised value: {norm_value_before:.3f}')\n",
    "        print(f'Segment after position {bound} has topic: {max_topic_after} and normalised value: {norm_value_after:.3f}')\n",
    "    elif index == 0:\n",
    "        segment = proba_vectors[:bound,:]\n",
    "        segment_added = np.add.reduce(segment)\n",
    "        max_topic = np.argmax(segment_added)  # index of largest element\n",
    "        norm_value = np.max(segment_added)/len(segment)  # value of largest element\n",
    "        certainty_ls.append([norm_value, len(segment)])\n",
    "        print(f'Segment before position {bound} has topic: {max_topic} and normalised value: {norm_value:.3f}')\n",
    "    else:\n",
    "        segment = proba_vectors[boundaries[index-1]:bound,:]\n",
    "        segment_added = np.add.reduce(segment)\n",
    "        max_topic = np.argmax(segment_added)  # index of largest element\n",
    "        norm_value = np.max(segment_added)/len(segment)  # value of largest element\n",
    "        certainty_ls.append([norm_value, len(segment)])\n",
    "        print(f'Segment before position {bound} has topic: {max_topic} and normalised value: {norm_value:.3f}')\n",
    "\n",
    "# Calculate weighted average certainty\n",
    "certainty_arr = np.array(certainty_ls)\n",
    "weights = certainty_arr[:,1]/sum(certainty_arr[:,1])\n",
    "weighted_average = sum(certainty_arr[:,0] * weights)\n",
    "print(f'Weighted average certainty: {weighted_average:.1%}')"
   ]
  }
 ],
 "metadata": {
  "kernelspec": {
   "display_name": "thesisenv",
   "language": "python",
   "name": "python3"
  },
  "language_info": {
   "codemirror_mode": {
    "name": "ipython",
    "version": 3
   },
   "file_extension": ".py",
   "mimetype": "text/x-python",
   "name": "python",
   "nbconvert_exporter": "python",
   "pygments_lexer": "ipython3",
   "version": "3.10.9"
  },
  "orig_nbformat": 4
 },
 "nbformat": 4,
 "nbformat_minor": 2
}
