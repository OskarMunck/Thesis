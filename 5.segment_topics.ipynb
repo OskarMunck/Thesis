{
 "cells": [
  {
   "attachments": {},
   "cell_type": "markdown",
   "metadata": {},
   "source": [
    "# Third step in pipeline\n",
    "# Get topics of predicted segments"
   ]
  },
  {
   "cell_type": "code",
   "execution_count": 1,
   "metadata": {},
   "outputs": [],
   "source": [
    "import numpy as np"
   ]
  },
  {
   "cell_type": "code",
   "execution_count": 11,
   "metadata": {},
   "outputs": [
    {
     "name": "stdout",
     "output_type": "stream",
     "text": [
      "9\n",
      "(224, 155)\n"
     ]
    }
   ],
   "source": [
    "# Load boundaries and probability desiti vectors of corresponding transcript\n",
    "hdbscan_model_number = 200\n",
    "transcript_ref = '13NDTKL5ZGs8cb8dojW3bz'\n",
    "\n",
    "boundaries = np.load(f'../Thesis/evaluation/boundaries_msize{hdbscan_model_number}_{transcript_ref}.npy')\n",
    "proba_vectors = np.load(f'../Thesis/annotated_probabilities_msize{hdbscan_model_number}/proba_dens_vec_msize{hdbscan_model_number}_{transcript_ref}.npy')\n",
    "print(len(boundaries))\n",
    "print(proba_vectors.shape)"
   ]
  },
  {
   "cell_type": "code",
   "execution_count": 12,
   "metadata": {},
   "outputs": [
    {
     "name": "stdout",
     "output_type": "stream",
     "text": [
      "Segment before position 31 has topic: 125 and normalised value: 0.098\n",
      "Segment before position 44 has topic: 133 and normalised value: 0.080\n",
      "Segment before position 56 has topic: 120 and normalised value: 0.250\n",
      "Segment before position 74 has topic: 120 and normalised value: 0.064\n",
      "Segment before position 84 has topic: 125 and normalised value: 0.163\n",
      "Segment before position 114 has topic: 38 and normalised value: 0.059\n",
      "Segment before position 146 has topic: 125 and normalised value: 0.089\n",
      "Segment before position 158 has topic: 33 and normalised value: 0.084\n",
      "Segment before position 187 has topic: 72 and normalised value: 0.058\n",
      "Segment after position 187 has topic: 132 and normalised value: 0.043\n"
     ]
    }
   ],
   "source": [
    "# For each segment, add probability desity vectors and find max index which matches with the topic \n",
    "\n",
    "for index, bound in enumerate(boundaries):\n",
    "    if index == len(boundaries)-1:\n",
    "        segment_before = proba_vectors[boundaries[index-1]:bound,:]\n",
    "        segment_after = proba_vectors[bound:,:]\n",
    "        segment_before_added = np.add.reduce(segment_before)\n",
    "        segment_after_added = np.add.reduce(segment_after)\n",
    "        max_topic_before = np.argmax(segment_before_added)  # index of largest element\n",
    "        max_topic_after = np.argmax(segment_after_added)  # index of largest element\n",
    "        norm_value_before = np.max(segment_before_added)/len(segment_before)  # value of largest element\n",
    "        norm_value_after = np.max(segment_after_added)/len(segment_after)  # value of largest element\n",
    "        print(f'Segment before position {bound} has topic: {max_topic_before} and normalised value: {norm_value_before:.3f}')\n",
    "        print(f'Segment after position {bound} has topic: {max_topic_after} and normalised value: {norm_value_after:.3f}')\n",
    "    elif index == 0:\n",
    "        segment = proba_vectors[:bound,:]\n",
    "        segment_added = np.add.reduce(segment)\n",
    "        max_topic = np.argmax(segment_added)  # index of largest element\n",
    "        norm_value = np.max(segment_added)/len(segment)  # value of largest element\n",
    "        print(f'Segment before position {bound} has topic: {max_topic} and normalised value: {norm_value:.3f}')\n",
    "    else:\n",
    "        segment = proba_vectors[boundaries[index-1]:bound,:]\n",
    "        segment_added = np.add.reduce(segment)\n",
    "        max_topic = np.argmax(segment_added)  # index of largest element\n",
    "        norm_value = np.max(segment_added)/len(segment)  # value of largest element\n",
    "        print(f'Segment before position {bound} has topic: {max_topic} and normalised value: {norm_value:.3f}')"
   ]
  },
  {
   "cell_type": "code",
   "execution_count": null,
   "metadata": {},
   "outputs": [],
   "source": []
  }
 ],
 "metadata": {
  "kernelspec": {
   "display_name": "thesisenv",
   "language": "python",
   "name": "python3"
  },
  "language_info": {
   "codemirror_mode": {
    "name": "ipython",
    "version": 3
   },
   "file_extension": ".py",
   "mimetype": "text/x-python",
   "name": "python",
   "nbconvert_exporter": "python",
   "pygments_lexer": "ipython3",
   "version": "3.10.9"
  },
  "orig_nbformat": 4
 },
 "nbformat": 4,
 "nbformat_minor": 2
}
