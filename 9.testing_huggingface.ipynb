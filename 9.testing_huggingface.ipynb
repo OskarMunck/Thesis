{
 "cells": [
  {
   "cell_type": "code",
   "execution_count": 1,
   "metadata": {},
   "outputs": [],
   "source": [
    "from transformers.pipelines import pipeline\n",
    "from transformers import AutoModel\n",
    "from bertopic import BERTopic\n",
    "from bertopic.representation import MaximalMarginalRelevance\n",
    "from sentence_transformers import SentenceTransformer\n",
    "from bertopic.vectorizers import ClassTfidfTransformer\n",
    "from sklearn.feature_extraction.text import CountVectorizer\n",
    "import pandas as pd\n",
    "from umap import UMAP\n",
    "from hdbscan import HDBSCAN"
   ]
  },
  {
   "cell_type": "code",
   "execution_count": 1,
   "metadata": {},
   "outputs": [
    {
     "data": {
      "application/vnd.jupyter.widget-view+json": {
       "model_id": "96dcdeb63ec44e928fde49ba18c87ae6",
       "version_major": 2,
       "version_minor": 0
      },
      "text/plain": [
       "Downloading (…)lve/main/config.json:   0%|          | 0.00/694 [00:00<?, ?B/s]"
      ]
     },
     "metadata": {},
     "output_type": "display_data"
    },
    {
     "data": {
      "application/vnd.jupyter.widget-view+json": {
       "model_id": "12f4694eab6a4abfbceb3f75afa6d09d",
       "version_major": 2,
       "version_minor": 0
      },
      "text/plain": [
       "Downloading (…)\"pytorch_model.bin\";:   0%|          | 0.00/597M [00:00<?, ?B/s]"
      ]
     },
     "metadata": {},
     "output_type": "display_data"
    },
    {
     "name": "stderr",
     "output_type": "stream",
     "text": [
      "Some weights of the model checkpoint at allenai/longformer-base-4096 were not used when initializing LongformerModel: ['lm_head.bias', 'lm_head.layer_norm.bias', 'lm_head.decoder.weight', 'lm_head.dense.weight', 'lm_head.dense.bias', 'lm_head.layer_norm.weight']\n",
      "- This IS expected if you are initializing LongformerModel from the checkpoint of a model trained on another task or with another architecture (e.g. initializing a BertForSequenceClassification model from a BertForPreTraining model).\n",
      "- This IS NOT expected if you are initializing LongformerModel from the checkpoint of a model that you expect to be exactly identical (initializing a BertForSequenceClassification model from a BertForSequenceClassification model).\n"
     ]
    }
   ],
   "source": [
    "model = AutoModel.from_pretrained(\"allenai/longformer-base-4096\")"
   ]
  },
  {
   "cell_type": "code",
   "execution_count": 13,
   "metadata": {},
   "outputs": [
    {
     "name": "stderr",
     "output_type": "stream",
     "text": [
      "Some weights of the model checkpoint at allenai/longformer-base-4096 were not used when initializing LongformerModel: ['lm_head.layer_norm.bias', 'lm_head.dense.bias', 'lm_head.layer_norm.weight', 'lm_head.bias', 'lm_head.dense.weight', 'lm_head.decoder.weight']\n",
      "- This IS expected if you are initializing LongformerModel from the checkpoint of a model trained on another task or with another architecture (e.g. initializing a BertForSequenceClassification model from a BertForPreTraining model).\n",
      "- This IS NOT expected if you are initializing LongformerModel from the checkpoint of a model that you expect to be exactly identical (initializing a BertForSequenceClassification model from a BertForSequenceClassification model).\n"
     ]
    }
   ],
   "source": [
    "embedding_model = pipeline(\"feature-extraction\", model=\"allenai/longformer-base-4096\")"
   ]
  },
  {
   "cell_type": "code",
   "execution_count": 8,
   "metadata": {},
   "outputs": [],
   "source": [
    "umap_model = UMAP(\n",
    "    n_neighbors=15, \n",
    "    n_components=5, \n",
    "    min_dist=0.0, \n",
    "    metric='cosine')\n",
    "\n",
    "hdbscan_model = HDBSCAN(\n",
    "    min_cluster_size = 10, # Limit at 400 clusters \n",
    "    metric='euclidean', # same as cosine for normalised data\n",
    "    cluster_selection_method='eom', \n",
    "    prediction_data=True)\n",
    "\n",
    "vectorizer_model = CountVectorizer(min_df=10, stop_words='english', ngram_range=(1,3))\n",
    "\n",
    "ctfidf_model = ClassTfidfTransformer(reduce_frequent_words=True)\n",
    "\n",
    "representation_model = MaximalMarginalRelevance(diversity=0.7)"
   ]
  },
  {
   "cell_type": "code",
   "execution_count": 11,
   "metadata": {},
   "outputs": [],
   "source": [
    "# load dataset\n",
    "data_to_use = pd.read_csv('sports_transcripts.csv.gz', compression='gzip', nrows=50, usecols=[2,3])\n",
    "data_to_use.head()\n",
    "documents = list(data_to_use.transcript)"
   ]
  },
  {
   "cell_type": "code",
   "execution_count": 21,
   "metadata": {},
   "outputs": [
    {
     "ename": "TypeError",
     "evalue": "BERTopic.__init__() got an unexpected keyword argument 'calculate_probabilties'",
     "output_type": "error",
     "traceback": [
      "\u001b[0;31m---------------------------------------------------------------------------\u001b[0m",
      "\u001b[0;31mTypeError\u001b[0m                                 Traceback (most recent call last)",
      "Cell \u001b[0;32mIn[21], line 1\u001b[0m\n\u001b[0;32m----> 1\u001b[0m bert_v2 \u001b[39m=\u001b[39m BERTopic(\n\u001b[1;32m      2\u001b[0m     embedding_model\u001b[39m=\u001b[39;49membedding_model,\n\u001b[1;32m      3\u001b[0m     umap_model\u001b[39m=\u001b[39;49mumap_model,\n\u001b[1;32m      4\u001b[0m     hdbscan_model\u001b[39m=\u001b[39;49mhdbscan_model,\n\u001b[1;32m      5\u001b[0m     ctfidf_model\u001b[39m=\u001b[39;49mctfidf_model,\n\u001b[1;32m      6\u001b[0m     verbose\u001b[39m=\u001b[39;49m\u001b[39mTrue\u001b[39;49;00m, \n\u001b[1;32m      7\u001b[0m     calculate_probabilties \u001b[39m=\u001b[39;49m \u001b[39mTrue\u001b[39;49;00m\n\u001b[1;32m      8\u001b[0m     )\n\u001b[1;32m     10\u001b[0m topics, probs \u001b[39m=\u001b[39m bert_v2\u001b[39m.\u001b[39mfit_transform(documents)\n",
      "\u001b[0;31mTypeError\u001b[0m: BERTopic.__init__() got an unexpected keyword argument 'calculate_probabilties'"
     ]
    }
   ],
   "source": [
    "bert_v2 = BERTopic(\n",
    "    embedding_model=embedding_model,\n",
    "    umap_model=umap_model,\n",
    "    hdbscan_model=hdbscan_model,\n",
    "    ctfidf_model=ctfidf_model,\n",
    "    verbose=True, \n",
    "    )\n",
    "\n",
    "topics, probs = bert_v2.fit_transform(documents)"
   ]
  },
  {
   "cell_type": "code",
   "execution_count": 15,
   "metadata": {},
   "outputs": [
    {
     "data": {
      "text/html": [
       "<div>\n",
       "<style scoped>\n",
       "    .dataframe tbody tr th:only-of-type {\n",
       "        vertical-align: middle;\n",
       "    }\n",
       "\n",
       "    .dataframe tbody tr th {\n",
       "        vertical-align: top;\n",
       "    }\n",
       "\n",
       "    .dataframe thead th {\n",
       "        text-align: right;\n",
       "    }\n",
       "</style>\n",
       "<table border=\"1\" class=\"dataframe\">\n",
       "  <thead>\n",
       "    <tr style=\"text-align: right;\">\n",
       "      <th></th>\n",
       "      <th>Topic</th>\n",
       "      <th>Count</th>\n",
       "      <th>Name</th>\n",
       "    </tr>\n",
       "  </thead>\n",
       "  <tbody>\n",
       "    <tr>\n",
       "      <th>0</th>\n",
       "      <td>-1</td>\n",
       "      <td>50</td>\n",
       "      <td>-1_the_and_you_to</td>\n",
       "    </tr>\n",
       "  </tbody>\n",
       "</table>\n",
       "</div>"
      ],
      "text/plain": [
       "   Topic  Count               Name\n",
       "0     -1     50  -1_the_and_you_to"
      ]
     },
     "execution_count": 15,
     "metadata": {},
     "output_type": "execute_result"
    }
   ],
   "source": [
    "bert_v2.get_topic_info()"
   ]
  },
  {
   "cell_type": "code",
   "execution_count": 20,
   "metadata": {},
   "outputs": [
    {
     "name": "stderr",
     "output_type": "stream",
     "text": [
      "0it [00:00, ?it/s]\n"
     ]
    },
    {
     "ename": "ValueError",
     "evalue": "need at least one array to concatenate",
     "output_type": "error",
     "traceback": [
      "\u001b[0;31m---------------------------------------------------------------------------\u001b[0m",
      "\u001b[0;31mValueError\u001b[0m                                Traceback (most recent call last)",
      "Cell \u001b[0;32mIn[20], line 1\u001b[0m\n\u001b[0;32m----> 1\u001b[0m bert_v21 \u001b[39m=\u001b[39m bert_v2\u001b[39m.\u001b[39;49mreduce_outliers(topics, documents)\n",
      "File \u001b[0;32m/Library/Frameworks/Python.framework/Versions/3.10/lib/python3.10/site-packages/bertopic/_bertopic.py:1964\u001b[0m, in \u001b[0;36mBERTopic.reduce_outliers\u001b[0;34m(self, documents, topics, strategy, probabilities, threshold, embeddings, distributions_params)\u001b[0m\n\u001b[1;32m   1962\u001b[0m outlier_ids \u001b[39m=\u001b[39m [index \u001b[39mfor\u001b[39;00m index, topic \u001b[39min\u001b[39;00m \u001b[39menumerate\u001b[39m(topics) \u001b[39mif\u001b[39;00m topic \u001b[39m==\u001b[39m \u001b[39m-\u001b[39m\u001b[39m1\u001b[39m]\n\u001b[1;32m   1963\u001b[0m outlier_docs \u001b[39m=\u001b[39m [documents[index] \u001b[39mfor\u001b[39;00m index \u001b[39min\u001b[39;00m outlier_ids]\n\u001b[0;32m-> 1964\u001b[0m topic_distr, _ \u001b[39m=\u001b[39m \u001b[39mself\u001b[39;49m\u001b[39m.\u001b[39;49mapproximate_distribution(outlier_docs, min_similarity\u001b[39m=\u001b[39;49mthreshold, \u001b[39m*\u001b[39;49m\u001b[39m*\u001b[39;49mdistributions_params)\n\u001b[1;32m   1965\u001b[0m outlier_topics \u001b[39m=\u001b[39m \u001b[39miter\u001b[39m([np\u001b[39m.\u001b[39margmax(prob) \u001b[39mif\u001b[39;00m \u001b[39msum\u001b[39m(prob) \u001b[39m>\u001b[39m \u001b[39m0\u001b[39m \u001b[39melse\u001b[39;00m \u001b[39m-\u001b[39m\u001b[39m1\u001b[39m \u001b[39mfor\u001b[39;00m prob \u001b[39min\u001b[39;00m topic_distr])\n\u001b[1;32m   1966\u001b[0m new_topics \u001b[39m=\u001b[39m [topic \u001b[39mif\u001b[39;00m topic \u001b[39m!=\u001b[39m \u001b[39m-\u001b[39m\u001b[39m1\u001b[39m \u001b[39melse\u001b[39;00m \u001b[39mnext\u001b[39m(outlier_topics) \u001b[39mfor\u001b[39;00m topic \u001b[39min\u001b[39;00m topics]\n",
      "File \u001b[0;32m/Library/Frameworks/Python.framework/Versions/3.10/lib/python3.10/site-packages/bertopic/_bertopic.py:1173\u001b[0m, in \u001b[0;36mBERTopic.approximate_distribution\u001b[0;34m(self, documents, window, stride, min_similarity, batch_size, padding, use_embedding_model, calculate_tokens, separator)\u001b[0m\n\u001b[1;32m   1170\u001b[0m     \u001b[39melse\u001b[39;00m:\n\u001b[1;32m   1171\u001b[0m         topic_token_distributions\u001b[39m.\u001b[39mextend(topic_token_distribution)\n\u001b[0;32m-> 1173\u001b[0m topic_distributions \u001b[39m=\u001b[39m np\u001b[39m.\u001b[39;49mvstack(topic_distributions)\n\u001b[1;32m   1175\u001b[0m \u001b[39mreturn\u001b[39;00m topic_distributions, topic_token_distributions\n",
      "File \u001b[0;32m<__array_function__ internals>:180\u001b[0m, in \u001b[0;36mvstack\u001b[0;34m(*args, **kwargs)\u001b[0m\n",
      "File \u001b[0;32m/Library/Frameworks/Python.framework/Versions/3.10/lib/python3.10/site-packages/numpy/core/shape_base.py:282\u001b[0m, in \u001b[0;36mvstack\u001b[0;34m(tup)\u001b[0m\n\u001b[1;32m    280\u001b[0m \u001b[39mif\u001b[39;00m \u001b[39mnot\u001b[39;00m \u001b[39misinstance\u001b[39m(arrs, \u001b[39mlist\u001b[39m):\n\u001b[1;32m    281\u001b[0m     arrs \u001b[39m=\u001b[39m [arrs]\n\u001b[0;32m--> 282\u001b[0m \u001b[39mreturn\u001b[39;00m _nx\u001b[39m.\u001b[39;49mconcatenate(arrs, \u001b[39m0\u001b[39;49m)\n",
      "File \u001b[0;32m<__array_function__ internals>:180\u001b[0m, in \u001b[0;36mconcatenate\u001b[0;34m(*args, **kwargs)\u001b[0m\n",
      "\u001b[0;31mValueError\u001b[0m: need at least one array to concatenate"
     ]
    }
   ],
   "source": [
    "bert_v21 = bert_v2.reduce_outliers(topics, documents)"
   ]
  },
  {
   "cell_type": "code",
   "execution_count": null,
   "metadata": {},
   "outputs": [],
   "source": []
  }
 ],
 "metadata": {
  "kernelspec": {
   "display_name": "Python 3",
   "language": "python",
   "name": "python3"
  },
  "language_info": {
   "codemirror_mode": {
    "name": "ipython",
    "version": 3
   },
   "file_extension": ".py",
   "mimetype": "text/x-python",
   "name": "python",
   "nbconvert_exporter": "python",
   "pygments_lexer": "ipython3",
   "version": "3.10.9"
  },
  "orig_nbformat": 4
 },
 "nbformat": 4,
 "nbformat_minor": 2
}
