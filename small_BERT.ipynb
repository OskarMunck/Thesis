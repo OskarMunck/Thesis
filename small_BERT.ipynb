{
 "cells": [
  {
   "attachments": {},
   "cell_type": "markdown",
   "metadata": {},
   "source": [
    "### Make a small BERT to use in pipeline design "
   ]
  },
  {
   "cell_type": "code",
   "execution_count": 19,
   "metadata": {},
   "outputs": [],
   "source": [
    "import numpy as np\n",
    "import pandas as pd\n",
    "from openTSNE import TSNE as otsne\n",
    "from hdbscan import HDBSCAN\n",
    "from bertopic import BERTopic\n",
    "from bertopic.vectorizers import ClassTfidfTransformer\n",
    "from sklearn.feature_extraction.text import CountVectorizer\n",
    "from bertopic.dimensionality import BaseDimensionalityReduction\n",
    "from sklearn.decomposition import PCA"
   ]
  },
  {
   "cell_type": "code",
   "execution_count": 3,
   "metadata": {},
   "outputs": [
    {
     "name": "stdout",
     "output_type": "stream",
     "text": [
      "368835\n",
      "5000\n",
      "5000\n"
     ]
    }
   ],
   "source": [
    "# Load and sample data\n",
    "plain_text = pd.read_csv('sports_word_256.csv.gz', compression='gzip')\n",
    "word_embeddings = np.load('sports_embeddings_256.npy')\n",
    "\n",
    "# sample data\n",
    "sample_index = np.random.choice(word_embeddings.shape[0], 5000, replace=False)\n",
    "plain_text = plain_text.drop(columns='Unnamed: 0')\n",
    "plain_text_sample = plain_text.iloc[list(sample_index),:]\n",
    "documents = plain_text_sample.transcript_subset.to_list()\n",
    "word_embeddings_sample = word_embeddings[sample_index, :]\n",
    "print(len(word_embeddings))\n",
    "print(len(plain_text_sample))\n",
    "print(len(word_embeddings_sample))"
   ]
  },
  {
   "cell_type": "code",
   "execution_count": 4,
   "metadata": {},
   "outputs": [],
   "source": [
    "# PCA dim reduce\n",
    "PCA = PCA(n_components = 50)\n",
    "PCA_data = PCA.fit_transform(word_embeddings_sample)"
   ]
  },
  {
   "cell_type": "code",
   "execution_count": 5,
   "metadata": {},
   "outputs": [
    {
     "name": "stdout",
     "output_type": "stream",
     "text": [
      "--------------------------------------------------------------------------------\n",
      "TSNE(early_exaggeration=12, n_components=3, verbose=True)\n",
      "--------------------------------------------------------------------------------\n",
      "===> Finding 90 nearest neighbors using Annoy approximate search using euclidean distance...\n",
      "   --> Time elapsed: 3.31 seconds\n",
      "===> Calculating affinity matrix...\n",
      "   --> Time elapsed: 0.24 seconds\n",
      "===> Calculating PCA-based initialization...\n",
      "   --> Time elapsed: 0.03 seconds\n",
      "===> Running optimization with exaggeration=12.00, lr=416.67 for 250 iterations...\n",
      "Iteration   50, KL divergence 4.6271, 50 iterations in 3.5357 sec\n",
      "Iteration  100, KL divergence 4.6798, 50 iterations in 2.8652 sec\n",
      "Iteration  150, KL divergence 4.6788, 50 iterations in 2.6308 sec\n",
      "Iteration  200, KL divergence 4.6746, 50 iterations in 3.1134 sec\n",
      "Iteration  250, KL divergence 4.6739, 50 iterations in 2.9601 sec\n",
      "   --> Time elapsed: 15.11 seconds\n",
      "===> Running optimization with exaggeration=1.00, lr=5000.00 for 500 iterations...\n",
      "Iteration   50, KL divergence 2.4338, 50 iterations in 8.0909 sec\n",
      "Iteration  100, KL divergence 2.2962, 50 iterations in 11.1731 sec\n",
      "Iteration  150, KL divergence 2.2372, 50 iterations in 5.8194 sec\n",
      "Iteration  200, KL divergence 2.2067, 50 iterations in 6.1282 sec\n",
      "Iteration  250, KL divergence 2.1885, 50 iterations in 5.8712 sec\n",
      "Iteration  300, KL divergence 2.1767, 50 iterations in 8.2339 sec\n",
      "Iteration  350, KL divergence 2.1684, 50 iterations in 7.4646 sec\n",
      "Iteration  400, KL divergence 2.1625, 50 iterations in 7.0457 sec\n",
      "Iteration  450, KL divergence 2.1580, 50 iterations in 5.9989 sec\n",
      "Iteration  500, KL divergence 2.1543, 50 iterations in 6.0927 sec\n",
      "   --> Time elapsed: 71.93 seconds\n"
     ]
    }
   ],
   "source": [
    "# t-SNE dim reduce\n",
    "t_SNE = otsne(n_components=3, verbose=True)\n",
    "tsne_data = t_SNE.fit(PCA_data)"
   ]
  },
  {
   "cell_type": "code",
   "execution_count": 30,
   "metadata": {},
   "outputs": [],
   "source": [
    "type(tsne_data)\n",
    "np.save(\"t_sne_data.npy\", tsne_data)"
   ]
  },
  {
   "cell_type": "code",
   "execution_count": 8,
   "metadata": {},
   "outputs": [
    {
     "name": "stdout",
     "output_type": "stream",
     "text": [
      "===> Finding 15 nearest neighbors in existing embedding using Annoy approximate search...\n",
      "   --> Time elapsed: 0.02 seconds\n",
      "===> Calculating affinity matrix...\n",
      "   --> Time elapsed: 0.01 seconds\n",
      "===> Running optimization with exaggeration=4.00, lr=0.10 for 0 iterations...\n",
      "   --> Time elapsed: 0.00 seconds\n",
      "===> Running optimization with exaggeration=1.50, lr=0.10 for 250 iterations...\n",
      "Iteration   50, KL divergence 1280.6640, 50 iterations in 0.5554 sec\n",
      "Iteration  100, KL divergence 1226.4040, 50 iterations in 0.6304 sec\n",
      "Iteration  150, KL divergence 1204.4282, 50 iterations in 0.7517 sec\n",
      "Iteration  200, KL divergence 1197.7814, 50 iterations in 0.7124 sec\n",
      "Iteration  250, KL divergence 1191.3140, 50 iterations in 0.5299 sec\n",
      "   --> Time elapsed: 3.18 seconds\n"
     ]
    }
   ],
   "source": [
    "# fit ous data \n",
    "test_data = word_embeddings[368700:368835]\n",
    "test_documents = plain_text[368700:368835]\n",
    "\n",
    "pca_testdata = PCA.fit_transform(test_data)\n",
    "tsne_test = tsne_data.transform(pca_testdata)\n"
   ]
  },
  {
   "cell_type": "code",
   "execution_count": 22,
   "metadata": {},
   "outputs": [],
   "source": [
    "# pipeline_BERT submodel definition\n",
    "dim_model = BaseDimensionalityReduction()\n",
    "\n",
    "hdbscan_model = HDBSCAN(\n",
    "    min_cluster_size = 15,\n",
    "    metric='euclidean', # same as cosine for normalised data\n",
    "    cluster_selection_method='eom', \n",
    "    prediction_data=True)\n",
    "\n",
    "ctfidf_model = ClassTfidfTransformer(reduce_frequent_words=True)\n",
    "\n",
    "vectorizer_model = CountVectorizer(stop_words='english')"
   ]
  },
  {
   "cell_type": "code",
   "execution_count": 26,
   "metadata": {},
   "outputs": [
    {
     "name": "stderr",
     "output_type": "stream",
     "text": [
      "2023-03-28 17:49:45,097 - BERTopic - The dimensionality reduction algorithm did not contain the `y` parameter and therefore the `y` parameter was not used\n",
      "2023-03-28 17:49:45,108 - BERTopic - Reduced dimensionality\n",
      "2023-03-28 17:49:45,557 - BERTopic - Clustered reduced embeddings\n"
     ]
    }
   ],
   "source": [
    "# pipeline_BERT initialise and run\n",
    "\n",
    "pipeline_BERT = BERTopic(\n",
    "    umap_model=dim_model,\n",
    "    hdbscan_model=hdbscan_model,\n",
    "    ctfidf_model=ctfidf_model,\n",
    "    vectorizer_model = vectorizer_model,\n",
    "    calculate_probabilities=True,\n",
    "    low_memory=True, \n",
    "    verbose=True  # progress bar\n",
    "    ) \n",
    "\n",
    "topics, probs = pipeline_BERT.fit_transform(documents, tsne_data)\n",
    "\n",
    "pipeline_BERT.save('pipeline_BERT')"
   ]
  },
  {
   "cell_type": "code",
   "execution_count": 27,
   "metadata": {},
   "outputs": [
    {
     "data": {
      "text/plain": [
       "3"
      ]
     },
     "execution_count": 27,
     "metadata": {},
     "output_type": "execute_result"
    }
   ],
   "source": [
    "len(pipeline_BERT.get_topics())"
   ]
  },
  {
   "cell_type": "code",
   "execution_count": 28,
   "metadata": {},
   "outputs": [
    {
     "name": "stderr",
     "output_type": "stream",
     "text": [
      "2023-03-28 17:49:51,171 - BERTopic - Reduced dimensionality\n",
      "2023-03-28 17:49:51,253 - BERTopic - Calculated probabilities with HDBSCAN\n",
      "2023-03-28 17:49:51,254 - BERTopic - Predicted clusters\n"
     ]
    },
    {
     "data": {
      "text/plain": [
       "array([[9.99999952e-001, 2.98079151e-036],\n",
       "       [9.99999793e-001, 1.56079517e-007],\n",
       "       [9.60737606e-001, 3.92623416e-002],\n",
       "       [9.99999935e-001, 2.71438083e-031],\n",
       "       [9.99956448e-001, 4.34978870e-005],\n",
       "       [9.99999930e-001, 1.36638543e-070],\n",
       "       [9.99996288e-001, 3.66851214e-006],\n",
       "       [9.99999931e-001, 2.71243864e-224],\n",
       "       [9.99999931e-001, 7.97931364e-037],\n",
       "       [9.95499501e-001, 4.50045387e-003],\n",
       "       [9.99999947e-001, 2.51917670e-026],\n",
       "       [9.99999931e-001, 2.73928375e-224],\n",
       "       [9.84017481e-001, 1.59824751e-002],\n",
       "       [9.99556231e-001, 4.43696618e-004],\n",
       "       [9.99999937e-001, 6.95785569e-255],\n",
       "       [9.99999939e-001, 1.56690818e-019],\n",
       "       [9.99999942e-001, 4.32061695e-011],\n",
       "       [9.99999946e-001, 1.01681324e-051],\n",
       "       [9.59780381e-001, 1.22179534e-020],\n",
       "       [9.99999952e-001, 2.92898336e-284],\n",
       "       [9.99999953e-001, 0.00000000e+000],\n",
       "       [9.99999963e-001, 0.00000000e+000],\n",
       "       [9.99999946e-001, 8.40225869e-177],\n",
       "       [9.99999946e-001, 1.02843968e-049],\n",
       "       [9.99999952e-001, 6.33223618e-042],\n",
       "       [9.99999933e-001, 7.06591305e-013],\n",
       "       [9.99999945e-001, 2.64083301e-041],\n",
       "       [9.99999950e-001, 2.24480630e-016],\n",
       "       [9.99999943e-001, 4.54748766e-009],\n",
       "       [9.99999930e-001, 8.07140607e-048],\n",
       "       [9.99999951e-001, 2.92048084e-025],\n",
       "       [9.99999949e-001, 0.00000000e+000],\n",
       "       [9.99999947e-001, 1.37984912e-009],\n",
       "       [9.99999951e-001, 2.93683476e-025],\n",
       "       [9.99999942e-001, 0.00000000e+000],\n",
       "       [9.99999951e-001, 2.92059528e-025],\n",
       "       [9.99999951e-001, 2.93200210e-025],\n",
       "       [9.99999925e-001, 1.03698344e-010],\n",
       "       [9.99999946e-001, 1.92227059e-013],\n",
       "       [9.99999890e-001, 4.52667783e-008],\n",
       "       [9.99999952e-001, 0.00000000e+000],\n",
       "       [9.98632487e-001, 1.36746486e-003],\n",
       "       [9.99999953e-001, 5.45977599e-020],\n",
       "       [9.99999943e-001, 7.12155479e-011],\n",
       "       [9.99999963e-001, 4.81905365e-015],\n",
       "       [9.99999962e-001, 1.05885542e-011],\n",
       "       [9.99999931e-001, 2.04718764e-019],\n",
       "       [9.99999915e-001, 1.98661219e-008],\n",
       "       [9.99999954e-001, 0.00000000e+000],\n",
       "       [9.99999931e-001, 1.87450485e-008],\n",
       "       [9.10244225e-001, 1.49915158e-003],\n",
       "       [9.99999945e-001, 1.99667701e-017],\n",
       "       [9.99999955e-001, 0.00000000e+000],\n",
       "       [9.99999947e-001, 4.63028935e-038],\n",
       "       [7.65205053e-001, 7.86774058e-003],\n",
       "       [9.99999960e-001, 4.55242065e-015],\n",
       "       [9.99998998e-001, 9.42531440e-007],\n",
       "       [9.41334943e-001, 1.22372590e-013],\n",
       "       [9.99999941e-001, 2.32925692e-029],\n",
       "       [9.99999940e-001, 1.06913321e-008],\n",
       "       [9.99999952e-001, 9.33668745e-014],\n",
       "       [9.99999938e-001, 3.38060045e-017],\n",
       "       [9.99999952e-001, 0.00000000e+000],\n",
       "       [7.72970010e-001, 5.36040197e-003],\n",
       "       [9.99561086e-001, 4.38843374e-004],\n",
       "       [9.99999938e-001, 3.37174403e-017],\n",
       "       [9.26045857e-001, 8.33715039e-004],\n",
       "       [9.99999954e-001, 6.08689654e-024],\n",
       "       [9.99999951e-001, 9.35683190e-010],\n",
       "       [9.99999958e-001, 0.00000000e+000],\n",
       "       [9.99999958e-001, 0.00000000e+000],\n",
       "       [6.86861742e-001, 3.15059680e-002],\n",
       "       [9.99840456e-001, 1.59473091e-004],\n",
       "       [9.99064822e-001, 9.35104534e-004],\n",
       "       [9.99999941e-001, 3.23907932e-054],\n",
       "       [9.99999935e-001, 2.18609651e-009],\n",
       "       [8.67678940e-001, 1.93825619e-005],\n",
       "       [7.67269467e-001, 5.68504422e-003],\n",
       "       [9.99999942e-001, 1.71992760e-008],\n",
       "       [9.97477266e-001, 2.52268298e-003],\n",
       "       [9.99999651e-001, 2.97356097e-007],\n",
       "       [9.98609058e-001, 1.39089214e-003],\n",
       "       [9.97334874e-001, 2.66507568e-003],\n",
       "       [9.96282536e-001, 3.71741314e-003],\n",
       "       [9.99999946e-001, 2.12570377e-024],\n",
       "       [9.99999939e-001, 2.65793235e-021],\n",
       "       [8.81546657e-001, 1.18453278e-001],\n",
       "       [9.99999925e-001, 1.06638067e-008],\n",
       "       [9.34818434e-001, 3.18520964e-012],\n",
       "       [9.99999949e-001, 2.52313423e-080],\n",
       "       [9.99999946e-001, 6.53167978e-014],\n",
       "       [9.99999200e-001, 7.34628206e-007],\n",
       "       [9.99999953e-001, 4.76240237e-014],\n",
       "       [9.99999926e-001, 0.00000000e+000],\n",
       "       [9.99999926e-001, 0.00000000e+000],\n",
       "       [9.99999958e-001, 0.00000000e+000],\n",
       "       [9.99999962e-001, 0.00000000e+000],\n",
       "       [9.80957508e-001, 1.90424380e-002],\n",
       "       [9.97901968e-001, 2.09798232e-003],\n",
       "       [9.99999945e-001, 3.90270481e-017],\n",
       "       [9.92895598e-001, 7.10434962e-003],\n",
       "       [9.99999926e-001, 9.85876396e-009],\n",
       "       [9.99999946e-001, 3.42319779e-021],\n",
       "       [9.99999938e-001, 6.13020024e-014],\n",
       "       [9.99999945e-001, 2.90974098e-017],\n",
       "       [9.99999954e-001, 1.51483379e-106],\n",
       "       [9.99793602e-001, 2.06352987e-004],\n",
       "       [9.99999944e-001, 3.73425069e-013],\n",
       "       [9.99891377e-001, 1.08580444e-004],\n",
       "       [9.99999944e-001, 2.72208406e-012],\n",
       "       [9.99999940e-001, 5.79768538e-051],\n",
       "       [9.98147537e-001, 1.85241643e-003],\n",
       "       [8.00654567e-001, 2.38727173e-003],\n",
       "       [9.99999963e-001, 0.00000000e+000],\n",
       "       [9.99999960e-001, 8.43983727e-012],\n",
       "       [9.33050873e-001, 6.69490673e-002],\n",
       "       [9.99999950e-001, 5.51071324e-047],\n",
       "       [9.99282592e-001, 7.17363277e-004],\n",
       "       [9.99999955e-001, 6.30078511e-064],\n",
       "       [9.99999944e-001, 4.07870957e-012],\n",
       "       [9.99999941e-001, 5.58505974e-035],\n",
       "       [9.99999944e-001, 0.00000000e+000],\n",
       "       [9.99999944e-001, 0.00000000e+000],\n",
       "       [9.99999941e-001, 6.36376180e-072],\n",
       "       [9.99999927e-001, 1.88528915e-013],\n",
       "       [9.99999938e-001, 4.67449653e-009],\n",
       "       [9.99999962e-001, 3.79915980e-019],\n",
       "       [9.99999937e-001, 9.74074014e-011],\n",
       "       [9.99999916e-001, 2.55511567e-008],\n",
       "       [9.99999962e-001, 3.26224255e-010],\n",
       "       [9.99999958e-001, 0.00000000e+000],\n",
       "       [9.99999931e-001, 1.07339182e-162],\n",
       "       [9.99999739e-001, 2.03667908e-007],\n",
       "       [9.08815583e-001, 1.38387502e-008],\n",
       "       [8.44527808e-001, 1.33315118e-004]])"
      ]
     },
     "execution_count": 28,
     "metadata": {},
     "output_type": "execute_result"
    }
   ],
   "source": [
    "test_topics, test_proba = pipeline_BERT.transform(test_documents, tsne_test)\n",
    "test_proba"
   ]
  }
 ],
 "metadata": {
  "kernelspec": {
   "display_name": "Python 3",
   "language": "python",
   "name": "python3"
  },
  "language_info": {
   "codemirror_mode": {
    "name": "ipython",
    "version": 3
   },
   "file_extension": ".py",
   "mimetype": "text/x-python",
   "name": "python",
   "nbconvert_exporter": "python",
   "pygments_lexer": "ipython3",
   "version": "3.10.9"
  },
  "orig_nbformat": 4
 },
 "nbformat": 4,
 "nbformat_minor": 2
}
